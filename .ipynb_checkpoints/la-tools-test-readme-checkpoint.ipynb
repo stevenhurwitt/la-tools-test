{
 "cells": [
  {
   "cell_type": "markdown",
   "metadata": {},
   "source": [
    "# LA-tools\n",
    "\n",
    "Contains Python tools for Load Analytics department - Engie, NA.\n",
    "\n",
    "[![Binder](https://mybinder.org/badge_logo.svg)](https://la-tools-engie.southcentralus.cloudapp.azure.com/hub/user-redirect/git-pull?repo=https%3A%2F%2Fgithub.com%2Fstevenhurwitt%2Fla-tools-test&app=notebook)\n",
    "\n",
    "\n",
    "## 1. .json to .csv Parser\n",
    "Found in [this file in the main directory](/user/engiela/notebooks/la-tools-test/EWX_Forecast/Forecasts-JSONtoCSV.ipynb).\n",
    "\n",
    "Parses EWX .json files and outputs forecasts to .csv (can be used if EWX forecasts aren't coming through to ALPS).\n",
    "\n",
    "**To Do** Add functionality to parse payloads we send to EWX (can be used for tickets, to recover data, etc.).\n",
    "Add functionality to check heartbeat (time difference) of forecasts.\n",
    "\n",
    "## 2. EWX Forecasting Default IDR Flow\n",
    "Found in [EWX Forecasting Directory](/user/engiela/notebooks/la-tools-test/EWX_Forecast/EWX_Forecast_Main.ipynb)\n",
    "\n",
    "Attempts to replicate EWX Forecasting default flow configs. Workaround timeshift for a year of IDR data.\n",
    "\n",
    "## 3. IDR Drop\n",
    "Found in [IDR_Drop Directory](/user/engiela/notebooks/la-tools-test/IDR_Drop)\n",
    "\n",
    "1. [Email scrape tool](/user/engiela/notebooks/la-tools-test/IDR_Drop/emailscrape.py) - Parses utility emails for accounts, EPO logins and passwords.\n",
    "2. [EPO webscrape tool](/user/engiela/notebooks/la-tools-test/IDR_Drop/IDR_Drop_Portal.ipynb) - Automates downloading of IDR data from EPO portal.\n",
    "3. [IDR filter](/user/engiela/notebooks/la-tools-test/IDR_Drop/IDR_Drop.ipynb) - splits IDR data into Raw IDR files, filters raw IDR into ch. 1 and/or ch. 3 to be dropped into ALPS.\n",
    "4. [Main code](/user/engiela/notebooks/la-tools-test/IDR_Drop/Van_Pham_IDR_Drop.py) - puts everything together, to be automated.\n",
    "\n",
    "**To Do** Fix bug in webscrape, or make workaround where we can drop downloaded raw (groups of ~5) to directory where **IDR filter** will parse these into IDR_Success, IDR_Error folders\n",
    "\n",
    "## 4. GS Loader\n",
    "Found in [GS](user/engiela/notebooks/la-tools-test/GS) directory. Automates generation of GS files given user inputs."
   ]
  }
 ],
 "metadata": {
  "kernelspec": {
   "display_name": "Python 3",
   "language": "python",
   "name": "python3"
  },
  "language_info": {
   "codemirror_mode": {
    "name": "ipython",
    "version": 3
   },
   "file_extension": ".py",
   "mimetype": "text/x-python",
   "name": "python",
   "nbconvert_exporter": "python",
   "pygments_lexer": "ipython3",
   "version": "3.6.7"
  }
 },
 "nbformat": 4,
 "nbformat_minor": 2
}
