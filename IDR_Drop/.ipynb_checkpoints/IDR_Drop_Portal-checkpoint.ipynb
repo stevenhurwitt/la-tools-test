{
 "cells": [
  {
   "cell_type": "markdown",
   "metadata": {},
   "source": [
    "# NEPOOL IDR Drop"
   ]
  },
  {
   "cell_type": "markdown",
   "metadata": {},
   "source": [
    "Implements class to batch tasks used for IDR drops."
   ]
  },
  {
   "cell_type": "code",
   "execution_count": 4,
   "metadata": {},
   "outputs": [
    {
     "ename": "ModuleNotFoundError",
     "evalue": "No module named 'EPOwebscrape'",
     "output_type": "error",
     "traceback": [
      "\u001b[0;31m---------------------------------------------------------------------------\u001b[0m",
      "\u001b[0;31mModuleNotFoundError\u001b[0m                       Traceback (most recent call last)",
      "\u001b[0;32m<ipython-input-4-71a4651e325a>\u001b[0m in \u001b[0;36m<module>\u001b[0;34m\u001b[0m\n\u001b[1;32m     10\u001b[0m \u001b[0;32mimport\u001b[0m \u001b[0mnumpy\u001b[0m \u001b[0;32mas\u001b[0m \u001b[0mnp\u001b[0m\u001b[0;34m\u001b[0m\u001b[0m\n\u001b[1;32m     11\u001b[0m \u001b[0;32mimport\u001b[0m \u001b[0mIDRdrop\u001b[0m\u001b[0;34m\u001b[0m\u001b[0m\n\u001b[0;32m---> 12\u001b[0;31m \u001b[0;32mimport\u001b[0m \u001b[0mEPOwebscrape\u001b[0m\u001b[0;34m\u001b[0m\u001b[0m\n\u001b[0m\u001b[1;32m     13\u001b[0m \u001b[0;31m#import emailscrape\u001b[0m\u001b[0;34m\u001b[0m\u001b[0;34m\u001b[0m\u001b[0m\n\u001b[1;32m     14\u001b[0m \u001b[0;32mimport\u001b[0m \u001b[0mjson\u001b[0m\u001b[0;34m\u001b[0m\u001b[0m\n",
      "\u001b[0;31mModuleNotFoundError\u001b[0m: No module named 'EPOwebscrape'"
     ]
    }
   ],
   "source": [
    "import os\n",
    "basepath = '/Users/stevenhurwitt/LA-tools-test/IDR_Drop/'\n",
    "os.chdir(basepath)\n",
    "print('working in directory {}.'.format(basepath))\n",
    "from bs4 import BeautifulSoup\n",
    "from selenium.webdriver import Chrome\n",
    "from selenium.webdriver.chrome.options import Options\n",
    "import selenium.webdriver.support.ui as ui\n",
    "from selenium.webdriver.common.keys import Keys\n",
    "import selenium.webdriver as webdriver\n",
    "from pandas.io.json import json_normalize\n",
    "import datetime as dt\n",
    "import pandas as pd\n",
    "import numpy as np\n",
    "import IDRdrop\n",
    "import EPOwebscrape\n",
    "#import emailscrape\n",
    "import json"
   ]
  },
  {
   "cell_type": "code",
   "execution_count": null,
   "metadata": {},
   "outputs": [],
   "source": [
    "def bodies_json(bodies):\n",
    "\n",
    "    test = pd.DataFrame.from_dict(bodies, orient = 'index')\n",
    "\n",
    "    if type(test.date[0]) == str:\n",
    "            test.date = pd.to_datetime(test.date)\n",
    "\n",
    "    last_days = max(test.date) - dt.timedelta(7) \n",
    "\n",
    "    sub = test[test.date > last_days]\n",
    "        \n",
    "    accts_success = [len(accts) > 0 for accts in sub.accts]\n",
    "    accts_fail = [not val for val in accts_success]\n",
    "        \n",
    "    good = sub[accts_success].reset_index(drop = True)\n",
    "\n",
    "    email_error = []\n",
    "\n",
    "    if len(accts_fail) > 0:\n",
    "        bad = sub[accts_fail].reset_index()\n",
    "        mail_error = 'EMAIL_SCRAPE_ERROR.csv'\n",
    "\n",
    "        bad.to_csv(mail_error, header = True, index = False)\n",
    "\n",
    "    return(good)\n",
    "\n",
    "\n",
    "#output_dict, filename = emailscrape.get_emails()\n",
    "with open('email_bodies_05_30_2019.json', 'r') as f:\n",
    "    bodies = json.load(f)\n",
    "\n",
    "    bodies = json.loads(bodies)\n",
    "\n",
    "\n",
    "good = bodies_json(bodies)\n",
    "\n",
    "print('converted .json to dataframe')\n",
    "#print(good.head())\n",
    "#print('...')\n",
    "#print(good.tail())"
   ]
  },
  {
   "cell_type": "markdown",
   "metadata": {},
   "source": [
    "## Download files from EPO portal"
   ]
  },
  {
   "cell_type": "code",
   "execution_count": null,
   "metadata": {},
   "outputs": [
    {
     "name": "stdout",
     "output_type": "stream",
     "text": [
      "user:  nhengi-nash3n\n",
      "password:  7m5f7f\n",
      "logging on...\n",
      "error, accts ['800030802', '800194201'].\n",
      "done with 0 of 64.\n",
      "---------------------------\n",
      "user:  nhengi-hamp8n\n",
      "password:  2n5a2a\n",
      "logging on...\n",
      "error, accts ['800537201', '800581301'].\n",
      "done with 1 of 64.\n",
      "---------------------------\n",
      "user:  nhengi-oats6n\n",
      "password:  zu43z8\n",
      "logging on...\n",
      "error, accts ['800166101'].\n",
      "done with 2 of 64.\n",
      "---------------------------\n",
      "user:  nhengi-brit8n\n",
      "password:  4s4e7s\n",
      "logging on...\n",
      "error, accts ['800582101'].\n",
      "done with 3 of 64.\n",
      "---------------------------\n",
      "user:  nhengi-text9n\n",
      "password:  7u4n4f\n",
      "logging on...\n",
      "error, accts ['800497301', '800497304', '800497305'].\n",
      "done with 4 of 64.\n",
      "---------------------------\n",
      "user:  nhengi-xinc5n\n",
      "password:  uu36u5\n",
      "logging on...\n",
      "error, accts ['800530803'].\n",
      "done with 5 of 64.\n",
      "---------------------------\n",
      "user:  nhengi-seac5n\n",
      "password:  zu43z8\n",
      "logging on...\n",
      "error, accts ['800458501'].\n",
      "done with 6 of 64.\n",
      "---------------------------\n",
      "user:  nhengi-whit8n\n",
      "password:  zm53z8\n",
      "logging on...\n",
      "error, accts ['800084001'].\n",
      "done with 7 of 64.\n",
      "---------------------------\n",
      "user:  fbank-engie\n",
      "password:  a362b\n",
      "logging on...\n",
      "set to last  400  days.\n",
      "logging on...\n",
      "looking for accts ['51479802043_956841004', '51386152045_404471006', '51711052035_422371006'].\n"
     ]
    },
    {
     "name": "stderr",
     "output_type": "stream",
     "text": [
      "/Users/stevenhurwitt/la-tools-test/IDR_Drop/EPOwebscrape.py:156: UserWarning: No parser was explicitly specified, so I'm using the best available HTML parser for this system (\"html5lib\"). This usually isn't a problem, but if you run this code on another system, or in a different virtual environment, it may use a different parser and behave differently.\n",
      "\n",
      "The code that caused this warning is on line 156 of the file /Users/stevenhurwitt/la-tools-test/IDR_Drop/EPOwebscrape.py. To get rid of this warning, pass the additional argument 'features=\"html5lib\"' to the BeautifulSoup constructor.\n",
      "\n",
      "  soup = BeautifulSoup(browser.page_source)\n"
     ]
    },
    {
     "name": "stdout",
     "output_type": "stream",
     "text": [
      "found items in portal.\n",
      "trying search & download...\n",
      "disabling demand...\n",
      "selecting hourly interval...\n",
      "submitting...\n",
      "downloaded EPO data file.\n",
      "exported ['406258', '406003', '325764'].\n",
      "done with 8 of 64.\n",
      "---------------------------\n",
      "user:  400a-engie\n",
      "password:  733gg\n",
      "logging on...\n",
      "error, accts ['51414072009_412481000'].\n",
      "done with 9 of 64.\n",
      "---------------------------\n",
      "user:  mar-nengie\n",
      "password:  gwg153\n",
      "logging on...\n",
      "error, accts ['27163830014', '16107510014', '28837550020'].\n",
      "done with 10 of 64.\n",
      "---------------------------\n",
      "user:  mar1-ndirect\n",
      "password:  94arbb\n",
      "logging on...\n",
      "set to last  400  days.\n",
      "logging on...\n",
      "looking for accts ['28837550020'].\n",
      "found items in portal.\n",
      "trying search & download...\n",
      "disabling demand...\n",
      "selecting hourly interval...\n",
      "submitting...\n",
      "error, accts ['28837550020'].\n",
      "done with 11 of 64.\n",
      "---------------------------\n",
      "user:  cmj1-nengie\n",
      "password:  55gmgt\n",
      "logging on...\n",
      "set to last  400  days.\n",
      "logging on...\n",
      "looking for accts ['26281241005', '26281231006', '26281221007', '26281131008', '26281051008', '26280901005', '26280851002', '26280821005', '26280811006', '26280791000', '26280781001'].\n",
      "found items in portal.\n",
      "trying search & download...\n",
      "disabling demand...\n",
      "selecting hourly interval...\n",
      "submitting...\n",
      "error, accts ['26281241005', '26281231006', '26281221007', '26281131008', '26281051008', '26280901005', '26280851002', '26280821005', '26280811006', '26280791000', '26280781001'].\n",
      "done with 12 of 64.\n",
      "---------------------------\n",
      "user:  acm-nengie\n",
      "password:  95jbtt\n",
      "logging on...\n",
      "set to last  400  days.\n",
      "logging on...\n",
      "looking for accts ['27126800013'].\n",
      "found items in portal.\n",
      "trying search & download...\n",
      "disabling demand...\n",
      "selecting hourly interval...\n",
      "submitting...\n",
      "error, accts ['27126800013'].\n",
      "done with 13 of 64.\n",
      "---------------------------\n",
      "user:  345-nengie\n",
      "password:  gkw195\n",
      "logging on...\n",
      "set to last  400  days.\n",
      "logging on...\n",
      "looking for accts ['29808330012', '29808320013'].\n",
      "found items in portal.\n",
      "trying search & download...\n",
      "disabling demand...\n",
      "selecting hourly interval...\n",
      "submitting...\n",
      "downloaded EPO data file.\n",
      "exported ['406100', '406103'].\n",
      "done with 14 of 64.\n",
      "---------------------------\n",
      "user:  321-nengie\n",
      "password:  err915\n",
      "logging on...\n",
      "set to last  400  days.\n",
      "logging on...\n",
      "looking for accts ['26272021044'].\n",
      "found items in portal.\n",
      "trying search & download...\n",
      "disabling demand...\n",
      "selecting hourly interval...\n",
      "submitting...\n",
      "error, accts ['26272021044'].\n",
      "done with 15 of 64.\n",
      "---------------------------\n",
      "user:  hre1-nengie\n",
      "password:  2665pe\n",
      "logging on...\n",
      "set to last  400  days.\n",
      "logging on...\n",
      "looking for accts ['25857301037'].\n",
      "found items in portal.\n",
      "trying search & download...\n",
      "disabling demand...\n",
      "selecting hourly interval...\n",
      "submitting...\n",
      "error, accts ['25857301037'].\n",
      "done with 16 of 64.\n",
      "---------------------------\n",
      "user:  costas-nengie\n",
      "password:  bpbe13\n",
      "logging on...\n",
      "set to last  400  days.\n",
      "logging on...\n",
      "looking for accts ['25769661015', '25770251012'].\n",
      "found items in portal.\n",
      "trying search & download...\n",
      "disabling demand...\n",
      "selecting hourly interval...\n",
      "submitting...\n",
      "downloaded EPO data file.\n",
      "exported ['405847', '406091'].\n",
      "done with 17 of 64.\n",
      "---------------------------\n",
      "user:  boyl-nengie\n",
      "password:  14wytt\n",
      "logging on...\n",
      "set to last  400  days.\n",
      "logging on...\n",
      "looking for accts ['28687630013'].\n",
      "found items in portal.\n",
      "trying search & download...\n",
      "disabling demand...\n",
      "selecting hourly interval...\n",
      "submitting...\n",
      "error, accts ['28687630013'].\n",
      "done with 18 of 64.\n",
      "---------------------------\n",
      "user:  jcp-engie\n",
      "password:  pc887\n",
      "logging on...\n",
      "set to last  400  days.\n",
      "logging on...\n",
      "looking for accts ['51865162093_819871004', '51288552094_787671005', '51399832070_524661001', '51285642047_461071008', '51439943085_621632006', '51670893023_471562004'].\n",
      "found items in portal.\n",
      "trying search & download...\n",
      "disabling demand...\n",
      "selecting hourly interval...\n",
      "submitting...\n",
      "error, accts ['51865162093_819871004', '51288552094_787671005', '51399832070_524661001', '51285642047_461071008', '51439943085_621632006', '51670893023_471562004'].\n",
      "done with 19 of 64.\n",
      "---------------------------\n",
      "user:  rcc-nengie\n",
      "password:  21tbb2\n",
      "logging on...\n",
      "set to last  400  days.\n",
      "logging on...\n",
      "looking for accts ['26036891005', '26036761000'].\n",
      "found items in portal.\n",
      "trying search & download...\n",
      "disabling demand...\n",
      "selecting hourly interval...\n",
      "submitting...\n",
      "downloaded EPO data file.\n",
      "exported ['345398', '345395'].\n",
      "done with 20 of 64.\n",
      "---------------------------\n",
      "user:  rl-nengie\n",
      "password:  ke9594\n",
      "logging on...\n",
      "set to last  400  days.\n",
      "logging on...\n",
      "looking for accts ['29897280011'].\n",
      "found items in portal.\n",
      "trying search & download...\n",
      "disabling demand...\n",
      "selecting hourly interval...\n",
      "submitting...\n",
      "error, accts ['29897280011'].\n",
      "done with 21 of 64.\n",
      "---------------------------\n",
      "user:  bob-nengie\n",
      "password:  3436sh\n",
      "logging on...\n",
      "set to last  400  days.\n",
      "logging on...\n",
      "looking for accts ['28307660010'].\n",
      "found items in portal.\n",
      "trying search & download...\n",
      "disabling demand...\n",
      "selecting hourly interval...\n",
      "submitting...\n",
      "error, accts ['28307660010'].\n",
      "done with 22 of 64.\n",
      "---------------------------\n",
      "user:  jcam-nengie\n",
      "password:  sxsx13\n",
      "logging on...\n",
      "set to last  400  days.\n",
      "logging on...\n",
      "looking for accts ['25835511020'].\n",
      "found items in portal.\n",
      "trying search & download...\n",
      "disabling demand...\n",
      "selecting hourly interval...\n",
      "submitting...\n",
      "error, accts ['25835511020'].\n",
      "done with 23 of 64.\n",
      "---------------------------\n",
      "user:  lc-nengie\n",
      "password:  7979sw\n",
      "logging on...\n",
      "set to last  400  days.\n",
      "logging on...\n",
      "looking for accts ['26312791002'].\n",
      "found items in portal.\n",
      "trying search & download...\n",
      "disabling demand...\n",
      "selecting hourly interval...\n",
      "submitting...\n",
      "error, accts ['26312791002'].\n",
      "done with 24 of 64.\n",
      "---------------------------\n",
      "user:  onb-nengie\n",
      "password:  ertt33\n",
      "logging on...\n",
      "set to last  400  days.\n",
      "logging on...\n",
      "looking for accts ['29001890010', '29001880011'].\n",
      "found items in portal.\n",
      "trying search & download...\n",
      "disabling demand...\n",
      "selecting hourly interval...\n",
      "submitting...\n",
      "downloaded EPO data file.\n",
      "exported ['367560', '270625'].\n",
      "done with 25 of 64.\n",
      "---------------------------\n",
      "user:  norfolk-nengie\n",
      "password:  rhkk13\n",
      "logging on...\n",
      "set to last  400  days.\n",
      "logging on...\n",
      "looking for accts ['26112151001'].\n",
      "found items in portal.\n",
      "trying search & download...\n",
      "disabling demand...\n",
      "selecting hourly interval...\n",
      "submitting...\n",
      "error, accts ['26112151001'].\n",
      "done with 26 of 64.\n",
      "---------------------------\n",
      "user:  opg-nengie\n",
      "password:  pbb326\n",
      "logging on...\n",
      "set to last  400  days.\n",
      "logging on...\n",
      "looking for accts ['26558301011'].\n",
      "login error.\n",
      "trying search & download...\n",
      "error, accts ['26558301011'].\n",
      "done with 27 of 64.\n",
      "---------------------------\n",
      "user:  bo1-nengie\n",
      "password:  rr8955\n",
      "logging on...\n"
     ]
    }
   ],
   "source": [
    "results = []\n",
    "\n",
    "for row in range(0, len(good.accts)):\n",
    "    try:\n",
    "        EPOwebscrape.idr_download(row, good)\n",
    "        results.append(True)\n",
    "        print('done with {} of {}.'.format(row, len(good.accts)))\n",
    "        print('---------------------------')\n",
    "    except:\n",
    "        print('error, accts {}.'.format(good.accts[row]))\n",
    "        results.append(False)\n",
    "        print('done with {} of {}.'.format(row, len(good.accts)))\n",
    "        print('---------------------------')\n",
    "        \n",
    "good['success'] = results"
   ]
  },
  {
   "cell_type": "markdown",
   "metadata": {},
   "source": [
    "## Show downloaded files from EPO portal"
   ]
  },
  {
   "cell_type": "markdown",
   "metadata": {},
   "source": [
    "Here *filepath* is a directory containing downloaded EPO files. Code will print 20 most recent files."
   ]
  },
  {
   "cell_type": "code",
   "execution_count": 3,
   "metadata": {},
   "outputs": [
    {
     "name": "stdout",
     "output_type": "stream",
     "text": [
      "files found in dir:  /Users/stevenhurwitt/la-tools-test/IDR_Drop/Downloads\n",
      "      files                time\n",
      "0  init.git 2019-09-02 08:49:21\n"
     ]
    }
   ],
   "source": [
    "#filepath = os.getcwd()\n",
    "readpath = '/Users/stevenhurwitt/la-tools-test/IDR_Drop/Downloads'\n",
    "\n",
    "myfiles = IDRdrop.show_dir(readpath, 20)\n",
    "print(myfiles)"
   ]
  },
  {
   "cell_type": "markdown",
   "metadata": {},
   "source": [
    "Choose files to split into Raw IDR files."
   ]
  },
  {
   "cell_type": "code",
   "execution_count": 5,
   "metadata": {},
   "outputs": [
    {
     "name": "stdout",
     "output_type": "stream",
     "text": [
      "files to split: \n",
      "['ngrid_b3225013-4439-45ae-a205-95983fe51c20_dae9a93c_hourlycsv.csv', 'ngrid_389a101a-0dcf-4027-908e-927561fd3f3a_ca3abaec_hourlycsv.csv', 'ngrid_18f051fb-1aad-40a3-ae59-2abc659323a1_bef34c8a_hourlycsv.csv', 'ngrid_b65a2843-1e0d-4007-bcec-240bb80844ac_8252fe57_hourlycsv.csv', 'ngrid_4dfb5eb6-0878-4107-aee0-b54a53523487_bcc3a42c_hourlycsv.csv', 'ngrid_23358185-c1fc-48fb-b878-ff809814525a_4842804b_hourlycsv.csv']\n"
     ]
    }
   ],
   "source": [
    "index = [0]\n",
    "\n",
    "splitfiles = list(myfiles.files[:6])\n",
    "print('files to split: ')\n",
    "print(splitfiles)"
   ]
  },
  {
   "cell_type": "markdown",
   "metadata": {},
   "source": [
    "## Batch process downloaded EPO files into Raw IDRs"
   ]
  },
  {
   "cell_type": "code",
   "execution_count": 6,
   "metadata": {},
   "outputs": [
    {
     "name": "stdout",
     "output_type": "stream",
     "text": [
      "found 4 accounts.\n",
      "0347780009_MECO_IDR_RAW.csv  written.\n",
      "3940856005_MECO_IDR_RAW.csv  written.\n",
      "7678649009_MECO_IDR_RAW.csv  written.\n",
      "9052467007_MECO_IDR_RAW.csv  written.\n",
      "success, file:  ngrid_b3225013-4439-45ae-a205-95983fe51c20_dae9a93c_hourlycsv.csv\n",
      "found 1 accounts.\n",
      "0169384016_MECO_IDR_RAW.csv  written.\n",
      "success, file:  ngrid_389a101a-0dcf-4027-908e-927561fd3f3a_ca3abaec_hourlycsv.csv\n",
      "found 5 accounts.\n",
      "success, file:  ngrid_18f051fb-1aad-40a3-ae59-2abc659323a1_bef34c8a_hourlycsv.csv\n",
      "found 1 accounts.\n",
      "5373369008_MECO_IDR_RAW.csv  written.\n",
      "success, file:  ngrid_b65a2843-1e0d-4007-bcec-240bb80844ac_8252fe57_hourlycsv.csv\n",
      "found 4 accounts.\n",
      "0021483009_MECO_IDR_RAW.csv  written.\n",
      "0040677012_MECO_IDR_RAW.csv  written.\n",
      "success, file:  ngrid_4dfb5eb6-0878-4107-aee0-b54a53523487_bcc3a42c_hourlycsv.csv\n",
      "found 4 accounts.\n",
      "success, file:  ngrid_23358185-c1fc-48fb-b878-ff809814525a_4842804b_hourlycsv.csv\n"
     ]
    }
   ],
   "source": [
    "readpath = '/Users/stevenhurwitt/Downloads'\n",
    "writepath = '/Users/stevenhurwitt/LA-tools-master/IDR_Drop/Raw IDR Data'\n",
    "utility = 'MECO'\n",
    "error_log = []\n",
    "\n",
    "for file in splitfiles:\n",
    "    #try:\n",
    "    os.chdir(readpath)\n",
    "    filedf = pd.read_csv(file, sep = \",\", header = 0)\n",
    "    \n",
    "    IDRdrop.raw_split(filedf, readpath, writepath, utility)\n",
    "    print('success, file: ', file)\n",
    "        \n",
    "    #except:\n",
    "        #print('error, file: ', file)"
   ]
  },
  {
   "cell_type": "markdown",
   "metadata": {},
   "source": [
    "## Show Raw IDR files based on utility"
   ]
  },
  {
   "cell_type": "code",
   "execution_count": 3,
   "metadata": {},
   "outputs": [],
   "source": [
    "utility = \"CLP\""
   ]
  },
  {
   "cell_type": "markdown",
   "metadata": {},
   "source": [
    "Here *rawpath* is directory containing Raw IDRs - 25 most recent will be shown."
   ]
  },
  {
   "cell_type": "code",
   "execution_count": 7,
   "metadata": {},
   "outputs": [
    {
     "name": "stdout",
     "output_type": "stream",
     "text": [
      "files found in dir:  /Users/stevenhurwitt/LA-tools-master/IDR_Drop/Raw IDR Data\n",
      "                                             files                time\n",
      "0                      0040677012_MECO_IDR_RAW.csv 2019-09-01 22:15:41\n",
      "1                      0169384016_MECO_IDR_RAW.csv 2019-09-01 22:15:41\n",
      "2                      0021483009_MECO_IDR_RAW.csv 2019-09-01 22:15:41\n",
      "3                      9052467007_MECO_IDR_RAW.csv 2019-09-01 22:15:41\n",
      "4                      3940856005_MECO_IDR_RAW.csv 2019-09-01 22:15:41\n",
      "5                      0347780009_MECO_IDR_RAW.csv 2019-09-01 22:15:41\n",
      "6                      5373369008_MECO_IDR_RAW.csv 2019-09-01 22:15:41\n",
      "7                      7678649009_MECO_IDR_RAW.csv 2019-09-01 22:15:41\n",
      "8                       0021483009MECO_IDR_RAW.csv 2019-09-01 22:14:51\n",
      "9                       3940856005MECO_IDR_RAW.csv 2019-09-01 22:14:51\n",
      "10                      7678649009MECO_IDR_RAW.csv 2019-09-01 22:14:51\n",
      "11                      0040677012MECO_IDR_RAW.csv 2019-09-01 22:14:51\n",
      "12                      5373369008MECO_IDR_RAW.csv 2019-09-01 22:14:51\n",
      "13                      9052467007MECO_IDR_RAW.csv 2019-09-01 22:14:51\n",
      "14                      0169384016MECO_IDR_RAW.csv 2019-09-01 22:14:51\n",
      "15                      0347780009MECO_IDR_RAW.csv 2019-09-01 22:14:50\n",
      "16         WMECO_54860202068_808441009_IDR_RAW.csv 2019-07-12 08:12:45\n",
      "17         WMECO_54260602099_085741000_IDR_RAW.csv 2019-07-12 08:12:45\n",
      "18  0067880031 OLD STURBRIDGE INC_MECO_IDR_RAW.csv 2019-07-12 08:12:45\n",
      "19              0021483009 700457_MECO_IDR_RAW.csv 2019-07-12 08:12:45\n",
      "20           CLP_51103183075_555823005_IDR_RAW.csv 2019-07-12 08:12:45\n",
      "21           CLP_51359134038_871682009_IDR_RAW.csv 2019-07-12 08:12:45\n",
      "22           CLP_51972166003_989681003_IDR_RAW.csv 2019-07-12 08:12:45\n",
      "23           CLP_51074577008_308122004_IDR_RAW.csv 2019-07-12 08:12:45\n",
      "24              0021483009 700458_MECO_IDR_RAW.csv 2019-07-12 08:12:45\n"
     ]
    }
   ],
   "source": [
    "rawfiles = IDRdrop.show_dir(writepath, 25)\n",
    "print(rawfiles)"
   ]
  },
  {
   "cell_type": "markdown",
   "metadata": {},
   "source": [
    "Choose Raw IDRs to filter into IDR files."
   ]
  },
  {
   "cell_type": "code",
   "execution_count": 9,
   "metadata": {},
   "outputs": [
    {
     "name": "stdout",
     "output_type": "stream",
     "text": [
      "files to processed: \n",
      "['0040677012_MECO_IDR_RAW.csv', '0169384016_MECO_IDR_RAW.csv', '0021483009_MECO_IDR_RAW.csv', '9052467007_MECO_IDR_RAW.csv', '3940856005_MECO_IDR_RAW.csv', '0347780009_MECO_IDR_RAW.csv', '5373369008_MECO_IDR_RAW.csv', '7678649009_MECO_IDR_RAW.csv']\n"
     ]
    }
   ],
   "source": [
    "index = [36]\n",
    "\n",
    "processfiles = list(rawfiles.files[:8])\n",
    "print('files to processed: ')\n",
    "print(processfiles)"
   ]
  },
  {
   "cell_type": "markdown",
   "metadata": {},
   "source": [
    "## Batch filter Raw IDR into IDR files to be dropped"
   ]
  },
  {
   "cell_type": "code",
   "execution_count": 17,
   "metadata": {},
   "outputs": [
    {
     "name": "stdout",
     "output_type": "stream",
     "text": [
      "success, file:  0040677012_MECO_IDR_RAW.csv\n",
      "success, file:  0169384016_MECO_IDR_RAW.csv\n",
      "success, file:  0021483009_MECO_IDR_RAW.csv\n",
      "success, file:  9052467007_MECO_IDR_RAW.csv\n",
      "success, file:  3940856005_MECO_IDR_RAW.csv\n",
      "success, file:  0347780009_MECO_IDR_RAW.csv\n",
      "success, file:  5373369008_MECO_IDR_RAW.csv\n",
      "success, file:  7678649009_MECO_IDR_RAW.csv\n"
     ]
    }
   ],
   "source": [
    "readpath = '/Users/stevenhurwitt/LA-tools-master/IDR_Drop/Raw IDR Data'\n",
    "writepath = '/Users/stevenhurwitt/LA-tools-master/IDR_Drop/IDR Data/NEPOOL/'\n",
    "error_log = []\n",
    "\n",
    "for dropfile in processfiles:\n",
    "    try:\n",
    "        IDRdrop.data_drop(dropfile, readpath, writepath)\n",
    "        print('success, file: ', dropfile)\n",
    "    \n",
    "    except:\n",
    "        error_log = error_log.append(dropfile)\n",
    "        print(\"error, file: \", dropfile)"
   ]
  },
  {
   "cell_type": "code",
   "execution_count": null,
   "metadata": {},
   "outputs": [],
   "source": [
    "error_log"
   ]
  },
  {
   "cell_type": "code",
   "execution_count": 18,
   "metadata": {},
   "outputs": [
    {
     "data": {
      "text/plain": [
       "['BeautifulSoup',\n",
       " 'Chrome',\n",
       " 'Keys',\n",
       " 'Options',\n",
       " '__builtins__',\n",
       " '__cached__',\n",
       " '__doc__',\n",
       " '__file__',\n",
       " '__loader__',\n",
       " '__name__',\n",
       " '__package__',\n",
       " '__spec__',\n",
       " 'acct_match',\n",
       " 'big_match',\n",
       " 'check_the_box',\n",
       " 'export_data',\n",
       " 'json',\n",
       " 'json_normalize',\n",
       " 'logon',\n",
       " 'np',\n",
       " 'os',\n",
       " 'pd',\n",
       " 'ui',\n",
       " 'webdriver']"
      ]
     },
     "execution_count": 18,
     "metadata": {},
     "output_type": "execute_result"
    }
   ],
   "source": [
    "dir(EPOwebscrape)"
   ]
  },
  {
   "cell_type": "code",
   "execution_count": null,
   "metadata": {},
   "outputs": [],
   "source": []
  },
  {
   "cell_type": "code",
   "execution_count": null,
   "metadata": {},
   "outputs": [],
   "source": []
  }
 ],
 "metadata": {
  "kernelspec": {
   "display_name": "Python 3",
   "language": "python",
   "name": "python3"
  },
  "language_info": {
   "codemirror_mode": {
    "name": "ipython",
    "version": 3
   },
   "file_extension": ".py",
   "mimetype": "text/x-python",
   "name": "python",
   "nbconvert_exporter": "python",
   "pygments_lexer": "ipython3",
   "version": "3.6.4"
  }
 },
 "nbformat": 4,
 "nbformat_minor": 2
}
