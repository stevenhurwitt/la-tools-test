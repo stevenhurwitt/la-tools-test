{
 "cells": [
  {
   "cell_type": "markdown",
   "metadata": {},
   "source": [
    "# NEPOOL IDR Drop"
   ]
  },
  {
   "cell_type": "markdown",
   "metadata": {},
   "source": [
    "Email scrape web logins"
   ]
  },
  {
   "cell_type": "code",
   "execution_count": null,
   "metadata": {},
   "outputs": [
    {
     "name": "stdout",
     "output_type": "stream",
     "text": [
      "working in directory C:\\Users\\wb5888\\la-tools-test\\IDR_Drop.\n",
      "228 aaron emails, 1008 epo emails 399 ngrid emails\n",
      "scraping emails...\n"
     ]
    }
   ],
   "source": [
    "import os\n",
    "basepath = 'C:\\\\Users\\wb5888\\la-tools-test\\IDR_Drop'\n",
    "os.chdir(basepath)\n",
    "print('working in directory {}.'.format(basepath))\n",
    "\n",
    "from bs4 import BeautifulSoup\n",
    "from selenium.webdriver import Chrome\n",
    "from selenium.webdriver.chrome.options import Options\n",
    "import selenium.webdriver.support.ui as ui\n",
    "from selenium.webdriver.common.keys import Keys\n",
    "import selenium.webdriver as webdriver\n",
    "from pandas.io.json import json_normalize\n",
    "import datetime as dt\n",
    "import pandas as pd\n",
    "import numpy as np\n",
    "import IDRdrop\n",
    "import EPOwebscrape\n",
    "import emailscrape\n",
    "import json"
   ]
  },
  {
   "cell_type": "code",
   "execution_count": null,
   "metadata": {},
   "outputs": [],
   "source": [
    "filename = 'email_bodies_09_30_2019.json'"
   ]
  },
  {
   "cell_type": "code",
   "execution_count": null,
   "metadata": {},
   "outputs": [],
   "source": [
    "def bodies_json(bodies):\n",
    "\n",
    "    test = pd.DataFrame.from_dict(bodies, orient = 'index')\n",
    "\n",
    "    if type(test.date[0]) == str:\n",
    "            test.date = pd.to_datetime(test.date)\n",
    "\n",
    "    accts_success = [len(accts) > 0 for accts in test.accts]\n",
    "    accts_fail = [not val for val in accts_success]\n",
    "        \n",
    "    good = test[accts_success].reset_index(drop = True)\n",
    "    util = []\n",
    "    \n",
    "    for i, a in enumerate(good.accts):\n",
    "        first_acct = a[0]\n",
    "        leading = a[0][:2]\n",
    "        \n",
    "        if leading == '80':\n",
    "            util.append('PSNH')\n",
    "            \n",
    "        elif leading == '51' and (len(first_acct.split('_')) > 1):\n",
    "            util.append('CLP')\n",
    "            \n",
    "        elif leading == '54' and (len(first_acct.split('_')) > 1):\n",
    "            util.append('WMECO')\n",
    "                \n",
    "        else:\n",
    "            if 'SUEZ' in good.user[i]:\n",
    "                util.append('NGRID')\n",
    "                \n",
    "            else:\n",
    "                util.append('NSTAR')\n",
    "            \n",
    "    good['util'] = util\n",
    "        \n",
    "\n",
    "    email_error = []\n",
    "\n",
    "    if len(accts_fail) > 0:\n",
    "        bad = test[accts_fail].reset_index()\n",
    "        mail_error = 'EMAIL_SCRAPE_ERROR.csv'\n",
    "\n",
    "        bad.to_csv(mail_error, header = True, index = False)\n",
    "\n",
    "    return(good)"
   ]
  },
  {
   "cell_type": "code",
   "execution_count": null,
   "metadata": {},
   "outputs": [],
   "source": [
    "#output_dict, filename = emailscrape.get_emails()\n",
    "with open(filename, 'r') as f:\n",
    "    bodies = json.load(f)\n",
    "\n",
    "    bodies = json.loads(bodies)\n",
    "\n",
    "good = bodies_json(bodies)\n",
    "\n",
    "print('converted .json to dataframe')\n",
    "print(good.head())\n",
    "print('...')\n",
    "print(good.tail())"
   ]
  },
  {
   "cell_type": "code",
   "execution_count": null,
   "metadata": {},
   "outputs": [],
   "source": [
    "outfile = filename.split('.')[0]\n",
    "outfile = '.'.join([outfile, 'xlsx'])\n",
    "good.to_excel(outfile, index = False)\n",
    "print('wrote {} to {}'.format(outfile, basepath))"
   ]
  },
  {
   "cell_type": "markdown",
   "metadata": {},
   "source": [
    "## Exclude PSNH"
   ]
  },
  {
   "cell_type": "code",
   "execution_count": null,
   "metadata": {},
   "outputs": [],
   "source": [
    "np.unique(good.util)"
   ]
  },
  {
   "cell_type": "code",
   "execution_count": null,
   "metadata": {},
   "outputs": [],
   "source": [
    "good = good[[good.util != 'PSNH']]"
   ]
  },
  {
   "cell_type": "markdown",
   "metadata": {},
   "source": [
    "## Download files from EPO portal"
   ]
  },
  {
   "cell_type": "code",
   "execution_count": null,
   "metadata": {},
   "outputs": [
    {
     "name": "stdout",
     "output_type": "stream",
     "text": [
      "user:  nhengi-bayl5n\n",
      "password:  45ke7s\n",
      "logging on...\n",
      "set to last  400  days.\n",
      "logging on...\n",
      "looking for accts ['800508501'].\n",
      "found items in portal.\n",
      "trying search & download...\n",
      "done with 1 of 1475.\n",
      "----------------------------\n"
     ]
    },
    {
     "name": "stderr",
     "output_type": "stream",
     "text": [
      "C:\\Users\\wb5888\\la-tools-test\\IDR_Drop\\EPOwebscrape.py:164: UserWarning: No parser was explicitly specified, so I'm using the best available HTML parser for this system (\"html.parser\"). This usually isn't a problem, but if you run this code on another system, or in a different virtual environment, it may use a different parser and behave differently.\n",
      "\n",
      "The code that caused this warning is on line 164 of the file C:\\Users\\wb5888\\la-tools-test\\IDR_Drop\\EPOwebscrape.py. To get rid of this warning, pass the additional argument 'features=\"html.parser\"' to the BeautifulSoup constructor.\n",
      "\n",
      "  soup = BeautifulSoup(browser.page_source)\n"
     ]
    },
    {
     "name": "stdout",
     "output_type": "stream",
     "text": [
      "user:  nhengi-spec2n\n",
      "password:  86km3h\n",
      "logging on...\n",
      "set to last  400  days.\n",
      "logging on...\n",
      "looking for accts ['800522301'].\n",
      "found items in portal.\n",
      "trying search & download...\n",
      "done with 2 of 1475.\n",
      "----------------------------\n",
      "user:  nhengi-pola7n\n",
      "password:  x6h4x7\n",
      "logging on...\n",
      "set to last  400  days.\n",
      "logging on...\n",
      "looking for accts ['800470202'].\n",
      "found items in portal.\n",
      "trying search & download...\n",
      "done with 3 of 1475.\n",
      "----------------------------\n",
      "user:  nhengi-fire1n\n",
      "password:  u6h6u5\n",
      "logging on...\n",
      "set to last  400  days.\n",
      "logging on...\n",
      "looking for accts ['800113101'].\n",
      "found items in portal.\n",
      "trying search & download...\n",
      "done with 4 of 1475.\n",
      "----------------------------\n",
      "user:  nhengi-pepp1n\n",
      "password:  s6h7s4\n",
      "logging on...\n",
      "set to last  400  days.\n",
      "logging on...\n",
      "looking for accts ['800516201', '800516202'].\n",
      "found items in portal.\n",
      "trying search & download...\n",
      "done with 5 of 1475.\n",
      "----------------------------\n",
      "user:  nhengi-taps8n\n",
      "password:  k6h2k9\n",
      "logging on...\n",
      "error, accts ['800489101'].\n",
      "done with 6 of 1475.\n",
      "----------------------------\n"
     ]
    }
   ],
   "source": [
    "result = []\n",
    "\n",
    "for row in range(0, len(good.accts)):\n",
    "    try:\n",
    "        EPOwebscrape.idr_download(row, good)\n",
    "        result.append(True)\n",
    "        print('done with {} of {}.'.format(row+1, len(good.accts)))\n",
    "        print('----------------------------')\n",
    "        \n",
    "    except:\n",
    "        print('error, accts {}.'.format(good.accts[row]))\n",
    "        result.append(False)\n",
    "        print('done with {} of {}.'.format(row+1, len(good.accts)))\n",
    "        print('----------------------------')\n",
    "\n",
    "print('writing results to csv...')\n",
    "good['success'] = result\n",
    "good.to_csv('portal_dl_results_091919.csv')"
   ]
  },
  {
   "cell_type": "code",
   "execution_count": 26,
   "metadata": {},
   "outputs": [
    {
     "name": "stdout",
     "output_type": "stream",
     "text": [
      "success with 3 of 24 accounts.\n"
     ]
    },
    {
     "data": {
      "text/html": [
       "<div>\n",
       "<style scoped>\n",
       "    .dataframe tbody tr th:only-of-type {\n",
       "        vertical-align: middle;\n",
       "    }\n",
       "\n",
       "    .dataframe tbody tr th {\n",
       "        vertical-align: top;\n",
       "    }\n",
       "\n",
       "    .dataframe thead th {\n",
       "        text-align: right;\n",
       "    }\n",
       "</style>\n",
       "<table border=\"1\" class=\"dataframe\">\n",
       "  <thead>\n",
       "    <tr style=\"text-align: right;\">\n",
       "      <th></th>\n",
       "      <th>accts</th>\n",
       "      <th>date</th>\n",
       "      <th>name</th>\n",
       "      <th>pw</th>\n",
       "      <th>user</th>\n",
       "      <th>success</th>\n",
       "    </tr>\n",
       "  </thead>\n",
       "  <tbody>\n",
       "    <tr>\n",
       "      <th>0</th>\n",
       "      <td>[800210901, 800210902]</td>\n",
       "      <td>2019-08-30 08:35:15</td>\n",
       "      <td>TAYLOR HOME INC</td>\n",
       "      <td>c7e4w7</td>\n",
       "      <td>nhengi-tayl1n</td>\n",
       "      <td>True</td>\n",
       "    </tr>\n",
       "    <tr>\n",
       "      <th>1</th>\n",
       "      <td>[800169813, 800169814, 800169816]</td>\n",
       "      <td>2019-08-30 08:34:52</td>\n",
       "      <td>STONYFIELD FARM INC</td>\n",
       "      <td>b7e3x8</td>\n",
       "      <td>nhengi-ston6n</td>\n",
       "      <td>True</td>\n",
       "    </tr>\n",
       "    <tr>\n",
       "      <th>2</th>\n",
       "      <td>[800084902]</td>\n",
       "      <td>2019-08-30 08:33:30</td>\n",
       "      <td>CATHOLIC MEDICAL CENTER</td>\n",
       "      <td>77eb4x</td>\n",
       "      <td>nhengi-cath8n</td>\n",
       "      <td>False</td>\n",
       "    </tr>\n",
       "    <tr>\n",
       "      <th>3</th>\n",
       "      <td>[800540801]</td>\n",
       "      <td>2019-08-29 09:02:09</td>\n",
       "      <td>SMITTY'S CINEMA-TILTON,</td>\n",
       "      <td>77en4f</td>\n",
       "      <td>nhengi-cine1n</td>\n",
       "      <td>True</td>\n",
       "    </tr>\n",
       "    <tr>\n",
       "      <th>4</th>\n",
       "      <td>[26335201039, 26745711056]</td>\n",
       "      <td>2019-08-30 10:02:07</td>\n",
       "      <td>NORTH RIVER INNER</td>\n",
       "      <td>hf6919</td>\n",
       "      <td>prop-nengie</td>\n",
       "      <td>False</td>\n",
       "    </tr>\n",
       "    <tr>\n",
       "      <th>5</th>\n",
       "      <td>[29643770026]</td>\n",
       "      <td>2019-08-29 11:57:06</td>\n",
       "      <td>MIT</td>\n",
       "      <td>3535hd</td>\n",
       "      <td>mit1-nengie</td>\n",
       "      <td>False</td>\n",
       "    </tr>\n",
       "    <tr>\n",
       "      <th>6</th>\n",
       "      <td>[28344590048]</td>\n",
       "      <td>2019-08-29 11:53:23</td>\n",
       "      <td>JOEST LLC</td>\n",
       "      <td>be3655</td>\n",
       "      <td>joest-nengie</td>\n",
       "      <td>False</td>\n",
       "    </tr>\n",
       "    <tr>\n",
       "      <th>7</th>\n",
       "      <td>[28458630010, 29884680017]</td>\n",
       "      <td>2019-08-28 12:27:22</td>\n",
       "      <td>LL BEAN INC</td>\n",
       "      <td>1232kk</td>\n",
       "      <td>lb-nengie</td>\n",
       "      <td>False</td>\n",
       "    </tr>\n",
       "    <tr>\n",
       "      <th>8</th>\n",
       "      <td>[26745641014, 26745651013, 28217930016]</td>\n",
       "      <td>2019-08-28 12:24:04</td>\n",
       "      <td>CRP 70 INNERBELT LLC</td>\n",
       "      <td>swsw19</td>\n",
       "      <td>crp-nengie</td>\n",
       "      <td>False</td>\n",
       "    </tr>\n",
       "    <tr>\n",
       "      <th>9</th>\n",
       "      <td>[29495990029]</td>\n",
       "      <td>2019-08-28 12:23:06</td>\n",
       "      <td>MIT</td>\n",
       "      <td>hwhw31</td>\n",
       "      <td>mit-nengie</td>\n",
       "      <td>False</td>\n",
       "    </tr>\n",
       "    <tr>\n",
       "      <th>10</th>\n",
       "      <td>[29792330010]</td>\n",
       "      <td>2019-08-28 12:18:37</td>\n",
       "      <td>MVC 40B LLC</td>\n",
       "      <td>366gtb</td>\n",
       "      <td>mvc-nengie</td>\n",
       "      <td>False</td>\n",
       "    </tr>\n",
       "    <tr>\n",
       "      <th>11</th>\n",
       "      <td>[27132580013]</td>\n",
       "      <td>2019-08-28 12:18:01</td>\n",
       "      <td>CHARLES MOORE ARENA</td>\n",
       "      <td>ppb617</td>\n",
       "      <td>cma-nengie</td>\n",
       "      <td>False</td>\n",
       "    </tr>\n",
       "    <tr>\n",
       "      <th>12</th>\n",
       "      <td>[28604920018]</td>\n",
       "      <td>2019-08-27 11:16:09</td>\n",
       "      <td>CANTON LODGING LLC</td>\n",
       "      <td>66rw51</td>\n",
       "      <td>can1-nengie</td>\n",
       "      <td>False</td>\n",
       "    </tr>\n",
       "    <tr>\n",
       "      <th>13</th>\n",
       "      <td>[4044838006, 5219258022]</td>\n",
       "      <td>2019-08-30 17:45:11</td>\n",
       "      <td>[RED HAT, RED HAT]</td>\n",
       "      <td>3824</td>\n",
       "      <td>SUEZ_HIST</td>\n",
       "      <td>False</td>\n",
       "    </tr>\n",
       "    <tr>\n",
       "      <th>14</th>\n",
       "      <td>[0387754010, 5334649012]</td>\n",
       "      <td>2019-08-30 18:05:24</td>\n",
       "      <td>[AMTROL INC, AMTROL INC]</td>\n",
       "      <td>3824</td>\n",
       "      <td>SUEZ_HIST</td>\n",
       "      <td>False</td>\n",
       "    </tr>\n",
       "    <tr>\n",
       "      <th>15</th>\n",
       "      <td>[1414215009]</td>\n",
       "      <td>2019-08-30 18:29:58</td>\n",
       "      <td>[HINDLEY MFG CO]</td>\n",
       "      <td>3824</td>\n",
       "      <td>SUEZ_HIST</td>\n",
       "      <td>False</td>\n",
       "    </tr>\n",
       "    <tr>\n",
       "      <th>16</th>\n",
       "      <td>[0269747006]</td>\n",
       "      <td>2019-08-30 14:45:43</td>\n",
       "      <td>[MARS PLASTICS]</td>\n",
       "      <td>3824</td>\n",
       "      <td>SUEZ_HIST</td>\n",
       "      <td>False</td>\n",
       "    </tr>\n",
       "    <tr>\n",
       "      <th>17</th>\n",
       "      <td>[2734134002, 9111941004]</td>\n",
       "      <td>2019-08-28 15:16:50</td>\n",
       "      <td>[HAMPTON INN, MARRIOTT HOTEL LINCO]</td>\n",
       "      <td>3824</td>\n",
       "      <td>SUEZ_HIST</td>\n",
       "      <td>False</td>\n",
       "    </tr>\n",
       "    <tr>\n",
       "      <th>18</th>\n",
       "      <td>[1278488011, 1593232002, 6351827020]</td>\n",
       "      <td>2019-08-28 15:13:33</td>\n",
       "      <td>[BUFFALO-BROCKTON ASS, BENDERSON DEVELOPMEN, B...</td>\n",
       "      <td>3824</td>\n",
       "      <td>SUEZ_HIST</td>\n",
       "      <td>False</td>\n",
       "    </tr>\n",
       "    <tr>\n",
       "      <th>19</th>\n",
       "      <td>[0201874008, 1440866027, 7671694024, 8918994008]</td>\n",
       "      <td>2019-08-28 15:07:27</td>\n",
       "      <td>[ZOLL MEDICAL, ZOLL MEDICAL, ZOLL MEDICAL, ZOL...</td>\n",
       "      <td>3824</td>\n",
       "      <td>SUEZ_HIST</td>\n",
       "      <td>False</td>\n",
       "    </tr>\n",
       "    <tr>\n",
       "      <th>20</th>\n",
       "      <td>[1517441012, 1573198018, 6536176017, 902845801...</td>\n",
       "      <td>2019-08-27 15:52:48</td>\n",
       "      <td>[WESTFORD PUBLIC SCHO, WESTFORD PUBLIC SCHO, W...</td>\n",
       "      <td>3824</td>\n",
       "      <td>SUEZ_HIST</td>\n",
       "      <td>False</td>\n",
       "    </tr>\n",
       "    <tr>\n",
       "      <th>21</th>\n",
       "      <td>[1368491017]</td>\n",
       "      <td>2019-08-27 14:15:19</td>\n",
       "      <td>[ASPEN AEROGELS INC]</td>\n",
       "      <td>3824</td>\n",
       "      <td>SUEZ_HIST</td>\n",
       "      <td>False</td>\n",
       "    </tr>\n",
       "    <tr>\n",
       "      <th>22</th>\n",
       "      <td>[6394306039]</td>\n",
       "      <td>2019-08-27 12:05:18</td>\n",
       "      <td>[JHM HINGHAM ST LLC]</td>\n",
       "      <td>3824</td>\n",
       "      <td>SUEZ_HIST</td>\n",
       "      <td>False</td>\n",
       "    </tr>\n",
       "    <tr>\n",
       "      <th>23</th>\n",
       "      <td>[1537099023]</td>\n",
       "      <td>2019-08-27 12:03:37</td>\n",
       "      <td>[KETTLE CUISINE LLC]</td>\n",
       "      <td>3824</td>\n",
       "      <td>SUEZ_HIST</td>\n",
       "      <td>False</td>\n",
       "    </tr>\n",
       "  </tbody>\n",
       "</table>\n",
       "</div>"
      ],
      "text/plain": [
       "                                                accts                date  \\\n",
       "0                              [800210901, 800210902] 2019-08-30 08:35:15   \n",
       "1                   [800169813, 800169814, 800169816] 2019-08-30 08:34:52   \n",
       "2                                         [800084902] 2019-08-30 08:33:30   \n",
       "3                                         [800540801] 2019-08-29 09:02:09   \n",
       "4                          [26335201039, 26745711056] 2019-08-30 10:02:07   \n",
       "5                                       [29643770026] 2019-08-29 11:57:06   \n",
       "6                                       [28344590048] 2019-08-29 11:53:23   \n",
       "7                          [28458630010, 29884680017] 2019-08-28 12:27:22   \n",
       "8             [26745641014, 26745651013, 28217930016] 2019-08-28 12:24:04   \n",
       "9                                       [29495990029] 2019-08-28 12:23:06   \n",
       "10                                      [29792330010] 2019-08-28 12:18:37   \n",
       "11                                      [27132580013] 2019-08-28 12:18:01   \n",
       "12                                      [28604920018] 2019-08-27 11:16:09   \n",
       "13                           [4044838006, 5219258022] 2019-08-30 17:45:11   \n",
       "14                           [0387754010, 5334649012] 2019-08-30 18:05:24   \n",
       "15                                       [1414215009] 2019-08-30 18:29:58   \n",
       "16                                       [0269747006] 2019-08-30 14:45:43   \n",
       "17                           [2734134002, 9111941004] 2019-08-28 15:16:50   \n",
       "18               [1278488011, 1593232002, 6351827020] 2019-08-28 15:13:33   \n",
       "19   [0201874008, 1440866027, 7671694024, 8918994008] 2019-08-28 15:07:27   \n",
       "20  [1517441012, 1573198018, 6536176017, 902845801... 2019-08-27 15:52:48   \n",
       "21                                       [1368491017] 2019-08-27 14:15:19   \n",
       "22                                       [6394306039] 2019-08-27 12:05:18   \n",
       "23                                       [1537099023] 2019-08-27 12:03:37   \n",
       "\n",
       "                                                 name      pw           user  \\\n",
       "0                                     TAYLOR HOME INC  c7e4w7  nhengi-tayl1n   \n",
       "1                                 STONYFIELD FARM INC  b7e3x8  nhengi-ston6n   \n",
       "2                             CATHOLIC MEDICAL CENTER  77eb4x  nhengi-cath8n   \n",
       "3                             SMITTY'S CINEMA-TILTON,  77en4f  nhengi-cine1n   \n",
       "4                                   NORTH RIVER INNER  hf6919    prop-nengie   \n",
       "5                                                 MIT  3535hd    mit1-nengie   \n",
       "6                                           JOEST LLC  be3655   joest-nengie   \n",
       "7                                         LL BEAN INC  1232kk      lb-nengie   \n",
       "8                                CRP 70 INNERBELT LLC  swsw19     crp-nengie   \n",
       "9                                                 MIT  hwhw31     mit-nengie   \n",
       "10                                        MVC 40B LLC  366gtb     mvc-nengie   \n",
       "11                                CHARLES MOORE ARENA  ppb617     cma-nengie   \n",
       "12                                 CANTON LODGING LLC  66rw51    can1-nengie   \n",
       "13                                 [RED HAT, RED HAT]    3824      SUEZ_HIST   \n",
       "14                           [AMTROL INC, AMTROL INC]    3824      SUEZ_HIST   \n",
       "15                                   [HINDLEY MFG CO]    3824      SUEZ_HIST   \n",
       "16                                    [MARS PLASTICS]    3824      SUEZ_HIST   \n",
       "17                [HAMPTON INN, MARRIOTT HOTEL LINCO]    3824      SUEZ_HIST   \n",
       "18  [BUFFALO-BROCKTON ASS, BENDERSON DEVELOPMEN, B...    3824      SUEZ_HIST   \n",
       "19  [ZOLL MEDICAL, ZOLL MEDICAL, ZOLL MEDICAL, ZOL...    3824      SUEZ_HIST   \n",
       "20  [WESTFORD PUBLIC SCHO, WESTFORD PUBLIC SCHO, W...    3824      SUEZ_HIST   \n",
       "21                               [ASPEN AEROGELS INC]    3824      SUEZ_HIST   \n",
       "22                               [JHM HINGHAM ST LLC]    3824      SUEZ_HIST   \n",
       "23                               [KETTLE CUISINE LLC]    3824      SUEZ_HIST   \n",
       "\n",
       "    success  \n",
       "0      True  \n",
       "1      True  \n",
       "2     False  \n",
       "3      True  \n",
       "4     False  \n",
       "5     False  \n",
       "6     False  \n",
       "7     False  \n",
       "8     False  \n",
       "9     False  \n",
       "10    False  \n",
       "11    False  \n",
       "12    False  \n",
       "13    False  \n",
       "14    False  \n",
       "15    False  \n",
       "16    False  \n",
       "17    False  \n",
       "18    False  \n",
       "19    False  \n",
       "20    False  \n",
       "21    False  \n",
       "22    False  \n",
       "23    False  "
      ]
     },
     "execution_count": 26,
     "metadata": {},
     "output_type": "execute_result"
    }
   ],
   "source": [
    "print('success with {} of {} accounts.'.format(np.sum(good.success), len(good.success)))\n",
    "good.to_csv('webscrape_bodies_053019.csv')\n",
    "good"
   ]
  },
  {
   "cell_type": "markdown",
   "metadata": {},
   "source": [
    "## Show downloaded files from EPO portal"
   ]
  },
  {
   "cell_type": "markdown",
   "metadata": {},
   "source": [
    "Here *filepath* is a directory containing downloaded EPO files. Code will print 20 most recent files."
   ]
  },
  {
   "cell_type": "code",
   "execution_count": 27,
   "metadata": {},
   "outputs": [
    {
     "name": "stdout",
     "output_type": "stream",
     "text": [
      "files found in dir:  C:\\Users\\wb5888\\la-tools-test\\IDR_Drop\\Downloads\n",
      "                                                files                time\n",
      "0   ngrid_f5e840b8-050d-4b3e-a98f-e9eb846bc9d5_290... 2019-09-03 10:22:28\n",
      "1   ngrid_fdbbceda-75ad-4d61-bb4d-2f1f6ebb98e7_a64... 2019-09-03 10:21:15\n",
      "2   ngrid_8a5d82c0-8eae-4d04-b333-2aa8f3b99c50_a3f... 2019-09-03 10:20:06\n",
      "3   ngrid_c6b546a8-9ef5-4377-b6b6-8e65085eef77_408... 2019-09-03 10:18:53\n",
      "4   ngrid_63ee188b-a7bc-42a5-924b-5557d420be2e_486... 2019-09-03 10:16:56\n",
      "5   ngrid_50efbad9-6f0a-4410-8bed-be93c9066404_ae3... 2019-09-03 10:14:04\n",
      "6   ngrid_d8607342-4883-4104-aa80-76b3c60d73af_763... 2019-09-03 10:12:40\n",
      "7   ngrid_47ad11a5-5caa-4f65-b51f-f7271def15bb_a56... 2019-09-03 10:11:31\n",
      "8   ngrid_7702c461-273f-407c-b21c-ab305f97e228_ab0... 2019-09-03 10:10:18\n",
      "9   ngrid_d58fc9bf-2d9e-485d-a219-318829048c5b_0ca... 2019-09-03 10:08:58\n",
      "10  eversource_be1e7757-e24d-422e-8703-d297f5eeb00... 2019-09-03 10:07:11\n",
      "11  eversource_83964d51-69df-43ae-b6f2-39f5a1f52d3... 2019-09-03 10:06:54\n",
      "12  eversource_fd75e5ce-5cd8-49a9-b44e-4767c74d3b8... 2019-09-03 10:06:34\n",
      "13  eversource_24bafc54-de82-44e3-b1f9-1b80b5d8744... 2019-09-03 10:05:56\n",
      "14  eversource_2d3f6378-9f1b-4b21-863e-039dbd775c1... 2019-09-03 10:05:18\n",
      "15  eversource_c9e4b18f-7961-435b-bdcf-c2f0c7aaffc... 2019-09-03 10:04:55\n",
      "16  eversource_7595a941-30d4-425e-8fed-43572545da1... 2019-09-03 10:04:33\n"
     ]
    }
   ],
   "source": [
    "#filepath = os.getcwd()\n",
    "readpath = 'C:\\\\Users\\\\wb5888\\\\la-tools-test\\\\IDR_Drop\\\\Downloads'\n",
    "\n",
    "myfiles = IDRdrop.show_dir(readpath, 20)\n",
    "print(myfiles)"
   ]
  },
  {
   "cell_type": "markdown",
   "metadata": {},
   "source": [
    "Choose files to split into Raw IDR files."
   ]
  },
  {
   "cell_type": "code",
   "execution_count": 28,
   "metadata": {},
   "outputs": [
    {
     "name": "stdout",
     "output_type": "stream",
     "text": [
      "files to split: \n",
      "['ngrid_f5e840b8-050d-4b3e-a98f-e9eb846bc9d5_29040daa_hourlycsv.csv', 'ngrid_fdbbceda-75ad-4d61-bb4d-2f1f6ebb98e7_a648454a_hourlycsv.csv', 'ngrid_8a5d82c0-8eae-4d04-b333-2aa8f3b99c50_a3f12afd_hourlycsv.csv', 'ngrid_c6b546a8-9ef5-4377-b6b6-8e65085eef77_40893e6b_hourlycsv.csv', 'ngrid_63ee188b-a7bc-42a5-924b-5557d420be2e_486ea6c1_hourlycsv.csv', 'ngrid_50efbad9-6f0a-4410-8bed-be93c9066404_ae3f4f8a_hourlycsv.csv', 'ngrid_d8607342-4883-4104-aa80-76b3c60d73af_763dddb5_hourlycsv.csv', 'ngrid_47ad11a5-5caa-4f65-b51f-f7271def15bb_a56ccd32_hourlycsv.csv', 'ngrid_7702c461-273f-407c-b21c-ab305f97e228_ab0ce9bc_hourlycsv.csv', 'ngrid_d58fc9bf-2d9e-485d-a219-318829048c5b_0ca45820_hourlycsv.csv', 'eversource_be1e7757-e24d-422e-8703-d297f5eeb000_bfd9ed3e_hourlycsv.csv', 'eversource_83964d51-69df-43ae-b6f2-39f5a1f52d31_8246582f_hourlycsv.csv', 'eversource_fd75e5ce-5cd8-49a9-b44e-4767c74d3b81_72034143_hourlycsv.csv', 'eversource_24bafc54-de82-44e3-b1f9-1b80b5d87444_c57866fc_hourlycsv.csv', 'eversource_2d3f6378-9f1b-4b21-863e-039dbd775c1f_5e45c041_hourlycsv.csv', 'eversource_c9e4b18f-7961-435b-bdcf-c2f0c7aaffc1_dc0936e3_hourlycsv.csv', 'eversource_7595a941-30d4-425e-8fed-43572545da11_79e11beb_hourlycsv.csv']\n"
     ]
    }
   ],
   "source": [
    "index = [0]\n",
    "\n",
    "splitfiles = list(myfiles.files[:17])\n",
    "print('files to split: ')\n",
    "print(splitfiles)"
   ]
  },
  {
   "cell_type": "markdown",
   "metadata": {},
   "source": [
    "## Batch process downloaded EPO files into Raw IDRs"
   ]
  },
  {
   "cell_type": "code",
   "execution_count": 30,
   "metadata": {},
   "outputs": [
    {
     "name": "stdout",
     "output_type": "stream",
     "text": [
      "found 1 accounts.\n",
      "1537099023_MECO_IDR_RAW.csv  written.\n",
      "success, file:  ngrid_f5e840b8-050d-4b3e-a98f-e9eb846bc9d5_29040daa_hourlycsv.csv\n",
      "found 1 accounts.\n",
      "6394306039_MECO_IDR_RAW.csv  written.\n",
      "success, file:  ngrid_fdbbceda-75ad-4d61-bb4d-2f1f6ebb98e7_a648454a_hourlycsv.csv\n",
      "found 1 accounts.\n",
      "1368491017_MECO_IDR_RAW.csv  written.\n",
      "success, file:  ngrid_8a5d82c0-8eae-4d04-b333-2aa8f3b99c50_a3f12afd_hourlycsv.csv\n",
      "found 4 accounts.\n",
      "1517441012_MECO_IDR_RAW.csv  written.\n",
      "1573198018_MECO_IDR_RAW.csv  written.\n",
      "6536176017_MECO_IDR_RAW.csv  written.\n",
      "9028458012_MECO_IDR_RAW.csv  written.\n",
      "success, file:  ngrid_c6b546a8-9ef5-4377-b6b6-8e65085eef77_40893e6b_hourlycsv.csv\n",
      "found 4 accounts.\n",
      "0201874008_MECO_IDR_RAW.csv  written.\n",
      "1440866027_MECO_IDR_RAW.csv  written.\n",
      "7671694024_MECO_IDR_RAW.csv  written.\n",
      "8918994008_MECO_IDR_RAW.csv  written.\n",
      "success, file:  ngrid_63ee188b-a7bc-42a5-924b-5557d420be2e_486ea6c1_hourlycsv.csv\n",
      "found 2 accounts.\n",
      "2734134002_MECO_IDR_RAW.csv  written.\n",
      "9111941004_MECO_IDR_RAW.csv  written.\n",
      "success, file:  ngrid_50efbad9-6f0a-4410-8bed-be93c9066404_ae3f4f8a_hourlycsv.csv\n",
      "found 1 accounts.\n",
      "0269747006_MECO_IDR_RAW.csv  written.\n",
      "success, file:  ngrid_d8607342-4883-4104-aa80-76b3c60d73af_763dddb5_hourlycsv.csv\n",
      "found 1 accounts.\n",
      "1414215009_MECO_IDR_RAW.csv  written.\n",
      "success, file:  ngrid_47ad11a5-5caa-4f65-b51f-f7271def15bb_a56ccd32_hourlycsv.csv\n",
      "found 2 accounts.\n",
      "0387754010_MECO_IDR_RAW.csv  written.\n",
      "5334649012_MECO_IDR_RAW.csv  written.\n",
      "success, file:  ngrid_7702c461-273f-407c-b21c-ab305f97e228_ab0ce9bc_hourlycsv.csv\n",
      "found 2 accounts.\n",
      "4044838006_MECO_IDR_RAW.csv  written.\n",
      "5219258022_MECO_IDR_RAW.csv  written.\n",
      "success, file:  ngrid_d58fc9bf-2d9e-485d-a219-318829048c5b_0ca45820_hourlycsv.csv\n",
      "found 1 accounts.\n",
      "28604920018_MECO_IDR_RAW.csv  written.\n",
      "success, file:  eversource_be1e7757-e24d-422e-8703-d297f5eeb000_bfd9ed3e_hourlycsv.csv\n",
      "found 1 accounts.\n",
      "27132580013_MECO_IDR_RAW.csv  written.\n",
      "success, file:  eversource_83964d51-69df-43ae-b6f2-39f5a1f52d31_8246582f_hourlycsv.csv\n",
      "found 1 accounts.\n",
      "29792330010_MECO_IDR_RAW.csv  written.\n",
      "success, file:  eversource_fd75e5ce-5cd8-49a9-b44e-4767c74d3b81_72034143_hourlycsv.csv\n",
      "found 3 accounts.\n",
      "26745641014_MECO_IDR_RAW.csv  written.\n",
      "26745651013_MECO_IDR_RAW.csv  written.\n",
      "28217930016_MECO_IDR_RAW.csv  written.\n",
      "success, file:  eversource_24bafc54-de82-44e3-b1f9-1b80b5d87444_c57866fc_hourlycsv.csv\n",
      "found 1 accounts.\n",
      "28344590048_MECO_IDR_RAW.csv  written.\n",
      "success, file:  eversource_2d3f6378-9f1b-4b21-863e-039dbd775c1f_5e45c041_hourlycsv.csv\n",
      "found 1 accounts.\n",
      "29643770026_MECO_IDR_RAW.csv  written.\n",
      "success, file:  eversource_c9e4b18f-7961-435b-bdcf-c2f0c7aaffc1_dc0936e3_hourlycsv.csv\n",
      "found 2 accounts.\n",
      "26335201039_MECO_IDR_RAW.csv  written.\n",
      "26745711056_MECO_IDR_RAW.csv  written.\n",
      "success, file:  eversource_7595a941-30d4-425e-8fed-43572545da11_79e11beb_hourlycsv.csv\n",
      "RAW split complete.\n"
     ]
    }
   ],
   "source": [
    "readpath = 'C:\\\\Users\\\\wb5888\\\\la-tools-test\\\\IDR_Drop\\\\Downloads'\n",
    "writepath = 'C:\\\\Users\\\\wb5888\\\\Documents\\\\Raw IDR Data'\n",
    "utility = 'MECO'\n",
    "error_log = []\n",
    "\n",
    "for file in splitfiles:\n",
    "    try:\n",
    "        os.chdir(readpath)\n",
    "        filedf = pd.read_csv(file, sep = \",\", header = 0)\n",
    "    \n",
    "        IDRdrop.raw_split(filedf, readpath, writepath, utility)\n",
    "        print('success, file: ', file)\n",
    "        \n",
    "    except:\n",
    "        print('error, file: ', file)\n",
    "        \n",
    "print('RAW split complete.')"
   ]
  },
  {
   "cell_type": "markdown",
   "metadata": {},
   "source": [
    "## Show Raw IDR files based on utility"
   ]
  },
  {
   "cell_type": "markdown",
   "metadata": {},
   "source": [
    "Here *rawpath* is directory containing Raw IDRs - 25 most recent will be shown."
   ]
  },
  {
   "cell_type": "code",
   "execution_count": 34,
   "metadata": {},
   "outputs": [
    {
     "name": "stdout",
     "output_type": "stream",
     "text": [
      "files found in dir:  C:\\Users\\wb5888\\Documents\\Raw IDR Data\n",
      "                                    files                time\n",
      "0            26335201039_MECO_IDR_RAW.csv 2019-09-03 10:29:15\n",
      "1            26745711056_MECO_IDR_RAW.csv 2019-09-03 10:29:15\n",
      "2            26745641014_MECO_IDR_RAW.csv 2019-09-03 10:29:14\n",
      "3              5334649012_NRI_IDR_RAW.csv 2019-09-03 10:29:14\n",
      "4              1414215009_NRI_IDR_RAW.csv 2019-09-03 10:29:14\n",
      "5             5219258022_MECO_IDR_RAW.csv 2019-09-03 10:29:14\n",
      "6            27132580013_MECO_IDR_RAW.csv 2019-09-03 10:29:14\n",
      "7            28217930016_MECO_IDR_RAW.csv 2019-09-03 10:29:14\n",
      "8            28344590048_MECO_IDR_RAW.csv 2019-09-03 10:29:14\n",
      "9              0387754010_NRI_IDR_RAW.csv 2019-09-03 10:29:14\n",
      "10           28604920018_MECO_IDR_RAW.csv 2019-09-03 10:29:14\n",
      "11           29643770026_MECO_IDR_RAW.csv 2019-09-03 10:29:14\n",
      "12           29792330010_MECO_IDR_RAW.csv 2019-09-03 10:29:14\n",
      "13            0269747006_MECO_IDR_RAW.csv 2019-09-03 10:29:14\n",
      "14            4044838006_MECO_IDR_RAW.csv 2019-09-03 10:29:14\n",
      "15           26745651013_MECO_IDR_RAW.csv 2019-09-03 10:29:14\n",
      "16            8918994008_MECO_IDR_RAW.csv 2019-09-03 10:29:13\n",
      "17            2734134002_MECO_IDR_RAW.csv 2019-09-03 10:29:13\n",
      "18            9028458012_MECO_IDR_RAW.csv 2019-09-03 10:29:13\n",
      "19            7671694024_MECO_IDR_RAW.csv 2019-09-03 10:29:13\n",
      "20            9111941004_MECO_IDR_RAW.csv 2019-09-03 10:29:13\n",
      "21            6394306039_MECO_IDR_RAW.csv 2019-09-03 10:29:13\n",
      "22            0201874008_MECO_IDR_RAW.csv 2019-09-03 10:29:13\n",
      "23            6536176017_MECO_IDR_RAW.csv 2019-09-03 10:29:13\n",
      "24            1573198018_MECO_IDR_RAW.csv 2019-09-03 10:29:13\n",
      "25            1537099023_MECO_IDR_RAW.csv 2019-09-03 10:29:13\n",
      "26            1517441012_MECO_IDR_RAW.csv 2019-09-03 10:29:13\n",
      "27            1440866027_MECO_IDR_RAW.csv 2019-09-03 10:29:13\n",
      "28            1368491017_MECO_IDR_RAW.csv 2019-09-03 10:29:13\n",
      "29  51997147012_014332000_CLP_IDR_RAW.csv 2019-08-30 14:49:24\n"
     ]
    }
   ],
   "source": [
    "rawfiles = IDRdrop.show_dir(writepath, 30)\n",
    "print(rawfiles)"
   ]
  },
  {
   "cell_type": "markdown",
   "metadata": {},
   "source": [
    "Choose Raw IDRs to filter into IDR files."
   ]
  },
  {
   "cell_type": "code",
   "execution_count": 56,
   "metadata": {},
   "outputs": [
    {
     "name": "stdout",
     "output_type": "stream",
     "text": [
      "files to be processed: \n",
      "['26335201039_MECO_IDR_RAW.csv', '26745711056_MECO_IDR_RAW.csv', '26745641014_MECO_IDR_RAW.csv', '5334649012_NRI_IDR_RAW.csv', '1414215009_NRI_IDR_RAW.csv', '5219258022_MECO_IDR_RAW.csv', '27132580013_MECO_IDR_RAW.csv', '28217930016_MECO_IDR_RAW.csv', '28344590048_MECO_IDR_RAW.csv', '0387754010_NRI_IDR_RAW.csv', '28604920018_MECO_IDR_RAW.csv', '29643770026_MECO_IDR_RAW.csv', '29792330010_MECO_IDR_RAW.csv', '0269747006_MECO_IDR_RAW.csv', '4044838006_MECO_IDR_RAW.csv', '26745651013_MECO_IDR_RAW.csv', '8918994008_MECO_IDR_RAW.csv', '2734134002_MECO_IDR_RAW.csv', '9028458012_MECO_IDR_RAW.csv', '7671694024_MECO_IDR_RAW.csv', '9111941004_MECO_IDR_RAW.csv', '6394306039_MECO_IDR_RAW.csv', '0201874008_MECO_IDR_RAW.csv', '6536176017_MECO_IDR_RAW.csv', '1573198018_MECO_IDR_RAW.csv', '1537099023_MECO_IDR_RAW.csv', '1517441012_MECO_IDR_RAW.csv', '1440866027_MECO_IDR_RAW.csv', '1368491017_MECO_IDR_RAW.csv']\n"
     ]
    }
   ],
   "source": [
    "index = [36]\n",
    "\n",
    "processfiles = list(rawfiles.files[:29])\n",
    "\n",
    "print('files to be processed: ')\n",
    "print(processfiles)"
   ]
  },
  {
   "cell_type": "markdown",
   "metadata": {},
   "source": [
    "## Batch filter Raw IDR into IDR files to be dropped"
   ]
  },
  {
   "cell_type": "code",
   "execution_count": 55,
   "metadata": {},
   "outputs": [
    {
     "name": "stdout",
     "output_type": "stream",
     "text": [
      "success, file:  5334649012_NRI_IDR_RAW.csv\n",
      "success, file:  1414215009_NRI_IDR_RAW.csv\n",
      "success, file:  0387754010_NRI_IDR_RAW.csv\n"
     ]
    }
   ],
   "source": [
    "readpath = 'C:\\\\Users\\\\wb5888\\\\Documents\\\\Raw IDR Data'\n",
    "writepath = 'C:\\\\Users\\\\wb5888\\\\Documents\\\\IDR Data'\n",
    "error_log = []\n",
    "\n",
    "for dropfile in processfiles:\n",
    "    try:\n",
    "        IDRdrop.data_drop(dropfile, readpath, writepath)\n",
    "        print('success, file: ', dropfile)\n",
    "    \n",
    "    except:\n",
    "        error_log.append(dropfile)\n",
    "        print(\"error, file: \", dropfile)"
   ]
  },
  {
   "cell_type": "code",
   "execution_count": 10,
   "metadata": {},
   "outputs": [
    {
     "data": {
      "text/plain": [
       "['26281241005_MECO_IDR_RAW.csv',\n",
       " '26281131008_MECO_IDR_RAW.csv',\n",
       " '26281221007_MECO_IDR_RAW.csv',\n",
       " '26281231006_MECO_IDR_RAW.csv',\n",
       " '26280821005_MECO_IDR_RAW.csv',\n",
       " '28307660010_MECO_IDR_RAW.csv',\n",
       " '29001880011_MECO_IDR_RAW.csv',\n",
       " '25835511020_MECO_IDR_RAW.csv',\n",
       " '25745431046_MECO_IDR_RAW.csv',\n",
       " '288552094_MECO_IDR_RAW.csv',\n",
       " '25651191022_MECO_IDR_RAW.csv']"
      ]
     },
     "execution_count": 10,
     "metadata": {},
     "output_type": "execute_result"
    }
   ],
   "source": [
    "error_log"
   ]
  },
  {
   "cell_type": "code",
   "execution_count": null,
   "metadata": {},
   "outputs": [],
   "source": []
  }
 ],
 "metadata": {
  "kernelspec": {
   "display_name": "Python 3",
   "language": "python",
   "name": "python3"
  },
  "language_info": {
   "codemirror_mode": {
    "name": "ipython",
    "version": 3
   },
   "file_extension": ".py",
   "mimetype": "text/x-python",
   "name": "python",
   "nbconvert_exporter": "python",
   "pygments_lexer": "ipython3",
   "version": "3.7.4"
  }
 },
 "nbformat": 4,
 "nbformat_minor": 2
}
