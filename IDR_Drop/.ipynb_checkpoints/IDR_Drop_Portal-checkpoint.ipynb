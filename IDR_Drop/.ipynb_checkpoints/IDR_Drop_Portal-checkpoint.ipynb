{
 "cells": [
  {
   "cell_type": "markdown",
   "metadata": {},
   "source": [
    "# NEPOOL IDR Drop"
   ]
  },
  {
   "cell_type": "markdown",
   "metadata": {},
   "source": [
    "Batches tasks for NEPOOL IDR Drop."
   ]
  },
  {
   "cell_type": "code",
   "execution_count": 1,
   "metadata": {},
   "outputs": [
    {
     "name": "stdout",
     "output_type": "stream",
     "text": [
      "working in directory C:\\Users\\wb5888\\la-tools-test\\IDR_Drop.\n",
      "236 aaron emails, 985 epo emails 407 ngrid emails\n",
      "parsing aaron.downing@eversource.com inbox\n",
      "\n",
      "scraping emails...\n",
      "parsing epoadmin@eversource.com\n",
      "\n",
      "scraping emails...\n",
      "parsing michael.stanton@nationalgrid.com\n",
      "\n",
      "scraping emails...\n",
      "error with 0 of 3 inboxes\n",
      "found  1461  new emails: \n",
      "writing .json object\n",
      "file saved as email_bodies_10_24_2019.json\n",
      "writing output files.\n"
     ]
    }
   ],
   "source": [
    "import os\n",
    "basepath = 'C:\\\\Users\\wb5888\\la-tools-test\\IDR_Drop'\n",
    "os.chdir(basepath)\n",
    "print('working in directory {}.'.format(basepath))\n",
    "\n",
    "from bs4 import BeautifulSoup\n",
    "from selenium.webdriver import Chrome\n",
    "from selenium.webdriver.chrome.options import Options\n",
    "import selenium.webdriver.support.ui as ui\n",
    "from selenium.webdriver.common.keys import Keys\n",
    "import selenium.webdriver as webdriver\n",
    "from pandas.io.json import json_normalize\n",
    "import datetime as dt\n",
    "import pandas as pd\n",
    "import numpy as np\n",
    "import IDRdrop\n",
    "import EPOwebscrape\n",
    "import emailscrape\n",
    "import json\n",
    "import math\n",
    "import time\n",
    "import ast\n",
    "import pprint\n",
    "\n",
    "pp = pprint.PrettyPrinter(1)"
   ]
  },
  {
   "cell_type": "markdown",
   "metadata": {},
   "source": [
    "## Read .json"
   ]
  },
  {
   "cell_type": "code",
   "execution_count": 17,
   "metadata": {},
   "outputs": [
    {
     "data": {
      "text/html": [
       "<div>\n",
       "<style scoped>\n",
       "    .dataframe tbody tr th:only-of-type {\n",
       "        vertical-align: middle;\n",
       "    }\n",
       "\n",
       "    .dataframe tbody tr th {\n",
       "        vertical-align: top;\n",
       "    }\n",
       "\n",
       "    .dataframe thead th {\n",
       "        text-align: right;\n",
       "    }\n",
       "</style>\n",
       "<table border=\"1\" class=\"dataframe\">\n",
       "  <thead>\n",
       "    <tr style=\"text-align: right;\">\n",
       "      <th></th>\n",
       "      <th>accts</th>\n",
       "      <th>date</th>\n",
       "      <th>name</th>\n",
       "      <th>pw</th>\n",
       "      <th>user</th>\n",
       "    </tr>\n",
       "  </thead>\n",
       "  <tbody>\n",
       "    <tr>\n",
       "      <td>0</td>\n",
       "      <td>[800575302]</td>\n",
       "      <td>10/23/2019 13:25:55</td>\n",
       "      <td>AUTAJON PACKAGING-BOSTON</td>\n",
       "      <td>u4n5d6</td>\n",
       "      <td>nhengi-auta7n</td>\n",
       "    </tr>\n",
       "    <tr>\n",
       "      <td>1</td>\n",
       "      <td>[800145403, 800145405]</td>\n",
       "      <td>10/23/2019 13:24:38</td>\n",
       "      <td>CUMMINGS PRINTING COMPANY</td>\n",
       "      <td>z4n2a5</td>\n",
       "      <td>nhengi-cumm4n</td>\n",
       "    </tr>\n",
       "    <tr>\n",
       "      <td>2</td>\n",
       "      <td>[800583101]</td>\n",
       "      <td>10/23/2019 13:24:14</td>\n",
       "      <td>NEW HAMPSHIRE INDUSTRIES,</td>\n",
       "      <td>34nz85</td>\n",
       "      <td>nhengi-newh8n</td>\n",
       "    </tr>\n",
       "    <tr>\n",
       "      <td>3</td>\n",
       "      <td>[800206001, 800462101, 800588901]</td>\n",
       "      <td>10/22/2019 08:57:28</td>\n",
       "      <td>HILLSBORO-DEERING</td>\n",
       "      <td>74ns45</td>\n",
       "      <td>nhengi-deeri7n</td>\n",
       "    </tr>\n",
       "    <tr>\n",
       "      <td>4</td>\n",
       "      <td>[800557701]</td>\n",
       "      <td>10/22/2019 08:55:36</td>\n",
       "      <td>SWLC, INC</td>\n",
       "      <td>34nh85</td>\n",
       "      <td>nhengi-sicn6n</td>\n",
       "    </tr>\n",
       "    <tr>\n",
       "      <td>...</td>\n",
       "      <td>...</td>\n",
       "      <td>...</td>\n",
       "      <td>...</td>\n",
       "      <td>...</td>\n",
       "      <td>...</td>\n",
       "    </tr>\n",
       "    <tr>\n",
       "      <td>1455</td>\n",
       "      <td>[8948497003]</td>\n",
       "      <td>04/15/2019 12:58:10</td>\n",
       "      <td>[BLOUNT FINE FOODS CO]</td>\n",
       "      <td>3824</td>\n",
       "      <td>SUEZ_HIST</td>\n",
       "    </tr>\n",
       "    <tr>\n",
       "      <td>1456</td>\n",
       "      <td>[3993388009]</td>\n",
       "      <td>04/16/2019 15:50:00</td>\n",
       "      <td>[WILLIAMS COLLEGE]</td>\n",
       "      <td>3824</td>\n",
       "      <td>SUEZ_HIST</td>\n",
       "    </tr>\n",
       "    <tr>\n",
       "      <td>1457</td>\n",
       "      <td>[1631455010]</td>\n",
       "      <td>04/16/2019 16:32:57</td>\n",
       "      <td>[RUGBY ARCHITECTURAL]</td>\n",
       "      <td>3824</td>\n",
       "      <td>SUEZ_HIST</td>\n",
       "    </tr>\n",
       "    <tr>\n",
       "      <td>1458</td>\n",
       "      <td>[6391959010]</td>\n",
       "      <td>04/16/2019 16:48:26</td>\n",
       "      <td>[324 CLARK ST LLC]</td>\n",
       "      <td>3824</td>\n",
       "      <td>SUEZ_HIST</td>\n",
       "    </tr>\n",
       "    <tr>\n",
       "      <td>1459</td>\n",
       "      <td>[3886255002, 6468460000, 7714572001]</td>\n",
       "      <td>04/17/2019 15:22:01</td>\n",
       "      <td>[PARKIS PLACE, CHARLESGATE NORTH, CHARLES GATE...</td>\n",
       "      <td>3824</td>\n",
       "      <td>SUEZ_HIST</td>\n",
       "    </tr>\n",
       "  </tbody>\n",
       "</table>\n",
       "<p>1460 rows × 5 columns</p>\n",
       "</div>"
      ],
      "text/plain": [
       "                                     accts                 date  \\\n",
       "0                              [800575302]  10/23/2019 13:25:55   \n",
       "1                   [800145403, 800145405]  10/23/2019 13:24:38   \n",
       "2                              [800583101]  10/23/2019 13:24:14   \n",
       "3        [800206001, 800462101, 800588901]  10/22/2019 08:57:28   \n",
       "4                              [800557701]  10/22/2019 08:55:36   \n",
       "...                                    ...                  ...   \n",
       "1455                          [8948497003]  04/15/2019 12:58:10   \n",
       "1456                          [3993388009]  04/16/2019 15:50:00   \n",
       "1457                          [1631455010]  04/16/2019 16:32:57   \n",
       "1458                          [6391959010]  04/16/2019 16:48:26   \n",
       "1459  [3886255002, 6468460000, 7714572001]  04/17/2019 15:22:01   \n",
       "\n",
       "                                                   name      pw  \\\n",
       "0                              AUTAJON PACKAGING-BOSTON  u4n5d6   \n",
       "1                             CUMMINGS PRINTING COMPANY  z4n2a5   \n",
       "2                             NEW HAMPSHIRE INDUSTRIES,  34nz85   \n",
       "3                                     HILLSBORO-DEERING  74ns45   \n",
       "4                                             SWLC, INC  34nh85   \n",
       "...                                                 ...     ...   \n",
       "1455                             [BLOUNT FINE FOODS CO]    3824   \n",
       "1456                                 [WILLIAMS COLLEGE]    3824   \n",
       "1457                              [RUGBY ARCHITECTURAL]    3824   \n",
       "1458                                 [324 CLARK ST LLC]    3824   \n",
       "1459  [PARKIS PLACE, CHARLESGATE NORTH, CHARLES GATE...    3824   \n",
       "\n",
       "                user  \n",
       "0      nhengi-auta7n  \n",
       "1      nhengi-cumm4n  \n",
       "2      nhengi-newh8n  \n",
       "3     nhengi-deeri7n  \n",
       "4      nhengi-sicn6n  \n",
       "...              ...  \n",
       "1455       SUEZ_HIST  \n",
       "1456       SUEZ_HIST  \n",
       "1457       SUEZ_HIST  \n",
       "1458       SUEZ_HIST  \n",
       "1459       SUEZ_HIST  \n",
       "\n",
       "[1460 rows x 5 columns]"
      ]
     },
     "execution_count": 17,
     "metadata": {},
     "output_type": "execute_result"
    }
   ],
   "source": [
    "os.chdir(os.path.join(basepath, 'Logins'))\n",
    "\n",
    "with open('email_bodies_10_24_2019.json', 'r') as email:\n",
    "    email = json.load(email)\n",
    "    email = json.loads(email)\n",
    "    \n",
    "email_df = pd.DataFrame.from_dict(email)\n",
    "email_df = email_df.T\n",
    "email_df"
   ]
  },
  {
   "cell_type": "markdown",
   "metadata": {},
   "source": [
    "## expand acct list into rows"
   ]
  },
  {
   "cell_type": "code",
   "execution_count": 31,
   "metadata": {},
   "outputs": [],
   "source": [
    "expand_acct = []\n",
    "rest = []\n",
    "\n",
    "for i, acct in enumerate(email_df.accts):\n",
    "    for a in acct:\n",
    "        expand_acct.append(a)\n",
    "        rest.append(email_df.iloc[i,1:])"
   ]
  },
  {
   "cell_type": "code",
   "execution_count": 34,
   "metadata": {},
   "outputs": [
    {
     "data": {
      "text/html": [
       "<div>\n",
       "<style scoped>\n",
       "    .dataframe tbody tr th:only-of-type {\n",
       "        vertical-align: middle;\n",
       "    }\n",
       "\n",
       "    .dataframe tbody tr th {\n",
       "        vertical-align: top;\n",
       "    }\n",
       "\n",
       "    .dataframe thead th {\n",
       "        text-align: right;\n",
       "    }\n",
       "</style>\n",
       "<table border=\"1\" class=\"dataframe\">\n",
       "  <thead>\n",
       "    <tr style=\"text-align: right;\">\n",
       "      <th></th>\n",
       "      <th>date</th>\n",
       "      <th>name</th>\n",
       "      <th>pw</th>\n",
       "      <th>user</th>\n",
       "      <th>acct</th>\n",
       "    </tr>\n",
       "  </thead>\n",
       "  <tbody>\n",
       "    <tr>\n",
       "      <td>0</td>\n",
       "      <td>10/23/2019 13:25:55</td>\n",
       "      <td>AUTAJON PACKAGING-BOSTON</td>\n",
       "      <td>u4n5d6</td>\n",
       "      <td>nhengi-auta7n</td>\n",
       "      <td>800575302</td>\n",
       "    </tr>\n",
       "    <tr>\n",
       "      <td>1</td>\n",
       "      <td>10/23/2019 13:24:38</td>\n",
       "      <td>CUMMINGS PRINTING COMPANY</td>\n",
       "      <td>z4n2a5</td>\n",
       "      <td>nhengi-cumm4n</td>\n",
       "      <td>800145403</td>\n",
       "    </tr>\n",
       "    <tr>\n",
       "      <td>2</td>\n",
       "      <td>10/23/2019 13:24:38</td>\n",
       "      <td>CUMMINGS PRINTING COMPANY</td>\n",
       "      <td>z4n2a5</td>\n",
       "      <td>nhengi-cumm4n</td>\n",
       "      <td>800145405</td>\n",
       "    </tr>\n",
       "    <tr>\n",
       "      <td>3</td>\n",
       "      <td>10/23/2019 13:24:14</td>\n",
       "      <td>NEW HAMPSHIRE INDUSTRIES,</td>\n",
       "      <td>34nz85</td>\n",
       "      <td>nhengi-newh8n</td>\n",
       "      <td>800583101</td>\n",
       "    </tr>\n",
       "    <tr>\n",
       "      <td>4</td>\n",
       "      <td>10/22/2019 08:57:28</td>\n",
       "      <td>HILLSBORO-DEERING</td>\n",
       "      <td>74ns45</td>\n",
       "      <td>nhengi-deeri7n</td>\n",
       "      <td>800206001</td>\n",
       "    </tr>\n",
       "    <tr>\n",
       "      <td>...</td>\n",
       "      <td>...</td>\n",
       "      <td>...</td>\n",
       "      <td>...</td>\n",
       "      <td>...</td>\n",
       "      <td>...</td>\n",
       "    </tr>\n",
       "    <tr>\n",
       "      <td>2899</td>\n",
       "      <td>04/16/2019 16:32:57</td>\n",
       "      <td>[RUGBY ARCHITECTURAL]</td>\n",
       "      <td>3824</td>\n",
       "      <td>SUEZ_HIST</td>\n",
       "      <td>1631455010</td>\n",
       "    </tr>\n",
       "    <tr>\n",
       "      <td>2900</td>\n",
       "      <td>04/16/2019 16:48:26</td>\n",
       "      <td>[324 CLARK ST LLC]</td>\n",
       "      <td>3824</td>\n",
       "      <td>SUEZ_HIST</td>\n",
       "      <td>6391959010</td>\n",
       "    </tr>\n",
       "    <tr>\n",
       "      <td>2901</td>\n",
       "      <td>04/17/2019 15:22:01</td>\n",
       "      <td>[PARKIS PLACE, CHARLESGATE NORTH, CHARLES GATE...</td>\n",
       "      <td>3824</td>\n",
       "      <td>SUEZ_HIST</td>\n",
       "      <td>3886255002</td>\n",
       "    </tr>\n",
       "    <tr>\n",
       "      <td>2902</td>\n",
       "      <td>04/17/2019 15:22:01</td>\n",
       "      <td>[PARKIS PLACE, CHARLESGATE NORTH, CHARLES GATE...</td>\n",
       "      <td>3824</td>\n",
       "      <td>SUEZ_HIST</td>\n",
       "      <td>6468460000</td>\n",
       "    </tr>\n",
       "    <tr>\n",
       "      <td>2903</td>\n",
       "      <td>04/17/2019 15:22:01</td>\n",
       "      <td>[PARKIS PLACE, CHARLESGATE NORTH, CHARLES GATE...</td>\n",
       "      <td>3824</td>\n",
       "      <td>SUEZ_HIST</td>\n",
       "      <td>7714572001</td>\n",
       "    </tr>\n",
       "  </tbody>\n",
       "</table>\n",
       "<p>2904 rows × 5 columns</p>\n",
       "</div>"
      ],
      "text/plain": [
       "                     date                                               name  \\\n",
       "0     10/23/2019 13:25:55                           AUTAJON PACKAGING-BOSTON   \n",
       "1     10/23/2019 13:24:38                          CUMMINGS PRINTING COMPANY   \n",
       "2     10/23/2019 13:24:38                          CUMMINGS PRINTING COMPANY   \n",
       "3     10/23/2019 13:24:14                          NEW HAMPSHIRE INDUSTRIES,   \n",
       "4     10/22/2019 08:57:28                                  HILLSBORO-DEERING   \n",
       "...                   ...                                                ...   \n",
       "2899  04/16/2019 16:32:57                              [RUGBY ARCHITECTURAL]   \n",
       "2900  04/16/2019 16:48:26                                 [324 CLARK ST LLC]   \n",
       "2901  04/17/2019 15:22:01  [PARKIS PLACE, CHARLESGATE NORTH, CHARLES GATE...   \n",
       "2902  04/17/2019 15:22:01  [PARKIS PLACE, CHARLESGATE NORTH, CHARLES GATE...   \n",
       "2903  04/17/2019 15:22:01  [PARKIS PLACE, CHARLESGATE NORTH, CHARLES GATE...   \n",
       "\n",
       "          pw            user        acct  \n",
       "0     u4n5d6   nhengi-auta7n   800575302  \n",
       "1     z4n2a5   nhengi-cumm4n   800145403  \n",
       "2     z4n2a5   nhengi-cumm4n   800145405  \n",
       "3     34nz85   nhengi-newh8n   800583101  \n",
       "4     74ns45  nhengi-deeri7n   800206001  \n",
       "...      ...             ...         ...  \n",
       "2899    3824       SUEZ_HIST  1631455010  \n",
       "2900    3824       SUEZ_HIST  6391959010  \n",
       "2901    3824       SUEZ_HIST  3886255002  \n",
       "2902    3824       SUEZ_HIST  6468460000  \n",
       "2903    3824       SUEZ_HIST  7714572001  \n",
       "\n",
       "[2904 rows x 5 columns]"
      ]
     },
     "execution_count": 34,
     "metadata": {},
     "output_type": "execute_result"
    }
   ],
   "source": [
    "new_email = pd.DataFrame(rest)\n",
    "new_email.reset_index(drop = True, inplace = True)\n",
    "new_email['acct'] = expand_acct\n",
    "new_email"
   ]
  },
  {
   "cell_type": "markdown",
   "metadata": {},
   "source": [
    "## get utility"
   ]
  },
  {
   "cell_type": "code",
   "execution_count": 56,
   "metadata": {},
   "outputs": [],
   "source": [
    "util = []\n",
    "\n",
    "for a in new_email.acct:\n",
    "    leading = a[:2]\n",
    "    if leading == '80':\n",
    "        util.append('PSNH')\n",
    "    elif leading == '51':\n",
    "        util.append('CLP')\n",
    "    elif leading == '54':\n",
    "        util.append('WMECO')\n",
    "    else:\n",
    "        util.append('NSTAR_NGRID')\n",
    "        \n",
    "new_email['util'] = util"
   ]
  },
  {
   "cell_type": "code",
   "execution_count": 62,
   "metadata": {},
   "outputs": [
    {
     "data": {
      "text/html": [
       "<div>\n",
       "<style scoped>\n",
       "    .dataframe tbody tr th:only-of-type {\n",
       "        vertical-align: middle;\n",
       "    }\n",
       "\n",
       "    .dataframe tbody tr th {\n",
       "        vertical-align: top;\n",
       "    }\n",
       "\n",
       "    .dataframe thead th {\n",
       "        text-align: right;\n",
       "    }\n",
       "</style>\n",
       "<table border=\"1\" class=\"dataframe\">\n",
       "  <thead>\n",
       "    <tr style=\"text-align: right;\">\n",
       "      <th></th>\n",
       "      <th>date</th>\n",
       "      <th>name</th>\n",
       "      <th>pw</th>\n",
       "      <th>user</th>\n",
       "      <th>acct</th>\n",
       "      <th>util</th>\n",
       "    </tr>\n",
       "  </thead>\n",
       "  <tbody>\n",
       "    <tr>\n",
       "      <td>0</td>\n",
       "      <td>10/24/2019 13:25:25</td>\n",
       "      <td>Greenwich Premier Services</td>\n",
       "      <td>m877c</td>\n",
       "      <td>greenp-engie</td>\n",
       "      <td>51053687067_422912009</td>\n",
       "      <td>CLP</td>\n",
       "    </tr>\n",
       "    <tr>\n",
       "      <td>1</td>\n",
       "      <td>10/24/2019 13:25:25</td>\n",
       "      <td>Greenwich Premier Services</td>\n",
       "      <td>m877c</td>\n",
       "      <td>greenp-engie</td>\n",
       "      <td>51104887039_085912003</td>\n",
       "      <td>CLP</td>\n",
       "    </tr>\n",
       "    <tr>\n",
       "      <td>2</td>\n",
       "      <td>10/24/2019 13:25:25</td>\n",
       "      <td>Greenwich Premier Services</td>\n",
       "      <td>m877c</td>\n",
       "      <td>greenp-engie</td>\n",
       "      <td>51604887034_783712008</td>\n",
       "      <td>CLP</td>\n",
       "    </tr>\n",
       "    <tr>\n",
       "      <td>3</td>\n",
       "      <td>10/24/2019 13:25:25</td>\n",
       "      <td>Greenwich Premier Services</td>\n",
       "      <td>m877c</td>\n",
       "      <td>greenp-engie</td>\n",
       "      <td>51823687066_643912000</td>\n",
       "      <td>CLP</td>\n",
       "    </tr>\n",
       "    <tr>\n",
       "      <td>4</td>\n",
       "      <td>10/24/2019 13:25:25</td>\n",
       "      <td>Greenwich Premier Services</td>\n",
       "      <td>m877c</td>\n",
       "      <td>greenp-engie</td>\n",
       "      <td>51844987073_090812005</td>\n",
       "      <td>CLP</td>\n",
       "    </tr>\n",
       "    <tr>\n",
       "      <td>...</td>\n",
       "      <td>...</td>\n",
       "      <td>...</td>\n",
       "      <td>...</td>\n",
       "      <td>...</td>\n",
       "      <td>...</td>\n",
       "      <td>...</td>\n",
       "    </tr>\n",
       "    <tr>\n",
       "      <td>989</td>\n",
       "      <td>12/04/2018 14:32:36</td>\n",
       "      <td>[U S POSTAL SERVICE, POSTMASTER 5120, U S POST...</td>\n",
       "      <td>3824</td>\n",
       "      <td>SUEZ_HIST</td>\n",
       "      <td>5128267000</td>\n",
       "      <td>CLP</td>\n",
       "    </tr>\n",
       "    <tr>\n",
       "      <td>990</td>\n",
       "      <td>12/06/2018 16:53:11</td>\n",
       "      <td>[MUELLER CORP, MUELLER CORP]</td>\n",
       "      <td>3824</td>\n",
       "      <td>SUEZ_HIST</td>\n",
       "      <td>5137830002</td>\n",
       "      <td>CLP</td>\n",
       "    </tr>\n",
       "    <tr>\n",
       "      <td>991</td>\n",
       "      <td>12/18/2018 13:10:27</td>\n",
       "      <td>[GARDNER-CONNELL LLC]</td>\n",
       "      <td>3824</td>\n",
       "      <td>SUEZ_HIST</td>\n",
       "      <td>5127846007</td>\n",
       "      <td>CLP</td>\n",
       "    </tr>\n",
       "    <tr>\n",
       "      <td>992</td>\n",
       "      <td>02/13/2019 14:04:33</td>\n",
       "      <td>[CITY OF GLOUCESTER D, CITY OF GLOUCESTER D, C...</td>\n",
       "      <td>3824</td>\n",
       "      <td>SUEZ_HIST</td>\n",
       "      <td>5179302003</td>\n",
       "      <td>CLP</td>\n",
       "    </tr>\n",
       "    <tr>\n",
       "      <td>993</td>\n",
       "      <td>04/01/2019 17:17:54</td>\n",
       "      <td>[AIRPORT HOTEL ASSOC]</td>\n",
       "      <td>3824</td>\n",
       "      <td>SUEZ_HIST</td>\n",
       "      <td>5150414006</td>\n",
       "      <td>CLP</td>\n",
       "    </tr>\n",
       "  </tbody>\n",
       "</table>\n",
       "<p>994 rows × 6 columns</p>\n",
       "</div>"
      ],
      "text/plain": [
       "                    date                                               name  \\\n",
       "0    10/24/2019 13:25:25                         Greenwich Premier Services   \n",
       "1    10/24/2019 13:25:25                         Greenwich Premier Services   \n",
       "2    10/24/2019 13:25:25                         Greenwich Premier Services   \n",
       "3    10/24/2019 13:25:25                         Greenwich Premier Services   \n",
       "4    10/24/2019 13:25:25                         Greenwich Premier Services   \n",
       "..                   ...                                                ...   \n",
       "989  12/04/2018 14:32:36  [U S POSTAL SERVICE, POSTMASTER 5120, U S POST...   \n",
       "990  12/06/2018 16:53:11                       [MUELLER CORP, MUELLER CORP]   \n",
       "991  12/18/2018 13:10:27                              [GARDNER-CONNELL LLC]   \n",
       "992  02/13/2019 14:04:33  [CITY OF GLOUCESTER D, CITY OF GLOUCESTER D, C...   \n",
       "993  04/01/2019 17:17:54                              [AIRPORT HOTEL ASSOC]   \n",
       "\n",
       "        pw          user                   acct util  \n",
       "0    m877c  greenp-engie  51053687067_422912009  CLP  \n",
       "1    m877c  greenp-engie  51104887039_085912003  CLP  \n",
       "2    m877c  greenp-engie  51604887034_783712008  CLP  \n",
       "3    m877c  greenp-engie  51823687066_643912000  CLP  \n",
       "4    m877c  greenp-engie  51844987073_090812005  CLP  \n",
       "..     ...           ...                    ...  ...  \n",
       "989   3824     SUEZ_HIST             5128267000  CLP  \n",
       "990   3824     SUEZ_HIST             5137830002  CLP  \n",
       "991   3824     SUEZ_HIST             5127846007  CLP  \n",
       "992   3824     SUEZ_HIST             5179302003  CLP  \n",
       "993   3824     SUEZ_HIST             5150414006  CLP  \n",
       "\n",
       "[994 rows x 6 columns]"
      ]
     },
     "execution_count": 62,
     "metadata": {},
     "output_type": "execute_result"
    }
   ],
   "source": [
    "test = [(u == 'CLP' or u == 'WMECO') for u in new_email.util]\n",
    "eversource = new_email[test].reset_index(drop = True)\n",
    "eversource"
   ]
  },
  {
   "cell_type": "code",
   "execution_count": 63,
   "metadata": {},
   "outputs": [
    {
     "data": {
      "text/plain": [
       "'C:\\\\Users\\\\wb5888\\\\la-tools-test\\\\IDR_Drop\\\\Logins'"
      ]
     },
     "execution_count": 63,
     "metadata": {},
     "output_type": "execute_result"
    }
   ],
   "source": [
    "os.getcwd()"
   ]
  },
  {
   "cell_type": "code",
   "execution_count": 64,
   "metadata": {},
   "outputs": [],
   "source": [
    "eversource.to_csv('eversource_logins.csv', index = False)"
   ]
  },
  {
   "cell_type": "markdown",
   "metadata": {},
   "source": [
    "## Filter downloaded files from EPO portal"
   ]
  },
  {
   "cell_type": "code",
   "execution_count": 7,
   "metadata": {},
   "outputs": [
    {
     "name": "stdout",
     "output_type": "stream",
     "text": [
      "user:  itool-engie\n",
      "password:  xt386\n",
      "set to last  400  days.\n",
      "logging on...\n",
      "looking for 4 accts.\n",
      "found items in portal.\n",
      "trying search & download...\n",
      "\n",
      "submitting...\n",
      "downloaded EPO data file eversource_b6d0b506-a38e-44f2-8ebc-35ccd507ec51_edad3b36_hourlycsv.csv.\n",
      "done with 1 of 3.\n",
      "---------------------------\n",
      "user:  itool-engie\n",
      "password:  xt386\n",
      "set to last  400  days.\n",
      "logging on...\n",
      "looking for 2 accts.\n",
      "found items in portal.\n",
      "trying search & download...\n",
      "\n",
      "submitting...\n",
      "downloaded EPO data file eversource_a20d3b26-3431-43b8-9cf8-5a5cbbd2dbea_9878bca1_hourlycsv.csv.\n",
      "done with 2 of 3.\n",
      "---------------------------\n",
      "user:  aea-nengie\n",
      "password:  rtg291\n",
      "set to last  400  days.\n",
      "logging on...\n",
      "looking for 1 accts.\n",
      "found items in portal.\n",
      "trying search & download...\n",
      "\n",
      "submitting...\n",
      "downloaded EPO data file eversource_4957da1b-9ced-48cd-93ed-305ad563208b_e17ea5ab_hourlycsv.csv.\n",
      "done with 3 of 3.\n",
      "---------------------------\n",
      "downloaded 3 files in 41.02 seconds.\n"
     ]
    }
   ],
   "source": [
    "results = []\n",
    "files = []\n",
    "beg = time.time()\n",
    "\n",
    "for row in range(0, len(output_df.accts)):\n",
    "    try:\n",
    "        file = EPOwebscrape.idr_download(row, output_df)\n",
    "        files.append(file)\n",
    "        results.append(True)\n",
    "        print('done with {} of {}.'.format(row+1, len(output_df.accts)))\n",
    "        print('---------------------------')\n",
    "        \n",
    "    except:\n",
    "        print('error, accts {}.'.format(output_df.accts[row]))\n",
    "        files.append(None)\n",
    "        results.append(False)\n",
    "        print('done with {} of {}.'.format(row+1, len(output_df.accts)))\n",
    "        print('---------------------------')\n",
    "\n",
    "end = time.time()\n",
    "elapse = round(end - beg, 2)\n",
    "print('downloaded {} files in {} seconds.'.format(len(output_df.accts), elapse))\n",
    "output_df['files'] = files\n",
    "output_df['success'] = results"
   ]
  },
  {
   "cell_type": "markdown",
   "metadata": {},
   "source": [
    "## Show downloaded files from EPO portal"
   ]
  },
  {
   "cell_type": "code",
   "execution_count": 13,
   "metadata": {},
   "outputs": [],
   "source": [
    "output_df.to_excel('output_df_results.xlsx')\n",
    "#output_df = pd.read_excel('output_df_results.xlsx')"
   ]
  },
  {
   "cell_type": "code",
   "execution_count": 61,
   "metadata": {},
   "outputs": [
    {
     "data": {
      "text/html": [
       "<div>\n",
       "<style scoped>\n",
       "    .dataframe tbody tr th:only-of-type {\n",
       "        vertical-align: middle;\n",
       "    }\n",
       "\n",
       "    .dataframe tbody tr th {\n",
       "        vertical-align: top;\n",
       "    }\n",
       "\n",
       "    .dataframe thead th {\n",
       "        text-align: right;\n",
       "    }\n",
       "</style>\n",
       "<table border=\"1\" class=\"dataframe\">\n",
       "  <thead>\n",
       "    <tr style=\"text-align: right;\">\n",
       "      <th></th>\n",
       "      <th>accts</th>\n",
       "      <th>date</th>\n",
       "      <th>name</th>\n",
       "      <th>user</th>\n",
       "      <th>pw</th>\n",
       "      <th>util</th>\n",
       "      <th>files</th>\n",
       "      <th>success</th>\n",
       "    </tr>\n",
       "  </thead>\n",
       "  <tbody>\n",
       "    <tr>\n",
       "      <td>0</td>\n",
       "      <td>[51640724076_352382007, 51733934061_347092002,...</td>\n",
       "      <td>2019-10-11 11:36:04</td>\n",
       "      <td>Hartford Healthcare Corporation</td>\n",
       "      <td>harth-engie</td>\n",
       "      <td>78cck</td>\n",
       "      <td>CLP</td>\n",
       "      <td>eversource_2e9c6407-b7f6-4476-9e01-1aa665e843b...</td>\n",
       "      <td>True</td>\n",
       "    </tr>\n",
       "    <tr>\n",
       "      <td>1</td>\n",
       "      <td>[51640724076_352382007, 51733934061_347092002,...</td>\n",
       "      <td>2019-10-11 10:34:43</td>\n",
       "      <td>Hartford Healthcare Corporation</td>\n",
       "      <td>harth-engie</td>\n",
       "      <td>78cck</td>\n",
       "      <td>CLP</td>\n",
       "      <td>eversource_81dc93e5-6fb1-4e33-b189-1e1dd5bc95e...</td>\n",
       "      <td>True</td>\n",
       "    </tr>\n",
       "  </tbody>\n",
       "</table>\n",
       "</div>"
      ],
      "text/plain": [
       "                                               accts                date  \\\n",
       "0  [51640724076_352382007, 51733934061_347092002,... 2019-10-11 11:36:04   \n",
       "1  [51640724076_352382007, 51733934061_347092002,... 2019-10-11 10:34:43   \n",
       "\n",
       "                              name         user     pw util  \\\n",
       "0  Hartford Healthcare Corporation  harth-engie  78cck  CLP   \n",
       "1  Hartford Healthcare Corporation  harth-engie  78cck  CLP   \n",
       "\n",
       "                                               files  success  \n",
       "0  eversource_2e9c6407-b7f6-4476-9e01-1aa665e843b...     True  \n",
       "1  eversource_81dc93e5-6fb1-4e33-b189-1e1dd5bc95e...     True  "
      ]
     },
     "execution_count": 61,
     "metadata": {},
     "output_type": "execute_result"
    }
   ],
   "source": [
    "output_df"
   ]
  },
  {
   "cell_type": "markdown",
   "metadata": {},
   "source": [
    "Choose files to split into Raw IDR files."
   ]
  },
  {
   "cell_type": "markdown",
   "metadata": {},
   "source": [
    "## Batch process downloaded EPO files into Raw IDRs"
   ]
  },
  {
   "cell_type": "code",
   "execution_count": 64,
   "metadata": {},
   "outputs": [
    {
     "name": "stdout",
     "output_type": "stream",
     "text": [
      "found 4 accounts.\n",
      "CLP_51640724076_352382007_IDR_RAW.csv  written.\n",
      "CLP_51733934061_347092002_IDR_RAW.csv  written.\n",
      "CLP_51801694019_298103007_IDR_RAW.csv  written.\n",
      "CLP_51970204004_216762005_IDR_RAW.csv  written.\n",
      "success, file: eversource_2e9c6407-b7f6-4476-9e01-1aa665e843b5_600a1380_hourlycsv.csv\n",
      "found 4 accounts.\n",
      "success, file: eversource_81dc93e5-6fb1-4e33-b189-1e1dd5bc95e1_b4b7780f_hourlycsv.csv\n"
     ]
    }
   ],
   "source": [
    "readpath = os.path.join(basepath, 'Downloads')\n",
    "writepath = os.path.join(basepath, 'Raw_IDR')\n",
    "error_log = []\n",
    "\n",
    "for i, file in enumerate(output_df.files):\n",
    "    try:\n",
    "        if file:\n",
    "            os.chdir(readpath)\n",
    "            filedf = pd.read_csv(file, sep = \",\", header = 0)\n",
    "        \n",
    "            IDRdrop.raw_split(filedf, readpath, writepath, output_df.util[i], output_df.accts[i])\n",
    "            print('success, file: {}'.format(file))\n",
    "            \n",
    "    except:\n",
    "        print('error, file: {}.'.format(file))"
   ]
  },
  {
   "cell_type": "markdown",
   "metadata": {},
   "source": [
    "## Show Raw IDR files based on utility"
   ]
  },
  {
   "cell_type": "markdown",
   "metadata": {},
   "source": [
    "Here *rawpath* is directory containing Raw IDRs - 25 most recent will be shown."
   ]
  },
  {
   "cell_type": "code",
   "execution_count": 63,
   "metadata": {},
   "outputs": [
    {
     "name": "stdout",
     "output_type": "stream",
     "text": [
      "files found in dir:  /home/jupyter-engiela/la-tools-test/IDR_Drop/Raw_IDR\n",
      "                                      files                time\n",
      "0   WMECO_54977381078_126733008_IDR_RAW.csv 2019-10-15 14:11:16\n",
      "1     CLP_51482323003_190712004_IDR_RAW.csv 2019-10-15 14:11:16\n",
      "2   WMECO_54202385001_052931000_IDR_RAW.csv 2019-10-15 14:11:16\n",
      "3   WMECO_54364315051_042703006_IDR_RAW.csv 2019-10-15 14:11:16\n",
      "4   WMECO_54010781037_952531008_IDR_RAW.csv 2019-10-15 14:11:16\n",
      "5     CLP_51874553092_860042003_IDR_RAW.csv 2019-10-15 14:11:16\n",
      "6   WMECO_54480402023_526541004_IDR_RAW.csv 2019-10-15 14:11:16\n",
      "7     CLP_51549893006_482562007_IDR_RAW.csv 2019-10-15 14:11:16\n",
      "8     CLP_51436492052_684002003_IDR_RAW.csv 2019-10-15 14:11:16\n",
      "9     CLP_51801694019_298103007_IDR_RAW.csv 2019-10-15 14:11:15\n",
      "10    CLP_51970204004_216762005_IDR_RAW.csv 2019-10-15 14:11:15\n",
      "11    CLP_51640724076_352382007_IDR_RAW.csv 2019-10-15 14:11:15\n",
      "12    CLP_51733934061_347092002_IDR_RAW.csv 2019-10-15 14:11:15\n",
      "13                       .ipynb_checkpoints 2019-09-01 21:32:21\n"
     ]
    }
   ],
   "source": [
    "rawfiles = IDRdrop.show_dir(writepath, 25)\n",
    "print(rawfiles)"
   ]
  },
  {
   "cell_type": "code",
   "execution_count": 32,
   "metadata": {},
   "outputs": [
    {
     "name": "stdout",
     "output_type": "stream",
     "text": [
      "files to processed: \n"
     ]
    },
    {
     "data": {
      "text/plain": [
       "['WMECO_54977381078_126733008_IDR_RAW.csv',\n",
       " 'CLP_51482323003_190712004_IDR_RAW.csv',\n",
       " 'WMECO_54202385001_052931000_IDR_RAW.csv',\n",
       " 'WMECO_54364315051_042703006_IDR_RAW.csv',\n",
       " 'WMECO_54010781037_952531008_IDR_RAW.csv',\n",
       " 'CLP_51874553092_860042003_IDR_RAW.csv',\n",
       " 'WMECO_54480402023_526541004_IDR_RAW.csv',\n",
       " 'CLP_51549893006_482562007_IDR_RAW.csv',\n",
       " 'CLP_51436492052_684002003_IDR_RAW.csv',\n",
       " 'CLP_51801694019_298103007_IDR_RAW.csv',\n",
       " 'CLP_51970204004_216762005_IDR_RAW.csv',\n",
       " 'CLP_51640724076_352382007_IDR_RAW.csv',\n",
       " 'CLP_51733934061_347092002_IDR_RAW.csv']"
      ]
     },
     "execution_count": 32,
     "metadata": {},
     "output_type": "execute_result"
    }
   ],
   "source": [
    "index = [36]\n",
    "\n",
    "processfiles = list(rawfiles.files[:13])\n",
    "print('files to processed: ')\n",
    "processfiles"
   ]
  },
  {
   "cell_type": "markdown",
   "metadata": {},
   "source": [
    "## Batch filter Raw IDR into IDR files to be dropped"
   ]
  },
  {
   "cell_type": "code",
   "execution_count": 33,
   "metadata": {},
   "outputs": [
    {
     "name": "stdout",
     "output_type": "stream",
     "text": [
      "overlap removed at 2/6/2019, for file:\n",
      "success, file:  WMECO_54977381078_126733008_IDR_RAW.csv\n",
      "success, file:  CLP_51482323003_190712004_IDR_RAW.csv\n",
      "success, file:  WMECO_54202385001_052931000_IDR_RAW.csv\n",
      "success, file:  WMECO_54364315051_042703006_IDR_RAW.csv\n",
      "success, file:  WMECO_54010781037_952531008_IDR_RAW.csv\n",
      "overlap removed at 6/27/2019, for file:\n",
      "success, file:  CLP_51874553092_860042003_IDR_RAW.csv\n",
      "success, file:  WMECO_54480402023_526541004_IDR_RAW.csv\n",
      "overlap removed at 2/13/2019, for file:\n",
      "success, file:  CLP_51549893006_482562007_IDR_RAW.csv\n",
      "success, file:  CLP_51436492052_684002003_IDR_RAW.csv\n",
      "success, file:  CLP_51801694019_298103007_IDR_RAW.csv\n",
      "success, file:  CLP_51970204004_216762005_IDR_RAW.csv\n",
      "overlap removed at 8/10/2019, for file:\n",
      "success, file:  CLP_51640724076_352382007_IDR_RAW.csv\n",
      "success, file:  CLP_51733934061_347092002_IDR_RAW.csv\n"
     ]
    }
   ],
   "source": [
    "readpath = os.path.join(basepath, 'Raw_IDR')\n",
    "writepath = os.path.join(basepath, 'IDR')\n",
    "error_log = []\n",
    "\n",
    "for dropfile in processfiles:\n",
    "    try:\n",
    "        IDRdrop.data_drop(dropfile, readpath, writepath)\n",
    "        print('success, file: ', dropfile)\n",
    "    \n",
    "    except:\n",
    "        error_log.append(dropfile)\n",
    "        print(\"error, file: \", dropfile)"
   ]
  },
  {
   "cell_type": "markdown",
   "metadata": {},
   "source": [
    "## Turn Horizontal to Vertical"
   ]
  },
  {
   "cell_type": "code",
   "execution_count": 40,
   "metadata": {},
   "outputs": [
    {
     "name": "stdout",
     "output_type": "stream",
     "text": [
      "files found in dir:  /home/jupyter-engiela/la-tools-test/IDR_Drop/IDR\n"
     ]
    }
   ],
   "source": [
    "idr = IDRdrop.show_dir(writepath, 30)"
   ]
  },
  {
   "cell_type": "code",
   "execution_count": 49,
   "metadata": {},
   "outputs": [
    {
     "name": "stdout",
     "output_type": "stream",
     "text": [
      "working with: \n"
     ]
    },
    {
     "data": {
      "text/plain": [
       "['WMECO_54364315051_042703006_IDR_vert.csv',\n",
       " 'CLP_51640724076_352382007_IDR_3_vert.csv',\n",
       " 'CLP_51733934061_347092002_IDR_vert.csv',\n",
       " 'CLP_51549893006_482562007_IDR_vert.csv',\n",
       " 'CLP_51436492052_684002003_IDR_vert.csv',\n",
       " 'WMECO_54202385001_052931000_IDR_vert.csv',\n",
       " 'CLP_51482323003_190712004_IDR_vert.csv',\n",
       " 'CLP_51549893006_482562007_IDR_3_vert.csv',\n",
       " 'WMECO_54977381078_126733008_IDR_vert.csv',\n",
       " 'CLP_51874553092_860042003_IDR_3_vert.csv',\n",
       " 'WMECO_54010781037_952531008_IDR_vert.csv',\n",
       " 'CLP_51801694019_298103007_IDR_vert.csv',\n",
       " 'CLP_51874553092_860042003_IDR_vert.csv',\n",
       " 'CLP_51970204004_216762005_IDR.csv',\n",
       " 'WMECO_54010781037_952531008_IDR.csv',\n",
       " 'CLP_51874553092_860042003_IDR_3.csv',\n",
       " 'WMECO_54977381078_126733008_IDR.csv',\n",
       " 'CLP_51874553092_860042003_IDR.csv',\n",
       " 'CLP_51549893006_482562007_IDR_3.csv',\n",
       " 'CLP_51801694019_298103007_IDR.csv',\n",
       " 'WMECO_54202385001_052931000_IDR.csv',\n",
       " 'CLP_51436492052_684002003_IDR.csv',\n",
       " 'CLP_51549893006_482562007_IDR.csv',\n",
       " 'CLP_51733934061_347092002_IDR.csv',\n",
       " 'CLP_51640724076_352382007_IDR_3.csv',\n",
       " 'WMECO_54364315051_042703006_IDR.csv',\n",
       " 'WMECO_54480402023_526541004_IDR.csv',\n",
       " 'CLP_51640724076_352382007_IDR.csv',\n",
       " 'WMECO_54977381078_126733008_IDR_3.csv',\n",
       " 'CLP_51482323003_190712004_IDR.csv']"
      ]
     },
     "execution_count": 49,
     "metadata": {},
     "output_type": "execute_result"
    }
   ],
   "source": [
    "vert_files = list(idr.files)\n",
    "print('working with: ')\n",
    "vert_files"
   ]
  },
  {
   "cell_type": "code",
   "execution_count": 46,
   "metadata": {},
   "outputs": [
    {
     "ename": "FileNotFoundError",
     "evalue": "[Errno 2] File b'4' does not exist: b'4'",
     "output_type": "error",
     "traceback": [
      "\u001b[0;31m---------------------------------------------------------------------------\u001b[0m",
      "\u001b[0;31mFileNotFoundError\u001b[0m                         Traceback (most recent call last)",
      "\u001b[0;32m<ipython-input-46-7cbf78223d94>\u001b[0m in \u001b[0;36m<module>\u001b[0;34m\u001b[0m\n\u001b[1;32m      1\u001b[0m \u001b[0;32mfor\u001b[0m \u001b[0mv\u001b[0m \u001b[0;32min\u001b[0m \u001b[0mvert_files\u001b[0m\u001b[0;34m:\u001b[0m\u001b[0;34m\u001b[0m\u001b[0;34m\u001b[0m\u001b[0m\n\u001b[0;32m----> 2\u001b[0;31m     \u001b[0mIDRdrop\u001b[0m\u001b[0;34m.\u001b[0m\u001b[0mhor_to_vert\u001b[0m\u001b[0;34m(\u001b[0m\u001b[0mv\u001b[0m\u001b[0;34m)\u001b[0m\u001b[0;34m\u001b[0m\u001b[0;34m\u001b[0m\u001b[0m\n\u001b[0m",
      "\u001b[0;32m~/la-tools-test/IDR_Drop/IDRdrop.py\u001b[0m in \u001b[0;36mhor_to_vert\u001b[0;34m(file)\u001b[0m\n\u001b[1;32m    195\u001b[0m \u001b[0;32mdef\u001b[0m \u001b[0mhor_to_vert\u001b[0m\u001b[0;34m(\u001b[0m\u001b[0mfile\u001b[0m\u001b[0;34m)\u001b[0m\u001b[0;34m:\u001b[0m\u001b[0;34m\u001b[0m\u001b[0;34m\u001b[0m\u001b[0m\n\u001b[1;32m    196\u001b[0m \u001b[0;34m\u001b[0m\u001b[0m\n\u001b[0;32m--> 197\u001b[0;31m     \u001b[0mf\u001b[0m \u001b[0;34m=\u001b[0m \u001b[0mpd\u001b[0m\u001b[0;34m.\u001b[0m\u001b[0mread_csv\u001b[0m\u001b[0;34m(\u001b[0m\u001b[0mfile\u001b[0m\u001b[0;34m)\u001b[0m\u001b[0;34m\u001b[0m\u001b[0;34m\u001b[0m\u001b[0m\n\u001b[0m\u001b[1;32m    198\u001b[0m     \u001b[0mhrs\u001b[0m \u001b[0;34m=\u001b[0m \u001b[0mf\u001b[0m\u001b[0;34m.\u001b[0m\u001b[0mcolumns\u001b[0m\u001b[0;34m[\u001b[0m\u001b[0;36m4\u001b[0m\u001b[0;34m:\u001b[0m\u001b[0;34m]\u001b[0m\u001b[0;34m\u001b[0m\u001b[0;34m\u001b[0m\u001b[0m\n\u001b[1;32m    199\u001b[0m     \u001b[0mnew_f\u001b[0m \u001b[0;34m=\u001b[0m \u001b[0mf\u001b[0m\u001b[0;34m.\u001b[0m\u001b[0mmelt\u001b[0m\u001b[0;34m(\u001b[0m\u001b[0mid_vars\u001b[0m \u001b[0;34m=\u001b[0m \u001b[0;34m'Date'\u001b[0m\u001b[0;34m,\u001b[0m \u001b[0mvalue_vars\u001b[0m \u001b[0;34m=\u001b[0m \u001b[0mhrs\u001b[0m\u001b[0;34m)\u001b[0m\u001b[0;34m\u001b[0m\u001b[0;34m\u001b[0m\u001b[0m\n",
      "\u001b[0;32m/opt/tljh/user/lib/python3.6/site-packages/pandas/io/parsers.py\u001b[0m in \u001b[0;36mparser_f\u001b[0;34m(filepath_or_buffer, sep, delimiter, header, names, index_col, usecols, squeeze, prefix, mangle_dupe_cols, dtype, engine, converters, true_values, false_values, skipinitialspace, skiprows, skipfooter, nrows, na_values, keep_default_na, na_filter, verbose, skip_blank_lines, parse_dates, infer_datetime_format, keep_date_col, date_parser, dayfirst, cache_dates, iterator, chunksize, compression, thousands, decimal, lineterminator, quotechar, quoting, doublequote, escapechar, comment, encoding, dialect, error_bad_lines, warn_bad_lines, delim_whitespace, low_memory, memory_map, float_precision)\u001b[0m\n\u001b[1;32m    683\u001b[0m         )\n\u001b[1;32m    684\u001b[0m \u001b[0;34m\u001b[0m\u001b[0m\n\u001b[0;32m--> 685\u001b[0;31m         \u001b[0;32mreturn\u001b[0m \u001b[0m_read\u001b[0m\u001b[0;34m(\u001b[0m\u001b[0mfilepath_or_buffer\u001b[0m\u001b[0;34m,\u001b[0m \u001b[0mkwds\u001b[0m\u001b[0;34m)\u001b[0m\u001b[0;34m\u001b[0m\u001b[0;34m\u001b[0m\u001b[0m\n\u001b[0m\u001b[1;32m    686\u001b[0m \u001b[0;34m\u001b[0m\u001b[0m\n\u001b[1;32m    687\u001b[0m     \u001b[0mparser_f\u001b[0m\u001b[0;34m.\u001b[0m\u001b[0m__name__\u001b[0m \u001b[0;34m=\u001b[0m \u001b[0mname\u001b[0m\u001b[0;34m\u001b[0m\u001b[0;34m\u001b[0m\u001b[0m\n",
      "\u001b[0;32m/opt/tljh/user/lib/python3.6/site-packages/pandas/io/parsers.py\u001b[0m in \u001b[0;36m_read\u001b[0;34m(filepath_or_buffer, kwds)\u001b[0m\n\u001b[1;32m    455\u001b[0m \u001b[0;34m\u001b[0m\u001b[0m\n\u001b[1;32m    456\u001b[0m     \u001b[0;31m# Create the parser.\u001b[0m\u001b[0;34m\u001b[0m\u001b[0;34m\u001b[0m\u001b[0;34m\u001b[0m\u001b[0m\n\u001b[0;32m--> 457\u001b[0;31m     \u001b[0mparser\u001b[0m \u001b[0;34m=\u001b[0m \u001b[0mTextFileReader\u001b[0m\u001b[0;34m(\u001b[0m\u001b[0mfp_or_buf\u001b[0m\u001b[0;34m,\u001b[0m \u001b[0;34m**\u001b[0m\u001b[0mkwds\u001b[0m\u001b[0;34m)\u001b[0m\u001b[0;34m\u001b[0m\u001b[0;34m\u001b[0m\u001b[0m\n\u001b[0m\u001b[1;32m    458\u001b[0m \u001b[0;34m\u001b[0m\u001b[0m\n\u001b[1;32m    459\u001b[0m     \u001b[0;32mif\u001b[0m \u001b[0mchunksize\u001b[0m \u001b[0;32mor\u001b[0m \u001b[0miterator\u001b[0m\u001b[0;34m:\u001b[0m\u001b[0;34m\u001b[0m\u001b[0;34m\u001b[0m\u001b[0m\n",
      "\u001b[0;32m/opt/tljh/user/lib/python3.6/site-packages/pandas/io/parsers.py\u001b[0m in \u001b[0;36m__init__\u001b[0;34m(self, f, engine, **kwds)\u001b[0m\n\u001b[1;32m    893\u001b[0m             \u001b[0mself\u001b[0m\u001b[0;34m.\u001b[0m\u001b[0moptions\u001b[0m\u001b[0;34m[\u001b[0m\u001b[0;34m\"has_index_names\"\u001b[0m\u001b[0;34m]\u001b[0m \u001b[0;34m=\u001b[0m \u001b[0mkwds\u001b[0m\u001b[0;34m[\u001b[0m\u001b[0;34m\"has_index_names\"\u001b[0m\u001b[0;34m]\u001b[0m\u001b[0;34m\u001b[0m\u001b[0;34m\u001b[0m\u001b[0m\n\u001b[1;32m    894\u001b[0m \u001b[0;34m\u001b[0m\u001b[0m\n\u001b[0;32m--> 895\u001b[0;31m         \u001b[0mself\u001b[0m\u001b[0;34m.\u001b[0m\u001b[0m_make_engine\u001b[0m\u001b[0;34m(\u001b[0m\u001b[0mself\u001b[0m\u001b[0;34m.\u001b[0m\u001b[0mengine\u001b[0m\u001b[0;34m)\u001b[0m\u001b[0;34m\u001b[0m\u001b[0;34m\u001b[0m\u001b[0m\n\u001b[0m\u001b[1;32m    896\u001b[0m \u001b[0;34m\u001b[0m\u001b[0m\n\u001b[1;32m    897\u001b[0m     \u001b[0;32mdef\u001b[0m \u001b[0mclose\u001b[0m\u001b[0;34m(\u001b[0m\u001b[0mself\u001b[0m\u001b[0;34m)\u001b[0m\u001b[0;34m:\u001b[0m\u001b[0;34m\u001b[0m\u001b[0;34m\u001b[0m\u001b[0m\n",
      "\u001b[0;32m/opt/tljh/user/lib/python3.6/site-packages/pandas/io/parsers.py\u001b[0m in \u001b[0;36m_make_engine\u001b[0;34m(self, engine)\u001b[0m\n\u001b[1;32m   1133\u001b[0m     \u001b[0;32mdef\u001b[0m \u001b[0m_make_engine\u001b[0m\u001b[0;34m(\u001b[0m\u001b[0mself\u001b[0m\u001b[0;34m,\u001b[0m \u001b[0mengine\u001b[0m\u001b[0;34m=\u001b[0m\u001b[0;34m\"c\"\u001b[0m\u001b[0;34m)\u001b[0m\u001b[0;34m:\u001b[0m\u001b[0;34m\u001b[0m\u001b[0;34m\u001b[0m\u001b[0m\n\u001b[1;32m   1134\u001b[0m         \u001b[0;32mif\u001b[0m \u001b[0mengine\u001b[0m \u001b[0;34m==\u001b[0m \u001b[0;34m\"c\"\u001b[0m\u001b[0;34m:\u001b[0m\u001b[0;34m\u001b[0m\u001b[0;34m\u001b[0m\u001b[0m\n\u001b[0;32m-> 1135\u001b[0;31m             \u001b[0mself\u001b[0m\u001b[0;34m.\u001b[0m\u001b[0m_engine\u001b[0m \u001b[0;34m=\u001b[0m \u001b[0mCParserWrapper\u001b[0m\u001b[0;34m(\u001b[0m\u001b[0mself\u001b[0m\u001b[0;34m.\u001b[0m\u001b[0mf\u001b[0m\u001b[0;34m,\u001b[0m \u001b[0;34m**\u001b[0m\u001b[0mself\u001b[0m\u001b[0;34m.\u001b[0m\u001b[0moptions\u001b[0m\u001b[0;34m)\u001b[0m\u001b[0;34m\u001b[0m\u001b[0;34m\u001b[0m\u001b[0m\n\u001b[0m\u001b[1;32m   1136\u001b[0m         \u001b[0;32melse\u001b[0m\u001b[0;34m:\u001b[0m\u001b[0;34m\u001b[0m\u001b[0;34m\u001b[0m\u001b[0m\n\u001b[1;32m   1137\u001b[0m             \u001b[0;32mif\u001b[0m \u001b[0mengine\u001b[0m \u001b[0;34m==\u001b[0m \u001b[0;34m\"python\"\u001b[0m\u001b[0;34m:\u001b[0m\u001b[0;34m\u001b[0m\u001b[0;34m\u001b[0m\u001b[0m\n",
      "\u001b[0;32m/opt/tljh/user/lib/python3.6/site-packages/pandas/io/parsers.py\u001b[0m in \u001b[0;36m__init__\u001b[0;34m(self, src, **kwds)\u001b[0m\n\u001b[1;32m   1915\u001b[0m         \u001b[0mkwds\u001b[0m\u001b[0;34m[\u001b[0m\u001b[0;34m\"usecols\"\u001b[0m\u001b[0;34m]\u001b[0m \u001b[0;34m=\u001b[0m \u001b[0mself\u001b[0m\u001b[0;34m.\u001b[0m\u001b[0musecols\u001b[0m\u001b[0;34m\u001b[0m\u001b[0;34m\u001b[0m\u001b[0m\n\u001b[1;32m   1916\u001b[0m \u001b[0;34m\u001b[0m\u001b[0m\n\u001b[0;32m-> 1917\u001b[0;31m         \u001b[0mself\u001b[0m\u001b[0;34m.\u001b[0m\u001b[0m_reader\u001b[0m \u001b[0;34m=\u001b[0m \u001b[0mparsers\u001b[0m\u001b[0;34m.\u001b[0m\u001b[0mTextReader\u001b[0m\u001b[0;34m(\u001b[0m\u001b[0msrc\u001b[0m\u001b[0;34m,\u001b[0m \u001b[0;34m**\u001b[0m\u001b[0mkwds\u001b[0m\u001b[0;34m)\u001b[0m\u001b[0;34m\u001b[0m\u001b[0;34m\u001b[0m\u001b[0m\n\u001b[0m\u001b[1;32m   1918\u001b[0m         \u001b[0mself\u001b[0m\u001b[0;34m.\u001b[0m\u001b[0munnamed_cols\u001b[0m \u001b[0;34m=\u001b[0m \u001b[0mself\u001b[0m\u001b[0;34m.\u001b[0m\u001b[0m_reader\u001b[0m\u001b[0;34m.\u001b[0m\u001b[0munnamed_cols\u001b[0m\u001b[0;34m\u001b[0m\u001b[0;34m\u001b[0m\u001b[0m\n\u001b[1;32m   1919\u001b[0m \u001b[0;34m\u001b[0m\u001b[0m\n",
      "\u001b[0;32mpandas/_libs/parsers.pyx\u001b[0m in \u001b[0;36mpandas._libs.parsers.TextReader.__cinit__\u001b[0;34m()\u001b[0m\n",
      "\u001b[0;32mpandas/_libs/parsers.pyx\u001b[0m in \u001b[0;36mpandas._libs.parsers.TextReader._setup_parser_source\u001b[0;34m()\u001b[0m\n",
      "\u001b[0;31mFileNotFoundError\u001b[0m: [Errno 2] File b'4' does not exist: b'4'"
     ]
    }
   ],
   "source": [
    "for v in vert_files:\n",
    "    IDRdrop.hor_to_vert(v)"
   ]
  },
  {
   "cell_type": "code",
   "execution_count": null,
   "metadata": {},
   "outputs": [],
   "source": []
  }
 ],
 "metadata": {
  "kernelspec": {
   "display_name": "Python 3",
   "language": "python",
   "name": "python3"
  },
  "language_info": {
   "codemirror_mode": {
    "name": "ipython",
    "version": 3
   },
   "file_extension": ".py",
   "mimetype": "text/x-python",
   "name": "python",
   "nbconvert_exporter": "python",
   "pygments_lexer": "ipython3",
   "version": "3.7.4"
  }
 },
 "nbformat": 4,
 "nbformat_minor": 2
}
