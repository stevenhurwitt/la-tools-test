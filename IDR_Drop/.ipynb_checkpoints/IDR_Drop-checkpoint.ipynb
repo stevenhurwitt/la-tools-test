{
 "cells": [
  {
   "cell_type": "markdown",
   "metadata": {},
   "source": [
    "# IDR Drop"
   ]
  },
  {
   "cell_type": "markdown",
   "metadata": {},
   "source": [
    "Implements batch tasks used for IDR drops."
   ]
  },
  {
   "cell_type": "code",
   "execution_count": 10,
   "metadata": {},
   "outputs": [
    {
     "name": "stdout",
     "output_type": "stream",
     "text": [
      "imported modules successfully.\n"
     ]
    }
   ],
   "source": [
    "import pandas as pd\n",
    "import numpy as np\n",
    "import IDRdrop\n",
    "import json\n",
    "import os\n",
    "print('imported modules successfully.')"
   ]
  },
  {
   "cell_type": "markdown",
   "metadata": {},
   "source": [
    "# Show downloaded files from EPO portal"
   ]
  },
  {
   "cell_type": "markdown",
   "metadata": {},
   "source": [
    "Here *filepath* is a directory containing downloaded EPO files. Code will print 20 most recent files."
   ]
  },
  {
   "cell_type": "code",
   "execution_count": 11,
   "metadata": {},
   "outputs": [
    {
     "name": "stdout",
     "output_type": "stream",
     "text": [
      "files found in dir:  C:\\Users\\wb5888\\Downloads\n",
      "                                                files                time\n",
      "0   ngrid_82a34f57-8422-4740-8252-38c7673edc24_325... 2020-02-19 15:51:11\n",
      "1   eversource_3310bba0-2d7a-4e6a-a4d6-ce776964957... 2020-02-19 14:15:08\n",
      "2                             6778_20200219021504.zip 2020-02-19 13:15:27\n",
      "3                                      output (1).csv 2020-02-19 13:14:20\n",
      "4   ngrid_28c45903-10ed-4691-bca5-53994e5b5825_13f... 2020-02-19 11:54:21\n",
      "5          FileZilla_3.46.3_win64_sponsored-setup.exe 2020-02-19 10:01:20\n",
      "6   ngrid_ca1eecb5-8001-49f9-ada5-fd5d76552610_77d... 2020-02-19 08:44:26\n",
      "7   ngrid_ca1eecb5-8001-49f9-ada5-fd5d76552610_e6b... 2020-02-19 08:43:25\n",
      "8   ngrid_1e3797ea-bdb3-4fa1-8439-060ea49a1897_ec3... 2020-02-18 13:44:04\n",
      "9   ngrid_41ca1166-1120-467a-a6a2-7ed63c6731f7_cf5... 2020-02-18 13:34:02\n",
      "10  eversource_32232ea7-8b6c-4394-a3a3-8cbd43c5d28... 2020-02-18 13:22:59\n",
      "11                              Retail business2.xlsx 2020-02-18 11:16:00\n",
      "12                   Retail business (version 2).xlsx 2020-02-18 10:57:43\n",
      "13                               Retail business2.csv 2020-02-18 10:36:10\n",
      "14                                Retail business.csv 2020-02-18 10:35:49\n",
      "15                                Retail business.xls 2020-02-18 10:19:54\n",
      "16                               Retail business2.xls 2020-02-18 10:18:03\n",
      "17  ngrid_ae27a4cc-ec3b-40b9-9b8b-3253252d1a90_6f3... 2020-02-18 09:47:19\n",
      "18                               chromedriver_linux64 2020-02-18 09:25:10\n",
      "19                           chromedriver_linux64.zip 2020-02-18 09:25:05\n"
     ]
    }
   ],
   "source": [
    "readpath = 'C:\\\\Users\\\\wb5888\\\\Downloads'\n",
    "\n",
    "myfiles = IDRdrop.show_dir(readpath, 20)\n",
    "print(myfiles)"
   ]
  },
  {
   "cell_type": "markdown",
   "metadata": {},
   "source": [
    "Choose files to split into Raw IDR files."
   ]
  },
  {
   "cell_type": "code",
   "execution_count": 12,
   "metadata": {},
   "outputs": [
    {
     "name": "stdout",
     "output_type": "stream",
     "text": [
      "['ngrid_82a34f57-8422-4740-8252-38c7673edc24_32535acc_hourlycsv.csv']\n"
     ]
    }
   ],
   "source": [
    "index = [0]\n",
    "\n",
    "splitfiles = list(myfiles.files[index])\n",
    "print(splitfiles)"
   ]
  },
  {
   "cell_type": "markdown",
   "metadata": {},
   "source": [
    "## Batch process downloaded EPO files into Raw IDRs"
   ]
  },
  {
   "cell_type": "code",
   "execution_count": 13,
   "metadata": {},
   "outputs": [
    {
     "name": "stdout",
     "output_type": "stream",
     "text": [
      "found 1 accounts.\n",
      "MECO_2822972021_IDR_RAW.csv  written.\n",
      "success, file:  ngrid_82a34f57-8422-4740-8252-38c7673edc24_32535acc_hourlycsv.csv\n"
     ]
    }
   ],
   "source": [
    "readpath = 'C:\\\\Users\\\\wb5888\\\\Downloads'\n",
    "writepath = 'C:\\\\Users\\\\wb5888\\\\Documents\\\\la-tools-test\\\\IDR_Drop\\\\Raw_IDR'\n",
    "utility = 'MECO'\n",
    "accts = None\n",
    "error_log = []\n",
    "\n",
    "for file in splitfiles:\n",
    "    try:\n",
    "        os.chdir(readpath)\n",
    "        filedf = pd.read_csv(file, sep = \",\", header = 0)\n",
    "    \n",
    "        IDRdrop.raw_split(filedf, readpath, writepath, utility, accts)\n",
    "        print('success, file: ', file)\n",
    "        \n",
    "    except:\n",
    "        error_log = error_log.append(file)\n",
    "        print('error, file: ', file)"
   ]
  },
  {
   "cell_type": "markdown",
   "metadata": {},
   "source": [
    "## Show Raw IDR files based on utility"
   ]
  },
  {
   "cell_type": "markdown",
   "metadata": {},
   "source": [
    "Here *rawpath* is directory containing Raw IDRs - 25 most recent will be shown."
   ]
  },
  {
   "cell_type": "code",
   "execution_count": 14,
   "metadata": {},
   "outputs": [
    {
     "name": "stdout",
     "output_type": "stream",
     "text": [
      "files found in dir:  C:\\Users\\wb5888\\Documents\\la-tools-test\\IDR_Drop\\Raw_IDR\n",
      "                                     files                time\n",
      "0              MECO_2822972021_IDR_RAW.csv 2020-02-19 15:51:26\n",
      "1    CLP_51424453082_797832003_IDR_RAW.csv 2020-02-19 14:15:24\n",
      "2              MECO_9128119003_IDR_RAW.csv 2020-02-19 11:54:37\n",
      "3              MECO_1612121017_IDR_RAW.csv 2020-02-19 11:54:37\n",
      "4              MECO_0050846001_IDR_RAW.csv 2020-02-19 08:44:45\n",
      "5              MECO_7570243012_IDR_RAW.csv 2020-02-19 08:44:45\n",
      "6              MECO_7696976009_IDR_RAW.csv 2020-02-19 08:44:45\n",
      "7              MECO_2870947007_IDR_RAW.csv 2020-02-19 08:44:45\n",
      "8              MECO_8429366010_IDR_RAW.csv 2020-02-19 08:44:45\n",
      "9              MECO_9790845018_IDR_RAW.csv 2020-02-19 08:44:45\n",
      "10             MECO_3864499019_IDR_RAW.csv 2020-02-19 08:44:45\n",
      "11             MECO_7728538026_IDR_RAW.csv 2020-02-18 13:44:19\n",
      "12          CMBRDG_11498180048_IDR_RAW.csv 2020-02-18 13:23:37\n",
      "13          CMBRDG_11498230058_IDR_RAW.csv 2020-02-18 13:23:37\n",
      "14             MECO_3882385009_IDR_RAW.csv 2020-02-18 09:47:32\n",
      "15             MECO_9876072024_IDR_RAW.csv 2020-02-15 11:21:57\n",
      "16             MECO_1595521020_IDR_RAW.csv 2020-02-15 11:21:57\n",
      "17  CLP_51255942070_454271001 _IDR_RAW.csv 2020-01-23 14:21:20\n",
      "18   CLP_51099174021_794782005_IDR_RAW.csv 2020-01-23 14:21:20\n",
      "19  CLP_51397382003_424191004 _IDR_RAW.csv 2020-01-23 14:21:20\n"
     ]
    }
   ],
   "source": [
    "rawfiles = IDRdrop.show_dir(writepath, 20)\n",
    "print(rawfiles)"
   ]
  },
  {
   "cell_type": "markdown",
   "metadata": {},
   "source": [
    "Choose Raw IDRs to filter into IDR files."
   ]
  },
  {
   "cell_type": "code",
   "execution_count": 15,
   "metadata": {},
   "outputs": [
    {
     "name": "stdout",
     "output_type": "stream",
     "text": [
      "files to process: \n",
      "0    MECO_2822972021_IDR_RAW.csv\n",
      "Name: files, dtype: object\n"
     ]
    }
   ],
   "source": [
    "index = [0]\n",
    "\n",
    "processfiles = rawfiles.files[index]\n",
    "files = list(processfiles)\n",
    "print('files to process: ')\n",
    "print(processfiles)"
   ]
  },
  {
   "cell_type": "markdown",
   "metadata": {},
   "source": [
    "## Batch filter Raw IDR into IDR files to be dropped"
   ]
  },
  {
   "cell_type": "code",
   "execution_count": 16,
   "metadata": {},
   "outputs": [
    {
     "name": "stdout",
     "output_type": "stream",
     "text": [
      "success, file:  MECO_2822972021_IDR_RAW.csv\n"
     ]
    }
   ],
   "source": [
    "readpath = 'C:\\\\Users\\\\wb5888\\\\Documents\\\\la-tools-test\\\\IDR_Drop\\\\Raw_IDR'\n",
    "writepath = 'C:\\\\Users\\\\wb5888\\\\Documents\\\\la-tools-test\\\\IDR_Drop\\\\IDR'\n",
    "error_log = []\n",
    "\n",
    "for dropfile in files:\n",
    "\n",
    "    try:\n",
    "        IDRdrop.data_drop(dropfile, readpath, writepath)\n",
    "        print('success, file: ', dropfile)\n",
    "    \n",
    "    except:\n",
    "        try:\n",
    "            error_log.append(dropfile)\n",
    "        except:\n",
    "            pass\n",
    "    "
   ]
  },
  {
   "cell_type": "code",
   "execution_count": 8,
   "metadata": {},
   "outputs": [
    {
     "data": {
      "text/plain": [
       "[]"
      ]
     },
     "execution_count": 8,
     "metadata": {},
     "output_type": "execute_result"
    }
   ],
   "source": [
    "type(error_log)\n",
    "error_log"
   ]
  },
  {
   "cell_type": "markdown",
   "metadata": {},
   "source": [
    "### Change meters to vertical"
   ]
  },
  {
   "cell_type": "code",
   "execution_count": 17,
   "metadata": {},
   "outputs": [
    {
     "name": "stdout",
     "output_type": "stream",
     "text": [
      "files found in dir:  C:\\Users\\wb5888\\Documents\\la-tools-test\\IDR_Drop\\IDR\n",
      "                                    files                time\n",
      "0               MECO_2822972021_IDR_3.csv 2020-02-19 15:51:33\n",
      "1                 MECO_2822972021_IDR.csv 2020-02-19 15:51:33\n",
      "2  CLP_51424453082_797832003_IDR_vert.csv 2020-02-19 14:18:00\n",
      "3       CLP_51424453082_797832003_IDR.csv 2020-02-19 14:16:11\n",
      "4            MECO_1612121017_IDR_vert.csv 2020-02-19 11:55:17\n",
      "5            MECO_9128119003_IDR_vert.csv 2020-02-19 11:54:56\n",
      "6                 MECO_1612121017_IDR.csv 2020-02-19 11:54:48\n",
      "7                 MECO_9128119003_IDR.csv 2020-02-19 11:54:48\n",
      "8            MECO_7728538026_IDR_vert.csv 2020-02-19 09:00:29\n",
      "9            MECO_0050846001_IDR_vert.csv 2020-02-19 08:56:05\n"
     ]
    }
   ],
   "source": [
    "data_dir = 'C:\\\\Users\\\\wb5888\\\\Documents\\\\la-tools-test\\\\IDR_Drop\\\\IDR'\n",
    "os.chdir(data_dir)\n",
    "idr = IDRdrop.show_dir(data_dir, 10)\n",
    "print(idr)"
   ]
  },
  {
   "cell_type": "code",
   "execution_count": 18,
   "metadata": {},
   "outputs": [
    {
     "name": "stdout",
     "output_type": "stream",
     "text": [
      "transformed and wrote MECO_2822972021_IDR.csv to MECO_2822972021_IDR_vert.csv.\n"
     ]
    }
   ],
   "source": [
    "myfiles = idr.files[[0]]\n",
    "for f in myfiles:\n",
    "    IDRdrop.hor_to_vert(f)"
   ]
  },
  {
   "cell_type": "code",
   "execution_count": null,
   "metadata": {},
   "outputs": [],
   "source": []
  }
 ],
 "metadata": {
  "kernelspec": {
   "display_name": "Python 3",
   "language": "python",
   "name": "python3"
  },
  "language_info": {
   "codemirror_mode": {
    "name": "ipython",
    "version": 3
   },
   "file_extension": ".py",
   "mimetype": "text/x-python",
   "name": "python",
   "nbconvert_exporter": "python",
   "pygments_lexer": "ipython3",
   "version": "3.8.1"
  }
 },
 "nbformat": 4,
 "nbformat_minor": 2
}
