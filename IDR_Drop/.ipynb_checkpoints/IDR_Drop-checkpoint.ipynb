{
 "cells": [
  {
   "cell_type": "markdown",
   "metadata": {},
   "source": [
    "# IDR Drop"
   ]
  },
  {
   "cell_type": "markdown",
   "metadata": {},
   "source": [
    "Implements batch tasks used for IDR drops."
   ]
  },
  {
   "cell_type": "code",
   "execution_count": 1,
   "metadata": {},
   "outputs": [
    {
     "name": "stdout",
     "output_type": "stream",
     "text": [
      "imported modules successfully.\n"
     ]
    }
   ],
   "source": [
    "import pandas as pd\n",
    "import numpy as np\n",
    "import cx_Oracle\n",
    "import db_connect\n",
    "import IDRdrop\n",
    "import json\n",
    "import os\n",
    "print('imported modules successfully.')"
   ]
  },
  {
   "cell_type": "markdown",
   "metadata": {},
   "source": [
    "## Show downloaded files from EPO portal"
   ]
  },
  {
   "cell_type": "markdown",
   "metadata": {},
   "source": [
    "Here *filepath* is a directory containing downloaded EPO files. Code will print 20 most recent files."
   ]
  },
  {
   "cell_type": "code",
   "execution_count": 5,
   "metadata": {},
   "outputs": [
    {
     "name": "stdout",
     "output_type": "stream",
     "text": [
      "files found in dir:  C:\\Users\\wb5888\\Downloads\n",
      "                                                files                time\n",
      "0   eversource_1aca0a86-6edb-4fc5-b942-a09f4902e9a... 2020-03-05 09:05:58\n",
      "1   eversource_1aca0a86-6edb-4fc5-b942-a09f4902e9a... 2020-03-05 09:05:35\n",
      "2   eversource_1aca0a86-6edb-4fc5-b942-a09f4902e9a... 2020-03-05 09:05:02\n",
      "3   eversource_1aca0a86-6edb-4fc5-b942-a09f4902e9a... 2020-03-05 09:04:15\n",
      "4   eversource_1aca0a86-6edb-4fc5-b942-a09f4902e9a... 2020-03-05 09:03:46\n",
      "5   eversource_1aca0a86-6edb-4fc5-b942-a09f4902e9a... 2020-03-05 09:03:20\n",
      "6   ngrid_a7a8bb2a-c571-452b-b683-7e889e595a15_1bc... 2020-03-05 08:20:51\n",
      "7   ngrid_fb71395c-7068-4aec-8680-cf7fdb32c251_295... 2020-03-04 09:35:38\n",
      "8   eversource_a3a27832-12c8-4cc5-b07d-9bf2b89fdff... 2020-03-03 13:36:09\n",
      "9   eversource_a3a27832-12c8-4cc5-b07d-9bf2b89fdff... 2020-03-03 13:34:39\n",
      "10  DirectEnergyBusiness_HartsRestaurant_03032020.... 2020-03-03 11:54:31\n",
      "11                    IntervalData_03012020102521.csv 2020-03-02 14:37:37\n",
      "12                            6778_20200302114511.zip 2020-03-02 10:48:28\n",
      "13                    IntervalData_03012020102449.csv 2020-03-01 10:27:30\n",
      "14  eversource_88630754-82a7-4536-9a9f-c3095b3af6b... 2020-02-28 10:49:14\n",
      "15  eversource_654db5d6-6086-4ae7-a1c9-ea36806aeb3... 2020-02-28 10:26:57\n",
      "16  eversource_c6caf87e-db70-4d10-94f1-419db9b2e10... 2020-02-28 10:26:14\n",
      "17                                     output (1).csv 2020-02-28 10:22:41\n",
      "18                                         OUTPUT.csv 2020-02-28 10:18:22\n",
      "19                          GSOutput1582906467761.xls 2020-02-28 10:15:46\n"
     ]
    }
   ],
   "source": [
    "readpath = 'C:\\\\Users\\\\wb5888\\\\Downloads'\n",
    "\n",
    "myfiles = IDRdrop.show_dir(readpath, 20)\n",
    "print(myfiles)"
   ]
  },
  {
   "cell_type": "markdown",
   "metadata": {},
   "source": [
    "Choose files to split into Raw IDR files."
   ]
  },
  {
   "cell_type": "code",
   "execution_count": 6,
   "metadata": {},
   "outputs": [
    {
     "name": "stdout",
     "output_type": "stream",
     "text": [
      "['eversource_1aca0a86-6edb-4fc5-b942-a09f4902e9a6_e1291b59_hourlycsv.csv', 'eversource_1aca0a86-6edb-4fc5-b942-a09f4902e9a6_d05b8005_hourlycsv.csv', 'eversource_1aca0a86-6edb-4fc5-b942-a09f4902e9a6_f9539f4e_hourlycsv.csv', 'eversource_1aca0a86-6edb-4fc5-b942-a09f4902e9a6_2b767047_hourlycsv.csv', 'eversource_1aca0a86-6edb-4fc5-b942-a09f4902e9a6_0acae872_hourlycsv.csv', 'eversource_1aca0a86-6edb-4fc5-b942-a09f4902e9a6_1e4d6508_hourlycsv.csv']\n"
     ]
    }
   ],
   "source": [
    "index = [0]\n",
    "\n",
    "splitfiles = list(myfiles.files[:6])\n",
    "print(splitfiles)"
   ]
  },
  {
   "cell_type": "markdown",
   "metadata": {},
   "source": [
    "## Batch process downloaded EPO files into Raw IDRs"
   ]
  },
  {
   "cell_type": "code",
   "execution_count": 7,
   "metadata": {},
   "outputs": [
    {
     "name": "stdout",
     "output_type": "stream",
     "text": [
      "found 3 accounts.\n",
      "BECO_29477560014_IDR_RAW.csv  written.\n",
      "BECO_29477570013_IDR_RAW.csv  written.\n",
      "BECO_29477600018_IDR_RAW.csv  written.\n",
      "success, file:  eversource_1aca0a86-6edb-4fc5-b942-a09f4902e9a6_e1291b59_hourlycsv.csv\n",
      "found 1 accounts.\n",
      "BECO_26590021007_IDR_RAW.csv  written.\n",
      "success, file:  eversource_1aca0a86-6edb-4fc5-b942-a09f4902e9a6_d05b8005_hourlycsv.csv\n",
      "found 4 accounts.\n",
      "BECO_29468450019_IDR_RAW.csv  written.\n",
      "BECO_29477520018_IDR_RAW.csv  written.\n",
      "BECO_29477550015_IDR_RAW.csv  written.\n",
      "BECO_29477590011_IDR_RAW.csv  written.\n",
      "success, file:  eversource_1aca0a86-6edb-4fc5-b942-a09f4902e9a6_f9539f4e_hourlycsv.csv\n",
      "found 4 accounts.\n",
      "BECO_29468590012_IDR_RAW.csv  written.\n",
      "BECO_29468600019_IDR_RAW.csv  written.\n",
      "BECO_29468610018_IDR_RAW.csv  written.\n",
      "BECO_29468620017_IDR_RAW.csv  written.\n",
      "success, file:  eversource_1aca0a86-6edb-4fc5-b942-a09f4902e9a6_2b767047_hourlycsv.csv\n",
      "found 4 accounts.\n",
      "BECO_29468480016_IDR_RAW.csv  written.\n",
      "BECO_29468640015_IDR_RAW.csv  written.\n",
      "BECO_29477500010_IDR_RAW.csv  written.\n",
      "BECO_29477510019_IDR_RAW.csv  written.\n",
      "success, file:  eversource_1aca0a86-6edb-4fc5-b942-a09f4902e9a6_0acae872_hourlycsv.csv\n",
      "found 4 accounts.\n",
      "BECO_29477530017_IDR_RAW.csv  written.\n",
      "BECO_29477540016_IDR_RAW.csv  written.\n",
      "BECO_29477580012_IDR_RAW.csv  written.\n",
      "BECO_29830120019_IDR_RAW.csv  written.\n",
      "success, file:  eversource_1aca0a86-6edb-4fc5-b942-a09f4902e9a6_1e4d6508_hourlycsv.csv\n"
     ]
    }
   ],
   "source": [
    "readpath = 'C:\\\\Users\\\\wb5888\\\\Downloads'\n",
    "writepath = 'C:\\\\Users\\\\wb5888\\\\Documents\\\\la-tools-test\\\\IDR_Drop\\\\Raw_IDR'\n",
    "utility = 'BECO'\n",
    "accts = None\n",
    "error_log = []\n",
    "\n",
    "for file in splitfiles:\n",
    "    try:\n",
    "        os.chdir(readpath)\n",
    "        filedf = pd.read_csv(file, sep = \",\", header = 0)\n",
    "    \n",
    "        IDRdrop.raw_split(filedf, readpath, writepath, utility, accts)\n",
    "        print('success, file: ', file)\n",
    "        \n",
    "    except:\n",
    "        error_log = error_log.append(file)\n",
    "        print('error, file: ', file)"
   ]
  },
  {
   "cell_type": "markdown",
   "metadata": {},
   "source": [
    "## Show Raw IDR files based on utility"
   ]
  },
  {
   "cell_type": "markdown",
   "metadata": {},
   "source": [
    "Here *rawpath* is directory containing Raw IDRs - 25 most recent will be shown."
   ]
  },
  {
   "cell_type": "code",
   "execution_count": 9,
   "metadata": {},
   "outputs": [
    {
     "name": "stdout",
     "output_type": "stream",
     "text": [
      "files found in dir:  C:\\Users\\wb5888\\Documents\\la-tools-test\\IDR_Drop\\Raw_IDR\n",
      "                                    files                time\n",
      "0            BECO_29477510019_IDR_RAW.csv 2020-03-05 09:08:15\n",
      "1            BECO_29477550015_IDR_RAW.csv 2020-03-05 09:08:15\n",
      "2            BECO_29468450019_IDR_RAW.csv 2020-03-05 09:08:15\n",
      "3            BECO_29468600019_IDR_RAW.csv 2020-03-05 09:08:15\n",
      "4            BECO_29468610018_IDR_RAW.csv 2020-03-05 09:08:15\n",
      "5            BECO_29468620017_IDR_RAW.csv 2020-03-05 09:08:15\n",
      "6            BECO_29468640015_IDR_RAW.csv 2020-03-05 09:08:15\n",
      "7            BECO_29477500010_IDR_RAW.csv 2020-03-05 09:08:15\n",
      "8            BECO_29468590012_IDR_RAW.csv 2020-03-05 09:08:15\n",
      "9            BECO_29477520018_IDR_RAW.csv 2020-03-05 09:08:15\n",
      "10           BECO_29477530017_IDR_RAW.csv 2020-03-05 09:08:15\n",
      "11           BECO_29477540016_IDR_RAW.csv 2020-03-05 09:08:15\n",
      "12           BECO_29468480016_IDR_RAW.csv 2020-03-05 09:08:15\n",
      "13           BECO_29477580012_IDR_RAW.csv 2020-03-05 09:08:15\n",
      "14           BECO_29477590011_IDR_RAW.csv 2020-03-05 09:08:15\n",
      "15           BECO_29830120019_IDR_RAW.csv 2020-03-05 09:08:15\n",
      "16           BECO_29477560014_IDR_RAW.csv 2020-03-05 09:08:14\n",
      "17           BECO_29477570013_IDR_RAW.csv 2020-03-05 09:08:14\n",
      "18           BECO_26590021007_IDR_RAW.csv 2020-03-05 09:08:14\n",
      "19           BECO_29477600018_IDR_RAW.csv 2020-03-05 09:08:14\n",
      "20            MECO_7804087006_IDR_RAW.csv 2020-03-04 09:36:46\n",
      "21   CLP_51993234061_98773001_IDR_RAW.csv 2020-03-03 13:37:06\n",
      "22  CLP_51637634015_534092006_IDR_RAW.csv 2020-03-03 13:37:06\n",
      "23  CLP_51334063054_595242005_IDR_RAW.csv 2020-03-03 13:37:06\n",
      "24  CLP_51598634020_382092001_IDR_RAW.csv 2020-03-03 13:37:06\n"
     ]
    }
   ],
   "source": [
    "rawfiles = IDRdrop.show_dir(writepath, 25)\n",
    "print(rawfiles)"
   ]
  },
  {
   "cell_type": "markdown",
   "metadata": {},
   "source": [
    "Choose Raw IDRs to filter into IDR files."
   ]
  },
  {
   "cell_type": "code",
   "execution_count": 10,
   "metadata": {},
   "outputs": [
    {
     "name": "stdout",
     "output_type": "stream",
     "text": [
      "files to process: \n",
      "0     BECO_29477510019_IDR_RAW.csv\n",
      "1     BECO_29477550015_IDR_RAW.csv\n",
      "2     BECO_29468450019_IDR_RAW.csv\n",
      "3     BECO_29468600019_IDR_RAW.csv\n",
      "4     BECO_29468610018_IDR_RAW.csv\n",
      "5     BECO_29468620017_IDR_RAW.csv\n",
      "6     BECO_29468640015_IDR_RAW.csv\n",
      "7     BECO_29477500010_IDR_RAW.csv\n",
      "8     BECO_29468590012_IDR_RAW.csv\n",
      "9     BECO_29477520018_IDR_RAW.csv\n",
      "10    BECO_29477530017_IDR_RAW.csv\n",
      "11    BECO_29477540016_IDR_RAW.csv\n",
      "12    BECO_29468480016_IDR_RAW.csv\n",
      "13    BECO_29477580012_IDR_RAW.csv\n",
      "14    BECO_29477590011_IDR_RAW.csv\n",
      "15    BECO_29830120019_IDR_RAW.csv\n",
      "16    BECO_29477560014_IDR_RAW.csv\n",
      "17    BECO_29477570013_IDR_RAW.csv\n",
      "18    BECO_26590021007_IDR_RAW.csv\n",
      "19    BECO_29477600018_IDR_RAW.csv\n",
      "Name: files, dtype: object\n"
     ]
    }
   ],
   "source": [
    "index = [0]\n",
    "\n",
    "processfiles = rawfiles.files[:20]\n",
    "files = list(processfiles)\n",
    "print('files to process: ')\n",
    "print(processfiles)"
   ]
  },
  {
   "cell_type": "markdown",
   "metadata": {},
   "source": [
    "## Batch filter Raw IDR into IDR files to be dropped"
   ]
  },
  {
   "cell_type": "code",
   "execution_count": 11,
   "metadata": {},
   "outputs": [
    {
     "name": "stdout",
     "output_type": "stream",
     "text": [
      "success, file:  BECO_29477510019_IDR_RAW.csv\n",
      "success, file:  BECO_29477550015_IDR_RAW.csv\n",
      "success, file:  BECO_29468450019_IDR_RAW.csv\n",
      "success, file:  BECO_29468600019_IDR_RAW.csv\n",
      "success, file:  BECO_29468610018_IDR_RAW.csv\n",
      "success, file:  BECO_29468620017_IDR_RAW.csv\n",
      "success, file:  BECO_29468640015_IDR_RAW.csv\n",
      "success, file:  BECO_29477500010_IDR_RAW.csv\n",
      "success, file:  BECO_29468590012_IDR_RAW.csv\n",
      "success, file:  BECO_29477520018_IDR_RAW.csv\n",
      "success, file:  BECO_29477530017_IDR_RAW.csv\n",
      "success, file:  BECO_29477540016_IDR_RAW.csv\n",
      "success, file:  BECO_29468480016_IDR_RAW.csv\n",
      "success, file:  BECO_29477580012_IDR_RAW.csv\n",
      "success, file:  BECO_29477590011_IDR_RAW.csv\n",
      "success, file:  BECO_29830120019_IDR_RAW.csv\n",
      "success, file:  BECO_29477560014_IDR_RAW.csv\n",
      "success, file:  BECO_29477570013_IDR_RAW.csv\n",
      "success, file:  BECO_26590021007_IDR_RAW.csv\n",
      "success, file:  BECO_29477600018_IDR_RAW.csv\n"
     ]
    }
   ],
   "source": [
    "readpath = 'C:\\\\Users\\\\wb5888\\\\Documents\\\\la-tools-test\\\\IDR_Drop\\\\Raw_IDR'\n",
    "writepath = 'C:\\\\Users\\\\wb5888\\\\Documents\\\\la-tools-test\\\\IDR_Drop\\\\IDR'\n",
    "error_log = []\n",
    "\n",
    "for dropfile in files:\n",
    "\n",
    "    try:\n",
    "        IDRdrop.data_drop(dropfile, readpath, writepath)\n",
    "        print('success, file: ', dropfile)\n",
    "    \n",
    "    except:\n",
    "        try:\n",
    "            error_log.append(dropfile)\n",
    "        except:\n",
    "            pass\n",
    "    "
   ]
  },
  {
   "cell_type": "code",
   "execution_count": 8,
   "metadata": {},
   "outputs": [
    {
     "data": {
      "text/plain": [
       "[]"
      ]
     },
     "execution_count": 8,
     "metadata": {},
     "output_type": "execute_result"
    }
   ],
   "source": [
    "type(error_log)\n",
    "error_log"
   ]
  },
  {
   "cell_type": "markdown",
   "metadata": {},
   "source": [
    "## Change meters to vertical"
   ]
  },
  {
   "cell_type": "code",
   "execution_count": 12,
   "metadata": {},
   "outputs": [
    {
     "name": "stdout",
     "output_type": "stream",
     "text": [
      "files found in dir:  C:\\Users\\wb5888\\Documents\\la-tools-test\\IDR_Drop\\IDR\n",
      "                       files                time\n",
      "0   BECO_29477600018_IDR.csv 2020-03-05 09:08:36\n",
      "1   BECO_29468480016_IDR.csv 2020-03-05 09:08:35\n",
      "2   BECO_29477530017_IDR.csv 2020-03-05 09:08:35\n",
      "3   BECO_29468450019_IDR.csv 2020-03-05 09:08:35\n",
      "4   BECO_29830120019_IDR.csv 2020-03-05 09:08:35\n",
      "5   BECO_29477590011_IDR.csv 2020-03-05 09:08:35\n",
      "6   BECO_29477580012_IDR.csv 2020-03-05 09:08:35\n",
      "7   BECO_29477570013_IDR.csv 2020-03-05 09:08:35\n",
      "8   BECO_29477560014_IDR.csv 2020-03-05 09:08:35\n",
      "9   BECO_29477540016_IDR.csv 2020-03-05 09:08:35\n",
      "10  BECO_29477550015_IDR.csv 2020-03-05 09:08:35\n",
      "11  BECO_29477520018_IDR.csv 2020-03-05 09:08:35\n",
      "12  BECO_29477510019_IDR.csv 2020-03-05 09:08:35\n",
      "13  BECO_29477500010_IDR.csv 2020-03-05 09:08:35\n",
      "14  BECO_29468640015_IDR.csv 2020-03-05 09:08:35\n",
      "15  BECO_29468620017_IDR.csv 2020-03-05 09:08:35\n",
      "16  BECO_29468610018_IDR.csv 2020-03-05 09:08:35\n",
      "17  BECO_29468600019_IDR.csv 2020-03-05 09:08:35\n",
      "18  BECO_29468590012_IDR.csv 2020-03-05 09:08:35\n",
      "19  BECO_26590021007_IDR.csv 2020-03-05 09:08:35\n"
     ]
    }
   ],
   "source": [
    "data_dir = 'C:\\\\Users\\\\wb5888\\\\Documents\\\\la-tools-test\\\\IDR_Drop\\\\IDR'\n",
    "os.chdir(data_dir)\n",
    "idr = IDRdrop.show_dir(data_dir, 20)\n",
    "print(idr)"
   ]
  },
  {
   "cell_type": "code",
   "execution_count": null,
   "metadata": {},
   "outputs": [
    {
     "name": "stdout",
     "output_type": "stream",
     "text": [
      "transformed and wrote BECO_29468480016_IDR.csv to BECO_29468480016_IDR_vert.csv.\n",
      "transformed and wrote BECO_29477530017_IDR.csv to BECO_29477530017_IDR_vert.csv.\n",
      "transformed and wrote BECO_29468450019_IDR.csv to BECO_29468450019_IDR_vert.csv.\n",
      "transformed and wrote BECO_29830120019_IDR.csv to BECO_29830120019_IDR_vert.csv.\n",
      "transformed and wrote BECO_29477590011_IDR.csv to BECO_29477590011_IDR_vert.csv.\n",
      "transformed and wrote BECO_29477580012_IDR.csv to BECO_29477580012_IDR_vert.csv.\n",
      "transformed and wrote BECO_29477570013_IDR.csv to BECO_29477570013_IDR_vert.csv.\n",
      "transformed and wrote BECO_29477560014_IDR.csv to BECO_29477560014_IDR_vert.csv.\n",
      "transformed and wrote BECO_29477540016_IDR.csv to BECO_29477540016_IDR_vert.csv.\n",
      "transformed and wrote BECO_29477550015_IDR.csv to BECO_29477550015_IDR_vert.csv.\n"
     ]
    }
   ],
   "source": [
    "myfiles = idr.files[index]\n",
    "for f in myfiles:\n",
    "    IDRdrop.hor_to_vert(f)"
   ]
  },
  {
   "cell_type": "markdown",
   "metadata": {},
   "source": [
    "## Plot data"
   ]
  },
  {
   "cell_type": "code",
   "execution_count": 12,
   "metadata": {},
   "outputs": [
    {
     "name": "stdout",
     "output_type": "stream",
     "text": [
      "files found in dir:  C:\\Users\\wb5888\\Documents\\la-tools-test\\IDR_Drop\\IDR\n",
      "                                      files                time\n",
      "0    CLP_51637634015_534092006_IDR_vert.csv 2020-03-03 13:39:43\n",
      "1     CLP_51993234061_98773001_IDR_vert.csv 2020-03-03 13:39:43\n",
      "2   CLP_51993234061_98773001_IDR_3_vert.csv 2020-03-03 13:39:42\n",
      "3  CLP_51334063054_595242005_IDR_3_vert.csv 2020-03-03 13:39:41\n",
      "4    CLP_51334063054_595242005_IDR_vert.csv 2020-03-03 13:39:40\n",
      "5    CLP_51598634020_382092001_IDR_vert.csv 2020-03-03 13:39:40\n",
      "6  CLP_51598634020_382092001_IDR_3_vert.csv 2020-03-03 13:39:39\n",
      "7         CLP_51334063054_595242005_IDR.csv 2020-03-03 13:39:10\n",
      "8       CLP_51334063054_595242005_IDR_3.csv 2020-03-03 13:39:10\n",
      "9       CLP_51598634020_382092001_IDR_3.csv 2020-03-03 13:39:10\n"
     ]
    }
   ],
   "source": [
    "idr = IDRdrop.show_dir(data_dir, 10)\n",
    "print(idr)"
   ]
  },
  {
   "cell_type": "code",
   "execution_count": 17,
   "metadata": {},
   "outputs": [
    {
     "data": {
      "text/plain": [
       "<matplotlib.axes._subplots.AxesSubplot at 0x1b0b294dd00>"
      ]
     },
     "execution_count": 17,
     "metadata": {},
     "output_type": "execute_result"
    },
    {
     "data": {
      "image/png": "[encoded data removed]",
      "text/plain": [
       "<Figure size 432x288 with 1 Axes>"
      ]
     },
     "metadata": {
      "needs_background": "light"
     },
     "output_type": "display_data"
    }
   ],
   "source": [
    "idr_df = pd.read_csv(idr.files[6], names = ['t', 'v'])\n",
    "idr_df.set_index('t', inplace = True, drop = True)\n",
    "idr_df.plot(y = 'v')"
   ]
  },
  {
   "cell_type": "markdown",
   "metadata": {},
   "source": [
    "## Generate/get scalar, get tags"
   ]
  },
  {
   "cell_type": "code",
   "execution_count": null,
   "metadata": {},
   "outputs": [],
   "source": []
  },
  {
   "cell_type": "markdown",
   "metadata": {},
   "source": [
    "## Create datasource"
   ]
  },
  {
   "cell_type": "code",
   "execution_count": null,
   "metadata": {},
   "outputs": [],
   "source": []
  },
  {
   "cell_type": "markdown",
   "metadata": {},
   "source": [
    "## EWX API"
   ]
  },
  {
   "cell_type": "code",
   "execution_count": null,
   "metadata": {},
   "outputs": [],
   "source": []
  }
 ],
 "metadata": {
  "kernelspec": {
   "display_name": "Python 3",
   "language": "python",
   "name": "python3"
  },
  "language_info": {
   "codemirror_mode": {
    "name": "ipython",
    "version": 3
   },
   "file_extension": ".py",
   "mimetype": "text/x-python",
   "name": "python",
   "nbconvert_exporter": "python",
   "pygments_lexer": "ipython3",
   "version": "3.8.1"
  }
 },
 "nbformat": 4,
 "nbformat_minor": 2
}
