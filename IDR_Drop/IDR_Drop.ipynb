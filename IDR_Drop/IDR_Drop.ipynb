{
 "cells": [
  {
   "cell_type": "markdown",
   "metadata": {},
   "source": [
    "# IDR Drop"
   ]
  },
  {
   "cell_type": "markdown",
   "metadata": {},
   "source": [
    "Implements batch tasks used for IDR drops."
   ]
  },
  {
   "cell_type": "code",
   "execution_count": 1,
   "metadata": {},
   "outputs": [
    {
     "name": "stdout",
     "output_type": "stream",
     "text": [
      "imported modules successfully.\n"
     ]
    }
   ],
   "source": [
    "import pandas as pd\n",
    "import numpy as np\n",
    "import IDRdrop\n",
    "import json\n",
    "import os\n",
    "print('imported modules successfully.')"
   ]
  },
  {
   "cell_type": "markdown",
   "metadata": {},
   "source": [
    "# Show downloaded files from EPO portal"
   ]
  },
  {
   "cell_type": "markdown",
   "metadata": {},
   "source": [
    "Here *filepath* is a directory containing downloaded EPO files. Code will print 20 most recent files."
   ]
  },
  {
   "cell_type": "code",
   "execution_count": 3,
   "metadata": {},
   "outputs": [
    {
     "name": "stdout",
     "output_type": "stream",
     "text": [
      "files found in dir:  /home//jupyter-stevenhurwitt/la-tools-test/IDR_Drop/Raw_IDR\n",
      "                                               files                time\n",
      "0                                 .ipynb_checkpoints 2019-09-01 16:59:33\n",
      "1  ngrid_227b4bfa-0bd2-44d2-bbeb-17af36a5c5df_4ea... 2019-09-01 16:57:04\n",
      "2                                           init.git 2019-09-01 16:57:04\n"
     ]
    }
   ],
   "source": [
    "readpath = '/home//jupyter-stevenhurwitt/la-tools-test/IDR_Drop/Raw_IDR'\n",
    "\n",
    "myfiles = IDRdrop.show_dir(readpath, 20)\n",
    "print(myfiles)"
   ]
  },
  {
   "cell_type": "markdown",
   "metadata": {},
   "source": [
    "Choose files to split into Raw IDR files."
   ]
  },
  {
   "cell_type": "code",
   "execution_count": 4,
   "metadata": {},
   "outputs": [
    {
     "name": "stdout",
     "output_type": "stream",
     "text": [
      "files to split: \n",
      "['ngrid_227b4bfa-0bd2-44d2-bbeb-17af36a5c5df_4ea950cd_hourlycsv.csv']\n"
     ]
    }
   ],
   "source": [
    "index = [1]\n",
    "\n",
    "splitfiles = list(myfiles.files[index])\n",
    "print('files to split: ')\n",
    "print(splitfiles)"
   ]
  },
  {
   "cell_type": "markdown",
   "metadata": {},
   "source": [
    "## Batch process downloaded EPO files into Raw IDRs"
   ]
  },
  {
   "cell_type": "code",
   "execution_count": 5,
   "metadata": {},
   "outputs": [
    {
     "name": "stdout",
     "output_type": "stream",
     "text": [
      "found 4 accounts.\n",
      "0021483009_MECO_IDR_RAW.csv  written.\n",
      "0021638013_MECO_IDR_RAW.csv  written.\n",
      "0040677012_MECO_IDR_RAW.csv  written.\n",
      "0043496028_MECO_IDR_RAW.csv  written.\n",
      "success, file:  ngrid_227b4bfa-0bd2-44d2-bbeb-17af36a5c5df_4ea950cd_hourlycsv.csv\n"
     ]
    }
   ],
   "source": [
    "readpath = '/home/jupyter-stevenhurwitt/la-tools-test/IDR_Drop/Raw_IDR'\n",
    "writepath = '/home/jupyter-stevenhurwitt/la-tools-test/IDR_Drop/Raw_IDR'\n",
    "utility = 'MECO'\n",
    "error_log = []\n",
    "\n",
    "for file in splitfiles:\n",
    "    try:\n",
    "        os.chdir(readpath)\n",
    "        filedf = pd.read_csv(file, sep = \",\", header = 0)\n",
    "    \n",
    "        IDRdrop.raw_split(filedf, readpath, writepath, utility)\n",
    "        print('success, file: ', file)\n",
    "        \n",
    "    except:\n",
    "        error_log = error_log.append(file)\n",
    "        print('error, file: ', file)"
   ]
  },
  {
   "cell_type": "markdown",
   "metadata": {},
   "source": [
    "## Show Raw IDR files based on utility"
   ]
  },
  {
   "cell_type": "markdown",
   "metadata": {},
   "source": [
    "Here *rawpath* is directory containing Raw IDRs - 25 most recent will be shown."
   ]
  },
  {
   "cell_type": "code",
   "execution_count": 6,
   "metadata": {},
   "outputs": [
    {
     "name": "stdout",
     "output_type": "stream",
     "text": [
      "files found in dir:  /home/jupyter-stevenhurwitt/la-tools-test/IDR_Drop/Raw_IDR\n",
      "                                               files                time\n",
      "0                        0021483009_MECO_IDR_RAW.csv 2019-09-01 17:09:02\n",
      "1                        0040677012_MECO_IDR_RAW.csv 2019-09-01 17:09:02\n",
      "2                        0021638013_MECO_IDR_RAW.csv 2019-09-01 17:09:02\n",
      "3                        0043496028_MECO_IDR_RAW.csv 2019-09-01 17:09:02\n",
      "4                                 .ipynb_checkpoints 2019-09-01 16:59:33\n",
      "5  ngrid_227b4bfa-0bd2-44d2-bbeb-17af36a5c5df_4ea... 2019-09-01 16:57:04\n",
      "6                                           init.git 2019-09-01 16:57:04\n"
     ]
    }
   ],
   "source": [
    "rawfiles = IDRdrop.show_dir(writepath, 20)\n",
    "print(rawfiles)"
   ]
  },
  {
   "cell_type": "code",
   "execution_count": 7,
   "metadata": {},
   "outputs": [
    {
     "name": "stdout",
     "output_type": "stream",
     "text": [
      "files to process: \n",
      "0    0021483009_MECO_IDR_RAW.csv\n",
      "1    0040677012_MECO_IDR_RAW.csv\n",
      "2    0021638013_MECO_IDR_RAW.csv\n",
      "3    0043496028_MECO_IDR_RAW.csv\n",
      "Name: files, dtype: object\n"
     ]
    }
   ],
   "source": [
    "index = [0]\n",
    "\n",
    "processfiles = rawfiles.files[:4]\n",
    "files = list(processfiles)\n",
    "print('files to process: ')\n",
    "print(processfiles)"
   ]
  },
  {
   "cell_type": "markdown",
   "metadata": {},
   "source": [
    "## Batch rename files"
   ]
  },
  {
   "cell_type": "code",
   "execution_count": 26,
   "metadata": {},
   "outputs": [
    {
     "name": "stdout",
     "output_type": "stream",
     "text": [
      "renamed 26745711056_IDR_RAW.csv.\n",
      "renamed 26335201039_IDR_RAW.csv.\n"
     ]
    }
   ],
   "source": [
    "for f in files:\n",
    "    try:\n",
    "        source = os.path.join(writepath, f)\n",
    "    \n",
    "        new = [utility, '_', f]\n",
    "        newf = ''.join(new)\n",
    "    \n",
    "        dest = os.path.join(writepath, newf)\n",
    "        os.rename(source, dest)\n",
    "        print('renamed {}.'.format(f))\n",
    "    except:\n",
    "        print('file already exists')"
   ]
  },
  {
   "cell_type": "markdown",
   "metadata": {},
   "source": [
    "Choose Raw IDRs to filter into IDR files."
   ]
  },
  {
   "cell_type": "code",
   "execution_count": 29,
   "metadata": {},
   "outputs": [
    {
     "name": "stdout",
     "output_type": "stream",
     "text": [
      "files to process: \n",
      "2    BECO_26745711056_IDR_RAW.csv\n",
      "3    BECO_26335201039_IDR_RAW.csv\n",
      "Name: files, dtype: object\n"
     ]
    }
   ],
   "source": [
    "index = [3]\n",
    "\n",
    "processfiles = rawfiles.files[2:4]\n",
    "files = list(processfiles)\n",
    "print('files to process: ')\n",
    "print(processfiles)"
   ]
  },
  {
   "cell_type": "markdown",
   "metadata": {},
   "source": [
    "## Batch filter Raw IDR into IDR files to be dropped"
   ]
  },
  {
   "cell_type": "code",
   "execution_count": 9,
   "metadata": {},
   "outputs": [
    {
     "name": "stdout",
     "output_type": "stream",
     "text": [
      "error, file:  0021483009_MECO_IDR_RAW.csv\n"
     ]
    }
   ],
   "source": [
    "writepath = '/home/jupyter-stevenhurwitt/la-tools-test/IDR_Drop/IDR'\n",
    "error_log = []\n",
    "\n",
    "for dropfile in files:\n",
    "    try:\n",
    "        IDRdrop.data_drop(dropfile, readpath, writepath)\n",
    "        print('success, file: ', dropfile)\n",
    "    \n",
    "    except:\n",
    "        try:\n",
    "            error_log = error_log.append(dropfile)\n",
    "            print(\"error, file: \", dropfile)\n",
    "        except:\n",
    "            pass"
   ]
  },
  {
   "cell_type": "code",
   "execution_count": 13,
   "metadata": {},
   "outputs": [
    {
     "data": {
      "text/plain": [
       "[]"
      ]
     },
     "execution_count": 13,
     "metadata": {},
     "output_type": "execute_result"
    }
   ],
   "source": [
    "type(error_log)\n",
    "error_log"
   ]
  },
  {
   "cell_type": "markdown",
   "metadata": {},
   "source": [
    "### Change meters to vertical"
   ]
  },
  {
   "cell_type": "code",
   "execution_count": 31,
   "metadata": {},
   "outputs": [
    {
     "name": "stdout",
     "output_type": "stream",
     "text": [
      "files found in dir:  C:\\Users\\wb5888\\Documents\\IDR Data\\NEPOOL\\BECO\n"
     ]
    },
    {
     "data": {
      "text/html": [
       "<div>\n",
       "<style scoped>\n",
       "    .dataframe tbody tr th:only-of-type {\n",
       "        vertical-align: middle;\n",
       "    }\n",
       "\n",
       "    .dataframe tbody tr th {\n",
       "        vertical-align: top;\n",
       "    }\n",
       "\n",
       "    .dataframe thead th {\n",
       "        text-align: right;\n",
       "    }\n",
       "</style>\n",
       "<table border=\"1\" class=\"dataframe\">\n",
       "  <thead>\n",
       "    <tr style=\"text-align: right;\">\n",
       "      <th></th>\n",
       "      <th>files</th>\n",
       "      <th>time</th>\n",
       "    </tr>\n",
       "  </thead>\n",
       "  <tbody>\n",
       "    <tr>\n",
       "      <th>0</th>\n",
       "      <td>BECO_26745711056_IDR.csv</td>\n",
       "      <td>2019-08-30 11:10:02</td>\n",
       "    </tr>\n",
       "    <tr>\n",
       "      <th>1</th>\n",
       "      <td>BECO_26335201039_IDR.csv</td>\n",
       "      <td>2019-08-30 11:10:02</td>\n",
       "    </tr>\n",
       "    <tr>\n",
       "      <th>2</th>\n",
       "      <td>NEPOOL_BECO_28344590048_ch3_to_288.lse</td>\n",
       "      <td>2019-08-29 15:49:47</td>\n",
       "    </tr>\n",
       "    <tr>\n",
       "      <th>3</th>\n",
       "      <td>28344590048_BECO_IDR.csv</td>\n",
       "      <td>2019-08-29 12:49:17</td>\n",
       "    </tr>\n",
       "    <tr>\n",
       "      <th>4</th>\n",
       "      <td>BECO_28458630010_IDR.xlsx</td>\n",
       "      <td>2019-08-28 16:40:33</td>\n",
       "    </tr>\n",
       "    <tr>\n",
       "      <th>5</th>\n",
       "      <td>BECO_29884680017_IDR.csv</td>\n",
       "      <td>2019-08-28 12:44:20</td>\n",
       "    </tr>\n",
       "    <tr>\n",
       "      <th>6</th>\n",
       "      <td>NEPOOL_BECO_28303990015_101_to_1.lse</td>\n",
       "      <td>2019-08-26 11:07:33</td>\n",
       "    </tr>\n",
       "    <tr>\n",
       "      <th>7</th>\n",
       "      <td>NEPOOL_BECO_28303980016_101_to_1.lse</td>\n",
       "      <td>2019-08-26 11:04:51</td>\n",
       "    </tr>\n",
       "    <tr>\n",
       "      <th>8</th>\n",
       "      <td>NEPOOL_BECO_28303970017_101_to_1.lse</td>\n",
       "      <td>2019-08-26 11:03:24</td>\n",
       "    </tr>\n",
       "    <tr>\n",
       "      <th>9</th>\n",
       "      <td>NEPOOL_BECO_24035081025_zero_usage_forecast.csv</td>\n",
       "      <td>2019-08-21 16:23:55</td>\n",
       "    </tr>\n",
       "  </tbody>\n",
       "</table>\n",
       "</div>"
      ],
      "text/plain": [
       "                                             files                time\n",
       "0                         BECO_26745711056_IDR.csv 2019-08-30 11:10:02\n",
       "1                         BECO_26335201039_IDR.csv 2019-08-30 11:10:02\n",
       "2           NEPOOL_BECO_28344590048_ch3_to_288.lse 2019-08-29 15:49:47\n",
       "3                         28344590048_BECO_IDR.csv 2019-08-29 12:49:17\n",
       "4                        BECO_28458630010_IDR.xlsx 2019-08-28 16:40:33\n",
       "5                         BECO_29884680017_IDR.csv 2019-08-28 12:44:20\n",
       "6             NEPOOL_BECO_28303990015_101_to_1.lse 2019-08-26 11:07:33\n",
       "7             NEPOOL_BECO_28303980016_101_to_1.lse 2019-08-26 11:04:51\n",
       "8             NEPOOL_BECO_28303970017_101_to_1.lse 2019-08-26 11:03:24\n",
       "9  NEPOOL_BECO_24035081025_zero_usage_forecast.csv 2019-08-21 16:23:55"
      ]
     },
     "execution_count": 31,
     "metadata": {},
     "output_type": "execute_result"
    }
   ],
   "source": [
    "data_dir = '/home/jupyter-engiela/la-tools-test/IDR_Drop/IDR'\n",
    "os.chdir(data_dir)\n",
    "idr = IDRdrop.show_dir(dir, 10)\n",
    "idr"
   ]
  },
  {
   "cell_type": "code",
   "execution_count": 33,
   "metadata": {},
   "outputs": [
    {
     "name": "stdout",
     "output_type": "stream",
     "text": [
      "transformed and wrote BECO_26745711056_IDR.csv to BECO_26745711056_IDR_vert.csv.\n",
      "transformed and wrote BECO_26335201039_IDR.csv to BECO_26335201039_IDR_vert.csv.\n"
     ]
    }
   ],
   "source": [
    "myfiles = idr.files[:2]\n",
    "for f in myfiles:\n",
    "    IDRdrop.hor_to_vert(f)"
   ]
  }
 ],
 "metadata": {
  "kernelspec": {
   "display_name": "Python 3",
   "language": "python",
   "name": "python3"
  },
  "language_info": {
   "codemirror_mode": {
    "name": "ipython",
    "version": 3
   },
   "file_extension": ".py",
   "mimetype": "text/x-python",
   "name": "python",
   "nbconvert_exporter": "python",
   "pygments_lexer": "ipython3",
   "version": "3.6.7"
  }
 },
 "nbformat": 4,
 "nbformat_minor": 2
}
