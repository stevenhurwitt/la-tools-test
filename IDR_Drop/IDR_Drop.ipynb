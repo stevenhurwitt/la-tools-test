{
 "cells": [
  {
   "cell_type": "markdown",
   "metadata": {},
   "source": [
    "# IDR Drop"
   ]
  },
  {
   "cell_type": "markdown",
   "metadata": {},
   "source": [
    "Implements batch tasks used for IDR drops."
   ]
  },
  {
   "cell_type": "code",
   "execution_count": 1,
   "metadata": {},
   "outputs": [
    {
     "name": "stdout",
     "output_type": "stream",
     "text": [
      "imported modules successfully.\n"
     ]
    }
   ],
   "source": [
    "import pandas as pd\n",
    "import numpy as np\n",
    "import IDRdrop\n",
    "import json\n",
    "import os\n",
    "print('imported modules successfully.')"
   ]
  },
  {
   "cell_type": "markdown",
   "metadata": {},
   "source": [
    "# Show downloaded files from EPO portal"
   ]
  },
  {
   "cell_type": "markdown",
   "metadata": {},
   "source": [
    "Here *filepath* is a directory containing downloaded EPO files. Code will print 20 most recent files."
   ]
  },
  {
   "cell_type": "code",
   "execution_count": 2,
   "metadata": {},
   "outputs": [
    {
     "name": "stdout",
     "output_type": "stream",
     "text": [
      "files found in dir:  C:\\Users\\wb5888\\Downloads\n",
      "                                               files                time\n",
      "0                                          Documents 2020-02-27 10:08:52\n",
      "1                                         windows_dl 2020-02-27 10:02:47\n",
      "2  eversource_657ac7ac-dc82-402f-a2ab-a304d5ff372... 2020-02-27 09:45:21\n",
      "3  eversource_71629281-0c57-44b1-a1c0-679b2d9f1bb... 2020-02-27 09:36:53\n",
      "4  eversource_71629281-0c57-44b1-a1c0-679b2d9f1bb... 2020-02-27 09:36:24\n",
      "5  eversource_71629281-0c57-44b1-a1c0-679b2d9f1bb... 2020-02-27 09:36:01\n",
      "6  eversource_71629281-0c57-44b1-a1c0-679b2d9f1bb... 2020-02-27 09:35:37\n",
      "7                                        desktop.ini 2020-02-27 07:11:35\n"
     ]
    }
   ],
   "source": [
    "readpath = 'C:\\\\Users\\\\wb5888\\\\Downloads'\n",
    "\n",
    "myfiles = IDRdrop.show_dir(readpath, 20)\n",
    "print(myfiles)"
   ]
  },
  {
   "cell_type": "markdown",
   "metadata": {},
   "source": [
    "Choose files to split into Raw IDR files."
   ]
  },
  {
   "cell_type": "code",
   "execution_count": 4,
   "metadata": {},
   "outputs": [
    {
     "name": "stdout",
     "output_type": "stream",
     "text": [
      "['eversource_657ac7ac-dc82-402f-a2ab-a304d5ff372e_96a681d6_hourlycsv.csv', 'eversource_71629281-0c57-44b1-a1c0-679b2d9f1bb1_246c0ccf_hourlycsv.csv', 'eversource_71629281-0c57-44b1-a1c0-679b2d9f1bb1_ada4f3f5_hourlycsv.csv', 'eversource_71629281-0c57-44b1-a1c0-679b2d9f1bb1_ec52a329_hourlycsv.csv', 'eversource_71629281-0c57-44b1-a1c0-679b2d9f1bb1_212779d6_hourlycsv.csv']\n"
     ]
    }
   ],
   "source": [
    "index = [0]\n",
    "\n",
    "splitfiles = list(myfiles.files[2:7])\n",
    "print(splitfiles)"
   ]
  },
  {
   "cell_type": "markdown",
   "metadata": {},
   "source": [
    "## Batch process downloaded EPO files into Raw IDRs"
   ]
  },
  {
   "cell_type": "code",
   "execution_count": 5,
   "metadata": {},
   "outputs": [
    {
     "name": "stdout",
     "output_type": "stream",
     "text": [
      "found 1 accounts.\n",
      "CLP_703603001_IDR_RAW.csv  written.\n",
      "success, file:  eversource_657ac7ac-dc82-402f-a2ab-a304d5ff372e_96a681d6_hourlycsv.csv\n",
      "found 3 accounts.\n",
      "CLP_71542062_IDR_RAW.csv  written.\n",
      "CLP_334842036_IDR_RAW.csv  written.\n",
      "CLP_463834044_IDR_RAW.csv  written.\n",
      "success, file:  eversource_71629281-0c57-44b1-a1c0-679b2d9f1bb1_246c0ccf_hourlycsv.csv\n",
      "found 4 accounts.\n",
      "CLP_90842089_IDR_RAW.csv  written.\n",
      "CLP_260742044_IDR_RAW.csv  written.\n",
      "CLP_476232012_IDR_RAW.csv  written.\n",
      "CLP_525702049_IDR_RAW.csv  written.\n",
      "success, file:  eversource_71629281-0c57-44b1-a1c0-679b2d9f1bb1_ada4f3f5_hourlycsv.csv\n",
      "found 4 accounts.\n",
      "CLP_91802009_IDR_RAW.csv  written.\n",
      "CLP_127634061_IDR_RAW.csv  written.\n",
      "CLP_535566087_IDR_RAW.csv  written.\n",
      "CLP_844893032_IDR_RAW.csv  written.\n",
      "success, file:  eversource_71629281-0c57-44b1-a1c0-679b2d9f1bb1_ec52a329_hourlycsv.csv\n",
      "found 4 accounts.\n",
      "CLP_200052082_IDR_RAW.csv  written.\n",
      "CLP_553942046_IDR_RAW.csv  written.\n",
      "CLP_680805074_IDR_RAW.csv  written.\n",
      "CLP_792442055_IDR_RAW.csv  written.\n",
      "success, file:  eversource_71629281-0c57-44b1-a1c0-679b2d9f1bb1_212779d6_hourlycsv.csv\n"
     ]
    }
   ],
   "source": [
    "readpath = 'C:\\\\Users\\\\wb5888\\\\Downloads'\n",
    "writepath = 'C:\\\\Users\\\\wb5888\\\\Documents\\\\la-tools-test\\\\IDR_Drop\\\\Raw_IDR'\n",
    "utility = 'CLP'\n",
    "accts = None\n",
    "error_log = []\n",
    "\n",
    "for file in splitfiles:\n",
    "    try:\n",
    "        os.chdir(readpath)\n",
    "        filedf = pd.read_csv(file, sep = \",\", header = 0)\n",
    "    \n",
    "        IDRdrop.raw_split(filedf, readpath, writepath, utility, accts)\n",
    "        print('success, file: ', file)\n",
    "        \n",
    "    except:\n",
    "        error_log = error_log.append(file)\n",
    "        print('error, file: ', file)"
   ]
  },
  {
   "cell_type": "markdown",
   "metadata": {},
   "source": [
    "## Show Raw IDR files based on utility"
   ]
  },
  {
   "cell_type": "markdown",
   "metadata": {},
   "source": [
    "Here *rawpath* is directory containing Raw IDRs - 25 most recent will be shown."
   ]
  },
  {
   "cell_type": "code",
   "execution_count": 6,
   "metadata": {},
   "outputs": [
    {
     "name": "stdout",
     "output_type": "stream",
     "text": [
      "files found in dir:  C:\\Users\\wb5888\\Documents\\la-tools-test\\IDR_Drop\\Raw_IDR\n",
      "                                                files                time\n",
      "0                           CLP_535566087_IDR_RAW.csv 2020-02-27 10:31:54\n",
      "1                           CLP_127634061_IDR_RAW.csv 2020-02-27 10:31:54\n",
      "2                           CLP_844893032_IDR_RAW.csv 2020-02-27 10:31:54\n",
      "3                           CLP_792442055_IDR_RAW.csv 2020-02-27 10:31:54\n",
      "4                           CLP_680805074_IDR_RAW.csv 2020-02-27 10:31:54\n",
      "5                           CLP_553942046_IDR_RAW.csv 2020-02-27 10:31:54\n",
      "6                            CLP_91802009_IDR_RAW.csv 2020-02-27 10:31:54\n",
      "7                           CLP_200052082_IDR_RAW.csv 2020-02-27 10:31:54\n",
      "8                           CLP_525702049_IDR_RAW.csv 2020-02-27 10:31:53\n",
      "9                           CLP_260742044_IDR_RAW.csv 2020-02-27 10:31:53\n",
      "10                          CLP_334842036_IDR_RAW.csv 2020-02-27 10:31:53\n",
      "11                          CLP_703603001_IDR_RAW.csv 2020-02-27 10:31:53\n",
      "12                           CLP_71542062_IDR_RAW.csv 2020-02-27 10:31:53\n",
      "13                          CLP_463834044_IDR_RAW.csv 2020-02-27 10:31:53\n",
      "14                          CLP_476232012_IDR_RAW.csv 2020-02-27 10:31:53\n",
      "15                           CLP_90842089_IDR_RAW.csv 2020-02-27 10:31:53\n",
      "16  ngrid_227b4bfa-0bd2-44d2-bbeb-17af36a5c5df_4ea... 2020-02-27 09:39:01\n",
      "17                        WMECO_944228097_IDR_RAW.csv 2020-02-27 09:39:01\n",
      "18                           init__20200120035935.git 2020-02-27 09:39:01\n",
      "19                                           init.git 2020-02-27 09:39:01\n"
     ]
    }
   ],
   "source": [
    "rawfiles = IDRdrop.show_dir(writepath, 20)\n",
    "print(rawfiles)"
   ]
  },
  {
   "cell_type": "markdown",
   "metadata": {},
   "source": [
    "Choose Raw IDRs to filter into IDR files."
   ]
  },
  {
   "cell_type": "code",
   "execution_count": 7,
   "metadata": {},
   "outputs": [
    {
     "name": "stdout",
     "output_type": "stream",
     "text": [
      "files to process: \n",
      "0     CLP_535566087_IDR_RAW.csv\n",
      "1     CLP_127634061_IDR_RAW.csv\n",
      "2     CLP_844893032_IDR_RAW.csv\n",
      "3     CLP_792442055_IDR_RAW.csv\n",
      "4     CLP_680805074_IDR_RAW.csv\n",
      "5     CLP_553942046_IDR_RAW.csv\n",
      "6      CLP_91802009_IDR_RAW.csv\n",
      "7     CLP_200052082_IDR_RAW.csv\n",
      "8     CLP_525702049_IDR_RAW.csv\n",
      "9     CLP_260742044_IDR_RAW.csv\n",
      "10    CLP_334842036_IDR_RAW.csv\n",
      "11    CLP_703603001_IDR_RAW.csv\n",
      "12     CLP_71542062_IDR_RAW.csv\n",
      "13    CLP_463834044_IDR_RAW.csv\n",
      "14    CLP_476232012_IDR_RAW.csv\n",
      "15     CLP_90842089_IDR_RAW.csv\n",
      "Name: files, dtype: object\n"
     ]
    }
   ],
   "source": [
    "index = [0]\n",
    "\n",
    "processfiles = rawfiles.files[:16]\n",
    "files = list(processfiles)\n",
    "print('files to process: ')\n",
    "print(processfiles)"
   ]
  },
  {
   "cell_type": "markdown",
   "metadata": {},
   "source": [
    "## Batch filter Raw IDR into IDR files to be dropped"
   ]
  },
  {
   "cell_type": "code",
   "execution_count": 8,
   "metadata": {},
   "outputs": [
    {
     "name": "stdout",
     "output_type": "stream",
     "text": [
      "success, file:  CLP_535566087_IDR_RAW.csv\n",
      "success, file:  CLP_127634061_IDR_RAW.csv\n",
      "success, file:  CLP_844893032_IDR_RAW.csv\n",
      "overlap removed at 9/26/2019, for file:\n",
      "success, file:  CLP_792442055_IDR_RAW.csv\n",
      "success, file:  CLP_680805074_IDR_RAW.csv\n",
      "overlap removed at 8/21/2019, for file:\n",
      "success, file:  CLP_553942046_IDR_RAW.csv\n",
      "success, file:  CLP_91802009_IDR_RAW.csv\n",
      "success, file:  CLP_200052082_IDR_RAW.csv\n",
      "success, file:  CLP_525702049_IDR_RAW.csv\n",
      "success, file:  CLP_260742044_IDR_RAW.csv\n",
      "overlap removed at 2/14/2020, for file:\n",
      "success, file:  CLP_334842036_IDR_RAW.csv\n",
      "overlap removed at 1/18/2019, for file:\n",
      "success, file:  CLP_703603001_IDR_RAW.csv\n",
      "success, file:  CLP_71542062_IDR_RAW.csv\n",
      "spot check output file at date 1/1/2020.\n",
      "success, file:  CLP_463834044_IDR_RAW.csv\n",
      "success, file:  CLP_476232012_IDR_RAW.csv\n",
      "success, file:  CLP_90842089_IDR_RAW.csv\n"
     ]
    }
   ],
   "source": [
    "readpath = 'C:\\\\Users\\\\wb5888\\\\Documents\\\\la-tools-test\\\\IDR_Drop\\\\Raw_IDR'\n",
    "writepath = 'C:\\\\Users\\\\wb5888\\\\Documents\\\\la-tools-test\\\\IDR_Drop\\\\IDR'\n",
    "error_log = []\n",
    "\n",
    "for dropfile in files:\n",
    "\n",
    "    try:\n",
    "        IDRdrop.data_drop(dropfile, readpath, writepath)\n",
    "        print('success, file: ', dropfile)\n",
    "    \n",
    "    except:\n",
    "        try:\n",
    "            error_log.append(dropfile)\n",
    "        except:\n",
    "            pass\n",
    "    "
   ]
  },
  {
   "cell_type": "code",
   "execution_count": 8,
   "metadata": {},
   "outputs": [
    {
     "data": {
      "text/plain": [
       "[]"
      ]
     },
     "execution_count": 8,
     "metadata": {},
     "output_type": "execute_result"
    }
   ],
   "source": [
    "type(error_log)\n",
    "error_log"
   ]
  },
  {
   "cell_type": "markdown",
   "metadata": {},
   "source": [
    "### Change meters to vertical"
   ]
  },
  {
   "cell_type": "code",
   "execution_count": 11,
   "metadata": {},
   "outputs": [
    {
     "name": "stdout",
     "output_type": "stream",
     "text": [
      "files found in dir:  C:\\Users\\wb5888\\Documents\\la-tools-test\\IDR_Drop\\IDR\n",
      "                           files                time\n",
      "0        CLP_463834044_IDR_3.csv 2020-02-27 10:32:18\n",
      "1           CLP_90842089_IDR.csv 2020-02-27 10:32:18\n",
      "2          CLP_334842036_IDR.csv 2020-02-27 10:32:18\n",
      "3        CLP_334842036_IDR_3.csv 2020-02-27 10:32:18\n",
      "4          CLP_703603001_IDR.csv 2020-02-27 10:32:18\n",
      "5        CLP_703603001_IDR_3.csv 2020-02-27 10:32:18\n",
      "6          CLP_463834044_IDR.csv 2020-02-27 10:32:18\n",
      "7          CLP_476232012_IDR.csv 2020-02-27 10:32:18\n",
      "8           CLP_71542062_IDR.csv 2020-02-27 10:32:18\n",
      "9          CLP_127634061_IDR.csv 2020-02-27 10:32:17\n",
      "10         CLP_200052082_IDR.csv 2020-02-27 10:32:17\n",
      "11         CLP_260742044_IDR.csv 2020-02-27 10:32:17\n",
      "12          CLP_91802009_IDR.csv 2020-02-27 10:32:17\n",
      "13         CLP_844893032_IDR.csv 2020-02-27 10:32:17\n",
      "14       CLP_792442055_IDR_3.csv 2020-02-27 10:32:17\n",
      "15         CLP_792442055_IDR.csv 2020-02-27 10:32:17\n",
      "16         CLP_680805074_IDR.csv 2020-02-27 10:32:17\n",
      "17       CLP_553942046_IDR_3.csv 2020-02-27 10:32:17\n",
      "18         CLP_553942046_IDR.csv 2020-02-27 10:32:17\n",
      "19         CLP_535566087_IDR.csv 2020-02-27 10:32:17\n",
      "20         CLP_525702049_IDR.csv 2020-02-27 10:32:17\n",
      "21        NRI_0234607035_IDR.csv 2020-02-27 09:38:53\n",
      "22                      init.git 2020-02-27 09:38:53\n",
      "23      init__20200120035935.git 2020-02-27 09:38:53\n",
      "24  MECO_9128119003_IDR_vert.csv 2020-02-27 09:38:53\n"
     ]
    }
   ],
   "source": [
    "data_dir = 'C:\\\\Users\\\\wb5888\\\\Documents\\\\la-tools-test\\\\IDR_Drop\\\\IDR'\n",
    "os.chdir(data_dir)\n",
    "idr = IDRdrop.show_dir(data_dir, 25)\n",
    "print(idr)"
   ]
  },
  {
   "cell_type": "code",
   "execution_count": 12,
   "metadata": {},
   "outputs": [
    {
     "name": "stdout",
     "output_type": "stream",
     "text": [
      "transformed and wrote CLP_463834044_IDR_3.csv to CLP_463834044_IDR_3_vert.csv.\n",
      "transformed and wrote CLP_90842089_IDR.csv to CLP_90842089_IDR_vert.csv.\n",
      "transformed and wrote CLP_334842036_IDR.csv to CLP_334842036_IDR_vert.csv.\n",
      "transformed and wrote CLP_334842036_IDR_3.csv to CLP_334842036_IDR_3_vert.csv.\n",
      "transformed and wrote CLP_703603001_IDR.csv to CLP_703603001_IDR_vert.csv.\n",
      "transformed and wrote CLP_703603001_IDR_3.csv to CLP_703603001_IDR_3_vert.csv.\n",
      "transformed and wrote CLP_463834044_IDR.csv to CLP_463834044_IDR_vert.csv.\n",
      "transformed and wrote CLP_476232012_IDR.csv to CLP_476232012_IDR_vert.csv.\n",
      "transformed and wrote CLP_71542062_IDR.csv to CLP_71542062_IDR_vert.csv.\n",
      "transformed and wrote CLP_127634061_IDR.csv to CLP_127634061_IDR_vert.csv.\n",
      "transformed and wrote CLP_200052082_IDR.csv to CLP_200052082_IDR_vert.csv.\n",
      "transformed and wrote CLP_260742044_IDR.csv to CLP_260742044_IDR_vert.csv.\n",
      "transformed and wrote CLP_91802009_IDR.csv to CLP_91802009_IDR_vert.csv.\n",
      "transformed and wrote CLP_844893032_IDR.csv to CLP_844893032_IDR_vert.csv.\n",
      "transformed and wrote CLP_792442055_IDR_3.csv to CLP_792442055_IDR_3_vert.csv.\n",
      "transformed and wrote CLP_792442055_IDR.csv to CLP_792442055_IDR_vert.csv.\n",
      "transformed and wrote CLP_680805074_IDR.csv to CLP_680805074_IDR_vert.csv.\n",
      "transformed and wrote CLP_553942046_IDR_3.csv to CLP_553942046_IDR_3_vert.csv.\n",
      "transformed and wrote CLP_553942046_IDR.csv to CLP_553942046_IDR_vert.csv.\n",
      "transformed and wrote CLP_535566087_IDR.csv to CLP_535566087_IDR_vert.csv.\n",
      "transformed and wrote CLP_525702049_IDR.csv to CLP_525702049_IDR_vert.csv.\n"
     ]
    }
   ],
   "source": [
    "myfiles = idr.files[:21]\n",
    "for f in myfiles:\n",
    "    IDRdrop.hor_to_vert(f)"
   ]
  },
  {
   "cell_type": "markdown",
   "metadata": {},
   "source": [
    "## Plot data"
   ]
  },
  {
   "cell_type": "code",
   "execution_count": null,
   "metadata": {},
   "outputs": [],
   "source": []
  },
  {
   "cell_type": "markdown",
   "metadata": {},
   "source": [
    "## Generate/get scalar, get tags"
   ]
  },
  {
   "cell_type": "code",
   "execution_count": null,
   "metadata": {},
   "outputs": [],
   "source": []
  },
  {
   "cell_type": "markdown",
   "metadata": {},
   "source": [
    "## Create datasource"
   ]
  },
  {
   "cell_type": "code",
   "execution_count": null,
   "metadata": {},
   "outputs": [],
   "source": []
  },
  {
   "cell_type": "markdown",
   "metadata": {},
   "source": [
    "## EWX API"
   ]
  },
  {
   "cell_type": "code",
   "execution_count": null,
   "metadata": {},
   "outputs": [],
   "source": []
  }
 ],
 "metadata": {
  "kernelspec": {
   "display_name": "Python 3",
   "language": "python",
   "name": "python3"
  },
  "language_info": {
   "codemirror_mode": {
    "name": "ipython",
    "version": 3
   },
   "file_extension": ".py",
   "mimetype": "text/x-python",
   "name": "python",
   "nbconvert_exporter": "python",
   "pygments_lexer": "ipython3",
   "version": "3.8.1"
  }
 },
 "nbformat": 4,
 "nbformat_minor": 2
}
