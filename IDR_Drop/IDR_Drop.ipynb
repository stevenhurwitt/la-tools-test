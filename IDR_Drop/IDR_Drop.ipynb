{
 "cells": [
  {
   "cell_type": "markdown",
   "metadata": {},
   "source": [
    "# IDR Drop"
   ]
  },
  {
   "cell_type": "markdown",
   "metadata": {},
   "source": [
    "Implements batch tasks used for IDR drops."
   ]
  },
  {
   "cell_type": "code",
   "execution_count": 12,
   "metadata": {},
   "outputs": [
    {
     "name": "stdout",
     "output_type": "stream",
     "text": [
      "imported modules successfully.\n"
     ]
    }
   ],
   "source": [
    "import pandas as pd\n",
    "import numpy as np\n",
    "import IDRdrop\n",
    "import json\n",
    "import os\n",
    "print('imported modules successfully.')"
   ]
  },
  {
   "cell_type": "markdown",
   "metadata": {},
   "source": [
    "# Show downloaded files from EPO portal"
   ]
  },
  {
   "cell_type": "markdown",
   "metadata": {},
   "source": [
    "Here *filepath* is a directory containing downloaded EPO files. Code will print 20 most recent files."
   ]
  },
  {
   "cell_type": "code",
   "execution_count": 13,
   "metadata": {},
   "outputs": [
    {
     "name": "stdout",
     "output_type": "stream",
     "text": [
      "files found in dir:  C:\\Users\\wb5888\\Downloads\n",
      "                                                files                time\n",
      "0   ngrid_c9c7780d-2cd8-48c6-b616-a9db5f703077_90a... 2019-12-09 15:01:46\n",
      "1   eversource_bd4ad368-3cdf-4030-9fb2-1d75985c61f... 2019-12-09 10:18:32\n",
      "2   ngrid_fd5e12df-9d43-486c-b09e-e752a6f3da48_093... 2019-12-06 10:06:50\n",
      "3   eversource_c4c0c264-83e3-4f3d-85bc-ba35c36c9d9... 2019-12-04 13:40:10\n",
      "4   ngrid_67be04fc-f33c-44ca-a9cf-4f28b604c8c3_cbe... 2019-12-04 12:51:00\n",
      "5   eversource_7e35fefe-d832-4662-9099-e8a9807e80d... 2019-12-03 16:00:49\n",
      "6   ngrid_0fdeff03-3c64-4cc2-8277-a837fe033066_65e... 2019-12-03 08:43:31\n",
      "7   ngrid_0fdeff03-3c64-4cc2-8277-a837fe033066_bc6... 2019-12-03 08:34:04\n",
      "8   ngrid_2277d0c9-6a62-4b1b-9c89-26218251e8ec_08e... 2019-12-03 08:08:43\n",
      "9   20191202133704599000_NEPOOL_COMELEC_1349755004... 2019-12-03 07:38:05\n",
      "10  20191202133704615000_NEPOOL_COMELEC_1349761004... 2019-12-03 07:37:52\n",
      "11  ngrid_1f7974eb-4ce3-4c23-809f-214482d91127_de5... 2019-12-02 14:13:45\n",
      "12  eversource_e9bbb878-cca3-4302-82d3-f2e6014c93a... 2019-12-02 12:55:55\n",
      "13  ngrid_e24d455f-b375-47b7-a451-3dbddc2f9993_58d... 2019-12-02 09:20:02\n",
      "14  eversource_eceb5f43-46a8-4ffa-9695-951e6791f70... 2019-11-27 10:36:10\n",
      "15  eversource_dd9cdef6-e84e-4831-81d8-f6ffc0dd0db... 2019-11-27 09:20:38\n",
      "16                    EngieResources_Waterville_.xlsx 2019-11-26 11:48:26\n",
      "17                           PSNH_80044560557_IDR.csv 2019-11-26 11:39:46\n",
      "18                           PSNH_80044560631_IDR.csv 2019-11-26 11:39:46\n",
      "19                           PSNH_80044561043_IDR.csv 2019-11-26 11:39:46\n"
     ]
    }
   ],
   "source": [
    "#readpath = '/home/jupyter-engiela/la-tools-test/IDR_Drop/Raw_IDR'\n",
    "readpath = \"C:\\\\Users\\\\wb5888\\\\Downloads\"\n",
    "\n",
    "myfiles = IDRdrop.show_dir(readpath, 20)\n",
    "print(myfiles)"
   ]
  },
  {
   "cell_type": "markdown",
   "metadata": {},
   "source": [
    "Choose files to split into Raw IDR files."
   ]
  },
  {
   "cell_type": "code",
   "execution_count": 14,
   "metadata": {},
   "outputs": [
    {
     "name": "stdout",
     "output_type": "stream",
     "text": [
      "files to split: \n",
      "['ngrid_c9c7780d-2cd8-48c6-b616-a9db5f703077_90a369db_hourlycsv.csv']\n"
     ]
    }
   ],
   "source": [
    "index = [0]\n",
    "\n",
    "splitfiles = list(myfiles.files[index])\n",
    "print('files to split: ')\n",
    "print(splitfiles)"
   ]
  },
  {
   "cell_type": "markdown",
   "metadata": {},
   "source": [
    "## Batch process downloaded EPO files into Raw IDRs"
   ]
  },
  {
   "cell_type": "code",
   "execution_count": 15,
   "metadata": {},
   "outputs": [
    {
     "name": "stdout",
     "output_type": "stream",
     "text": [
      "found 4 accounts.\n",
      "MECO_2692437015_IDR_RAW.csv  written.\n",
      "MECO_5257822017_IDR_RAW.csv  written.\n",
      "MECO_6285403014_IDR_RAW.csv  written.\n",
      "MECO_8779588017_IDR_RAW.csv  written.\n"
     ]
    }
   ],
   "source": [
    "readpath = \"C:\\\\Users\\\\wb5888\\\\Downloads\"\n",
    "writepath = \"C:\\\\Users\\\\wb5888\\\\la-tools-test\\IDR_Drop\\Raw_IDR\"\n",
    "utility = 'MECO'\n",
    "#accts = ['29574490016', '29180880014']\n",
    "accts = None\n",
    "\n",
    "for file in splitfiles:\n",
    "    os.chdir(readpath)\n",
    "    filedf = pd.read_csv(file, sep = \",\", header = 0)\n",
    "    \n",
    "    IDRdrop.raw_split(filedf, readpath, writepath, utility, accts)"
   ]
  },
  {
   "cell_type": "code",
   "execution_count": 30,
   "metadata": {},
   "outputs": [
    {
     "name": "stdout",
     "output_type": "stream",
     "text": [
      "found 3 accounts.\n",
      "success, file:  eversource_eceb5f43-46a8-4ffa-9695-951e6791f706_4085ad25_hourlycsv.csv\n"
     ]
    }
   ],
   "source": [
    "readpath = \"C:\\\\Users\\\\wb5888\\\\Downloads\"\n",
    "writepath = \"C:\\\\Users\\\\wb5888\\\\la-tools-test\\IDR_Drop\\RAW_IDR\"\n",
    "utility = 'BECO'\n",
    "accts = ['25593531004', '25917091008', '27266900011']\n",
    "\n",
    "error_log = []\n",
    "\n",
    "for file in splitfiles:\n",
    "    try:\n",
    "        os.chdir(readpath)\n",
    "        filedf = pd.read_csv(file, sep = \",\", header = 0)\n",
    "    \n",
    "        IDRdrop.raw_split(filedf, readpath, writepath, utility, accts)\n",
    "        print('success, file: ', file)\n",
    "        \n",
    "    except:\n",
    "        error_log = error_log.append(file)\n",
    "        print('error, file: ', file)"
   ]
  },
  {
   "cell_type": "markdown",
   "metadata": {},
   "source": [
    "## Show Raw IDR files based on utility"
   ]
  },
  {
   "cell_type": "markdown",
   "metadata": {},
   "source": [
    "Here *rawpath* is directory containing Raw IDRs - 25 most recent will be shown."
   ]
  },
  {
   "cell_type": "code",
   "execution_count": 16,
   "metadata": {},
   "outputs": [
    {
     "name": "stdout",
     "output_type": "stream",
     "text": [
      "files found in dir:  C:\\Users\\wb5888\\la-tools-test\\IDR_Drop\\Raw_IDR\n",
      "                                      files                time\n",
      "0               MECO_8779588017_IDR_RAW.csv 2019-12-09 15:02:05\n",
      "1               MECO_2692437015_IDR_RAW.csv 2019-12-09 15:02:05\n",
      "2               MECO_5257822017_IDR_RAW.csv 2019-12-09 15:02:05\n",
      "3               MECO_6285403014_IDR_RAW.csv 2019-12-09 15:02:05\n",
      "4           COMELEC_15783120023_IDR_RAW.csv 2019-12-09 10:19:10\n",
      "5           COMELEC_15781150022_IDR_RAW.csv 2019-12-09 10:19:10\n",
      "6                NRI_5332806000_IDR_RAW.csv 2019-12-06 10:07:21\n",
      "7   WMECO_54465494094_257741006_IDR_RAW.csv 2019-12-04 13:40:30\n",
      "8   WMECO_54541594040_612031006_IDR_RAW.csv 2019-12-04 13:40:30\n",
      "9               MECO_6466260020_IDR_RAW.csv 2019-12-04 12:51:52\n",
      "10             CMP_035016252757_IDR_RAW.csv 2019-12-04 08:13:35\n",
      "11    CLP_51296796071_582453006_IDR_RAW.csv 2019-12-03 16:04:58\n",
      "12             MECO_1403187030B_IDR_RAW.csv 2019-12-03 08:44:18\n",
      "13             MECO_1403187030A_IDR_RAW.csv 2019-12-03 08:44:18\n",
      "14              MECO_1482404018_IDR_RAW.csv 2019-12-03 08:09:00\n",
      "15              MECO_5275409003_IDR_RAW.csv 2019-12-02 14:14:18\n",
      "16               MECO_122993066_IDR_RAW.csv 2019-12-02 14:14:05\n",
      "17    CLP_51122993066_494662007_IDR_RAW.csv 2019-12-02 12:56:20\n",
      "18              MECO_0219222018_IDR_RAW.csv 2019-12-02 09:20:30\n",
      "19             BECO_25917091008_IDR_RAW.csv 2019-12-02 08:41:07\n"
     ]
    }
   ],
   "source": [
    "rawfiles = IDRdrop.show_dir(writepath, 20)\n",
    "print(rawfiles)"
   ]
  },
  {
   "cell_type": "markdown",
   "metadata": {},
   "source": [
    "Choose Raw IDRs to filter into IDR files."
   ]
  },
  {
   "cell_type": "code",
   "execution_count": 18,
   "metadata": {},
   "outputs": [
    {
     "name": "stdout",
     "output_type": "stream",
     "text": [
      "files to process: \n",
      "0    MECO_8779588017_IDR_RAW.csv\n",
      "1    MECO_2692437015_IDR_RAW.csv\n",
      "2    MECO_5257822017_IDR_RAW.csv\n",
      "3    MECO_6285403014_IDR_RAW.csv\n",
      "Name: files, dtype: object\n"
     ]
    }
   ],
   "source": [
    "index = [3]\n",
    "\n",
    "processfiles = rawfiles.files[:4]\n",
    "files = list(processfiles)\n",
    "print('files to process: ')\n",
    "print(processfiles)"
   ]
  },
  {
   "cell_type": "markdown",
   "metadata": {},
   "source": [
    "## Batch filter Raw IDR into IDR files to be dropped"
   ]
  },
  {
   "cell_type": "code",
   "execution_count": 19,
   "metadata": {},
   "outputs": [
    {
     "name": "stdout",
     "output_type": "stream",
     "text": [
      "success, file:  MECO_8779588017_IDR_RAW.csv\n",
      "success, file:  MECO_2692437015_IDR_RAW.csv\n",
      "success, file:  MECO_5257822017_IDR_RAW.csv\n",
      "success, file:  MECO_6285403014_IDR_RAW.csv\n"
     ]
    }
   ],
   "source": [
    "#writepath = '/home/jupyter-engiela/la-tools-test/IDR_Drop/IDR'\n",
    "readpath = \"C:\\\\Users\\\\wb5888\\\\la-tools-test\\IDR_Drop\\RAW_IDR\"\n",
    "writepath = 'C:\\\\Users\\wb5888\\la-tools-test\\IDR_Drop\\IDR'\n",
    "error_log = []\n",
    "\n",
    "for dropfile in files:\n",
    "    try:\n",
    "        IDRdrop.data_drop(dropfile, readpath, writepath)\n",
    "        print('success, file: ', dropfile)\n",
    "    \n",
    "    except:\n",
    "        try:\n",
    "            error_log = error_log.append(dropfile)\n",
    "            print(\"error, file: \", dropfile)\n",
    "        except:\n",
    "            pass"
   ]
  },
  {
   "cell_type": "code",
   "execution_count": 12,
   "metadata": {},
   "outputs": [
    {
     "data": {
      "text/plain": [
       "[]"
      ]
     },
     "execution_count": 12,
     "metadata": {},
     "output_type": "execute_result"
    }
   ],
   "source": [
    "type(error_log)\n",
    "error_log"
   ]
  },
  {
   "cell_type": "markdown",
   "metadata": {},
   "source": [
    "### Change meters to vertical"
   ]
  },
  {
   "cell_type": "code",
   "execution_count": 20,
   "metadata": {},
   "outputs": [
    {
     "name": "stdout",
     "output_type": "stream",
     "text": [
      "files found in dir:  C:\\Users\\wb5888\\la-tools-test\\IDR_Drop\\IDR\n"
     ]
    },
    {
     "data": {
      "text/html": [
       "<div>\n",
       "<style scoped>\n",
       "    .dataframe tbody tr th:only-of-type {\n",
       "        vertical-align: middle;\n",
       "    }\n",
       "\n",
       "    .dataframe tbody tr th {\n",
       "        vertical-align: top;\n",
       "    }\n",
       "\n",
       "    .dataframe thead th {\n",
       "        text-align: right;\n",
       "    }\n",
       "</style>\n",
       "<table border=\"1\" class=\"dataframe\">\n",
       "  <thead>\n",
       "    <tr style=\"text-align: right;\">\n",
       "      <th></th>\n",
       "      <th>files</th>\n",
       "      <th>time</th>\n",
       "    </tr>\n",
       "  </thead>\n",
       "  <tbody>\n",
       "    <tr>\n",
       "      <td>0</td>\n",
       "      <td>MECO_5257822017_IDR.csv</td>\n",
       "      <td>2019-12-09 15:02:22</td>\n",
       "    </tr>\n",
       "    <tr>\n",
       "      <td>1</td>\n",
       "      <td>MECO_2692437015_IDR.csv</td>\n",
       "      <td>2019-12-09 15:02:22</td>\n",
       "    </tr>\n",
       "    <tr>\n",
       "      <td>2</td>\n",
       "      <td>MECO_6285403014_IDR.csv</td>\n",
       "      <td>2019-12-09 15:02:22</td>\n",
       "    </tr>\n",
       "    <tr>\n",
       "      <td>3</td>\n",
       "      <td>MECO_8779588017_IDR.csv</td>\n",
       "      <td>2019-12-09 15:02:22</td>\n",
       "    </tr>\n",
       "    <tr>\n",
       "      <td>4</td>\n",
       "      <td>COMELEC_15783120023_IDR_vert.csv</td>\n",
       "      <td>2019-12-09 10:56:25</td>\n",
       "    </tr>\n",
       "    <tr>\n",
       "      <td>5</td>\n",
       "      <td>COMELEC_15781150022_IDR_vert.csv</td>\n",
       "      <td>2019-12-09 10:56:19</td>\n",
       "    </tr>\n",
       "    <tr>\n",
       "      <td>6</td>\n",
       "      <td>COMELEC_15781150022_IDR.csv</td>\n",
       "      <td>2019-12-09 10:19:27</td>\n",
       "    </tr>\n",
       "    <tr>\n",
       "      <td>7</td>\n",
       "      <td>COMELEC_15783120023_IDR.csv</td>\n",
       "      <td>2019-12-09 10:19:27</td>\n",
       "    </tr>\n",
       "    <tr>\n",
       "      <td>8</td>\n",
       "      <td>NRI_5332806000_IDR_vert.csv</td>\n",
       "      <td>2019-12-06 10:07:47</td>\n",
       "    </tr>\n",
       "    <tr>\n",
       "      <td>9</td>\n",
       "      <td>NRI_5332806000_IDR.csv</td>\n",
       "      <td>2019-12-06 10:07:35</td>\n",
       "    </tr>\n",
       "  </tbody>\n",
       "</table>\n",
       "</div>"
      ],
      "text/plain": [
       "                              files                time\n",
       "0           MECO_5257822017_IDR.csv 2019-12-09 15:02:22\n",
       "1           MECO_2692437015_IDR.csv 2019-12-09 15:02:22\n",
       "2           MECO_6285403014_IDR.csv 2019-12-09 15:02:22\n",
       "3           MECO_8779588017_IDR.csv 2019-12-09 15:02:22\n",
       "4  COMELEC_15783120023_IDR_vert.csv 2019-12-09 10:56:25\n",
       "5  COMELEC_15781150022_IDR_vert.csv 2019-12-09 10:56:19\n",
       "6       COMELEC_15781150022_IDR.csv 2019-12-09 10:19:27\n",
       "7       COMELEC_15783120023_IDR.csv 2019-12-09 10:19:27\n",
       "8       NRI_5332806000_IDR_vert.csv 2019-12-06 10:07:47\n",
       "9            NRI_5332806000_IDR.csv 2019-12-06 10:07:35"
      ]
     },
     "execution_count": 20,
     "metadata": {},
     "output_type": "execute_result"
    }
   ],
   "source": [
    "#data_dir = '/home/jupyter-engiela/la-tools-test/IDR_Drop/IDR'\n",
    "data_dir = 'C:\\\\Users\\wb5888\\la-tools-test\\IDR_Drop\\IDR'\n",
    "os.chdir(data_dir)\n",
    "idr = IDRdrop.show_dir(data_dir, 10)\n",
    "idr"
   ]
  },
  {
   "cell_type": "code",
   "execution_count": 21,
   "metadata": {},
   "outputs": [
    {
     "data": {
      "text/plain": [
       "0    MECO_5257822017_IDR.csv\n",
       "1    MECO_2692437015_IDR.csv\n",
       "2    MECO_6285403014_IDR.csv\n",
       "3    MECO_8779588017_IDR.csv\n",
       "Name: files, dtype: object"
      ]
     },
     "execution_count": 21,
     "metadata": {},
     "output_type": "execute_result"
    }
   ],
   "source": [
    "myfiles = idr.files[:4]\n",
    "myfiles"
   ]
  },
  {
   "cell_type": "code",
   "execution_count": 22,
   "metadata": {},
   "outputs": [
    {
     "name": "stdout",
     "output_type": "stream",
     "text": [
      "transformed and wrote MECO_5257822017_IDR.csv to MECO_5257822017_IDR_vert.csv.\n",
      "transformed and wrote MECO_2692437015_IDR.csv to MECO_2692437015_IDR_vert.csv.\n",
      "transformed and wrote MECO_6285403014_IDR.csv to MECO_6285403014_IDR_vert.csv.\n",
      "transformed and wrote MECO_8779588017_IDR.csv to MECO_8779588017_IDR_vert.csv.\n"
     ]
    }
   ],
   "source": [
    "for f in myfiles:\n",
    "    IDRdrop.hor_to_vert(f)"
   ]
  },
  {
   "cell_type": "markdown",
   "metadata": {},
   "source": [
    "## Read horizontal"
   ]
  },
  {
   "cell_type": "code",
   "execution_count": 63,
   "metadata": {},
   "outputs": [
    {
     "data": {
      "text/html": [
       "<div>\n",
       "<style scoped>\n",
       "    .dataframe tbody tr th:only-of-type {\n",
       "        vertical-align: middle;\n",
       "    }\n",
       "\n",
       "    .dataframe tbody tr th {\n",
       "        vertical-align: top;\n",
       "    }\n",
       "\n",
       "    .dataframe thead th {\n",
       "        text-align: right;\n",
       "    }\n",
       "</style>\n",
       "<table border=\"1\" class=\"dataframe\">\n",
       "  <thead>\n",
       "    <tr style=\"text-align: right;\">\n",
       "      <th></th>\n",
       "      <th>Account</th>\n",
       "      <th>Date</th>\n",
       "      <th>Channel</th>\n",
       "      <th>Units</th>\n",
       "      <th>1:00</th>\n",
       "      <th>2:00</th>\n",
       "      <th>3:00</th>\n",
       "      <th>4:00</th>\n",
       "      <th>5:00</th>\n",
       "      <th>6:00</th>\n",
       "      <th>...</th>\n",
       "      <th>15:00</th>\n",
       "      <th>16:00</th>\n",
       "      <th>17:00</th>\n",
       "      <th>18:00</th>\n",
       "      <th>19:00</th>\n",
       "      <th>20:00</th>\n",
       "      <th>21:00</th>\n",
       "      <th>22:00</th>\n",
       "      <th>23:00</th>\n",
       "      <th>24:00</th>\n",
       "    </tr>\n",
       "  </thead>\n",
       "  <tbody>\n",
       "    <tr>\n",
       "      <td>0</td>\n",
       "      <td>1555430004 IDEAL CONCRETE BLOCK</td>\n",
       "      <td>9/17/2018</td>\n",
       "      <td>1 kWh</td>\n",
       "      <td>kWh</td>\n",
       "      <td>16.74</td>\n",
       "      <td>16.50</td>\n",
       "      <td>18.24</td>\n",
       "      <td>26.82</td>\n",
       "      <td>70.14</td>\n",
       "      <td>136.68</td>\n",
       "      <td>...</td>\n",
       "      <td>282.42</td>\n",
       "      <td>162.06</td>\n",
       "      <td>114.84</td>\n",
       "      <td>70.98</td>\n",
       "      <td>55.02</td>\n",
       "      <td>66.06</td>\n",
       "      <td>58.56</td>\n",
       "      <td>56.88</td>\n",
       "      <td>59.28</td>\n",
       "      <td>58.02</td>\n",
       "    </tr>\n",
       "    <tr>\n",
       "      <td>1</td>\n",
       "      <td>1555430004 IDEAL CONCRETE BLOCK</td>\n",
       "      <td>9/18/2018</td>\n",
       "      <td>1 kWh</td>\n",
       "      <td>kWh</td>\n",
       "      <td>34.86</td>\n",
       "      <td>39.48</td>\n",
       "      <td>45.18</td>\n",
       "      <td>31.80</td>\n",
       "      <td>84.00</td>\n",
       "      <td>126.84</td>\n",
       "      <td>...</td>\n",
       "      <td>196.62</td>\n",
       "      <td>140.88</td>\n",
       "      <td>117.60</td>\n",
       "      <td>57.18</td>\n",
       "      <td>52.32</td>\n",
       "      <td>53.88</td>\n",
       "      <td>54.72</td>\n",
       "      <td>54.00</td>\n",
       "      <td>56.16</td>\n",
       "      <td>54.84</td>\n",
       "    </tr>\n",
       "    <tr>\n",
       "      <td>2</td>\n",
       "      <td>1555430004 IDEAL CONCRETE BLOCK</td>\n",
       "      <td>9/19/2018</td>\n",
       "      <td>1 kWh</td>\n",
       "      <td>kWh</td>\n",
       "      <td>31.80</td>\n",
       "      <td>24.90</td>\n",
       "      <td>36.00</td>\n",
       "      <td>35.46</td>\n",
       "      <td>87.96</td>\n",
       "      <td>133.92</td>\n",
       "      <td>...</td>\n",
       "      <td>236.22</td>\n",
       "      <td>145.26</td>\n",
       "      <td>113.16</td>\n",
       "      <td>66.54</td>\n",
       "      <td>54.30</td>\n",
       "      <td>50.94</td>\n",
       "      <td>52.20</td>\n",
       "      <td>51.24</td>\n",
       "      <td>51.72</td>\n",
       "      <td>50.40</td>\n",
       "    </tr>\n",
       "    <tr>\n",
       "      <td>3</td>\n",
       "      <td>1555430004 IDEAL CONCRETE BLOCK</td>\n",
       "      <td>9/20/2018</td>\n",
       "      <td>1 kWh</td>\n",
       "      <td>kWh</td>\n",
       "      <td>29.40</td>\n",
       "      <td>24.06</td>\n",
       "      <td>37.86</td>\n",
       "      <td>35.88</td>\n",
       "      <td>77.52</td>\n",
       "      <td>146.52</td>\n",
       "      <td>...</td>\n",
       "      <td>263.10</td>\n",
       "      <td>196.26</td>\n",
       "      <td>121.50</td>\n",
       "      <td>80.10</td>\n",
       "      <td>75.12</td>\n",
       "      <td>77.28</td>\n",
       "      <td>75.96</td>\n",
       "      <td>74.82</td>\n",
       "      <td>53.16</td>\n",
       "      <td>53.22</td>\n",
       "    </tr>\n",
       "    <tr>\n",
       "      <td>4</td>\n",
       "      <td>1555430004 IDEAL CONCRETE BLOCK</td>\n",
       "      <td>9/21/2018</td>\n",
       "      <td>1 kWh</td>\n",
       "      <td>kWh</td>\n",
       "      <td>51.42</td>\n",
       "      <td>50.58</td>\n",
       "      <td>28.62</td>\n",
       "      <td>23.58</td>\n",
       "      <td>78.66</td>\n",
       "      <td>150.12</td>\n",
       "      <td>...</td>\n",
       "      <td>114.66</td>\n",
       "      <td>85.32</td>\n",
       "      <td>22.50</td>\n",
       "      <td>16.32</td>\n",
       "      <td>14.94</td>\n",
       "      <td>15.84</td>\n",
       "      <td>16.62</td>\n",
       "      <td>16.26</td>\n",
       "      <td>16.80</td>\n",
       "      <td>16.32</td>\n",
       "    </tr>\n",
       "  </tbody>\n",
       "</table>\n",
       "<p>5 rows × 28 columns</p>\n",
       "</div>"
      ],
      "text/plain": [
       "                           Account       Date Channel Units   1:00   2:00  \\\n",
       "0  1555430004 IDEAL CONCRETE BLOCK  9/17/2018   1 kWh   kWh  16.74  16.50   \n",
       "1  1555430004 IDEAL CONCRETE BLOCK  9/18/2018   1 kWh   kWh  34.86  39.48   \n",
       "2  1555430004 IDEAL CONCRETE BLOCK  9/19/2018   1 kWh   kWh  31.80  24.90   \n",
       "3  1555430004 IDEAL CONCRETE BLOCK  9/20/2018   1 kWh   kWh  29.40  24.06   \n",
       "4  1555430004 IDEAL CONCRETE BLOCK  9/21/2018   1 kWh   kWh  51.42  50.58   \n",
       "\n",
       "    3:00   4:00   5:00    6:00  ...   15:00   16:00   17:00  18:00  19:00  \\\n",
       "0  18.24  26.82  70.14  136.68  ...  282.42  162.06  114.84  70.98  55.02   \n",
       "1  45.18  31.80  84.00  126.84  ...  196.62  140.88  117.60  57.18  52.32   \n",
       "2  36.00  35.46  87.96  133.92  ...  236.22  145.26  113.16  66.54  54.30   \n",
       "3  37.86  35.88  77.52  146.52  ...  263.10  196.26  121.50  80.10  75.12   \n",
       "4  28.62  23.58  78.66  150.12  ...  114.66   85.32   22.50  16.32  14.94   \n",
       "\n",
       "   20:00  21:00  22:00  23:00  24:00  \n",
       "0  66.06  58.56  56.88  59.28  58.02  \n",
       "1  53.88  54.72  54.00  56.16  54.84  \n",
       "2  50.94  52.20  51.24  51.72  50.40  \n",
       "3  77.28  75.96  74.82  53.16  53.22  \n",
       "4  15.84  16.62  16.26  16.80  16.32  \n",
       "\n",
       "[5 rows x 28 columns]"
      ]
     },
     "execution_count": 63,
     "metadata": {},
     "output_type": "execute_result"
    }
   ],
   "source": [
    "hor = pd.read_csv(idr.files[1])\n",
    "hor.head()"
   ]
  },
  {
   "cell_type": "markdown",
   "metadata": {},
   "source": [
    "## Read vertical"
   ]
  },
  {
   "cell_type": "code",
   "execution_count": 64,
   "metadata": {},
   "outputs": [],
   "source": [
    "def read_ts(file):\n",
    "    ver = pd.read_csv(file, header = None)\n",
    "\n",
    "    ver.columns = ['t', 'v']\n",
    "    ver['t'] = pd.to_datetime(ver['t'])\n",
    "    ver.set_index('t', drop = True, inplace = True)\n",
    "    return(ver)"
   ]
  },
  {
   "cell_type": "code",
   "execution_count": 65,
   "metadata": {},
   "outputs": [],
   "source": [
    "my_ts = read_ts(idr.files[0])"
   ]
  },
  {
   "cell_type": "code",
   "execution_count": 66,
   "metadata": {
    "scrolled": true
   },
   "outputs": [
    {
     "data": {
      "text/plain": [
       "<matplotlib.axes._subplots.AxesSubplot at 0xaa764c8>"
      ]
     },
     "execution_count": 66,
     "metadata": {},
     "output_type": "execute_result"
    },
    {
     "data": {
      "image/png": "[encoded data removed]",
      "text/plain": [
       "<Figure size 432x288 with 1 Axes>"
      ]
     },
     "metadata": {
      "needs_background": "light"
     },
     "output_type": "display_data"
    }
   ],
   "source": [
    "my_ts.plot(y = 'v')"
   ]
  },
  {
   "cell_type": "code",
   "execution_count": null,
   "metadata": {},
   "outputs": [],
   "source": [
    "my_ts.to_csv('')"
   ]
  }
 ],
 "metadata": {
  "kernelspec": {
   "display_name": "Python 3",
   "language": "python",
   "name": "python3"
  },
  "language_info": {
   "codemirror_mode": {
    "name": "ipython",
    "version": 3
   },
   "file_extension": ".py",
   "mimetype": "text/x-python",
   "name": "python",
   "nbconvert_exporter": "python",
   "pygments_lexer": "ipython3",
   "version": "3.7.4"
  }
 },
 "nbformat": 4,
 "nbformat_minor": 2
}
