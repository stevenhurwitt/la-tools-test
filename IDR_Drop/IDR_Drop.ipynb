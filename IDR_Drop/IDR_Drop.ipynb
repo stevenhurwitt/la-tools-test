{
 "cells": [
  {
   "cell_type": "markdown",
   "metadata": {},
   "source": [
    "# IDR Drop"
   ]
  },
  {
   "cell_type": "markdown",
   "metadata": {},
   "source": [
    "Implements batch tasks used for IDR drops."
   ]
  },
  {
   "cell_type": "code",
   "execution_count": 1,
   "metadata": {},
   "outputs": [
    {
     "name": "stdout",
     "output_type": "stream",
     "text": [
      "imported modules successfully.\n"
     ]
    }
   ],
   "source": [
    "import pandas as pd\n",
    "import numpy as np\n",
    "import IDRdrop\n",
    "import json\n",
    "import os\n",
    "print('imported modules successfully.')"
   ]
  },
  {
   "cell_type": "markdown",
   "metadata": {},
   "source": [
    "# Show downloaded files from EPO portal"
   ]
  },
  {
   "cell_type": "markdown",
   "metadata": {},
   "source": [
    "Here *filepath* is a directory containing downloaded EPO files. Code will print 20 most recent files."
   ]
  },
  {
   "cell_type": "code",
   "execution_count": 2,
   "metadata": {},
   "outputs": [
    {
     "name": "stdout",
     "output_type": "stream",
     "text": [
      "files found in dir:  /home//jupyter-stevenhurwitt/la-tools-test/IDR_Drop/Raw_IDR\n",
      "                                               files                time\n",
      "0                        0021483009_MECO_IDR_RAW.csv 2019-09-01 17:09:02\n",
      "1                        0040677012_MECO_IDR_RAW.csv 2019-09-01 17:09:02\n",
      "2                        0021638013_MECO_IDR_RAW.csv 2019-09-01 17:09:02\n",
      "3                        0043496028_MECO_IDR_RAW.csv 2019-09-01 17:09:02\n",
      "4                                 .ipynb_checkpoints 2019-09-01 16:59:33\n",
      "5  ngrid_227b4bfa-0bd2-44d2-bbeb-17af36a5c5df_4ea... 2019-09-01 16:57:04\n",
      "6                                           init.git 2019-09-01 16:57:04\n"
     ]
    }
   ],
   "source": [
    "readpath = '/home//jupyter-stevenhurwitt/la-tools-test/IDR_Drop/Raw_IDR'\n",
    "\n",
    "myfiles = IDRdrop.show_dir(readpath, 20)\n",
    "print(myfiles)"
   ]
  },
  {
   "cell_type": "markdown",
   "metadata": {},
   "source": [
    "Choose files to split into Raw IDR files."
   ]
  },
  {
   "cell_type": "code",
   "execution_count": 3,
   "metadata": {},
   "outputs": [
    {
     "name": "stdout",
     "output_type": "stream",
     "text": [
      "files to split: \n",
      "['ngrid_227b4bfa-0bd2-44d2-bbeb-17af36a5c5df_4ea950cd_hourlycsv.csv']\n"
     ]
    }
   ],
   "source": [
    "index = [5]\n",
    "\n",
    "splitfiles = list(myfiles.files[index])\n",
    "print('files to split: ')\n",
    "print(splitfiles)"
   ]
  },
  {
   "cell_type": "markdown",
   "metadata": {},
   "source": [
    "## Batch process downloaded EPO files into Raw IDRs"
   ]
  },
  {
   "cell_type": "code",
   "execution_count": 4,
   "metadata": {},
   "outputs": [
    {
     "name": "stdout",
     "output_type": "stream",
     "text": [
      "found 4 accounts.\n",
      "success, file:  ngrid_227b4bfa-0bd2-44d2-bbeb-17af36a5c5df_4ea950cd_hourlycsv.csv\n"
     ]
    }
   ],
   "source": [
    "readpath = '/home/jupyter-stevenhurwitt/la-tools-test/IDR_Drop/Raw_IDR'\n",
    "writepath = '/home/jupyter-stevenhurwitt/la-tools-test/IDR_Drop/Raw_IDR'\n",
    "utility = 'MECO'\n",
    "error_log = []\n",
    "\n",
    "for file in splitfiles:\n",
    "    try:\n",
    "        os.chdir(readpath)\n",
    "        filedf = pd.read_csv(file, sep = \",\", header = 0)\n",
    "    \n",
    "        IDRdrop.raw_split(filedf, readpath, writepath, utility, accts)\n",
    "        print('success, file: ', file)\n",
    "        \n",
    "    except:\n",
    "        error_log = error_log.append(file)\n",
    "        print('error, file: ', file)"
   ]
  },
  {
   "cell_type": "markdown",
   "metadata": {},
   "source": [
    "## Show Raw IDR files based on utility"
   ]
  },
  {
   "cell_type": "markdown",
   "metadata": {},
   "source": [
    "Here *rawpath* is directory containing Raw IDRs - 25 most recent will be shown."
   ]
  },
  {
   "cell_type": "code",
   "execution_count": 5,
   "metadata": {},
   "outputs": [
    {
     "name": "stdout",
     "output_type": "stream",
     "text": [
      "files found in dir:  /home/jupyter-stevenhurwitt/la-tools-test/IDR_Drop/Raw_IDR\n",
      "                                               files                time\n",
      "0                        0021483009_MECO_IDR_RAW.csv 2019-09-01 17:09:02\n",
      "1                        0040677012_MECO_IDR_RAW.csv 2019-09-01 17:09:02\n",
      "2                        0021638013_MECO_IDR_RAW.csv 2019-09-01 17:09:02\n",
      "3                        0043496028_MECO_IDR_RAW.csv 2019-09-01 17:09:02\n",
      "4                                 .ipynb_checkpoints 2019-09-01 16:59:33\n",
      "5  ngrid_227b4bfa-0bd2-44d2-bbeb-17af36a5c5df_4ea... 2019-09-01 16:57:04\n",
      "6                                           init.git 2019-09-01 16:57:04\n"
     ]
    }
   ],
   "source": [
    "rawfiles = IDRdrop.show_dir(writepath, 20)\n",
    "print(rawfiles)"
   ]
  },
  {
   "cell_type": "markdown",
   "metadata": {},
   "source": [
    "Choose Raw IDRs to filter into IDR files."
   ]
  },
  {
   "cell_type": "code",
   "execution_count": 6,
   "metadata": {},
   "outputs": [
    {
     "name": "stdout",
     "output_type": "stream",
     "text": [
      "files to process: \n",
      "0    0021483009_MECO_IDR_RAW.csv\n",
      "1    0040677012_MECO_IDR_RAW.csv\n",
      "2    0021638013_MECO_IDR_RAW.csv\n",
      "3    0043496028_MECO_IDR_RAW.csv\n",
      "Name: files, dtype: object\n"
     ]
    }
   ],
   "source": [
    "index = [0]\n",
    "\n",
    "processfiles = rawfiles.files[:4]\n",
    "files = list(processfiles)\n",
    "print('files to process: ')\n",
    "print(processfiles)"
   ]
  },
  {
   "cell_type": "markdown",
   "metadata": {},
   "source": [
    "## Batch filter Raw IDR into IDR files to be dropped"
   ]
  },
  {
   "cell_type": "code",
   "execution_count": 7,
   "metadata": {},
   "outputs": [
    {
     "name": "stdout",
     "output_type": "stream",
     "text": [
      "success, file:  0021483009_MECO_IDR_RAW.csv\n",
      "success, file:  0040677012_MECO_IDR_RAW.csv\n",
      "success, file:  0021638013_MECO_IDR_RAW.csv\n",
      "success, file:  0043496028_MECO_IDR_RAW.csv\n"
     ]
    }
   ],
   "source": [
    "writepath = '/home/jupyter-stevenhurwitt/la-tools-test/IDR_Drop/IDR'\n",
    "error_log = []\n",
    "\n",
    "for dropfile in files:\n",
    "\n",
    "    try:\n",
    "        IDRdrop.data_drop(dropfile, readpath, writepath)\n",
    "        print('success, file: ', dropfile)\n",
    "    \n",
    "    except:\n",
    "        try:\n",
    "            error_log.append(dropfile)\n",
    "        except:\n",
    "            pass\n",
    "    "
   ]
  },
  {
   "cell_type": "code",
   "execution_count": 8,
   "metadata": {},
   "outputs": [
    {
     "data": {
      "text/plain": [
       "[]"
      ]
     },
     "execution_count": 8,
     "metadata": {},
     "output_type": "execute_result"
    }
   ],
   "source": [
    "type(error_log)\n",
    "error_log"
   ]
  },
  {
   "cell_type": "markdown",
   "metadata": {},
   "source": [
    "### Change meters to vertical"
   ]
  },
  {
   "cell_type": "code",
   "execution_count": 12,
   "metadata": {},
   "outputs": [
    {
     "name": "stdout",
     "output_type": "stream",
     "text": [
      "files found in dir:  /home/jupyter-stevenhurwitt/la-tools-test/IDR_Drop/IDR\n",
      "                     files                time\n",
      "0  0043496028_MECO_IDR.csv 2019-09-01 17:23:45\n",
      "1  0021483009_MECO_IDR.csv 2019-09-01 17:23:45\n",
      "2  0021638013_MECO_IDR.csv 2019-09-01 17:23:45\n",
      "3  0040677012_MECO_IDR.csv 2019-09-01 17:23:45\n",
      "4                 init.git 2019-09-01 16:32:30\n"
     ]
    }
   ],
   "source": [
    "data_dir = '/home/jupyter-stevenhurwitt/la-tools-test/IDR_Drop/IDR'\n",
    "os.chdir(data_dir)\n",
    "idr = IDRdrop.show_dir(data_dir, 10)\n",
    "print(idr)"
   ]
  },
  {
   "cell_type": "code",
   "execution_count": 13,
   "metadata": {},
   "outputs": [
    {
     "ename": "AttributeError",
     "evalue": "module 'IDRdrop' has no attribute 'hor_to_vert'",
     "output_type": "error",
     "traceback": [
      "\u001b[0;31m---------------------------------------------------------------------------\u001b[0m",
      "\u001b[0;31mAttributeError\u001b[0m                            Traceback (most recent call last)",
      "\u001b[0;32m<ipython-input-13-96bf12143440>\u001b[0m in \u001b[0;36m<module>\u001b[0;34m\u001b[0m\n\u001b[1;32m      1\u001b[0m \u001b[0mmyfiles\u001b[0m \u001b[0;34m=\u001b[0m \u001b[0midr\u001b[0m\u001b[0;34m.\u001b[0m\u001b[0mfiles\u001b[0m\u001b[0;34m[\u001b[0m\u001b[0;34m:\u001b[0m\u001b[0;36m4\u001b[0m\u001b[0;34m]\u001b[0m\u001b[0;34m\u001b[0m\u001b[0;34m\u001b[0m\u001b[0m\n\u001b[1;32m      2\u001b[0m \u001b[0;32mfor\u001b[0m \u001b[0mf\u001b[0m \u001b[0;32min\u001b[0m \u001b[0mmyfiles\u001b[0m\u001b[0;34m:\u001b[0m\u001b[0;34m\u001b[0m\u001b[0;34m\u001b[0m\u001b[0m\n\u001b[0;32m----> 3\u001b[0;31m     \u001b[0mIDRdrop\u001b[0m\u001b[0;34m.\u001b[0m\u001b[0mhor_to_vert\u001b[0m\u001b[0;34m(\u001b[0m\u001b[0mf\u001b[0m\u001b[0;34m)\u001b[0m\u001b[0;34m\u001b[0m\u001b[0;34m\u001b[0m\u001b[0m\n\u001b[0m",
      "\u001b[0;31mAttributeError\u001b[0m: module 'IDRdrop' has no attribute 'hor_to_vert'"
     ]
    }
   ],
   "source": [
    "myfiles = idr.files[:4]\n",
    "for f in myfiles:\n",
    "    IDRdrop.hor_to_vert(f)"
   ]
  },
  {
   "cell_type": "code",
   "execution_count": null,
   "metadata": {},
   "outputs": [],
   "source": []
  }
 ],
 "metadata": {
  "kernelspec": {
   "display_name": "Python 3",
   "language": "python",
   "name": "python3"
  },
  "language_info": {
   "codemirror_mode": {
    "name": "ipython",
    "version": 3
   },
   "file_extension": ".py",
   "mimetype": "text/x-python",
   "name": "python",
   "nbconvert_exporter": "python",
   "pygments_lexer": "ipython3",
   "version": "3.6.7"
  }
 },
 "nbformat": 4,
 "nbformat_minor": 2
}
