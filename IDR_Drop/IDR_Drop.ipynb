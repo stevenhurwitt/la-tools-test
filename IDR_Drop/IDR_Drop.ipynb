{
 "cells": [
  {
   "cell_type": "markdown",
   "metadata": {},
   "source": [
    "# IDR Drop"
   ]
  },
  {
   "cell_type": "markdown",
   "metadata": {},
   "source": [
    "Implements batch tasks used for IDR drops."
   ]
  },
  {
   "cell_type": "code",
   "execution_count": 4,
   "metadata": {},
   "outputs": [
    {
     "name": "stdout",
     "output_type": "stream",
     "text": [
      "imported modules successfully.\n"
     ]
    }
   ],
   "source": [
    "import pandas as pd\n",
    "import numpy as np\n",
    "import cx_Oracle\n",
    "import db_connect\n",
    "import IDRdrop\n",
    "import json\n",
    "import os\n",
    "print('imported modules successfully.')"
   ]
  },
  {
   "cell_type": "markdown",
   "metadata": {},
   "source": [
    "## Show downloaded files from EPO portal"
   ]
  },
  {
   "cell_type": "markdown",
   "metadata": {},
   "source": [
    "Here *filepath* is a directory containing downloaded EPO files. Code will print 20 most recent files."
   ]
  },
  {
   "cell_type": "code",
   "execution_count": 5,
   "metadata": {},
   "outputs": [
    {
     "name": "stdout",
     "output_type": "stream",
     "text": [
      "files found in dir:  C:\\Users\\wb5888\\Downloads\n",
      "                                                files                time\n",
      "0   eversource_a84bbc57-451b-4abb-b50b-64da4594a2a... 2020-03-05 10:56:29\n",
      "1   eversource_1aca0a86-6edb-4fc5-b942-a09f4902e9a... 2020-03-05 09:05:58\n",
      "2   eversource_1aca0a86-6edb-4fc5-b942-a09f4902e9a... 2020-03-05 09:05:35\n",
      "3   eversource_1aca0a86-6edb-4fc5-b942-a09f4902e9a... 2020-03-05 09:05:02\n",
      "4   eversource_1aca0a86-6edb-4fc5-b942-a09f4902e9a... 2020-03-05 09:04:15\n",
      "5   eversource_1aca0a86-6edb-4fc5-b942-a09f4902e9a... 2020-03-05 09:03:46\n",
      "6   eversource_1aca0a86-6edb-4fc5-b942-a09f4902e9a... 2020-03-05 09:03:20\n",
      "7   ngrid_a7a8bb2a-c571-452b-b683-7e889e595a15_1bc... 2020-03-05 08:20:51\n",
      "8   ngrid_fb71395c-7068-4aec-8680-cf7fdb32c251_295... 2020-03-04 09:35:38\n",
      "9   eversource_a3a27832-12c8-4cc5-b07d-9bf2b89fdff... 2020-03-03 13:36:09\n",
      "10  eversource_a3a27832-12c8-4cc5-b07d-9bf2b89fdff... 2020-03-03 13:34:39\n",
      "11  DirectEnergyBusiness_HartsRestaurant_03032020.... 2020-03-03 11:54:31\n",
      "12                    IntervalData_03012020102521.csv 2020-03-02 14:37:37\n",
      "13                            6778_20200302114511.zip 2020-03-02 10:48:28\n",
      "14                    IntervalData_03012020102449.csv 2020-03-01 10:27:30\n",
      "15  eversource_88630754-82a7-4536-9a9f-c3095b3af6b... 2020-02-28 10:49:14\n",
      "16  eversource_654db5d6-6086-4ae7-a1c9-ea36806aeb3... 2020-02-28 10:26:57\n",
      "17  eversource_c6caf87e-db70-4d10-94f1-419db9b2e10... 2020-02-28 10:26:14\n",
      "18                                     output (1).csv 2020-02-28 10:22:41\n",
      "19                                         OUTPUT.csv 2020-02-28 10:18:22\n"
     ]
    }
   ],
   "source": [
    "readpath = 'C:\\\\Users\\\\wb5888\\\\Downloads'\n",
    "\n",
    "myfiles = IDRdrop.show_dir(readpath, 20)\n",
    "print(myfiles)"
   ]
  },
  {
   "cell_type": "markdown",
   "metadata": {},
   "source": [
    "Choose files to split into Raw IDR files."
   ]
  },
  {
   "cell_type": "code",
   "execution_count": 6,
   "metadata": {},
   "outputs": [
    {
     "name": "stdout",
     "output_type": "stream",
     "text": [
      "['eversource_a84bbc57-451b-4abb-b50b-64da4594a2a3_9eb4d418_hourlycsv.csv']\n"
     ]
    }
   ],
   "source": [
    "index = [0]\n",
    "\n",
    "splitfiles = list(myfiles.files[index])\n",
    "print(splitfiles)"
   ]
  },
  {
   "cell_type": "markdown",
   "metadata": {},
   "source": [
    "## Batch process downloaded EPO files into Raw IDRs"
   ]
  },
  {
   "cell_type": "code",
   "execution_count": 7,
   "metadata": {},
   "outputs": [
    {
     "name": "stdout",
     "output_type": "stream",
     "text": [
      "found 3 accounts.\n",
      "COMELEC_13037480061_IDR_RAW.csv  written.\n",
      "COMELEC_16272550027_IDR_RAW.csv  written.\n",
      "COMELEC_16634050021_IDR_RAW.csv  written.\n",
      "success, file:  eversource_a84bbc57-451b-4abb-b50b-64da4594a2a3_9eb4d418_hourlycsv.csv\n"
     ]
    }
   ],
   "source": [
    "readpath = 'C:\\\\Users\\\\wb5888\\\\Downloads'\n",
    "writepath = 'C:\\\\Users\\\\wb5888\\\\Documents\\\\la-tools-test\\\\IDR_Drop\\\\Raw_IDR'\n",
    "utility = 'COMELEC'\n",
    "accts = None\n",
    "error_log = []\n",
    "\n",
    "for file in splitfiles:\n",
    "    try:\n",
    "        os.chdir(readpath)\n",
    "        filedf = pd.read_csv(file, sep = \",\", header = 0)\n",
    "    \n",
    "        IDRdrop.raw_split(filedf, readpath, writepath, utility, accts)\n",
    "        print('success, file: ', file)\n",
    "        \n",
    "    except:\n",
    "        error_log = error_log.append(file)\n",
    "        print('error, file: ', file)"
   ]
  },
  {
   "cell_type": "markdown",
   "metadata": {},
   "source": [
    "## Show Raw IDR files based on utility"
   ]
  },
  {
   "cell_type": "markdown",
   "metadata": {},
   "source": [
    "Here *rawpath* is directory containing Raw IDRs - 25 most recent will be shown."
   ]
  },
  {
   "cell_type": "code",
   "execution_count": 8,
   "metadata": {},
   "outputs": [
    {
     "name": "stdout",
     "output_type": "stream",
     "text": [
      "files found in dir:  C:\\Users\\wb5888\\Documents\\la-tools-test\\IDR_Drop\\Raw_IDR\n",
      "                                    files                time\n",
      "0         COMELEC_16634050021_IDR_RAW.csv 2020-03-05 10:57:34\n",
      "1         COMELEC_16272550027_IDR_RAW.csv 2020-03-05 10:57:34\n",
      "2         COMELEC_13037480061_IDR_RAW.csv 2020-03-05 10:57:33\n",
      "3            BECO_29468480016_IDR_RAW.csv 2020-03-05 09:08:15\n",
      "4            BECO_29468590012_IDR_RAW.csv 2020-03-05 09:08:15\n",
      "5            BECO_29468600019_IDR_RAW.csv 2020-03-05 09:08:15\n",
      "6            BECO_29468610018_IDR_RAW.csv 2020-03-05 09:08:15\n",
      "7            BECO_29468620017_IDR_RAW.csv 2020-03-05 09:08:15\n",
      "8            BECO_29468640015_IDR_RAW.csv 2020-03-05 09:08:15\n",
      "9            BECO_29477500010_IDR_RAW.csv 2020-03-05 09:08:15\n",
      "10           BECO_29477510019_IDR_RAW.csv 2020-03-05 09:08:15\n",
      "11           BECO_29477520018_IDR_RAW.csv 2020-03-05 09:08:15\n",
      "12           BECO_29477530017_IDR_RAW.csv 2020-03-05 09:08:15\n",
      "13           BECO_29468450019_IDR_RAW.csv 2020-03-05 09:08:15\n",
      "14           BECO_29477540016_IDR_RAW.csv 2020-03-05 09:08:15\n",
      "15           BECO_29477550015_IDR_RAW.csv 2020-03-05 09:08:15\n",
      "16           BECO_29477580012_IDR_RAW.csv 2020-03-05 09:08:15\n",
      "17           BECO_29477590011_IDR_RAW.csv 2020-03-05 09:08:15\n",
      "18           BECO_29830120019_IDR_RAW.csv 2020-03-05 09:08:15\n",
      "19           BECO_26590021007_IDR_RAW.csv 2020-03-05 09:08:14\n",
      "20           BECO_29477560014_IDR_RAW.csv 2020-03-05 09:08:14\n",
      "21           BECO_29477570013_IDR_RAW.csv 2020-03-05 09:08:14\n",
      "22           BECO_29477600018_IDR_RAW.csv 2020-03-05 09:08:14\n",
      "23            MECO_7804087006_IDR_RAW.csv 2020-03-04 09:36:46\n",
      "24  CLP_51637634015_534092006_IDR_RAW.csv 2020-03-03 13:37:06\n"
     ]
    }
   ],
   "source": [
    "rawfiles = IDRdrop.show_dir(writepath, 25)\n",
    "print(rawfiles)"
   ]
  },
  {
   "cell_type": "markdown",
   "metadata": {},
   "source": [
    "Choose Raw IDRs to filter into IDR files."
   ]
  },
  {
   "cell_type": "code",
   "execution_count": 10,
   "metadata": {},
   "outputs": [
    {
     "name": "stdout",
     "output_type": "stream",
     "text": [
      "files to process: \n",
      "0    COMELEC_16634050021_IDR_RAW.csv\n",
      "1    COMELEC_16272550027_IDR_RAW.csv\n",
      "2    COMELEC_13037480061_IDR_RAW.csv\n",
      "Name: files, dtype: object\n"
     ]
    }
   ],
   "source": [
    "index = [0]\n",
    "\n",
    "processfiles = rawfiles.files[:3]\n",
    "files = list(processfiles)\n",
    "print('files to process: ')\n",
    "print(processfiles)"
   ]
  },
  {
   "cell_type": "markdown",
   "metadata": {},
   "source": [
    "## Batch filter Raw IDR into IDR files to be dropped"
   ]
  },
  {
   "cell_type": "code",
   "execution_count": 11,
   "metadata": {},
   "outputs": [
    {
     "name": "stdout",
     "output_type": "stream",
     "text": [
      "success, file:  COMELEC_16634050021_IDR_RAW.csv\n",
      "success, file:  COMELEC_16272550027_IDR_RAW.csv\n",
      "success, file:  COMELEC_13037480061_IDR_RAW.csv\n"
     ]
    }
   ],
   "source": [
    "readpath = 'C:\\\\Users\\\\wb5888\\\\Documents\\\\la-tools-test\\\\IDR_Drop\\\\Raw_IDR'\n",
    "writepath = 'C:\\\\Users\\\\wb5888\\\\Documents\\\\la-tools-test\\\\IDR_Drop\\\\IDR'\n",
    "error_log = []\n",
    "\n",
    "for dropfile in files:\n",
    "\n",
    "    try:\n",
    "        IDRdrop.data_drop(dropfile, readpath, writepath)\n",
    "        print('success, file: ', dropfile)\n",
    "    \n",
    "    except:\n",
    "        try:\n",
    "            error_log.append(dropfile)\n",
    "        except:\n",
    "            pass\n",
    "    "
   ]
  },
  {
   "cell_type": "code",
   "execution_count": 8,
   "metadata": {},
   "outputs": [
    {
     "data": {
      "text/plain": [
       "[]"
      ]
     },
     "execution_count": 8,
     "metadata": {},
     "output_type": "execute_result"
    }
   ],
   "source": [
    "type(error_log)\n",
    "error_log"
   ]
  },
  {
   "cell_type": "markdown",
   "metadata": {},
   "source": [
    "## Change meters to vertical"
   ]
  },
  {
   "cell_type": "code",
   "execution_count": 12,
   "metadata": {},
   "outputs": [
    {
     "name": "stdout",
     "output_type": "stream",
     "text": [
      "files found in dir:  C:\\Users\\wb5888\\Documents\\la-tools-test\\IDR_Drop\\IDR\n",
      "                            files                time\n",
      "0     COMELEC_16634050021_IDR.csv 2020-03-05 10:57:47\n",
      "1     COMELEC_16272550027_IDR.csv 2020-03-05 10:57:47\n",
      "2     COMELEC_13037480061_IDR.csv 2020-03-05 10:57:47\n",
      "3   BECO_29477600018_IDR_vert.csv 2020-03-05 10:22:56\n",
      "4   BECO_29468480016_IDR_vert.csv 2020-03-05 10:22:14\n",
      "5   BECO_29477530017_IDR_vert.csv 2020-03-05 10:21:36\n",
      "6   BECO_29830120019_IDR_vert.csv 2020-03-05 10:20:47\n",
      "7   BECO_29468450019_IDR_vert.csv 2020-03-05 10:20:01\n",
      "8   BECO_29477590011_IDR_vert.csv 2020-03-05 10:19:17\n",
      "9   BECO_29477580012_IDR_vert.csv 2020-03-05 10:18:18\n",
      "10  BECO_29477570013_IDR_vert.csv 2020-03-05 10:17:22\n",
      "11  BECO_29477560014_IDR_vert.csv 2020-03-05 10:16:35\n",
      "12  BECO_29477540016_IDR_vert.csv 2020-03-05 10:15:30\n",
      "13  BECO_29477550015_IDR_vert.csv 2020-03-05 10:14:38\n",
      "14  BECO_29477520018_IDR_vert.csv 2020-03-05 10:13:41\n",
      "15  BECO_29477510019_IDR_vert.csv 2020-03-05 10:12:52\n",
      "16  BECO_29477500010_IDR_vert.csv 2020-03-05 10:12:02\n",
      "17  BECO_29468640015_IDR_vert.csv 2020-03-05 10:11:08\n",
      "18  BECO_29468620017_IDR_vert.csv 2020-03-05 10:10:23\n",
      "19  BECO_29468610018_IDR_vert.csv 2020-03-05 10:08:07\n"
     ]
    }
   ],
   "source": [
    "data_dir = 'C:\\\\Users\\\\wb5888\\\\Documents\\\\la-tools-test\\\\IDR_Drop\\\\IDR'\n",
    "os.chdir(data_dir)\n",
    "idr = IDRdrop.show_dir(data_dir, 20)\n",
    "print(idr)"
   ]
  },
  {
   "cell_type": "code",
   "execution_count": 13,
   "metadata": {},
   "outputs": [
    {
     "name": "stdout",
     "output_type": "stream",
     "text": [
      "transformed and wrote COMELEC_16634050021_IDR.csv to COMELEC_16634050021_IDR_vert.csv.\n",
      "transformed and wrote COMELEC_16272550027_IDR.csv to COMELEC_16272550027_IDR_vert.csv.\n",
      "transformed and wrote COMELEC_13037480061_IDR.csv to COMELEC_13037480061_IDR_vert.csv.\n"
     ]
    }
   ],
   "source": [
    "myfiles = idr.files[:3]\n",
    "for f in myfiles:\n",
    "    IDRdrop.hor_to_vert(f)"
   ]
  },
  {
   "cell_type": "markdown",
   "metadata": {},
   "source": [
    "## Plot data"
   ]
  },
  {
   "cell_type": "code",
   "execution_count": 14,
   "metadata": {},
   "outputs": [
    {
     "name": "stdout",
     "output_type": "stream",
     "text": [
      "files found in dir:  C:\\Users\\wb5888\\Documents\\la-tools-test\\IDR_Drop\\IDR\n",
      "                              files                time\n",
      "0  COMELEC_13037480061_IDR_vert.csv 2020-03-05 10:57:57\n",
      "1  COMELEC_16272550027_IDR_vert.csv 2020-03-05 10:57:56\n",
      "2  COMELEC_16634050021_IDR_vert.csv 2020-03-05 10:57:56\n",
      "3       COMELEC_13037480061_IDR.csv 2020-03-05 10:57:47\n",
      "4       COMELEC_16272550027_IDR.csv 2020-03-05 10:57:47\n",
      "5       COMELEC_16634050021_IDR.csv 2020-03-05 10:57:47\n",
      "6     BECO_29477600018_IDR_vert.csv 2020-03-05 10:22:56\n",
      "7     BECO_29468480016_IDR_vert.csv 2020-03-05 10:22:14\n",
      "8     BECO_29477530017_IDR_vert.csv 2020-03-05 10:21:36\n",
      "9     BECO_29830120019_IDR_vert.csv 2020-03-05 10:20:47\n"
     ]
    }
   ],
   "source": [
    "idr = IDRdrop.show_dir(data_dir, 10)\n",
    "print(idr)"
   ]
  },
  {
   "cell_type": "code",
   "execution_count": 17,
   "metadata": {},
   "outputs": [
    {
     "data": {
      "text/plain": [
       "<matplotlib.axes._subplots.AxesSubplot at 0x1d729239400>"
      ]
     },
     "execution_count": 17,
     "metadata": {},
     "output_type": "execute_result"
    },
    {
     "data": {
      "image/png": "[encoded data removed]",
      "text/plain": [
       "<Figure size 432x288 with 1 Axes>"
      ]
     },
     "metadata": {
      "needs_background": "light"
     },
     "output_type": "display_data"
    }
   ],
   "source": [
    "idr_df = pd.read_csv(idr.files[2], names = ['t', 'v'])\n",
    "idr_df.set_index('t', inplace = True, drop = True)\n",
    "idr_df.plot(y = 'v')"
   ]
  },
  {
   "cell_type": "markdown",
   "metadata": {},
   "source": [
    "## Generate/get scalar, get tags"
   ]
  },
  {
   "cell_type": "code",
   "execution_count": null,
   "metadata": {},
   "outputs": [],
   "source": []
  },
  {
   "cell_type": "markdown",
   "metadata": {},
   "source": [
    "## Create datasource"
   ]
  },
  {
   "cell_type": "code",
   "execution_count": null,
   "metadata": {},
   "outputs": [],
   "source": []
  },
  {
   "cell_type": "markdown",
   "metadata": {},
   "source": [
    "## EWX API"
   ]
  },
  {
   "cell_type": "code",
   "execution_count": null,
   "metadata": {},
   "outputs": [],
   "source": []
  }
 ],
 "metadata": {
  "kernelspec": {
   "display_name": "Python 3",
   "language": "python",
   "name": "python3"
  },
  "language_info": {
   "codemirror_mode": {
    "name": "ipython",
    "version": 3
   },
   "file_extension": ".py",
   "mimetype": "text/x-python",
   "name": "python",
   "nbconvert_exporter": "python",
   "pygments_lexer": "ipython3",
   "version": "3.8.1"
  }
 },
 "nbformat": 4,
 "nbformat_minor": 2
}
