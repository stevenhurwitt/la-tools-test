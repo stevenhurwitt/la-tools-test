{
 "cells": [
  {
   "cell_type": "markdown",
   "metadata": {},
   "source": [
    "# IDR Drop"
   ]
  },
  {
   "cell_type": "markdown",
   "metadata": {},
   "source": [
    "Implements batch tasks used for IDR drops."
   ]
  },
  {
   "cell_type": "code",
   "execution_count": 16,
   "metadata": {},
   "outputs": [
    {
     "name": "stdout",
     "output_type": "stream",
     "text": [
      "imported modules successfully.\n"
     ]
    }
   ],
   "source": [
    "import pandas as pd\n",
    "import numpy as np\n",
    "import IDRdrop\n",
    "import json\n",
    "import os\n",
    "print('imported modules successfully.')"
   ]
  },
  {
   "cell_type": "markdown",
   "metadata": {},
   "source": [
    "# Show downloaded files from EPO portal"
   ]
  },
  {
   "cell_type": "markdown",
   "metadata": {},
   "source": [
    "Here *filepath* is a directory containing downloaded EPO files. Code will print 20 most recent files."
   ]
  },
  {
   "cell_type": "code",
   "execution_count": 18,
   "metadata": {},
   "outputs": [
    {
     "name": "stdout",
     "output_type": "stream",
     "text": [
      "files found in dir:  C:\\Users\\wb5888\\Downloads\n",
      "                                                files                time\n",
      "0   eversource_f03be128-48df-452b-b047-a6632e3b6cc... 2019-08-30 11:03:49\n",
      "1           SERNA_USGH_20190829_033407_R200297818.txt 2019-08-30 10:31:23\n",
      "2                       SERNA_USG_20190830_112745.txt 2019-08-30 10:28:47\n",
      "3                      SERNA_USGH_20190830_105444.txt 2019-08-30 09:55:45\n",
      "4   eversource_44f019de-b449-4930-8ded-9bb7d33a58a... 2019-08-30 09:05:22\n",
      "5   ngrid_3aef33e0-bad4-4afe-b9e2-ea084b46311f_78c... 2019-08-30 07:52:22\n",
      "6   eversource_79f72927-6f5f-4b6c-a5cc-828910aece2... 2019-08-29 15:56:13\n",
      "7   ngrid_70766140-3689-47c8-a3d4-c4d5ab4f63a0_008... 2019-08-29 13:49:23\n",
      "8   ngrid_70766140-3689-47c8-a3d4-c4d5ab4f63a0_e0a... 2019-08-29 13:31:55\n",
      "9   ngrid_70766140-3689-47c8-a3d4-c4d5ab4f63a0_c9a... 2019-08-29 13:18:51\n",
      "10                 NEPOOL_MECO_8958568019_CH1 (1).csv 2019-08-29 13:16:42\n",
      "11                     NEPOOL_MECO_8958568019_CH1.csv 2019-08-29 13:15:35\n",
      "12                     SERNA_USGH_20190829_135840.txt 2019-08-29 12:59:42\n",
      "13  eversource_e85a37db-ae92-4496-94a0-fd700e0a6ee... 2019-08-29 12:50:44\n",
      "14  eversource_b90c087e-0f96-4f5a-925e-c306a49c38d... 2019-08-29 12:47:45\n",
      "15  eversource_b90c087e-0f96-4f5a-925e-c306a49c38d... 2019-08-29 12:47:17\n",
      "16  ngrid_56fd1a25-6695-4b1a-8294-6c94fbdc7e92_f49... 2019-08-29 11:38:07\n",
      "17                      SERNA_USG_20190829_113429.txt 2019-08-29 10:35:29\n",
      "18                                 00176idh113026.xls 2019-08-29 10:30:36\n",
      "19  eversource_2af8b72d-abf2-4f72-b2b9-94d42e50623... 2019-08-29 09:26:02\n",
      "20                    IntervalData_08292019084255.csv 2019-08-29 08:42:59\n",
      "21  ngrid_f613fd83-ee13-44f2-a094-cbcb868af085_f7d... 2019-08-29 08:16:26\n",
      "22                                    output (12).csv 2019-08-28 16:24:29\n",
      "23  ngrid_1a171b25-bcb1-4619-b800-441b8a99a1ff_e4b... 2019-08-28 15:56:07\n",
      "24  ngrid_1a171b25-bcb1-4619-b800-441b8a99a1ff_229... 2019-08-28 15:40:14\n",
      "25                                    output (11).csv 2019-08-28 15:09:02\n",
      "26  eversource_433606d8-7f5c-401b-a47b-889ab417999... 2019-08-28 12:40:27\n",
      "27  ngrid_74e0cf30-577e-4e25-a0e2-832153c54860_5cb... 2019-08-28 08:33:54\n",
      "28                                    output (10).csv 2019-08-28 07:44:05\n",
      "29  ngrid_70220203-b264-463b-873a-7d0c9880bec7_98a... 2019-08-27 16:20:07\n"
     ]
    }
   ],
   "source": [
    "readpath = '/home//jupyter-engiela/la-tools-test/IDR_Drop/Raw_IDR'\n",
    "\n",
    "myfiles = IDRdrop.show_dir(readpath, 20)\n",
    "print(myfiles)"
   ]
  },
  {
   "cell_type": "markdown",
   "metadata": {},
   "source": [
    "Choose files to split into Raw IDR files."
   ]
  },
  {
   "cell_type": "code",
   "execution_count": 19,
   "metadata": {},
   "outputs": [
    {
     "name": "stdout",
     "output_type": "stream",
     "text": [
      "files to split: \n",
      "['eversource_f03be128-48df-452b-b047-a6632e3b6cc3_0d7d5335_hourlycsv.csv']\n"
     ]
    }
   ],
   "source": [
    "index = [0]\n",
    "\n",
    "splitfiles = list(myfiles.files[index])\n",
    "print('files to split: ')\n",
    "print(splitfiles)"
   ]
  },
  {
   "cell_type": "markdown",
   "metadata": {},
   "source": [
    "## Batch process downloaded EPO files into Raw IDRs"
   ]
  },
  {
   "cell_type": "code",
   "execution_count": 27,
   "metadata": {},
   "outputs": [
    {
     "name": "stdout",
     "output_type": "stream",
     "text": [
      "found 2 accounts.\n",
      "error pulling name for 26335201039.\n",
      "26335201039_IDR_RAW.csv  written.\n",
      "error pulling name for 26745711056.\n",
      "26745711056_IDR_RAW.csv  written.\n",
      "success, file:  eversource_f03be128-48df-452b-b047-a6632e3b6cc3_0d7d5335_hourlycsv.csv\n"
     ]
    }
   ],
   "source": [
    "readpath = '/home/jupyter-engiela/la-tools-test/IDR_Drop/Raw_IDR'\n",
    "writepath = '/home/jupyter-engiela/la-tools-test/IDR_Drop/Raw_IDR'\n",
    "utility = 'MECO'\n",
    "error_log = []\n",
    "\n",
    "for file in splitfiles:\n",
    "    try:\n",
    "        os.chdir(readpath)\n",
    "        filedf = pd.read_csv(file, sep = \",\", header = 0)\n",
    "    \n",
    "        IDRdrop.raw_split(filedf, readpath, writepath, utility)\n",
    "        print('success, file: ', file)\n",
    "        \n",
    "    except:\n",
    "        error_log = error_log.append(file)\n",
    "        print('error, file: ', file)"
   ]
  },
  {
   "cell_type": "markdown",
   "metadata": {},
   "source": [
    "## Show Raw IDR files based on utility"
   ]
  },
  {
   "cell_type": "markdown",
   "metadata": {},
   "source": [
    "Here *rawpath* is directory containing Raw IDRs - 25 most recent will be shown."
   ]
  },
  {
   "cell_type": "code",
   "execution_count": 28,
   "metadata": {},
   "outputs": [
    {
     "name": "stdout",
     "output_type": "stream",
     "text": [
      "files found in dir:  C:\\Users\\wb5888\\Documents\\Raw IDR Data\n",
      "                                    files                time\n",
      "0                 26745711056_IDR_RAW.csv 2019-08-30 11:09:33\n",
      "1                 26335201039_IDR_RAW.csv 2019-08-30 11:09:33\n",
      "2            BECO_26745711056_IDR_RAW.csv 2019-08-30 11:07:01\n",
      "3            BECO_26335201039_IDR_RAW.csv 2019-08-30 11:07:00\n",
      "4             MECO_7529758000_IDR_RAW.csv 2019-08-30 07:53:27\n",
      "5   51069356095_049761001_CLP_IDR_RAW.csv 2019-08-29 15:57:00\n",
      "6             MECO_7561603019_IDR_RAW.csv 2019-08-29 13:49:42\n",
      "7             MECO_8958568019_IDR_RAW.csv 2019-08-29 13:32:20\n",
      "8             MECO_1537099023_IDR_RAW.csv 2019-08-29 13:32:19\n",
      "9             MECO_9111941004_IDR_RAW.csv 2019-08-29 11:39:05\n",
      "10            MECO_2734134002_IDR_RAW.csv 2019-08-29 11:39:04\n",
      "11            MECO_8918994008_IDR_RAW.csv 2019-08-28 15:57:47\n",
      "12                 1593232002_IDR_RAW.csv 2019-08-28 15:57:46\n",
      "13            MECO_7671694024_IDR_RAW.csv 2019-08-28 15:57:46\n",
      "14            MECO_1440866027_IDR_RAW.csv 2019-08-28 15:57:45\n",
      "15                 1278488011_IDR_RAW.csv 2019-08-28 15:57:45\n",
      "16            MECO_0201874008_IDR_RAW.csv 2019-08-28 15:57:44\n",
      "17            MECO_1593232002_IDR_RAW.csv 2019-08-28 15:40:33\n",
      "18            MECO_1278488011_IDR_RAW.csv 2019-08-28 15:40:33\n",
      "19             NRI_3811847009_IDR_RAW.csv 2019-08-22 12:02:59\n"
     ]
    }
   ],
   "source": [
    "rawfiles = IDRdrop.show_dir(writepath, 20)\n",
    "print(rawfiles)"
   ]
  },
  {
   "cell_type": "markdown",
   "metadata": {},
   "source": [
    "Choose Raw IDRs to filter into IDR files."
   ]
  },
  {
   "cell_type": "code",
   "execution_count": 29,
   "metadata": {},
   "outputs": [
    {
     "name": "stdout",
     "output_type": "stream",
     "text": [
      "files to process: \n",
      "2    BECO_26745711056_IDR_RAW.csv\n",
      "3    BECO_26335201039_IDR_RAW.csv\n",
      "Name: files, dtype: object\n"
     ]
    }
   ],
   "source": [
    "index = [3]\n",
    "\n",
    "processfiles = rawfiles.files[2:4]\n",
    "files = list(processfiles)\n",
    "print('files to process: ')\n",
    "print(processfiles)"
   ]
  },
  {
   "cell_type": "markdown",
   "metadata": {},
   "source": [
    "## Batch filter Raw IDR into IDR files to be dropped"
   ]
  },
  {
   "cell_type": "code",
   "execution_count": 30,
   "metadata": {},
   "outputs": [
    {
     "name": "stdout",
     "output_type": "stream",
     "text": [
      "success, file:  BECO_26745711056_IDR_RAW.csv\n",
      "success, file:  BECO_26335201039_IDR_RAW.csv\n"
     ]
    }
   ],
   "source": [
    "writepath = '/home/jupyter-engiela/la-tools-test/IDR_Drop/IDR'\n",
    "error_log = []\n",
    "\n",
    "for dropfile in files:\n",
    "    try:\n",
    "        IDRdrop.data_drop(dropfile, readpath, writepath)\n",
    "        print('success, file: ', dropfile)\n",
    "    \n",
    "    except:\n",
    "        try:\n",
    "            error_log = error_log.append(dropfile)\n",
    "            print(\"error, file: \", dropfile)\n",
    "        except:\n",
    "            pass"
   ]
  },
  {
   "cell_type": "code",
   "execution_count": 13,
   "metadata": {},
   "outputs": [
    {
     "data": {
      "text/plain": [
       "[]"
      ]
     },
     "execution_count": 13,
     "metadata": {},
     "output_type": "execute_result"
    }
   ],
   "source": [
    "type(error_log)\n",
    "error_log"
   ]
  },
  {
   "cell_type": "markdown",
   "metadata": {},
   "source": [
    "### Change meters to vertical"
   ]
  },
  {
   "cell_type": "code",
   "execution_count": 31,
   "metadata": {},
   "outputs": [
    {
     "name": "stdout",
     "output_type": "stream",
     "text": [
      "files found in dir:  C:\\Users\\wb5888\\Documents\\IDR Data\\NEPOOL\\BECO\n"
     ]
    },
    {
     "data": {
      "text/html": [
       "<div>\n",
       "<style scoped>\n",
       "    .dataframe tbody tr th:only-of-type {\n",
       "        vertical-align: middle;\n",
       "    }\n",
       "\n",
       "    .dataframe tbody tr th {\n",
       "        vertical-align: top;\n",
       "    }\n",
       "\n",
       "    .dataframe thead th {\n",
       "        text-align: right;\n",
       "    }\n",
       "</style>\n",
       "<table border=\"1\" class=\"dataframe\">\n",
       "  <thead>\n",
       "    <tr style=\"text-align: right;\">\n",
       "      <th></th>\n",
       "      <th>files</th>\n",
       "      <th>time</th>\n",
       "    </tr>\n",
       "  </thead>\n",
       "  <tbody>\n",
       "    <tr>\n",
       "      <th>0</th>\n",
       "      <td>BECO_26745711056_IDR.csv</td>\n",
       "      <td>2019-08-30 11:10:02</td>\n",
       "    </tr>\n",
       "    <tr>\n",
       "      <th>1</th>\n",
       "      <td>BECO_26335201039_IDR.csv</td>\n",
       "      <td>2019-08-30 11:10:02</td>\n",
       "    </tr>\n",
       "    <tr>\n",
       "      <th>2</th>\n",
       "      <td>NEPOOL_BECO_28344590048_ch3_to_288.lse</td>\n",
       "      <td>2019-08-29 15:49:47</td>\n",
       "    </tr>\n",
       "    <tr>\n",
       "      <th>3</th>\n",
       "      <td>28344590048_BECO_IDR.csv</td>\n",
       "      <td>2019-08-29 12:49:17</td>\n",
       "    </tr>\n",
       "    <tr>\n",
       "      <th>4</th>\n",
       "      <td>BECO_28458630010_IDR.xlsx</td>\n",
       "      <td>2019-08-28 16:40:33</td>\n",
       "    </tr>\n",
       "    <tr>\n",
       "      <th>5</th>\n",
       "      <td>BECO_29884680017_IDR.csv</td>\n",
       "      <td>2019-08-28 12:44:20</td>\n",
       "    </tr>\n",
       "    <tr>\n",
       "      <th>6</th>\n",
       "      <td>NEPOOL_BECO_28303990015_101_to_1.lse</td>\n",
       "      <td>2019-08-26 11:07:33</td>\n",
       "    </tr>\n",
       "    <tr>\n",
       "      <th>7</th>\n",
       "      <td>NEPOOL_BECO_28303980016_101_to_1.lse</td>\n",
       "      <td>2019-08-26 11:04:51</td>\n",
       "    </tr>\n",
       "    <tr>\n",
       "      <th>8</th>\n",
       "      <td>NEPOOL_BECO_28303970017_101_to_1.lse</td>\n",
       "      <td>2019-08-26 11:03:24</td>\n",
       "    </tr>\n",
       "    <tr>\n",
       "      <th>9</th>\n",
       "      <td>NEPOOL_BECO_24035081025_zero_usage_forecast.csv</td>\n",
       "      <td>2019-08-21 16:23:55</td>\n",
       "    </tr>\n",
       "  </tbody>\n",
       "</table>\n",
       "</div>"
      ],
      "text/plain": [
       "                                             files                time\n",
       "0                         BECO_26745711056_IDR.csv 2019-08-30 11:10:02\n",
       "1                         BECO_26335201039_IDR.csv 2019-08-30 11:10:02\n",
       "2           NEPOOL_BECO_28344590048_ch3_to_288.lse 2019-08-29 15:49:47\n",
       "3                         28344590048_BECO_IDR.csv 2019-08-29 12:49:17\n",
       "4                        BECO_28458630010_IDR.xlsx 2019-08-28 16:40:33\n",
       "5                         BECO_29884680017_IDR.csv 2019-08-28 12:44:20\n",
       "6             NEPOOL_BECO_28303990015_101_to_1.lse 2019-08-26 11:07:33\n",
       "7             NEPOOL_BECO_28303980016_101_to_1.lse 2019-08-26 11:04:51\n",
       "8             NEPOOL_BECO_28303970017_101_to_1.lse 2019-08-26 11:03:24\n",
       "9  NEPOOL_BECO_24035081025_zero_usage_forecast.csv 2019-08-21 16:23:55"
      ]
     },
     "execution_count": 31,
     "metadata": {},
     "output_type": "execute_result"
    }
   ],
   "source": [
    "data_dir = '/home/jupyter-engiela/la-tools-test/IDR_Drop/IDR'\n",
    "os.chdir(data_dir)\n",
    "idr = IDRdrop.show_dir(data_dir, 10)\n",
    "idr"
   ]
  },
  {
   "cell_type": "code",
   "execution_count": 33,
   "metadata": {},
   "outputs": [
    {
     "name": "stdout",
     "output_type": "stream",
     "text": [
      "transformed and wrote BECO_26745711056_IDR.csv to BECO_26745711056_IDR_vert.csv.\n",
      "transformed and wrote BECO_26335201039_IDR.csv to BECO_26335201039_IDR_vert.csv.\n"
     ]
    }
   ],
   "source": [
    "myfiles = idr.files[:2]\n",
    "for f in myfiles:\n",
    "    IDRdrop.hor_to_vert(f)"
   ]
  }
 ],
 "metadata": {
  "kernelspec": {
   "display_name": "Python 3",
   "language": "python",
   "name": "python3"
  },
  "language_info": {
   "codemirror_mode": {
    "name": "ipython",
    "version": 3
   },
   "file_extension": ".py",
   "mimetype": "text/x-python",
   "name": "python",
   "nbconvert_exporter": "python",
   "pygments_lexer": "ipython3",
   "version": "3.6.4"
  }
 },
 "nbformat": 4,
 "nbformat_minor": 2
}
