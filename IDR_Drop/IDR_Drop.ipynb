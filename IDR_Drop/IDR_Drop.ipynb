{
 "cells": [
  {
   "cell_type": "markdown",
   "metadata": {},
   "source": [
    "# IDR Drop"
   ]
  },
  {
   "cell_type": "markdown",
   "metadata": {},
   "source": [
    "Implements batch tasks used for IDR drops."
   ]
  },
  {
   "cell_type": "code",
   "execution_count": 2,
   "metadata": {},
   "outputs": [
    {
     "name": "stdout",
     "output_type": "stream",
     "text": [
      "imported modules successfully.\n"
     ]
    }
   ],
   "source": [
    "import pandas as pd\n",
    "import numpy as np\n",
    "import cx_Oracle\n",
    "import db_connect\n",
    "import IDRdrop\n",
    "import json\n",
    "import os\n",
    "print('imported modules successfully.')"
   ]
  },
  {
   "cell_type": "markdown",
   "metadata": {},
   "source": [
    "## Show downloaded files from EPO portal"
   ]
  },
  {
   "cell_type": "markdown",
   "metadata": {},
   "source": [
    "Here *filepath* is a directory containing downloaded EPO files. Code will print 20 most recent files."
   ]
  },
  {
   "cell_type": "code",
   "execution_count": 3,
   "metadata": {},
   "outputs": [
    {
     "name": "stdout",
     "output_type": "stream",
     "text": [
      "files found in dir:  C:\\Users\\wb5888\\Downloads\n",
      "                                               files                time\n",
      "0  ngrid_0da015f9-8d36-45f4-a706-e0423f1e3082_b7d... 2020-02-27 12:46:30\n",
      "1                                          Documents 2020-02-27 10:08:52\n",
      "2                                         windows_dl 2020-02-27 10:02:47\n",
      "3  eversource_657ac7ac-dc82-402f-a2ab-a304d5ff372... 2020-02-27 09:45:21\n",
      "4  eversource_71629281-0c57-44b1-a1c0-679b2d9f1bb... 2020-02-27 09:36:53\n",
      "5  eversource_71629281-0c57-44b1-a1c0-679b2d9f1bb... 2020-02-27 09:36:24\n",
      "6  eversource_71629281-0c57-44b1-a1c0-679b2d9f1bb... 2020-02-27 09:36:01\n",
      "7  eversource_71629281-0c57-44b1-a1c0-679b2d9f1bb... 2020-02-27 09:35:37\n",
      "8                                        desktop.ini 2020-02-27 07:11:35\n"
     ]
    }
   ],
   "source": [
    "readpath = 'C:\\\\Users\\\\wb5888\\\\Downloads'\n",
    "\n",
    "myfiles = IDRdrop.show_dir(readpath, 20)\n",
    "print(myfiles)"
   ]
  },
  {
   "cell_type": "markdown",
   "metadata": {},
   "source": [
    "Choose files to split into Raw IDR files."
   ]
  },
  {
   "cell_type": "code",
   "execution_count": 4,
   "metadata": {},
   "outputs": [
    {
     "name": "stdout",
     "output_type": "stream",
     "text": [
      "['ngrid_0da015f9-8d36-45f4-a706-e0423f1e3082_b7d5d737_hourlycsv.csv']\n"
     ]
    }
   ],
   "source": [
    "index = [0]\n",
    "\n",
    "splitfiles = list(myfiles.files[index])\n",
    "print(splitfiles)"
   ]
  },
  {
   "cell_type": "markdown",
   "metadata": {},
   "source": [
    "## Batch process downloaded EPO files into Raw IDRs"
   ]
  },
  {
   "cell_type": "code",
   "execution_count": 5,
   "metadata": {},
   "outputs": [
    {
     "name": "stdout",
     "output_type": "stream",
     "text": [
      "found 1 accounts.\n",
      "NRI_4015598011_IDR_RAW.csv  written.\n",
      "success, file:  ngrid_0da015f9-8d36-45f4-a706-e0423f1e3082_b7d5d737_hourlycsv.csv\n"
     ]
    }
   ],
   "source": [
    "readpath = 'C:\\\\Users\\\\wb5888\\\\Downloads'\n",
    "writepath = 'C:\\\\Users\\\\wb5888\\\\Documents\\\\la-tools-test\\\\IDR_Drop\\\\Raw_IDR'\n",
    "utility = 'NRI'\n",
    "accts = None\n",
    "error_log = []\n",
    "\n",
    "for file in splitfiles:\n",
    "    try:\n",
    "        os.chdir(readpath)\n",
    "        filedf = pd.read_csv(file, sep = \",\", header = 0)\n",
    "    \n",
    "        IDRdrop.raw_split(filedf, readpath, writepath, utility, accts)\n",
    "        print('success, file: ', file)\n",
    "        \n",
    "    except:\n",
    "        error_log = error_log.append(file)\n",
    "        print('error, file: ', file)"
   ]
  },
  {
   "cell_type": "markdown",
   "metadata": {},
   "source": [
    "## Show Raw IDR files based on utility"
   ]
  },
  {
   "cell_type": "markdown",
   "metadata": {},
   "source": [
    "Here *rawpath* is directory containing Raw IDRs - 25 most recent will be shown."
   ]
  },
  {
   "cell_type": "code",
   "execution_count": 6,
   "metadata": {},
   "outputs": [
    {
     "name": "stdout",
     "output_type": "stream",
     "text": [
      "files found in dir:  C:\\Users\\wb5888\\Documents\\la-tools-test\\IDR_Drop\\Raw_IDR\n",
      "                                                files                time\n",
      "0                          NRI_4015598011_IDR_RAW.csv 2020-02-27 12:46:56\n",
      "1                           CLP_535566087_IDR_RAW.csv 2020-02-27 10:31:54\n",
      "2                           CLP_127634061_IDR_RAW.csv 2020-02-27 10:31:54\n",
      "3                           CLP_844893032_IDR_RAW.csv 2020-02-27 10:31:54\n",
      "4                           CLP_792442055_IDR_RAW.csv 2020-02-27 10:31:54\n",
      "5                           CLP_680805074_IDR_RAW.csv 2020-02-27 10:31:54\n",
      "6                           CLP_553942046_IDR_RAW.csv 2020-02-27 10:31:54\n",
      "7                            CLP_91802009_IDR_RAW.csv 2020-02-27 10:31:54\n",
      "8                           CLP_200052082_IDR_RAW.csv 2020-02-27 10:31:54\n",
      "9                           CLP_525702049_IDR_RAW.csv 2020-02-27 10:31:53\n",
      "10                          CLP_260742044_IDR_RAW.csv 2020-02-27 10:31:53\n",
      "11                          CLP_703603001_IDR_RAW.csv 2020-02-27 10:31:53\n",
      "12                           CLP_71542062_IDR_RAW.csv 2020-02-27 10:31:53\n",
      "13                          CLP_334842036_IDR_RAW.csv 2020-02-27 10:31:53\n",
      "14                          CLP_463834044_IDR_RAW.csv 2020-02-27 10:31:53\n",
      "15                           CLP_90842089_IDR_RAW.csv 2020-02-27 10:31:53\n",
      "16                          CLP_476232012_IDR_RAW.csv 2020-02-27 10:31:53\n",
      "17  ngrid_227b4bfa-0bd2-44d2-bbeb-17af36a5c5df_4ea... 2020-02-27 09:39:01\n",
      "18                        WMECO_944228097_IDR_RAW.csv 2020-02-27 09:39:01\n",
      "19                           init__20200120035935.git 2020-02-27 09:39:01\n"
     ]
    }
   ],
   "source": [
    "rawfiles = IDRdrop.show_dir(writepath, 20)\n",
    "print(rawfiles)"
   ]
  },
  {
   "cell_type": "markdown",
   "metadata": {},
   "source": [
    "Choose Raw IDRs to filter into IDR files."
   ]
  },
  {
   "cell_type": "code",
   "execution_count": 7,
   "metadata": {},
   "outputs": [
    {
     "name": "stdout",
     "output_type": "stream",
     "text": [
      "files to process: \n",
      "0    NRI_4015598011_IDR_RAW.csv\n",
      "Name: files, dtype: object\n"
     ]
    }
   ],
   "source": [
    "index = [0]\n",
    "\n",
    "processfiles = rawfiles.files[index]\n",
    "files = list(processfiles)\n",
    "print('files to process: ')\n",
    "print(processfiles)"
   ]
  },
  {
   "cell_type": "markdown",
   "metadata": {},
   "source": [
    "## Batch filter Raw IDR into IDR files to be dropped"
   ]
  },
  {
   "cell_type": "code",
   "execution_count": 8,
   "metadata": {},
   "outputs": [
    {
     "name": "stdout",
     "output_type": "stream",
     "text": [
      "success, file:  NRI_4015598011_IDR_RAW.csv\n"
     ]
    }
   ],
   "source": [
    "readpath = 'C:\\\\Users\\\\wb5888\\\\Documents\\\\la-tools-test\\\\IDR_Drop\\\\Raw_IDR'\n",
    "writepath = 'C:\\\\Users\\\\wb5888\\\\Documents\\\\la-tools-test\\\\IDR_Drop\\\\IDR'\n",
    "error_log = []\n",
    "\n",
    "for dropfile in files:\n",
    "\n",
    "    try:\n",
    "        IDRdrop.data_drop(dropfile, readpath, writepath)\n",
    "        print('success, file: ', dropfile)\n",
    "    \n",
    "    except:\n",
    "        try:\n",
    "            error_log.append(dropfile)\n",
    "        except:\n",
    "            pass\n",
    "    "
   ]
  },
  {
   "cell_type": "code",
   "execution_count": 8,
   "metadata": {},
   "outputs": [
    {
     "data": {
      "text/plain": [
       "[]"
      ]
     },
     "execution_count": 8,
     "metadata": {},
     "output_type": "execute_result"
    }
   ],
   "source": [
    "type(error_log)\n",
    "error_log"
   ]
  },
  {
   "cell_type": "markdown",
   "metadata": {},
   "source": [
    "## Change meters to vertical"
   ]
  },
  {
   "cell_type": "code",
   "execution_count": 10,
   "metadata": {},
   "outputs": [
    {
     "name": "stdout",
     "output_type": "stream",
     "text": [
      "files found in dir:  C:\\Users\\wb5888\\Documents\\la-tools-test\\IDR_Drop\\IDR\n",
      "                                     files                time\n",
      "0                   NRI_4015598011_IDR.csv 2020-02-27 12:47:07\n",
      "1                             fangfang.zip 2020-02-27 11:02:52\n",
      "2                                 fangfang 2020-02-27 11:02:02\n",
      "3  CLP_51525702049_673841000 _IDR_vert.csv 2020-02-27 10:32:59\n",
      "4   CLP_51535566087_298162000_IDR_vert.csv 2020-02-27 10:32:58\n",
      "5   CLP_51553942046_200823000_IDR_vert.csv 2020-02-27 10:32:57\n",
      "6   CLP_51680805074_049303002_IDR_vert.csv 2020-02-27 10:32:55\n",
      "7   CLP_51792442055_941071006_IDR_vert.csv 2020-02-27 10:32:54\n",
      "8   CLP_51844893032_463492006_IDR_vert.csv 2020-02-27 10:32:52\n",
      "9   CLP_51091802009_293841000_IDR_vert.csv 2020-02-27 10:32:51\n"
     ]
    }
   ],
   "source": [
    "data_dir = 'C:\\\\Users\\\\wb5888\\\\Documents\\\\la-tools-test\\\\IDR_Drop\\\\IDR'\n",
    "os.chdir(data_dir)\n",
    "idr = IDRdrop.show_dir(data_dir, 10)\n",
    "print(idr)"
   ]
  },
  {
   "cell_type": "code",
   "execution_count": 11,
   "metadata": {},
   "outputs": [
    {
     "name": "stdout",
     "output_type": "stream",
     "text": [
      "transformed and wrote NRI_4015598011_IDR.csv to NRI_4015598011_IDR_vert.csv.\n"
     ]
    }
   ],
   "source": [
    "myfiles = idr.files[index]\n",
    "for f in myfiles:\n",
    "    IDRdrop.hor_to_vert(f)"
   ]
  },
  {
   "cell_type": "markdown",
   "metadata": {},
   "source": [
    "## Plot data"
   ]
  },
  {
   "cell_type": "code",
   "execution_count": 15,
   "metadata": {},
   "outputs": [
    {
     "name": "stdout",
     "output_type": "stream",
     "text": [
      "files found in dir:  C:\\Users\\wb5888\\Documents\\la-tools-test\\IDR_Drop\\IDR\n",
      "                          files                time\n",
      "0    CLP_525702049_IDR_vert.csv 2020-02-27 10:32:59\n",
      "1    CLP_535566087_IDR_vert.csv 2020-02-27 10:32:58\n",
      "2    CLP_553942046_IDR_vert.csv 2020-02-27 10:32:57\n",
      "3  CLP_553942046_IDR_3_vert.csv 2020-02-27 10:32:56\n",
      "4    CLP_680805074_IDR_vert.csv 2020-02-27 10:32:55\n",
      "5    CLP_792442055_IDR_vert.csv 2020-02-27 10:32:54\n",
      "6  CLP_792442055_IDR_3_vert.csv 2020-02-27 10:32:53\n",
      "7    CLP_844893032_IDR_vert.csv 2020-02-27 10:32:52\n",
      "8     CLP_91802009_IDR_vert.csv 2020-02-27 10:32:51\n",
      "9    CLP_260742044_IDR_vert.csv 2020-02-27 10:32:50\n"
     ]
    }
   ],
   "source": [
    "idr = IDRdrop.show_dir(data_dir, 10)\n",
    "print(idr)"
   ]
  },
  {
   "cell_type": "code",
   "execution_count": 36,
   "metadata": {},
   "outputs": [
    {
     "data": {
      "text/plain": [
       "<matplotlib.axes._subplots.AxesSubplot at 0x17a02a0f4c0>"
      ]
     },
     "execution_count": 36,
     "metadata": {},
     "output_type": "execute_result"
    },
    {
     "data": {
      "image/png": "[encoded data removed]",
      "text/plain": [
       "<Figure size 432x288 with 1 Axes>"
      ]
     },
     "metadata": {
      "needs_background": "light"
     },
     "output_type": "display_data"
    }
   ],
   "source": [
    "idr_df = pd.read_csv(idr.files[0], names = ['t', 'v'])\n",
    "idr_df.set_index('t', inplace = True, drop = True)\n",
    "idr_df.plot(y = 'v')"
   ]
  },
  {
   "cell_type": "markdown",
   "metadata": {},
   "source": [
    "## Generate/get scalar, get tags"
   ]
  },
  {
   "cell_type": "code",
   "execution_count": null,
   "metadata": {},
   "outputs": [],
   "source": []
  },
  {
   "cell_type": "markdown",
   "metadata": {},
   "source": [
    "## Create datasource"
   ]
  },
  {
   "cell_type": "code",
   "execution_count": null,
   "metadata": {},
   "outputs": [],
   "source": []
  },
  {
   "cell_type": "markdown",
   "metadata": {},
   "source": [
    "## EWX API"
   ]
  },
  {
   "cell_type": "code",
   "execution_count": null,
   "metadata": {},
   "outputs": [],
   "source": []
  }
 ],
 "metadata": {
  "kernelspec": {
   "display_name": "Python 3",
   "language": "python",
   "name": "python3"
  },
  "language_info": {
   "codemirror_mode": {
    "name": "ipython",
    "version": 3
   },
   "file_extension": ".py",
   "mimetype": "text/x-python",
   "name": "python",
   "nbconvert_exporter": "python",
   "pygments_lexer": "ipython3",
   "version": "3.8.1"
  }
 },
 "nbformat": 4,
 "nbformat_minor": 2
}
