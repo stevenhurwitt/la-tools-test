{
 "cells": [
  {
   "cell_type": "markdown",
   "metadata": {},
   "source": [
    "# IDR Drop"
   ]
  },
  {
   "cell_type": "markdown",
   "metadata": {},
   "source": [
    "Implements batch tasks used for IDR drops."
   ]
  },
  {
   "cell_type": "code",
   "execution_count": 1,
   "metadata": {},
   "outputs": [
    {
     "name": "stdout",
     "output_type": "stream",
     "text": [
      "imported modules successfully.\n"
     ]
    }
   ],
   "source": [
    "import pandas as pd\n",
    "import numpy as np\n",
    "import IDRdrop\n",
    "import json\n",
    "import os\n",
    "print('imported modules successfully.')"
   ]
  },
  {
   "cell_type": "markdown",
   "metadata": {},
   "source": [
    "# Show downloaded files from EPO portal"
   ]
  },
  {
   "cell_type": "markdown",
   "metadata": {},
   "source": [
    "Here *filepath* is a directory containing downloaded EPO files. Code will print 20 most recent files."
   ]
  },
  {
   "cell_type": "code",
   "execution_count": 2,
   "metadata": {},
   "outputs": [
    {
     "name": "stdout",
     "output_type": "stream",
     "text": [
      "files found in dir:  /home/jupyter-engiela/la-tools-test/IDR_Drop/Raw_IDR\n",
      "                                               files                time\n",
      "0  ngrid_227b4bfa-0bd2-44d2-bbeb-17af36a5c5df_4ea... 2019-09-01 19:49:19\n",
      "1                                           init.git 2019-09-01 19:49:19\n"
     ]
    }
   ],
   "source": [
    "readpath = '/home/jupyter-engiela/la-tools-test/IDR_Drop/Raw_IDR'\n",
    "\n",
    "myfiles = IDRdrop.show_dir(readpath, 20)\n",
    "print(myfiles)"
   ]
  },
  {
   "cell_type": "markdown",
   "metadata": {},
   "source": [
    "Choose files to split into Raw IDR files."
   ]
  },
  {
   "cell_type": "code",
   "execution_count": 3,
   "metadata": {},
   "outputs": [
    {
     "name": "stdout",
     "output_type": "stream",
     "text": [
      "files to split: \n",
      "['ngrid_227b4bfa-0bd2-44d2-bbeb-17af36a5c5df_4ea950cd_hourlycsv.csv']\n"
     ]
    }
   ],
   "source": [
    "index = [0]\n",
    "\n",
    "splitfiles = list(myfiles.files[index])\n",
    "print('files to split: ')\n",
    "print(splitfiles)"
   ]
  },
  {
   "cell_type": "markdown",
   "metadata": {},
   "source": [
    "## Batch process downloaded EPO files into Raw IDRs"
   ]
  },
  {
   "cell_type": "code",
   "execution_count": 4,
   "metadata": {},
   "outputs": [
    {
     "name": "stdout",
     "output_type": "stream",
     "text": [
      "found 4 accounts.\n",
      "0021483009_MECO_IDR_RAW.csv  written.\n",
      "0021638013_MECO_IDR_RAW.csv  written.\n",
      "0040677012_MECO_IDR_RAW.csv  written.\n",
      "0043496028_MECO_IDR_RAW.csv  written.\n",
      "success, file:  ngrid_227b4bfa-0bd2-44d2-bbeb-17af36a5c5df_4ea950cd_hourlycsv.csv\n"
     ]
    }
   ],
   "source": [
    "readpath = '/home/jupyter-engiela/la-tools-test/IDR_Drop/Raw_IDR'\n",
    "writepath = '/home/jupyter-engiela/la-tools-test/IDR_Drop/Raw_IDR'\n",
    "utility = 'MECO'\n",
    "error_log = []\n",
    "\n",
    "for file in splitfiles:\n",
    "    try:\n",
    "        os.chdir(readpath)\n",
    "        filedf = pd.read_csv(file, sep = \",\", header = 0)\n",
    "    \n",
    "        IDRdrop.raw_split(filedf, readpath, writepath, utility)\n",
    "        print('success, file: ', file)\n",
    "        \n",
    "    except:\n",
    "        error_log = error_log.append(file)\n",
    "        print('error, file: ', file)"
   ]
  },
  {
   "cell_type": "markdown",
   "metadata": {},
   "source": [
    "## Show Raw IDR files based on utility"
   ]
  },
  {
   "cell_type": "markdown",
   "metadata": {},
   "source": [
    "Here *rawpath* is directory containing Raw IDRs - 25 most recent will be shown."
   ]
  },
  {
   "cell_type": "code",
   "execution_count": 5,
   "metadata": {},
   "outputs": [
    {
     "name": "stdout",
     "output_type": "stream",
     "text": [
      "files found in dir:  /home/jupyter-engiela/la-tools-test/IDR_Drop/Raw_IDR\n",
      "                                               files                time\n",
      "0                        0021483009_MECO_IDR_RAW.csv 2019-09-01 21:20:57\n",
      "1                        0040677012_MECO_IDR_RAW.csv 2019-09-01 21:20:57\n",
      "2                        0021638013_MECO_IDR_RAW.csv 2019-09-01 21:20:57\n",
      "3                        0043496028_MECO_IDR_RAW.csv 2019-09-01 21:20:57\n",
      "4  ngrid_227b4bfa-0bd2-44d2-bbeb-17af36a5c5df_4ea... 2019-09-01 19:49:19\n",
      "5                                           init.git 2019-09-01 19:49:19\n"
     ]
    }
   ],
   "source": [
    "rawfiles = IDRdrop.show_dir(writepath, 20)\n",
    "print(rawfiles)"
   ]
  },
  {
   "cell_type": "markdown",
   "metadata": {},
   "source": [
    "Choose Raw IDRs to filter into IDR files."
   ]
  },
  {
   "cell_type": "code",
   "execution_count": 6,
   "metadata": {},
   "outputs": [
    {
     "name": "stdout",
     "output_type": "stream",
     "text": [
      "files to process: \n",
      "0    0021483009_MECO_IDR_RAW.csv\n",
      "1    0040677012_MECO_IDR_RAW.csv\n",
      "2    0021638013_MECO_IDR_RAW.csv\n",
      "3    0043496028_MECO_IDR_RAW.csv\n",
      "Name: files, dtype: object\n"
     ]
    }
   ],
   "source": [
    "index = [3]\n",
    "\n",
    "processfiles = rawfiles.files[:4]\n",
    "files = list(processfiles)\n",
    "print('files to process: ')\n",
    "print(processfiles)"
   ]
  },
  {
   "cell_type": "markdown",
   "metadata": {},
   "source": [
    "## Batch filter Raw IDR into IDR files to be dropped"
   ]
  },
  {
   "cell_type": "code",
   "execution_count": 7,
   "metadata": {},
   "outputs": [
    {
     "name": "stdout",
     "output_type": "stream",
     "text": [
      "success, file:  0021483009_MECO_IDR_RAW.csv\n",
      "success, file:  0040677012_MECO_IDR_RAW.csv\n",
      "success, file:  0021638013_MECO_IDR_RAW.csv\n",
      "success, file:  0043496028_MECO_IDR_RAW.csv\n"
     ]
    }
   ],
   "source": [
    "writepath = '/home/jupyter-engiela/la-tools-test/IDR_Drop/IDR'\n",
    "error_log = []\n",
    "\n",
    "for dropfile in files:\n",
    "    try:\n",
    "        IDRdrop.data_drop(dropfile, readpath, writepath)\n",
    "        print('success, file: ', dropfile)\n",
    "    \n",
    "    except:\n",
    "        try:\n",
    "            error_log = error_log.append(dropfile)\n",
    "            print(\"error, file: \", dropfile)\n",
    "        except:\n",
    "            pass"
   ]
  },
  {
   "cell_type": "code",
   "execution_count": 13,
   "metadata": {},
   "outputs": [
    {
     "data": {
      "text/plain": [
       "[]"
      ]
     },
     "execution_count": 13,
     "metadata": {},
     "output_type": "execute_result"
    }
   ],
   "source": [
    "type(error_log)\n",
    "error_log"
   ]
  },
  {
   "cell_type": "markdown",
   "metadata": {},
   "source": [
    "### Change meters to vertical"
   ]
  },
  {
   "cell_type": "code",
   "execution_count": 8,
   "metadata": {},
   "outputs": [
    {
     "name": "stdout",
     "output_type": "stream",
     "text": [
      "files found in dir:  /home/jupyter-engiela/la-tools-test/IDR_Drop/IDR\n"
     ]
    },
    {
     "data": {
      "text/html": [
       "<div>\n",
       "<style scoped>\n",
       "    .dataframe tbody tr th:only-of-type {\n",
       "        vertical-align: middle;\n",
       "    }\n",
       "\n",
       "    .dataframe tbody tr th {\n",
       "        vertical-align: top;\n",
       "    }\n",
       "\n",
       "    .dataframe thead th {\n",
       "        text-align: right;\n",
       "    }\n",
       "</style>\n",
       "<table border=\"1\" class=\"dataframe\">\n",
       "  <thead>\n",
       "    <tr style=\"text-align: right;\">\n",
       "      <th></th>\n",
       "      <th>files</th>\n",
       "      <th>time</th>\n",
       "    </tr>\n",
       "  </thead>\n",
       "  <tbody>\n",
       "    <tr>\n",
       "      <td>0</td>\n",
       "      <td>0043496028_MECO_IDR.csv</td>\n",
       "      <td>2019-09-01 21:21:14</td>\n",
       "    </tr>\n",
       "    <tr>\n",
       "      <td>1</td>\n",
       "      <td>0021483009_MECO_IDR.csv</td>\n",
       "      <td>2019-09-01 21:21:14</td>\n",
       "    </tr>\n",
       "    <tr>\n",
       "      <td>2</td>\n",
       "      <td>0021638013_MECO_IDR.csv</td>\n",
       "      <td>2019-09-01 21:21:14</td>\n",
       "    </tr>\n",
       "    <tr>\n",
       "      <td>3</td>\n",
       "      <td>0040677012_MECO_IDR.csv</td>\n",
       "      <td>2019-09-01 21:21:14</td>\n",
       "    </tr>\n",
       "    <tr>\n",
       "      <td>4</td>\n",
       "      <td>init.git</td>\n",
       "      <td>2019-09-01 07:34:09</td>\n",
       "    </tr>\n",
       "  </tbody>\n",
       "</table>\n",
       "</div>"
      ],
      "text/plain": [
       "                     files                time\n",
       "0  0043496028_MECO_IDR.csv 2019-09-01 21:21:14\n",
       "1  0021483009_MECO_IDR.csv 2019-09-01 21:21:14\n",
       "2  0021638013_MECO_IDR.csv 2019-09-01 21:21:14\n",
       "3  0040677012_MECO_IDR.csv 2019-09-01 21:21:14\n",
       "4                 init.git 2019-09-01 07:34:09"
      ]
     },
     "execution_count": 8,
     "metadata": {},
     "output_type": "execute_result"
    }
   ],
   "source": [
    "data_dir = '/home/jupyter-engiela/la-tools-test/IDR_Drop/IDR'\n",
    "os.chdir(data_dir)\n",
    "idr = IDRdrop.show_dir(data_dir, 10)\n",
    "idr"
   ]
  },
  {
   "cell_type": "code",
   "execution_count": 10,
   "metadata": {},
   "outputs": [
    {
     "name": "stdout",
     "output_type": "stream",
     "text": [
      "transformed and wrote 0043496028_MECO_IDR.csv to 0043496028_MECO_IDR_vert.csv.\n",
      "transformed and wrote 0021483009_MECO_IDR.csv to 0021483009_MECO_IDR_vert.csv.\n",
      "transformed and wrote 0021638013_MECO_IDR.csv to 0021638013_MECO_IDR_vert.csv.\n",
      "transformed and wrote 0040677012_MECO_IDR.csv to 0040677012_MECO_IDR_vert.csv.\n"
     ]
    }
   ],
   "source": [
    "myfiles = idr.files[:4]\n",
    "for f in myfiles:\n",
    "    IDRdrop.hor_to_vert(f)"
   ]
  },
  {
   "cell_type": "code",
   "execution_count": 15,
   "metadata": {},
   "outputs": [
    {
     "data": {
      "text/html": [
       "<div>\n",
       "<style scoped>\n",
       "    .dataframe tbody tr th:only-of-type {\n",
       "        vertical-align: middle;\n",
       "    }\n",
       "\n",
       "    .dataframe tbody tr th {\n",
       "        vertical-align: top;\n",
       "    }\n",
       "\n",
       "    .dataframe thead th {\n",
       "        text-align: right;\n",
       "    }\n",
       "</style>\n",
       "<table border=\"1\" class=\"dataframe\">\n",
       "  <thead>\n",
       "    <tr style=\"text-align: right;\">\n",
       "      <th></th>\n",
       "      <th>t</th>\n",
       "      <th>v</th>\n",
       "    </tr>\n",
       "  </thead>\n",
       "  <tbody>\n",
       "    <tr>\n",
       "      <td>0</td>\n",
       "      <td>False</td>\n",
       "      <td>False</td>\n",
       "    </tr>\n",
       "    <tr>\n",
       "      <td>1</td>\n",
       "      <td>False</td>\n",
       "      <td>False</td>\n",
       "    </tr>\n",
       "    <tr>\n",
       "      <td>2</td>\n",
       "      <td>False</td>\n",
       "      <td>False</td>\n",
       "    </tr>\n",
       "    <tr>\n",
       "      <td>3</td>\n",
       "      <td>False</td>\n",
       "      <td>False</td>\n",
       "    </tr>\n",
       "    <tr>\n",
       "      <td>4</td>\n",
       "      <td>False</td>\n",
       "      <td>False</td>\n",
       "    </tr>\n",
       "    <tr>\n",
       "      <td>...</td>\n",
       "      <td>...</td>\n",
       "      <td>...</td>\n",
       "    </tr>\n",
       "    <tr>\n",
       "      <td>9595</td>\n",
       "      <td>False</td>\n",
       "      <td>True</td>\n",
       "    </tr>\n",
       "    <tr>\n",
       "      <td>9596</td>\n",
       "      <td>False</td>\n",
       "      <td>True</td>\n",
       "    </tr>\n",
       "    <tr>\n",
       "      <td>9597</td>\n",
       "      <td>False</td>\n",
       "      <td>True</td>\n",
       "    </tr>\n",
       "    <tr>\n",
       "      <td>9598</td>\n",
       "      <td>False</td>\n",
       "      <td>True</td>\n",
       "    </tr>\n",
       "    <tr>\n",
       "      <td>9599</td>\n",
       "      <td>False</td>\n",
       "      <td>True</td>\n",
       "    </tr>\n",
       "  </tbody>\n",
       "</table>\n",
       "<p>9600 rows × 2 columns</p>\n",
       "</div>"
      ],
      "text/plain": [
       "          t      v\n",
       "0     False  False\n",
       "1     False  False\n",
       "2     False  False\n",
       "3     False  False\n",
       "4     False  False\n",
       "...     ...    ...\n",
       "9595  False   True\n",
       "9596  False   True\n",
       "9597  False   True\n",
       "9598  False   True\n",
       "9599  False   True\n",
       "\n",
       "[9600 rows x 2 columns]"
      ]
     },
     "execution_count": 15,
     "metadata": {},
     "output_type": "execute_result"
    }
   ],
   "source": [
    "a = pd.read_csv('0043496028_MECO_IDR_vert.csv', header = None)\n",
    "a.columns = ['t', 'v']\n",
    "a.plot(y = 'v')"
   ]
  },
  {
   "cell_type": "code",
   "execution_count": 16,
   "metadata": {},
   "outputs": [
    {
     "data": {
      "text/html": [
       "<div>\n",
       "<style scoped>\n",
       "    .dataframe tbody tr th:only-of-type {\n",
       "        vertical-align: middle;\n",
       "    }\n",
       "\n",
       "    .dataframe tbody tr th {\n",
       "        vertical-align: top;\n",
       "    }\n",
       "\n",
       "    .dataframe thead th {\n",
       "        text-align: right;\n",
       "    }\n",
       "</style>\n",
       "<table border=\"1\" class=\"dataframe\">\n",
       "  <thead>\n",
       "    <tr style=\"text-align: right;\">\n",
       "      <th></th>\n",
       "      <th>t</th>\n",
       "      <th>v</th>\n",
       "    </tr>\n",
       "  </thead>\n",
       "  <tbody>\n",
       "    <tr>\n",
       "      <td>0</td>\n",
       "      <td>False</td>\n",
       "      <td>False</td>\n",
       "    </tr>\n",
       "    <tr>\n",
       "      <td>1</td>\n",
       "      <td>False</td>\n",
       "      <td>False</td>\n",
       "    </tr>\n",
       "    <tr>\n",
       "      <td>2</td>\n",
       "      <td>False</td>\n",
       "      <td>False</td>\n",
       "    </tr>\n",
       "    <tr>\n",
       "      <td>3</td>\n",
       "      <td>False</td>\n",
       "      <td>False</td>\n",
       "    </tr>\n",
       "    <tr>\n",
       "      <td>4</td>\n",
       "      <td>False</td>\n",
       "      <td>False</td>\n",
       "    </tr>\n",
       "    <tr>\n",
       "      <td>...</td>\n",
       "      <td>...</td>\n",
       "      <td>...</td>\n",
       "    </tr>\n",
       "    <tr>\n",
       "      <td>9595</td>\n",
       "      <td>False</td>\n",
       "      <td>True</td>\n",
       "    </tr>\n",
       "    <tr>\n",
       "      <td>9596</td>\n",
       "      <td>False</td>\n",
       "      <td>True</td>\n",
       "    </tr>\n",
       "    <tr>\n",
       "      <td>9597</td>\n",
       "      <td>False</td>\n",
       "      <td>True</td>\n",
       "    </tr>\n",
       "    <tr>\n",
       "      <td>9598</td>\n",
       "      <td>False</td>\n",
       "      <td>True</td>\n",
       "    </tr>\n",
       "    <tr>\n",
       "      <td>9599</td>\n",
       "      <td>False</td>\n",
       "      <td>True</td>\n",
       "    </tr>\n",
       "  </tbody>\n",
       "</table>\n",
       "<p>9600 rows × 2 columns</p>\n",
       "</div>"
      ],
      "text/plain": [
       "          t      v\n",
       "0     False  False\n",
       "1     False  False\n",
       "2     False  False\n",
       "3     False  False\n",
       "4     False  False\n",
       "...     ...    ...\n",
       "9595  False   True\n",
       "9596  False   True\n",
       "9597  False   True\n",
       "9598  False   True\n",
       "9599  False   True\n",
       "\n",
       "[9600 rows x 2 columns]"
      ]
     },
     "execution_count": 16,
     "metadata": {},
     "output_type": "execute_result"
    }
   ],
   "source": [
    "a.fillna(method = 'pad', limit = 5)\n",
    "a.isna()"
   ]
  },
  {
   "cell_type": "code",
   "execution_count": null,
   "metadata": {},
   "outputs": [],
   "source": []
  }
 ],
 "metadata": {
  "kernelspec": {
   "display_name": "Python 3",
   "language": "python",
   "name": "python3"
  },
  "language_info": {
   "codemirror_mode": {
    "name": "ipython",
    "version": 3
   },
   "file_extension": ".py",
   "mimetype": "text/x-python",
   "name": "python",
   "nbconvert_exporter": "python",
   "pygments_lexer": "ipython3",
   "version": "3.6.7"
  }
 },
 "nbformat": 4,
 "nbformat_minor": 2
}
