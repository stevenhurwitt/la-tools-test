{
 "cells": [
  {
   "cell_type": "markdown",
   "metadata": {},
   "source": [
    "# PSNH IDR Split"
   ]
  },
  {
   "cell_type": "code",
   "execution_count": 2,
   "metadata": {},
   "outputs": [
    {
     "name": "stdout",
     "output_type": "stream",
     "text": [
      "imported modules successfully.\n"
     ]
    }
   ],
   "source": [
    "import pandas as pd\n",
    "import numpy as np\n",
    "import IDRdrop\n",
    "import json\n",
    "import os\n",
    "print('imported modules successfully.')"
   ]
  },
  {
   "cell_type": "markdown",
   "metadata": {},
   "source": [
    "## Show downloaded files from EPO portal"
   ]
  },
  {
   "cell_type": "code",
   "execution_count": 66,
   "metadata": {},
   "outputs": [
    {
     "name": "stdout",
     "output_type": "stream",
     "text": [
      "files found in dir:  C:\\Users\\wb5888\\Downloads\n",
      "                                               files                time\n",
      "0                           PSNH_80044561043_IDR.csv 2019-11-26 11:38:07\n",
      "1                           PSNH_80044560474_IDR.csv 2019-11-26 11:38:07\n",
      "2                           PSNH_80044560557_IDR.csv 2019-11-26 11:38:07\n",
      "3                           PSNH_80044560631_IDR.csv 2019-11-26 11:38:07\n",
      "4                           PSNH_80044560979_IDR.csv 2019-11-26 11:37:08\n",
      "5                           PSNH_80044560896_IDR.csv 2019-11-26 11:37:08\n",
      "6                           PSNH_80044560714_IDR.csv 2019-11-26 11:37:08\n",
      "7  eversource_a3decdf6-1c63-48cc-8f56-cc0143a1a8e... 2019-11-26 09:36:27\n",
      "8  eversource_a3decdf6-1c63-48cc-8f56-cc0143a1a8e... 2019-11-26 09:36:05\n",
      "9  ngrid_5c9a1754-ce12-4b22-b433-1b781bf70403_e80... 2019-11-22 15:41:57\n"
     ]
    }
   ],
   "source": [
    "readpath = \"C:\\\\Users\\\\wb5888\\\\Downloads\"\n",
    "\n",
    "myfiles = IDRdrop.show_dir(readpath, 10)\n",
    "print(myfiles)"
   ]
  },
  {
   "cell_type": "code",
   "execution_count": 70,
   "metadata": {},
   "outputs": [
    {
     "data": {
      "text/plain": [
       "'eversource_a3decdf6-1c63-48cc-8f56-cc0143a1a8e1_1bbff65c_hourly.csv'"
      ]
     },
     "execution_count": 70,
     "metadata": {},
     "output_type": "execute_result"
    }
   ],
   "source": [
    "dl = myfiles.files[[8]]\n",
    "dl[8]"
   ]
  },
  {
   "cell_type": "code",
   "execution_count": 50,
   "metadata": {},
   "outputs": [],
   "source": [
    "files = ['PSNH_80044561043_IDR.csv', 'PSNH_80044560474_IDR.csv', 'PSNH_80044560557_IDR.csv', 'PSNH_80044560631_IDR.csv']"
   ]
  },
  {
   "cell_type": "code",
   "execution_count": 51,
   "metadata": {},
   "outputs": [],
   "source": [
    "other = ['PSNH_80044560714_IDR.csv', 'PSNH_80044560896_IDR.csv', 'PSNH_80044560979_IDR.csv']"
   ]
  },
  {
   "cell_type": "markdown",
   "metadata": {},
   "source": [
    "## Split downloaded into separate files"
   ]
  },
  {
   "cell_type": "code",
   "execution_count": 68,
   "metadata": {},
   "outputs": [],
   "source": [
    "def psnh_split(data, filenames):\n",
    "    \n",
    "    master = pd.read_csv(data, header = None, names = list('abcdef'))\n",
    "    subset = np.where(master.a == 'Customer Name')[0]\n",
    "    subset = [a for a in subset]\n",
    "    n = len(master.a)\n",
    "    subset.append(n)\n",
    "    m = len(subset)\n",
    "\n",
    "    for j, index in enumerate(subset):\n",
    "        if j < m-1:\n",
    "            subset_df = master.iloc[subset[j]:subset[(j+1)],:]\n",
    "            print(subset_df.head())\n",
    "            print(filenames[j])\n",
    "            subset_df.to_csv(filenames[j], header = None, index = None)\n",
    "            print('wrote {}.'.format(filenames[j]))\n"
   ]
  },
  {
   "cell_type": "code",
   "execution_count": 71,
   "metadata": {
    "scrolled": true
   },
   "outputs": [
    {
     "name": "stdout",
     "output_type": "stream",
     "text": [
      "                  a           b    c    d    e    f\n",
      "0     Customer Name    KOHLS 10  NaN  NaN  NaN  NaN\n",
      "1    Account Number  8004456 10  NaN  NaN  NaN  NaN\n",
      "2       Recorder ID   G75043923  NaN  NaN  NaN  NaN\n",
      "3  Service Address1         NaN  NaN  NaN  NaN  NaN\n",
      "4  Service Address2         NaN  NaN  NaN  NaN  NaN\n",
      "PSNH_80044561043_IDR.csv\n",
      "wrote PSNH_80044561043_IDR.csv.\n",
      "                     a           b    c    d    e    f\n",
      "9584     Customer Name     KOHLS 5  NaN  NaN  NaN  NaN\n",
      "9585    Account Number  8004456 05  NaN  NaN  NaN  NaN\n",
      "9586       Recorder ID   W21112294  NaN  NaN  NaN  NaN\n",
      "9587  Service Address1         NaN  NaN  NaN  NaN  NaN\n",
      "9588  Service Address2         NaN  NaN  NaN  NaN  NaN\n",
      "PSNH_80044560474_IDR.csv\n",
      "wrote PSNH_80044560474_IDR.csv.\n",
      "                      a           b    c    d    e    f\n",
      "18904     Customer Name     KOHLS 4  NaN  NaN  NaN  NaN\n",
      "18905    Account Number  8004456 04  NaN  NaN  NaN  NaN\n",
      "18906       Recorder ID   W21243793  NaN  NaN  NaN  NaN\n",
      "18907  Service Address1         NaN  NaN  NaN  NaN  NaN\n",
      "18908  Service Address2         NaN  NaN  NaN  NaN  NaN\n",
      "PSNH_80044560557_IDR.csv\n",
      "wrote PSNH_80044560557_IDR.csv.\n",
      "                      a           b    c    d    e    f\n",
      "28055     Customer Name     KOHLS 6  NaN  NaN  NaN  NaN\n",
      "28056    Account Number  8004456 06  NaN  NaN  NaN  NaN\n",
      "28057       Recorder ID   W21475487  NaN  NaN  NaN  NaN\n",
      "28058  Service Address1         NaN  NaN  NaN  NaN  NaN\n",
      "28059  Service Address2         NaN  NaN  NaN  NaN  NaN\n",
      "PSNH_80044560631_IDR.csv\n",
      "wrote PSNH_80044560631_IDR.csv.\n"
     ]
    }
   ],
   "source": [
    "psnh_split(dl[8], files)"
   ]
  },
  {
   "cell_type": "code",
   "execution_count": 46,
   "metadata": {},
   "outputs": [
    {
     "name": "stdout",
     "output_type": "stream",
     "text": [
      "                  a           b    c    d    e    f\n",
      "0     Customer Name     KOHLS 7  NaN  NaN  NaN  NaN\n",
      "1    Account Number  8004456 07  NaN  NaN  NaN  NaN\n",
      "2       Recorder ID   W21243639  NaN  NaN  NaN  NaN\n",
      "3  Service Address1         NaN  NaN  NaN  NaN  NaN\n",
      "4  Service Address2         NaN  NaN  NaN  NaN  NaN\n",
      "               a      b                c                d  e  f\n",
      "9315  11/06/2019  20:00  83.399997711182  32.399997711182  0  0\n",
      "9316  11/06/2019  21:00  83.519996643066  31.799999237061  0  0\n",
      "9317  11/06/2019  22:00  47.759998321533  32.159999847412  0  0\n",
      "9318  11/06/2019  23:00  34.079999923706  31.679999351501  0  0\n",
      "9319  11/07/2019  00:00  33.360000610352  31.799999237061  0  0\n",
      "                     a           b    c    d    e    f\n",
      "9320     Customer Name     KOHLS 8  NaN  NaN  NaN  NaN\n",
      "9321    Account Number  8004456 08  NaN  NaN  NaN  NaN\n",
      "9322       Recorder ID   W21243602  NaN  NaN  NaN  NaN\n",
      "9323  Service Address1         NaN  NaN  NaN  NaN  NaN\n",
      "9324  Service Address2         NaN  NaN  NaN  NaN  NaN\n",
      "                a      b                c                d  e  f\n",
      "18899  11/17/2019  20:00  85.199996948242  35.219999313354  0  0\n",
      "18900  11/17/2019  21:00  85.020000457764   35.39999961853  0  0\n",
      "18901  11/17/2019  22:00  85.259998321533  35.159999847412  0  0\n",
      "18902  11/17/2019  23:00  84.900001525879  35.279998779297  0  0\n",
      "18903  11/18/2019  00:00    61.1399974823  37.919998168945  0  0\n",
      "                      a           b    c    d    e    f\n",
      "18904     Customer Name     KOHLS 9  NaN  NaN  NaN  NaN\n",
      "18905    Account Number  8004456 09  NaN  NaN  NaN  NaN\n",
      "18906       Recorder ID   W21243858  NaN  NaN  NaN  NaN\n",
      "18907  Service Address1         NaN  NaN  NaN  NaN  NaN\n",
      "18908  Service Address2         NaN  NaN  NaN  NaN  NaN\n",
      "                a      b                 c                d  e  f\n",
      "28074  10/31/2019  20:00  138.419998168945  44.639999389648  0  0\n",
      "28075  10/31/2019  21:00               138  44.219999313354  0  0\n",
      "28076  10/31/2019  22:00  137.879997253418  43.920000076294  0  0\n",
      "28077  10/31/2019  23:00   85.679996490479  54.719999313354  0  0\n",
      "28078  11/01/2019  00:00   74.520000457764  54.839998245239  0  0\n"
     ]
    }
   ],
   "source": [
    "for j, index in enumerate(subset):\n",
    "    if j < m-1:\n",
    "        subset_df = master.iloc[subset[j]:subset[(j+1)],:]\n",
    "        subset_df.to_csv()"
   ]
  },
  {
   "cell_type": "code",
   "execution_count": 28,
   "metadata": {},
   "outputs": [
    {
     "data": {
      "text/plain": [
       "array([    0,  9320, 18904], dtype=int64)"
      ]
     },
     "execution_count": 28,
     "metadata": {},
     "output_type": "execute_result"
    }
   ],
   "source": [
    "kohls"
   ]
  },
  {
   "cell_type": "code",
   "execution_count": 25,
   "metadata": {},
   "outputs": [
    {
     "data": {
      "text/html": [
       "<div>\n",
       "<style scoped>\n",
       "    .dataframe tbody tr th:only-of-type {\n",
       "        vertical-align: middle;\n",
       "    }\n",
       "\n",
       "    .dataframe tbody tr th {\n",
       "        vertical-align: top;\n",
       "    }\n",
       "\n",
       "    .dataframe thead th {\n",
       "        text-align: right;\n",
       "    }\n",
       "</style>\n",
       "<table border=\"1\" class=\"dataframe\">\n",
       "  <thead>\n",
       "    <tr style=\"text-align: right;\">\n",
       "      <th></th>\n",
       "      <th>a</th>\n",
       "      <th>b</th>\n",
       "      <th>c</th>\n",
       "      <th>d</th>\n",
       "      <th>e</th>\n",
       "      <th>f</th>\n",
       "    </tr>\n",
       "  </thead>\n",
       "  <tbody>\n",
       "    <tr>\n",
       "      <td>0</td>\n",
       "      <td>Customer Name</td>\n",
       "      <td>KOHLS 7</td>\n",
       "      <td>NaN</td>\n",
       "      <td>NaN</td>\n",
       "      <td>NaN</td>\n",
       "      <td>NaN</td>\n",
       "    </tr>\n",
       "    <tr>\n",
       "      <td>1</td>\n",
       "      <td>Account Number</td>\n",
       "      <td>8004456 07</td>\n",
       "      <td>NaN</td>\n",
       "      <td>NaN</td>\n",
       "      <td>NaN</td>\n",
       "      <td>NaN</td>\n",
       "    </tr>\n",
       "    <tr>\n",
       "      <td>2</td>\n",
       "      <td>Recorder ID</td>\n",
       "      <td>W21243639</td>\n",
       "      <td>NaN</td>\n",
       "      <td>NaN</td>\n",
       "      <td>NaN</td>\n",
       "      <td>NaN</td>\n",
       "    </tr>\n",
       "    <tr>\n",
       "      <td>3</td>\n",
       "      <td>Service Address1</td>\n",
       "      <td>NaN</td>\n",
       "      <td>NaN</td>\n",
       "      <td>NaN</td>\n",
       "      <td>NaN</td>\n",
       "      <td>NaN</td>\n",
       "    </tr>\n",
       "    <tr>\n",
       "      <td>4</td>\n",
       "      <td>Service Address2</td>\n",
       "      <td>NaN</td>\n",
       "      <td>NaN</td>\n",
       "      <td>NaN</td>\n",
       "      <td>NaN</td>\n",
       "      <td>NaN</td>\n",
       "    </tr>\n",
       "    <tr>\n",
       "      <td>...</td>\n",
       "      <td>...</td>\n",
       "      <td>...</td>\n",
       "      <td>...</td>\n",
       "      <td>...</td>\n",
       "      <td>...</td>\n",
       "      <td>...</td>\n",
       "    </tr>\n",
       "    <tr>\n",
       "      <td>9315</td>\n",
       "      <td>11/06/2019</td>\n",
       "      <td>20:00</td>\n",
       "      <td>83.399997711182</td>\n",
       "      <td>32.399997711182</td>\n",
       "      <td>0</td>\n",
       "      <td>0</td>\n",
       "    </tr>\n",
       "    <tr>\n",
       "      <td>9316</td>\n",
       "      <td>11/06/2019</td>\n",
       "      <td>21:00</td>\n",
       "      <td>83.519996643066</td>\n",
       "      <td>31.799999237061</td>\n",
       "      <td>0</td>\n",
       "      <td>0</td>\n",
       "    </tr>\n",
       "    <tr>\n",
       "      <td>9317</td>\n",
       "      <td>11/06/2019</td>\n",
       "      <td>22:00</td>\n",
       "      <td>47.759998321533</td>\n",
       "      <td>32.159999847412</td>\n",
       "      <td>0</td>\n",
       "      <td>0</td>\n",
       "    </tr>\n",
       "    <tr>\n",
       "      <td>9318</td>\n",
       "      <td>11/06/2019</td>\n",
       "      <td>23:00</td>\n",
       "      <td>34.079999923706</td>\n",
       "      <td>31.679999351501</td>\n",
       "      <td>0</td>\n",
       "      <td>0</td>\n",
       "    </tr>\n",
       "    <tr>\n",
       "      <td>9319</td>\n",
       "      <td>11/07/2019</td>\n",
       "      <td>00:00</td>\n",
       "      <td>33.360000610352</td>\n",
       "      <td>31.799999237061</td>\n",
       "      <td>0</td>\n",
       "      <td>0</td>\n",
       "    </tr>\n",
       "  </tbody>\n",
       "</table>\n",
       "<p>9320 rows × 6 columns</p>\n",
       "</div>"
      ],
      "text/plain": [
       "                     a           b                c                d    e    f\n",
       "0        Customer Name     KOHLS 7              NaN              NaN  NaN  NaN\n",
       "1       Account Number  8004456 07              NaN              NaN  NaN  NaN\n",
       "2          Recorder ID   W21243639              NaN              NaN  NaN  NaN\n",
       "3     Service Address1         NaN              NaN              NaN  NaN  NaN\n",
       "4     Service Address2         NaN              NaN              NaN  NaN  NaN\n",
       "...                ...         ...              ...              ...  ...  ...\n",
       "9315        11/06/2019       20:00  83.399997711182  32.399997711182    0    0\n",
       "9316        11/06/2019       21:00  83.519996643066  31.799999237061    0    0\n",
       "9317        11/06/2019       22:00  47.759998321533  32.159999847412    0    0\n",
       "9318        11/06/2019       23:00  34.079999923706  31.679999351501    0    0\n",
       "9319        11/07/2019       00:00  33.360000610352  31.799999237061    0    0\n",
       "\n",
       "[9320 rows x 6 columns]"
      ]
     },
     "execution_count": 25,
     "metadata": {},
     "output_type": "execute_result"
    }
   ],
   "source": [
    "master.iloc[kohls[0]-6:kohls[1]-6,:]"
   ]
  },
  {
   "cell_type": "code",
   "execution_count": null,
   "metadata": {},
   "outputs": [],
   "source": []
  }
 ],
 "metadata": {
  "kernelspec": {
   "display_name": "Python 3",
   "language": "python",
   "name": "python3"
  },
  "language_info": {
   "codemirror_mode": {
    "name": "ipython",
    "version": 3
   },
   "file_extension": ".py",
   "mimetype": "text/x-python",
   "name": "python",
   "nbconvert_exporter": "python",
   "pygments_lexer": "ipython3",
   "version": "3.7.4"
  }
 },
 "nbformat": 4,
 "nbformat_minor": 2
}
