{
 "cells": [
  {
   "cell_type": "markdown",
   "metadata": {},
   "source": [
    "# NEPOOL IDR Drop"
   ]
  },
  {
   "cell_type": "markdown",
   "metadata": {},
   "source": [
    "Batches tasks for NEPOOL IDR Drop."
   ]
  },
  {
   "cell_type": "code",
   "execution_count": 1,
   "metadata": {},
   "outputs": [
    {
     "name": "stdout",
     "output_type": "stream",
     "text": [
      "working in directory /Volumes/Samsung_T5/la-tools-test/IDR_Drop.\n"
     ]
    }
   ],
   "source": [
    "import os\n",
    "basepath = '/Volumes/Samsung_T5/la-tools-test/IDR_Drop'\n",
    "#basepath = os.getcwd()\n",
    "os.chdir(basepath)\n",
    "print('working in directory {}.'.format(basepath))\n",
    "\n",
    "from bs4 import BeautifulSoup\n",
    "from selenium.webdriver import Chrome\n",
    "from selenium.webdriver.chrome.options import Options\n",
    "import selenium.webdriver.support.ui as ui\n",
    "from selenium.webdriver.common.keys import Keys\n",
    "import selenium.webdriver as webdriver\n",
    "from pandas.io.json import json_normalize\n",
    "import datetime as dt\n",
    "import pandas as pd\n",
    "import numpy as np\n",
    "import IDRdrop\n",
    "import EPOwebscrape\n",
    "#import emailscrape\n",
    "import json\n",
    "import math\n",
    "import time\n",
    "import ast"
   ]
  },
  {
   "cell_type": "markdown",
   "metadata": {},
   "source": [
    "## Read Excel file"
   ]
  },
  {
   "cell_type": "code",
   "execution_count": 2,
   "metadata": {},
   "outputs": [
    {
     "data": {
      "text/html": [
       "<div>\n",
       "<style scoped>\n",
       "    .dataframe tbody tr th:only-of-type {\n",
       "        vertical-align: middle;\n",
       "    }\n",
       "\n",
       "    .dataframe tbody tr th {\n",
       "        vertical-align: top;\n",
       "    }\n",
       "\n",
       "    .dataframe thead th {\n",
       "        text-align: right;\n",
       "    }\n",
       "</style>\n",
       "<table border=\"1\" class=\"dataframe\">\n",
       "  <thead>\n",
       "    <tr style=\"text-align: right;\">\n",
       "      <th></th>\n",
       "      <th>accts</th>\n",
       "      <th>date</th>\n",
       "      <th>name</th>\n",
       "      <th>user</th>\n",
       "      <th>pw</th>\n",
       "      <th>util</th>\n",
       "    </tr>\n",
       "  </thead>\n",
       "  <tbody>\n",
       "    <tr>\n",
       "      <td>0</td>\n",
       "      <td>[51640724076_352382007, 51733934061_347092002,...</td>\n",
       "      <td>2019-10-11 11:36:04</td>\n",
       "      <td>Hartford Healthcare Corporation</td>\n",
       "      <td>harth-engie</td>\n",
       "      <td>78cck</td>\n",
       "      <td>CLP</td>\n",
       "    </tr>\n",
       "    <tr>\n",
       "      <td>1</td>\n",
       "      <td>[54202385001_052931000]</td>\n",
       "      <td>2019-10-11 11:34:00</td>\n",
       "      <td>Protective Armored Systems</td>\n",
       "      <td>usar-engie</td>\n",
       "      <td>m372b</td>\n",
       "      <td>WMECO</td>\n",
       "    </tr>\n",
       "    <tr>\n",
       "      <td>2</td>\n",
       "      <td>[51640724076_352382007, 51733934061_347092002,...</td>\n",
       "      <td>2019-10-11 10:34:43</td>\n",
       "      <td>Hartford Healthcare Corporation</td>\n",
       "      <td>harth-engie</td>\n",
       "      <td>78cck</td>\n",
       "      <td>CLP</td>\n",
       "    </tr>\n",
       "    <tr>\n",
       "      <td>3</td>\n",
       "      <td>[54977381078_126733008, 54480402023_526541004,...</td>\n",
       "      <td>2019-10-10 15:55:06</td>\n",
       "      <td>Berkshire Medical Center Inc.</td>\n",
       "      <td>berkmc-engie</td>\n",
       "      <td>d823k</td>\n",
       "      <td>WMECO</td>\n",
       "    </tr>\n",
       "    <tr>\n",
       "      <td>4</td>\n",
       "      <td>[51436492052_684002003]</td>\n",
       "      <td>2019-10-10 15:54:30</td>\n",
       "      <td>Teds Food Center</td>\n",
       "      <td>teds-engie</td>\n",
       "      <td>tc836</td>\n",
       "      <td>CLP</td>\n",
       "    </tr>\n",
       "    <tr>\n",
       "      <td>5</td>\n",
       "      <td>[51549893006_482562007, 51874553092_860042003]</td>\n",
       "      <td>2019-10-10 09:43:48</td>\n",
       "      <td>PM Engineered Solutions</td>\n",
       "      <td>pme-engie</td>\n",
       "      <td>p899g</td>\n",
       "      <td>CLP</td>\n",
       "    </tr>\n",
       "    <tr>\n",
       "      <td>6</td>\n",
       "      <td>[51482323003_190712004]</td>\n",
       "      <td>2019-10-09 13:12:03</td>\n",
       "      <td>Bimba Bakeries</td>\n",
       "      <td>bbak-engie</td>\n",
       "      <td>9567c</td>\n",
       "      <td>CLP</td>\n",
       "    </tr>\n",
       "  </tbody>\n",
       "</table>\n",
       "</div>"
      ],
      "text/plain": [
       "                                               accts                date  \\\n",
       "0  [51640724076_352382007, 51733934061_347092002,... 2019-10-11 11:36:04   \n",
       "1                            [54202385001_052931000] 2019-10-11 11:34:00   \n",
       "2  [51640724076_352382007, 51733934061_347092002,... 2019-10-11 10:34:43   \n",
       "3  [54977381078_126733008, 54480402023_526541004,... 2019-10-10 15:55:06   \n",
       "4                            [51436492052_684002003] 2019-10-10 15:54:30   \n",
       "5     [51549893006_482562007, 51874553092_860042003] 2019-10-10 09:43:48   \n",
       "6                            [51482323003_190712004] 2019-10-09 13:12:03   \n",
       "\n",
       "                              name          user     pw   util  \n",
       "0  Hartford Healthcare Corporation   harth-engie  78cck    CLP  \n",
       "1       Protective Armored Systems    usar-engie  m372b  WMECO  \n",
       "2  Hartford Healthcare Corporation   harth-engie  78cck    CLP  \n",
       "3    Berkshire Medical Center Inc.  berkmc-engie  d823k  WMECO  \n",
       "4                 Teds Food Center    teds-engie  tc836    CLP  \n",
       "5          PM Engineered Solutions     pme-engie  p899g    CLP  \n",
       "6                   Bimba Bakeries    bbak-engie  9567c    CLP  "
      ]
     },
     "execution_count": 2,
     "metadata": {},
     "output_type": "execute_result"
    }
   ],
   "source": [
    "loginpath = os.path.join(basepath, 'Logins')\n",
    "os.chdir(loginpath)\n",
    "\n",
    "output_df = EPOwebscrape.read_logins('email_bodies_10_11_2019.xlsx')\n",
    "output_df"
   ]
  },
  {
   "cell_type": "markdown",
   "metadata": {},
   "source": [
    "## Download files from EPO portal"
   ]
  },
  {
   "cell_type": "code",
   "execution_count": 3,
   "metadata": {},
   "outputs": [
    {
     "name": "stdout",
     "output_type": "stream",
     "text": [
      "user:  harth-engie\n",
      "password:  78cck\n",
      "set to last  400  days.\n",
      "logging on...\n",
      "looking for 4 accts.\n",
      "found items in portal.\n",
      "trying search & download...\n",
      "\n",
      "submitting...\n",
      "downloaded EPO data file eversource_3301aae8-ccc5-444f-b3cc-59871f336398_b0946bc7_hourlycsv.csv.\n",
      "done with 1 of 7.\n",
      "---------------------------\n",
      "user:  usar-engie\n",
      "password:  m372b\n",
      "set to last  400  days.\n",
      "logging on...\n",
      "looking for 1 accts.\n",
      "found items in portal.\n",
      "trying search & download...\n",
      "\n",
      "submitting...\n",
      "downloaded EPO data file eversource_ea7fc589-6e46-4e50-9311-edcf240ef6eb_ca2a3e3d_hourlycsv.csv.\n",
      "done with 2 of 7.\n",
      "---------------------------\n",
      "user:  harth-engie\n",
      "password:  78cck\n",
      "set to last  400  days.\n",
      "logging on...\n",
      "looking for 4 accts.\n",
      "found items in portal.\n",
      "trying search & download...\n",
      "\n",
      "submitting...\n",
      "downloaded EPO data file eversource_6a4bf09e-05d0-4650-87d0-e5fc3a8cf588_f174016b_hourlycsv.csv.\n",
      "done with 3 of 7.\n",
      "---------------------------\n",
      "user:  berkmc-engie\n",
      "password:  d823k\n",
      "set to last  400  days.\n",
      "logging on...\n",
      "looking for 4 accts.\n",
      "found items in portal.\n",
      "trying search & download...\n",
      "\n",
      "submitting...\n",
      "downloaded EPO data file eversource_f77d133b-f6a9-4a30-bd74-6279ceb1b22e_1588f8ac_hourlycsv.csv.\n",
      "done with 4 of 7.\n",
      "---------------------------\n",
      "user:  teds-engie\n",
      "password:  tc836\n",
      "set to last  400  days.\n",
      "logging on...\n",
      "looking for 1 accts.\n",
      "found items in portal.\n",
      "trying search & download...\n",
      "\n",
      "submitting...\n",
      "downloaded EPO data file eversource_e8ccb470-8a69-4927-88ba-8b90a77c2507_6ae8ec3c_hourlycsv.csv.\n",
      "done with 5 of 7.\n",
      "---------------------------\n",
      "user:  pme-engie\n",
      "password:  p899g\n",
      "set to last  400  days.\n",
      "logging on...\n",
      "looking for 2 accts.\n",
      "found items in portal.\n",
      "trying search & download...\n",
      "\n",
      "submitting...\n",
      "downloaded EPO data file eversource_3cdbbc1e-68ba-48ea-8cbe-b4a77d15d30d_ad6531f4_hourlycsv.csv.\n",
      "done with 6 of 7.\n",
      "---------------------------\n",
      "user:  bbak-engie\n",
      "password:  9567c\n",
      "set to last  400  days.\n",
      "logging on...\n",
      "looking for 1 accts.\n",
      "found items in portal.\n",
      "trying search & download...\n",
      "\n",
      "submitting...\n",
      "downloaded EPO data file eversource_368b06a1-eb32-4ab6-a29b-14d1282156c9_0b463bcc_hourlycsv.csv.\n",
      "done with 7 of 7.\n",
      "---------------------------\n",
      "downloaded 7 files in 120.52 seconds.\n"
     ]
    }
   ],
   "source": [
    "results = []\n",
    "files = []\n",
    "beg = time.time()\n",
    "\n",
    "for row in range(0, len(output_df.accts)):\n",
    "    try:\n",
    "        file = EPOwebscrape.idr_download(row, output_df)\n",
    "        files.append(file)\n",
    "        results.append(True)\n",
    "        print('done with {} of {}.'.format(row+1, len(output_df.accts)))\n",
    "        print('---------------------------')\n",
    "    except:\n",
    "        print('error, accts {}.'.format(output_df.accts[row]))\n",
    "        files.append(None)\n",
    "        results.append(False)\n",
    "        print('done with {} of {}.'.format(row+1, len(output_df.accts)))\n",
    "        print('---------------------------')\n",
    "\n",
    "end = time.time()\n",
    "elapse = round(end - beg, 2)\n",
    "print('downloaded {} files in {} seconds.'.format(len(output_df.accts), elapse))\n",
    "output_df['files'] = files\n",
    "output_df['success'] = results"
   ]
  },
  {
   "cell_type": "code",
   "execution_count": 12,
   "metadata": {},
   "outputs": [
    {
     "data": {
      "text/html": [
       "<div>\n",
       "<style scoped>\n",
       "    .dataframe tbody tr th:only-of-type {\n",
       "        vertical-align: middle;\n",
       "    }\n",
       "\n",
       "    .dataframe tbody tr th {\n",
       "        vertical-align: top;\n",
       "    }\n",
       "\n",
       "    .dataframe thead th {\n",
       "        text-align: right;\n",
       "    }\n",
       "</style>\n",
       "<table border=\"1\" class=\"dataframe\">\n",
       "  <thead>\n",
       "    <tr style=\"text-align: right;\">\n",
       "      <th></th>\n",
       "      <th>accts</th>\n",
       "      <th>date</th>\n",
       "      <th>name</th>\n",
       "      <th>user</th>\n",
       "      <th>pw</th>\n",
       "      <th>util</th>\n",
       "      <th>files</th>\n",
       "      <th>success</th>\n",
       "    </tr>\n",
       "  </thead>\n",
       "  <tbody>\n",
       "    <tr>\n",
       "      <td>0</td>\n",
       "      <td>['51640724076_352382007', '51733934061_3470920...</td>\n",
       "      <td>2019-10-11 11:36:04</td>\n",
       "      <td>Hartford Healthcare Corporation</td>\n",
       "      <td>harth-engie</td>\n",
       "      <td>78cck</td>\n",
       "      <td>CLP</td>\n",
       "      <td>eversource_3301aae8-ccc5-444f-b3cc-59871f33639...</td>\n",
       "      <td>True</td>\n",
       "    </tr>\n",
       "    <tr>\n",
       "      <td>1</td>\n",
       "      <td>['54202385001_052931000']</td>\n",
       "      <td>2019-10-11 11:34:00</td>\n",
       "      <td>Protective Armored Systems</td>\n",
       "      <td>usar-engie</td>\n",
       "      <td>m372b</td>\n",
       "      <td>WMECO</td>\n",
       "      <td>eversource_ea7fc589-6e46-4e50-9311-edcf240ef6e...</td>\n",
       "      <td>True</td>\n",
       "    </tr>\n",
       "    <tr>\n",
       "      <td>2</td>\n",
       "      <td>['51640724076_352382007', '51733934061_3470920...</td>\n",
       "      <td>2019-10-11 10:34:43</td>\n",
       "      <td>Hartford Healthcare Corporation</td>\n",
       "      <td>harth-engie</td>\n",
       "      <td>78cck</td>\n",
       "      <td>CLP</td>\n",
       "      <td>eversource_6a4bf09e-05d0-4650-87d0-e5fc3a8cf58...</td>\n",
       "      <td>True</td>\n",
       "    </tr>\n",
       "    <tr>\n",
       "      <td>3</td>\n",
       "      <td>['54977381078_126733008', '54480402023_5265410...</td>\n",
       "      <td>2019-10-10 15:55:06</td>\n",
       "      <td>Berkshire Medical Center Inc.</td>\n",
       "      <td>berkmc-engie</td>\n",
       "      <td>d823k</td>\n",
       "      <td>WMECO</td>\n",
       "      <td>eversource_f77d133b-f6a9-4a30-bd74-6279ceb1b22...</td>\n",
       "      <td>True</td>\n",
       "    </tr>\n",
       "    <tr>\n",
       "      <td>4</td>\n",
       "      <td>['51436492052_684002003']</td>\n",
       "      <td>2019-10-10 15:54:30</td>\n",
       "      <td>Teds Food Center</td>\n",
       "      <td>teds-engie</td>\n",
       "      <td>tc836</td>\n",
       "      <td>CLP</td>\n",
       "      <td>eversource_e8ccb470-8a69-4927-88ba-8b90a77c250...</td>\n",
       "      <td>True</td>\n",
       "    </tr>\n",
       "    <tr>\n",
       "      <td>5</td>\n",
       "      <td>['51549893006_482562007', '51874553092_8600420...</td>\n",
       "      <td>2019-10-10 09:43:48</td>\n",
       "      <td>PM Engineered Solutions</td>\n",
       "      <td>pme-engie</td>\n",
       "      <td>p899g</td>\n",
       "      <td>CLP</td>\n",
       "      <td>eversource_3cdbbc1e-68ba-48ea-8cbe-b4a77d15d30...</td>\n",
       "      <td>True</td>\n",
       "    </tr>\n",
       "    <tr>\n",
       "      <td>6</td>\n",
       "      <td>['51482323003_190712004']</td>\n",
       "      <td>2019-10-09 13:12:03</td>\n",
       "      <td>Bimba Bakeries</td>\n",
       "      <td>bbak-engie</td>\n",
       "      <td>9567c</td>\n",
       "      <td>CLP</td>\n",
       "      <td>eversource_368b06a1-eb32-4ab6-a29b-14d1282156c...</td>\n",
       "      <td>True</td>\n",
       "    </tr>\n",
       "  </tbody>\n",
       "</table>\n",
       "</div>"
      ],
      "text/plain": [
       "                                               accts                 date  \\\n",
       "0  ['51640724076_352382007', '51733934061_3470920...  2019-10-11 11:36:04   \n",
       "1                          ['54202385001_052931000']  2019-10-11 11:34:00   \n",
       "2  ['51640724076_352382007', '51733934061_3470920...  2019-10-11 10:34:43   \n",
       "3  ['54977381078_126733008', '54480402023_5265410...  2019-10-10 15:55:06   \n",
       "4                          ['51436492052_684002003']  2019-10-10 15:54:30   \n",
       "5  ['51549893006_482562007', '51874553092_8600420...  2019-10-10 09:43:48   \n",
       "6                          ['51482323003_190712004']  2019-10-09 13:12:03   \n",
       "\n",
       "                              name          user     pw   util  \\\n",
       "0  Hartford Healthcare Corporation   harth-engie  78cck    CLP   \n",
       "1       Protective Armored Systems    usar-engie  m372b  WMECO   \n",
       "2  Hartford Healthcare Corporation   harth-engie  78cck    CLP   \n",
       "3    Berkshire Medical Center Inc.  berkmc-engie  d823k  WMECO   \n",
       "4                 Teds Food Center    teds-engie  tc836    CLP   \n",
       "5          PM Engineered Solutions     pme-engie  p899g    CLP   \n",
       "6                   Bimba Bakeries    bbak-engie  9567c    CLP   \n",
       "\n",
       "                                               files  success  \n",
       "0  eversource_3301aae8-ccc5-444f-b3cc-59871f33639...     True  \n",
       "1  eversource_ea7fc589-6e46-4e50-9311-edcf240ef6e...     True  \n",
       "2  eversource_6a4bf09e-05d0-4650-87d0-e5fc3a8cf58...     True  \n",
       "3  eversource_f77d133b-f6a9-4a30-bd74-6279ceb1b22...     True  \n",
       "4  eversource_e8ccb470-8a69-4927-88ba-8b90a77c250...     True  \n",
       "5  eversource_3cdbbc1e-68ba-48ea-8cbe-b4a77d15d30...     True  \n",
       "6  eversource_368b06a1-eb32-4ab6-a29b-14d1282156c...     True  "
      ]
     },
     "execution_count": 12,
     "metadata": {},
     "output_type": "execute_result"
    }
   ],
   "source": [
    "output_df.to_excel('output_df_10_14_2019.xlsx')\n",
    "output_df"
   ]
  },
  {
   "cell_type": "code",
   "execution_count": 3,
   "metadata": {},
   "outputs": [],
   "source": [
    "output_df = pd.read_excel('output_df_10_14_2019.xlsx')"
   ]
  },
  {
   "cell_type": "markdown",
   "metadata": {},
   "source": [
    "## Filter downloaded files from EPO portal"
   ]
  },
  {
   "cell_type": "markdown",
   "metadata": {},
   "source": [
    "Choose files to split into Raw IDR files."
   ]
  },
  {
   "cell_type": "markdown",
   "metadata": {},
   "source": [
    "## Batch process downloaded EPO files into Raw IDRs"
   ]
  },
  {
   "cell_type": "code",
   "execution_count": 4,
   "metadata": {},
   "outputs": [
    {
     "name": "stdout",
     "output_type": "stream",
     "text": [
      "found 4 accounts.\n",
      "success, file:  eversource_3301aae8-ccc5-444f-b3cc-59871f336398_b0946bc7_hourlycsv.csv\n",
      "found 1 accounts.\n",
      "success, file:  eversource_ea7fc589-6e46-4e50-9311-edcf240ef6eb_ca2a3e3d_hourlycsv.csv\n",
      "found 4 accounts.\n",
      "success, file:  eversource_6a4bf09e-05d0-4650-87d0-e5fc3a8cf588_f174016b_hourlycsv.csv\n",
      "found 4 accounts.\n",
      "success, file:  eversource_f77d133b-f6a9-4a30-bd74-6279ceb1b22e_1588f8ac_hourlycsv.csv\n",
      "found 1 accounts.\n",
      "success, file:  eversource_e8ccb470-8a69-4927-88ba-8b90a77c2507_6ae8ec3c_hourlycsv.csv\n",
      "found 2 accounts.\n",
      "success, file:  eversource_3cdbbc1e-68ba-48ea-8cbe-b4a77d15d30d_ad6531f4_hourlycsv.csv\n",
      "found 1 accounts.\n",
      "success, file:  eversource_368b06a1-eb32-4ab6-a29b-14d1282156c9_0b463bcc_hourlycsv.csv\n",
      "RAW split complete.\n"
     ]
    }
   ],
   "source": [
    "readpath = os.path.join(basepath, 'Downloads')\n",
    "writepath = os.path.join(basepath, 'Raw_IDR')\n",
    "error_log = []\n",
    "\n",
    "for i, file in enumerate(output_df.files):\n",
    "    try:\n",
    "        os.chdir(readpath)\n",
    "        filedf = pd.read_csv(file, sep = \",\", header = 0)\n",
    "        accts = ast.literal_eval(output_df.accts[i])\n",
    "        IDRdrop.raw_split(filedf, readpath, writepath, output_df.util[i], accts)\n",
    "        print('success, file: ', file)\n",
    "        \n",
    "    except:\n",
    "        print('error, file: ', file)\n",
    "        \n",
    "print('RAW split complete.')"
   ]
  },
  {
   "cell_type": "markdown",
   "metadata": {},
   "source": [
    "## Show Raw IDR files based on utility"
   ]
  },
  {
   "cell_type": "markdown",
   "metadata": {},
   "source": [
    "Here *rawpath* is directory containing Raw IDRs - 25 most recent will be shown."
   ]
  },
  {
   "cell_type": "markdown",
   "metadata": {},
   "source": [
    "Choose Raw IDRs to filter into IDR files."
   ]
  },
  {
   "cell_type": "code",
   "execution_count": 5,
   "metadata": {},
   "outputs": [
    {
     "name": "stdout",
     "output_type": "stream",
     "text": [
      "files found in dir:  /Volumes/Samsung_T5/la-tools-test/IDR_Drop/Raw_IDR\n",
      "files to process: \n"
     ]
    },
    {
     "data": {
      "text/plain": [
       "['WMECO_54480402023_526541004_IDR_RAW.csv',\n",
       " 'WMECO_54977381078_126733008_IDR_RAW.csv',\n",
       " 'CLP_51436492052_684002003_IDR_RAW.csv',\n",
       " 'CLP_51549893006_482562007_IDR_RAW.csv',\n",
       " 'CLP_51874553092_860042003_IDR_RAW.csv',\n",
       " 'CLP_51482323003_190712004_IDR_RAW.csv',\n",
       " 'CLP_51640724076_352382007_IDR_RAW.csv',\n",
       " 'CLP_51733934061_347092002_IDR_RAW.csv',\n",
       " 'CLP_51801694019_298103007_IDR_RAW.csv',\n",
       " 'CLP_51970204004_216762005_IDR_RAW.csv',\n",
       " 'WMECO_54202385001_052931000_IDR_RAW.csv',\n",
       " 'WMECO_54010781037_952531008_IDR_RAW.csv',\n",
       " 'WMECO_54364315051_042703006_IDR_RAW.csv']"
      ]
     },
     "execution_count": 5,
     "metadata": {},
     "output_type": "execute_result"
    }
   ],
   "source": [
    "rawfiles = IDRdrop.show_dir(writepath, 25)\n",
    "index = [36]\n",
    "\n",
    "processfiles = list(rawfiles.files[:13])\n",
    "print('files to process: ')\n",
    "processfiles"
   ]
  },
  {
   "cell_type": "markdown",
   "metadata": {},
   "source": [
    "## Batch filter Raw IDR into IDR files to be dropped"
   ]
  },
  {
   "cell_type": "code",
   "execution_count": 7,
   "metadata": {},
   "outputs": [
    {
     "name": "stdout",
     "output_type": "stream",
     "text": [
      "success, file:  WMECO_54480402023_526541004_IDR_RAW.csv\n",
      "overlap removed at 2/6/2019, for file:\n",
      "success, file:  WMECO_54977381078_126733008_IDR_RAW.csv\n",
      "success, file:  CLP_51436492052_684002003_IDR_RAW.csv\n",
      "overlap removed at 2/13/2019, for file:\n",
      "success, file:  CLP_51549893006_482562007_IDR_RAW.csv\n",
      "overlap removed at 6/27/2019, for file:\n",
      "success, file:  CLP_51874553092_860042003_IDR_RAW.csv\n",
      "success, file:  CLP_51482323003_190712004_IDR_RAW.csv\n",
      "overlap removed at 8/10/2019, for file:\n",
      "success, file:  CLP_51640724076_352382007_IDR_RAW.csv\n",
      "success, file:  CLP_51733934061_347092002_IDR_RAW.csv\n",
      "success, file:  CLP_51801694019_298103007_IDR_RAW.csv\n",
      "success, file:  CLP_51970204004_216762005_IDR_RAW.csv\n",
      "success, file:  WMECO_54202385001_052931000_IDR_RAW.csv\n",
      "success, file:  WMECO_54010781037_952531008_IDR_RAW.csv\n",
      "success, file:  WMECO_54364315051_042703006_IDR_RAW.csv\n"
     ]
    }
   ],
   "source": [
    "readpath = os.path.join(basepath, 'Raw_IDR')\n",
    "writepath = os.path.join(basepath, 'IDR')\n",
    "error_log = []\n",
    "\n",
    "for dropfile in processfiles:\n",
    "    try:\n",
    "        IDRdrop.data_drop(dropfile, readpath, writepath)\n",
    "        print('success, file: ', dropfile)\n",
    "    \n",
    "    except:\n",
    "        error_log.append(dropfile)\n",
    "        print(\"error, file: \", dropfile)"
   ]
  },
  {
   "cell_type": "markdown",
   "metadata": {},
   "source": [
    "## Transform vertical data to horizontal"
   ]
  },
  {
   "cell_type": "code",
   "execution_count": 8,
   "metadata": {},
   "outputs": [
    {
     "name": "stdout",
     "output_type": "stream",
     "text": [
      "files found in dir:  /Volumes/Samsung_T5/la-tools-test/IDR_Drop/IDR\n"
     ]
    },
    {
     "data": {
      "text/html": [
       "<div>\n",
       "<style scoped>\n",
       "    .dataframe tbody tr th:only-of-type {\n",
       "        vertical-align: middle;\n",
       "    }\n",
       "\n",
       "    .dataframe tbody tr th {\n",
       "        vertical-align: top;\n",
       "    }\n",
       "\n",
       "    .dataframe thead th {\n",
       "        text-align: right;\n",
       "    }\n",
       "</style>\n",
       "<table border=\"1\" class=\"dataframe\">\n",
       "  <thead>\n",
       "    <tr style=\"text-align: right;\">\n",
       "      <th></th>\n",
       "      <th>files</th>\n",
       "      <th>time</th>\n",
       "    </tr>\n",
       "  </thead>\n",
       "  <tbody>\n",
       "    <tr>\n",
       "      <td>0</td>\n",
       "      <td>CLP_51482323003_190712004_IDR.csv</td>\n",
       "      <td>2019-10-14 23:54:52</td>\n",
       "    </tr>\n",
       "    <tr>\n",
       "      <td>1</td>\n",
       "      <td>CLP_51874553092_860042003_IDR_3.csv</td>\n",
       "      <td>2019-10-14 23:54:52</td>\n",
       "    </tr>\n",
       "    <tr>\n",
       "      <td>2</td>\n",
       "      <td>WMECO_54202385001_052931000_IDR.csv</td>\n",
       "      <td>2019-10-14 23:54:52</td>\n",
       "    </tr>\n",
       "    <tr>\n",
       "      <td>3</td>\n",
       "      <td>CLP_51970204004_216762005_IDR.csv</td>\n",
       "      <td>2019-10-14 23:54:52</td>\n",
       "    </tr>\n",
       "    <tr>\n",
       "      <td>4</td>\n",
       "      <td>CLP_51801694019_298103007_IDR.csv</td>\n",
       "      <td>2019-10-14 23:54:52</td>\n",
       "    </tr>\n",
       "    <tr>\n",
       "      <td>5</td>\n",
       "      <td>CLP_51733934061_347092002_IDR.csv</td>\n",
       "      <td>2019-10-14 23:54:52</td>\n",
       "    </tr>\n",
       "    <tr>\n",
       "      <td>6</td>\n",
       "      <td>CLP_51640724076_352382007_IDR_3.csv</td>\n",
       "      <td>2019-10-14 23:54:52</td>\n",
       "    </tr>\n",
       "    <tr>\n",
       "      <td>7</td>\n",
       "      <td>CLP_51640724076_352382007_IDR.csv</td>\n",
       "      <td>2019-10-14 23:54:52</td>\n",
       "    </tr>\n",
       "    <tr>\n",
       "      <td>8</td>\n",
       "      <td>CLP_51874553092_860042003_IDR.csv</td>\n",
       "      <td>2019-10-14 23:54:52</td>\n",
       "    </tr>\n",
       "    <tr>\n",
       "      <td>9</td>\n",
       "      <td>WMECO_54010781037_952531008_IDR.csv</td>\n",
       "      <td>2019-10-14 23:54:52</td>\n",
       "    </tr>\n",
       "    <tr>\n",
       "      <td>10</td>\n",
       "      <td>CLP_51549893006_482562007_IDR_3.csv</td>\n",
       "      <td>2019-10-14 23:54:52</td>\n",
       "    </tr>\n",
       "    <tr>\n",
       "      <td>11</td>\n",
       "      <td>CLP_51549893006_482562007_IDR.csv</td>\n",
       "      <td>2019-10-14 23:54:52</td>\n",
       "    </tr>\n",
       "    <tr>\n",
       "      <td>12</td>\n",
       "      <td>CLP_51436492052_684002003_IDR.csv</td>\n",
       "      <td>2019-10-14 23:54:52</td>\n",
       "    </tr>\n",
       "    <tr>\n",
       "      <td>13</td>\n",
       "      <td>WMECO_54977381078_126733008_IDR_3.csv</td>\n",
       "      <td>2019-10-14 23:54:52</td>\n",
       "    </tr>\n",
       "    <tr>\n",
       "      <td>14</td>\n",
       "      <td>WMECO_54977381078_126733008_IDR.csv</td>\n",
       "      <td>2019-10-14 23:54:52</td>\n",
       "    </tr>\n",
       "  </tbody>\n",
       "</table>\n",
       "</div>"
      ],
      "text/plain": [
       "                                    files                time\n",
       "0       CLP_51482323003_190712004_IDR.csv 2019-10-14 23:54:52\n",
       "1     CLP_51874553092_860042003_IDR_3.csv 2019-10-14 23:54:52\n",
       "2     WMECO_54202385001_052931000_IDR.csv 2019-10-14 23:54:52\n",
       "3       CLP_51970204004_216762005_IDR.csv 2019-10-14 23:54:52\n",
       "4       CLP_51801694019_298103007_IDR.csv 2019-10-14 23:54:52\n",
       "5       CLP_51733934061_347092002_IDR.csv 2019-10-14 23:54:52\n",
       "6     CLP_51640724076_352382007_IDR_3.csv 2019-10-14 23:54:52\n",
       "7       CLP_51640724076_352382007_IDR.csv 2019-10-14 23:54:52\n",
       "8       CLP_51874553092_860042003_IDR.csv 2019-10-14 23:54:52\n",
       "9     WMECO_54010781037_952531008_IDR.csv 2019-10-14 23:54:52\n",
       "10    CLP_51549893006_482562007_IDR_3.csv 2019-10-14 23:54:52\n",
       "11      CLP_51549893006_482562007_IDR.csv 2019-10-14 23:54:52\n",
       "12      CLP_51436492052_684002003_IDR.csv 2019-10-14 23:54:52\n",
       "13  WMECO_54977381078_126733008_IDR_3.csv 2019-10-14 23:54:52\n",
       "14    WMECO_54977381078_126733008_IDR.csv 2019-10-14 23:54:52"
      ]
     },
     "execution_count": 8,
     "metadata": {},
     "output_type": "execute_result"
    }
   ],
   "source": [
    "idr = IDRdrop.show_dir(writepath, 15)\n",
    "idr"
   ]
  },
  {
   "cell_type": "code",
   "execution_count": 9,
   "metadata": {},
   "outputs": [
    {
     "name": "stdout",
     "output_type": "stream",
     "text": [
      "transformed and wrote CLP_51482323003_190712004_IDR.csv to CLP_51482323003_190712004_IDR_vert.csv.\n",
      "transformed and wrote CLP_51874553092_860042003_IDR_3.csv to CLP_51874553092_860042003_IDR_3_vert.csv.\n",
      "transformed and wrote WMECO_54202385001_052931000_IDR.csv to WMECO_54202385001_052931000_IDR_vert.csv.\n",
      "transformed and wrote CLP_51970204004_216762005_IDR.csv to CLP_51970204004_216762005_IDR_vert.csv.\n",
      "transformed and wrote CLP_51801694019_298103007_IDR.csv to CLP_51801694019_298103007_IDR_vert.csv.\n",
      "transformed and wrote CLP_51733934061_347092002_IDR.csv to CLP_51733934061_347092002_IDR_vert.csv.\n",
      "transformed and wrote CLP_51640724076_352382007_IDR_3.csv to CLP_51640724076_352382007_IDR_3_vert.csv.\n",
      "transformed and wrote CLP_51640724076_352382007_IDR.csv to CLP_51640724076_352382007_IDR_vert.csv.\n",
      "transformed and wrote CLP_51874553092_860042003_IDR.csv to CLP_51874553092_860042003_IDR_vert.csv.\n",
      "transformed and wrote WMECO_54010781037_952531008_IDR.csv to WMECO_54010781037_952531008_IDR_vert.csv.\n",
      "transformed and wrote CLP_51549893006_482562007_IDR_3.csv to CLP_51549893006_482562007_IDR_3_vert.csv.\n",
      "transformed and wrote CLP_51549893006_482562007_IDR.csv to CLP_51549893006_482562007_IDR_vert.csv.\n",
      "transformed and wrote CLP_51436492052_684002003_IDR.csv to CLP_51436492052_684002003_IDR_vert.csv.\n",
      "transformed and wrote WMECO_54977381078_126733008_IDR_3.csv to WMECO_54977381078_126733008_IDR_3_vert.csv.\n",
      "transformed and wrote WMECO_54977381078_126733008_IDR.csv to WMECO_54977381078_126733008_IDR_vert.csv.\n"
     ]
    }
   ],
   "source": [
    "for file in idr.files:\n",
    "    IDRdrop.hor_to_vert(file)"
   ]
  }
 ],
 "metadata": {
  "kernelspec": {
   "display_name": "Python 3",
   "language": "python",
   "name": "python3"
  },
  "language_info": {
   "codemirror_mode": {
    "name": "ipython",
    "version": 3
   },
   "file_extension": ".py",
   "mimetype": "text/x-python",
   "name": "python",
   "nbconvert_exporter": "python",
   "pygments_lexer": "ipython3",
   "version": "3.7.4"
  }
 },
 "nbformat": 4,
 "nbformat_minor": 2
}
