{
 "cells": [
  {
   "cell_type": "markdown",
   "metadata": {},
   "source": [
    "# NEPOOL IDR Drop"
   ]
  },
  {
   "cell_type": "markdown",
   "metadata": {},
   "source": [
    "Batches tasks for NEPOOL IDR Drop."
   ]
  },
  {
   "cell_type": "code",
   "execution_count": 1,
   "metadata": {},
   "outputs": [
    {
     "name": "stdout",
     "output_type": "stream",
     "text": [
      "working in directory /home/jupyter-engiela/la-tools-test/IDR_Drop/.\n"
     ]
    }
   ],
   "source": [
    "import os\n",
    "basepath = '/home/jupyter-engiela/la-tools-test/IDR_Drop/'\n",
    "os.chdir(basepath)\n",
    "print('working in directory {}.'.format(basepath))\n",
    "\n",
    "from bs4 import BeautifulSoup\n",
    "from selenium.webdriver import Chrome\n",
    "from selenium.webdriver.chrome.options import Options\n",
    "import selenium.webdriver.support.ui as ui\n",
    "from selenium.webdriver.common.keys import Keys\n",
    "import selenium.webdriver as webdriver\n",
    "from pandas.io.json import json_normalize\n",
    "import datetime as dt\n",
    "import pandas as pd\n",
    "import numpy as np\n",
    "import IDRdrop\n",
    "import EPOwebscrape\n",
    "#import emailscrape\n",
    "import json\n",
    "import math\n",
    "import time\n",
    "import ast"
   ]
  },
  {
   "cell_type": "markdown",
   "metadata": {},
   "source": [
    "## Read Excel file"
   ]
  },
  {
   "cell_type": "code",
   "execution_count": 5,
   "metadata": {},
   "outputs": [
    {
     "data": {
      "text/html": [
       "<div>\n",
       "<style scoped>\n",
       "    .dataframe tbody tr th:only-of-type {\n",
       "        vertical-align: middle;\n",
       "    }\n",
       "\n",
       "    .dataframe tbody tr th {\n",
       "        vertical-align: top;\n",
       "    }\n",
       "\n",
       "    .dataframe thead th {\n",
       "        text-align: right;\n",
       "    }\n",
       "</style>\n",
       "<table border=\"1\" class=\"dataframe\">\n",
       "  <thead>\n",
       "    <tr style=\"text-align: right;\">\n",
       "      <th></th>\n",
       "      <th>accts</th>\n",
       "      <th>date</th>\n",
       "      <th>name</th>\n",
       "      <th>pw</th>\n",
       "      <th>user</th>\n",
       "      <th>util</th>\n",
       "    </tr>\n",
       "  </thead>\n",
       "  <tbody>\n",
       "    <tr>\n",
       "      <td>0</td>\n",
       "      <td>['800044402', '800513801']</td>\n",
       "      <td>2019-10-15 09:19:16</td>\n",
       "      <td>KEARSARGE SCHOOLS</td>\n",
       "      <td>45me73</td>\n",
       "      <td>nhengi-sarg1n</td>\n",
       "      <td>PSNH</td>\n",
       "    </tr>\n",
       "    <tr>\n",
       "      <td>1</td>\n",
       "      <td>['800433701']</td>\n",
       "      <td>2019-10-15 09:18:33</td>\n",
       "      <td>HUTCHINSON SEALING</td>\n",
       "      <td>25mh93</td>\n",
       "      <td>nhengi-hutc3n</td>\n",
       "      <td>PSNH</td>\n",
       "    </tr>\n",
       "    <tr>\n",
       "      <td>2</td>\n",
       "      <td>['800522301']</td>\n",
       "      <td>2019-09-27 14:03:11</td>\n",
       "      <td>SPECTRUM MONTHLY INC</td>\n",
       "      <td>86km3h</td>\n",
       "      <td>nhengi-spec2n</td>\n",
       "      <td>PSNH</td>\n",
       "    </tr>\n",
       "    <tr>\n",
       "      <td>3</td>\n",
       "      <td>['800036301', '800036303', '800036304', '80003...</td>\n",
       "      <td>2019-05-10 10:26:20</td>\n",
       "      <td>LONDONDERRY SCHOOL DIST</td>\n",
       "      <td>6s4c5w</td>\n",
       "      <td>nhengi-lond3n</td>\n",
       "      <td>PSNH</td>\n",
       "    </tr>\n",
       "    <tr>\n",
       "      <td>4</td>\n",
       "      <td>['51427532015_392561006']</td>\n",
       "      <td>2019-03-19 10:23:20</td>\n",
       "      <td>Manchester Packing Co.</td>\n",
       "      <td>8787er</td>\n",
       "      <td>mpack-engie</td>\n",
       "      <td>CLP</td>\n",
       "    </tr>\n",
       "    <tr>\n",
       "      <td>...</td>\n",
       "      <td>...</td>\n",
       "      <td>...</td>\n",
       "      <td>...</td>\n",
       "      <td>...</td>\n",
       "      <td>...</td>\n",
       "      <td>...</td>\n",
       "    </tr>\n",
       "    <tr>\n",
       "      <td>1450</td>\n",
       "      <td>['51340765023_302423001']</td>\n",
       "      <td>2019-03-15 07:34:59</td>\n",
       "      <td>Pepperidge Farm Inc</td>\n",
       "      <td>7873d</td>\n",
       "      <td>pepper2-engie</td>\n",
       "      <td>CLP</td>\n",
       "    </tr>\n",
       "    <tr>\n",
       "      <td>1451</td>\n",
       "      <td>['51088622097_060951008']</td>\n",
       "      <td>2019-03-15 07:36:35</td>\n",
       "      <td>Mandell Jewish Comm Ctr</td>\n",
       "      <td>93662</td>\n",
       "      <td>hjewc-engie</td>\n",
       "      <td>CLP</td>\n",
       "    </tr>\n",
       "    <tr>\n",
       "      <td>1452</td>\n",
       "      <td>['51648382067_713291008']</td>\n",
       "      <td>2019-03-15 13:33:22</td>\n",
       "      <td>Westbrook Concrete Block</td>\n",
       "      <td>ew5995</td>\n",
       "      <td>wcon-engie</td>\n",
       "      <td>CLP</td>\n",
       "    </tr>\n",
       "    <tr>\n",
       "      <td>1453</td>\n",
       "      <td>['51088622097_060951008']</td>\n",
       "      <td>2019-03-18 09:55:51</td>\n",
       "      <td>Mandell Jewish Comm Ctr</td>\n",
       "      <td>93662</td>\n",
       "      <td>hjewc-engie</td>\n",
       "      <td>CLP</td>\n",
       "    </tr>\n",
       "    <tr>\n",
       "      <td>1454</td>\n",
       "      <td>['26491811001', '26666901009', '26493261007']</td>\n",
       "      <td>2019-03-18 11:40:56</td>\n",
       "      <td>BOSTON MEDICAL CENTER</td>\n",
       "      <td>4343sx</td>\n",
       "      <td>bmc-nengie</td>\n",
       "      <td>NSTAR</td>\n",
       "    </tr>\n",
       "  </tbody>\n",
       "</table>\n",
       "<p>1455 rows × 6 columns</p>\n",
       "</div>"
      ],
      "text/plain": [
       "                                                  accts                date  \\\n",
       "0                            ['800044402', '800513801'] 2019-10-15 09:19:16   \n",
       "1                                         ['800433701'] 2019-10-15 09:18:33   \n",
       "2                                         ['800522301'] 2019-09-27 14:03:11   \n",
       "3     ['800036301', '800036303', '800036304', '80003... 2019-05-10 10:26:20   \n",
       "4                             ['51427532015_392561006'] 2019-03-19 10:23:20   \n",
       "...                                                 ...                 ...   \n",
       "1450                          ['51340765023_302423001'] 2019-03-15 07:34:59   \n",
       "1451                          ['51088622097_060951008'] 2019-03-15 07:36:35   \n",
       "1452                          ['51648382067_713291008'] 2019-03-15 13:33:22   \n",
       "1453                          ['51088622097_060951008'] 2019-03-18 09:55:51   \n",
       "1454      ['26491811001', '26666901009', '26493261007'] 2019-03-18 11:40:56   \n",
       "\n",
       "                          name      pw           user   util  \n",
       "0            KEARSARGE SCHOOLS  45me73  nhengi-sarg1n   PSNH  \n",
       "1           HUTCHINSON SEALING  25mh93  nhengi-hutc3n   PSNH  \n",
       "2         SPECTRUM MONTHLY INC  86km3h  nhengi-spec2n   PSNH  \n",
       "3      LONDONDERRY SCHOOL DIST  6s4c5w  nhengi-lond3n   PSNH  \n",
       "4       Manchester Packing Co.  8787er    mpack-engie    CLP  \n",
       "...                        ...     ...            ...    ...  \n",
       "1450       Pepperidge Farm Inc   7873d  pepper2-engie    CLP  \n",
       "1451   Mandell Jewish Comm Ctr   93662    hjewc-engie    CLP  \n",
       "1452  Westbrook Concrete Block  ew5995     wcon-engie    CLP  \n",
       "1453   Mandell Jewish Comm Ctr   93662    hjewc-engie    CLP  \n",
       "1454     BOSTON MEDICAL CENTER  4343sx     bmc-nengie  NSTAR  \n",
       "\n",
       "[1455 rows x 6 columns]"
      ]
     },
     "execution_count": 5,
     "metadata": {},
     "output_type": "execute_result"
    }
   ],
   "source": [
    "os.chdir(os.path.join(basepath, 'Logins'))\n",
    "\n",
    "good = pd.read_excel('email_logins.xlsx')\n",
    "good.drop(['Unnamed: 0'], axis = 1, inplace = True)\n",
    "good"
   ]
  },
  {
   "cell_type": "code",
   "execution_count": 14,
   "metadata": {},
   "outputs": [
    {
     "name": "stderr",
     "output_type": "stream",
     "text": [
      "/opt/tljh/user/lib/python3.6/site-packages/ipykernel_launcher.py:2: SettingWithCopyWarning: \n",
      "A value is trying to be set on a copy of a slice from a DataFrame.\n",
      "Try using .loc[row_indexer,col_indexer] = value instead\n",
      "\n",
      "See the caveats in the documentation: http://pandas.pydata.org/pandas-docs/stable/user_guide/indexing.html#returning-a-view-versus-a-copy\n",
      "  \n"
     ]
    },
    {
     "data": {
      "text/html": [
       "<div>\n",
       "<style scoped>\n",
       "    .dataframe tbody tr th:only-of-type {\n",
       "        vertical-align: middle;\n",
       "    }\n",
       "\n",
       "    .dataframe tbody tr th {\n",
       "        vertical-align: top;\n",
       "    }\n",
       "\n",
       "    .dataframe thead th {\n",
       "        text-align: right;\n",
       "    }\n",
       "</style>\n",
       "<table border=\"1\" class=\"dataframe\">\n",
       "  <thead>\n",
       "    <tr style=\"text-align: right;\">\n",
       "      <th></th>\n",
       "      <th>accts</th>\n",
       "      <th>date</th>\n",
       "      <th>name</th>\n",
       "      <th>pw</th>\n",
       "      <th>user</th>\n",
       "      <th>util</th>\n",
       "    </tr>\n",
       "  </thead>\n",
       "  <tbody>\n",
       "    <tr>\n",
       "      <td>0</td>\n",
       "      <td>[800044402, 800513801]</td>\n",
       "      <td>2019-10-15 09:19:16</td>\n",
       "      <td>KEARSARGE SCHOOLS</td>\n",
       "      <td>45me73</td>\n",
       "      <td>nhengi-sarg1n</td>\n",
       "      <td>PSNH</td>\n",
       "    </tr>\n",
       "    <tr>\n",
       "      <td>1</td>\n",
       "      <td>[800433701]</td>\n",
       "      <td>2019-10-15 09:18:33</td>\n",
       "      <td>HUTCHINSON SEALING</td>\n",
       "      <td>25mh93</td>\n",
       "      <td>nhengi-hutc3n</td>\n",
       "      <td>PSNH</td>\n",
       "    </tr>\n",
       "    <tr>\n",
       "      <td>2</td>\n",
       "      <td>[800087504]</td>\n",
       "      <td>2019-10-15 09:13:02</td>\n",
       "      <td>NATIONAL GRANGE MUTUAL IN</td>\n",
       "      <td>w5m5w3</td>\n",
       "      <td>nhengi-nati8n</td>\n",
       "      <td>PSNH</td>\n",
       "    </tr>\n",
       "    <tr>\n",
       "      <td>3</td>\n",
       "      <td>[51040332041_613261002, 51036842094_893271005,...</td>\n",
       "      <td>2019-10-15 14:34:25</td>\n",
       "      <td>Illinois Tool Works Inc.</td>\n",
       "      <td>xt386</td>\n",
       "      <td>itool-engie</td>\n",
       "      <td>CLP</td>\n",
       "    </tr>\n",
       "    <tr>\n",
       "      <td>4</td>\n",
       "      <td>[26389111001]</td>\n",
       "      <td>2019-10-15 09:12:48</td>\n",
       "      <td>AEA TECH</td>\n",
       "      <td>rtg291</td>\n",
       "      <td>aea-nengie</td>\n",
       "      <td>NSTAR</td>\n",
       "    </tr>\n",
       "  </tbody>\n",
       "</table>\n",
       "</div>"
      ],
      "text/plain": [
       "                                               accts                date  \\\n",
       "0                             [800044402, 800513801] 2019-10-15 09:19:16   \n",
       "1                                        [800433701] 2019-10-15 09:18:33   \n",
       "2                                        [800087504] 2019-10-15 09:13:02   \n",
       "3  [51040332041_613261002, 51036842094_893271005,... 2019-10-15 14:34:25   \n",
       "4                                      [26389111001] 2019-10-15 09:12:48   \n",
       "\n",
       "                        name      pw           user   util  \n",
       "0          KEARSARGE SCHOOLS  45me73  nhengi-sarg1n   PSNH  \n",
       "1         HUTCHINSON SEALING  25mh93  nhengi-hutc3n   PSNH  \n",
       "2  NATIONAL GRANGE MUTUAL IN  w5m5w3  nhengi-nati8n   PSNH  \n",
       "3   Illinois Tool Works Inc.   xt386    itool-engie    CLP  \n",
       "4                   AEA TECH  rtg291     aea-nengie  NSTAR  "
      ]
     },
     "execution_count": 14,
     "metadata": {},
     "output_type": "execute_result"
    }
   ],
   "source": [
    "output_df = EPOwebscrape.past_days(good, 7)\n",
    "output_df['accts'] = [ast.literal_eval(a) for a in output_df['accts']]\n",
    "output_df"
   ]
  },
  {
   "cell_type": "markdown",
   "metadata": {},
   "source": [
    "## Filter downloaded files from EPO portal"
   ]
  },
  {
   "cell_type": "code",
   "execution_count": 15,
   "metadata": {},
   "outputs": [
    {
     "name": "stdout",
     "output_type": "stream",
     "text": [
      "user:  nhengi-sarg1n\n",
      "password:  45me73\n",
      "set to last  400  days.\n",
      "logging on...\n",
      "looking for 2 accts.\n",
      "found items in portal.\n",
      "trying search & download...\n",
      "\n",
      "error, accts ['800044402', '800513801'].\n",
      "done with 1 of 5.\n",
      "---------------------------\n",
      "user:  nhengi-hutc3n\n",
      "password:  25mh93\n",
      "set to last  400  days.\n",
      "logging on...\n",
      "looking for 1 accts.\n",
      "found items in portal.\n",
      "trying search & download...\n",
      "\n",
      "error, accts ['800433701'].\n",
      "done with 2 of 5.\n",
      "---------------------------\n",
      "user:  nhengi-nati8n\n",
      "password:  w5m5w3\n",
      "set to last  400  days.\n",
      "logging on...\n",
      "looking for 1 accts.\n",
      "found items in portal.\n",
      "trying search & download...\n",
      "\n",
      "error, accts ['800087504'].\n",
      "done with 3 of 5.\n",
      "---------------------------\n",
      "user:  itool-engie\n",
      "password:  xt386\n",
      "set to last  400  days.\n",
      "logging on...\n",
      "looking for 6 accts.\n",
      "found items in portal.\n",
      "trying search & download...\n",
      "\n",
      "submitting...\n",
      "error, accts ['51040332041_613261002', '51036842094_893271005', '51577842016_080271007', '51074553058_495932009', '51884534009_126882000', '51003193018_182162009'].\n",
      "done with 4 of 5.\n",
      "---------------------------\n",
      "user:  aea-nengie\n",
      "password:  rtg291\n",
      "set to last  400  days.\n",
      "logging on...\n",
      "looking for 1 accts.\n",
      "found items in portal.\n",
      "trying search & download...\n",
      "\n",
      "submitting...\n",
      "downloaded EPO data file eversource_f01ff81e-22f6-4166-93d4-f0d82144fb51_a62d92b3_hourlycsv.csv.\n",
      "done with 5 of 5.\n",
      "---------------------------\n",
      "downloaded 5 files in 60.49 seconds.\n"
     ]
    },
    {
     "name": "stderr",
     "output_type": "stream",
     "text": [
      "/opt/tljh/user/lib/python3.6/site-packages/ipykernel_launcher.py:22: SettingWithCopyWarning: \n",
      "A value is trying to be set on a copy of a slice from a DataFrame.\n",
      "Try using .loc[row_indexer,col_indexer] = value instead\n",
      "\n",
      "See the caveats in the documentation: http://pandas.pydata.org/pandas-docs/stable/user_guide/indexing.html#returning-a-view-versus-a-copy\n",
      "/opt/tljh/user/lib/python3.6/site-packages/ipykernel_launcher.py:23: SettingWithCopyWarning: \n",
      "A value is trying to be set on a copy of a slice from a DataFrame.\n",
      "Try using .loc[row_indexer,col_indexer] = value instead\n",
      "\n",
      "See the caveats in the documentation: http://pandas.pydata.org/pandas-docs/stable/user_guide/indexing.html#returning-a-view-versus-a-copy\n"
     ]
    }
   ],
   "source": [
    "results = []\n",
    "files = []\n",
    "beg = time.time()\n",
    "\n",
    "for row in range(0, len(output_df.accts)):\n",
    "    try:\n",
    "        file = EPOwebscrape.idr_download(row, output_df)\n",
    "        files.append(file)\n",
    "        results.append(True)\n",
    "        print('done with {} of {}.'.format(row+1, len(output_df.accts)))\n",
    "        print('---------------------------')\n",
    "    except:\n",
    "        print('error, accts {}.'.format(output_df.accts[row]))\n",
    "        files.append(None)\n",
    "        results.append(False)\n",
    "        print('done with {} of {}.'.format(row+1, len(output_df.accts)))\n",
    "        print('---------------------------')\n",
    "\n",
    "end = time.time()\n",
    "elapse = round(end - beg, 2)\n",
    "print('downloaded {} files in {} seconds.'.format(len(output_df.accts), elapse))\n",
    "output_df['files'] = files\n",
    "output_df['success'] = results"
   ]
  },
  {
   "cell_type": "markdown",
   "metadata": {},
   "source": [
    "## Show downloaded files from EPO portal"
   ]
  },
  {
   "cell_type": "code",
   "execution_count": 13,
   "metadata": {},
   "outputs": [],
   "source": [
    "output_df.to_excel('output_df_results.xlsx')\n",
    "#output_df = pd.read_excel('output_df_results.xlsx')"
   ]
  },
  {
   "cell_type": "code",
   "execution_count": 61,
   "metadata": {},
   "outputs": [
    {
     "data": {
      "text/html": [
       "<div>\n",
       "<style scoped>\n",
       "    .dataframe tbody tr th:only-of-type {\n",
       "        vertical-align: middle;\n",
       "    }\n",
       "\n",
       "    .dataframe tbody tr th {\n",
       "        vertical-align: top;\n",
       "    }\n",
       "\n",
       "    .dataframe thead th {\n",
       "        text-align: right;\n",
       "    }\n",
       "</style>\n",
       "<table border=\"1\" class=\"dataframe\">\n",
       "  <thead>\n",
       "    <tr style=\"text-align: right;\">\n",
       "      <th></th>\n",
       "      <th>accts</th>\n",
       "      <th>date</th>\n",
       "      <th>name</th>\n",
       "      <th>user</th>\n",
       "      <th>pw</th>\n",
       "      <th>util</th>\n",
       "      <th>files</th>\n",
       "      <th>success</th>\n",
       "    </tr>\n",
       "  </thead>\n",
       "  <tbody>\n",
       "    <tr>\n",
       "      <td>0</td>\n",
       "      <td>[51640724076_352382007, 51733934061_347092002,...</td>\n",
       "      <td>2019-10-11 11:36:04</td>\n",
       "      <td>Hartford Healthcare Corporation</td>\n",
       "      <td>harth-engie</td>\n",
       "      <td>78cck</td>\n",
       "      <td>CLP</td>\n",
       "      <td>eversource_2e9c6407-b7f6-4476-9e01-1aa665e843b...</td>\n",
       "      <td>True</td>\n",
       "    </tr>\n",
       "    <tr>\n",
       "      <td>1</td>\n",
       "      <td>[51640724076_352382007, 51733934061_347092002,...</td>\n",
       "      <td>2019-10-11 10:34:43</td>\n",
       "      <td>Hartford Healthcare Corporation</td>\n",
       "      <td>harth-engie</td>\n",
       "      <td>78cck</td>\n",
       "      <td>CLP</td>\n",
       "      <td>eversource_81dc93e5-6fb1-4e33-b189-1e1dd5bc95e...</td>\n",
       "      <td>True</td>\n",
       "    </tr>\n",
       "  </tbody>\n",
       "</table>\n",
       "</div>"
      ],
      "text/plain": [
       "                                               accts                date  \\\n",
       "0  [51640724076_352382007, 51733934061_347092002,... 2019-10-11 11:36:04   \n",
       "1  [51640724076_352382007, 51733934061_347092002,... 2019-10-11 10:34:43   \n",
       "\n",
       "                              name         user     pw util  \\\n",
       "0  Hartford Healthcare Corporation  harth-engie  78cck  CLP   \n",
       "1  Hartford Healthcare Corporation  harth-engie  78cck  CLP   \n",
       "\n",
       "                                               files  success  \n",
       "0  eversource_2e9c6407-b7f6-4476-9e01-1aa665e843b...     True  \n",
       "1  eversource_81dc93e5-6fb1-4e33-b189-1e1dd5bc95e...     True  "
      ]
     },
     "execution_count": 61,
     "metadata": {},
     "output_type": "execute_result"
    }
   ],
   "source": [
    "output_df"
   ]
  },
  {
   "cell_type": "markdown",
   "metadata": {},
   "source": [
    "Choose files to split into Raw IDR files."
   ]
  },
  {
   "cell_type": "markdown",
   "metadata": {},
   "source": [
    "## Batch process downloaded EPO files into Raw IDRs"
   ]
  },
  {
   "cell_type": "code",
   "execution_count": 64,
   "metadata": {},
   "outputs": [
    {
     "name": "stdout",
     "output_type": "stream",
     "text": [
      "found 4 accounts.\n",
      "CLP_51640724076_352382007_IDR_RAW.csv  written.\n",
      "CLP_51733934061_347092002_IDR_RAW.csv  written.\n",
      "CLP_51801694019_298103007_IDR_RAW.csv  written.\n",
      "CLP_51970204004_216762005_IDR_RAW.csv  written.\n",
      "success, file: eversource_2e9c6407-b7f6-4476-9e01-1aa665e843b5_600a1380_hourlycsv.csv\n",
      "found 4 accounts.\n",
      "success, file: eversource_81dc93e5-6fb1-4e33-b189-1e1dd5bc95e1_b4b7780f_hourlycsv.csv\n"
     ]
    }
   ],
   "source": [
    "readpath = os.path.join(basepath, 'Downloads')\n",
    "writepath = os.path.join(basepath, 'Raw_IDR')\n",
    "error_log = []\n",
    "\n",
    "for i, file in enumerate(output_df.files):\n",
    "    try:\n",
    "        if file:\n",
    "            os.chdir(readpath)\n",
    "            filedf = pd.read_csv(file, sep = \",\", header = 0)\n",
    "        \n",
    "            IDRdrop.raw_split(filedf, readpath, writepath, output_df.util[i], output_df.accts[i])\n",
    "            print('success, file: {}'.format(file))\n",
    "            \n",
    "    except:\n",
    "        print('error, file: {}.'.format(file))"
   ]
  },
  {
   "cell_type": "markdown",
   "metadata": {},
   "source": [
    "## Show Raw IDR files based on utility"
   ]
  },
  {
   "cell_type": "markdown",
   "metadata": {},
   "source": [
    "Here *rawpath* is directory containing Raw IDRs - 25 most recent will be shown."
   ]
  },
  {
   "cell_type": "code",
   "execution_count": 63,
   "metadata": {},
   "outputs": [
    {
     "name": "stdout",
     "output_type": "stream",
     "text": [
      "files found in dir:  /home/jupyter-engiela/la-tools-test/IDR_Drop/Raw_IDR\n",
      "                                      files                time\n",
      "0   WMECO_54977381078_126733008_IDR_RAW.csv 2019-10-15 14:11:16\n",
      "1     CLP_51482323003_190712004_IDR_RAW.csv 2019-10-15 14:11:16\n",
      "2   WMECO_54202385001_052931000_IDR_RAW.csv 2019-10-15 14:11:16\n",
      "3   WMECO_54364315051_042703006_IDR_RAW.csv 2019-10-15 14:11:16\n",
      "4   WMECO_54010781037_952531008_IDR_RAW.csv 2019-10-15 14:11:16\n",
      "5     CLP_51874553092_860042003_IDR_RAW.csv 2019-10-15 14:11:16\n",
      "6   WMECO_54480402023_526541004_IDR_RAW.csv 2019-10-15 14:11:16\n",
      "7     CLP_51549893006_482562007_IDR_RAW.csv 2019-10-15 14:11:16\n",
      "8     CLP_51436492052_684002003_IDR_RAW.csv 2019-10-15 14:11:16\n",
      "9     CLP_51801694019_298103007_IDR_RAW.csv 2019-10-15 14:11:15\n",
      "10    CLP_51970204004_216762005_IDR_RAW.csv 2019-10-15 14:11:15\n",
      "11    CLP_51640724076_352382007_IDR_RAW.csv 2019-10-15 14:11:15\n",
      "12    CLP_51733934061_347092002_IDR_RAW.csv 2019-10-15 14:11:15\n",
      "13                       .ipynb_checkpoints 2019-09-01 21:32:21\n"
     ]
    }
   ],
   "source": [
    "rawfiles = IDRdrop.show_dir(writepath, 25)\n",
    "print(rawfiles)"
   ]
  },
  {
   "cell_type": "code",
   "execution_count": 32,
   "metadata": {},
   "outputs": [
    {
     "name": "stdout",
     "output_type": "stream",
     "text": [
      "files to processed: \n"
     ]
    },
    {
     "data": {
      "text/plain": [
       "['WMECO_54977381078_126733008_IDR_RAW.csv',\n",
       " 'CLP_51482323003_190712004_IDR_RAW.csv',\n",
       " 'WMECO_54202385001_052931000_IDR_RAW.csv',\n",
       " 'WMECO_54364315051_042703006_IDR_RAW.csv',\n",
       " 'WMECO_54010781037_952531008_IDR_RAW.csv',\n",
       " 'CLP_51874553092_860042003_IDR_RAW.csv',\n",
       " 'WMECO_54480402023_526541004_IDR_RAW.csv',\n",
       " 'CLP_51549893006_482562007_IDR_RAW.csv',\n",
       " 'CLP_51436492052_684002003_IDR_RAW.csv',\n",
       " 'CLP_51801694019_298103007_IDR_RAW.csv',\n",
       " 'CLP_51970204004_216762005_IDR_RAW.csv',\n",
       " 'CLP_51640724076_352382007_IDR_RAW.csv',\n",
       " 'CLP_51733934061_347092002_IDR_RAW.csv']"
      ]
     },
     "execution_count": 32,
     "metadata": {},
     "output_type": "execute_result"
    }
   ],
   "source": [
    "index = [36]\n",
    "\n",
    "processfiles = list(rawfiles.files[:13])\n",
    "print('files to processed: ')\n",
    "processfiles"
   ]
  },
  {
   "cell_type": "markdown",
   "metadata": {},
   "source": [
    "## Batch filter Raw IDR into IDR files to be dropped"
   ]
  },
  {
   "cell_type": "code",
   "execution_count": 33,
   "metadata": {},
   "outputs": [
    {
     "name": "stdout",
     "output_type": "stream",
     "text": [
      "overlap removed at 2/6/2019, for file:\n",
      "success, file:  WMECO_54977381078_126733008_IDR_RAW.csv\n",
      "success, file:  CLP_51482323003_190712004_IDR_RAW.csv\n",
      "success, file:  WMECO_54202385001_052931000_IDR_RAW.csv\n",
      "success, file:  WMECO_54364315051_042703006_IDR_RAW.csv\n",
      "success, file:  WMECO_54010781037_952531008_IDR_RAW.csv\n",
      "overlap removed at 6/27/2019, for file:\n",
      "success, file:  CLP_51874553092_860042003_IDR_RAW.csv\n",
      "success, file:  WMECO_54480402023_526541004_IDR_RAW.csv\n",
      "overlap removed at 2/13/2019, for file:\n",
      "success, file:  CLP_51549893006_482562007_IDR_RAW.csv\n",
      "success, file:  CLP_51436492052_684002003_IDR_RAW.csv\n",
      "success, file:  CLP_51801694019_298103007_IDR_RAW.csv\n",
      "success, file:  CLP_51970204004_216762005_IDR_RAW.csv\n",
      "overlap removed at 8/10/2019, for file:\n",
      "success, file:  CLP_51640724076_352382007_IDR_RAW.csv\n",
      "success, file:  CLP_51733934061_347092002_IDR_RAW.csv\n"
     ]
    }
   ],
   "source": [
    "readpath = os.path.join(basepath, 'Raw_IDR')\n",
    "writepath = os.path.join(basepath, 'IDR')\n",
    "error_log = []\n",
    "\n",
    "for dropfile in processfiles:\n",
    "    try:\n",
    "        IDRdrop.data_drop(dropfile, readpath, writepath)\n",
    "        print('success, file: ', dropfile)\n",
    "    \n",
    "    except:\n",
    "        error_log.append(dropfile)\n",
    "        print(\"error, file: \", dropfile)"
   ]
  },
  {
   "cell_type": "markdown",
   "metadata": {},
   "source": [
    "## Turn Horizontal to Vertical"
   ]
  },
  {
   "cell_type": "code",
   "execution_count": 40,
   "metadata": {},
   "outputs": [
    {
     "name": "stdout",
     "output_type": "stream",
     "text": [
      "files found in dir:  /home/jupyter-engiela/la-tools-test/IDR_Drop/IDR\n"
     ]
    }
   ],
   "source": [
    "idr = IDRdrop.show_dir(writepath, 30)"
   ]
  },
  {
   "cell_type": "code",
   "execution_count": 49,
   "metadata": {},
   "outputs": [
    {
     "name": "stdout",
     "output_type": "stream",
     "text": [
      "working with: \n"
     ]
    },
    {
     "data": {
      "text/plain": [
       "['WMECO_54364315051_042703006_IDR_vert.csv',\n",
       " 'CLP_51640724076_352382007_IDR_3_vert.csv',\n",
       " 'CLP_51733934061_347092002_IDR_vert.csv',\n",
       " 'CLP_51549893006_482562007_IDR_vert.csv',\n",
       " 'CLP_51436492052_684002003_IDR_vert.csv',\n",
       " 'WMECO_54202385001_052931000_IDR_vert.csv',\n",
       " 'CLP_51482323003_190712004_IDR_vert.csv',\n",
       " 'CLP_51549893006_482562007_IDR_3_vert.csv',\n",
       " 'WMECO_54977381078_126733008_IDR_vert.csv',\n",
       " 'CLP_51874553092_860042003_IDR_3_vert.csv',\n",
       " 'WMECO_54010781037_952531008_IDR_vert.csv',\n",
       " 'CLP_51801694019_298103007_IDR_vert.csv',\n",
       " 'CLP_51874553092_860042003_IDR_vert.csv',\n",
       " 'CLP_51970204004_216762005_IDR.csv',\n",
       " 'WMECO_54010781037_952531008_IDR.csv',\n",
       " 'CLP_51874553092_860042003_IDR_3.csv',\n",
       " 'WMECO_54977381078_126733008_IDR.csv',\n",
       " 'CLP_51874553092_860042003_IDR.csv',\n",
       " 'CLP_51549893006_482562007_IDR_3.csv',\n",
       " 'CLP_51801694019_298103007_IDR.csv',\n",
       " 'WMECO_54202385001_052931000_IDR.csv',\n",
       " 'CLP_51436492052_684002003_IDR.csv',\n",
       " 'CLP_51549893006_482562007_IDR.csv',\n",
       " 'CLP_51733934061_347092002_IDR.csv',\n",
       " 'CLP_51640724076_352382007_IDR_3.csv',\n",
       " 'WMECO_54364315051_042703006_IDR.csv',\n",
       " 'WMECO_54480402023_526541004_IDR.csv',\n",
       " 'CLP_51640724076_352382007_IDR.csv',\n",
       " 'WMECO_54977381078_126733008_IDR_3.csv',\n",
       " 'CLP_51482323003_190712004_IDR.csv']"
      ]
     },
     "execution_count": 49,
     "metadata": {},
     "output_type": "execute_result"
    }
   ],
   "source": [
    "vert_files = list(idr.files)\n",
    "print('working with: ')\n",
    "vert_files"
   ]
  },
  {
   "cell_type": "code",
   "execution_count": 46,
   "metadata": {},
   "outputs": [
    {
     "ename": "FileNotFoundError",
     "evalue": "[Errno 2] File b'4' does not exist: b'4'",
     "output_type": "error",
     "traceback": [
      "\u001b[0;31m---------------------------------------------------------------------------\u001b[0m",
      "\u001b[0;31mFileNotFoundError\u001b[0m                         Traceback (most recent call last)",
      "\u001b[0;32m<ipython-input-46-7cbf78223d94>\u001b[0m in \u001b[0;36m<module>\u001b[0;34m\u001b[0m\n\u001b[1;32m      1\u001b[0m \u001b[0;32mfor\u001b[0m \u001b[0mv\u001b[0m \u001b[0;32min\u001b[0m \u001b[0mvert_files\u001b[0m\u001b[0;34m:\u001b[0m\u001b[0;34m\u001b[0m\u001b[0;34m\u001b[0m\u001b[0m\n\u001b[0;32m----> 2\u001b[0;31m     \u001b[0mIDRdrop\u001b[0m\u001b[0;34m.\u001b[0m\u001b[0mhor_to_vert\u001b[0m\u001b[0;34m(\u001b[0m\u001b[0mv\u001b[0m\u001b[0;34m)\u001b[0m\u001b[0;34m\u001b[0m\u001b[0;34m\u001b[0m\u001b[0m\n\u001b[0m",
      "\u001b[0;32m~/la-tools-test/IDR_Drop/IDRdrop.py\u001b[0m in \u001b[0;36mhor_to_vert\u001b[0;34m(file)\u001b[0m\n\u001b[1;32m    195\u001b[0m \u001b[0;32mdef\u001b[0m \u001b[0mhor_to_vert\u001b[0m\u001b[0;34m(\u001b[0m\u001b[0mfile\u001b[0m\u001b[0;34m)\u001b[0m\u001b[0;34m:\u001b[0m\u001b[0;34m\u001b[0m\u001b[0;34m\u001b[0m\u001b[0m\n\u001b[1;32m    196\u001b[0m \u001b[0;34m\u001b[0m\u001b[0m\n\u001b[0;32m--> 197\u001b[0;31m     \u001b[0mf\u001b[0m \u001b[0;34m=\u001b[0m \u001b[0mpd\u001b[0m\u001b[0;34m.\u001b[0m\u001b[0mread_csv\u001b[0m\u001b[0;34m(\u001b[0m\u001b[0mfile\u001b[0m\u001b[0;34m)\u001b[0m\u001b[0;34m\u001b[0m\u001b[0;34m\u001b[0m\u001b[0m\n\u001b[0m\u001b[1;32m    198\u001b[0m     \u001b[0mhrs\u001b[0m \u001b[0;34m=\u001b[0m \u001b[0mf\u001b[0m\u001b[0;34m.\u001b[0m\u001b[0mcolumns\u001b[0m\u001b[0;34m[\u001b[0m\u001b[0;36m4\u001b[0m\u001b[0;34m:\u001b[0m\u001b[0;34m]\u001b[0m\u001b[0;34m\u001b[0m\u001b[0;34m\u001b[0m\u001b[0m\n\u001b[1;32m    199\u001b[0m     \u001b[0mnew_f\u001b[0m \u001b[0;34m=\u001b[0m \u001b[0mf\u001b[0m\u001b[0;34m.\u001b[0m\u001b[0mmelt\u001b[0m\u001b[0;34m(\u001b[0m\u001b[0mid_vars\u001b[0m \u001b[0;34m=\u001b[0m \u001b[0;34m'Date'\u001b[0m\u001b[0;34m,\u001b[0m \u001b[0mvalue_vars\u001b[0m \u001b[0;34m=\u001b[0m \u001b[0mhrs\u001b[0m\u001b[0;34m)\u001b[0m\u001b[0;34m\u001b[0m\u001b[0;34m\u001b[0m\u001b[0m\n",
      "\u001b[0;32m/opt/tljh/user/lib/python3.6/site-packages/pandas/io/parsers.py\u001b[0m in \u001b[0;36mparser_f\u001b[0;34m(filepath_or_buffer, sep, delimiter, header, names, index_col, usecols, squeeze, prefix, mangle_dupe_cols, dtype, engine, converters, true_values, false_values, skipinitialspace, skiprows, skipfooter, nrows, na_values, keep_default_na, na_filter, verbose, skip_blank_lines, parse_dates, infer_datetime_format, keep_date_col, date_parser, dayfirst, cache_dates, iterator, chunksize, compression, thousands, decimal, lineterminator, quotechar, quoting, doublequote, escapechar, comment, encoding, dialect, error_bad_lines, warn_bad_lines, delim_whitespace, low_memory, memory_map, float_precision)\u001b[0m\n\u001b[1;32m    683\u001b[0m         )\n\u001b[1;32m    684\u001b[0m \u001b[0;34m\u001b[0m\u001b[0m\n\u001b[0;32m--> 685\u001b[0;31m         \u001b[0;32mreturn\u001b[0m \u001b[0m_read\u001b[0m\u001b[0;34m(\u001b[0m\u001b[0mfilepath_or_buffer\u001b[0m\u001b[0;34m,\u001b[0m \u001b[0mkwds\u001b[0m\u001b[0;34m)\u001b[0m\u001b[0;34m\u001b[0m\u001b[0;34m\u001b[0m\u001b[0m\n\u001b[0m\u001b[1;32m    686\u001b[0m \u001b[0;34m\u001b[0m\u001b[0m\n\u001b[1;32m    687\u001b[0m     \u001b[0mparser_f\u001b[0m\u001b[0;34m.\u001b[0m\u001b[0m__name__\u001b[0m \u001b[0;34m=\u001b[0m \u001b[0mname\u001b[0m\u001b[0;34m\u001b[0m\u001b[0;34m\u001b[0m\u001b[0m\n",
      "\u001b[0;32m/opt/tljh/user/lib/python3.6/site-packages/pandas/io/parsers.py\u001b[0m in \u001b[0;36m_read\u001b[0;34m(filepath_or_buffer, kwds)\u001b[0m\n\u001b[1;32m    455\u001b[0m \u001b[0;34m\u001b[0m\u001b[0m\n\u001b[1;32m    456\u001b[0m     \u001b[0;31m# Create the parser.\u001b[0m\u001b[0;34m\u001b[0m\u001b[0;34m\u001b[0m\u001b[0;34m\u001b[0m\u001b[0m\n\u001b[0;32m--> 457\u001b[0;31m     \u001b[0mparser\u001b[0m \u001b[0;34m=\u001b[0m \u001b[0mTextFileReader\u001b[0m\u001b[0;34m(\u001b[0m\u001b[0mfp_or_buf\u001b[0m\u001b[0;34m,\u001b[0m \u001b[0;34m**\u001b[0m\u001b[0mkwds\u001b[0m\u001b[0;34m)\u001b[0m\u001b[0;34m\u001b[0m\u001b[0;34m\u001b[0m\u001b[0m\n\u001b[0m\u001b[1;32m    458\u001b[0m \u001b[0;34m\u001b[0m\u001b[0m\n\u001b[1;32m    459\u001b[0m     \u001b[0;32mif\u001b[0m \u001b[0mchunksize\u001b[0m \u001b[0;32mor\u001b[0m \u001b[0miterator\u001b[0m\u001b[0;34m:\u001b[0m\u001b[0;34m\u001b[0m\u001b[0;34m\u001b[0m\u001b[0m\n",
      "\u001b[0;32m/opt/tljh/user/lib/python3.6/site-packages/pandas/io/parsers.py\u001b[0m in \u001b[0;36m__init__\u001b[0;34m(self, f, engine, **kwds)\u001b[0m\n\u001b[1;32m    893\u001b[0m             \u001b[0mself\u001b[0m\u001b[0;34m.\u001b[0m\u001b[0moptions\u001b[0m\u001b[0;34m[\u001b[0m\u001b[0;34m\"has_index_names\"\u001b[0m\u001b[0;34m]\u001b[0m \u001b[0;34m=\u001b[0m \u001b[0mkwds\u001b[0m\u001b[0;34m[\u001b[0m\u001b[0;34m\"has_index_names\"\u001b[0m\u001b[0;34m]\u001b[0m\u001b[0;34m\u001b[0m\u001b[0;34m\u001b[0m\u001b[0m\n\u001b[1;32m    894\u001b[0m \u001b[0;34m\u001b[0m\u001b[0m\n\u001b[0;32m--> 895\u001b[0;31m         \u001b[0mself\u001b[0m\u001b[0;34m.\u001b[0m\u001b[0m_make_engine\u001b[0m\u001b[0;34m(\u001b[0m\u001b[0mself\u001b[0m\u001b[0;34m.\u001b[0m\u001b[0mengine\u001b[0m\u001b[0;34m)\u001b[0m\u001b[0;34m\u001b[0m\u001b[0;34m\u001b[0m\u001b[0m\n\u001b[0m\u001b[1;32m    896\u001b[0m \u001b[0;34m\u001b[0m\u001b[0m\n\u001b[1;32m    897\u001b[0m     \u001b[0;32mdef\u001b[0m \u001b[0mclose\u001b[0m\u001b[0;34m(\u001b[0m\u001b[0mself\u001b[0m\u001b[0;34m)\u001b[0m\u001b[0;34m:\u001b[0m\u001b[0;34m\u001b[0m\u001b[0;34m\u001b[0m\u001b[0m\n",
      "\u001b[0;32m/opt/tljh/user/lib/python3.6/site-packages/pandas/io/parsers.py\u001b[0m in \u001b[0;36m_make_engine\u001b[0;34m(self, engine)\u001b[0m\n\u001b[1;32m   1133\u001b[0m     \u001b[0;32mdef\u001b[0m \u001b[0m_make_engine\u001b[0m\u001b[0;34m(\u001b[0m\u001b[0mself\u001b[0m\u001b[0;34m,\u001b[0m \u001b[0mengine\u001b[0m\u001b[0;34m=\u001b[0m\u001b[0;34m\"c\"\u001b[0m\u001b[0;34m)\u001b[0m\u001b[0;34m:\u001b[0m\u001b[0;34m\u001b[0m\u001b[0;34m\u001b[0m\u001b[0m\n\u001b[1;32m   1134\u001b[0m         \u001b[0;32mif\u001b[0m \u001b[0mengine\u001b[0m \u001b[0;34m==\u001b[0m \u001b[0;34m\"c\"\u001b[0m\u001b[0;34m:\u001b[0m\u001b[0;34m\u001b[0m\u001b[0;34m\u001b[0m\u001b[0m\n\u001b[0;32m-> 1135\u001b[0;31m             \u001b[0mself\u001b[0m\u001b[0;34m.\u001b[0m\u001b[0m_engine\u001b[0m \u001b[0;34m=\u001b[0m \u001b[0mCParserWrapper\u001b[0m\u001b[0;34m(\u001b[0m\u001b[0mself\u001b[0m\u001b[0;34m.\u001b[0m\u001b[0mf\u001b[0m\u001b[0;34m,\u001b[0m \u001b[0;34m**\u001b[0m\u001b[0mself\u001b[0m\u001b[0;34m.\u001b[0m\u001b[0moptions\u001b[0m\u001b[0;34m)\u001b[0m\u001b[0;34m\u001b[0m\u001b[0;34m\u001b[0m\u001b[0m\n\u001b[0m\u001b[1;32m   1136\u001b[0m         \u001b[0;32melse\u001b[0m\u001b[0;34m:\u001b[0m\u001b[0;34m\u001b[0m\u001b[0;34m\u001b[0m\u001b[0m\n\u001b[1;32m   1137\u001b[0m             \u001b[0;32mif\u001b[0m \u001b[0mengine\u001b[0m \u001b[0;34m==\u001b[0m \u001b[0;34m\"python\"\u001b[0m\u001b[0;34m:\u001b[0m\u001b[0;34m\u001b[0m\u001b[0;34m\u001b[0m\u001b[0m\n",
      "\u001b[0;32m/opt/tljh/user/lib/python3.6/site-packages/pandas/io/parsers.py\u001b[0m in \u001b[0;36m__init__\u001b[0;34m(self, src, **kwds)\u001b[0m\n\u001b[1;32m   1915\u001b[0m         \u001b[0mkwds\u001b[0m\u001b[0;34m[\u001b[0m\u001b[0;34m\"usecols\"\u001b[0m\u001b[0;34m]\u001b[0m \u001b[0;34m=\u001b[0m \u001b[0mself\u001b[0m\u001b[0;34m.\u001b[0m\u001b[0musecols\u001b[0m\u001b[0;34m\u001b[0m\u001b[0;34m\u001b[0m\u001b[0m\n\u001b[1;32m   1916\u001b[0m \u001b[0;34m\u001b[0m\u001b[0m\n\u001b[0;32m-> 1917\u001b[0;31m         \u001b[0mself\u001b[0m\u001b[0;34m.\u001b[0m\u001b[0m_reader\u001b[0m \u001b[0;34m=\u001b[0m \u001b[0mparsers\u001b[0m\u001b[0;34m.\u001b[0m\u001b[0mTextReader\u001b[0m\u001b[0;34m(\u001b[0m\u001b[0msrc\u001b[0m\u001b[0;34m,\u001b[0m \u001b[0;34m**\u001b[0m\u001b[0mkwds\u001b[0m\u001b[0;34m)\u001b[0m\u001b[0;34m\u001b[0m\u001b[0;34m\u001b[0m\u001b[0m\n\u001b[0m\u001b[1;32m   1918\u001b[0m         \u001b[0mself\u001b[0m\u001b[0;34m.\u001b[0m\u001b[0munnamed_cols\u001b[0m \u001b[0;34m=\u001b[0m \u001b[0mself\u001b[0m\u001b[0;34m.\u001b[0m\u001b[0m_reader\u001b[0m\u001b[0;34m.\u001b[0m\u001b[0munnamed_cols\u001b[0m\u001b[0;34m\u001b[0m\u001b[0;34m\u001b[0m\u001b[0m\n\u001b[1;32m   1919\u001b[0m \u001b[0;34m\u001b[0m\u001b[0m\n",
      "\u001b[0;32mpandas/_libs/parsers.pyx\u001b[0m in \u001b[0;36mpandas._libs.parsers.TextReader.__cinit__\u001b[0;34m()\u001b[0m\n",
      "\u001b[0;32mpandas/_libs/parsers.pyx\u001b[0m in \u001b[0;36mpandas._libs.parsers.TextReader._setup_parser_source\u001b[0;34m()\u001b[0m\n",
      "\u001b[0;31mFileNotFoundError\u001b[0m: [Errno 2] File b'4' does not exist: b'4'"
     ]
    }
   ],
   "source": [
    "for v in vert_files:\n",
    "    IDRdrop.hor_to_vert(v)"
   ]
  },
  {
   "cell_type": "code",
   "execution_count": null,
   "metadata": {},
   "outputs": [],
   "source": []
  }
 ],
 "metadata": {
  "kernelspec": {
   "display_name": "Python 3",
   "language": "python",
   "name": "python3"
  },
  "language_info": {
   "codemirror_mode": {
    "name": "ipython",
    "version": 3
   },
   "file_extension": ".py",
   "mimetype": "text/x-python",
   "name": "python",
   "nbconvert_exporter": "python",
   "pygments_lexer": "ipython3",
   "version": "3.6.7"
  }
 },
 "nbformat": 4,
 "nbformat_minor": 2
}
