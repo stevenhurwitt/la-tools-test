{
 "cells": [
  {
   "cell_type": "markdown",
   "metadata": {},
   "source": [
    "# NEPOOL IDR Drop"
   ]
  },
  {
   "cell_type": "markdown",
   "metadata": {},
   "source": [
    "Implements class to batch tasks used for IDR drops."
   ]
  },
  {
   "cell_type": "code",
   "execution_count": 1,
   "metadata": {},
   "outputs": [
    {
     "name": "stdout",
     "output_type": "stream",
     "text": [
      "working in directory /home/jupyter-engiela/la-tools-test/IDR_Drop.\n"
     ]
    }
   ],
   "source": [
    "from bs4 import BeautifulSoup\n",
    "from selenium.webdriver import Chrome\n",
    "from selenium.webdriver.chrome.options import Options\n",
    "import selenium.webdriver.support.ui as ui\n",
    "from selenium.webdriver.common.keys import Keys\n",
    "import selenium.webdriver as webdriver\n",
    "from pandas.io.json import json_normalize\n",
    "import datetime as dt\n",
    "import pandas as pd\n",
    "import numpy as np\n",
    "import IDRdrop\n",
    "import EPOwebscrape\n",
    "#import emailscrape\n",
    "import json\n",
    "import os\n",
    "basepath = '/home/jupyter-engiela/la-tools-test/IDR_Drop'\n",
    "print('working in directory {}.'.format(basepath))"
   ]
  },
  {
   "cell_type": "code",
   "execution_count": 2,
   "metadata": {},
   "outputs": [
    {
     "name": "stdout",
     "output_type": "stream",
     "text": [
      "                               accts                date  \\\n",
      "0             [800030802, 800194201] 2019-05-30 11:44:39   \n",
      "1             [800537201, 800581301] 2019-05-30 11:42:43   \n",
      "2                        [800166101] 2019-05-30 11:38:45   \n",
      "3                        [800582101] 2019-05-29 09:04:42   \n",
      "4  [800497301, 800497304, 800497305] 2019-05-29 09:00:45   \n",
      "\n",
      "                      name      pw           user  \n",
      "0              NASHUA YMCA  7m5f7f  nhengi-nash3n  \n",
      "1     PORTWALK HAMPTON INN  2n5a2a  nhengi-hamp8n  \n",
      "2              OATS REALTY  zu43z8  nhengi-oats6n  \n",
      "3  BRITTON LUMBER COMPANY,  4s4e7s  nhengi-brit8n  \n",
      "4          TEXTILES COATED  7u4n4f  nhengi-text9n  \n",
      "...\n",
      "                       accts                date  \\\n",
      "59              [5334750001] 2019-05-28 14:49:15   \n",
      "60  [0167372027, 0167377022] 2019-05-24 12:53:35   \n",
      "61              [9102996055] 2019-05-24 15:47:51   \n",
      "62              [2876745007] 2019-05-24 15:49:56   \n",
      "63              [7554298017] 2019-05-24 16:48:08   \n",
      "\n",
      "                                            name    pw       user  \n",
      "59                             [CLEMENTS MARKET]  3824  SUEZ_HIST  \n",
      "60  [FRONT STREET ASSOCIA, FRONT STREET ASSOCIA]  3824  SUEZ_HIST  \n",
      "61                                 [BMIP LL LLC]  3824  SUEZ_HIST  \n",
      "62                        [OLD IRON WORKS LLC M]  3824  SUEZ_HIST  \n",
      "63                              [SEA FREEZE LTD]  3824  SUEZ_HIST  \n"
     ]
    }
   ],
   "source": [
    "def bodies_json(bodies):\n",
    "\n",
    "    test = pd.DataFrame.from_dict(bodies, orient = 'index')\n",
    "\n",
    "    if type(test.date[0]) == str:\n",
    "            test.date = pd.to_datetime(test.date)\n",
    "\n",
    "    last_days = max(test.date) - dt.timedelta(7) \n",
    "\n",
    "    sub = test[test.date > last_days]\n",
    "        \n",
    "    accts_success = [len(accts) > 0 for accts in sub.accts]\n",
    "    accts_fail = [not val for val in accts_success]\n",
    "        \n",
    "    good = sub[accts_success].reset_index(drop = True)\n",
    "\n",
    "    email_error = []\n",
    "\n",
    "    if len(accts_fail) > 0:\n",
    "        bad = sub[accts_fail].reset_index()\n",
    "        mail_error = 'EMAIL_SCRAPE_ERROR.csv'\n",
    "\n",
    "        bad.to_csv(mail_error, header = True, index = False)\n",
    "\n",
    "    return(good)\n",
    "\n",
    "\n",
    "#output_dict, filename = emailscrape.get_emails()\n",
    "with open('email_bodies_05_30_2019.json', 'r') as f:\n",
    "    bodies = json.load(f)\n",
    "\n",
    "    bodies = json.loads(bodies)\n",
    "\n",
    "\n",
    "good = bodies_json(bodies)\n",
    "\n",
    "print(good.head())\n",
    "print('...')\n",
    "print(good.tail())"
   ]
  },
  {
   "cell_type": "markdown",
   "metadata": {},
   "source": [
    "## Download files from EPO portal"
   ]
  },
  {
   "cell_type": "code",
   "execution_count": 3,
   "metadata": {},
   "outputs": [
    {
     "ename": "WebDriverException",
     "evalue": "Message: unknown error: Chrome failed to start: exited abnormally\n  (unknown error: DevToolsActivePort file doesn't exist)\n  (The process started from chrome location /usr/bin/google-chrome is no longer running, so ChromeDriver is assuming that Chrome has crashed.)\n",
     "output_type": "error",
     "traceback": [
      "\u001b[0;31m---------------------------------------------------------------------------\u001b[0m",
      "\u001b[0;31mWebDriverException\u001b[0m                        Traceback (most recent call last)",
      "\u001b[0;32m<ipython-input-3-c1d5fc093564>\u001b[0m in \u001b[0;36m<module>\u001b[0;34m\u001b[0m\n\u001b[1;32m      1\u001b[0m \u001b[0;32mfor\u001b[0m \u001b[0mrow\u001b[0m \u001b[0;32min\u001b[0m \u001b[0mrange\u001b[0m\u001b[0;34m(\u001b[0m\u001b[0;36m0\u001b[0m\u001b[0;34m,\u001b[0m \u001b[0mlen\u001b[0m\u001b[0;34m(\u001b[0m\u001b[0mgood\u001b[0m\u001b[0;34m.\u001b[0m\u001b[0maccts\u001b[0m\u001b[0;34m)\u001b[0m\u001b[0;34m)\u001b[0m\u001b[0;34m:\u001b[0m\u001b[0;34m\u001b[0m\u001b[0;34m\u001b[0m\u001b[0m\n\u001b[1;32m      2\u001b[0m     \u001b[0;31m#try:\u001b[0m\u001b[0;34m\u001b[0m\u001b[0;34m\u001b[0m\u001b[0;34m\u001b[0m\u001b[0m\n\u001b[0;32m----> 3\u001b[0;31m     \u001b[0mEPOwebscrape\u001b[0m\u001b[0;34m.\u001b[0m\u001b[0midr_download\u001b[0m\u001b[0;34m(\u001b[0m\u001b[0mrow\u001b[0m\u001b[0;34m,\u001b[0m \u001b[0mgood\u001b[0m\u001b[0;34m)\u001b[0m\u001b[0;34m\u001b[0m\u001b[0;34m\u001b[0m\u001b[0m\n\u001b[0m\u001b[1;32m      4\u001b[0m     \u001b[0;31m#except:\u001b[0m\u001b[0;34m\u001b[0m\u001b[0;34m\u001b[0m\u001b[0;34m\u001b[0m\u001b[0m\n\u001b[1;32m      5\u001b[0m         \u001b[0;31m#print('error, accts {}.'.format(good.accts))\u001b[0m\u001b[0;34m\u001b[0m\u001b[0;34m\u001b[0m\u001b[0;34m\u001b[0m\u001b[0m\n",
      "\u001b[0;32m~/la-tools-test/IDR_Drop/EPOwebscrape.py\u001b[0m in \u001b[0;36midr_download\u001b[0;34m(row, good)\u001b[0m\n\u001b[1;32m    138\u001b[0m \u001b[0;34m\u001b[0m\u001b[0m\n\u001b[1;32m    139\u001b[0m     \u001b[0mngrid\u001b[0m \u001b[0;34m=\u001b[0m \u001b[0;34m(\u001b[0m\u001b[0;34m'SUEZ'\u001b[0m \u001b[0;32min\u001b[0m \u001b[0mgood\u001b[0m\u001b[0;34m.\u001b[0m\u001b[0muser\u001b[0m\u001b[0;34m[\u001b[0m\u001b[0mrow\u001b[0m\u001b[0;34m]\u001b[0m\u001b[0;34m)\u001b[0m\u001b[0;34m\u001b[0m\u001b[0;34m\u001b[0m\u001b[0m\n\u001b[0;32m--> 140\u001b[0;31m     \u001b[0mbrowser\u001b[0m\u001b[0;34m,\u001b[0m \u001b[0murl\u001b[0m \u001b[0;34m=\u001b[0m \u001b[0mlogon\u001b[0m\u001b[0;34m(\u001b[0m\u001b[0mgood\u001b[0m\u001b[0;34m.\u001b[0m\u001b[0muser\u001b[0m\u001b[0;34m[\u001b[0m\u001b[0mrow\u001b[0m\u001b[0;34m]\u001b[0m\u001b[0;34m,\u001b[0m \u001b[0mgood\u001b[0m\u001b[0;34m.\u001b[0m\u001b[0mpw\u001b[0m\u001b[0;34m[\u001b[0m\u001b[0mrow\u001b[0m\u001b[0;34m]\u001b[0m\u001b[0;34m,\u001b[0m \u001b[0mngrid\u001b[0m\u001b[0;34m)\u001b[0m\u001b[0;34m\u001b[0m\u001b[0;34m\u001b[0m\u001b[0m\n\u001b[0m\u001b[1;32m    141\u001b[0m     \u001b[0mprint\u001b[0m\u001b[0;34m(\u001b[0m\u001b[0;34m'logging on...'\u001b[0m\u001b[0;34m)\u001b[0m\u001b[0;34m\u001b[0m\u001b[0;34m\u001b[0m\u001b[0m\n\u001b[1;32m    142\u001b[0m \u001b[0;34m\u001b[0m\u001b[0m\n",
      "\u001b[0;32m~/la-tools-test/IDR_Drop/EPOwebscrape.py\u001b[0m in \u001b[0;36mlogon\u001b[0;34m(username, pw, ngrid)\u001b[0m\n\u001b[1;32m     79\u001b[0m \u001b[0;34m\u001b[0m\u001b[0m\n\u001b[1;32m     80\u001b[0m     \u001b[0;31m#setup headless browser, get ngrid url\u001b[0m\u001b[0;34m\u001b[0m\u001b[0;34m\u001b[0m\u001b[0;34m\u001b[0m\u001b[0m\n\u001b[0;32m---> 81\u001b[0;31m     \u001b[0mbrowser\u001b[0m \u001b[0;34m=\u001b[0m \u001b[0mChrome\u001b[0m\u001b[0;34m(\u001b[0m\u001b[0mexecutable_path\u001b[0m \u001b[0;34m=\u001b[0m \u001b[0;34m'/usr/local/share/chromedriver'\u001b[0m\u001b[0;34m,\u001b[0m \u001b[0moptions\u001b[0m \u001b[0;34m=\u001b[0m \u001b[0mopts\u001b[0m\u001b[0;34m)\u001b[0m\u001b[0;34m\u001b[0m\u001b[0;34m\u001b[0m\u001b[0m\n\u001b[0m\u001b[1;32m     82\u001b[0m \u001b[0;34m\u001b[0m\u001b[0m\n\u001b[1;32m     83\u001b[0m     \u001b[0;32mif\u001b[0m \u001b[0mngrid\u001b[0m \u001b[0;34m==\u001b[0m \u001b[0;32mTrue\u001b[0m\u001b[0;34m:\u001b[0m\u001b[0;34m\u001b[0m\u001b[0;34m\u001b[0m\u001b[0m\n",
      "\u001b[0;32m~/.local/lib/python3.6/site-packages/selenium/webdriver/chrome/webdriver.py\u001b[0m in \u001b[0;36m__init__\u001b[0;34m(self, executable_path, port, options, service_args, desired_capabilities, service_log_path, chrome_options, keep_alive)\u001b[0m\n\u001b[1;32m     79\u001b[0m                     \u001b[0mremote_server_addr\u001b[0m\u001b[0;34m=\u001b[0m\u001b[0mself\u001b[0m\u001b[0;34m.\u001b[0m\u001b[0mservice\u001b[0m\u001b[0;34m.\u001b[0m\u001b[0mservice_url\u001b[0m\u001b[0;34m,\u001b[0m\u001b[0;34m\u001b[0m\u001b[0;34m\u001b[0m\u001b[0m\n\u001b[1;32m     80\u001b[0m                     keep_alive=keep_alive),\n\u001b[0;32m---> 81\u001b[0;31m                 desired_capabilities=desired_capabilities)\n\u001b[0m\u001b[1;32m     82\u001b[0m         \u001b[0;32mexcept\u001b[0m \u001b[0mException\u001b[0m\u001b[0;34m:\u001b[0m\u001b[0;34m\u001b[0m\u001b[0;34m\u001b[0m\u001b[0m\n\u001b[1;32m     83\u001b[0m             \u001b[0mself\u001b[0m\u001b[0;34m.\u001b[0m\u001b[0mquit\u001b[0m\u001b[0;34m(\u001b[0m\u001b[0;34m)\u001b[0m\u001b[0;34m\u001b[0m\u001b[0;34m\u001b[0m\u001b[0m\n",
      "\u001b[0;32m~/.local/lib/python3.6/site-packages/selenium/webdriver/remote/webdriver.py\u001b[0m in \u001b[0;36m__init__\u001b[0;34m(self, command_executor, desired_capabilities, browser_profile, proxy, keep_alive, file_detector, options)\u001b[0m\n\u001b[1;32m    155\u001b[0m             warnings.warn(\"Please use FirefoxOptions to set browser profile\",\n\u001b[1;32m    156\u001b[0m                           DeprecationWarning, stacklevel=2)\n\u001b[0;32m--> 157\u001b[0;31m         \u001b[0mself\u001b[0m\u001b[0;34m.\u001b[0m\u001b[0mstart_session\u001b[0m\u001b[0;34m(\u001b[0m\u001b[0mcapabilities\u001b[0m\u001b[0;34m,\u001b[0m \u001b[0mbrowser_profile\u001b[0m\u001b[0;34m)\u001b[0m\u001b[0;34m\u001b[0m\u001b[0;34m\u001b[0m\u001b[0m\n\u001b[0m\u001b[1;32m    158\u001b[0m         \u001b[0mself\u001b[0m\u001b[0;34m.\u001b[0m\u001b[0m_switch_to\u001b[0m \u001b[0;34m=\u001b[0m \u001b[0mSwitchTo\u001b[0m\u001b[0;34m(\u001b[0m\u001b[0mself\u001b[0m\u001b[0;34m)\u001b[0m\u001b[0;34m\u001b[0m\u001b[0;34m\u001b[0m\u001b[0m\n\u001b[1;32m    159\u001b[0m         \u001b[0mself\u001b[0m\u001b[0;34m.\u001b[0m\u001b[0m_mobile\u001b[0m \u001b[0;34m=\u001b[0m \u001b[0mMobile\u001b[0m\u001b[0;34m(\u001b[0m\u001b[0mself\u001b[0m\u001b[0;34m)\u001b[0m\u001b[0;34m\u001b[0m\u001b[0;34m\u001b[0m\u001b[0m\n",
      "\u001b[0;32m~/.local/lib/python3.6/site-packages/selenium/webdriver/remote/webdriver.py\u001b[0m in \u001b[0;36mstart_session\u001b[0;34m(self, capabilities, browser_profile)\u001b[0m\n\u001b[1;32m    250\u001b[0m         parameters = {\"capabilities\": w3c_caps,\n\u001b[1;32m    251\u001b[0m                       \"desiredCapabilities\": capabilities}\n\u001b[0;32m--> 252\u001b[0;31m         \u001b[0mresponse\u001b[0m \u001b[0;34m=\u001b[0m \u001b[0mself\u001b[0m\u001b[0;34m.\u001b[0m\u001b[0mexecute\u001b[0m\u001b[0;34m(\u001b[0m\u001b[0mCommand\u001b[0m\u001b[0;34m.\u001b[0m\u001b[0mNEW_SESSION\u001b[0m\u001b[0;34m,\u001b[0m \u001b[0mparameters\u001b[0m\u001b[0;34m)\u001b[0m\u001b[0;34m\u001b[0m\u001b[0;34m\u001b[0m\u001b[0m\n\u001b[0m\u001b[1;32m    253\u001b[0m         \u001b[0;32mif\u001b[0m \u001b[0;34m'sessionId'\u001b[0m \u001b[0;32mnot\u001b[0m \u001b[0;32min\u001b[0m \u001b[0mresponse\u001b[0m\u001b[0;34m:\u001b[0m\u001b[0;34m\u001b[0m\u001b[0;34m\u001b[0m\u001b[0m\n\u001b[1;32m    254\u001b[0m             \u001b[0mresponse\u001b[0m \u001b[0;34m=\u001b[0m \u001b[0mresponse\u001b[0m\u001b[0;34m[\u001b[0m\u001b[0;34m'value'\u001b[0m\u001b[0;34m]\u001b[0m\u001b[0;34m\u001b[0m\u001b[0;34m\u001b[0m\u001b[0m\n",
      "\u001b[0;32m~/.local/lib/python3.6/site-packages/selenium/webdriver/remote/webdriver.py\u001b[0m in \u001b[0;36mexecute\u001b[0;34m(self, driver_command, params)\u001b[0m\n\u001b[1;32m    319\u001b[0m         \u001b[0mresponse\u001b[0m \u001b[0;34m=\u001b[0m \u001b[0mself\u001b[0m\u001b[0;34m.\u001b[0m\u001b[0mcommand_executor\u001b[0m\u001b[0;34m.\u001b[0m\u001b[0mexecute\u001b[0m\u001b[0;34m(\u001b[0m\u001b[0mdriver_command\u001b[0m\u001b[0;34m,\u001b[0m \u001b[0mparams\u001b[0m\u001b[0;34m)\u001b[0m\u001b[0;34m\u001b[0m\u001b[0;34m\u001b[0m\u001b[0m\n\u001b[1;32m    320\u001b[0m         \u001b[0;32mif\u001b[0m \u001b[0mresponse\u001b[0m\u001b[0;34m:\u001b[0m\u001b[0;34m\u001b[0m\u001b[0;34m\u001b[0m\u001b[0m\n\u001b[0;32m--> 321\u001b[0;31m             \u001b[0mself\u001b[0m\u001b[0;34m.\u001b[0m\u001b[0merror_handler\u001b[0m\u001b[0;34m.\u001b[0m\u001b[0mcheck_response\u001b[0m\u001b[0;34m(\u001b[0m\u001b[0mresponse\u001b[0m\u001b[0;34m)\u001b[0m\u001b[0;34m\u001b[0m\u001b[0;34m\u001b[0m\u001b[0m\n\u001b[0m\u001b[1;32m    322\u001b[0m             response['value'] = self._unwrap_value(\n\u001b[1;32m    323\u001b[0m                 response.get('value', None))\n",
      "\u001b[0;32m~/.local/lib/python3.6/site-packages/selenium/webdriver/remote/errorhandler.py\u001b[0m in \u001b[0;36mcheck_response\u001b[0;34m(self, response)\u001b[0m\n\u001b[1;32m    240\u001b[0m                 \u001b[0malert_text\u001b[0m \u001b[0;34m=\u001b[0m \u001b[0mvalue\u001b[0m\u001b[0;34m[\u001b[0m\u001b[0;34m'alert'\u001b[0m\u001b[0;34m]\u001b[0m\u001b[0;34m.\u001b[0m\u001b[0mget\u001b[0m\u001b[0;34m(\u001b[0m\u001b[0;34m'text'\u001b[0m\u001b[0;34m)\u001b[0m\u001b[0;34m\u001b[0m\u001b[0;34m\u001b[0m\u001b[0m\n\u001b[1;32m    241\u001b[0m             \u001b[0;32mraise\u001b[0m \u001b[0mexception_class\u001b[0m\u001b[0;34m(\u001b[0m\u001b[0mmessage\u001b[0m\u001b[0;34m,\u001b[0m \u001b[0mscreen\u001b[0m\u001b[0;34m,\u001b[0m \u001b[0mstacktrace\u001b[0m\u001b[0;34m,\u001b[0m \u001b[0malert_text\u001b[0m\u001b[0;34m)\u001b[0m\u001b[0;34m\u001b[0m\u001b[0;34m\u001b[0m\u001b[0m\n\u001b[0;32m--> 242\u001b[0;31m         \u001b[0;32mraise\u001b[0m \u001b[0mexception_class\u001b[0m\u001b[0;34m(\u001b[0m\u001b[0mmessage\u001b[0m\u001b[0;34m,\u001b[0m \u001b[0mscreen\u001b[0m\u001b[0;34m,\u001b[0m \u001b[0mstacktrace\u001b[0m\u001b[0;34m)\u001b[0m\u001b[0;34m\u001b[0m\u001b[0;34m\u001b[0m\u001b[0m\n\u001b[0m\u001b[1;32m    243\u001b[0m \u001b[0;34m\u001b[0m\u001b[0m\n\u001b[1;32m    244\u001b[0m     \u001b[0;32mdef\u001b[0m \u001b[0m_value_or_default\u001b[0m\u001b[0;34m(\u001b[0m\u001b[0mself\u001b[0m\u001b[0;34m,\u001b[0m \u001b[0mobj\u001b[0m\u001b[0;34m,\u001b[0m \u001b[0mkey\u001b[0m\u001b[0;34m,\u001b[0m \u001b[0mdefault\u001b[0m\u001b[0;34m)\u001b[0m\u001b[0;34m:\u001b[0m\u001b[0;34m\u001b[0m\u001b[0;34m\u001b[0m\u001b[0m\n",
      "\u001b[0;31mWebDriverException\u001b[0m: Message: unknown error: Chrome failed to start: exited abnormally\n  (unknown error: DevToolsActivePort file doesn't exist)\n  (The process started from chrome location /usr/bin/google-chrome is no longer running, so ChromeDriver is assuming that Chrome has crashed.)\n"
     ]
    }
   ],
   "source": [
    "for row in range(0, len(good.accts)):\n",
    "    #try:\n",
    "    EPOwebscrape.idr_download(row, good)\n",
    "    #except:\n",
    "        #print('error, accts {}.'.format(good.accts))"
   ]
  },
  {
   "cell_type": "markdown",
   "metadata": {},
   "source": [
    "## Show downloaded files from EPO portal"
   ]
  },
  {
   "cell_type": "markdown",
   "metadata": {},
   "source": [
    "Here *filepath* is a directory containing downloaded EPO files. Code will print 20 most recent files."
   ]
  },
  {
   "cell_type": "code",
   "execution_count": 4,
   "metadata": {},
   "outputs": [
    {
     "name": "stdout",
     "output_type": "stream",
     "text": [
      "files found in dir:  /Users/stevenhurwitt/Downloads\n",
      "                                                files                time\n",
      "0   ngrid_b3225013-4439-45ae-a205-95983fe51c20_dae... 2019-09-01 21:59:33\n",
      "1   ngrid_389a101a-0dcf-4027-908e-927561fd3f3a_ca3... 2019-09-01 21:57:39\n",
      "2   ngrid_18f051fb-1aad-40a3-ae59-2abc659323a1_bef... 2019-09-01 21:55:44\n",
      "3   ngrid_b65a2843-1e0d-4007-bcec-240bb80844ac_825... 2019-09-01 21:53:20\n",
      "4   ngrid_4dfb5eb6-0878-4107-aee0-b54a53523487_bcc... 2019-09-01 16:05:15\n",
      "5   ngrid_23358185-c1fc-48fb-b878-ff809814525a_484... 2019-09-01 15:37:46\n",
      "6                                                .git 2019-08-30 19:30:30\n",
      "7                     ENGIE - Ewx Debugging Guide.pdf 2019-08-28 09:36:13\n",
      "8               Energyworx Datalab API training.ipynb 2019-08-28 09:28:09\n",
      "9                              Westchester Ave 90.m4a 2019-08-26 20:49:52\n",
      "10                                          .DS_Store 2019-08-26 20:00:12\n",
      "11                                  cr2_Blue_Form.pdf 2019-08-20 21:33:14\n",
      "12  client_secret_71887862485-2e752er8kmsjns39idcb... 2019-08-19 22:14:37\n",
      "13              VNC-Viewer-6.19.715-MacOSX-x86_64.dmg 2019-08-19 21:58:02\n",
      "14                                pystan-2.17.1.0.zip 2019-08-14 22:27:25\n",
      "15                                           3190.pdf 2019-08-14 21:14:42\n",
      "16                              DRM Contact Info.xlsx 2019-07-21 21:26:51\n",
      "17                                  la_tools_docs.pdf 2019-07-12 22:21:00\n",
      "18                                      output_LV.csv 2019-06-11 12:51:40\n",
      "19                             output_LV_20190405.csv 2019-06-11 12:14:19\n"
     ]
    }
   ],
   "source": [
    "#filepath = os.getcwd()\n",
    "readpath = '/Users/stevenhurwitt/Downloads'\n",
    "\n",
    "myfiles = IDRdrop.show_dir(readpath, 20)\n",
    "print(myfiles)"
   ]
  },
  {
   "cell_type": "markdown",
   "metadata": {},
   "source": [
    "Choose files to split into Raw IDR files."
   ]
  },
  {
   "cell_type": "code",
   "execution_count": 5,
   "metadata": {},
   "outputs": [
    {
     "name": "stdout",
     "output_type": "stream",
     "text": [
      "files to split: \n",
      "['ngrid_b3225013-4439-45ae-a205-95983fe51c20_dae9a93c_hourlycsv.csv', 'ngrid_389a101a-0dcf-4027-908e-927561fd3f3a_ca3abaec_hourlycsv.csv', 'ngrid_18f051fb-1aad-40a3-ae59-2abc659323a1_bef34c8a_hourlycsv.csv', 'ngrid_b65a2843-1e0d-4007-bcec-240bb80844ac_8252fe57_hourlycsv.csv', 'ngrid_4dfb5eb6-0878-4107-aee0-b54a53523487_bcc3a42c_hourlycsv.csv', 'ngrid_23358185-c1fc-48fb-b878-ff809814525a_4842804b_hourlycsv.csv']\n"
     ]
    }
   ],
   "source": [
    "index = [0]\n",
    "\n",
    "splitfiles = list(myfiles.files[:6])\n",
    "print('files to split: ')\n",
    "print(splitfiles)"
   ]
  },
  {
   "cell_type": "markdown",
   "metadata": {},
   "source": [
    "## Batch process downloaded EPO files into Raw IDRs"
   ]
  },
  {
   "cell_type": "code",
   "execution_count": 6,
   "metadata": {},
   "outputs": [
    {
     "name": "stdout",
     "output_type": "stream",
     "text": [
      "found 4 accounts.\n",
      "0347780009_MECO_IDR_RAW.csv  written.\n",
      "3940856005_MECO_IDR_RAW.csv  written.\n",
      "7678649009_MECO_IDR_RAW.csv  written.\n",
      "9052467007_MECO_IDR_RAW.csv  written.\n",
      "success, file:  ngrid_b3225013-4439-45ae-a205-95983fe51c20_dae9a93c_hourlycsv.csv\n",
      "found 1 accounts.\n",
      "0169384016_MECO_IDR_RAW.csv  written.\n",
      "success, file:  ngrid_389a101a-0dcf-4027-908e-927561fd3f3a_ca3abaec_hourlycsv.csv\n",
      "found 5 accounts.\n",
      "success, file:  ngrid_18f051fb-1aad-40a3-ae59-2abc659323a1_bef34c8a_hourlycsv.csv\n",
      "found 1 accounts.\n",
      "5373369008_MECO_IDR_RAW.csv  written.\n",
      "success, file:  ngrid_b65a2843-1e0d-4007-bcec-240bb80844ac_8252fe57_hourlycsv.csv\n",
      "found 4 accounts.\n",
      "0021483009_MECO_IDR_RAW.csv  written.\n",
      "0040677012_MECO_IDR_RAW.csv  written.\n",
      "success, file:  ngrid_4dfb5eb6-0878-4107-aee0-b54a53523487_bcc3a42c_hourlycsv.csv\n",
      "found 4 accounts.\n",
      "success, file:  ngrid_23358185-c1fc-48fb-b878-ff809814525a_4842804b_hourlycsv.csv\n"
     ]
    }
   ],
   "source": [
    "readpath = '/Users/stevenhurwitt/Downloads'\n",
    "writepath = '/Users/stevenhurwitt/LA-tools-master/IDR_Drop/Raw IDR Data'\n",
    "utility = 'MECO'\n",
    "error_log = []\n",
    "\n",
    "for file in splitfiles:\n",
    "    #try:\n",
    "    os.chdir(readpath)\n",
    "    filedf = pd.read_csv(file, sep = \",\", header = 0)\n",
    "    \n",
    "    IDRdrop.raw_split(filedf, readpath, writepath, utility)\n",
    "    print('success, file: ', file)\n",
    "        \n",
    "    #except:\n",
    "        #print('error, file: ', file)"
   ]
  },
  {
   "cell_type": "markdown",
   "metadata": {},
   "source": [
    "## Show Raw IDR files based on utility"
   ]
  },
  {
   "cell_type": "code",
   "execution_count": 3,
   "metadata": {},
   "outputs": [],
   "source": [
    "utility = \"CLP\""
   ]
  },
  {
   "cell_type": "markdown",
   "metadata": {},
   "source": [
    "Here *rawpath* is directory containing Raw IDRs - 25 most recent will be shown."
   ]
  },
  {
   "cell_type": "code",
   "execution_count": 7,
   "metadata": {},
   "outputs": [
    {
     "name": "stdout",
     "output_type": "stream",
     "text": [
      "files found in dir:  /Users/stevenhurwitt/LA-tools-master/IDR_Drop/Raw IDR Data\n",
      "                                             files                time\n",
      "0                      0040677012_MECO_IDR_RAW.csv 2019-09-01 22:15:41\n",
      "1                      0169384016_MECO_IDR_RAW.csv 2019-09-01 22:15:41\n",
      "2                      0021483009_MECO_IDR_RAW.csv 2019-09-01 22:15:41\n",
      "3                      9052467007_MECO_IDR_RAW.csv 2019-09-01 22:15:41\n",
      "4                      3940856005_MECO_IDR_RAW.csv 2019-09-01 22:15:41\n",
      "5                      0347780009_MECO_IDR_RAW.csv 2019-09-01 22:15:41\n",
      "6                      5373369008_MECO_IDR_RAW.csv 2019-09-01 22:15:41\n",
      "7                      7678649009_MECO_IDR_RAW.csv 2019-09-01 22:15:41\n",
      "8                       0021483009MECO_IDR_RAW.csv 2019-09-01 22:14:51\n",
      "9                       3940856005MECO_IDR_RAW.csv 2019-09-01 22:14:51\n",
      "10                      7678649009MECO_IDR_RAW.csv 2019-09-01 22:14:51\n",
      "11                      0040677012MECO_IDR_RAW.csv 2019-09-01 22:14:51\n",
      "12                      5373369008MECO_IDR_RAW.csv 2019-09-01 22:14:51\n",
      "13                      9052467007MECO_IDR_RAW.csv 2019-09-01 22:14:51\n",
      "14                      0169384016MECO_IDR_RAW.csv 2019-09-01 22:14:51\n",
      "15                      0347780009MECO_IDR_RAW.csv 2019-09-01 22:14:50\n",
      "16         WMECO_54860202068_808441009_IDR_RAW.csv 2019-07-12 08:12:45\n",
      "17         WMECO_54260602099_085741000_IDR_RAW.csv 2019-07-12 08:12:45\n",
      "18  0067880031 OLD STURBRIDGE INC_MECO_IDR_RAW.csv 2019-07-12 08:12:45\n",
      "19              0021483009 700457_MECO_IDR_RAW.csv 2019-07-12 08:12:45\n",
      "20           CLP_51103183075_555823005_IDR_RAW.csv 2019-07-12 08:12:45\n",
      "21           CLP_51359134038_871682009_IDR_RAW.csv 2019-07-12 08:12:45\n",
      "22           CLP_51972166003_989681003_IDR_RAW.csv 2019-07-12 08:12:45\n",
      "23           CLP_51074577008_308122004_IDR_RAW.csv 2019-07-12 08:12:45\n",
      "24              0021483009 700458_MECO_IDR_RAW.csv 2019-07-12 08:12:45\n"
     ]
    }
   ],
   "source": [
    "rawfiles = IDRdrop.show_dir(writepath, 25)\n",
    "print(rawfiles)"
   ]
  },
  {
   "cell_type": "markdown",
   "metadata": {},
   "source": [
    "Choose Raw IDRs to filter into IDR files."
   ]
  },
  {
   "cell_type": "code",
   "execution_count": 9,
   "metadata": {},
   "outputs": [
    {
     "name": "stdout",
     "output_type": "stream",
     "text": [
      "files to processed: \n",
      "['0040677012_MECO_IDR_RAW.csv', '0169384016_MECO_IDR_RAW.csv', '0021483009_MECO_IDR_RAW.csv', '9052467007_MECO_IDR_RAW.csv', '3940856005_MECO_IDR_RAW.csv', '0347780009_MECO_IDR_RAW.csv', '5373369008_MECO_IDR_RAW.csv', '7678649009_MECO_IDR_RAW.csv']\n"
     ]
    }
   ],
   "source": [
    "index = [36]\n",
    "\n",
    "processfiles = list(rawfiles.files[:8])\n",
    "print('files to processed: ')\n",
    "print(processfiles)"
   ]
  },
  {
   "cell_type": "markdown",
   "metadata": {},
   "source": [
    "## Batch filter Raw IDR into IDR files to be dropped"
   ]
  },
  {
   "cell_type": "code",
   "execution_count": 17,
   "metadata": {},
   "outputs": [
    {
     "name": "stdout",
     "output_type": "stream",
     "text": [
      "success, file:  0040677012_MECO_IDR_RAW.csv\n",
      "success, file:  0169384016_MECO_IDR_RAW.csv\n",
      "success, file:  0021483009_MECO_IDR_RAW.csv\n",
      "success, file:  9052467007_MECO_IDR_RAW.csv\n",
      "success, file:  3940856005_MECO_IDR_RAW.csv\n",
      "success, file:  0347780009_MECO_IDR_RAW.csv\n",
      "success, file:  5373369008_MECO_IDR_RAW.csv\n",
      "success, file:  7678649009_MECO_IDR_RAW.csv\n"
     ]
    }
   ],
   "source": [
    "readpath = '/Users/stevenhurwitt/LA-tools-master/IDR_Drop/Raw IDR Data'\n",
    "writepath = '/Users/stevenhurwitt/LA-tools-master/IDR_Drop/IDR Data/NEPOOL/'\n",
    "error_log = []\n",
    "\n",
    "for dropfile in processfiles:\n",
    "    try:\n",
    "        IDRdrop.data_drop(dropfile, readpath, writepath)\n",
    "        print('success, file: ', dropfile)\n",
    "    \n",
    "    except:\n",
    "        error_log = error_log.append(dropfile)\n",
    "        print(\"error, file: \", dropfile)"
   ]
  },
  {
   "cell_type": "code",
   "execution_count": null,
   "metadata": {},
   "outputs": [],
   "source": [
    "error_log"
   ]
  },
  {
   "cell_type": "code",
   "execution_count": 18,
   "metadata": {},
   "outputs": [
    {
     "data": {
      "text/plain": [
       "['BeautifulSoup',\n",
       " 'Chrome',\n",
       " 'Keys',\n",
       " 'Options',\n",
       " '__builtins__',\n",
       " '__cached__',\n",
       " '__doc__',\n",
       " '__file__',\n",
       " '__loader__',\n",
       " '__name__',\n",
       " '__package__',\n",
       " '__spec__',\n",
       " 'acct_match',\n",
       " 'big_match',\n",
       " 'check_the_box',\n",
       " 'export_data',\n",
       " 'json',\n",
       " 'json_normalize',\n",
       " 'logon',\n",
       " 'np',\n",
       " 'os',\n",
       " 'pd',\n",
       " 'ui',\n",
       " 'webdriver']"
      ]
     },
     "execution_count": 18,
     "metadata": {},
     "output_type": "execute_result"
    }
   ],
   "source": [
    "dir(EPOwebscrape)"
   ]
  },
  {
   "cell_type": "code",
   "execution_count": null,
   "metadata": {},
   "outputs": [],
   "source": []
  },
  {
   "cell_type": "code",
   "execution_count": null,
   "metadata": {},
   "outputs": [],
   "source": []
  }
 ],
 "metadata": {
  "kernelspec": {
   "display_name": "Python 3",
   "language": "python",
   "name": "python3"
  },
  "language_info": {
   "codemirror_mode": {
    "name": "ipython",
    "version": 3
   },
   "file_extension": ".py",
   "mimetype": "text/x-python",
   "name": "python",
   "nbconvert_exporter": "python",
   "pygments_lexer": "ipython3",
   "version": "3.6.7"
  }
 },
 "nbformat": 4,
 "nbformat_minor": 2
}
