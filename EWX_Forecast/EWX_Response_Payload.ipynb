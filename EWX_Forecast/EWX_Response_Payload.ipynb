{
 "cells": [
  {
   "cell_type": "markdown",
   "metadata": {},
   "source": [
    "# Parse EWX Response Payload"
   ]
  },
  {
   "cell_type": "code",
   "execution_count": 8,
   "metadata": {},
   "outputs": [],
   "source": [
    "%matplotlib notebook\n",
    "from matplotlib import pyplot as plt\n",
    "from datetime import datetime\n",
    "import numpy as np\n",
    "import pandas as pd\n",
    "import EWX_forecast as ewx\n",
    "import json\n",
    "import os\n",
    "json_files = '/home/jupyter-engiela/la-tools-test/EWX_Forecast/json'\n",
    "csv_files = '/home/jupyter-engiela/la-tools-test/EWX_Forecast/csv'\n",
    "os.chdir(json_files)"
   ]
  },
  {
   "cell_type": "markdown",
   "metadata": {},
   "source": [
    "## Show files in json directory"
   ]
  },
  {
   "cell_type": "code",
   "execution_count": 2,
   "metadata": {},
   "outputs": [
    {
     "name": "stdout",
     "output_type": "stream",
     "text": [
      "files found in dir:  /home/jupyter-engiela/la-tools-test/EWX_Forecast/json\n",
      "                                              files                time\n",
      "0  20190910142101115000_NEPOOL_MECO_7804345012.json 2019-09-10 19:58:36\n",
      "1                        NEPOOL_MECO_4070532011.csv 2019-09-01 08:02:43\n",
      "2                    CAP_NEPOOL_MECO_4070532011.csv 2019-09-01 08:02:43\n",
      "3  20190815110200818000_NEPOOL_MECO_4070532011.json 2019-09-01 07:56:21\n",
      "4                                          init.git 2019-08-30 20:16:39\n"
     ]
    }
   ],
   "source": [
    "filedf = ewx.sortdir(json_files, 5)"
   ]
  },
  {
   "cell_type": "code",
   "execution_count": 3,
   "metadata": {},
   "outputs": [
    {
     "data": {
      "text/plain": [
       "0    20190910142101115000_NEPOOL_MECO_7804345012.json\n",
       "Name: files, dtype: object"
      ]
     },
     "execution_count": 3,
     "metadata": {},
     "output_type": "execute_result"
    }
   ],
   "source": [
    "files = filedf.files[[1]]\n",
    "files"
   ]
  },
  {
   "cell_type": "markdown",
   "metadata": {},
   "source": [
    "## Parse & save response to dataframe"
   ]
  },
  {
   "cell_type": "code",
   "execution_count": 9,
   "metadata": {},
   "outputs": [
    {
     "name": "stdout",
     "output_type": "stream",
     "text": [
      "loading json...\n",
      "found  12 reads, creating dataset.\n",
      "found  12 reads, creating dataset.\n",
      "                     t         v\n",
      "0  2019-01-01 00:00:00  5.680122\n",
      "1  2019-01-01 01:00:00  5.383122\n",
      "2  2019-01-01 02:00:00  5.308872\n",
      "3  2019-01-01 03:00:00  5.680122\n",
      "4  2019-01-01 04:00:00  5.828622\n",
      "                         t         v\n",
      "99307  2030-04-30 19:00:00  6.852824\n",
      "99308  2030-04-30 20:00:00  6.635274\n",
      "99309  2030-04-30 21:00:00  6.055141\n",
      "99310  2030-04-30 22:00:00  5.765074\n",
      "99311  2030-04-30 23:00:00  5.257457\n",
      "saving to dataframe...\n",
      "writing file to csv\n"
     ]
    }
   ],
   "source": [
    "for f in files:\n",
    "    forecasts = ewx.json_parse_csv(f)    "
   ]
  },
  {
   "cell_type": "markdown",
   "metadata": {},
   "source": [
    "### Plot data"
   ]
  },
  {
   "cell_type": "code",
   "execution_count": 2,
   "metadata": {
    "scrolled": true
   },
   "outputs": [
    {
     "ename": "NameError",
     "evalue": "name 'forecasts' is not defined",
     "output_type": "error",
     "traceback": [
      "\u001b[0;31m---------------------------------------------------------------------------\u001b[0m",
      "\u001b[0;31mNameError\u001b[0m                                 Traceback (most recent call last)",
      "\u001b[0;32m<ipython-input-2-adb0d31c9414>\u001b[0m in \u001b[0;36m<module>\u001b[0;34m\u001b[0m\n\u001b[0;32m----> 1\u001b[0;31m \u001b[0mforecasts\u001b[0m\u001b[0;34m[\u001b[0m\u001b[0;34m[\u001b[0m\u001b[0mt\u001b[0m\u001b[0;34m.\u001b[0m\u001b[0myear\u001b[0m \u001b[0;34m<\u001b[0m \u001b[0;36m2021\u001b[0m \u001b[0;32mfor\u001b[0m \u001b[0mt\u001b[0m \u001b[0;32min\u001b[0m \u001b[0mforecasts\u001b[0m\u001b[0;34m[\u001b[0m\u001b[0;34m't'\u001b[0m\u001b[0;34m]\u001b[0m\u001b[0;34m]\u001b[0m\u001b[0;34m]\u001b[0m\u001b[0;34m.\u001b[0m\u001b[0mplot\u001b[0m\u001b[0;34m(\u001b[0m\u001b[0my\u001b[0m \u001b[0;34m=\u001b[0m \u001b[0;34m'v'\u001b[0m\u001b[0;34m)\u001b[0m\u001b[0;34m\u001b[0m\u001b[0m\n\u001b[0m",
      "\u001b[0;31mNameError\u001b[0m: name 'forecasts' is not defined"
     ]
    }
   ],
   "source": [
    "forecasts[[t.year < 2021 for t in forecasts['t']]].plot(y = 'v')"
   ]
  },
  {
   "cell_type": "markdown",
   "metadata": {},
   "source": [
    "## Parse Response File"
   ]
  },
  {
   "cell_type": "code",
   "execution_count": 4,
   "metadata": {},
   "outputs": [
    {
     "ename": "NameError",
     "evalue": "name 'file' is not defined",
     "output_type": "error",
     "traceback": [
      "\u001b[1;31m---------------------------------------------------------------------------\u001b[0m",
      "\u001b[1;31mNameError\u001b[0m                                 Traceback (most recent call last)",
      "\u001b[1;32m<ipython-input-4-194cb8b5281e>\u001b[0m in \u001b[0;36m<module>\u001b[1;34m\u001b[0m\n\u001b[1;32m----> 1\u001b[1;33m \u001b[1;32mwith\u001b[0m \u001b[0mopen\u001b[0m\u001b[1;33m(\u001b[0m\u001b[0mfile\u001b[0m\u001b[1;33m)\u001b[0m \u001b[1;32mas\u001b[0m \u001b[0mraw\u001b[0m\u001b[1;33m:\u001b[0m\u001b[1;33m\u001b[0m\u001b[1;33m\u001b[0m\u001b[0m\n\u001b[0m\u001b[0;32m      2\u001b[0m     \u001b[0mprint\u001b[0m\u001b[1;33m(\u001b[0m\u001b[1;34m\"loading json...\"\u001b[0m\u001b[1;33m)\u001b[0m\u001b[1;33m\u001b[0m\u001b[1;33m\u001b[0m\u001b[0m\n\u001b[0;32m      3\u001b[0m     \u001b[0mdata\u001b[0m \u001b[1;33m=\u001b[0m \u001b[0mjson\u001b[0m\u001b[1;33m.\u001b[0m\u001b[0mload\u001b[0m\u001b[1;33m(\u001b[0m\u001b[0mraw\u001b[0m\u001b[1;33m)\u001b[0m \u001b[1;31m#raw json file\u001b[0m\u001b[1;33m\u001b[0m\u001b[1;33m\u001b[0m\u001b[0m\n\u001b[0;32m      4\u001b[0m     \u001b[0macct\u001b[0m \u001b[1;33m=\u001b[0m \u001b[0mdata\u001b[0m\u001b[1;33m[\u001b[0m\u001b[1;34m'account'\u001b[0m\u001b[1;33m]\u001b[0m \u001b[1;31m#get account data\u001b[0m\u001b[1;33m\u001b[0m\u001b[1;33m\u001b[0m\u001b[0m\n\u001b[0;32m      5\u001b[0m     \u001b[0msca\u001b[0m \u001b[1;33m=\u001b[0m \u001b[0macct\u001b[0m\u001b[1;33m[\u001b[0m\u001b[1;34m'timeseriesdatascalar'\u001b[0m\u001b[1;33m]\u001b[0m \u001b[1;31m#scalar data\u001b[0m\u001b[1;33m\u001b[0m\u001b[1;33m\u001b[0m\u001b[0m\n",
      "\u001b[1;31mNameError\u001b[0m: name 'file' is not defined"
     ]
    }
   ],
   "source": [
    "with open(file) as raw:\n",
    "    print(\"loading json...\")\n",
    "    data = json.load(raw) #raw json file\n",
    "    acct = data['account'] #get account data\n",
    "    sca = acct['timeseriesdatascalar'] #scalar data\n",
    "    ch3 = acct['timeseriesdataidr'] #dictionary of acct attributes\n",
    "    n = len(ch3)\n",
    "        \n",
    "    filename = file.split('_')[1:]\n",
    "    filename = '_'.join(filename)\n",
    "    filename = filename.replace('.json', '.csv')\n",
    "    print('file name: {}'.format(filename))\n",
    "        \n",
    "    reads = ch3[0]['reads']\n",
    "    caps = pd.DataFrame.from_records(acct['captag'])\n",
    "    g = ''.join(['CAP_', filename])\n",
    "    caps.to_csv(g)\n",
    "    master_df = pd.DataFrame.from_dict(reads)\n",
    "    \n",
    "    scalar = pd.DataFrame(sca)\n",
    "    sname = ''.join(['SCA_', filename])\n",
    "        \n",
    "    print('found ', n, 'reads, creating dataset.')\n",
    "        \n",
    "    for i in range(1,n):\n",
    "        reads = ch3[i]['reads']\n",
    "        temp = pd.DataFrame.from_dict(reads)\n",
    "        master_df = pd.concat([master_df, temp]).reset_index(drop = True)\n",
    "        \n",
    "    print(master_df.head())\n",
    "    print(master_df.tail())\n",
    "        \n",
    "    \n",
    "    print(\"saving to dataframe...\")\n",
    "    \n",
    "    mastername = filename.split('.')[0]\n",
    "    mastername = '_'.join([filename, 'master.json'])\n",
    "\n",
    "    print('writing file to csv')\n",
    "    idr = ''.join(['IDR_', filename])\n",
    "    master_df.to_csv(idr, sep = \",\", header = True, index = False)"
   ]
  },
  {
   "cell_type": "code",
   "execution_count": 20,
   "metadata": {},
   "outputs": [
    {
     "data": {
      "text/html": [
       "<div>\n",
       "<style scoped>\n",
       "    .dataframe tbody tr th:only-of-type {\n",
       "        vertical-align: middle;\n",
       "    }\n",
       "\n",
       "    .dataframe tbody tr th {\n",
       "        vertical-align: top;\n",
       "    }\n",
       "\n",
       "    .dataframe thead th {\n",
       "        text-align: right;\n",
       "    }\n",
       "</style>\n",
       "<table border=\"1\" class=\"dataframe\">\n",
       "  <thead>\n",
       "    <tr style=\"text-align: right;\">\n",
       "      <th></th>\n",
       "      <th>start</th>\n",
       "      <th>stop</th>\n",
       "      <th>sv</th>\n",
       "      <th>v</th>\n",
       "    </tr>\n",
       "  </thead>\n",
       "  <tbody>\n",
       "    <tr>\n",
       "      <td>0</td>\n",
       "      <td>2019-06-01 00:00:00</td>\n",
       "      <td>2020-05-31 23:59:59</td>\n",
       "      <td>H</td>\n",
       "      <td>245.422</td>\n",
       "    </tr>\n",
       "    <tr>\n",
       "      <td>1</td>\n",
       "      <td>2020-06-01 00:00:00</td>\n",
       "      <td>2021-05-31 23:59:59</td>\n",
       "      <td>S</td>\n",
       "      <td>245.422</td>\n",
       "    </tr>\n",
       "    <tr>\n",
       "      <td>2</td>\n",
       "      <td>2021-06-01 00:00:00</td>\n",
       "      <td>2031-05-31 23:59:59</td>\n",
       "      <td>S</td>\n",
       "      <td>245.422</td>\n",
       "    </tr>\n",
       "  </tbody>\n",
       "</table>\n",
       "</div>"
      ],
      "text/plain": [
       "                 start                 stop sv        v\n",
       "0  2019-06-01 00:00:00  2020-05-31 23:59:59  H  245.422\n",
       "1  2020-06-01 00:00:00  2021-05-31 23:59:59  S  245.422\n",
       "2  2021-06-01 00:00:00  2031-05-31 23:59:59  S  245.422"
      ]
     },
     "execution_count": 20,
     "metadata": {},
     "output_type": "execute_result"
    }
   ],
   "source": [
    "caps"
   ]
  }
 ],
 "metadata": {
  "kernelspec": {
   "display_name": "Python 3",
   "language": "python",
   "name": "python3"
  },
  "language_info": {
   "codemirror_mode": {
    "name": "ipython",
    "version": 3
   },
   "file_extension": ".py",
   "mimetype": "text/x-python",
   "name": "python",
   "nbconvert_exporter": "python",
   "pygments_lexer": "ipython3",
   "version": "3.6.4"
  }
 },
 "nbformat": 4,
 "nbformat_minor": 2
}
