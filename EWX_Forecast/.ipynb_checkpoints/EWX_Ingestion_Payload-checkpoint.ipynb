{
 "cells": [
  {
   "cell_type": "markdown",
   "metadata": {},
   "source": [
    "# Parse EWX Ingestion Payload"
   ]
  },
  {
   "cell_type": "code",
   "execution_count": 8,
   "metadata": {},
   "outputs": [],
   "source": [
    "%matplotlib notebook\n",
    "from matplotlib import pyplot as plt\n",
    "from datetime import datetime\n",
    "import numpy as np\n",
    "import pandas as pd\n",
    "import EWX_forecast as ewx\n",
    "import pprint\n",
    "import json\n",
    "import os\n",
    "\n",
    "base = os.getcwd()\n",
    "pp = pprint.PrettyPrinter(3)"
   ]
  },
  {
   "cell_type": "markdown",
   "metadata": {},
   "source": [
    "## Show json files, parse ingest"
   ]
  },
  {
   "cell_type": "code",
   "execution_count": 6,
   "metadata": {},
   "outputs": [
    {
     "name": "stdout",
     "output_type": "stream",
     "text": [
      "files found in dir:  /Users/stevenhurwitt/la-tools-test/EWX_Forecast\n",
      "                         files                time\n",
      "0  EWX_Ingestion_Payload.ipynb 2019-10-19 06:43:01\n",
      "1                  __pycache__ 2019-10-19 06:42:33\n",
      "2   EWX_Response_Payload.ipynb 2019-10-19 06:42:25\n",
      "3           .ipynb_checkpoints 2019-10-19 06:40:58\n",
      "4                         json 2019-10-18 20:37:15\n"
     ]
    },
    {
     "data": {
      "text/plain": [
       "0    EWX_Ingestion_Payload.ipynb\n",
       "Name: files, dtype: object"
      ]
     },
     "execution_count": 6,
     "metadata": {},
     "output_type": "execute_result"
    }
   ],
   "source": [
    "filedf = ewx.sortdir(base, 5)\n",
    "json_file = filedf.files[[0]]\n",
    "json_file"
   ]
  },
  {
   "cell_type": "code",
   "execution_count": null,
   "metadata": {},
   "outputs": [],
   "source": [
    "with open(file) as raw:\n",
    "    print(\"loading json...\")\n",
    "    data = json.load(raw) #raw json file\n",
    "    acct = data['account'] #get account data\n",
    "    idr = acct['timeseriesdataidr'] #dictionary of acct attributes\n",
    "    sca = acct['timeseriesdatascalar']\n",
    "\n",
    "pp.pprint(acct)"
   ]
  },
  {
   "cell_type": "markdown",
   "metadata": {},
   "source": [
    "## Scalar"
   ]
  },
  {
   "cell_type": "code",
   "execution_count": null,
   "metadata": {},
   "outputs": [],
   "source": [
    "sca = pd.DataFrame(sca)\n",
    "sca"
   ]
  },
  {
   "cell_type": "markdown",
   "metadata": {},
   "source": [
    "## Tags"
   ]
  },
  {
   "cell_type": "code",
   "execution_count": null,
   "metadata": {},
   "outputs": [],
   "source": [
    "caps = pd.DataFrame.from_records(acct['captag'])\n",
    "caps"
   ]
  },
  {
   "cell_type": "markdown",
   "metadata": {},
   "source": [
    "## Plot ingest IDR"
   ]
  },
  {
   "cell_type": "code",
   "execution_count": null,
   "metadata": {},
   "outputs": [],
   "source": [
    "reads = idr[0]['reads']\n",
    "temp = pd.DataFrame.from_dict(reads)\n",
    "temp['v'] = pd.to_numeric(temp['v'])\n",
    "temp.plot(y = 'v')"
   ]
  },
  {
   "cell_type": "markdown",
   "metadata": {},
   "source": [
    "## Read in adjusted IDR"
   ]
  },
  {
   "cell_type": "code",
   "execution_count": null,
   "metadata": {},
   "outputs": [],
   "source": [
    "filedf = ewx.sortdir(base, 5)\n",
    "csv_file = filedf.files[[1]]\n",
    "csv_file"
   ]
  },
  {
   "cell_type": "code",
   "execution_count": null,
   "metadata": {},
   "outputs": [],
   "source": [
    "new_idr = pd.read_csv(csv_file)\n",
    "new_idr.columns = ['t', 'v']\n",
    "new_idr['t'] = pd.to_datetime(new_idr['t'])\n",
    "new_idr.plot(y = 'v', color = 'orange')"
   ]
  },
  {
   "cell_type": "code",
   "execution_count": null,
   "metadata": {},
   "outputs": [],
   "source": [
    "new_idr['t'] = [str(t) for t in new_idr.t]\n",
    "new_idr['v'] = [str(v) for v in new_idr.v]\n",
    "json_df = new_idr.to_json(orient = 'records')\n",
    "json_df = json.loads(json_df)"
   ]
  },
  {
   "cell_type": "markdown",
   "metadata": {},
   "source": [
    "## Add IDR to IDR payload"
   ]
  },
  {
   "cell_type": "code",
   "execution_count": null,
   "metadata": {},
   "outputs": [],
   "source": [
    "idr[0]['reads'] = json_df"
   ]
  },
  {
   "cell_type": "markdown",
   "metadata": {},
   "source": [
    "## Add IDR to scalar payload"
   ]
  },
  {
   "cell_type": "code",
   "execution_count": null,
   "metadata": {},
   "outputs": [],
   "source": [
    "acct['timeseriesdataidr'] = []\n",
    "idr.append(dict([('reads', json_df)]))\n",
    "acct['timeseriesdataidr'] = idr"
   ]
  },
  {
   "cell_type": "code",
   "execution_count": null,
   "metadata": {},
   "outputs": [],
   "source": [
    "pp.pprint(acct)"
   ]
  },
  {
   "cell_type": "markdown",
   "metadata": {},
   "source": [
    "## Write modified .json file"
   ]
  },
  {
   "cell_type": "code",
   "execution_count": null,
   "metadata": {},
   "outputs": [],
   "source": [
    "json_file"
   ]
  },
  {
   "cell_type": "code",
   "execution_count": null,
   "metadata": {},
   "outputs": [],
   "source": [
    "fp = os.path.join(filepath, json_file)\n",
    "final_json = json.dumps(data)\n",
    "\n",
    "with open(json_file, 'w') as f:\n",
    "    f.write(final_json)"
   ]
  }
 ],
 "metadata": {
  "kernelspec": {
   "display_name": "Python 3",
   "language": "python",
   "name": "python3"
  },
  "language_info": {
   "codemirror_mode": {
    "name": "ipython",
    "version": 3
   },
   "file_extension": ".py",
   "mimetype": "text/x-python",
   "name": "python",
   "nbconvert_exporter": "python",
   "pygments_lexer": "ipython3",
   "version": "3.6.4"
  }
 },
 "nbformat": 4,
 "nbformat_minor": 2
}
