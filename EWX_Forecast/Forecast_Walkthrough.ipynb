{
 "cells": [
  {
   "cell_type": "markdown",
   "metadata": {},
   "source": [
    "# EWX Forecasting Walkthrough"
   ]
  },
  {
   "cell_type": "code",
<<<<<<< HEAD
   "execution_count": 36,
=======
   "execution_count": 1,
>>>>>>> ee13c270a4a50ad6ed27ce54e8c7a5ae2ac08154
   "metadata": {},
   "outputs": [],
   "source": [
    "%matplotlib inline\n",
    "import pandas as pd\n",
    "import numpy as np\n",
    "import datetime as dt\n",
    "import matplotlib.pyplot as plt\n",
    "import json\n",
    "import math\n",
    "from collections import deque\n",
    "import EWX_forecast as ewx\n",
    "import pprint\n",
    "import os\n",
    "\n",
    "csv = 'C:\\\\Users\\\\wb5888\\\\LA-tools\\\\EWX_Forecast\\\\csv'"
   ]
  },
  {
   "cell_type": "markdown",
   "metadata": {},
   "source": [
    "## Chose file to upload"
   ]
  },
  {
   "cell_type": "code",
<<<<<<< HEAD
   "execution_count": 37,
=======
   "execution_count": 2,
>>>>>>> ee13c270a4a50ad6ed27ce54e8c7a5ae2ac08154
   "metadata": {},
   "outputs": [
    {
     "name": "stdout",
     "output_type": "stream",
     "text": [
      "files found in dir:  C:\\Users\\wb5888\\LA-tools\\EWX_Forecast\\csv\n",
<<<<<<< HEAD
      "                                files                time\n",
      "0  NEPOOL_MECO_2629670017_adj_adj.csv 2019-07-24 10:29:48\n",
      "1  NEPOOL_MECO_2629670017_adj_val.csv 2019-07-24 10:06:41\n",
      "2      NEPOOL_MECO_2629670017_adj.csv 2019-07-24 09:46:47\n",
      "3      NEPOOL_MECO_2629670017_SCA.csv 2019-07-22 15:35:42\n",
      "4      NEPOOL_MECO_2629670017_idr.csv 2019-07-22 15:31:10\n",
      "5  NEPOOL_MECO_2629670017_ch3 (2).csv 2019-07-22 15:31:02\n",
      "6                       lakes_idr.csv 2019-07-22 13:47:42\n",
      "7      NEPOOL_MECO_2629670017_ch1.csv 2019-07-22 11:15:56\n",
      "8      NEPOOL_MECO_2629670017_ch3.csv 2019-07-22 11:13:37\n",
      "9                            4A657000 2019-07-22 11:10:53\n"
=======
      "                                            files                time\n",
      "0                  NEPOOL_MECO_2629670017_SCA.csv 2019-07-22 15:35:42\n",
      "1                  NEPOOL_MECO_2629670017_idr.csv 2019-07-22 15:31:10\n",
      "2              NEPOOL_MECO_2629670017_ch3 (2).csv 2019-07-22 15:31:02\n",
      "3                                   lakes_idr.csv 2019-07-22 13:47:42\n",
      "4                  NEPOOL_MECO_2629670017_ch1.csv 2019-07-22 11:15:56\n",
      "5                  NEPOOL_MECO_2629670017_ch3.csv 2019-07-22 11:13:37\n",
      "6                                        4A657000 2019-07-22 11:10:53\n",
      "7         NEPOOL_CLP_51595487000_641912009_ts.csv 2019-07-19 09:05:47\n",
      "8     NEPOOL_CLP_51595487000_641912009_ts2019.csv 2019-07-19 09:04:28\n",
      "9  NEPOOL_CLP_51595487000_641912009_timeshift.csv 2019-07-19 09:03:21\n"
>>>>>>> ee13c270a4a50ad6ed27ce54e8c7a5ae2ac08154
     ]
    }
   ],
   "source": [
    "files = ewx.sortdir(csv, 10)"
   ]
  },
  {
   "cell_type": "code",
<<<<<<< HEAD
   "execution_count": 38,
=======
   "execution_count": 3,
>>>>>>> ee13c270a4a50ad6ed27ce54e8c7a5ae2ac08154
   "metadata": {},
   "outputs": [
    {
     "name": "stdout",
     "output_type": "stream",
     "text": [
<<<<<<< HEAD
      "working with NEPOOL_MECO_2629670017_adj_adj.csv\n"
=======
      "working with NEPOOL_MECO_2629670017_idr.csv\n"
>>>>>>> ee13c270a4a50ad6ed27ce54e8c7a5ae2ac08154
     ]
    }
   ],
   "source": [
<<<<<<< HEAD
    "myfile = files.files[0]\n",
=======
    "myfile = files.files[1]\n",
>>>>>>> ee13c270a4a50ad6ed27ce54e8c7a5ae2ac08154
    "print('working with {}'.format(myfile))"
   ]
  },
  {
   "cell_type": "markdown",
   "metadata": {},
   "source": [
    "## Import & plot"
   ]
  },
  {
   "cell_type": "code",
<<<<<<< HEAD
   "execution_count": 39,
=======
   "execution_count": 4,
>>>>>>> ee13c270a4a50ad6ed27ce54e8c7a5ae2ac08154
   "metadata": {},
   "outputs": [
    {
     "name": "stdout",
     "output_type": "stream",
     "text": [
      "read data from disk...\n",
      "type conversions done...\n",
      "data loaded. \n",
      "\n"
     ]
    },
    {
     "data": {
      "text/html": [
       "<div>\n",
       "<style scoped>\n",
       "    .dataframe tbody tr th:only-of-type {\n",
       "        vertical-align: middle;\n",
       "    }\n",
       "\n",
       "    .dataframe tbody tr th {\n",
       "        vertical-align: top;\n",
       "    }\n",
       "\n",
       "    .dataframe thead th {\n",
       "        text-align: right;\n",
       "    }\n",
       "</style>\n",
       "<table border=\"1\" class=\"dataframe\">\n",
       "  <thead>\n",
       "    <tr style=\"text-align: right;\">\n",
       "      <th></th>\n",
       "      <th>v</th>\n",
       "    </tr>\n",
       "    <tr>\n",
       "      <th>t</th>\n",
       "      <th></th>\n",
       "    </tr>\n",
       "  </thead>\n",
       "  <tbody>\n",
       "    <tr>\n",
<<<<<<< HEAD
       "      <th>2018-07-01 00:00:00</th>\n",
       "      <td>423.242702</td>\n",
       "    </tr>\n",
       "    <tr>\n",
       "      <th>2018-07-01 01:00:00</th>\n",
       "      <td>418.131122</td>\n",
       "    </tr>\n",
       "    <tr>\n",
       "      <th>2018-07-01 02:00:00</th>\n",
       "      <td>415.686453</td>\n",
       "    </tr>\n",
       "    <tr>\n",
       "      <th>2018-07-01 03:00:00</th>\n",
       "      <td>411.686086</td>\n",
       "    </tr>\n",
       "    <tr>\n",
       "      <th>2018-07-01 04:00:00</th>\n",
       "      <td>406.352263</td>\n",
=======
       "      <th>2018-01-08 00:00:00</th>\n",
       "      <td>128.145916</td>\n",
       "    </tr>\n",
       "    <tr>\n",
       "      <th>2018-01-08 01:00:00</th>\n",
       "      <td>125.897742</td>\n",
       "    </tr>\n",
       "    <tr>\n",
       "      <th>2018-01-08 02:00:00</th>\n",
       "      <td>126.294478</td>\n",
       "    </tr>\n",
       "    <tr>\n",
       "      <th>2018-01-08 03:00:00</th>\n",
       "      <td>129.203880</td>\n",
       "    </tr>\n",
       "    <tr>\n",
       "      <th>2018-01-08 04:00:00</th>\n",
       "      <td>128.674898</td>\n",
>>>>>>> ee13c270a4a50ad6ed27ce54e8c7a5ae2ac08154
       "    </tr>\n",
       "  </tbody>\n",
       "</table>\n",
       "</div>"
      ],
      "text/plain": [
       "                              v\n",
       "t                              \n",
<<<<<<< HEAD
       "2018-07-01 00:00:00  423.242702\n",
       "2018-07-01 01:00:00  418.131122\n",
       "2018-07-01 02:00:00  415.686453\n",
       "2018-07-01 03:00:00  411.686086\n",
       "2018-07-01 04:00:00  406.352263"
      ]
     },
     "execution_count": 39,
=======
       "2018-01-08 00:00:00  128.145916\n",
       "2018-01-08 01:00:00  125.897742\n",
       "2018-01-08 02:00:00  126.294478\n",
       "2018-01-08 03:00:00  129.203880\n",
       "2018-01-08 04:00:00  128.674898"
      ]
     },
     "execution_count": 4,
>>>>>>> ee13c270a4a50ad6ed27ce54e8c7a5ae2ac08154
     "metadata": {},
     "output_type": "execute_result"
    }
   ],
   "source": [
    "idr = pd.read_csv(myfile)\n",
    "print('read data from disk...')\n",
    "\n",
    "idr.columns = ['t', 'v']\n",
    "idr['v'] = pd.to_numeric(idr['v'], errors = 'coerce')\n",
    "idr.t = pd.to_datetime(idr.t, errors = 'coerce')\n",
    "idr.set_index(pd.DatetimeIndex(idr.t), inplace = True, drop = True)\n",
    "\n",
    "idr = idr.drop('t', axis = 1)\n",
    "idr.dropna(inplace = True, axis = 0)\n",
    "print('type conversions done...')\n",
    "\n",
    "print('data loaded. ')\n",
    "print('')\n",
    "idr.head()"
   ]
  },
  {
   "cell_type": "code",
<<<<<<< HEAD
   "execution_count": 40,
=======
   "execution_count": 5,
>>>>>>> ee13c270a4a50ad6ed27ce54e8c7a5ae2ac08154
   "metadata": {},
   "outputs": [
    {
     "data": {
      "text/plain": [
<<<<<<< HEAD
       "<matplotlib.axes._subplots.AxesSubplot at 0x104d1410>"
      ]
     },
     "execution_count": 40,
=======
       "<matplotlib.axes._subplots.AxesSubplot at 0xc043fd0>"
      ]
     },
     "execution_count": 5,
>>>>>>> ee13c270a4a50ad6ed27ce54e8c7a5ae2ac08154
     "metadata": {},
     "output_type": "execute_result"
    },
    {
     "data": {
<<<<<<< HEAD
      "image/png": "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\n",
=======
      "image/png": "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\n",
>>>>>>> ee13c270a4a50ad6ed27ce54e8c7a5ae2ac08154
      "text/plain": [
       "<Figure size 432x288 with 1 Axes>"
      ]
     },
     "metadata": {
      "needs_background": "light"
     },
     "output_type": "display_data"
    }
   ],
   "source": [
    "idr.plot(y = 'v')"
   ]
  },
  {
   "cell_type": "markdown",
   "metadata": {},
   "source": [
    "# Default IDR Config"
   ]
  },
  {
   "cell_type": "markdown",
   "metadata": {},
   "source": [
    "## Periodic Zeros\n",
    "1. threshold (less than this is considered zero) \n",
    "2. periodicity percent (percent of time weekdays have to be zero to be nonperiodic)"
   ]
  },
  {
   "cell_type": "code",
<<<<<<< HEAD
   "execution_count": 55,
=======
   "execution_count": 6,
>>>>>>> ee13c270a4a50ad6ed27ce54e8c7a5ae2ac08154
   "metadata": {},
   "outputs": [
    {
     "data": {
      "text/html": [
       "<div>\n",
       "<style scoped>\n",
       "    .dataframe tbody tr th:only-of-type {\n",
       "        vertical-align: middle;\n",
       "    }\n",
       "\n",
       "    .dataframe tbody tr th {\n",
       "        vertical-align: top;\n",
       "    }\n",
       "\n",
       "    .dataframe thead th {\n",
       "        text-align: right;\n",
       "    }\n",
       "</style>\n",
       "<table border=\"1\" class=\"dataframe\">\n",
       "  <thead>\n",
       "    <tr style=\"text-align: right;\">\n",
       "      <th></th>\n",
       "      <th>v</th>\n",
       "      <th>d</th>\n",
       "      <th>h</th>\n",
       "      <th>pz</th>\n",
       "      <th>lr</th>\n",
       "    </tr>\n",
       "    <tr>\n",
       "      <th>t</th>\n",
       "      <th></th>\n",
       "      <th></th>\n",
       "      <th></th>\n",
       "      <th></th>\n",
       "      <th></th>\n",
       "    </tr>\n",
       "  </thead>\n",
       "  <tbody>\n",
       "    <tr>\n",
<<<<<<< HEAD
       "      <th>2018-07-01 00:00:00</th>\n",
       "      <td>423.242702</td>\n",
       "      <td>6</td>\n",
=======
       "      <th>2018-01-08 00:00:00</th>\n",
       "      <td>128.145916</td>\n",
       "      <td>0</td>\n",
>>>>>>> ee13c270a4a50ad6ed27ce54e8c7a5ae2ac08154
       "      <td>0</td>\n",
       "      <td>0.0</td>\n",
       "      <td>False</td>\n",
       "    </tr>\n",
       "    <tr>\n",
<<<<<<< HEAD
       "      <th>2018-07-01 01:00:00</th>\n",
       "      <td>418.131122</td>\n",
       "      <td>6</td>\n",
=======
       "      <th>2018-01-08 01:00:00</th>\n",
       "      <td>125.897742</td>\n",
       "      <td>0</td>\n",
>>>>>>> ee13c270a4a50ad6ed27ce54e8c7a5ae2ac08154
       "      <td>1</td>\n",
       "      <td>0.0</td>\n",
       "      <td>False</td>\n",
       "    </tr>\n",
       "    <tr>\n",
<<<<<<< HEAD
       "      <th>2018-07-01 02:00:00</th>\n",
       "      <td>415.686453</td>\n",
       "      <td>6</td>\n",
=======
       "      <th>2018-01-08 02:00:00</th>\n",
       "      <td>126.294478</td>\n",
       "      <td>0</td>\n",
>>>>>>> ee13c270a4a50ad6ed27ce54e8c7a5ae2ac08154
       "      <td>2</td>\n",
       "      <td>0.0</td>\n",
       "      <td>False</td>\n",
       "    </tr>\n",
       "    <tr>\n",
<<<<<<< HEAD
       "      <th>2018-07-01 03:00:00</th>\n",
       "      <td>411.686086</td>\n",
       "      <td>6</td>\n",
=======
       "      <th>2018-01-08 03:00:00</th>\n",
       "      <td>129.203880</td>\n",
       "      <td>0</td>\n",
>>>>>>> ee13c270a4a50ad6ed27ce54e8c7a5ae2ac08154
       "      <td>3</td>\n",
       "      <td>0.0</td>\n",
       "      <td>False</td>\n",
       "    </tr>\n",
       "    <tr>\n",
<<<<<<< HEAD
       "      <th>2018-07-01 04:00:00</th>\n",
       "      <td>406.352263</td>\n",
       "      <td>6</td>\n",
=======
       "      <th>2018-01-08 04:00:00</th>\n",
       "      <td>128.674898</td>\n",
       "      <td>0</td>\n",
>>>>>>> ee13c270a4a50ad6ed27ce54e8c7a5ae2ac08154
       "      <td>4</td>\n",
       "      <td>0.0</td>\n",
       "      <td>False</td>\n",
       "    </tr>\n",
       "  </tbody>\n",
       "</table>\n",
       "</div>"
      ],
      "text/plain": [
       "                              v  d  h   pz     lr\n",
       "t                                                \n",
<<<<<<< HEAD
       "2018-07-01 00:00:00  423.242702  6  0  0.0  False\n",
       "2018-07-01 01:00:00  418.131122  6  1  0.0  False\n",
       "2018-07-01 02:00:00  415.686453  6  2  0.0  False\n",
       "2018-07-01 03:00:00  411.686086  6  3  0.0  False\n",
       "2018-07-01 04:00:00  406.352263  6  4  0.0  False"
      ]
     },
     "execution_count": 55,
=======
       "2018-01-08 00:00:00  128.145916  0  0  0.0  False\n",
       "2018-01-08 01:00:00  125.897742  0  1  0.0  False\n",
       "2018-01-08 02:00:00  126.294478  0  2  0.0  False\n",
       "2018-01-08 03:00:00  129.203880  0  3  0.0  False\n",
       "2018-01-08 04:00:00  128.674898  0  4  0.0  False"
      ]
     },
     "execution_count": 6,
>>>>>>> ee13c270a4a50ad6ed27ce54e8c7a5ae2ac08154
     "metadata": {},
     "output_type": "execute_result"
    }
   ],
   "source": [
    "#check for nonperiodic zeros\n",
    "tmp2 = ewx.periodic_zero(idr, .01, 1)\n",
    "tmp2.head()"
   ]
  },
  {
   "cell_type": "markdown",
   "metadata": {},
   "source": [
    "## DST Check, Fix Nonhourly Intervals, Flag NA\n",
    "1. missing hour in March window or extra in Nov window - cleans\n",
    "2. adjusts nonhourly data\n",
    "3. flags values that were initially missing"
   ]
  },
  {
   "cell_type": "code",
<<<<<<< HEAD
   "execution_count": 63,
   "metadata": {},
   "outputs": [],
   "source": [
=======
   "execution_count": 7,
   "metadata": {},
   "outputs": [
    {
     "ename": "TypeError",
     "evalue": "zip argument #5 must support iteration",
     "output_type": "error",
     "traceback": [
      "\u001b[1;31m---------------------------------------------------------------------------\u001b[0m",
      "\u001b[1;31mTypeError\u001b[0m                                 Traceback (most recent call last)",
      "\u001b[1;32m<ipython-input-7-ef1804b6689c>\u001b[0m in \u001b[0;36m<module>\u001b[1;34m\u001b[0m\n\u001b[1;32m----> 1\u001b[1;33m \u001b[0mtmp2\u001b[0m \u001b[1;33m=\u001b[0m \u001b[0mewx\u001b[0m\u001b[1;33m.\u001b[0m\u001b[0mfix_interval\u001b[0m\u001b[1;33m(\u001b[0m\u001b[0mtmp2\u001b[0m\u001b[1;33m)\u001b[0m\u001b[1;33m\u001b[0m\u001b[1;33m\u001b[0m\u001b[0m\n\u001b[0m\u001b[0;32m      2\u001b[0m \u001b[0mtmp2\u001b[0m\u001b[1;33m.\u001b[0m\u001b[0mhead\u001b[0m\u001b[1;33m(\u001b[0m\u001b[1;33m)\u001b[0m\u001b[1;33m\u001b[0m\u001b[1;33m\u001b[0m\u001b[0m\n",
      "\u001b[1;32m~\\LA-tools\\EWX_Forecast\\EWX_forecast.py\u001b[0m in \u001b[0;36mfix_interval\u001b[1;34m(data)\u001b[0m\n\u001b[0;32m    343\u001b[0m     \u001b[0mdata\u001b[0m\u001b[1;33m[\u001b[0m\u001b[1;34m'mon'\u001b[0m\u001b[1;33m]\u001b[0m \u001b[1;33m=\u001b[0m \u001b[1;33m[\u001b[0m\u001b[0mtime\u001b[0m\u001b[1;33m.\u001b[0m\u001b[0mmonth\u001b[0m \u001b[1;32mfor\u001b[0m \u001b[0mtime\u001b[0m \u001b[1;32min\u001b[0m \u001b[0mtimes\u001b[0m\u001b[1;33m]\u001b[0m\u001b[1;33m\u001b[0m\u001b[1;33m\u001b[0m\u001b[0m\n\u001b[0;32m    344\u001b[0m \u001b[1;33m\u001b[0m\u001b[0m\n\u001b[1;32m--> 345\u001b[1;33m     \u001b[0mdata\u001b[0m\u001b[1;33m[\u001b[0m\u001b[1;34m'date'\u001b[0m\u001b[1;33m]\u001b[0m \u001b[1;33m=\u001b[0m \u001b[0mlist\u001b[0m\u001b[1;33m(\u001b[0m\u001b[0mzip\u001b[0m\u001b[1;33m(\u001b[0m\u001b[0mdata\u001b[0m\u001b[1;33m.\u001b[0m\u001b[0my\u001b[0m\u001b[1;33m,\u001b[0m \u001b[0mdata\u001b[0m\u001b[1;33m.\u001b[0m\u001b[0mmon\u001b[0m\u001b[1;33m,\u001b[0m \u001b[0mdata\u001b[0m\u001b[1;33m.\u001b[0m\u001b[0md\u001b[0m\u001b[1;33m,\u001b[0m \u001b[0mdata\u001b[0m\u001b[1;33m.\u001b[0m\u001b[0mh\u001b[0m\u001b[1;33m,\u001b[0m \u001b[0mdata\u001b[0m\u001b[1;33m.\u001b[0m\u001b[0mmin\u001b[0m\u001b[1;33m)\u001b[0m\u001b[1;33m)\u001b[0m\u001b[1;33m\u001b[0m\u001b[1;33m\u001b[0m\u001b[0m\n\u001b[0m\u001b[0;32m    346\u001b[0m \u001b[1;33m\u001b[0m\u001b[0m\n\u001b[0;32m    347\u001b[0m     \u001b[0mdata\u001b[0m \u001b[1;33m=\u001b[0m \u001b[0minterval_gap_check\u001b[0m\u001b[1;33m(\u001b[0m\u001b[0mdata\u001b[0m\u001b[1;33m)\u001b[0m\u001b[1;33m\u001b[0m\u001b[1;33m\u001b[0m\u001b[0m\n",
      "\u001b[1;31mTypeError\u001b[0m: zip argument #5 must support iteration"
     ]
    }
   ],
   "source": [
    "tmp2 = ewx.fix_interval(tmp2)\n",
>>>>>>> ee13c270a4a50ad6ed27ce54e8c7a5ae2ac08154
    "tmp2.head()"
   ]
  },
  {
<<<<<<< HEAD
   "cell_type": "code",
   "execution_count": 61,
   "metadata": {},
   "outputs": [],
   "source": [
    "#tmp2 = ewx.fix_interval(tmp2)\n",
    "#tmp2.head()\n",
    "tmp2['y'] = [a.year for a in tmp2.index]\n",
    "tmp2['mon'] = [a.month for a in tmp2.index]\n",
    "tmp2['day'] = [a.weekday for a in tmp2.index]\n",
    "tmp2['hr'] = [a.hour for a in tmp2.index]\n",
    "tmp2['min'] = [a.minute for a in tmp2.index]\n",
    "\n",
    "tmp2['date'] = list(zip(tmp2['y'], tmp2['mon'], tmp2['day'], tmp2['hr']))\n",
    "tmp2['monthly'] = list(zip(tmp2['y'], tmp2['mon']))"
   ]
  },
  {
=======
>>>>>>> ee13c270a4a50ad6ed27ce54e8c7a5ae2ac08154
   "cell_type": "markdown",
   "metadata": {},
   "source": [
    "## Variance Validation\n",
    "1. time window to calculate rolling statistics\n",
    "2. should window be centered\n",
    "3. number of standard deviations used to flag spikes & dips"
   ]
  },
  {
   "cell_type": "code",
<<<<<<< HEAD
   "execution_count": 56,
=======
   "execution_count": 8,
>>>>>>> ee13c270a4a50ad6ed27ce54e8c7a5ae2ac08154
   "metadata": {},
   "outputs": [
    {
     "data": {
      "text/html": [
       "<div>\n",
       "<style scoped>\n",
       "    .dataframe tbody tr th:only-of-type {\n",
       "        vertical-align: middle;\n",
       "    }\n",
       "\n",
       "    .dataframe tbody tr th {\n",
       "        vertical-align: top;\n",
       "    }\n",
       "\n",
       "    .dataframe thead th {\n",
       "        text-align: right;\n",
       "    }\n",
       "</style>\n",
       "<table border=\"1\" class=\"dataframe\">\n",
       "  <thead>\n",
       "    <tr style=\"text-align: right;\">\n",
       "      <th></th>\n",
       "      <th>v</th>\n",
       "      <th>d</th>\n",
       "      <th>h</th>\n",
       "      <th>pz</th>\n",
       "      <th>lr</th>\n",
<<<<<<< HEAD
=======
       "      <th>min</th>\n",
       "      <th>y</th>\n",
       "      <th>mon</th>\n",
>>>>>>> ee13c270a4a50ad6ed27ce54e8c7a5ae2ac08154
       "      <th>rm</th>\n",
       "      <th>mc</th>\n",
       "      <th>crm</th>\n",
       "      <th>crsd</th>\n",
       "      <th>var</th>\n",
       "      <th>spike</th>\n",
       "      <th>dip</th>\n",
       "    </tr>\n",
       "    <tr>\n",
       "      <th>t</th>\n",
       "      <th></th>\n",
       "      <th></th>\n",
       "      <th></th>\n",
       "      <th></th>\n",
       "      <th></th>\n",
       "      <th></th>\n",
       "      <th></th>\n",
       "      <th></th>\n",
       "      <th></th>\n",
       "      <th></th>\n",
       "      <th></th>\n",
       "      <th></th>\n",
<<<<<<< HEAD
=======
       "      <th></th>\n",
       "      <th></th>\n",
       "      <th></th>\n",
>>>>>>> ee13c270a4a50ad6ed27ce54e8c7a5ae2ac08154
       "    </tr>\n",
       "  </thead>\n",
       "  <tbody>\n",
       "    <tr>\n",
<<<<<<< HEAD
       "      <th>2018-07-01 00:00:00</th>\n",
       "      <td>423.242702</td>\n",
       "      <td>6</td>\n",
       "      <td>0</td>\n",
       "      <td>0.0</td>\n",
       "      <td>False</td>\n",
       "      <td>420.009535</td>\n",
       "      <td>3.233167</td>\n",
       "      <td>1.138448</td>\n",
       "      <td>22.708505</td>\n",
       "      <td>1.839977</td>\n",
=======
       "      <th>2018-01-08 00:00:00</th>\n",
       "      <td>128.145916</td>\n",
       "      <td>8</td>\n",
       "      <td>0</td>\n",
       "      <td>0.0</td>\n",
       "      <td>False</td>\n",
       "      <td>0</td>\n",
       "      <td>2018</td>\n",
       "      <td>1</td>\n",
       "      <td>132.864142</td>\n",
       "      <td>-4.718226</td>\n",
       "      <td>-0.050004</td>\n",
       "      <td>12.994637</td>\n",
       "      <td>93.357776</td>\n",
>>>>>>> ee13c270a4a50ad6ed27ce54e8c7a5ae2ac08154
       "      <td>False</td>\n",
       "      <td>False</td>\n",
       "    </tr>\n",
       "    <tr>\n",
<<<<<<< HEAD
       "      <th>2018-07-01 01:00:00</th>\n",
       "      <td>418.131122</td>\n",
       "      <td>6</td>\n",
       "      <td>1</td>\n",
       "      <td>0.0</td>\n",
       "      <td>False</td>\n",
       "      <td>420.048041</td>\n",
       "      <td>-1.916919</td>\n",
       "      <td>1.186910</td>\n",
       "      <td>22.695629</td>\n",
       "      <td>-2.615050</td>\n",
=======
       "      <th>2018-01-08 01:00:00</th>\n",
       "      <td>125.897742</td>\n",
       "      <td>8</td>\n",
       "      <td>1</td>\n",
       "      <td>0.0</td>\n",
       "      <td>False</td>\n",
       "      <td>0</td>\n",
       "      <td>2018</td>\n",
       "      <td>1</td>\n",
       "      <td>132.823231</td>\n",
       "      <td>-6.925489</td>\n",
       "      <td>-0.088958</td>\n",
       "      <td>12.997666</td>\n",
       "      <td>76.851191</td>\n",
>>>>>>> ee13c270a4a50ad6ed27ce54e8c7a5ae2ac08154
       "      <td>False</td>\n",
       "      <td>False</td>\n",
       "    </tr>\n",
       "    <tr>\n",
<<<<<<< HEAD
       "      <th>2018-07-01 02:00:00</th>\n",
       "      <td>415.686453</td>\n",
       "      <td>6</td>\n",
       "      <td>2</td>\n",
       "      <td>0.0</td>\n",
       "      <td>False</td>\n",
       "      <td>420.091553</td>\n",
       "      <td>-4.405100</td>\n",
       "      <td>1.240463</td>\n",
       "      <td>22.687064</td>\n",
       "      <td>-4.551176</td>\n",
=======
       "      <th>2018-01-08 02:00:00</th>\n",
       "      <td>126.294478</td>\n",
       "      <td>8</td>\n",
       "      <td>2</td>\n",
       "      <td>0.0</td>\n",
       "      <td>False</td>\n",
       "      <td>0</td>\n",
       "      <td>2018</td>\n",
       "      <td>1</td>\n",
       "      <td>132.781815</td>\n",
       "      <td>-6.487337</td>\n",
       "      <td>-0.128364</td>\n",
       "      <td>13.001288</td>\n",
       "      <td>49.538439</td>\n",
>>>>>>> ee13c270a4a50ad6ed27ce54e8c7a5ae2ac08154
       "      <td>False</td>\n",
       "      <td>False</td>\n",
       "    </tr>\n",
       "    <tr>\n",
<<<<<<< HEAD
       "      <th>2018-07-01 03:00:00</th>\n",
       "      <td>411.686086</td>\n",
       "      <td>6</td>\n",
       "      <td>3</td>\n",
       "      <td>0.0</td>\n",
       "      <td>False</td>\n",
       "      <td>420.160846</td>\n",
       "      <td>-8.474760</td>\n",
       "      <td>1.319886</td>\n",
       "      <td>22.706187</td>\n",
       "      <td>-7.420826</td>\n",
=======
       "      <th>2018-01-08 03:00:00</th>\n",
       "      <td>129.203880</td>\n",
       "      <td>8</td>\n",
       "      <td>3</td>\n",
       "      <td>0.0</td>\n",
       "      <td>False</td>\n",
       "      <td>0</td>\n",
       "      <td>2018</td>\n",
       "      <td>1</td>\n",
       "      <td>132.738442</td>\n",
       "      <td>-3.534562</td>\n",
       "      <td>-0.169684</td>\n",
       "      <td>13.007163</td>\n",
       "      <td>19.830274</td>\n",
>>>>>>> ee13c270a4a50ad6ed27ce54e8c7a5ae2ac08154
       "      <td>False</td>\n",
       "      <td>False</td>\n",
       "    </tr>\n",
       "    <tr>\n",
<<<<<<< HEAD
       "      <th>2018-07-01 04:00:00</th>\n",
       "      <td>406.352263</td>\n",
       "      <td>6</td>\n",
       "      <td>4</td>\n",
       "      <td>0.0</td>\n",
       "      <td>False</td>\n",
       "      <td>420.233421</td>\n",
       "      <td>-13.881157</td>\n",
       "      <td>1.402685</td>\n",
       "      <td>22.729850</td>\n",
       "      <td>-10.896131</td>\n",
=======
       "      <th>2018-01-08 04:00:00</th>\n",
       "      <td>128.674898</td>\n",
       "      <td>8</td>\n",
       "      <td>4</td>\n",
       "      <td>0.0</td>\n",
       "      <td>False</td>\n",
       "      <td>0</td>\n",
       "      <td>2018</td>\n",
       "      <td>1</td>\n",
       "      <td>132.699304</td>\n",
       "      <td>-4.024406</td>\n",
       "      <td>-0.206718</td>\n",
       "      <td>13.008438</td>\n",
       "      <td>18.468080</td>\n",
>>>>>>> ee13c270a4a50ad6ed27ce54e8c7a5ae2ac08154
       "      <td>False</td>\n",
       "      <td>False</td>\n",
       "    </tr>\n",
       "  </tbody>\n",
       "</table>\n",
       "</div>"
      ],
      "text/plain": [
<<<<<<< HEAD
       "                              v  d  h   pz     lr          rm         mc  \\\n",
       "t                                                                          \n",
       "2018-07-01 00:00:00  423.242702  6  0  0.0  False  420.009535   3.233167   \n",
       "2018-07-01 01:00:00  418.131122  6  1  0.0  False  420.048041  -1.916919   \n",
       "2018-07-01 02:00:00  415.686453  6  2  0.0  False  420.091553  -4.405100   \n",
       "2018-07-01 03:00:00  411.686086  6  3  0.0  False  420.160846  -8.474760   \n",
       "2018-07-01 04:00:00  406.352263  6  4  0.0  False  420.233421 -13.881157   \n",
       "\n",
       "                          crm       crsd        var  spike    dip  \n",
       "t                                                                  \n",
       "2018-07-01 00:00:00  1.138448  22.708505   1.839977  False  False  \n",
       "2018-07-01 01:00:00  1.186910  22.695629  -2.615050  False  False  \n",
       "2018-07-01 02:00:00  1.240463  22.687064  -4.551176  False  False  \n",
       "2018-07-01 03:00:00  1.319886  22.706187  -7.420826  False  False  \n",
       "2018-07-01 04:00:00  1.402685  22.729850 -10.896131  False  False  "
      ]
     },
     "execution_count": 56,
=======
       "                              v  d  h   pz     lr  min     y  mon          rm  \\\n",
       "t                                                                               \n",
       "2018-01-08 00:00:00  128.145916  8  0  0.0  False    0  2018    1  132.864142   \n",
       "2018-01-08 01:00:00  125.897742  8  1  0.0  False    0  2018    1  132.823231   \n",
       "2018-01-08 02:00:00  126.294478  8  2  0.0  False    0  2018    1  132.781815   \n",
       "2018-01-08 03:00:00  129.203880  8  3  0.0  False    0  2018    1  132.738442   \n",
       "2018-01-08 04:00:00  128.674898  8  4  0.0  False    0  2018    1  132.699304   \n",
       "\n",
       "                           mc       crm       crsd        var  spike    dip  \n",
       "t                                                                            \n",
       "2018-01-08 00:00:00 -4.718226 -0.050004  12.994637  93.357776  False  False  \n",
       "2018-01-08 01:00:00 -6.925489 -0.088958  12.997666  76.851191  False  False  \n",
       "2018-01-08 02:00:00 -6.487337 -0.128364  13.001288  49.538439  False  False  \n",
       "2018-01-08 03:00:00 -3.534562 -0.169684  13.007163  19.830274  False  False  \n",
       "2018-01-08 04:00:00 -4.024406 -0.206718  13.008438  18.468080  False  False  "
      ]
     },
     "execution_count": 8,
>>>>>>> ee13c270a4a50ad6ed27ce54e8c7a5ae2ac08154
     "metadata": {},
     "output_type": "execute_result"
    }
   ],
   "source": [
    "#check spikes & dips\n",
    "#time_window = int(60*24*3600/hb)\n",
    "time_window = int(30*24)\n",
    "centered = True\n",
<<<<<<< HEAD
    "n_sd = 2\n",
=======
    "n_sd = 1\n",
>>>>>>> ee13c270a4a50ad6ed27ce54e8c7a5ae2ac08154
    "\n",
    "tmp2 = ewx.variance_validation(tmp2, time_window, centered, 2)\n",
    "tmp2.head()"
   ]
  },
  {
   "cell_type": "markdown",
   "metadata": {},
   "source": [
    "# Flag Errors"
   ]
  },
  {
   "cell_type": "code",
<<<<<<< HEAD
   "execution_count": 57,
=======
   "execution_count": 9,
>>>>>>> ee13c270a4a50ad6ed27ce54e8c7a5ae2ac08154
   "metadata": {},
   "outputs": [
    {
     "data": {
      "text/html": [
       "<div>\n",
       "<style scoped>\n",
       "    .dataframe tbody tr th:only-of-type {\n",
       "        vertical-align: middle;\n",
       "    }\n",
       "\n",
       "    .dataframe tbody tr th {\n",
       "        vertical-align: top;\n",
       "    }\n",
       "\n",
       "    .dataframe thead th {\n",
       "        text-align: right;\n",
       "    }\n",
       "</style>\n",
       "<table border=\"1\" class=\"dataframe\">\n",
       "  <thead>\n",
       "    <tr style=\"text-align: right;\">\n",
       "      <th></th>\n",
       "      <th>v</th>\n",
       "      <th>d</th>\n",
       "      <th>h</th>\n",
       "      <th>pz</th>\n",
       "      <th>lr</th>\n",
<<<<<<< HEAD
=======
       "      <th>min</th>\n",
       "      <th>y</th>\n",
       "      <th>mon</th>\n",
>>>>>>> ee13c270a4a50ad6ed27ce54e8c7a5ae2ac08154
       "      <th>rm</th>\n",
       "      <th>mc</th>\n",
       "      <th>crm</th>\n",
       "      <th>crsd</th>\n",
       "      <th>var</th>\n",
       "      <th>spike</th>\n",
       "      <th>dip</th>\n",
       "      <th>err</th>\n",
       "    </tr>\n",
       "    <tr>\n",
       "      <th>t</th>\n",
       "      <th></th>\n",
       "      <th></th>\n",
       "      <th></th>\n",
       "      <th></th>\n",
       "      <th></th>\n",
       "      <th></th>\n",
       "      <th></th>\n",
       "      <th></th>\n",
       "      <th></th>\n",
       "      <th></th>\n",
       "      <th></th>\n",
       "      <th></th>\n",
       "      <th></th>\n",
<<<<<<< HEAD
=======
       "      <th></th>\n",
       "      <th></th>\n",
       "      <th></th>\n",
>>>>>>> ee13c270a4a50ad6ed27ce54e8c7a5ae2ac08154
       "    </tr>\n",
       "  </thead>\n",
       "  <tbody>\n",
       "    <tr>\n",
<<<<<<< HEAD
       "      <th>2018-07-01 00:00:00</th>\n",
       "      <td>423.242702</td>\n",
       "      <td>6</td>\n",
       "      <td>0</td>\n",
       "      <td>0.0</td>\n",
       "      <td>False</td>\n",
       "      <td>420.009535</td>\n",
       "      <td>3.233167</td>\n",
       "      <td>1.138448</td>\n",
       "      <td>22.708505</td>\n",
       "      <td>1.839977</td>\n",
=======
       "      <th>2018-01-08 00:00:00</th>\n",
       "      <td>128.145916</td>\n",
       "      <td>8</td>\n",
       "      <td>0</td>\n",
       "      <td>0.0</td>\n",
       "      <td>False</td>\n",
       "      <td>0</td>\n",
       "      <td>2018</td>\n",
       "      <td>1</td>\n",
       "      <td>132.864142</td>\n",
       "      <td>-4.718226</td>\n",
       "      <td>-0.050004</td>\n",
       "      <td>12.994637</td>\n",
       "      <td>93.357776</td>\n",
>>>>>>> ee13c270a4a50ad6ed27ce54e8c7a5ae2ac08154
       "      <td>False</td>\n",
       "      <td>False</td>\n",
       "      <td>False</td>\n",
       "    </tr>\n",
       "    <tr>\n",
<<<<<<< HEAD
       "      <th>2018-07-01 01:00:00</th>\n",
       "      <td>418.131122</td>\n",
       "      <td>6</td>\n",
       "      <td>1</td>\n",
       "      <td>0.0</td>\n",
       "      <td>False</td>\n",
       "      <td>420.048041</td>\n",
       "      <td>-1.916919</td>\n",
       "      <td>1.186910</td>\n",
       "      <td>22.695629</td>\n",
       "      <td>-2.615050</td>\n",
=======
       "      <th>2018-01-08 01:00:00</th>\n",
       "      <td>125.897742</td>\n",
       "      <td>8</td>\n",
       "      <td>1</td>\n",
       "      <td>0.0</td>\n",
       "      <td>False</td>\n",
       "      <td>0</td>\n",
       "      <td>2018</td>\n",
       "      <td>1</td>\n",
       "      <td>132.823231</td>\n",
       "      <td>-6.925489</td>\n",
       "      <td>-0.088958</td>\n",
       "      <td>12.997666</td>\n",
       "      <td>76.851191</td>\n",
>>>>>>> ee13c270a4a50ad6ed27ce54e8c7a5ae2ac08154
       "      <td>False</td>\n",
       "      <td>False</td>\n",
       "      <td>False</td>\n",
       "    </tr>\n",
       "    <tr>\n",
<<<<<<< HEAD
       "      <th>2018-07-01 02:00:00</th>\n",
       "      <td>415.686453</td>\n",
       "      <td>6</td>\n",
       "      <td>2</td>\n",
       "      <td>0.0</td>\n",
       "      <td>False</td>\n",
       "      <td>420.091553</td>\n",
       "      <td>-4.405100</td>\n",
       "      <td>1.240463</td>\n",
       "      <td>22.687064</td>\n",
       "      <td>-4.551176</td>\n",
=======
       "      <th>2018-01-08 02:00:00</th>\n",
       "      <td>126.294478</td>\n",
       "      <td>8</td>\n",
       "      <td>2</td>\n",
       "      <td>0.0</td>\n",
       "      <td>False</td>\n",
       "      <td>0</td>\n",
       "      <td>2018</td>\n",
       "      <td>1</td>\n",
       "      <td>132.781815</td>\n",
       "      <td>-6.487337</td>\n",
       "      <td>-0.128364</td>\n",
       "      <td>13.001288</td>\n",
       "      <td>49.538439</td>\n",
>>>>>>> ee13c270a4a50ad6ed27ce54e8c7a5ae2ac08154
       "      <td>False</td>\n",
       "      <td>False</td>\n",
       "      <td>False</td>\n",
       "    </tr>\n",
       "    <tr>\n",
<<<<<<< HEAD
       "      <th>2018-07-01 03:00:00</th>\n",
       "      <td>411.686086</td>\n",
       "      <td>6</td>\n",
       "      <td>3</td>\n",
       "      <td>0.0</td>\n",
       "      <td>False</td>\n",
       "      <td>420.160846</td>\n",
       "      <td>-8.474760</td>\n",
       "      <td>1.319886</td>\n",
       "      <td>22.706187</td>\n",
       "      <td>-7.420826</td>\n",
=======
       "      <th>2018-01-08 03:00:00</th>\n",
       "      <td>129.203880</td>\n",
       "      <td>8</td>\n",
       "      <td>3</td>\n",
       "      <td>0.0</td>\n",
       "      <td>False</td>\n",
       "      <td>0</td>\n",
       "      <td>2018</td>\n",
       "      <td>1</td>\n",
       "      <td>132.738442</td>\n",
       "      <td>-3.534562</td>\n",
       "      <td>-0.169684</td>\n",
       "      <td>13.007163</td>\n",
       "      <td>19.830274</td>\n",
>>>>>>> ee13c270a4a50ad6ed27ce54e8c7a5ae2ac08154
       "      <td>False</td>\n",
       "      <td>False</td>\n",
       "      <td>False</td>\n",
       "    </tr>\n",
       "    <tr>\n",
<<<<<<< HEAD
       "      <th>2018-07-01 04:00:00</th>\n",
       "      <td>406.352263</td>\n",
       "      <td>6</td>\n",
       "      <td>4</td>\n",
       "      <td>0.0</td>\n",
       "      <td>False</td>\n",
       "      <td>420.233421</td>\n",
       "      <td>-13.881157</td>\n",
       "      <td>1.402685</td>\n",
       "      <td>22.729850</td>\n",
       "      <td>-10.896131</td>\n",
=======
       "      <th>2018-01-08 04:00:00</th>\n",
       "      <td>128.674898</td>\n",
       "      <td>8</td>\n",
       "      <td>4</td>\n",
       "      <td>0.0</td>\n",
       "      <td>False</td>\n",
       "      <td>0</td>\n",
       "      <td>2018</td>\n",
       "      <td>1</td>\n",
       "      <td>132.699304</td>\n",
       "      <td>-4.024406</td>\n",
       "      <td>-0.206718</td>\n",
       "      <td>13.008438</td>\n",
       "      <td>18.468080</td>\n",
>>>>>>> ee13c270a4a50ad6ed27ce54e8c7a5ae2ac08154
       "      <td>False</td>\n",
       "      <td>False</td>\n",
       "      <td>False</td>\n",
       "    </tr>\n",
       "  </tbody>\n",
       "</table>\n",
       "</div>"
      ],
      "text/plain": [
<<<<<<< HEAD
       "                              v  d  h   pz     lr          rm         mc  \\\n",
       "t                                                                          \n",
       "2018-07-01 00:00:00  423.242702  6  0  0.0  False  420.009535   3.233167   \n",
       "2018-07-01 01:00:00  418.131122  6  1  0.0  False  420.048041  -1.916919   \n",
       "2018-07-01 02:00:00  415.686453  6  2  0.0  False  420.091553  -4.405100   \n",
       "2018-07-01 03:00:00  411.686086  6  3  0.0  False  420.160846  -8.474760   \n",
       "2018-07-01 04:00:00  406.352263  6  4  0.0  False  420.233421 -13.881157   \n",
       "\n",
       "                          crm       crsd        var  spike    dip    err  \n",
       "t                                                                         \n",
       "2018-07-01 00:00:00  1.138448  22.708505   1.839977  False  False  False  \n",
       "2018-07-01 01:00:00  1.186910  22.695629  -2.615050  False  False  False  \n",
       "2018-07-01 02:00:00  1.240463  22.687064  -4.551176  False  False  False  \n",
       "2018-07-01 03:00:00  1.319886  22.706187  -7.420826  False  False  False  \n",
       "2018-07-01 04:00:00  1.402685  22.729850 -10.896131  False  False  False  "
      ]
     },
     "execution_count": 57,
=======
       "                              v  d  h   pz     lr  min     y  mon          rm  \\\n",
       "t                                                                               \n",
       "2018-01-08 00:00:00  128.145916  8  0  0.0  False    0  2018    1  132.864142   \n",
       "2018-01-08 01:00:00  125.897742  8  1  0.0  False    0  2018    1  132.823231   \n",
       "2018-01-08 02:00:00  126.294478  8  2  0.0  False    0  2018    1  132.781815   \n",
       "2018-01-08 03:00:00  129.203880  8  3  0.0  False    0  2018    1  132.738442   \n",
       "2018-01-08 04:00:00  128.674898  8  4  0.0  False    0  2018    1  132.699304   \n",
       "\n",
       "                           mc       crm       crsd        var  spike    dip  \\\n",
       "t                                                                             \n",
       "2018-01-08 00:00:00 -4.718226 -0.050004  12.994637  93.357776  False  False   \n",
       "2018-01-08 01:00:00 -6.925489 -0.088958  12.997666  76.851191  False  False   \n",
       "2018-01-08 02:00:00 -6.487337 -0.128364  13.001288  49.538439  False  False   \n",
       "2018-01-08 03:00:00 -3.534562 -0.169684  13.007163  19.830274  False  False   \n",
       "2018-01-08 04:00:00 -4.024406 -0.206718  13.008438  18.468080  False  False   \n",
       "\n",
       "                       err  \n",
       "t                           \n",
       "2018-01-08 00:00:00  False  \n",
       "2018-01-08 01:00:00  False  \n",
       "2018-01-08 02:00:00  False  \n",
       "2018-01-08 03:00:00  False  \n",
       "2018-01-08 04:00:00  False  "
      ]
     },
     "execution_count": 9,
>>>>>>> ee13c270a4a50ad6ed27ce54e8c7a5ae2ac08154
     "metadata": {},
     "output_type": "execute_result"
    }
   ],
   "source": [
    "data_filter = [a or b or c for a, b, c in zip(tmp2.lr, tmp2.spike, tmp2.dip)]\n",
    "tmp2['err'] = data_filter\n",
    "tmp2.head()"
   ]
  },
  {
   "cell_type": "markdown",
   "metadata": {},
   "source": [
    "# Interpolate Error Values"
   ]
  },
  {
   "cell_type": "code",
<<<<<<< HEAD
   "execution_count": 58,
=======
   "execution_count": 10,
>>>>>>> ee13c270a4a50ad6ed27ce54e8c7a5ae2ac08154
   "metadata": {},
   "outputs": [
    {
     "name": "stderr",
     "output_type": "stream",
     "text": [
      "c:\\users\\wb5888\\appdata\\local\\programs\\python\\python37-32\\lib\\site-packages\\ipykernel_launcher.py:5: SettingWithCopyWarning: \n",
      "A value is trying to be set on a copy of a slice from a DataFrame\n",
      "\n",
      "See the caveats in the documentation: http://pandas.pydata.org/pandas-docs/stable/indexing.html#indexing-view-versus-copy\n",
      "  \"\"\"\n"
     ]
    },
    {
     "data": {
      "text/html": [
       "<div>\n",
       "<style scoped>\n",
       "    .dataframe tbody tr th:only-of-type {\n",
       "        vertical-align: middle;\n",
       "    }\n",
       "\n",
       "    .dataframe tbody tr th {\n",
       "        vertical-align: top;\n",
       "    }\n",
       "\n",
       "    .dataframe thead th {\n",
       "        text-align: right;\n",
       "    }\n",
       "</style>\n",
       "<table border=\"1\" class=\"dataframe\">\n",
       "  <thead>\n",
       "    <tr style=\"text-align: right;\">\n",
       "      <th></th>\n",
       "      <th>v</th>\n",
       "      <th>d</th>\n",
       "      <th>h</th>\n",
       "      <th>pz</th>\n",
       "      <th>lr</th>\n",
<<<<<<< HEAD
=======
       "      <th>min</th>\n",
       "      <th>y</th>\n",
       "      <th>mon</th>\n",
>>>>>>> ee13c270a4a50ad6ed27ce54e8c7a5ae2ac08154
       "      <th>rm</th>\n",
       "      <th>mc</th>\n",
       "      <th>crm</th>\n",
       "      <th>crsd</th>\n",
       "      <th>var</th>\n",
       "      <th>spike</th>\n",
       "      <th>dip</th>\n",
       "      <th>err</th>\n",
       "      <th>interp</th>\n",
       "      <th>lin</th>\n",
       "    </tr>\n",
       "    <tr>\n",
       "      <th>t</th>\n",
       "      <th></th>\n",
       "      <th></th>\n",
       "      <th></th>\n",
       "      <th></th>\n",
       "      <th></th>\n",
       "      <th></th>\n",
       "      <th></th>\n",
       "      <th></th>\n",
       "      <th></th>\n",
       "      <th></th>\n",
       "      <th></th>\n",
       "      <th></th>\n",
       "      <th></th>\n",
       "      <th></th>\n",
       "      <th></th>\n",
<<<<<<< HEAD
=======
       "      <th></th>\n",
       "      <th></th>\n",
       "      <th></th>\n",
>>>>>>> ee13c270a4a50ad6ed27ce54e8c7a5ae2ac08154
       "    </tr>\n",
       "  </thead>\n",
       "  <tbody>\n",
       "    <tr>\n",
<<<<<<< HEAD
       "      <th>2018-07-01 00:00:00</th>\n",
       "      <td>423.242702</td>\n",
       "      <td>6</td>\n",
       "      <td>0</td>\n",
       "      <td>0.0</td>\n",
       "      <td>False</td>\n",
       "      <td>420.009535</td>\n",
       "      <td>3.233167</td>\n",
       "      <td>1.138448</td>\n",
       "      <td>22.708505</td>\n",
       "      <td>1.839977</td>\n",
       "      <td>False</td>\n",
       "      <td>False</td>\n",
       "      <td>False</td>\n",
       "      <td>423.242702</td>\n",
       "      <td>423.242702</td>\n",
       "    </tr>\n",
       "    <tr>\n",
       "      <th>2018-07-01 01:00:00</th>\n",
       "      <td>418.131122</td>\n",
       "      <td>6</td>\n",
       "      <td>1</td>\n",
       "      <td>0.0</td>\n",
       "      <td>False</td>\n",
       "      <td>420.048041</td>\n",
       "      <td>-1.916919</td>\n",
       "      <td>1.186910</td>\n",
       "      <td>22.695629</td>\n",
       "      <td>-2.615050</td>\n",
       "      <td>False</td>\n",
       "      <td>False</td>\n",
       "      <td>False</td>\n",
       "      <td>418.131122</td>\n",
       "      <td>418.131122</td>\n",
       "    </tr>\n",
       "    <tr>\n",
       "      <th>2018-07-01 02:00:00</th>\n",
       "      <td>415.686453</td>\n",
       "      <td>6</td>\n",
       "      <td>2</td>\n",
       "      <td>0.0</td>\n",
       "      <td>False</td>\n",
       "      <td>420.091553</td>\n",
       "      <td>-4.405100</td>\n",
       "      <td>1.240463</td>\n",
       "      <td>22.687064</td>\n",
       "      <td>-4.551176</td>\n",
       "      <td>False</td>\n",
       "      <td>False</td>\n",
       "      <td>False</td>\n",
       "      <td>415.686453</td>\n",
       "      <td>415.686453</td>\n",
       "    </tr>\n",
       "    <tr>\n",
       "      <th>2018-07-01 03:00:00</th>\n",
       "      <td>411.686086</td>\n",
       "      <td>6</td>\n",
       "      <td>3</td>\n",
       "      <td>0.0</td>\n",
       "      <td>False</td>\n",
       "      <td>420.160846</td>\n",
       "      <td>-8.474760</td>\n",
       "      <td>1.319886</td>\n",
       "      <td>22.706187</td>\n",
       "      <td>-7.420826</td>\n",
       "      <td>False</td>\n",
       "      <td>False</td>\n",
       "      <td>False</td>\n",
       "      <td>411.686086</td>\n",
       "      <td>411.686086</td>\n",
       "    </tr>\n",
       "    <tr>\n",
       "      <th>2018-07-01 04:00:00</th>\n",
       "      <td>406.352263</td>\n",
       "      <td>6</td>\n",
       "      <td>4</td>\n",
       "      <td>0.0</td>\n",
       "      <td>False</td>\n",
       "      <td>420.233421</td>\n",
       "      <td>-13.881157</td>\n",
       "      <td>1.402685</td>\n",
       "      <td>22.729850</td>\n",
       "      <td>-10.896131</td>\n",
       "      <td>False</td>\n",
       "      <td>False</td>\n",
       "      <td>False</td>\n",
       "      <td>406.352263</td>\n",
       "      <td>406.352263</td>\n",
=======
       "      <th>2018-01-08 00:00:00</th>\n",
       "      <td>128.145916</td>\n",
       "      <td>8</td>\n",
       "      <td>0</td>\n",
       "      <td>0.0</td>\n",
       "      <td>False</td>\n",
       "      <td>0</td>\n",
       "      <td>2018</td>\n",
       "      <td>1</td>\n",
       "      <td>132.864142</td>\n",
       "      <td>-4.718226</td>\n",
       "      <td>-0.050004</td>\n",
       "      <td>12.994637</td>\n",
       "      <td>93.357776</td>\n",
       "      <td>False</td>\n",
       "      <td>False</td>\n",
       "      <td>False</td>\n",
       "      <td>128.145916</td>\n",
       "      <td>128.145916</td>\n",
       "    </tr>\n",
       "    <tr>\n",
       "      <th>2018-01-08 01:00:00</th>\n",
       "      <td>125.897742</td>\n",
       "      <td>8</td>\n",
       "      <td>1</td>\n",
       "      <td>0.0</td>\n",
       "      <td>False</td>\n",
       "      <td>0</td>\n",
       "      <td>2018</td>\n",
       "      <td>1</td>\n",
       "      <td>132.823231</td>\n",
       "      <td>-6.925489</td>\n",
       "      <td>-0.088958</td>\n",
       "      <td>12.997666</td>\n",
       "      <td>76.851191</td>\n",
       "      <td>False</td>\n",
       "      <td>False</td>\n",
       "      <td>False</td>\n",
       "      <td>125.897742</td>\n",
       "      <td>125.897742</td>\n",
       "    </tr>\n",
       "    <tr>\n",
       "      <th>2018-01-08 02:00:00</th>\n",
       "      <td>126.294478</td>\n",
       "      <td>8</td>\n",
       "      <td>2</td>\n",
       "      <td>0.0</td>\n",
       "      <td>False</td>\n",
       "      <td>0</td>\n",
       "      <td>2018</td>\n",
       "      <td>1</td>\n",
       "      <td>132.781815</td>\n",
       "      <td>-6.487337</td>\n",
       "      <td>-0.128364</td>\n",
       "      <td>13.001288</td>\n",
       "      <td>49.538439</td>\n",
       "      <td>False</td>\n",
       "      <td>False</td>\n",
       "      <td>False</td>\n",
       "      <td>126.294478</td>\n",
       "      <td>126.294478</td>\n",
       "    </tr>\n",
       "    <tr>\n",
       "      <th>2018-01-08 03:00:00</th>\n",
       "      <td>129.203880</td>\n",
       "      <td>8</td>\n",
       "      <td>3</td>\n",
       "      <td>0.0</td>\n",
       "      <td>False</td>\n",
       "      <td>0</td>\n",
       "      <td>2018</td>\n",
       "      <td>1</td>\n",
       "      <td>132.738442</td>\n",
       "      <td>-3.534562</td>\n",
       "      <td>-0.169684</td>\n",
       "      <td>13.007163</td>\n",
       "      <td>19.830274</td>\n",
       "      <td>False</td>\n",
       "      <td>False</td>\n",
       "      <td>False</td>\n",
       "      <td>129.203880</td>\n",
       "      <td>129.203880</td>\n",
       "    </tr>\n",
       "    <tr>\n",
       "      <th>2018-01-08 04:00:00</th>\n",
       "      <td>128.674898</td>\n",
       "      <td>8</td>\n",
       "      <td>4</td>\n",
       "      <td>0.0</td>\n",
       "      <td>False</td>\n",
       "      <td>0</td>\n",
       "      <td>2018</td>\n",
       "      <td>1</td>\n",
       "      <td>132.699304</td>\n",
       "      <td>-4.024406</td>\n",
       "      <td>-0.206718</td>\n",
       "      <td>13.008438</td>\n",
       "      <td>18.468080</td>\n",
       "      <td>False</td>\n",
       "      <td>False</td>\n",
       "      <td>False</td>\n",
       "      <td>128.674898</td>\n",
       "      <td>128.674898</td>\n",
>>>>>>> ee13c270a4a50ad6ed27ce54e8c7a5ae2ac08154
       "    </tr>\n",
       "  </tbody>\n",
       "</table>\n",
       "</div>"
      ],
      "text/plain": [
<<<<<<< HEAD
       "                              v  d  h   pz     lr          rm         mc  \\\n",
       "t                                                                          \n",
       "2018-07-01 00:00:00  423.242702  6  0  0.0  False  420.009535   3.233167   \n",
       "2018-07-01 01:00:00  418.131122  6  1  0.0  False  420.048041  -1.916919   \n",
       "2018-07-01 02:00:00  415.686453  6  2  0.0  False  420.091553  -4.405100   \n",
       "2018-07-01 03:00:00  411.686086  6  3  0.0  False  420.160846  -8.474760   \n",
       "2018-07-01 04:00:00  406.352263  6  4  0.0  False  420.233421 -13.881157   \n",
       "\n",
       "                          crm       crsd        var  spike    dip    err  \\\n",
       "t                                                                          \n",
       "2018-07-01 00:00:00  1.138448  22.708505   1.839977  False  False  False   \n",
       "2018-07-01 01:00:00  1.186910  22.695629  -2.615050  False  False  False   \n",
       "2018-07-01 02:00:00  1.240463  22.687064  -4.551176  False  False  False   \n",
       "2018-07-01 03:00:00  1.319886  22.706187  -7.420826  False  False  False   \n",
       "2018-07-01 04:00:00  1.402685  22.729850 -10.896131  False  False  False   \n",
       "\n",
       "                         interp         lin  \n",
       "t                                            \n",
       "2018-07-01 00:00:00  423.242702  423.242702  \n",
       "2018-07-01 01:00:00  418.131122  418.131122  \n",
       "2018-07-01 02:00:00  415.686453  415.686453  \n",
       "2018-07-01 03:00:00  411.686086  411.686086  \n",
       "2018-07-01 04:00:00  406.352263  406.352263  "
      ]
     },
     "execution_count": 58,
=======
       "                              v  d  h   pz     lr  min     y  mon          rm  \\\n",
       "t                                                                               \n",
       "2018-01-08 00:00:00  128.145916  8  0  0.0  False    0  2018    1  132.864142   \n",
       "2018-01-08 01:00:00  125.897742  8  1  0.0  False    0  2018    1  132.823231   \n",
       "2018-01-08 02:00:00  126.294478  8  2  0.0  False    0  2018    1  132.781815   \n",
       "2018-01-08 03:00:00  129.203880  8  3  0.0  False    0  2018    1  132.738442   \n",
       "2018-01-08 04:00:00  128.674898  8  4  0.0  False    0  2018    1  132.699304   \n",
       "\n",
       "                           mc       crm       crsd        var  spike    dip  \\\n",
       "t                                                                             \n",
       "2018-01-08 00:00:00 -4.718226 -0.050004  12.994637  93.357776  False  False   \n",
       "2018-01-08 01:00:00 -6.925489 -0.088958  12.997666  76.851191  False  False   \n",
       "2018-01-08 02:00:00 -6.487337 -0.128364  13.001288  49.538439  False  False   \n",
       "2018-01-08 03:00:00 -3.534562 -0.169684  13.007163  19.830274  False  False   \n",
       "2018-01-08 04:00:00 -4.024406 -0.206718  13.008438  18.468080  False  False   \n",
       "\n",
       "                       err      interp         lin  \n",
       "t                                                   \n",
       "2018-01-08 00:00:00  False  128.145916  128.145916  \n",
       "2018-01-08 01:00:00  False  125.897742  125.897742  \n",
       "2018-01-08 02:00:00  False  126.294478  126.294478  \n",
       "2018-01-08 03:00:00  False  129.203880  129.203880  \n",
       "2018-01-08 04:00:00  False  128.674898  128.674898  "
      ]
     },
     "execution_count": 10,
>>>>>>> ee13c270a4a50ad6ed27ce54e8c7a5ae2ac08154
     "metadata": {},
     "output_type": "execute_result"
    }
   ],
   "source": [
    "tmp2['interp'] = ewx.interp(tmp2.v, tmp2.err)\n",
    "    \n",
    "linear = tmp2.interp.interpolate(method = 'linear', axis = 0, in_place = False, limit_direction = 'forward')\n",
    "tmp2['lin'] = linear\n",
    "tmp2.lin[tmp2.lin.isnull()] = tmp2.v[tmp2.lin.isnull()]\n",
    "tmp2.head()"
   ]
  },
  {
   "cell_type": "code",
<<<<<<< HEAD
   "execution_count": 28,
=======
   "execution_count": 11,
>>>>>>> ee13c270a4a50ad6ed27ce54e8c7a5ae2ac08154
   "metadata": {},
   "outputs": [
    {
     "data": {
      "text/plain": [
<<<<<<< HEAD
       "<matplotlib.axes._subplots.AxesSubplot at 0x4b3ab70>"
      ]
     },
     "execution_count": 28,
=======
       "<matplotlib.axes._subplots.AxesSubplot at 0xe7cd1d0>"
      ]
     },
     "execution_count": 11,
>>>>>>> ee13c270a4a50ad6ed27ce54e8c7a5ae2ac08154
     "metadata": {},
     "output_type": "execute_result"
    },
    {
     "data": {
<<<<<<< HEAD
      "image/png": "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\n",
=======
      "image/png": "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\n",
>>>>>>> ee13c270a4a50ad6ed27ce54e8c7a5ae2ac08154
      "text/plain": [
       "<Figure size 432x288 with 1 Axes>"
      ]
     },
     "metadata": {
      "needs_background": "light"
     },
     "output_type": "display_data"
    }
   ],
   "source": [
<<<<<<< HEAD
    "tmp2.plot(y = 'lin', color = 'darkorange')"
=======
    "tmp2.plot(y = 'lin')"
>>>>>>> ee13c270a4a50ad6ed27ce54e8c7a5ae2ac08154
   ]
  },
  {
   "cell_type": "code",
<<<<<<< HEAD
   "execution_count": 29,
=======
   "execution_count": 12,
>>>>>>> ee13c270a4a50ad6ed27ce54e8c7a5ae2ac08154
   "metadata": {},
   "outputs": [
    {
     "data": {
      "text/plain": [
<<<<<<< HEAD
       "<matplotlib.axes._subplots.AxesSubplot at 0x5267bd0>"
      ]
     },
     "execution_count": 29,
=======
       "<matplotlib.axes._subplots.AxesSubplot at 0xc1632d0>"
      ]
     },
     "execution_count": 12,
>>>>>>> ee13c270a4a50ad6ed27ce54e8c7a5ae2ac08154
     "metadata": {},
     "output_type": "execute_result"
    },
    {
     "data": {
<<<<<<< HEAD
      "image/png": "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\n",
=======
      "image/png": "iVBORw0KGgoAAAANSUhEUgAAAXoAAAEICAYAAABRSj9aAAAABHNCSVQICAgIfAhkiAAAAAlwSFlzAAALEgAACxIB0t1+/AAAADl0RVh0U29mdHdhcmUAbWF0cGxvdGxpYiB2ZXJzaW9uIDMuMC4zLCBodHRwOi8vbWF0cGxvdGxpYi5vcmcvnQurowAAIABJREFUeJztnXe4FdX1v99FL9KbSBEUFXvDHhuWKPbY0KjYNZpYYr7RdJP4syTB3lvQ2DuIvXdBEEQUFVSQK703L3C56/fHnuHM6W3OOXPPXe/znGdm9uyZ+dy556zZs/baa4uqYhiGYVQvTSotwDAMwygtZugNwzCqHDP0hmEYVY4ZesMwjCrHDL1hGEaVY4beMAyjyjFDbxiGUeWYoTcMw6hyzNAbhmFUOc0qLQCga9eu2q9fv0rLMAzDaFCMHz9+gap2y1YvEoa+X79+jBs3rtIyDMMwGhQiMiOXeua6MQzDqHLM0BuGYVQ5ZugNwzCqnEj46FOxdu1aampqqK2trbSUtLRq1YrevXvTvHnzSksxDMNIS2QNfU1NDe3ataNfv36ISKXlJKGqLFy4kJqaGvr3719pOYZhGGmJrOumtraWLl26RNLIA4gIXbp0ifQbh2EYBkTY0AORNfI+UddnGEYVsWYFzJ3g1lVh6fc5HxppQ28YhtGoWfQNfPGAWx99Ajy0E6xdCRNuhns3yfk0kfXRG4ZhNHoe3A7WrYath8Gsj1xZ3Wr48f28TpNTi15EpovI5yIyUUTGeWWdReQ1EZnqLTt55SIiN4vINBGZJCI75aXIMAzDcKxbHVuXpm6p9XmfJh/Xzf6quoOqDvK2rwDeUNXNgDe8bYBDgc28z7nAHXmrigCXX345t99++/rtK6+8kuHDh1dQkWEYjRrxzLWuy/vQYlw3RwH7eesPAG8Dl3vlD6qqAh+LSEcR6amqswu+0luXwLyJRUhNQfcdYP8b0+4eOnQol1xyCRdccAEATzzxBC+//HK4GgzDMHKlid+iz9/Q59qiV+BVERkvIud6ZT184+0tu3vlvYCZgWNrvLIGxY477si8efOYNWsWn332GZ06daJv376VlmUYRqPFi/JTzfvIXFv0e6nqLBHpDrwmIl9lVxNHkjLvgXEukN2AZmh5l5LjjjuOp556ijlz5jB06NCKaDAMw0AVigjnzsnQq+osbzlPRJ4FdgXm+i4ZEekJzPOq1wB9Aof3BmalOOfdwN0AgwYNyv8RVQaGDh3KOeecw4IFC3jnnXcqLccwjMbK6iWwwjej+ZvLrK4bEWkrIu38deBgYDIwChjmVRsGjPTWRwGnedE3uwNLi/LPV5Ctt96a5cuX06tXL3r27FlpOYZhNFZGbBVbv7sPzJ+U1+G5tOh7AM96o0CbAY+o6ssi8gnwhIicBfwAHO/VfxEYAkwDVgFn5KUoYnz++eeVlmAYRmNn5Zz47cXf5HV4VkOvqt8B26coXwgckKJcgQvzUmEYhmGUDEuBYBiGUeVE2tBrAWFE5STq+gzDMCDChr5Vq1YsXLgwssbUz0ffqlWrSksxDKMa+fqJ0E4V2aRmvXv3pqamhvnz51daSlr8GaYMwzBCZ/SJoZ0qsoa+efPmNnOTYRhGCETWdWMYhmGEgxl6wzCMKscMvWEYRpVjht4wDKPKMUNvGIZR5ZihNwzDqHLM0BuGYVQ5ZugNwzCqHDP0hmEYVY4ZesMwjKhRuzjU05mhNwzDiBpvXhTq6czQG4ZhRI26n0I9nRl6wzCMqOGmbg0NM/SGYRjlZt1aGHsd1K1OvX/2mFAvZ4beMAyj3Ey8Dd67AsZfn3r/8pmhXs4MvWEYRrlZuyJ+WWLM0BuGYZSaqc/AM4el3qcK9w+EOzYs2eUjO8OUYRhG1TDq2DQ7BGa+DYu/LunlrUVvGIZRblRj62uWlfxyZugNwzAqRchhlOkwQ28YhlEuZn2ceX/tYlgdfgvffPSGYRjl4tE94DIFNPX+2zoD4bfyrUVvGIZRMSTeXw+kfQgUgRl6wzCMcpNk3EuLGXrDMIyKEbHOWBFpKiITRGS0t91fRMaIyFQReVxEWnjlLb3tad7+fqWRbhiGYeRCPi36i4Epge3rgBtUdTNgMXCWV34WsFhVBwA3ePUMwzAaJ2uWV1pBboZeRHoDhwH3etsCDAae8qo8ABztrR/lbePtP8CrbxiG0fhY+GWKwmj66G8Efg/Ue9tdgCWqWudt1wC9vPVewEwAb/9Sr75hGEbjI1PHq0hZBk1lNfQicjgwT1XHB4tTVNUc9gXPe66IjBORcfPnz89JrGEYRlUQwaibvYAjRWQ68BjOZXMj0FFE/AFXvYFZ3noN0AfA298BWJR4UlW9W1UHqeqgbt26FfVHGIZhRJcsRr0MRj+roVfVP6hqb1XtBwwF3lTVXwJvAcd51YYBI731Ud423v43Vcv8+DIMw4gKH/4t/b6P/g4f/KnkEopJgXA58JiIXAVMAO7zyu8D/ici03At+aHFSTQMw2iALJwCc8fDjNey1EvVWRsueRl6VX0beNtb/w7YNUWdWuD4ELQZhmFEm3Vr4LvRsNkvkveN2CrDgdHz0RuGYRipeP9PblKRGW/kd9zE20ujJw1m6A3DMApl2XS3rF2Y33H51i8SM/SGYRgF0zDGgpqhNwzDqHLM0BuGYRRLxCPIzdAbhtE4eHw/eHSvkE/qu26ibehtKkHDMBoHNe+Ef84Gkq/RDL1hGEa+1C6GR/cEaVppJTlhrhvDMIwga5ZDzXuZ60x/FRZ9BQu/KI+mIjFDbxiGEWT0UHh8H1i1IPdjrDPWMAyjATH/M7es+ymPg8zQG4ZhNCByiKRpIJ2wPmboDcMwgohvFvNopS+YXBIpYWGG3jCM6mbZDJg/Kb5M61PXhZihz1QnkbHXwKR789dWJszQG4ZR3dzTDx7cPrY95WG4viks+S51fd8tk28H62vnwJoVBUksNWboDcNoXLx4ilsu+DxNhVxGu6bx0UfUd2+G3jCM6mXx1Aw7sxhr33WzZnl+1/zuBRgeLYNvht4wjOrl/s3T70vX+l7vo1eYPAJuae+mBQySzn+/ZgWMvzFvmaXGDL1hGNVH/Tp4+czs9bQelk5PKAy06F85w60nunleSDMV9p0bwg+v56O0LJihNwyjOqhdDE8e6CbkXjwVvvhvlgMExv4L7u2f0GJP4aNfNgOmZ5nkO8KYoTcMozqYcCv88Aa8/qvcctCIwKz33fqSaYHyFOGV7/4enj44PK1lxgy9YRgNnzUr4FPPNz7nE3j+uBwOEmja0q2uWx0ojlZHahJNmud/SAlkGIZhlJdJd0PtovyOEYkZza8eC+7wlhHMX7PFiXDsy3kfZvnoDcNo2NSthnH/ge47wbxP8zhQXCgkwNSnA8UJ4ZVR4vDHstdJgbXoDcNo2HwxAlbOhj3+mv+x7frE1n9aBPcNKG3emp675X9Mv58XfVkz9IZhNFzq6+CT62DDXWHjPDtLReKN6AsnwZJvY9ulyDGf7zkvWVOQqyYRM/SGYTRcvn4cln4Pu/0RmubbSZnQ6Trj1YT9pfDR53nOkDqGzUdvGEbDROthzNXQZWvY9IgSnL8ULfp8/f5m6A3DaMxMGwULv4QhD7vY93wN89Lv4LM7MlRIYZRVYex1+V0n8fh8CKlFn9V1IyKtRGSsiHwmIl+IyN+98v4iMkZEporI4yLSwitv6W1P8/b3C0WpYRiGjyqMvRo6bAJbnODK8jWKr/8qPn4+F1bMgvf/kN8xceT7lhD4m1q0L/iqufjoVwODVXV7YAfgEBHZHbgOuEFVNwMWA2d59c8CFqvqAOAGr55hGEZ4zHjdDYza9XJoUiLHRKrW9+yPwj9nLpz1LZydJn9+DmQ19Orws+k39z4KDAae8sofAI721o/ytvH2HyAS9aFmhmE0KMZeDRtsBFsNK+FFUhjl548v8px5+uh909lxE2jdpeCr5hR1IyJNRWQiMA94DfgWWKKqdV6VGqCXt94LmAng7V8KFK7QMAwjyI8fwsy3YdDvoFnL0l0nCuGV6djxoryq52ToVXWdqu4A9AZ2BbZMVc1bpmq9J/11InKuiIwTkXHz58/PVa9hGNXG6qXODZMrY6+GVl1gu3NLpwkoe3jlcXlkxxx8E1yWu7684uhVdQnwNrA70FFEfOdYb2CWt14D9AHw9ncAkpJQqOrdqjpIVQd169YtHxmGYVQTzx4BD+8K69ZmrztvoktbsPMl0LxtaXVNuCX8c2Zs0ZfOw51L1E03EenorbcGDgSmAG8Bfoq4YcBIb32Ut423/03VUrwDGYZRFcwZ45a6LnvdsddCi3aww4Wl1QRuEvHQyWAK19WW4HqOXLqrewIPiEhT3IPhCVUdLSJfAo+JyFXABOA+r/59wP9EZBquJZ9mKhbDMAzIuSW76Bv4+gnY5ffQqlNpJZWKCiVKy2roVXUSsGOK8u9w/vrE8lqg2K5pwzAaG9le/D+5znW+7nxpefSUgmyum2atoC78lr3lujEMo7JIDvnfl/0AXz4I25wNbXuURVZpyPIw67ZDSa5qht4wjAqTg+tm3H/ccpf/K62UkpNg6H+9JGF/aTpkzdAbhhFtVs2Dz++BLU+F9n0rraZwOm2W7LqRJpm3Q8KSmhmGERHSuDXG3+Bmkdr18vLKCZu61SnSNSS04H1Df+Sz0HmL0C5tLXrDMCqMP3VfCkNfuwQm3gabHxeq4asIXbcm6WGWmB1m97+ANIU++0GXVONSC8Na9IZhVJZMnbETb4M1y93EIg2ZZq2hddfkh1nTQAoHEeh3EPy2jrAxQ28YRjRZu9K5bfoPge6liUYpG/VrnZFfNt1td94Sum5DKUfDBjHXjWEY0WTSPVC7sOG35sHNbTvlIbc+821Kk0cnPWboDcOoMCl89HWrXUhl732h116VkVUqVvhpwSS0GaSyYYbeMIzKsGYFfPJvYq3bgKH/8kFY8WN1tOYBtj49sJHOuJfO6JuP3jCMyvDu5fDZ7cnl9XUu3UGPnWHjg8qvK0zOm+Xy8jRtAV+McGUVmIfJWvSGYVSGNctSl3/9JCz5Fnb7U7hGceszwjtXrjRt6fLXxA2EkjTrpcMMvWEYlSHRiKu67I5jr3ZRKQOOyv+cnVPEnrfu6ibpOOT+wnQWQ5OmKQrVRRSVU0ZZr2YYhrGeFK3Zb0fDgsmw2x8KSweQ6g3g5DGx9aEfwIBjUh/bskP+1wM3mCu9oOSiV8+G5TPL6sIxQ28YRmVIMuQKY/4ftO8HA08q7JypRtd26B9b77UndNw09bH+jFXHjM7NzXP4E3DkM3DEk/HlwQyULTZIPs5vza/40aJuDMOodhKM3A9vwJyxLqdNUk6YYi6TgzFt2RHqvRmu2veDg+7MXP/SOtjieNgsxdvBCW/Czr/1rp3BxP74fnZdIWGG3jCMytC0efz2x1dB254JoYgloEW75DJp6qJ9wBnnpi1gr6vSnyOl792jZQfYb3hek3e761ZwzljDMIySIAnGcv5nMOgyF6VSLPvdkH7fLr+Hn10TX1a70H2Cunb7I2y0Z27XO2REbL1EqYaLIXqKDMNovGx3XnHH+63iTPH3zVrBblek3++31kVgz3/kdt0BR+dWr0KYoTcMIzqk6rzMh2zzzgY5fUrq8uCbxtJvY+vtMk16Uv5BUPlght4wjGiwyWHhnSsXf3eXgWmODbqUAiby0AeKkpQdS4FgGEbVkdj6DtnQ7fxbN4FHLnQeCIu+8mQEjLuui6237OSWYY2wLTRuvwDM0BuGERFCNPSqLvIlVzY5PGbom7aIlbfuGlvvvj0cPQr6HhiOxh1/E855csAMvWEY4eD7xwsOEyxvjvY4Fk+NrbfqHFv3jf4mh7vlpkeEd02tD+9cWTAfvWEY4fDY3nB9PiYl8YEQYos+34dNsBM4GCOfa+duIQ+3fDqOi8QMvWEY4TDrg0orKJxmrd3y4PvKeNHyGXpz3RiGEREq6Lr52dVuZOzAofHl+bbUg5N9Z8Na9IZhVA0/LYKZ71RaRWbadIND/gvN2xR3nrweDCWOOgpght4wjNLy9M/hif1iuWTSEu1BR5mRhGUOWIveMIwGxcq56ffNn+iW00ZmOUkFXTfpyNkY+xFH+ZjUCBl6EekjIm+JyBQR+UJELvbKO4vIayIy1Vt28spFRG4WkWkiMklEdir1H2E0It7+HXz5UKVVGIkEwxPT8XymCTqiTpaW+voHQsNt0dcBl6nqlsDuwIUishVwBfCGqm4GvOFtAxwKbOZ9zgXuCF210XgZPxxeOhW+fR7u6g11qyutyCiU70aX4KSVeisodgxBkcdmIauhV9XZqvqpt74cmAL0Ao4C/OQPDwB++rajgAfV8THQUUR6hq7caNy8dbGboWdFTaWVGADLpud/zPKZocvIm1M+hbO/L/48hbToo+S6CSIi/YAdgTFAD1WdDe5hAHT3qvUCgv/BGq/MiDpzx8OSb7PXKxd39Yb/ppjsGQr8YZWRhV/BcIGJt4dzvjFXu/PVr8tet9x88aB7y0pLOf9HeV6rx47QoV8OFbMZ5QJa9IkjY0uYxz7nM4vIBsDTwCWquixT1RRlSXdJRM4VkXEiMm7+/Pm5yjBKyUOD4L4BZR2anZEVP8byj6SjjBMs58UI7wH1yb/COd9Hf3fLdRF0Vc18M/P++rXl0VEKcv1+hdLwqHB4pYg0xxn5h1X1Ga94ru+S8ZbzvPIaoE/g8N7ArMRzqurdqjpIVQd169atUP1GKZjxevjnXLcW6mrDO18hroJEfloYrqZUSFOY8gjc2gmWFeOq8IzAyyFlTgyVDAZq9dL47R8/LK2UsN0h5Yy6qaSPXkQEuA+YoqrXB3aNAoZ568OAkYHy07zom92Bpb6Lx8iDulqoXVKZa69b45Y/vBlbL4bhAje2gJtaw5hrCzvHtJEw5eHitQS5vavTdFPbcM8bRJrAi7+E1Uvgnr45xJJn4ZsnwtEVJpmM29pV8dsjjyqtlpKRLerGfwsuwnVTQnJ5/OwFnAoMFpGJ3mcIcC1wkIhMBQ7ytgFeBL4DpgH3ABeEL7sR8OiecFunCl1cYe4EePIAeOd3uR0y//PcDPH7f8hfzg9vwcij4cVTUuwMoRVUtyp7nUJZMi1++4FtCztPVF1UQOb/QUKrtdfebpkp7r5kWkpIy47QqhMMvil9nQHHZDlJBSceUdX3Myg4IEV9BS4sUpcxb0Jlrz/zLbeccAsMvjlz3fo6eHA7tz7wJHjn97DjhdChfzixwhNuKf4cUSFbn0NaEn6CY6+D966AfYfDoN8WLaso8nFXtOnmOthT3ocIDpjKlabN4cJFmev8/D6Y9mxsO/G3UUnXjdEIUYWFX+Zef/J/Y+vzPnOx7i+c7LbH5TH5w9pVMOeTFHoyvOJGpeO45CQYgfe8YSvvXFZ+KYmkMvQr58It7eH9P8WXa30RD7tciPDDIinhWUTDK40GxsIvYcQ2sDDNJMhp0eTOzmU/pPcvr10RW/d/9GtXuuXn9+Z+2ZdOg4d3hVUL4strM7SUwjL0M94I5zwlI8EoDDypfJeur8uclCyxJVpfB08fAmuWwxcj4vfl830oirBaxyEa4yYJDpRu2ydUsBa9UQjPHgELv4ARW+V3nCr8EDB8K+fAPRvDu1fEyj74S+zHH2zR+eu+AU78cqdi7qeuw3bq0267bmX8/h/fy6DViytfNS/5AZGOyf+FT/4TX/bmr3M7tlIE5y5d/iN89Whs++0St+pv3sAlJfv+pTQVEszIdy/C0u9KqykrIbeWw3CrxE06Dmx7dub9IWKGvpoJfjmnPJLHgQk/Er/jbMarsbKPr3I/foj3NRZi6BM7cfNppft17+gBd+QYpvvKmfDu/8WXpXtbUYWx/3KhmJUkOFDqvSvi942/nlD54U2Y+py7t9NficXup+s3SjSCWgdrMg21KSUlahWH0deU6OJKvG8b7V78NdJghr6qCXyRZo8p/DR+azJdp9vccbF1v/WdzdCvWxNrISaeN58fVVium3TnmfURvHe5eziExWd3wfIUqRu0Pr2OYIt+SomTuj15AIw6Bma85lww6wl8n1Rj4b+J/7+6n0qrr6yUcXrDKIyMNUrImuUuPDFsgl+cJnm8FiYam9fP90+Yun6wRf76r9xy8dduuWZFcn2AD6+EZ4a40MnEV1Zd5/oEcmHsNfDoz3KrmwnfkNYuhimPBne4xaoQR2+/fn7sbSjI9U1htOd7X14Dr52fHIdeKvzO94cGxcqePTy+jj+mQtXNDXtbJ1g6naTvxdwCI8ZC+Vsj3BlbQczQVxpVF53w4HapW7LFtFjjWgh5tEwm3ha/vT4SJoW+z+9Pf56vn4wZ/ET8zt6Vs5IfQmtXwTv/l3RISqY8HM5cpb5r5KVT4cWTYdE3btt/I9EiBzolsuRbGH9jcrk/IOruPjDpLvg0S2hrkDUrnKslEz8tinWU+0wbCSO2hq8ec/mOfBLdWR9d6ZbBOku+Tc5COT6PSKsgfkhvKER53EH5iZahv3/z/L7Y1cCigCHUFAmrikpiFfyyqzNewwVq3s18WLof3PzPnDEZHjjvq2elP8/oE1KXq0KT5m593ZrkV9b/7VD+EaAralyr1s+o6A+i8t82/Adu3WpYPC35+EJ4+1LXsbpidvw9DZLqO5GOV85wrpbhAku8ztD6uvg0BLd3gfsHuvW1K10LfvSJbjuX1BeP7A4P7xLbXjQlvI7XbjuEcx4gvJZ9dbwhRMfQ1y52kxe8dTE8f0Jy1sJvR8Mn/45v4a7Os8Nn5RyY9XF8Wd6hhyETbCm+l2LUaDFD5hd/E1sff0PMgKeauCNXv/jKELJZzPooYEDV/V/LRab89SO2Zv1Pwv+e+Q8h/4H72jlw/2b5f/fSMeYquGuj9Ps//JvrHM3Gi6fAN0/Ftt++NFZ+a8f4uitq3INg2kjXOvc7Wyffl/06iX09b/4m+zG5snkYE5OUqCUf1mCmTluEc548iYahX70Ebusc2/7mSTeoYrjAshmu7Lkj4N3fx3yYo46DWzt4rZccU+s+uic8ukfgOk+70MOJFZwbJeifHueF/AUNXz4tuiBjrk0+dr1xDZQv/NK5jmZ9lNt5w+gwWjYDpr/saakvb0bGm1pl3r/+B52QpMq/Z37YaaaoknzcbdmSquk61zmajcTIpVkfuUykXz/uthdPjX+Y37epy8FTTvrsn1z2q0Dfx24FpMdIIuIt8JbtK3LZaBj6TIZ60t3xradvnnAddX7MNcDIbDkkPJZ6Ewz4nUoTPDfRG5VMx5OipfDu72PrhbboU+WUaZLghgAXAbJmOTy2V27nvX/zwvQEadkh9mawNEL57yEWQugbRT9e3Tf0vsupfq27j8XmbJkztrjj0/HT/Pjf1f2bJ0TQVIDDH4vfvrQO2nSNbYcadRJRH33rNCHAHfqX9LLRMPSZGHO1a7kHSRy4UV+XX1SEbzwHHJ25XllIaP09f3zC7oChLzYqYX2IYDDuPc8fRNgpB8YWmM2yEPJJ6+D/nX4++YVfwo0tY2+YWg9jroE7N0yOEPr6ydJoKpbgOIhK4D8k1297DY/jXoOjR5VfTz6ENb/rIQ8kl506EU4u0QPfI/qGPhXrw/08Fk2BO7rD7BxvVv1amPoMvF3GZFBLv4dPb0o2lImdrUE/K8R8+FOfgZvbulwyxRLU8GmGbHulolKZGEdsnXvdFbNg5tvxZcGUzfXrYm6cYF/Iku/ghaFuvVcOYZ/9h+SmJ5eBZ1GnVSAb63k/xtY3PhA2PSLki0XUheO/wTRrEyvrvn38m00JqIJvT4Af34Oeu6beF3wIrJwDo44tjyafezdxy5YdYethsfJsPvh13uw8373glnPGui9GKp4/AZb/AIOypBaudCKwMDvwEpn1ceoRhokTYGRj1DGwyWHp92tdckQOxLvA/B9z38Gu1Xp9jmMZFkxOLuuwafpQ1YbABl6H8ymfwpKpse2GQpiNk4tWUm7XUsNs0afjnd9582rWwRu/cevDBb5/Of4H+N+B5dUVjFRYNS9+XzajO+05t/SNyjuXwdqf4MO/x7cwH97NdWLPHpPs/kkkrNfQQinlvLR+SuPaxc6F8vCuLnzx6wLCNf2HayrWrY39+Ff8CDXvu/WVc2J1ev0MDrzTuSXS+Z9/fD+57MEUYYYN2cgDnOuNBO6xI2yRJuw2VCLqowdo3gaaty7rJavL0PvMeA0m3hrbfubQ7J2as8fC6xckG+IwCI4wTDSy2Vr0b13klj95CbvWLHd+44+udD7j4eIMf16dehF9rQ2Tl051cfxzPnEZExP9w8WidTHj/cqZ8PjeqScC3/48aJ5hBqtU0TuFRlpFlQsWRHzilOqnOg39cwVMV/bIbvDZHfBGnnOmzBmXueUHxOcIyeKjT8WS7+InLEjMJbIiRd6UTPiRJNNfy++4hsBXXvK2YF/Gh38NP49IfR1JrcbE744ZN9jjb9C6S6VVNHqq09AXM+t8YmdoNh7exbXYgy314QI3tIhtx/3g610r058oOhd/eeKDJDFlQCE+99lj4emD8z+uIVBfl9x5Gbah/+LB/O/7uXk+kBs6+/zLGfpy4k9V2LJj5nqNjOo09MWytoDse8HYd0h42CRk/Xt4VzdRNGTPTZKKpGyPBRj6xDS91USqRGphG/rPbs8errgowa++Qc9wNUSZvf4JO1xY/reaA26FYZPDu9eV7s8KCTP0qVg5K/9j/FGtqbJQBo1MolH++B85nDxxbsmEFn0hg6qy5btpyNSvSfZzVyLSKHFi8BKmoY0cu//ZdTqWm6YtoGseYbSNhEb0zcuD+wbEkkKlYvE0N0hm7qfx5QunwEunxLYf2M4bPRnMDxMw2rn6yL99Pn470WCMjMLArwjx1MHJ/RgvnZq6rv+qXwpSpXYYGkKmTaN8VEk/ixn6dDx7mAvRu6l1bHYhrXdhdfdv5qbWe/n0+GPWLIf5k2LbCz6Pn34P4lvfie6edPyQkFUwsUUfVvbAoxMeKFufHs55y838z2JRStkIDuIJm1TRM732LN31DCMNZujTsegrl2itrhZu7+r89s8cBjcGOlkX5DBZyLiEzIwf/zO2Pn9iYdpKNbdk0L3RqjMcdFcLUWbBAAAVBElEQVRh59nz74Udd+Ad0K5PfFn7fsn1Dn0QDnssubwQium4z3ruNC6107+Abc8p3XUNIwEz9Llyc5tYxsV0PLJbebSkSliWiYEn5Vgx4Fba46/O35kr7frG1tsGOsJ29bR23xHOmZ75HNufn1y273+Sy7Y6FTbaI7m8EIKDzsImnaHvshUcfHfprlsoA08O5zx99gvnPFHAOmONBkOrHOOY1yyPrefbeRmsHxyctNkvvP0K7TdOf/yWp6S+bu993dvFsYkP2ZB+gK1LmGOkmLkEyk3/IdBtu+LO0WETOGcGHJNtXElDpGH76s3QNwaa5jgqNJgqNXEgV78UKW5PDbiegv7o4PVqvf6NbG6qQx/0zpNg6Nt0hQsXQr+fx5cXm8nzoHvg4HtdioJSUQpDf9TI2HqqiTouWgmDb4Udfg2HeQPjNsrSL3CZwi9ecIY6FblkeT3+DTjpQ2jftzLRNkZGomnoBxwNJ+YQ/rd5lpwuhiOVkU7koHugVyAfkD80/6iRsNPFcOxLsNVp8cd03x6GeBNeBA10sA+h4wC33OZMMuJHNwTP84sXk+s1bemWnQe6t4XTv8h83nQ0aQbbngWtSjiwphSpDAYcGUuKd/C9cHEttGjntg+62xnZHS+EA26BgUPh4p/gpBwjffp5A+j2vi5WdpnCUc+6mPggnQfCdufFtvsOhrY9CvubjJITDUPfqjP88pPY9lHPQu+94bRJLsvdPl6H5panwKkTnOH52TXJExk0ZE4Ic2LkBPodDIeMyFxnu7PdssfObukb+gFHwv7eJNaHBnJpH+BNIN53sFvGtcQ9o73ZsdBxUzh/Nhx8jytrFZhJLBW+cTxtEvQ/NH7fhYvgV14uIhE48mnn797tj9Alz9jpfoFRwYmurUy5ac78Jv2+RErlujlkhDPALTtAs5bw6yXus12KDt5m3oxanbdM3pdIyw7w23rYJcVgusE3w9nfu+sO+9y13g+60133oiLfrhoEDdtXHw1D36E/bDgoubzbti5v9S6/c1+wIf+D7js4w7PbFS6e/LxZcP6c5GMbGl22hpM/zl6vUHrvk1u9kz5yLcN9/pW5nu9K8Vvv9YFOTd+4+K3vthvGYv9TdbgG8XO4d0zhRmjVKfVUbD/7f3B6itS+6djmrPg0uRcuiE+Z0DTNdIP735jfoKewW/Q/uyZ1uTRxRjoT2VJXrz+XpI4dlybQoZ9b77pNLCy1ZYeyZ2IsK40ljl5E7heReSIyOVDWWUReE5Gp3rKTVy4icrOITBORSSKyUynFA26oc9sebsh1NvJt9ZWTNt2g526u1VQKOvR3bw2nTcpcr2lz1zJMF3Fz8hg3z2fHTd22/4Pf8+8x49l/iDMsg29OPn7PwEjgRL87wJCHXIsxU6u6WDY5PLns4sAAq23PSn3clqfABr2yn98PSw17MNaAIws/dpsz3P8uSI9BzvWTio32gp3LODFPVKmSqJtcJh4ZAdwKPBgouwJ4Q1WvFZErvO3LgUOBzbzPbsAd3jI3TngrfuaVfNj9z+6j9W56tmcPh2NGu9Sxa5Z7Pz5xYZIDjoH9rod7+0P3nWDep1lPXzY69HNGZ8ItuQ+oSqTLVu4eHDUyfoSoH/Z2mbrxAU1bwg9vQt8UkzanI3FilybN3PnAheetmOUeFvv+O/lYcAnZjhkNbbrDrA+Tc/00b+tajGFx7CvwdOCBcuJ70DvFzE/BFv3e18Dc8W4GqZ0ugVVzXcbPZq1jbyuZ6LyV6ztINQYgV07/0o0p+O4FN4m3rov1dxSCiPvfnTcLJt3lko1laq2elCJPfqOmYbfssxp6VX1XRPolFB8F7OetPwC8jTP0RwEPqqoCH4tIRxHpqaqzyYUw4m+liTMUfsz2gQk5wi8LPKHPnQlterih6i02cFkno0AuxiQTB9+bPc7cv8bGBxR3rSBturlPNvyZm3oMgrcuCe/6iQx5KN4XD6ldQj49d4O+B7jv0PGvu5QWnQe6WPu9rkqOJjnssdi0gQffC6+e7eVa2Sa3Tt4zpzrXR5turuWo69wkKRtsFMtQOvBE9wmLDXrCnleGdz6jQVDoVII9fOOtqrNFpLtX3guYGahX45XlZujLTbvebplr+GE52facwlv0DeV1UwR+vRTWpXEf5MtOl8CnN8a2+wxOrtN8g/THJ/aRdPE6MJu1TP2A8F1PLdo510g6l086OgVa6CIgzaB9n/T1DaNAwp4zNlWTOKXVEZFzgXMB+vbtm6pK46aUYX9RomV7IEUHayHsf0PM0G9yeHKq2j77p+7MzZdL69zDqXnb+DdEw4gohUbdzBWRngDe0p9/rwYINkl6Aylz/qrq3ao6SFUHdeuWw+t+OQgOGMqHbBEP5WKHC2Hny1JPjt1YOOMrt9z9z7Gyths6F8wJb4ZzjSZNS9tZbESI6niQF2roRwHeqA2GASMD5ad50Te7A0tz9s9HgVPGu7jgTLRNaCW26e58/UH2+JuL8fbZ+KDYes89YJAXp3zgnbDvcDglTWfweT/Gb6cbxTn4FjeIZu9rYL//NK6854l03sK1snsGYgDOnw1nTKmcJsOoMFldNyLyKK7jtauI1AB/A64FnhCRs4AfAH+I6ovAEGAasAo4owSaS4cfKrj/zW5S7g13cdP+gQtN8yNOlv0AE26Fva+ORWsMmwxjroZOm7u4/8TXer+j9+QPnQ993yxx6uBaojtc6Ia6b7SX60t43YtD32jP3Ec8GoZRIBEJ0CiSXKJu0qU+TArX8KJt8pxdO4Ls9Bv3SUf7vsmGuuvWcNjDuZ0/10EY0sRNjRak4wA3c9HxIbkhDMOoesLujDXSMfQDF4ddLGdNLf4chmE0KszQlwubWcgwjArRiHvtDMMwstG4o24MwzAaDw08uZkZesMwjCrHDL1hGEY2GkpakTSYoTcMw0hLw3bZ+JihNwzDSEvDbsn7mKE3DMPIhnXGGoZhGFHGDL1hGEaVY4beMAyjyjFDbxiGUeWYoTcMw0hHZ286yf5DKqujSCypmWEYRjq6DIQLF0dnFrkCMUNvGIaRiSqYv9lcN4ZhGFWOGXrDMIwqxwy9YRhGlWOG3jAMo8oxQ28YhlHlmKE3DMOockQjkFBfROYDMyoooSuwoILXT0UUNUE0dUVRE0RTV9Q0RU0PRFMTpNa1sap2y3ZgJAx9pRGRcao6qNI6gkRRE0RTVxQ1QTR1RU1T1PRANDVBcbrMdWMYhlHlmKE3DMOocszQO+6utIAURFETRFNXFDVBNHVFTVPU9EA0NUERusxHbxiGUeVYi94wDKPKaTSGXqSBz+7byLH/X8PF/neVp9EY+igiIr0qrSERETlSRDattA6jqlifDj0qRl9EthCRSNk/ETlZRLb31kO9T5H6Q0uBiBwiIiOBf4pIJGJjReRAERkPnF9pLT6epo+A+4CeldbjIyJHiMhjwBUisnGl9QCIyNEi8s9K60gkarq8394rwH9E5BgArXCnoIgcJCJjgLOJiP3zfnvvATcCO0L496kqJx7xnoYtgTuBAcC/gMHAWSIyXVXLPurN09Qc98/cE7hSVZ8L7i/3j8DT1BZ4FGgH/Bm4BNgYeF9EmqhqfTk1Jeg7EPgL8FdgF+A3IvKWqr5QCW1eC/BM4ApgYxF5VVXfK6eGFJoEZ7DOiIKuwPf8amAP4DqgN3C8iExW1akV0tQM9106CbhcVZ8J7q/Qb68V8ADQHbgKOApo4+1vqqrrwrpeJJ5oYaOOWmAksK+qjgKewUUZVWRos6dpDe4f+ZyqPiciTfxXtUq0dDxNK4CHVHU/VX0DeBn3haOSRt7jQGC0qr4M3IV7GJ0pIm0roc275lRcq+sCoOKtZ+9/uA6YRgR0Bb7nLxP77X0IrAW+r6CmtUA98JRv5EVkbxFpXkFNPwEPe7+9V3D36VRvf2hGHqosvFJELgI2Aj5V1ScC5ScAtwGTgfeBV1T1/TJrmqCqj3v+77uBCThDNhOYDTzt/bPLqWm8qj4ZKG8KDAV2Av6oqqvLoSeFrk9V9QkRORJnuI5W1VoRuQn3tvG6qt5aJk3HATNVdYy33dwzGojIJ8Cdqnpfud8wvHu1LTBGVe8NtkoroStRT6B8CHArMBd4D/ede7wcreiApk9U9W4R2RC4FlBgEDAdWAy8492rcmoaq6r3BMqbArvj3sz+rqozQ72wqjb4DyDApcAHwHHAFOB0oIe3fz/v5jbDGY57gW4V0HSWt+83wGhgC1wr9SKcm6lrhe5Tt0CdPYGvIvD/GwZsDvwXGAW85a2fAfwRaFJiTd2Bd4BZwHP+9Tyt/vqhwBdApzLfr9OBj4FDPI1/ADYN7C+rrhR6/ggM8PbtCmzurQ8BXgH6VUDTn4FOwNHAw8BA7395FPAC0LdC92mTwP5tgU+AdmFfuypcN+ru0v7An1X1KZzR2B53Q1HVt1X1c1WtAybh3Cc/VUKTiJygqrcAQ1X1a1VdDkwE2gOrKqEJ7z55dT4EarzWdFlIoeu3wA6etrOBvwH/UdUzgDVAfy1xK1VV5+Fcf4fg3rjO83aJqtZ7rb+XcA+lc0WknYgcX0pNAQ4ArlPn0roM5+v9ZUB7uXUl6mnh61HVsar6jVfvS2A+UFdiPak0tQTOU9cvdq6qfuV97yYBS3CupXJragGc4u9U1c9xdmlo2BducIY+MewoECI1DtgbwLuR3wBbisjmCaf4OVBLiIY+D01TgJ1EZAt1vnGfg3BGvrYCmr4BthaRgV699sBXlOiLn6Oulzxdg3At1Qmq+oJXb2dgTJk03YIzTq8Ch4lIT8/INyH227kcuAbnu98wTF0pdPrXnAAcDqCq44CPgI1EZK9A9ZLryqDnY6Bngh5wLdo2wMJS6Mmi6QOgv4jspaorA4cMA1rjXDjl1vQxgf+b9z18FWhl4ZXun7KeQMtuGtBORLb1tt8BOgDtRaSFiJwqIpNwPt4rNNzOjnw1tQMQkaEiMtnT9MeQW6n5atrAq7cMFyXRI0Qthepq730QkSEiMhZ3r54uhyZVXeu9BX6Ie/hd5O9X1XVef8sdONfOTt6bWmh4ftv1D6LAvfoAaCIi+3jbk3FvHRt59QcAt4etqwg9p3nf8/7Ar9R1QoZCnppmBTQdKyKfAZt4msJsZBV0n7w3jO7ASm89NBqMoReR3UXkaeA2ETk4cDP9ENGxwDrgIBFppqpfAr2AndVFAczE/UNP817LK6nJj+efEUFN4NxKI8LQE4KuXbz9U4HzVfVYVQ2l9ZVBkyS0qBbg+gm2EJHeItLVe/NZAPxaVX+hqrPC0ORdfw8RuQe4VETa+z/6wL2aivPBnyguDK8G12rv5+1fGqauIvT09/ZPwrlLhqnq3GL1hKTpG9z36bQIaOoXOM3vVPX+MPQEaRCGXkT2w7VQngG+xvm1OomLKKgDUNVpuI6MAbh4YoDVeDNXeX76DyKm6SMNMd65SE3T/fOE2boJS5eqTlXVT8ukSVVVRaSliLRU1XWq+i7uRzoZFz3SQ1WXBvzPYenaBxel8iaupfcHETkYwL9XwHJPQwvcYKTmuI7GhV69+RpSvHqRehZ49SZ6fT+hEJKmz1X1o4hoWu/K8hqlodMgDD2wHS5E6mHgIdyAjBX+K5GIXCUi9wHjgZuBXcWNPF2E83lFTVOpwiijeJ+K1VWpe/UPXHRWT2/7fFyH7F3AdmEZ0hQMAj5Q1Udxg2h6ACeJSA9Px1XAI7hW+19xhuI9b/uBRqDHNBWCliH8Kt8PLp5088D2Drgf/d9w8bhvA/cDJ+LCAR/BC+fy6m8AdDRN5dcUVV0haDowuF1CXYfhfvgbeds3e1rOxYWbPkJ8KGUTQgzHi5oe0xTOJ1ItehHpKCIvAK8BJ4iI30E4ERfmtjFwgaruh+vYOBDXcXGyqk4Tr3dbVVeo6hLTVD5NUdUVgqamXv3X1bmXQiGdLpwfdxkwwus/6IOL1mivqt94ur4N3Kt6dSG6VaXHNIVLpAw9Lu/KK7gBRW3xwu3AxeMC3fD82zhfWEe8sCgp3QhA09SwdRWrKdSh6Bl07eNp+gYXY30N8KSqHoPrF9jfP7BE9ypqekxTiFTc0IsLvdrX66X+EZce4AlcTPluIuKHQ7XEhbld4B16ANDZq0eYN9A0NWxdUdSUg65dfV2qukZV31LVx7xDdwZe8s8Tlq6o6TFNpaMihl4cPUXkLdyAhV8Cd4hIV1WtVdVVwOu4DosDANTlXRkFbCAi7+Ky0P1awwtLNE0NWFcUNRWga3DCsT8T1ym9Ny5lRtXpMU1lQsvUGeB/gKbecnNc1kRwOWhuAZ5JqHsprge7I9DaK2tNID+EaSqfpqjqiqKmInR1ANp6ZRsBQ6pVj2kq36d8F3I36mpcfup9gSOABwL7BTdKbN9A2Qa4/O2f4CIjepmm8muKqq4oagpB11hPV+9q1WOayv8pi+tGRPbFxUh3wg11/ycul8r+IrIrrB/++w/gysChh+H8pxOBbdX5x0xTGTVFVVcUNYWk6zNPV0016jFNFaIcTxOcr+rUwPbtwK9wSY7Ge2VNcMOBn8BLY4pLIbqPaaqcpqjqiqKmKOqKmh7TVJlPeS7iMta1JOb7+iVwjbc+EfiNtz4IeNQ0RUdTVHVFUVMUdUVNj2mqzKcsrhtVXaWqqzUWk3wQLi81uIkkthSR0bi5Sz+F5NSxpqkymqKqK4qaoqgranpMU2Uo6+Tg4kYZKi4PxCiveDluppVtgO/V85mq9/g0TdHQFFVdUdQURV1R02Oayku54+jrccmjFgDbeU/IvwD1qvq+htwxZpoaha4oaoqirqjpMU3lpNy+IlwyoHrcJN1nlfv6pqn6dEVRUxR1RU2PaSrfR7w/rGyISG/gVOB6dSMTK45pyp0o6oqiJoierqjpAdNULspu6A3DMIzyUvGkZoZhGEZpMUNvGIZR5ZihNwzDqHLM0BuGYVQ5ZugNwzCqHDP0hpEGcfODXpC9pmFEGzP0hpGejsSmGTSMBosZesNIz7XApiIyUUT+XWkxhlEoNmDKMNIgIv2A0aq6TYWlGEZRWIveMAyjyjFDbxiGUeWYoTeM9CwH2lVahGEUixl6w0iDqi4EPhCRydYZazRkrDPWMAyjyrEWvWEYRpVjht4wDKPKMUNvGIZR5ZihNwzDqHLM0BuGYVQ5ZugNwzCqHDP0hmEYVY4ZesMwjCrn/wMknANHDm1EzwAAAABJRU5ErkJggg==\n",
>>>>>>> ee13c270a4a50ad6ed27ce54e8c7a5ae2ac08154
      "text/plain": [
       "<Figure size 432x288 with 1 Axes>"
      ]
     },
     "metadata": {
      "needs_background": "light"
     },
     "output_type": "display_data"
    }
   ],
   "source": [
<<<<<<< HEAD
    "tmp2.plot(y = 'v', color = 'purple')"
   ]
  },
  {
   "cell_type": "code",
   "execution_count": 35,
   "metadata": {},
   "outputs": [],
   "source": [
    "fname = myfile.split('.')[0]\n",
    "fname = ''.join([fname, '_adj.csv'])\n",
    "\n",
    "tmp2[['lin']].to_csv(fname)"
   ]
  },
  {
   "cell_type": "code",
   "execution_count": null,
   "metadata": {},
   "outputs": [],
   "source": []
  },
  {
=======
    "tmp2.plot(y = 'v', color = 'darkorange')"
   ]
  },
  {
>>>>>>> ee13c270a4a50ad6ed27ce54e8c7a5ae2ac08154
   "cell_type": "markdown",
   "metadata": {},
   "source": [
    "# Scalar Compare"
   ]
  },
  {
   "cell_type": "code",
   "execution_count": 13,
   "metadata": {},
   "outputs": [
    {
     "data": {
      "text/html": [
       "<div>\n",
       "<style scoped>\n",
       "    .dataframe tbody tr th:only-of-type {\n",
       "        vertical-align: middle;\n",
       "    }\n",
       "\n",
       "    .dataframe tbody tr th {\n",
       "        vertical-align: top;\n",
       "    }\n",
       "\n",
       "    .dataframe thead th {\n",
       "        text-align: right;\n",
       "    }\n",
       "</style>\n",
       "<table border=\"1\" class=\"dataframe\">\n",
       "  <thead>\n",
       "    <tr style=\"text-align: right;\">\n",
       "      <th></th>\n",
       "      <th>Meter Id</th>\n",
       "      <th>Start Date</th>\n",
       "      <th>Stop Date</th>\n",
       "      <th>Usage</th>\n",
       "      <th>Demand</th>\n",
       "      <th>Avg Daily Usage</th>\n",
       "      <th>Load Factor</th>\n",
       "    </tr>\n",
       "  </thead>\n",
       "  <tbody>\n",
       "    <tr>\n",
       "      <th>0</th>\n",
       "      <td>NEPOOL_MECO_2629670017</td>\n",
       "      <td>4/3/2019 0:00</td>\n",
       "      <td>5/2/2019 23:59</td>\n",
       "      <td>197,400</td>\n",
       "      <td>387.0</td>\n",
       "      <td>6,580</td>\n",
       "      <td>0.71</td>\n",
       "    </tr>\n",
       "    <tr>\n",
       "      <th>1</th>\n",
       "      <td>NEPOOL_MECO_2629670017</td>\n",
       "      <td>3/5/2019 0:00</td>\n",
       "      <td>4/2/2019 23:59</td>\n",
       "      <td>130,500</td>\n",
       "      <td>396.0</td>\n",
       "      <td>4,500</td>\n",
       "      <td>0.47</td>\n",
       "    </tr>\n",
       "    <tr>\n",
       "      <th>2</th>\n",
       "      <td>NEPOOL_MECO_2629670017</td>\n",
       "      <td>2/4/2019 0:00</td>\n",
       "      <td>3/4/2019 23:59</td>\n",
       "      <td>115,800</td>\n",
       "      <td>324.0</td>\n",
       "      <td>3,993.11</td>\n",
       "      <td>0.51</td>\n",
       "    </tr>\n",
       "    <tr>\n",
       "      <th>3</th>\n",
       "      <td>NEPOOL_MECO_2629670017</td>\n",
       "      <td>1/4/2019 0:00</td>\n",
       "      <td>2/3/2019 23:59</td>\n",
       "      <td>104,100</td>\n",
       "      <td>197.1</td>\n",
       "      <td>3,358.07</td>\n",
       "      <td>0.71</td>\n",
       "    </tr>\n",
       "    <tr>\n",
       "      <th>4</th>\n",
       "      <td>NEPOOL_MECO_2629670017</td>\n",
       "      <td>12/4/2018 0:00</td>\n",
       "      <td>1/3/2019 23:59</td>\n",
       "      <td>104,000</td>\n",
       "      <td>189.0</td>\n",
       "      <td>3,354.84</td>\n",
       "      <td>0.74</td>\n",
       "    </tr>\n",
       "  </tbody>\n",
       "</table>\n",
       "</div>"
      ],
      "text/plain": [
       "                 Meter Id      Start Date       Stop Date    Usage  Demand  \\\n",
       "0  NEPOOL_MECO_2629670017   4/3/2019 0:00  5/2/2019 23:59  197,400   387.0   \n",
       "1  NEPOOL_MECO_2629670017   3/5/2019 0:00  4/2/2019 23:59  130,500   396.0   \n",
       "2  NEPOOL_MECO_2629670017   2/4/2019 0:00  3/4/2019 23:59  115,800   324.0   \n",
       "3  NEPOOL_MECO_2629670017   1/4/2019 0:00  2/3/2019 23:59  104,100   197.1   \n",
       "4  NEPOOL_MECO_2629670017  12/4/2018 0:00  1/3/2019 23:59  104,000   189.0   \n",
       "\n",
       "  Avg Daily Usage  Load Factor  \n",
       "0           6,580         0.71  \n",
       "1           4,500         0.47  \n",
       "2        3,993.11         0.51  \n",
       "3        3,358.07         0.71  \n",
       "4        3,354.84         0.74  "
      ]
     },
     "execution_count": 13,
     "metadata": {},
     "output_type": "execute_result"
    }
   ],
   "source": [
    "sca = pd.read_csv('NEPOOL_MECO_2629670017_SCA.csv', header = 0)\n",
    "sca.head()"
   ]
  },
  {
   "cell_type": "code",
   "execution_count": 14,
   "metadata": {},
   "outputs": [],
   "source": [
    "split = [u.split(',') for u in sca['Usage']]\n",
    "merge = [''.join(a) for a in split]\n",
    "sca['Usage'] = pd.to_numeric(merge)\n",
    "\n",
    "split = [u.split(',') for u in sca['Avg Daily Usage']]\n",
    "merge = [''.join(a) for a in split]\n",
    "sca['Avg Daily Usage'] = pd.to_numeric(merge)\n",
    "\n",
    "sca['Start Date'] = pd.to_datetime(sca['Start Date'], errors = 'coerce')\n",
    "sca['Stop Date'] = pd.to_datetime(sca['Stop Date'], errors = 'coerce')\n",
    "sca['Days'] = [math.ceil((a - b).total_seconds() / (3600*24)) for a, b in zip(sca['Stop Date'], sca['Start Date'])]\n",
    "\n",
    "sca['Demand'] = pd.to_numeric(sca['Demand'], errors = 'coerce')\n",
    "sca['Load Factor'] = pd.to_numeric(sca['Load Factor'], errors = 'coerce')"
   ]
  },
  {
   "cell_type": "code",
   "execution_count": 26,
   "metadata": {},
   "outputs": [
    {
     "data": {
      "text/html": [
       "<div>\n",
       "<style scoped>\n",
       "    .dataframe tbody tr th:only-of-type {\n",
       "        vertical-align: middle;\n",
       "    }\n",
       "\n",
       "    .dataframe tbody tr th {\n",
       "        vertical-align: top;\n",
       "    }\n",
       "\n",
       "    .dataframe thead th {\n",
       "        text-align: right;\n",
       "    }\n",
       "</style>\n",
       "<table border=\"1\" class=\"dataframe\">\n",
       "  <thead>\n",
       "    <tr style=\"text-align: right;\">\n",
       "      <th></th>\n",
       "      <th>Meter Id</th>\n",
       "      <th>Start Date</th>\n",
       "      <th>Stop Date</th>\n",
       "      <th>Usage</th>\n",
       "      <th>Demand</th>\n",
       "      <th>Avg Daily Usage</th>\n",
       "      <th>Load Factor</th>\n",
       "      <th>Days</th>\n",
       "      <th>y</th>\n",
       "      <th>mon</th>\n",
       "    </tr>\n",
       "  </thead>\n",
       "  <tbody>\n",
       "    <tr>\n",
       "      <th>0</th>\n",
       "      <td>NEPOOL_MECO_2629670017</td>\n",
       "      <td>2019-04-03</td>\n",
       "      <td>2019-05-02 23:59:00</td>\n",
       "      <td>197400</td>\n",
       "      <td>387.0</td>\n",
       "      <td>6580.00</td>\n",
       "      <td>0.71</td>\n",
       "      <td>30</td>\n",
       "      <td>2019</td>\n",
       "      <td>4</td>\n",
       "    </tr>\n",
       "    <tr>\n",
       "      <th>1</th>\n",
       "      <td>NEPOOL_MECO_2629670017</td>\n",
       "      <td>2019-03-05</td>\n",
       "      <td>2019-04-02 23:59:00</td>\n",
       "      <td>130500</td>\n",
       "      <td>396.0</td>\n",
       "      <td>4500.00</td>\n",
       "      <td>0.47</td>\n",
       "      <td>29</td>\n",
       "      <td>2019</td>\n",
       "      <td>3</td>\n",
       "    </tr>\n",
       "    <tr>\n",
       "      <th>2</th>\n",
       "      <td>NEPOOL_MECO_2629670017</td>\n",
       "      <td>2019-02-04</td>\n",
       "      <td>2019-03-04 23:59:00</td>\n",
       "      <td>115800</td>\n",
       "      <td>324.0</td>\n",
       "      <td>3993.11</td>\n",
       "      <td>0.51</td>\n",
       "      <td>29</td>\n",
       "      <td>2019</td>\n",
       "      <td>2</td>\n",
       "    </tr>\n",
       "    <tr>\n",
       "      <th>3</th>\n",
       "      <td>NEPOOL_MECO_2629670017</td>\n",
       "      <td>2019-01-04</td>\n",
       "      <td>2019-02-03 23:59:00</td>\n",
       "      <td>104100</td>\n",
       "      <td>197.1</td>\n",
       "      <td>3358.07</td>\n",
       "      <td>0.71</td>\n",
       "      <td>31</td>\n",
       "      <td>2019</td>\n",
       "      <td>1</td>\n",
       "    </tr>\n",
       "    <tr>\n",
       "      <th>4</th>\n",
       "      <td>NEPOOL_MECO_2629670017</td>\n",
       "      <td>2018-12-04</td>\n",
       "      <td>2019-01-03 23:59:00</td>\n",
       "      <td>104000</td>\n",
       "      <td>189.0</td>\n",
       "      <td>3354.84</td>\n",
       "      <td>0.74</td>\n",
       "      <td>31</td>\n",
       "      <td>2018</td>\n",
       "      <td>12</td>\n",
       "    </tr>\n",
       "  </tbody>\n",
       "</table>\n",
       "</div>"
      ],
      "text/plain": [
       "                 Meter Id Start Date           Stop Date   Usage  Demand  \\\n",
       "0  NEPOOL_MECO_2629670017 2019-04-03 2019-05-02 23:59:00  197400   387.0   \n",
       "1  NEPOOL_MECO_2629670017 2019-03-05 2019-04-02 23:59:00  130500   396.0   \n",
       "2  NEPOOL_MECO_2629670017 2019-02-04 2019-03-04 23:59:00  115800   324.0   \n",
       "3  NEPOOL_MECO_2629670017 2019-01-04 2019-02-03 23:59:00  104100   197.1   \n",
       "4  NEPOOL_MECO_2629670017 2018-12-04 2019-01-03 23:59:00  104000   189.0   \n",
       "\n",
       "   Avg Daily Usage  Load Factor  Days     y  mon  \n",
       "0          6580.00         0.71    30  2019    4  \n",
       "1          4500.00         0.47    29  2019    3  \n",
       "2          3993.11         0.51    29  2019    2  \n",
       "3          3358.07         0.71    31  2019    1  \n",
       "4          3354.84         0.74    31  2018   12  "
      ]
     },
     "execution_count": 26,
     "metadata": {},
     "output_type": "execute_result"
    }
   ],
   "source": [
    "sca.head()"
   ]
  },
  {
   "cell_type": "code",
   "execution_count": 16,
   "metadata": {},
   "outputs": [],
   "source": [
    "sca['y'] = [a.year for a in sca['Start Date']]\n",
    "sca['mon'] = [a.month for a in sca['Start Date']]"
   ]
  },
  {
   "cell_type": "code",
   "execution_count": 27,
   "metadata": {},
   "outputs": [
    {
     "data": {
      "text/html": [
       "<div>\n",
       "<style scoped>\n",
       "    .dataframe tbody tr th:only-of-type {\n",
       "        vertical-align: middle;\n",
       "    }\n",
       "\n",
       "    .dataframe tbody tr th {\n",
       "        vertical-align: top;\n",
       "    }\n",
       "\n",
       "    .dataframe thead th {\n",
       "        text-align: right;\n",
       "    }\n",
       "</style>\n",
       "<table border=\"1\" class=\"dataframe\">\n",
       "  <thead>\n",
       "    <tr style=\"text-align: right;\">\n",
       "      <th></th>\n",
       "      <th>Meter Id</th>\n",
       "      <th>Start Date</th>\n",
       "      <th>Stop Date</th>\n",
       "      <th>Usage</th>\n",
       "      <th>Demand</th>\n",
       "      <th>Avg Daily Usage</th>\n",
       "      <th>Load Factor</th>\n",
       "      <th>Days</th>\n",
       "      <th>y</th>\n",
       "      <th>mon</th>\n",
       "    </tr>\n",
       "  </thead>\n",
       "  <tbody>\n",
       "    <tr>\n",
       "      <th>0</th>\n",
       "      <td>NEPOOL_MECO_2629670017</td>\n",
       "      <td>2019-04-03</td>\n",
       "      <td>2019-05-02 23:59:00</td>\n",
       "      <td>197400</td>\n",
       "      <td>387.0</td>\n",
       "      <td>6580.00</td>\n",
       "      <td>0.71</td>\n",
       "      <td>30</td>\n",
       "      <td>2019</td>\n",
       "      <td>4</td>\n",
       "    </tr>\n",
       "    <tr>\n",
       "      <th>1</th>\n",
       "      <td>NEPOOL_MECO_2629670017</td>\n",
       "      <td>2019-03-05</td>\n",
       "      <td>2019-04-02 23:59:00</td>\n",
       "      <td>130500</td>\n",
       "      <td>396.0</td>\n",
       "      <td>4500.00</td>\n",
       "      <td>0.47</td>\n",
       "      <td>29</td>\n",
       "      <td>2019</td>\n",
       "      <td>3</td>\n",
       "    </tr>\n",
       "    <tr>\n",
       "      <th>2</th>\n",
       "      <td>NEPOOL_MECO_2629670017</td>\n",
       "      <td>2019-02-04</td>\n",
       "      <td>2019-03-04 23:59:00</td>\n",
       "      <td>115800</td>\n",
       "      <td>324.0</td>\n",
       "      <td>3993.11</td>\n",
       "      <td>0.51</td>\n",
       "      <td>29</td>\n",
       "      <td>2019</td>\n",
       "      <td>2</td>\n",
       "    </tr>\n",
       "    <tr>\n",
       "      <th>3</th>\n",
       "      <td>NEPOOL_MECO_2629670017</td>\n",
       "      <td>2019-01-04</td>\n",
       "      <td>2019-02-03 23:59:00</td>\n",
       "      <td>104100</td>\n",
       "      <td>197.1</td>\n",
       "      <td>3358.07</td>\n",
       "      <td>0.71</td>\n",
       "      <td>31</td>\n",
       "      <td>2019</td>\n",
       "      <td>1</td>\n",
       "    </tr>\n",
       "    <tr>\n",
       "      <th>4</th>\n",
       "      <td>NEPOOL_MECO_2629670017</td>\n",
       "      <td>2018-12-04</td>\n",
       "      <td>2019-01-03 23:59:00</td>\n",
       "      <td>104000</td>\n",
       "      <td>189.0</td>\n",
       "      <td>3354.84</td>\n",
       "      <td>0.74</td>\n",
       "      <td>31</td>\n",
       "      <td>2018</td>\n",
       "      <td>12</td>\n",
       "    </tr>\n",
       "  </tbody>\n",
       "</table>\n",
       "</div>"
      ],
      "text/plain": [
       "                 Meter Id Start Date           Stop Date   Usage  Demand  \\\n",
       "0  NEPOOL_MECO_2629670017 2019-04-03 2019-05-02 23:59:00  197400   387.0   \n",
       "1  NEPOOL_MECO_2629670017 2019-03-05 2019-04-02 23:59:00  130500   396.0   \n",
       "2  NEPOOL_MECO_2629670017 2019-02-04 2019-03-04 23:59:00  115800   324.0   \n",
       "3  NEPOOL_MECO_2629670017 2019-01-04 2019-02-03 23:59:00  104100   197.1   \n",
       "4  NEPOOL_MECO_2629670017 2018-12-04 2019-01-03 23:59:00  104000   189.0   \n",
       "\n",
       "   Avg Daily Usage  Load Factor  Days     y  mon  \n",
       "0          6580.00         0.71    30  2019    4  \n",
       "1          4500.00         0.47    29  2019    3  \n",
       "2          3993.11         0.51    29  2019    2  \n",
       "3          3358.07         0.71    31  2019    1  \n",
       "4          3354.84         0.74    31  2018   12  "
      ]
     },
     "execution_count": 27,
     "metadata": {},
     "output_type": "execute_result"
    }
   ],
   "source": [
    "sca.head()"
   ]
  },
  {
   "cell_type": "markdown",
   "metadata": {},
   "source": [
    "## group IDR by (year, month, day, hour)"
   ]
  },
  {
   "cell_type": "code",
   "execution_count": 28,
   "metadata": {},
   "outputs": [],
   "source": [
    "def monthly(data):\n",
    "    data['month'] = list(zip(data['y'], data['mon']))\n",
    "    monthly_sum = data.groupby(['month']).sum()\n",
    "    monthly_sum = monthly_sum[['v']]\n",
    "    return(monthly_sum)"
   ]
  },
  {
   "cell_type": "markdown",
   "metadata": {},
   "source": [
    "## IDR monthly"
   ]
  },
  {
   "cell_type": "code",
   "execution_count": 22,
   "metadata": {},
   "outputs": [
    {
     "name": "stdout",
     "output_type": "stream",
     "text": [
      "                              v  d  h   pz     lr  min     y  mon          rm  \\\n",
      "t                                                                               \n",
      "2018-01-08 00:00:00  128.145916  8  0  0.0  False    0  2018    1  132.864142   \n",
      "2018-01-08 01:00:00  125.897742  8  1  0.0  False    0  2018    1  132.823231   \n",
      "2018-01-08 02:00:00  126.294478  8  2  0.0  False    0  2018    1  132.781815   \n",
      "2018-01-08 03:00:00  129.203880  8  3  0.0  False    0  2018    1  132.738442   \n",
      "2018-01-08 04:00:00  128.674898  8  4  0.0  False    0  2018    1  132.699304   \n",
      "\n",
      "                           mc       crm       crsd        var  spike    dip  \\\n",
      "t                                                                             \n",
      "2018-01-08 00:00:00 -4.718226 -0.050004  12.994637  93.357776  False  False   \n",
      "2018-01-08 01:00:00 -6.925489 -0.088958  12.997666  76.851191  False  False   \n",
      "2018-01-08 02:00:00 -6.487337 -0.128364  13.001288  49.538439  False  False   \n",
      "2018-01-08 03:00:00 -3.534562 -0.169684  13.007163  19.830274  False  False   \n",
      "2018-01-08 04:00:00 -4.024406 -0.206718  13.008438  18.468080  False  False   \n",
      "\n",
      "                       err      interp         lin  \n",
      "t                                                   \n",
      "2018-01-08 00:00:00  False  128.145916  128.145916  \n",
      "2018-01-08 01:00:00  False  125.897742  125.897742  \n",
      "2018-01-08 02:00:00  False  126.294478  126.294478  \n",
      "2018-01-08 03:00:00  False  129.203880  129.203880  \n",
      "2018-01-08 04:00:00  False  128.674898  128.674898  \n",
      "\n",
      "                          v  d  h   pz     lr  min     y  mon          rm  \\\n",
      "t                                                                           \n",
      "2019-07-09 04:00:00  326.88  9  4  0.0  False    0  2019    7  387.621370   \n",
      "2019-07-09 05:00:00  336.69  9  5  0.0  False    0  2019    7  387.870082   \n",
      "2019-07-09 06:00:00  351.54  9  6  0.0  False    0  2019    7  388.133058   \n",
      "2019-07-09 07:00:00  395.73  9  7  0.0  False    0  2019    7  388.333343   \n",
      "2019-07-09 08:00:00  437.22  9  8  0.0  False    0  2019    7  388.461191   \n",
      "\n",
      "                            mc        crm       crsd       var  spike    dip  \\\n",
      "t                                                                              \n",
      "2019-07-09 04:00:00 -60.741370  18.111170  48.121045 -4.353807  False  False   \n",
      "2019-07-09 05:00:00 -51.180082  18.299743  48.052045 -3.796765  False  False   \n",
      "2019-07-09 06:00:00 -36.593058  18.502870  47.961621 -2.977696  False  False   \n",
      "2019-07-09 07:00:00   7.396657  18.643636  47.952856 -0.603261  False  False   \n",
      "2019-07-09 08:00:00  48.758809  18.712344  48.001565  1.605703  False  False   \n",
      "\n",
      "                       err  interp     lin  \n",
      "t                                           \n",
      "2019-07-09 04:00:00  False  326.88  326.88  \n",
      "2019-07-09 05:00:00  False  336.69  336.69  \n",
      "2019-07-09 06:00:00  False  351.54  351.54  \n",
      "2019-07-09 07:00:00  False  395.73  395.73  \n",
      "2019-07-09 08:00:00  False  437.22  437.22  \n"
     ]
    }
   ],
   "source": [
    "idr = tmp2.copy()\n",
    "print(idr.head())\n",
    "print('')\n",
    "print(idr.tail())"
   ]
  },
  {
   "cell_type": "code",
   "execution_count": 23,
   "metadata": {},
   "outputs": [
    {
     "name": "stderr",
     "output_type": "stream",
     "text": [
      "c:\\users\\wb5888\\appdata\\local\\programs\\python\\python37-32\\lib\\site-packages\\ipykernel_launcher.py:2: SettingWithCopyWarning: \n",
      "A value is trying to be set on a copy of a slice from a DataFrame.\n",
      "Try using .loc[row_indexer,col_indexer] = value instead\n",
      "\n",
      "See the caveats in the documentation: http://pandas.pydata.org/pandas-docs/stable/indexing.html#indexing-view-versus-copy\n",
      "  \n"
     ]
    }
   ],
   "source": [
    "idr['date'] = list(zip(idr['y'], idr['mon'], idr['d'], idr['h']))\n",
    "tmp = idr.groupby(['date']).sum()\n",
    "tmp2 = tmp[['v', 'y', 'mon', 'd', 'h']]\n",
    "\n",
    "mon_idr = monthly(tmp2)"
   ]
  },
  {
   "cell_type": "code",
   "execution_count": 24,
   "metadata": {},
   "outputs": [
    {
     "name": "stdout",
     "output_type": "stream",
     "text": [
      "                      v\n",
      "month                  \n",
      "(2018, 1)  76635.489401\n",
      "(2018, 2)  84301.559623\n",
      "(2018, 3)  81537.484521\n",
      "(2018, 4)  83863.506372\n",
      "(2018, 5)  91823.546645\n",
      "...\n",
      "                        v\n",
      "month                    \n",
      "(2019, 6)   230067.540000\n",
      "(2019, 7)    79110.900000\n",
      "(4036, 24)    5976.503226\n",
      "(4038, 2)   207268.149233\n",
      "(4038, 4)    26849.287208\n"
     ]
    }
   ],
   "source": [
    "print(mon_idr.head())\n",
    "print('...')\n",
    "print(mon_idr.tail())"
   ]
  },
  {
   "cell_type": "markdown",
   "metadata": {},
   "source": [
    "## Scalar"
   ]
  },
  {
   "cell_type": "code",
   "execution_count": 52,
   "metadata": {},
   "outputs": [],
   "source": [
    "mon_sca = sca.groupby(['mon']).sum()"
   ]
  },
  {
   "cell_type": "code",
   "execution_count": 53,
   "metadata": {},
   "outputs": [],
   "source": [
    "mon_sca = mon_sca['Usage']"
   ]
  },
  {
   "cell_type": "code",
   "execution_count": 54,
   "metadata": {},
   "outputs": [
    {
     "name": "stdout",
     "output_type": "stream",
     "text": [
      "mon\n",
      "1    273200\n",
      "2    277200\n",
      "3    293000\n",
      "4    360800\n",
      "5    182700\n",
      "Name: Usage, dtype: int64\n",
      "...\n",
      "mon\n",
      "8     312000\n",
      "9     254500\n",
      "10    257700\n",
      "11    270200\n",
      "12    282600\n",
      "Name: Usage, dtype: int64\n"
     ]
    }
   ],
   "source": [
    "print(mon_sca.head())\n",
    "print('...')\n",
    "print(mon_sca.tail())"
   ]
  },
  {
   "cell_type": "code",
   "execution_count": 59,
   "metadata": {},
   "outputs": [
    {
     "ename": "SyntaxError",
     "evalue": "invalid syntax (<ipython-input-59-6a4c9c03c645>, line 1)",
     "output_type": "error",
     "traceback": [
      "\u001b[1;36m  File \u001b[1;32m\"<ipython-input-59-6a4c9c03c645>\"\u001b[1;36m, line \u001b[1;32m1\u001b[0m\n\u001b[1;33m    mon_idr = mon_idr[int(a in list(mon_sca.index)) for a in list(mon_idr.index)]\u001b[0m\n\u001b[1;37m                                                      ^\u001b[0m\n\u001b[1;31mSyntaxError\u001b[0m\u001b[1;31m:\u001b[0m invalid syntax\n"
     ]
    }
   ],
   "source": [
    "mon_idr = mon_idr[int(a in list(mon_sca.index)) for a in list(mon_idr.index)]\n",
    "mon_idr.head()"
   ]
  },
  {
   "cell_type": "code",
   "execution_count": 55,
   "metadata": {},
   "outputs": [
    {
     "ename": "InvalidIndexError",
     "evalue": "Reindexing only valid with uniquely valued Index objects",
     "output_type": "error",
     "traceback": [
      "\u001b[1;31m---------------------------------------------------------------------------\u001b[0m",
      "\u001b[1;31mInvalidIndexError\u001b[0m                         Traceback (most recent call last)",
      "\u001b[1;32m<ipython-input-55-cfd30d31d0ea>\u001b[0m in \u001b[0;36m<module>\u001b[1;34m\u001b[0m\n\u001b[1;32m----> 1\u001b[1;33m \u001b[0mmon_sum\u001b[0m \u001b[1;33m=\u001b[0m \u001b[0mpd\u001b[0m\u001b[1;33m.\u001b[0m\u001b[0mconcat\u001b[0m\u001b[1;33m(\u001b[0m\u001b[1;33m[\u001b[0m\u001b[0mmon_idr\u001b[0m\u001b[1;33m,\u001b[0m \u001b[0mmon_sca\u001b[0m\u001b[1;33m]\u001b[0m\u001b[1;33m,\u001b[0m \u001b[0maxis\u001b[0m \u001b[1;33m=\u001b[0m \u001b[1;36m1\u001b[0m\u001b[1;33m)\u001b[0m\u001b[1;33m\u001b[0m\u001b[1;33m\u001b[0m\u001b[0m\n\u001b[0m\u001b[0;32m      2\u001b[0m \u001b[0mmon_sum\u001b[0m\u001b[1;33m.\u001b[0m\u001b[0mcolumns\u001b[0m \u001b[1;33m=\u001b[0m \u001b[1;33m[\u001b[0m\u001b[1;34m'idr'\u001b[0m\u001b[1;33m,\u001b[0m \u001b[1;34m'sca'\u001b[0m\u001b[1;33m]\u001b[0m\u001b[1;33m\u001b[0m\u001b[1;33m\u001b[0m\u001b[0m\n",
      "\u001b[1;32mc:\\users\\wb5888\\appdata\\local\\programs\\python\\python37-32\\lib\\site-packages\\pandas\\core\\reshape\\concat.py\u001b[0m in \u001b[0;36mconcat\u001b[1;34m(objs, axis, join, join_axes, ignore_index, keys, levels, names, verify_integrity, sort, copy)\u001b[0m\n\u001b[0;32m    226\u001b[0m                        \u001b[0mkeys\u001b[0m\u001b[1;33m=\u001b[0m\u001b[0mkeys\u001b[0m\u001b[1;33m,\u001b[0m \u001b[0mlevels\u001b[0m\u001b[1;33m=\u001b[0m\u001b[0mlevels\u001b[0m\u001b[1;33m,\u001b[0m \u001b[0mnames\u001b[0m\u001b[1;33m=\u001b[0m\u001b[0mnames\u001b[0m\u001b[1;33m,\u001b[0m\u001b[1;33m\u001b[0m\u001b[1;33m\u001b[0m\u001b[0m\n\u001b[0;32m    227\u001b[0m                        \u001b[0mverify_integrity\u001b[0m\u001b[1;33m=\u001b[0m\u001b[0mverify_integrity\u001b[0m\u001b[1;33m,\u001b[0m\u001b[1;33m\u001b[0m\u001b[1;33m\u001b[0m\u001b[0m\n\u001b[1;32m--> 228\u001b[1;33m                        copy=copy, sort=sort)\n\u001b[0m\u001b[0;32m    229\u001b[0m     \u001b[1;32mreturn\u001b[0m \u001b[0mop\u001b[0m\u001b[1;33m.\u001b[0m\u001b[0mget_result\u001b[0m\u001b[1;33m(\u001b[0m\u001b[1;33m)\u001b[0m\u001b[1;33m\u001b[0m\u001b[1;33m\u001b[0m\u001b[0m\n\u001b[0;32m    230\u001b[0m \u001b[1;33m\u001b[0m\u001b[0m\n",
      "\u001b[1;32mc:\\users\\wb5888\\appdata\\local\\programs\\python\\python37-32\\lib\\site-packages\\pandas\\core\\reshape\\concat.py\u001b[0m in \u001b[0;36m__init__\u001b[1;34m(self, objs, axis, join, join_axes, keys, levels, names, ignore_index, verify_integrity, copy, sort)\u001b[0m\n\u001b[0;32m    379\u001b[0m         \u001b[0mself\u001b[0m\u001b[1;33m.\u001b[0m\u001b[0mcopy\u001b[0m \u001b[1;33m=\u001b[0m \u001b[0mcopy\u001b[0m\u001b[1;33m\u001b[0m\u001b[1;33m\u001b[0m\u001b[0m\n\u001b[0;32m    380\u001b[0m \u001b[1;33m\u001b[0m\u001b[0m\n\u001b[1;32m--> 381\u001b[1;33m         \u001b[0mself\u001b[0m\u001b[1;33m.\u001b[0m\u001b[0mnew_axes\u001b[0m \u001b[1;33m=\u001b[0m \u001b[0mself\u001b[0m\u001b[1;33m.\u001b[0m\u001b[0m_get_new_axes\u001b[0m\u001b[1;33m(\u001b[0m\u001b[1;33m)\u001b[0m\u001b[1;33m\u001b[0m\u001b[1;33m\u001b[0m\u001b[0m\n\u001b[0m\u001b[0;32m    382\u001b[0m \u001b[1;33m\u001b[0m\u001b[0m\n\u001b[0;32m    383\u001b[0m     \u001b[1;32mdef\u001b[0m \u001b[0mget_result\u001b[0m\u001b[1;33m(\u001b[0m\u001b[0mself\u001b[0m\u001b[1;33m)\u001b[0m\u001b[1;33m:\u001b[0m\u001b[1;33m\u001b[0m\u001b[1;33m\u001b[0m\u001b[0m\n",
      "\u001b[1;32mc:\\users\\wb5888\\appdata\\local\\programs\\python\\python37-32\\lib\\site-packages\\pandas\\core\\reshape\\concat.py\u001b[0m in \u001b[0;36m_get_new_axes\u001b[1;34m(self)\u001b[0m\n\u001b[0;32m    446\u001b[0m                 \u001b[1;32mif\u001b[0m \u001b[0mi\u001b[0m \u001b[1;33m==\u001b[0m \u001b[0mself\u001b[0m\u001b[1;33m.\u001b[0m\u001b[0maxis\u001b[0m\u001b[1;33m:\u001b[0m\u001b[1;33m\u001b[0m\u001b[1;33m\u001b[0m\u001b[0m\n\u001b[0;32m    447\u001b[0m                     \u001b[1;32mcontinue\u001b[0m\u001b[1;33m\u001b[0m\u001b[1;33m\u001b[0m\u001b[0m\n\u001b[1;32m--> 448\u001b[1;33m                 \u001b[0mnew_axes\u001b[0m\u001b[1;33m[\u001b[0m\u001b[0mi\u001b[0m\u001b[1;33m]\u001b[0m \u001b[1;33m=\u001b[0m \u001b[0mself\u001b[0m\u001b[1;33m.\u001b[0m\u001b[0m_get_comb_axis\u001b[0m\u001b[1;33m(\u001b[0m\u001b[0mi\u001b[0m\u001b[1;33m)\u001b[0m\u001b[1;33m\u001b[0m\u001b[1;33m\u001b[0m\u001b[0m\n\u001b[0m\u001b[0;32m    449\u001b[0m         \u001b[1;32melse\u001b[0m\u001b[1;33m:\u001b[0m\u001b[1;33m\u001b[0m\u001b[1;33m\u001b[0m\u001b[0m\n\u001b[0;32m    450\u001b[0m             \u001b[1;32mif\u001b[0m \u001b[0mlen\u001b[0m\u001b[1;33m(\u001b[0m\u001b[0mself\u001b[0m\u001b[1;33m.\u001b[0m\u001b[0mjoin_axes\u001b[0m\u001b[1;33m)\u001b[0m \u001b[1;33m!=\u001b[0m \u001b[0mndim\u001b[0m \u001b[1;33m-\u001b[0m \u001b[1;36m1\u001b[0m\u001b[1;33m:\u001b[0m\u001b[1;33m\u001b[0m\u001b[1;33m\u001b[0m\u001b[0m\n",
      "\u001b[1;32mc:\\users\\wb5888\\appdata\\local\\programs\\python\\python37-32\\lib\\site-packages\\pandas\\core\\reshape\\concat.py\u001b[0m in \u001b[0;36m_get_comb_axis\u001b[1;34m(self, i)\u001b[0m\n\u001b[0;32m    467\u001b[0m             return _get_objs_combined_axis(self.objs, axis=data_axis,\n\u001b[0;32m    468\u001b[0m                                            \u001b[0mintersect\u001b[0m\u001b[1;33m=\u001b[0m\u001b[0mself\u001b[0m\u001b[1;33m.\u001b[0m\u001b[0mintersect\u001b[0m\u001b[1;33m,\u001b[0m\u001b[1;33m\u001b[0m\u001b[1;33m\u001b[0m\u001b[0m\n\u001b[1;32m--> 469\u001b[1;33m                                            sort=self.sort)\n\u001b[0m\u001b[0;32m    470\u001b[0m         \u001b[1;32mexcept\u001b[0m \u001b[0mIndexError\u001b[0m\u001b[1;33m:\u001b[0m\u001b[1;33m\u001b[0m\u001b[1;33m\u001b[0m\u001b[0m\n\u001b[0;32m    471\u001b[0m             \u001b[0mtypes\u001b[0m \u001b[1;33m=\u001b[0m \u001b[1;33m[\u001b[0m\u001b[0mtype\u001b[0m\u001b[1;33m(\u001b[0m\u001b[0mx\u001b[0m\u001b[1;33m)\u001b[0m\u001b[1;33m.\u001b[0m\u001b[0m__name__\u001b[0m \u001b[1;32mfor\u001b[0m \u001b[0mx\u001b[0m \u001b[1;32min\u001b[0m \u001b[0mself\u001b[0m\u001b[1;33m.\u001b[0m\u001b[0mobjs\u001b[0m\u001b[1;33m]\u001b[0m\u001b[1;33m\u001b[0m\u001b[1;33m\u001b[0m\u001b[0m\n",
      "\u001b[1;32mc:\\users\\wb5888\\appdata\\local\\programs\\python\\python37-32\\lib\\site-packages\\pandas\\core\\indexes\\api.py\u001b[0m in \u001b[0;36m_get_objs_combined_axis\u001b[1;34m(objs, intersect, axis, sort)\u001b[0m\n\u001b[0;32m     68\u001b[0m                  if hasattr(obj, '_get_axis')]\n\u001b[0;32m     69\u001b[0m     \u001b[1;32mif\u001b[0m \u001b[0mobs_idxes\u001b[0m\u001b[1;33m:\u001b[0m\u001b[1;33m\u001b[0m\u001b[1;33m\u001b[0m\u001b[0m\n\u001b[1;32m---> 70\u001b[1;33m         \u001b[1;32mreturn\u001b[0m \u001b[0m_get_combined_index\u001b[0m\u001b[1;33m(\u001b[0m\u001b[0mobs_idxes\u001b[0m\u001b[1;33m,\u001b[0m \u001b[0mintersect\u001b[0m\u001b[1;33m=\u001b[0m\u001b[0mintersect\u001b[0m\u001b[1;33m,\u001b[0m \u001b[0msort\u001b[0m\u001b[1;33m=\u001b[0m\u001b[0msort\u001b[0m\u001b[1;33m)\u001b[0m\u001b[1;33m\u001b[0m\u001b[1;33m\u001b[0m\u001b[0m\n\u001b[0m\u001b[0;32m     71\u001b[0m \u001b[1;33m\u001b[0m\u001b[0m\n\u001b[0;32m     72\u001b[0m \u001b[1;33m\u001b[0m\u001b[0m\n",
      "\u001b[1;32mc:\\users\\wb5888\\appdata\\local\\programs\\python\\python37-32\\lib\\site-packages\\pandas\\core\\indexes\\api.py\u001b[0m in \u001b[0;36m_get_combined_index\u001b[1;34m(indexes, intersect, sort)\u001b[0m\n\u001b[0;32m    115\u001b[0m             \u001b[0mindex\u001b[0m \u001b[1;33m=\u001b[0m \u001b[0mindex\u001b[0m\u001b[1;33m.\u001b[0m\u001b[0mintersection\u001b[0m\u001b[1;33m(\u001b[0m\u001b[0mother\u001b[0m\u001b[1;33m)\u001b[0m\u001b[1;33m\u001b[0m\u001b[1;33m\u001b[0m\u001b[0m\n\u001b[0;32m    116\u001b[0m     \u001b[1;32melse\u001b[0m\u001b[1;33m:\u001b[0m\u001b[1;33m\u001b[0m\u001b[1;33m\u001b[0m\u001b[0m\n\u001b[1;32m--> 117\u001b[1;33m         \u001b[0mindex\u001b[0m \u001b[1;33m=\u001b[0m \u001b[0m_union_indexes\u001b[0m\u001b[1;33m(\u001b[0m\u001b[0mindexes\u001b[0m\u001b[1;33m,\u001b[0m \u001b[0msort\u001b[0m\u001b[1;33m=\u001b[0m\u001b[0msort\u001b[0m\u001b[1;33m)\u001b[0m\u001b[1;33m\u001b[0m\u001b[1;33m\u001b[0m\u001b[0m\n\u001b[0m\u001b[0;32m    118\u001b[0m         \u001b[0mindex\u001b[0m \u001b[1;33m=\u001b[0m \u001b[0mensure_index\u001b[0m\u001b[1;33m(\u001b[0m\u001b[0mindex\u001b[0m\u001b[1;33m)\u001b[0m\u001b[1;33m\u001b[0m\u001b[1;33m\u001b[0m\u001b[0m\n\u001b[0;32m    119\u001b[0m \u001b[1;33m\u001b[0m\u001b[0m\n",
      "\u001b[1;32mc:\\users\\wb5888\\appdata\\local\\programs\\python\\python37-32\\lib\\site-packages\\pandas\\core\\indexes\\api.py\u001b[0m in \u001b[0;36m_union_indexes\u001b[1;34m(indexes, sort)\u001b[0m\n\u001b[0;32m    181\u001b[0m         \u001b[1;32melse\u001b[0m\u001b[1;33m:\u001b[0m\u001b[1;33m\u001b[0m\u001b[1;33m\u001b[0m\u001b[0m\n\u001b[0;32m    182\u001b[0m             \u001b[1;32mfor\u001b[0m \u001b[0mother\u001b[0m \u001b[1;32min\u001b[0m \u001b[0mindexes\u001b[0m\u001b[1;33m[\u001b[0m\u001b[1;36m1\u001b[0m\u001b[1;33m:\u001b[0m\u001b[1;33m]\u001b[0m\u001b[1;33m:\u001b[0m\u001b[1;33m\u001b[0m\u001b[1;33m\u001b[0m\u001b[0m\n\u001b[1;32m--> 183\u001b[1;33m                 \u001b[0mresult\u001b[0m \u001b[1;33m=\u001b[0m \u001b[0mresult\u001b[0m\u001b[1;33m.\u001b[0m\u001b[0munion\u001b[0m\u001b[1;33m(\u001b[0m\u001b[0mother\u001b[0m\u001b[1;33m)\u001b[0m\u001b[1;33m\u001b[0m\u001b[1;33m\u001b[0m\u001b[0m\n\u001b[0m\u001b[0;32m    184\u001b[0m             \u001b[1;32mreturn\u001b[0m \u001b[0mresult\u001b[0m\u001b[1;33m\u001b[0m\u001b[1;33m\u001b[0m\u001b[0m\n\u001b[0;32m    185\u001b[0m     \u001b[1;32melif\u001b[0m \u001b[0mkind\u001b[0m \u001b[1;33m==\u001b[0m \u001b[1;34m'array'\u001b[0m\u001b[1;33m:\u001b[0m\u001b[1;33m\u001b[0m\u001b[1;33m\u001b[0m\u001b[0m\n",
      "\u001b[1;32mc:\\users\\wb5888\\appdata\\local\\programs\\python\\python37-32\\lib\\site-packages\\pandas\\core\\indexes\\base.py\u001b[0m in \u001b[0;36munion\u001b[1;34m(self, other, sort)\u001b[0m\n\u001b[0;32m   2330\u001b[0m                 \u001b[0mresult\u001b[0m\u001b[1;33m.\u001b[0m\u001b[0mextend\u001b[0m\u001b[1;33m(\u001b[0m\u001b[1;33m[\u001b[0m\u001b[0mx\u001b[0m \u001b[1;32mfor\u001b[0m \u001b[0mx\u001b[0m \u001b[1;32min\u001b[0m \u001b[0mrvals\u001b[0m \u001b[1;32mif\u001b[0m \u001b[0mx\u001b[0m \u001b[1;32mnot\u001b[0m \u001b[1;32min\u001b[0m \u001b[0mvalue_set\u001b[0m\u001b[1;33m]\u001b[0m\u001b[1;33m)\u001b[0m\u001b[1;33m\u001b[0m\u001b[1;33m\u001b[0m\u001b[0m\n\u001b[0;32m   2331\u001b[0m         \u001b[1;32melse\u001b[0m\u001b[1;33m:\u001b[0m\u001b[1;33m\u001b[0m\u001b[1;33m\u001b[0m\u001b[0m\n\u001b[1;32m-> 2332\u001b[1;33m             \u001b[0mindexer\u001b[0m \u001b[1;33m=\u001b[0m \u001b[0mself\u001b[0m\u001b[1;33m.\u001b[0m\u001b[0mget_indexer\u001b[0m\u001b[1;33m(\u001b[0m\u001b[0mother\u001b[0m\u001b[1;33m)\u001b[0m\u001b[1;33m\u001b[0m\u001b[1;33m\u001b[0m\u001b[0m\n\u001b[0m\u001b[0;32m   2333\u001b[0m             \u001b[0mindexer\u001b[0m\u001b[1;33m,\u001b[0m \u001b[1;33m=\u001b[0m \u001b[1;33m(\u001b[0m\u001b[0mindexer\u001b[0m \u001b[1;33m==\u001b[0m \u001b[1;33m-\u001b[0m\u001b[1;36m1\u001b[0m\u001b[1;33m)\u001b[0m\u001b[1;33m.\u001b[0m\u001b[0mnonzero\u001b[0m\u001b[1;33m(\u001b[0m\u001b[1;33m)\u001b[0m\u001b[1;33m\u001b[0m\u001b[1;33m\u001b[0m\u001b[0m\n\u001b[0;32m   2334\u001b[0m \u001b[1;33m\u001b[0m\u001b[0m\n",
      "\u001b[1;32mc:\\users\\wb5888\\appdata\\local\\programs\\python\\python37-32\\lib\\site-packages\\pandas\\core\\indexes\\base.py\u001b[0m in \u001b[0;36mget_indexer\u001b[1;34m(self, target, method, limit, tolerance)\u001b[0m\n\u001b[0;32m   2738\u001b[0m \u001b[1;33m\u001b[0m\u001b[0m\n\u001b[0;32m   2739\u001b[0m         \u001b[1;32mif\u001b[0m \u001b[1;32mnot\u001b[0m \u001b[0mself\u001b[0m\u001b[1;33m.\u001b[0m\u001b[0mis_unique\u001b[0m\u001b[1;33m:\u001b[0m\u001b[1;33m\u001b[0m\u001b[1;33m\u001b[0m\u001b[0m\n\u001b[1;32m-> 2740\u001b[1;33m             raise InvalidIndexError('Reindexing only valid with uniquely'\n\u001b[0m\u001b[0;32m   2741\u001b[0m                                     ' valued Index objects')\n\u001b[0;32m   2742\u001b[0m \u001b[1;33m\u001b[0m\u001b[0m\n",
      "\u001b[1;31mInvalidIndexError\u001b[0m: Reindexing only valid with uniquely valued Index objects"
     ]
    }
   ],
   "source": [
    "mon_sum = pd.concat([mon_idr, mon_sca], axis = 1)\n",
    "mon_sum.columns = ['idr', 'sca']"
   ]
  },
  {
   "cell_type": "code",
   "execution_count": 49,
   "metadata": {},
   "outputs": [
    {
     "name": "stdout",
     "output_type": "stream",
     "text": [
      "Int64Index([1, 2, 3, 4, 5, 6, 7, 8, 9, 10, 11, 12, 2, 3, 4, 5, 6, 7, 24, 2, 4], dtype='int64', name='m')\n",
      "\n",
      "Int64Index([1, 2, 3, 4, 5, 6, 7, 8, 9, 10, 11, 12], dtype='int64', name='mon')\n",
      "\n"
     ]
    }
   ],
   "source": [
    "print(mon_idr.index)\n",
    "print('')\n",
    "print(mon_sca.index)\n",
    "print('')"
   ]
  },
  {
   "cell_type": "code",
   "execution_count": 44,
   "metadata": {},
   "outputs": [
    {
     "data": {
      "text/html": [
       "<div>\n",
       "<style scoped>\n",
       "    .dataframe tbody tr th:only-of-type {\n",
       "        vertical-align: middle;\n",
       "    }\n",
       "\n",
       "    .dataframe tbody tr th {\n",
       "        vertical-align: top;\n",
       "    }\n",
       "\n",
       "    .dataframe thead th {\n",
       "        text-align: right;\n",
       "    }\n",
       "</style>\n",
       "<table border=\"1\" class=\"dataframe\">\n",
       "  <thead>\n",
       "    <tr style=\"text-align: right;\">\n",
       "      <th></th>\n",
       "      <th>v</th>\n",
       "      <th>m</th>\n",
       "    </tr>\n",
       "  </thead>\n",
       "  <tbody>\n",
       "    <tr>\n",
       "      <th>0</th>\n",
       "      <td>76635.489401</td>\n",
       "      <td>1</td>\n",
       "    </tr>\n",
       "    <tr>\n",
       "      <th>1</th>\n",
       "      <td>84301.559623</td>\n",
       "      <td>2</td>\n",
       "    </tr>\n",
       "    <tr>\n",
       "      <th>2</th>\n",
       "      <td>81537.484521</td>\n",
       "      <td>3</td>\n",
       "    </tr>\n",
       "    <tr>\n",
       "      <th>3</th>\n",
       "      <td>83863.506372</td>\n",
       "      <td>4</td>\n",
       "    </tr>\n",
       "    <tr>\n",
       "      <th>4</th>\n",
       "      <td>91823.546645</td>\n",
       "      <td>5</td>\n",
       "    </tr>\n",
       "  </tbody>\n",
       "</table>\n",
       "</div>"
      ],
      "text/plain": [
       "              v  m\n",
       "0  76635.489401  1\n",
       "1  84301.559623  2\n",
       "2  81537.484521  3\n",
       "3  83863.506372  4\n",
       "4  91823.546645  5"
      ]
     },
     "execution_count": 44,
     "metadata": {},
     "output_type": "execute_result"
    }
   ],
   "source": [
    "mon_idr['m'] = [a[1] for a in mon_idr.index]\n",
    "mon_idr.reset_index(drop = True, inplace = True)\n",
    "mon_idr.head()"
   ]
  },
  {
   "cell_type": "code",
   "execution_count": 47,
   "metadata": {},
   "outputs": [
    {
     "name": "stdout",
     "output_type": "stream",
     "text": [
      "              v\n",
      "m              \n",
      "1  76635.489401\n",
      "2  84301.559623\n",
      "3  81537.484521\n",
      "4  83863.506372\n",
      "5  91823.546645\n",
      "\n",
      "                v\n",
      "m                \n",
      "6   230067.540000\n",
      "7    79110.900000\n",
      "24    5976.503226\n",
      "2   207268.149233\n",
      "4    26849.287208\n"
     ]
    }
   ],
   "source": [
    "#mon_idr.set_index('m', drop = True, inplace = True)\n",
    "print(mon_idr.head())\n",
    "print('')\n",
    "print(mon_idr.tail())"
   ]
  },
  {
   "cell_type": "code",
   "execution_count": 60,
   "metadata": {},
   "outputs": [
    {
     "name": "stdout",
     "output_type": "stream",
     "text": [
      "                    idr  sca\n",
      "(2018, 1)  76635.489401  NaN\n",
      "(2018, 2)  84301.559623  NaN\n",
      "(2018, 3)  81537.484521  NaN\n",
      "(2018, 4)  83863.506372  NaN\n",
      "(2018, 5)  91823.546645  NaN\n",
      "...\n",
      "    idr       sca\n",
      "8   NaN  312000.0\n",
      "9   NaN  254500.0\n",
      "10  NaN  257700.0\n",
      "11  NaN  270200.0\n",
      "12  NaN  282600.0\n"
     ]
    }
   ],
   "source": [
    "print(mon_sum.head())\n",
    "print('...')\n",
    "print(mon_sum.tail())"
   ]
  },
  {
   "cell_type": "code",
   "execution_count": 37,
   "metadata": {},
   "outputs": [
    {
     "data": {
      "text/plain": [
       "Index([ (2018, 1),  (2018, 2),  (2018, 3),  (2018, 4),  (2018, 5),  (2018, 6),\n",
       "        (2018, 7),  (2018, 8),  (2018, 9), (2018, 10), (2018, 11), (2018, 12),\n",
       "        (2019, 2),  (2019, 3),  (2019, 4),  (2019, 5),  (2019, 6),  (2019, 7),\n",
       "       (4036, 24),  (4038, 2),  (4038, 4),          1,          2,          3,\n",
       "                4,          5,          6,          7,          8,          9,\n",
       "               10,         11,         12],\n",
       "      dtype='object')"
      ]
     },
     "execution_count": 37,
     "metadata": {},
     "output_type": "execute_result"
    }
   ],
   "source": [
    "mon_sum.index"
   ]
  },
  {
   "cell_type": "markdown",
   "metadata": {},
   "source": [
    "# Monthly Sum"
   ]
  },
  {
   "cell_type": "code",
   "execution_count": 63,
   "metadata": {},
   "outputs": [],
   "source": [
    "rec_mon = mon_sum.copy()\n",
    "rec_mon['month'] = [a for a in rec_mon.index.to_series()]"
   ]
  },
  {
   "cell_type": "code",
   "execution_count": null,
   "metadata": {},
   "outputs": [],
   "source": []
  },
  {
   "cell_type": "code",
   "execution_count": 68,
   "metadata": {},
   "outputs": [],
   "source": [
    "for r in rec_mon['month']:\n",
    "    if type(r) != 'int':\n",
    "        try:\n",
    "            rec_mon['month'] = r[1]\n",
    "        except:\n",
    "            rec_mon['month'] = int(r)\n",
    "        finally:\n",
    "            pass"
   ]
  },
  {
   "cell_type": "code",
   "execution_count": 69,
   "metadata": {},
   "outputs": [
    {
     "data": {
      "text/html": [
       "<div>\n",
       "<style scoped>\n",
       "    .dataframe tbody tr th:only-of-type {\n",
       "        vertical-align: middle;\n",
       "    }\n",
       "\n",
       "    .dataframe tbody tr th {\n",
       "        vertical-align: top;\n",
       "    }\n",
       "\n",
       "    .dataframe thead th {\n",
       "        text-align: right;\n",
       "    }\n",
       "</style>\n",
       "<table border=\"1\" class=\"dataframe\">\n",
       "  <thead>\n",
       "    <tr style=\"text-align: right;\">\n",
       "      <th></th>\n",
       "      <th>idr</th>\n",
       "      <th>sca</th>\n",
       "      <th>month</th>\n",
       "    </tr>\n",
       "  </thead>\n",
       "  <tbody>\n",
       "    <tr>\n",
       "      <th>(2018, 1)</th>\n",
       "      <td>76635.489401</td>\n",
       "      <td>NaN</td>\n",
       "      <td>4</td>\n",
       "    </tr>\n",
       "    <tr>\n",
       "      <th>(2018, 2)</th>\n",
       "      <td>84301.559623</td>\n",
       "      <td>NaN</td>\n",
       "      <td>4</td>\n",
       "    </tr>\n",
       "    <tr>\n",
       "      <th>(2018, 3)</th>\n",
       "      <td>81537.484521</td>\n",
       "      <td>NaN</td>\n",
       "      <td>4</td>\n",
       "    </tr>\n",
       "    <tr>\n",
       "      <th>(2018, 4)</th>\n",
       "      <td>83863.506372</td>\n",
       "      <td>NaN</td>\n",
       "      <td>4</td>\n",
       "    </tr>\n",
       "    <tr>\n",
       "      <th>(2018, 5)</th>\n",
       "      <td>91823.546645</td>\n",
       "      <td>NaN</td>\n",
       "      <td>4</td>\n",
       "    </tr>\n",
       "    <tr>\n",
       "      <th>(2018, 6)</th>\n",
       "      <td>100959.108808</td>\n",
       "      <td>NaN</td>\n",
       "      <td>4</td>\n",
       "    </tr>\n",
       "    <tr>\n",
       "      <th>(2018, 7)</th>\n",
       "      <td>107277.525781</td>\n",
       "      <td>NaN</td>\n",
       "      <td>4</td>\n",
       "    </tr>\n",
       "    <tr>\n",
       "      <th>(2018, 8)</th>\n",
       "      <td>109331.681567</td>\n",
       "      <td>NaN</td>\n",
       "      <td>4</td>\n",
       "    </tr>\n",
       "    <tr>\n",
       "      <th>(2018, 9)</th>\n",
       "      <td>94913.539926</td>\n",
       "      <td>NaN</td>\n",
       "      <td>4</td>\n",
       "    </tr>\n",
       "    <tr>\n",
       "      <th>(2018, 10)</th>\n",
       "      <td>94556.557392</td>\n",
       "      <td>NaN</td>\n",
       "      <td>4</td>\n",
       "    </tr>\n",
       "    <tr>\n",
       "      <th>(2018, 11)</th>\n",
       "      <td>103758.564987</td>\n",
       "      <td>NaN</td>\n",
       "      <td>4</td>\n",
       "    </tr>\n",
       "    <tr>\n",
       "      <th>(2018, 12)</th>\n",
       "      <td>100066.615344</td>\n",
       "      <td>NaN</td>\n",
       "      <td>4</td>\n",
       "    </tr>\n",
       "    <tr>\n",
       "      <th>(2019, 2)</th>\n",
       "      <td>93082.320000</td>\n",
       "      <td>NaN</td>\n",
       "      <td>4</td>\n",
       "    </tr>\n",
       "    <tr>\n",
       "      <th>(2019, 3)</th>\n",
       "      <td>20757.060000</td>\n",
       "      <td>NaN</td>\n",
       "      <td>4</td>\n",
       "    </tr>\n",
       "    <tr>\n",
       "      <th>(2019, 4)</th>\n",
       "      <td>180383.670000</td>\n",
       "      <td>NaN</td>\n",
       "      <td>4</td>\n",
       "    </tr>\n",
       "    <tr>\n",
       "      <th>(2019, 5)</th>\n",
       "      <td>205526.700000</td>\n",
       "      <td>NaN</td>\n",
       "      <td>4</td>\n",
       "    </tr>\n",
       "    <tr>\n",
       "      <th>(2019, 6)</th>\n",
       "      <td>230067.540000</td>\n",
       "      <td>NaN</td>\n",
       "      <td>4</td>\n",
       "    </tr>\n",
       "    <tr>\n",
       "      <th>(2019, 7)</th>\n",
       "      <td>79110.900000</td>\n",
       "      <td>NaN</td>\n",
       "      <td>4</td>\n",
       "    </tr>\n",
       "    <tr>\n",
       "      <th>(4036, 24)</th>\n",
       "      <td>5976.503226</td>\n",
       "      <td>NaN</td>\n",
       "      <td>4</td>\n",
       "    </tr>\n",
       "    <tr>\n",
       "      <th>(4038, 2)</th>\n",
       "      <td>207268.149233</td>\n",
       "      <td>NaN</td>\n",
       "      <td>4</td>\n",
       "    </tr>\n",
       "    <tr>\n",
       "      <th>(4038, 4)</th>\n",
       "      <td>26849.287208</td>\n",
       "      <td>NaN</td>\n",
       "      <td>4</td>\n",
       "    </tr>\n",
       "    <tr>\n",
       "      <th>1</th>\n",
       "      <td>NaN</td>\n",
       "      <td>273200.0</td>\n",
       "      <td>4</td>\n",
       "    </tr>\n",
       "    <tr>\n",
       "      <th>2</th>\n",
       "      <td>NaN</td>\n",
       "      <td>277200.0</td>\n",
       "      <td>4</td>\n",
       "    </tr>\n",
       "    <tr>\n",
       "      <th>3</th>\n",
       "      <td>NaN</td>\n",
       "      <td>293000.0</td>\n",
       "      <td>4</td>\n",
       "    </tr>\n",
       "    <tr>\n",
       "      <th>4</th>\n",
       "      <td>NaN</td>\n",
       "      <td>360800.0</td>\n",
       "      <td>4</td>\n",
       "    </tr>\n",
       "    <tr>\n",
       "      <th>5</th>\n",
       "      <td>NaN</td>\n",
       "      <td>182700.0</td>\n",
       "      <td>4</td>\n",
       "    </tr>\n",
       "    <tr>\n",
       "      <th>6</th>\n",
       "      <td>NaN</td>\n",
       "      <td>299000.0</td>\n",
       "      <td>4</td>\n",
       "    </tr>\n",
       "    <tr>\n",
       "      <th>7</th>\n",
       "      <td>NaN</td>\n",
       "      <td>305800.0</td>\n",
       "      <td>4</td>\n",
       "    </tr>\n",
       "    <tr>\n",
       "      <th>8</th>\n",
       "      <td>NaN</td>\n",
       "      <td>312000.0</td>\n",
       "      <td>4</td>\n",
       "    </tr>\n",
       "    <tr>\n",
       "      <th>9</th>\n",
       "      <td>NaN</td>\n",
       "      <td>254500.0</td>\n",
       "      <td>4</td>\n",
       "    </tr>\n",
       "    <tr>\n",
       "      <th>10</th>\n",
       "      <td>NaN</td>\n",
       "      <td>257700.0</td>\n",
       "      <td>4</td>\n",
       "    </tr>\n",
       "    <tr>\n",
       "      <th>11</th>\n",
       "      <td>NaN</td>\n",
       "      <td>270200.0</td>\n",
       "      <td>4</td>\n",
       "    </tr>\n",
       "    <tr>\n",
       "      <th>12</th>\n",
       "      <td>NaN</td>\n",
       "      <td>282600.0</td>\n",
       "      <td>4</td>\n",
       "    </tr>\n",
       "  </tbody>\n",
       "</table>\n",
       "</div>"
      ],
      "text/plain": [
       "                      idr       sca  month\n",
       "(2018, 1)    76635.489401       NaN      4\n",
       "(2018, 2)    84301.559623       NaN      4\n",
       "(2018, 3)    81537.484521       NaN      4\n",
       "(2018, 4)    83863.506372       NaN      4\n",
       "(2018, 5)    91823.546645       NaN      4\n",
       "(2018, 6)   100959.108808       NaN      4\n",
       "(2018, 7)   107277.525781       NaN      4\n",
       "(2018, 8)   109331.681567       NaN      4\n",
       "(2018, 9)    94913.539926       NaN      4\n",
       "(2018, 10)   94556.557392       NaN      4\n",
       "(2018, 11)  103758.564987       NaN      4\n",
       "(2018, 12)  100066.615344       NaN      4\n",
       "(2019, 2)    93082.320000       NaN      4\n",
       "(2019, 3)    20757.060000       NaN      4\n",
       "(2019, 4)   180383.670000       NaN      4\n",
       "(2019, 5)   205526.700000       NaN      4\n",
       "(2019, 6)   230067.540000       NaN      4\n",
       "(2019, 7)    79110.900000       NaN      4\n",
       "(4036, 24)    5976.503226       NaN      4\n",
       "(4038, 2)   207268.149233       NaN      4\n",
       "(4038, 4)    26849.287208       NaN      4\n",
       "1                     NaN  273200.0      4\n",
       "2                     NaN  277200.0      4\n",
       "3                     NaN  293000.0      4\n",
       "4                     NaN  360800.0      4\n",
       "5                     NaN  182700.0      4\n",
       "6                     NaN  299000.0      4\n",
       "7                     NaN  305800.0      4\n",
       "8                     NaN  312000.0      4\n",
       "9                     NaN  254500.0      4\n",
       "10                    NaN  257700.0      4\n",
       "11                    NaN  270200.0      4\n",
       "12                    NaN  282600.0      4"
      ]
     },
     "execution_count": 69,
     "metadata": {},
     "output_type": "execute_result"
    }
   ],
   "source": [
    "rec_mon"
   ]
  },
  {
   "cell_type": "code",
   "execution_count": 64,
   "metadata": {},
   "outputs": [
    {
     "ename": "TypeError",
     "evalue": "'<' not supported between instances of 'int' and 'tuple'",
     "output_type": "error",
     "traceback": [
      "\u001b[1;31m---------------------------------------------------------------------------\u001b[0m",
      "\u001b[1;31mTypeError\u001b[0m                                 Traceback (most recent call last)",
      "\u001b[1;32mc:\\users\\wb5888\\appdata\\local\\programs\\python\\python37-32\\lib\\site-packages\\pandas\\core\\algorithms.py\u001b[0m in \u001b[0;36mfactorize\u001b[1;34m(values, sort, order, na_sentinel, size_hint)\u001b[0m\n\u001b[0;32m    619\u001b[0m             \u001b[1;32mtry\u001b[0m\u001b[1;33m:\u001b[0m\u001b[1;33m\u001b[0m\u001b[1;33m\u001b[0m\u001b[0m\n\u001b[1;32m--> 620\u001b[1;33m                 \u001b[0morder\u001b[0m \u001b[1;33m=\u001b[0m \u001b[0muniques\u001b[0m\u001b[1;33m.\u001b[0m\u001b[0margsort\u001b[0m\u001b[1;33m(\u001b[0m\u001b[1;33m)\u001b[0m\u001b[1;33m\u001b[0m\u001b[1;33m\u001b[0m\u001b[0m\n\u001b[0m\u001b[0;32m    621\u001b[0m                 \u001b[0morder2\u001b[0m \u001b[1;33m=\u001b[0m \u001b[0morder\u001b[0m\u001b[1;33m.\u001b[0m\u001b[0margsort\u001b[0m\u001b[1;33m(\u001b[0m\u001b[1;33m)\u001b[0m\u001b[1;33m\u001b[0m\u001b[1;33m\u001b[0m\u001b[0m\n",
      "\u001b[1;31mTypeError\u001b[0m: '<' not supported between instances of 'int' and 'tuple'",
      "\nDuring handling of the above exception, another exception occurred:\n",
      "\u001b[1;31mTypeError\u001b[0m                                 Traceback (most recent call last)",
      "\u001b[1;32mc:\\users\\wb5888\\appdata\\local\\programs\\python\\python37-32\\lib\\site-packages\\pandas\\core\\groupby\\generic.py\u001b[0m in \u001b[0;36m_cython_agg_blocks\u001b[1;34m(self, how, alt, numeric_only, min_count)\u001b[0m\n\u001b[0;32m    113\u001b[0m                 result, _ = self.grouper.aggregate(\n\u001b[1;32m--> 114\u001b[1;33m                     block.values, how, axis=agg_axis, min_count=min_count)\n\u001b[0m\u001b[0;32m    115\u001b[0m             \u001b[1;32mexcept\u001b[0m \u001b[0mNotImplementedError\u001b[0m\u001b[1;33m:\u001b[0m\u001b[1;33m\u001b[0m\u001b[1;33m\u001b[0m\u001b[0m\n",
      "\u001b[1;32mc:\\users\\wb5888\\appdata\\local\\programs\\python\\python37-32\\lib\\site-packages\\pandas\\core\\groupby\\ops.py\u001b[0m in \u001b[0;36maggregate\u001b[1;34m(self, values, how, axis, min_count)\u001b[0m\n\u001b[0;32m    547\u001b[0m         return self._cython_operation('aggregate', values, how, axis,\n\u001b[1;32m--> 548\u001b[1;33m                                       min_count=min_count)\n\u001b[0m\u001b[0;32m    549\u001b[0m \u001b[1;33m\u001b[0m\u001b[0m\n",
      "\u001b[1;32mc:\\users\\wb5888\\appdata\\local\\programs\\python\\python37-32\\lib\\site-packages\\pandas\\core\\groupby\\ops.py\u001b[0m in \u001b[0;36m_cython_operation\u001b[1;34m(self, kind, values, how, axis, min_count, **kwargs)\u001b[0m\n\u001b[0;32m    452\u001b[0m                                           \"supported for the 'how' argument\")\n\u001b[1;32m--> 453\u001b[1;33m             \u001b[0mout_shape\u001b[0m \u001b[1;33m=\u001b[0m \u001b[1;33m(\u001b[0m\u001b[0mself\u001b[0m\u001b[1;33m.\u001b[0m\u001b[0mngroups\u001b[0m\u001b[1;33m,\u001b[0m\u001b[1;33m)\u001b[0m \u001b[1;33m+\u001b[0m \u001b[0mvalues\u001b[0m\u001b[1;33m.\u001b[0m\u001b[0mshape\u001b[0m\u001b[1;33m[\u001b[0m\u001b[1;36m1\u001b[0m\u001b[1;33m:\u001b[0m\u001b[1;33m]\u001b[0m\u001b[1;33m\u001b[0m\u001b[1;33m\u001b[0m\u001b[0m\n\u001b[0m\u001b[0;32m    454\u001b[0m \u001b[1;33m\u001b[0m\u001b[0m\n",
      "\u001b[1;32mpandas\\_libs\\properties.pyx\u001b[0m in \u001b[0;36mpandas._libs.properties.CachedProperty.__get__\u001b[1;34m()\u001b[0m\n",
      "\u001b[1;32mc:\\users\\wb5888\\appdata\\local\\programs\\python\\python37-32\\lib\\site-packages\\pandas\\core\\groupby\\ops.py\u001b[0m in \u001b[0;36mngroups\u001b[1;34m(self)\u001b[0m\n\u001b[0;32m    278\u001b[0m     \u001b[1;32mdef\u001b[0m \u001b[0mngroups\u001b[0m\u001b[1;33m(\u001b[0m\u001b[0mself\u001b[0m\u001b[1;33m)\u001b[0m\u001b[1;33m:\u001b[0m\u001b[1;33m\u001b[0m\u001b[1;33m\u001b[0m\u001b[0m\n\u001b[1;32m--> 279\u001b[1;33m         \u001b[1;32mreturn\u001b[0m \u001b[0mlen\u001b[0m\u001b[1;33m(\u001b[0m\u001b[0mself\u001b[0m\u001b[1;33m.\u001b[0m\u001b[0mresult_index\u001b[0m\u001b[1;33m)\u001b[0m\u001b[1;33m\u001b[0m\u001b[1;33m\u001b[0m\u001b[0m\n\u001b[0m\u001b[0;32m    280\u001b[0m \u001b[1;33m\u001b[0m\u001b[0m\n",
      "\u001b[1;32mpandas\\_libs\\properties.pyx\u001b[0m in \u001b[0;36mpandas._libs.properties.CachedProperty.__get__\u001b[1;34m()\u001b[0m\n",
      "\u001b[1;32mc:\\users\\wb5888\\appdata\\local\\programs\\python\\python37-32\\lib\\site-packages\\pandas\\core\\groupby\\ops.py\u001b[0m in \u001b[0;36mresult_index\u001b[1;34m(self)\u001b[0m\n\u001b[0;32m    290\u001b[0m         \u001b[1;32mif\u001b[0m \u001b[1;32mnot\u001b[0m \u001b[0mself\u001b[0m\u001b[1;33m.\u001b[0m\u001b[0mcompressed\u001b[0m \u001b[1;32mand\u001b[0m \u001b[0mlen\u001b[0m\u001b[1;33m(\u001b[0m\u001b[0mself\u001b[0m\u001b[1;33m.\u001b[0m\u001b[0mgroupings\u001b[0m\u001b[1;33m)\u001b[0m \u001b[1;33m==\u001b[0m \u001b[1;36m1\u001b[0m\u001b[1;33m:\u001b[0m\u001b[1;33m\u001b[0m\u001b[1;33m\u001b[0m\u001b[0m\n\u001b[1;32m--> 291\u001b[1;33m             \u001b[1;32mreturn\u001b[0m \u001b[0mself\u001b[0m\u001b[1;33m.\u001b[0m\u001b[0mgroupings\u001b[0m\u001b[1;33m[\u001b[0m\u001b[1;36m0\u001b[0m\u001b[1;33m]\u001b[0m\u001b[1;33m.\u001b[0m\u001b[0mresult_index\u001b[0m\u001b[1;33m.\u001b[0m\u001b[0mrename\u001b[0m\u001b[1;33m(\u001b[0m\u001b[0mself\u001b[0m\u001b[1;33m.\u001b[0m\u001b[0mnames\u001b[0m\u001b[1;33m[\u001b[0m\u001b[1;36m0\u001b[0m\u001b[1;33m]\u001b[0m\u001b[1;33m)\u001b[0m\u001b[1;33m\u001b[0m\u001b[1;33m\u001b[0m\u001b[0m\n\u001b[0m\u001b[0;32m    292\u001b[0m \u001b[1;33m\u001b[0m\u001b[0m\n",
      "\u001b[1;32mpandas\\_libs\\properties.pyx\u001b[0m in \u001b[0;36mpandas._libs.properties.CachedProperty.__get__\u001b[1;34m()\u001b[0m\n",
      "\u001b[1;32mc:\\users\\wb5888\\appdata\\local\\programs\\python\\python37-32\\lib\\site-packages\\pandas\\core\\groupby\\grouper.py\u001b[0m in \u001b[0;36mresult_index\u001b[1;34m(self)\u001b[0m\n\u001b[0;32m    375\u001b[0m                                        self.sort, self.group_index)\n\u001b[1;32m--> 376\u001b[1;33m         \u001b[1;32mreturn\u001b[0m \u001b[0mself\u001b[0m\u001b[1;33m.\u001b[0m\u001b[0mgroup_index\u001b[0m\u001b[1;33m\u001b[0m\u001b[1;33m\u001b[0m\u001b[0m\n\u001b[0m\u001b[0;32m    377\u001b[0m \u001b[1;33m\u001b[0m\u001b[0m\n",
      "\u001b[1;32mc:\\users\\wb5888\\appdata\\local\\programs\\python\\python37-32\\lib\\site-packages\\pandas\\core\\groupby\\grouper.py\u001b[0m in \u001b[0;36mgroup_index\u001b[1;34m(self)\u001b[0m\n\u001b[0;32m    380\u001b[0m         \u001b[1;32mif\u001b[0m \u001b[0mself\u001b[0m\u001b[1;33m.\u001b[0m\u001b[0m_group_index\u001b[0m \u001b[1;32mis\u001b[0m \u001b[1;32mNone\u001b[0m\u001b[1;33m:\u001b[0m\u001b[1;33m\u001b[0m\u001b[1;33m\u001b[0m\u001b[0m\n\u001b[1;32m--> 381\u001b[1;33m             \u001b[0mself\u001b[0m\u001b[1;33m.\u001b[0m\u001b[0m_make_labels\u001b[0m\u001b[1;33m(\u001b[0m\u001b[1;33m)\u001b[0m\u001b[1;33m\u001b[0m\u001b[1;33m\u001b[0m\u001b[0m\n\u001b[0m\u001b[0;32m    382\u001b[0m         \u001b[1;32mreturn\u001b[0m \u001b[0mself\u001b[0m\u001b[1;33m.\u001b[0m\u001b[0m_group_index\u001b[0m\u001b[1;33m\u001b[0m\u001b[1;33m\u001b[0m\u001b[0m\n",
      "\u001b[1;32mc:\\users\\wb5888\\appdata\\local\\programs\\python\\python37-32\\lib\\site-packages\\pandas\\core\\groupby\\grouper.py\u001b[0m in \u001b[0;36m_make_labels\u001b[1;34m(self)\u001b[0m\n\u001b[0;32m    391\u001b[0m                 labels, uniques = algorithms.factorize(\n\u001b[1;32m--> 392\u001b[1;33m                     self.grouper, sort=self.sort)\n\u001b[0m\u001b[0;32m    393\u001b[0m                 \u001b[0muniques\u001b[0m \u001b[1;33m=\u001b[0m \u001b[0mIndex\u001b[0m\u001b[1;33m(\u001b[0m\u001b[0muniques\u001b[0m\u001b[1;33m,\u001b[0m \u001b[0mname\u001b[0m\u001b[1;33m=\u001b[0m\u001b[0mself\u001b[0m\u001b[1;33m.\u001b[0m\u001b[0mname\u001b[0m\u001b[1;33m)\u001b[0m\u001b[1;33m\u001b[0m\u001b[1;33m\u001b[0m\u001b[0m\n",
      "\u001b[1;32mc:\\users\\wb5888\\appdata\\local\\programs\\python\\python37-32\\lib\\site-packages\\pandas\\util\\_decorators.py\u001b[0m in \u001b[0;36mwrapper\u001b[1;34m(*args, **kwargs)\u001b[0m\n\u001b[0;32m    187\u001b[0m                     \u001b[0mkwargs\u001b[0m\u001b[1;33m[\u001b[0m\u001b[0mnew_arg_name\u001b[0m\u001b[1;33m]\u001b[0m \u001b[1;33m=\u001b[0m \u001b[0mnew_arg_value\u001b[0m\u001b[1;33m\u001b[0m\u001b[1;33m\u001b[0m\u001b[0m\n\u001b[1;32m--> 188\u001b[1;33m             \u001b[1;32mreturn\u001b[0m \u001b[0mfunc\u001b[0m\u001b[1;33m(\u001b[0m\u001b[1;33m*\u001b[0m\u001b[0margs\u001b[0m\u001b[1;33m,\u001b[0m \u001b[1;33m**\u001b[0m\u001b[0mkwargs\u001b[0m\u001b[1;33m)\u001b[0m\u001b[1;33m\u001b[0m\u001b[1;33m\u001b[0m\u001b[0m\n\u001b[0m\u001b[0;32m    189\u001b[0m         \u001b[1;32mreturn\u001b[0m \u001b[0mwrapper\u001b[0m\u001b[1;33m\u001b[0m\u001b[1;33m\u001b[0m\u001b[0m\n",
      "\u001b[1;32mc:\\users\\wb5888\\appdata\\local\\programs\\python\\python37-32\\lib\\site-packages\\pandas\\core\\algorithms.py\u001b[0m in \u001b[0;36mfactorize\u001b[1;34m(values, sort, order, na_sentinel, size_hint)\u001b[0m\n\u001b[0;32m    627\u001b[0m                                             \u001b[0mna_sentinel\u001b[0m\u001b[1;33m=\u001b[0m\u001b[0mna_sentinel\u001b[0m\u001b[1;33m,\u001b[0m\u001b[1;33m\u001b[0m\u001b[1;33m\u001b[0m\u001b[0m\n\u001b[1;32m--> 628\u001b[1;33m                                             assume_unique=True)\n\u001b[0m\u001b[0;32m    629\u001b[0m         \u001b[1;32melse\u001b[0m\u001b[1;33m:\u001b[0m\u001b[1;33m\u001b[0m\u001b[1;33m\u001b[0m\u001b[0m\n",
      "\u001b[1;32mc:\\users\\wb5888\\appdata\\local\\programs\\python\\python37-32\\lib\\site-packages\\pandas\\core\\sorting.py\u001b[0m in \u001b[0;36msafe_sort\u001b[1;34m(values, labels, na_sentinel, assume_unique)\u001b[0m\n\u001b[0;32m    465\u001b[0m         \u001b[1;31m# unorderable in py3 if mixed str/int\u001b[0m\u001b[1;33m\u001b[0m\u001b[1;33m\u001b[0m\u001b[1;33m\u001b[0m\u001b[0m\n\u001b[1;32m--> 466\u001b[1;33m         \u001b[0mordered\u001b[0m \u001b[1;33m=\u001b[0m \u001b[0msort_mixed\u001b[0m\u001b[1;33m(\u001b[0m\u001b[0mvalues\u001b[0m\u001b[1;33m)\u001b[0m\u001b[1;33m\u001b[0m\u001b[1;33m\u001b[0m\u001b[0m\n\u001b[0m\u001b[0;32m    467\u001b[0m     \u001b[1;32melse\u001b[0m\u001b[1;33m:\u001b[0m\u001b[1;33m\u001b[0m\u001b[1;33m\u001b[0m\u001b[0m\n",
      "\u001b[1;32mc:\\users\\wb5888\\appdata\\local\\programs\\python\\python37-32\\lib\\site-packages\\pandas\\core\\sorting.py\u001b[0m in \u001b[0;36msort_mixed\u001b[1;34m(values)\u001b[0m\n\u001b[0;32m    458\u001b[0m                            dtype=bool)\n\u001b[1;32m--> 459\u001b[1;33m         \u001b[0mnums\u001b[0m \u001b[1;33m=\u001b[0m \u001b[0mnp\u001b[0m\u001b[1;33m.\u001b[0m\u001b[0msort\u001b[0m\u001b[1;33m(\u001b[0m\u001b[0mvalues\u001b[0m\u001b[1;33m[\u001b[0m\u001b[1;33m~\u001b[0m\u001b[0mstr_pos\u001b[0m\u001b[1;33m]\u001b[0m\u001b[1;33m)\u001b[0m\u001b[1;33m\u001b[0m\u001b[1;33m\u001b[0m\u001b[0m\n\u001b[0m\u001b[0;32m    460\u001b[0m         \u001b[0mstrs\u001b[0m \u001b[1;33m=\u001b[0m \u001b[0mnp\u001b[0m\u001b[1;33m.\u001b[0m\u001b[0msort\u001b[0m\u001b[1;33m(\u001b[0m\u001b[0mvalues\u001b[0m\u001b[1;33m[\u001b[0m\u001b[0mstr_pos\u001b[0m\u001b[1;33m]\u001b[0m\u001b[1;33m)\u001b[0m\u001b[1;33m\u001b[0m\u001b[1;33m\u001b[0m\u001b[0m\n",
      "\u001b[1;32mc:\\users\\wb5888\\appdata\\local\\programs\\python\\python37-32\\lib\\site-packages\\numpy\\core\\fromnumeric.py\u001b[0m in \u001b[0;36msort\u001b[1;34m(a, axis, kind, order)\u001b[0m\n\u001b[0;32m    933\u001b[0m         \u001b[0ma\u001b[0m \u001b[1;33m=\u001b[0m \u001b[0masanyarray\u001b[0m\u001b[1;33m(\u001b[0m\u001b[0ma\u001b[0m\u001b[1;33m)\u001b[0m\u001b[1;33m.\u001b[0m\u001b[0mcopy\u001b[0m\u001b[1;33m(\u001b[0m\u001b[0morder\u001b[0m\u001b[1;33m=\u001b[0m\u001b[1;34m\"K\"\u001b[0m\u001b[1;33m)\u001b[0m\u001b[1;33m\u001b[0m\u001b[1;33m\u001b[0m\u001b[0m\n\u001b[1;32m--> 934\u001b[1;33m     \u001b[0ma\u001b[0m\u001b[1;33m.\u001b[0m\u001b[0msort\u001b[0m\u001b[1;33m(\u001b[0m\u001b[0maxis\u001b[0m\u001b[1;33m=\u001b[0m\u001b[0maxis\u001b[0m\u001b[1;33m,\u001b[0m \u001b[0mkind\u001b[0m\u001b[1;33m=\u001b[0m\u001b[0mkind\u001b[0m\u001b[1;33m,\u001b[0m \u001b[0morder\u001b[0m\u001b[1;33m=\u001b[0m\u001b[0morder\u001b[0m\u001b[1;33m)\u001b[0m\u001b[1;33m\u001b[0m\u001b[1;33m\u001b[0m\u001b[0m\n\u001b[0m\u001b[0;32m    935\u001b[0m     \u001b[1;32mreturn\u001b[0m \u001b[0ma\u001b[0m\u001b[1;33m\u001b[0m\u001b[1;33m\u001b[0m\u001b[0m\n",
      "\u001b[1;31mTypeError\u001b[0m: '<' not supported between instances of 'int' and 'tuple'",
      "\nDuring handling of the above exception, another exception occurred:\n",
      "\u001b[1;31mUnboundLocalError\u001b[0m                         Traceback (most recent call last)",
      "\u001b[1;32mc:\\users\\wb5888\\appdata\\local\\programs\\python\\python37-32\\lib\\site-packages\\pandas\\core\\groupby\\groupby.py\u001b[0m in \u001b[0;36mf\u001b[1;34m(self, **kwargs)\u001b[0m\n\u001b[0;32m   1256\u001b[0m                     return self._cython_agg_general(\n\u001b[1;32m-> 1257\u001b[1;33m                         alias, alt=npfunc, **kwargs)\n\u001b[0m\u001b[0;32m   1258\u001b[0m                 \u001b[1;32mexcept\u001b[0m \u001b[0mAssertionError\u001b[0m \u001b[1;32mas\u001b[0m \u001b[0me\u001b[0m\u001b[1;33m:\u001b[0m\u001b[1;33m\u001b[0m\u001b[1;33m\u001b[0m\u001b[0m\n",
      "\u001b[1;32mc:\\users\\wb5888\\appdata\\local\\programs\\python\\python37-32\\lib\\site-packages\\pandas\\core\\groupby\\generic.py\u001b[0m in \u001b[0;36m_cython_agg_general\u001b[1;34m(self, how, alt, numeric_only, min_count)\u001b[0m\n\u001b[0;32m     69\u001b[0m         new_items, new_blocks = self._cython_agg_blocks(\n\u001b[1;32m---> 70\u001b[1;33m             how, alt=alt, numeric_only=numeric_only, min_count=min_count)\n\u001b[0m\u001b[0;32m     71\u001b[0m         \u001b[1;32mreturn\u001b[0m \u001b[0mself\u001b[0m\u001b[1;33m.\u001b[0m\u001b[0m_wrap_agged_blocks\u001b[0m\u001b[1;33m(\u001b[0m\u001b[0mnew_items\u001b[0m\u001b[1;33m,\u001b[0m \u001b[0mnew_blocks\u001b[0m\u001b[1;33m)\u001b[0m\u001b[1;33m\u001b[0m\u001b[1;33m\u001b[0m\u001b[0m\n",
      "\u001b[1;32mc:\\users\\wb5888\\appdata\\local\\programs\\python\\python37-32\\lib\\site-packages\\pandas\\core\\groupby\\generic.py\u001b[0m in \u001b[0;36m_cython_agg_blocks\u001b[1;34m(self, how, alt, numeric_only, min_count)\u001b[0m\n\u001b[0;32m    135\u001b[0m                 \u001b[1;31m# see if we can cast the block back to the original dtype\u001b[0m\u001b[1;33m\u001b[0m\u001b[1;33m\u001b[0m\u001b[1;33m\u001b[0m\u001b[0m\n\u001b[1;32m--> 136\u001b[1;33m                 \u001b[0mresult\u001b[0m \u001b[1;33m=\u001b[0m \u001b[0mblock\u001b[0m\u001b[1;33m.\u001b[0m\u001b[0m_try_coerce_and_cast_result\u001b[0m\u001b[1;33m(\u001b[0m\u001b[0mresult\u001b[0m\u001b[1;33m)\u001b[0m\u001b[1;33m\u001b[0m\u001b[1;33m\u001b[0m\u001b[0m\n\u001b[0m\u001b[0;32m    137\u001b[0m                 \u001b[0mnewb\u001b[0m \u001b[1;33m=\u001b[0m \u001b[0mblock\u001b[0m\u001b[1;33m.\u001b[0m\u001b[0mmake_block\u001b[0m\u001b[1;33m(\u001b[0m\u001b[0mresult\u001b[0m\u001b[1;33m)\u001b[0m\u001b[1;33m\u001b[0m\u001b[1;33m\u001b[0m\u001b[0m\n",
      "\u001b[1;31mUnboundLocalError\u001b[0m: local variable 'result' referenced before assignment",
      "\nDuring handling of the above exception, another exception occurred:\n",
      "\u001b[1;31mValueError\u001b[0m                                Traceback (most recent call last)",
      "\u001b[1;32mc:\\users\\wb5888\\appdata\\local\\programs\\python\\python37-32\\lib\\site-packages\\pandas\\core\\groupby\\generic.py\u001b[0m in \u001b[0;36maggregate\u001b[1;34m(self, arg, *args, **kwargs)\u001b[0m\n\u001b[0;32m    200\u001b[0m                     result = self._aggregate_multiple_funcs(\n\u001b[1;32m--> 201\u001b[1;33m                         [arg], _level=_level, _axis=self.axis)\n\u001b[0m\u001b[0;32m    202\u001b[0m                     result.columns = Index(\n",
      "\u001b[1;32mc:\\users\\wb5888\\appdata\\local\\programs\\python\\python37-32\\lib\\site-packages\\pandas\\core\\base.py\u001b[0m in \u001b[0;36m_aggregate_multiple_funcs\u001b[1;34m(self, arg, _level, _axis)\u001b[0m\n\u001b[0;32m    616\u001b[0m         \u001b[1;32mif\u001b[0m \u001b[1;32mnot\u001b[0m \u001b[0mlen\u001b[0m\u001b[1;33m(\u001b[0m\u001b[0mresults\u001b[0m\u001b[1;33m)\u001b[0m\u001b[1;33m:\u001b[0m\u001b[1;33m\u001b[0m\u001b[1;33m\u001b[0m\u001b[0m\n\u001b[1;32m--> 617\u001b[1;33m             \u001b[1;32mraise\u001b[0m \u001b[0mValueError\u001b[0m\u001b[1;33m(\u001b[0m\u001b[1;34m\"no results\"\u001b[0m\u001b[1;33m)\u001b[0m\u001b[1;33m\u001b[0m\u001b[1;33m\u001b[0m\u001b[0m\n\u001b[0m\u001b[0;32m    618\u001b[0m \u001b[1;33m\u001b[0m\u001b[0m\n",
      "\u001b[1;31mValueError\u001b[0m: no results",
      "\nDuring handling of the above exception, another exception occurred:\n",
      "\u001b[1;31mTypeError\u001b[0m                                 Traceback (most recent call last)",
      "\u001b[1;32mc:\\users\\wb5888\\appdata\\local\\programs\\python\\python37-32\\lib\\site-packages\\pandas\\core\\algorithms.py\u001b[0m in \u001b[0;36mfactorize\u001b[1;34m(values, sort, order, na_sentinel, size_hint)\u001b[0m\n\u001b[0;32m    619\u001b[0m             \u001b[1;32mtry\u001b[0m\u001b[1;33m:\u001b[0m\u001b[1;33m\u001b[0m\u001b[1;33m\u001b[0m\u001b[0m\n\u001b[1;32m--> 620\u001b[1;33m                 \u001b[0morder\u001b[0m \u001b[1;33m=\u001b[0m \u001b[0muniques\u001b[0m\u001b[1;33m.\u001b[0m\u001b[0margsort\u001b[0m\u001b[1;33m(\u001b[0m\u001b[1;33m)\u001b[0m\u001b[1;33m\u001b[0m\u001b[1;33m\u001b[0m\u001b[0m\n\u001b[0m\u001b[0;32m    621\u001b[0m                 \u001b[0morder2\u001b[0m \u001b[1;33m=\u001b[0m \u001b[0morder\u001b[0m\u001b[1;33m.\u001b[0m\u001b[0margsort\u001b[0m\u001b[1;33m(\u001b[0m\u001b[1;33m)\u001b[0m\u001b[1;33m\u001b[0m\u001b[1;33m\u001b[0m\u001b[0m\n",
      "\u001b[1;31mTypeError\u001b[0m: '<' not supported between instances of 'int' and 'tuple'",
      "\nDuring handling of the above exception, another exception occurred:\n",
      "\u001b[1;31mTypeError\u001b[0m                                 Traceback (most recent call last)",
      "\u001b[1;32mc:\\users\\wb5888\\appdata\\local\\programs\\python\\python37-32\\lib\\site-packages\\pandas\\core\\groupby\\generic.py\u001b[0m in \u001b[0;36m_aggregate_generic\u001b[1;34m(self, func, *args, **kwargs)\u001b[0m\n\u001b[0;32m    225\u001b[0m             \u001b[1;32mtry\u001b[0m\u001b[1;33m:\u001b[0m\u001b[1;33m\u001b[0m\u001b[1;33m\u001b[0m\u001b[0m\n\u001b[1;32m--> 226\u001b[1;33m                 \u001b[1;32mfor\u001b[0m \u001b[0mname\u001b[0m\u001b[1;33m,\u001b[0m \u001b[0mdata\u001b[0m \u001b[1;32min\u001b[0m \u001b[0mself\u001b[0m\u001b[1;33m:\u001b[0m\u001b[1;33m\u001b[0m\u001b[1;33m\u001b[0m\u001b[0m\n\u001b[0m\u001b[0;32m    227\u001b[0m                     result[name] = self._try_cast(func(data, *args, **kwargs),\n",
      "\u001b[1;32mc:\\users\\wb5888\\appdata\\local\\programs\\python\\python37-32\\lib\\site-packages\\pandas\\core\\groupby\\ops.py\u001b[0m in \u001b[0;36mget_iterator\u001b[1;34m(self, data, axis)\u001b[0m\n\u001b[0;32m    142\u001b[0m         \"\"\"\n\u001b[1;32m--> 143\u001b[1;33m         \u001b[0msplitter\u001b[0m \u001b[1;33m=\u001b[0m \u001b[0mself\u001b[0m\u001b[1;33m.\u001b[0m\u001b[0m_get_splitter\u001b[0m\u001b[1;33m(\u001b[0m\u001b[0mdata\u001b[0m\u001b[1;33m,\u001b[0m \u001b[0maxis\u001b[0m\u001b[1;33m=\u001b[0m\u001b[0maxis\u001b[0m\u001b[1;33m)\u001b[0m\u001b[1;33m\u001b[0m\u001b[1;33m\u001b[0m\u001b[0m\n\u001b[0m\u001b[0;32m    144\u001b[0m         \u001b[0mkeys\u001b[0m \u001b[1;33m=\u001b[0m \u001b[0mself\u001b[0m\u001b[1;33m.\u001b[0m\u001b[0m_get_group_keys\u001b[0m\u001b[1;33m(\u001b[0m\u001b[1;33m)\u001b[0m\u001b[1;33m\u001b[0m\u001b[1;33m\u001b[0m\u001b[0m\n",
      "\u001b[1;32mc:\\users\\wb5888\\appdata\\local\\programs\\python\\python37-32\\lib\\site-packages\\pandas\\core\\groupby\\ops.py\u001b[0m in \u001b[0;36m_get_splitter\u001b[1;34m(self, data, axis)\u001b[0m\n\u001b[0;32m    148\u001b[0m     \u001b[1;32mdef\u001b[0m \u001b[0m_get_splitter\u001b[0m\u001b[1;33m(\u001b[0m\u001b[0mself\u001b[0m\u001b[1;33m,\u001b[0m \u001b[0mdata\u001b[0m\u001b[1;33m,\u001b[0m \u001b[0maxis\u001b[0m\u001b[1;33m=\u001b[0m\u001b[1;36m0\u001b[0m\u001b[1;33m)\u001b[0m\u001b[1;33m:\u001b[0m\u001b[1;33m\u001b[0m\u001b[1;33m\u001b[0m\u001b[0m\n\u001b[1;32m--> 149\u001b[1;33m         \u001b[0mcomp_ids\u001b[0m\u001b[1;33m,\u001b[0m \u001b[0m_\u001b[0m\u001b[1;33m,\u001b[0m \u001b[0mngroups\u001b[0m \u001b[1;33m=\u001b[0m \u001b[0mself\u001b[0m\u001b[1;33m.\u001b[0m\u001b[0mgroup_info\u001b[0m\u001b[1;33m\u001b[0m\u001b[1;33m\u001b[0m\u001b[0m\n\u001b[0m\u001b[0;32m    150\u001b[0m         \u001b[1;32mreturn\u001b[0m \u001b[0mget_splitter\u001b[0m\u001b[1;33m(\u001b[0m\u001b[0mdata\u001b[0m\u001b[1;33m,\u001b[0m \u001b[0mcomp_ids\u001b[0m\u001b[1;33m,\u001b[0m \u001b[0mngroups\u001b[0m\u001b[1;33m,\u001b[0m \u001b[0maxis\u001b[0m\u001b[1;33m=\u001b[0m\u001b[0maxis\u001b[0m\u001b[1;33m)\u001b[0m\u001b[1;33m\u001b[0m\u001b[1;33m\u001b[0m\u001b[0m\n",
      "\u001b[1;32mpandas\\_libs\\properties.pyx\u001b[0m in \u001b[0;36mpandas._libs.properties.CachedProperty.__get__\u001b[1;34m()\u001b[0m\n",
      "\u001b[1;32mc:\\users\\wb5888\\appdata\\local\\programs\\python\\python37-32\\lib\\site-packages\\pandas\\core\\groupby\\ops.py\u001b[0m in \u001b[0;36mgroup_info\u001b[1;34m(self)\u001b[0m\n\u001b[0;32m    251\u001b[0m     \u001b[1;32mdef\u001b[0m \u001b[0mgroup_info\u001b[0m\u001b[1;33m(\u001b[0m\u001b[0mself\u001b[0m\u001b[1;33m)\u001b[0m\u001b[1;33m:\u001b[0m\u001b[1;33m\u001b[0m\u001b[1;33m\u001b[0m\u001b[0m\n\u001b[1;32m--> 252\u001b[1;33m         \u001b[0mcomp_ids\u001b[0m\u001b[1;33m,\u001b[0m \u001b[0mobs_group_ids\u001b[0m \u001b[1;33m=\u001b[0m \u001b[0mself\u001b[0m\u001b[1;33m.\u001b[0m\u001b[0m_get_compressed_labels\u001b[0m\u001b[1;33m(\u001b[0m\u001b[1;33m)\u001b[0m\u001b[1;33m\u001b[0m\u001b[1;33m\u001b[0m\u001b[0m\n\u001b[0m\u001b[0;32m    253\u001b[0m \u001b[1;33m\u001b[0m\u001b[0m\n",
      "\u001b[1;32mc:\\users\\wb5888\\appdata\\local\\programs\\python\\python37-32\\lib\\site-packages\\pandas\\core\\groupby\\ops.py\u001b[0m in \u001b[0;36m_get_compressed_labels\u001b[1;34m(self)\u001b[0m\n\u001b[0;32m    267\u001b[0m     \u001b[1;32mdef\u001b[0m \u001b[0m_get_compressed_labels\u001b[0m\u001b[1;33m(\u001b[0m\u001b[0mself\u001b[0m\u001b[1;33m)\u001b[0m\u001b[1;33m:\u001b[0m\u001b[1;33m\u001b[0m\u001b[1;33m\u001b[0m\u001b[0m\n\u001b[1;32m--> 268\u001b[1;33m         \u001b[0mall_labels\u001b[0m \u001b[1;33m=\u001b[0m \u001b[1;33m[\u001b[0m\u001b[0mping\u001b[0m\u001b[1;33m.\u001b[0m\u001b[0mlabels\u001b[0m \u001b[1;32mfor\u001b[0m \u001b[0mping\u001b[0m \u001b[1;32min\u001b[0m \u001b[0mself\u001b[0m\u001b[1;33m.\u001b[0m\u001b[0mgroupings\u001b[0m\u001b[1;33m]\u001b[0m\u001b[1;33m\u001b[0m\u001b[1;33m\u001b[0m\u001b[0m\n\u001b[0m\u001b[0;32m    269\u001b[0m         \u001b[1;32mif\u001b[0m \u001b[0mlen\u001b[0m\u001b[1;33m(\u001b[0m\u001b[0mall_labels\u001b[0m\u001b[1;33m)\u001b[0m \u001b[1;33m>\u001b[0m \u001b[1;36m1\u001b[0m\u001b[1;33m:\u001b[0m\u001b[1;33m\u001b[0m\u001b[1;33m\u001b[0m\u001b[0m\n",
      "\u001b[1;32mc:\\users\\wb5888\\appdata\\local\\programs\\python\\python37-32\\lib\\site-packages\\pandas\\core\\groupby\\ops.py\u001b[0m in \u001b[0;36m<listcomp>\u001b[1;34m(.0)\u001b[0m\n\u001b[0;32m    267\u001b[0m     \u001b[1;32mdef\u001b[0m \u001b[0m_get_compressed_labels\u001b[0m\u001b[1;33m(\u001b[0m\u001b[0mself\u001b[0m\u001b[1;33m)\u001b[0m\u001b[1;33m:\u001b[0m\u001b[1;33m\u001b[0m\u001b[1;33m\u001b[0m\u001b[0m\n\u001b[1;32m--> 268\u001b[1;33m         \u001b[0mall_labels\u001b[0m \u001b[1;33m=\u001b[0m \u001b[1;33m[\u001b[0m\u001b[0mping\u001b[0m\u001b[1;33m.\u001b[0m\u001b[0mlabels\u001b[0m \u001b[1;32mfor\u001b[0m \u001b[0mping\u001b[0m \u001b[1;32min\u001b[0m \u001b[0mself\u001b[0m\u001b[1;33m.\u001b[0m\u001b[0mgroupings\u001b[0m\u001b[1;33m]\u001b[0m\u001b[1;33m\u001b[0m\u001b[1;33m\u001b[0m\u001b[0m\n\u001b[0m\u001b[0;32m    269\u001b[0m         \u001b[1;32mif\u001b[0m \u001b[0mlen\u001b[0m\u001b[1;33m(\u001b[0m\u001b[0mall_labels\u001b[0m\u001b[1;33m)\u001b[0m \u001b[1;33m>\u001b[0m \u001b[1;36m1\u001b[0m\u001b[1;33m:\u001b[0m\u001b[1;33m\u001b[0m\u001b[1;33m\u001b[0m\u001b[0m\n",
      "\u001b[1;32mc:\\users\\wb5888\\appdata\\local\\programs\\python\\python37-32\\lib\\site-packages\\pandas\\core\\groupby\\grouper.py\u001b[0m in \u001b[0;36mlabels\u001b[1;34m(self)\u001b[0m\n\u001b[0;32m    366\u001b[0m         \u001b[1;32mif\u001b[0m \u001b[0mself\u001b[0m\u001b[1;33m.\u001b[0m\u001b[0m_labels\u001b[0m \u001b[1;32mis\u001b[0m \u001b[1;32mNone\u001b[0m\u001b[1;33m:\u001b[0m\u001b[1;33m\u001b[0m\u001b[1;33m\u001b[0m\u001b[0m\n\u001b[1;32m--> 367\u001b[1;33m             \u001b[0mself\u001b[0m\u001b[1;33m.\u001b[0m\u001b[0m_make_labels\u001b[0m\u001b[1;33m(\u001b[0m\u001b[1;33m)\u001b[0m\u001b[1;33m\u001b[0m\u001b[1;33m\u001b[0m\u001b[0m\n\u001b[0m\u001b[0;32m    368\u001b[0m         \u001b[1;32mreturn\u001b[0m \u001b[0mself\u001b[0m\u001b[1;33m.\u001b[0m\u001b[0m_labels\u001b[0m\u001b[1;33m\u001b[0m\u001b[1;33m\u001b[0m\u001b[0m\n",
      "\u001b[1;32mc:\\users\\wb5888\\appdata\\local\\programs\\python\\python37-32\\lib\\site-packages\\pandas\\core\\groupby\\grouper.py\u001b[0m in \u001b[0;36m_make_labels\u001b[1;34m(self)\u001b[0m\n\u001b[0;32m    391\u001b[0m                 labels, uniques = algorithms.factorize(\n\u001b[1;32m--> 392\u001b[1;33m                     self.grouper, sort=self.sort)\n\u001b[0m\u001b[0;32m    393\u001b[0m                 \u001b[0muniques\u001b[0m \u001b[1;33m=\u001b[0m \u001b[0mIndex\u001b[0m\u001b[1;33m(\u001b[0m\u001b[0muniques\u001b[0m\u001b[1;33m,\u001b[0m \u001b[0mname\u001b[0m\u001b[1;33m=\u001b[0m\u001b[0mself\u001b[0m\u001b[1;33m.\u001b[0m\u001b[0mname\u001b[0m\u001b[1;33m)\u001b[0m\u001b[1;33m\u001b[0m\u001b[1;33m\u001b[0m\u001b[0m\n",
      "\u001b[1;32mc:\\users\\wb5888\\appdata\\local\\programs\\python\\python37-32\\lib\\site-packages\\pandas\\util\\_decorators.py\u001b[0m in \u001b[0;36mwrapper\u001b[1;34m(*args, **kwargs)\u001b[0m\n\u001b[0;32m    187\u001b[0m                     \u001b[0mkwargs\u001b[0m\u001b[1;33m[\u001b[0m\u001b[0mnew_arg_name\u001b[0m\u001b[1;33m]\u001b[0m \u001b[1;33m=\u001b[0m \u001b[0mnew_arg_value\u001b[0m\u001b[1;33m\u001b[0m\u001b[1;33m\u001b[0m\u001b[0m\n\u001b[1;32m--> 188\u001b[1;33m             \u001b[1;32mreturn\u001b[0m \u001b[0mfunc\u001b[0m\u001b[1;33m(\u001b[0m\u001b[1;33m*\u001b[0m\u001b[0margs\u001b[0m\u001b[1;33m,\u001b[0m \u001b[1;33m**\u001b[0m\u001b[0mkwargs\u001b[0m\u001b[1;33m)\u001b[0m\u001b[1;33m\u001b[0m\u001b[1;33m\u001b[0m\u001b[0m\n\u001b[0m\u001b[0;32m    189\u001b[0m         \u001b[1;32mreturn\u001b[0m \u001b[0mwrapper\u001b[0m\u001b[1;33m\u001b[0m\u001b[1;33m\u001b[0m\u001b[0m\n",
      "\u001b[1;32mc:\\users\\wb5888\\appdata\\local\\programs\\python\\python37-32\\lib\\site-packages\\pandas\\core\\algorithms.py\u001b[0m in \u001b[0;36mfactorize\u001b[1;34m(values, sort, order, na_sentinel, size_hint)\u001b[0m\n\u001b[0;32m    627\u001b[0m                                             \u001b[0mna_sentinel\u001b[0m\u001b[1;33m=\u001b[0m\u001b[0mna_sentinel\u001b[0m\u001b[1;33m,\u001b[0m\u001b[1;33m\u001b[0m\u001b[1;33m\u001b[0m\u001b[0m\n\u001b[1;32m--> 628\u001b[1;33m                                             assume_unique=True)\n\u001b[0m\u001b[0;32m    629\u001b[0m         \u001b[1;32melse\u001b[0m\u001b[1;33m:\u001b[0m\u001b[1;33m\u001b[0m\u001b[1;33m\u001b[0m\u001b[0m\n",
      "\u001b[1;32mc:\\users\\wb5888\\appdata\\local\\programs\\python\\python37-32\\lib\\site-packages\\pandas\\core\\sorting.py\u001b[0m in \u001b[0;36msafe_sort\u001b[1;34m(values, labels, na_sentinel, assume_unique)\u001b[0m\n\u001b[0;32m    465\u001b[0m         \u001b[1;31m# unorderable in py3 if mixed str/int\u001b[0m\u001b[1;33m\u001b[0m\u001b[1;33m\u001b[0m\u001b[1;33m\u001b[0m\u001b[0m\n\u001b[1;32m--> 466\u001b[1;33m         \u001b[0mordered\u001b[0m \u001b[1;33m=\u001b[0m \u001b[0msort_mixed\u001b[0m\u001b[1;33m(\u001b[0m\u001b[0mvalues\u001b[0m\u001b[1;33m)\u001b[0m\u001b[1;33m\u001b[0m\u001b[1;33m\u001b[0m\u001b[0m\n\u001b[0m\u001b[0;32m    467\u001b[0m     \u001b[1;32melse\u001b[0m\u001b[1;33m:\u001b[0m\u001b[1;33m\u001b[0m\u001b[1;33m\u001b[0m\u001b[0m\n",
      "\u001b[1;32mc:\\users\\wb5888\\appdata\\local\\programs\\python\\python37-32\\lib\\site-packages\\pandas\\core\\sorting.py\u001b[0m in \u001b[0;36msort_mixed\u001b[1;34m(values)\u001b[0m\n\u001b[0;32m    458\u001b[0m                            dtype=bool)\n\u001b[1;32m--> 459\u001b[1;33m         \u001b[0mnums\u001b[0m \u001b[1;33m=\u001b[0m \u001b[0mnp\u001b[0m\u001b[1;33m.\u001b[0m\u001b[0msort\u001b[0m\u001b[1;33m(\u001b[0m\u001b[0mvalues\u001b[0m\u001b[1;33m[\u001b[0m\u001b[1;33m~\u001b[0m\u001b[0mstr_pos\u001b[0m\u001b[1;33m]\u001b[0m\u001b[1;33m)\u001b[0m\u001b[1;33m\u001b[0m\u001b[1;33m\u001b[0m\u001b[0m\n\u001b[0m\u001b[0;32m    460\u001b[0m         \u001b[0mstrs\u001b[0m \u001b[1;33m=\u001b[0m \u001b[0mnp\u001b[0m\u001b[1;33m.\u001b[0m\u001b[0msort\u001b[0m\u001b[1;33m(\u001b[0m\u001b[0mvalues\u001b[0m\u001b[1;33m[\u001b[0m\u001b[0mstr_pos\u001b[0m\u001b[1;33m]\u001b[0m\u001b[1;33m)\u001b[0m\u001b[1;33m\u001b[0m\u001b[1;33m\u001b[0m\u001b[0m\n",
      "\u001b[1;32mc:\\users\\wb5888\\appdata\\local\\programs\\python\\python37-32\\lib\\site-packages\\numpy\\core\\fromnumeric.py\u001b[0m in \u001b[0;36msort\u001b[1;34m(a, axis, kind, order)\u001b[0m\n\u001b[0;32m    933\u001b[0m         \u001b[0ma\u001b[0m \u001b[1;33m=\u001b[0m \u001b[0masanyarray\u001b[0m\u001b[1;33m(\u001b[0m\u001b[0ma\u001b[0m\u001b[1;33m)\u001b[0m\u001b[1;33m.\u001b[0m\u001b[0mcopy\u001b[0m\u001b[1;33m(\u001b[0m\u001b[0morder\u001b[0m\u001b[1;33m=\u001b[0m\u001b[1;34m\"K\"\u001b[0m\u001b[1;33m)\u001b[0m\u001b[1;33m\u001b[0m\u001b[1;33m\u001b[0m\u001b[0m\n\u001b[1;32m--> 934\u001b[1;33m     \u001b[0ma\u001b[0m\u001b[1;33m.\u001b[0m\u001b[0msort\u001b[0m\u001b[1;33m(\u001b[0m\u001b[0maxis\u001b[0m\u001b[1;33m=\u001b[0m\u001b[0maxis\u001b[0m\u001b[1;33m,\u001b[0m \u001b[0mkind\u001b[0m\u001b[1;33m=\u001b[0m\u001b[0mkind\u001b[0m\u001b[1;33m,\u001b[0m \u001b[0morder\u001b[0m\u001b[1;33m=\u001b[0m\u001b[0morder\u001b[0m\u001b[1;33m)\u001b[0m\u001b[1;33m\u001b[0m\u001b[1;33m\u001b[0m\u001b[0m\n\u001b[0m\u001b[0;32m    935\u001b[0m     \u001b[1;32mreturn\u001b[0m \u001b[0ma\u001b[0m\u001b[1;33m\u001b[0m\u001b[1;33m\u001b[0m\u001b[0m\n",
      "\u001b[1;31mTypeError\u001b[0m: '<' not supported between instances of 'int' and 'tuple'",
      "\nDuring handling of the above exception, another exception occurred:\n",
      "\u001b[1;31mTypeError\u001b[0m                                 Traceback (most recent call last)",
      "\u001b[1;32m<ipython-input-64-cc741cad7660>\u001b[0m in \u001b[0;36m<module>\u001b[1;34m\u001b[0m\n\u001b[1;32m----> 1\u001b[1;33m \u001b[0mmonthly\u001b[0m \u001b[1;33m=\u001b[0m \u001b[0mrec_mon\u001b[0m\u001b[1;33m.\u001b[0m\u001b[0mgroupby\u001b[0m\u001b[1;33m(\u001b[0m\u001b[1;33m[\u001b[0m\u001b[1;34m'month'\u001b[0m\u001b[1;33m]\u001b[0m\u001b[1;33m)\u001b[0m\u001b[1;33m.\u001b[0m\u001b[0msum\u001b[0m\u001b[1;33m(\u001b[0m\u001b[1;33m)\u001b[0m\u001b[1;33m\u001b[0m\u001b[1;33m\u001b[0m\u001b[0m\n\u001b[0m\u001b[0;32m      2\u001b[0m \u001b[0mmonthly\u001b[0m\u001b[1;33m[\u001b[0m\u001b[1;34m'ratio'\u001b[0m\u001b[1;33m]\u001b[0m \u001b[1;33m=\u001b[0m \u001b[1;33m[\u001b[0m\u001b[0mb\u001b[0m\u001b[1;33m/\u001b[0m\u001b[0ma\u001b[0m \u001b[1;32mfor\u001b[0m \u001b[0ma\u001b[0m\u001b[1;33m,\u001b[0m \u001b[0mb\u001b[0m \u001b[1;32min\u001b[0m \u001b[0mzip\u001b[0m\u001b[1;33m(\u001b[0m\u001b[0mmonthly\u001b[0m\u001b[1;33m[\u001b[0m\u001b[1;34m'idr'\u001b[0m\u001b[1;33m]\u001b[0m\u001b[1;33m,\u001b[0m \u001b[0mmonthly\u001b[0m\u001b[1;33m[\u001b[0m\u001b[1;34m'sca'\u001b[0m\u001b[1;33m]\u001b[0m\u001b[1;33m)\u001b[0m\u001b[1;33m]\u001b[0m\u001b[1;33m\u001b[0m\u001b[1;33m\u001b[0m\u001b[0m\n\u001b[0;32m      3\u001b[0m \u001b[1;33m\u001b[0m\u001b[0m\n\u001b[0;32m      4\u001b[0m \u001b[0mratio\u001b[0m \u001b[1;33m=\u001b[0m \u001b[0mpd\u001b[0m\u001b[1;33m.\u001b[0m\u001b[0mDataFrame\u001b[0m\u001b[1;33m(\u001b[0m\u001b[0mmonthly\u001b[0m\u001b[1;33m[\u001b[0m\u001b[1;33m[\u001b[0m\u001b[1;34m'ratio'\u001b[0m\u001b[1;33m]\u001b[0m\u001b[1;33m]\u001b[0m\u001b[1;33m)\u001b[0m\u001b[1;33m\u001b[0m\u001b[1;33m\u001b[0m\u001b[0m\n\u001b[0;32m      5\u001b[0m \u001b[0mmu_ratio\u001b[0m \u001b[1;33m=\u001b[0m \u001b[0mnp\u001b[0m\u001b[1;33m.\u001b[0m\u001b[0mmean\u001b[0m\u001b[1;33m(\u001b[0m\u001b[0mratio\u001b[0m\u001b[1;33m.\u001b[0m\u001b[0mratio\u001b[0m\u001b[1;33m[\u001b[0m\u001b[0mratio\u001b[0m\u001b[1;33m.\u001b[0m\u001b[0mratio\u001b[0m \u001b[1;33m>\u001b[0m \u001b[1;36m1\u001b[0m\u001b[1;33m]\u001b[0m\u001b[1;33m)\u001b[0m\u001b[1;33m\u001b[0m\u001b[1;33m\u001b[0m\u001b[0m\n",
      "\u001b[1;32mc:\\users\\wb5888\\appdata\\local\\programs\\python\\python37-32\\lib\\site-packages\\pandas\\core\\groupby\\groupby.py\u001b[0m in \u001b[0;36mf\u001b[1;34m(self, **kwargs)\u001b[0m\n\u001b[0;32m   1260\u001b[0m                 \u001b[1;32mexcept\u001b[0m \u001b[0mException\u001b[0m\u001b[1;33m:\u001b[0m\u001b[1;33m\u001b[0m\u001b[1;33m\u001b[0m\u001b[0m\n\u001b[0;32m   1261\u001b[0m                     result = self.aggregate(\n\u001b[1;32m-> 1262\u001b[1;33m                         lambda x: npfunc(x, axis=self.axis))\n\u001b[0m\u001b[0;32m   1263\u001b[0m                     \u001b[1;32mif\u001b[0m \u001b[0m_convert\u001b[0m\u001b[1;33m:\u001b[0m\u001b[1;33m\u001b[0m\u001b[1;33m\u001b[0m\u001b[0m\n\u001b[0;32m   1264\u001b[0m                         \u001b[0mresult\u001b[0m \u001b[1;33m=\u001b[0m \u001b[0mresult\u001b[0m\u001b[1;33m.\u001b[0m\u001b[0m_convert\u001b[0m\u001b[1;33m(\u001b[0m\u001b[0mdatetime\u001b[0m\u001b[1;33m=\u001b[0m\u001b[1;32mTrue\u001b[0m\u001b[1;33m)\u001b[0m\u001b[1;33m\u001b[0m\u001b[1;33m\u001b[0m\u001b[0m\n",
      "\u001b[1;32mc:\\users\\wb5888\\appdata\\local\\programs\\python\\python37-32\\lib\\site-packages\\pandas\\core\\groupby\\generic.py\u001b[0m in \u001b[0;36maggregate\u001b[1;34m(self, arg, *args, **kwargs)\u001b[0m\n\u001b[0;32m   1313\u001b[0m     \u001b[1;33m@\u001b[0m\u001b[0mAppender\u001b[0m\u001b[1;33m(\u001b[0m\u001b[0m_shared_docs\u001b[0m\u001b[1;33m[\u001b[0m\u001b[1;34m'aggregate'\u001b[0m\u001b[1;33m]\u001b[0m\u001b[1;33m)\u001b[0m\u001b[1;33m\u001b[0m\u001b[1;33m\u001b[0m\u001b[0m\n\u001b[0;32m   1314\u001b[0m     \u001b[1;32mdef\u001b[0m \u001b[0maggregate\u001b[0m\u001b[1;33m(\u001b[0m\u001b[0mself\u001b[0m\u001b[1;33m,\u001b[0m \u001b[0marg\u001b[0m\u001b[1;33m,\u001b[0m \u001b[1;33m*\u001b[0m\u001b[0margs\u001b[0m\u001b[1;33m,\u001b[0m \u001b[1;33m**\u001b[0m\u001b[0mkwargs\u001b[0m\u001b[1;33m)\u001b[0m\u001b[1;33m:\u001b[0m\u001b[1;33m\u001b[0m\u001b[1;33m\u001b[0m\u001b[0m\n\u001b[1;32m-> 1315\u001b[1;33m         \u001b[1;32mreturn\u001b[0m \u001b[0msuper\u001b[0m\u001b[1;33m(\u001b[0m\u001b[0mDataFrameGroupBy\u001b[0m\u001b[1;33m,\u001b[0m \u001b[0mself\u001b[0m\u001b[1;33m)\u001b[0m\u001b[1;33m.\u001b[0m\u001b[0maggregate\u001b[0m\u001b[1;33m(\u001b[0m\u001b[0marg\u001b[0m\u001b[1;33m,\u001b[0m \u001b[1;33m*\u001b[0m\u001b[0margs\u001b[0m\u001b[1;33m,\u001b[0m \u001b[1;33m**\u001b[0m\u001b[0mkwargs\u001b[0m\u001b[1;33m)\u001b[0m\u001b[1;33m\u001b[0m\u001b[1;33m\u001b[0m\u001b[0m\n\u001b[0m\u001b[0;32m   1316\u001b[0m \u001b[1;33m\u001b[0m\u001b[0m\n\u001b[0;32m   1317\u001b[0m     \u001b[0magg\u001b[0m \u001b[1;33m=\u001b[0m \u001b[0maggregate\u001b[0m\u001b[1;33m\u001b[0m\u001b[1;33m\u001b[0m\u001b[0m\n",
      "\u001b[1;32mc:\\users\\wb5888\\appdata\\local\\programs\\python\\python37-32\\lib\\site-packages\\pandas\\core\\groupby\\generic.py\u001b[0m in \u001b[0;36maggregate\u001b[1;34m(self, arg, *args, **kwargs)\u001b[0m\n\u001b[0;32m    204\u001b[0m                         name=self._selected_obj.columns.name)\n\u001b[0;32m    205\u001b[0m                 \u001b[1;32mexcept\u001b[0m \u001b[0mException\u001b[0m\u001b[1;33m:\u001b[0m\u001b[1;33m\u001b[0m\u001b[1;33m\u001b[0m\u001b[0m\n\u001b[1;32m--> 206\u001b[1;33m                     \u001b[0mresult\u001b[0m \u001b[1;33m=\u001b[0m \u001b[0mself\u001b[0m\u001b[1;33m.\u001b[0m\u001b[0m_aggregate_generic\u001b[0m\u001b[1;33m(\u001b[0m\u001b[0marg\u001b[0m\u001b[1;33m,\u001b[0m \u001b[1;33m*\u001b[0m\u001b[0margs\u001b[0m\u001b[1;33m,\u001b[0m \u001b[1;33m**\u001b[0m\u001b[0mkwargs\u001b[0m\u001b[1;33m)\u001b[0m\u001b[1;33m\u001b[0m\u001b[1;33m\u001b[0m\u001b[0m\n\u001b[0m\u001b[0;32m    207\u001b[0m \u001b[1;33m\u001b[0m\u001b[0m\n\u001b[0;32m    208\u001b[0m         \u001b[1;32mif\u001b[0m \u001b[1;32mnot\u001b[0m \u001b[0mself\u001b[0m\u001b[1;33m.\u001b[0m\u001b[0mas_index\u001b[0m\u001b[1;33m:\u001b[0m\u001b[1;33m\u001b[0m\u001b[1;33m\u001b[0m\u001b[0m\n",
      "\u001b[1;32mc:\\users\\wb5888\\appdata\\local\\programs\\python\\python37-32\\lib\\site-packages\\pandas\\core\\groupby\\generic.py\u001b[0m in \u001b[0;36m_aggregate_generic\u001b[1;34m(self, func, *args, **kwargs)\u001b[0m\n\u001b[0;32m    228\u001b[0m                                                   data)\n\u001b[0;32m    229\u001b[0m             \u001b[1;32mexcept\u001b[0m \u001b[0mException\u001b[0m\u001b[1;33m:\u001b[0m\u001b[1;33m\u001b[0m\u001b[1;33m\u001b[0m\u001b[0m\n\u001b[1;32m--> 230\u001b[1;33m                 \u001b[1;32mreturn\u001b[0m \u001b[0mself\u001b[0m\u001b[1;33m.\u001b[0m\u001b[0m_aggregate_item_by_item\u001b[0m\u001b[1;33m(\u001b[0m\u001b[0mfunc\u001b[0m\u001b[1;33m,\u001b[0m \u001b[1;33m*\u001b[0m\u001b[0margs\u001b[0m\u001b[1;33m,\u001b[0m \u001b[1;33m**\u001b[0m\u001b[0mkwargs\u001b[0m\u001b[1;33m)\u001b[0m\u001b[1;33m\u001b[0m\u001b[1;33m\u001b[0m\u001b[0m\n\u001b[0m\u001b[0;32m    231\u001b[0m         \u001b[1;32melse\u001b[0m\u001b[1;33m:\u001b[0m\u001b[1;33m\u001b[0m\u001b[1;33m\u001b[0m\u001b[0m\n\u001b[0;32m    232\u001b[0m             \u001b[1;32mfor\u001b[0m \u001b[0mname\u001b[0m \u001b[1;32min\u001b[0m \u001b[0mself\u001b[0m\u001b[1;33m.\u001b[0m\u001b[0mindices\u001b[0m\u001b[1;33m:\u001b[0m\u001b[1;33m\u001b[0m\u001b[1;33m\u001b[0m\u001b[0m\n",
      "\u001b[1;32mc:\\users\\wb5888\\appdata\\local\\programs\\python\\python37-32\\lib\\site-packages\\pandas\\core\\groupby\\generic.py\u001b[0m in \u001b[0;36m_aggregate_item_by_item\u001b[1;34m(self, func, *args, **kwargs)\u001b[0m\n\u001b[0;32m    272\u001b[0m             \u001b[1;31m# GH6337\u001b[0m\u001b[1;33m\u001b[0m\u001b[1;33m\u001b[0m\u001b[1;33m\u001b[0m\u001b[0m\n\u001b[0;32m    273\u001b[0m             \u001b[1;32mif\u001b[0m \u001b[1;32mnot\u001b[0m \u001b[0mlen\u001b[0m\u001b[1;33m(\u001b[0m\u001b[0mresult_columns\u001b[0m\u001b[1;33m)\u001b[0m \u001b[1;32mand\u001b[0m \u001b[0merrors\u001b[0m \u001b[1;32mis\u001b[0m \u001b[1;32mnot\u001b[0m \u001b[1;32mNone\u001b[0m\u001b[1;33m:\u001b[0m\u001b[1;33m\u001b[0m\u001b[1;33m\u001b[0m\u001b[0m\n\u001b[1;32m--> 274\u001b[1;33m                 \u001b[1;32mraise\u001b[0m \u001b[0merrors\u001b[0m\u001b[1;33m\u001b[0m\u001b[1;33m\u001b[0m\u001b[0m\n\u001b[0m\u001b[0;32m    275\u001b[0m \u001b[1;33m\u001b[0m\u001b[0m\n\u001b[0;32m    276\u001b[0m         \u001b[1;32mreturn\u001b[0m \u001b[0mDataFrame\u001b[0m\u001b[1;33m(\u001b[0m\u001b[0mresult\u001b[0m\u001b[1;33m,\u001b[0m \u001b[0mcolumns\u001b[0m\u001b[1;33m=\u001b[0m\u001b[0mresult_columns\u001b[0m\u001b[1;33m)\u001b[0m\u001b[1;33m\u001b[0m\u001b[1;33m\u001b[0m\u001b[0m\n",
      "\u001b[1;32mc:\\users\\wb5888\\appdata\\local\\programs\\python\\python37-32\\lib\\site-packages\\pandas\\core\\groupby\\generic.py\u001b[0m in \u001b[0;36m_aggregate_item_by_item\u001b[1;34m(self, func, *args, **kwargs)\u001b[0m\n\u001b[0;32m    257\u001b[0m                                      grouper=self.grouper)\n\u001b[0;32m    258\u001b[0m                 result[item] = self._try_cast(\n\u001b[1;32m--> 259\u001b[1;33m                     colg.aggregate(func, *args, **kwargs), data)\n\u001b[0m\u001b[0;32m    260\u001b[0m             \u001b[1;32mexcept\u001b[0m \u001b[0mValueError\u001b[0m\u001b[1;33m:\u001b[0m\u001b[1;33m\u001b[0m\u001b[1;33m\u001b[0m\u001b[0m\n\u001b[0;32m    261\u001b[0m                 \u001b[0mcannot_agg\u001b[0m\u001b[1;33m.\u001b[0m\u001b[0mappend\u001b[0m\u001b[1;33m(\u001b[0m\u001b[0mitem\u001b[0m\u001b[1;33m)\u001b[0m\u001b[1;33m\u001b[0m\u001b[1;33m\u001b[0m\u001b[0m\n",
      "\u001b[1;32mc:\\users\\wb5888\\appdata\\local\\programs\\python\\python37-32\\lib\\site-packages\\pandas\\core\\groupby\\generic.py\u001b[0m in \u001b[0;36maggregate\u001b[1;34m(self, func_or_funcs, *args, **kwargs)\u001b[0m\n\u001b[0;32m    776\u001b[0m                 \u001b[1;32mreturn\u001b[0m \u001b[0mself\u001b[0m\u001b[1;33m.\u001b[0m\u001b[0m_python_agg_general\u001b[0m\u001b[1;33m(\u001b[0m\u001b[0mfunc_or_funcs\u001b[0m\u001b[1;33m,\u001b[0m \u001b[1;33m*\u001b[0m\u001b[0margs\u001b[0m\u001b[1;33m,\u001b[0m \u001b[1;33m**\u001b[0m\u001b[0mkwargs\u001b[0m\u001b[1;33m)\u001b[0m\u001b[1;33m\u001b[0m\u001b[1;33m\u001b[0m\u001b[0m\n\u001b[0;32m    777\u001b[0m             \u001b[1;32mexcept\u001b[0m \u001b[0mException\u001b[0m\u001b[1;33m:\u001b[0m\u001b[1;33m\u001b[0m\u001b[1;33m\u001b[0m\u001b[0m\n\u001b[1;32m--> 778\u001b[1;33m                 \u001b[0mresult\u001b[0m \u001b[1;33m=\u001b[0m \u001b[0mself\u001b[0m\u001b[1;33m.\u001b[0m\u001b[0m_aggregate_named\u001b[0m\u001b[1;33m(\u001b[0m\u001b[0mfunc_or_funcs\u001b[0m\u001b[1;33m,\u001b[0m \u001b[1;33m*\u001b[0m\u001b[0margs\u001b[0m\u001b[1;33m,\u001b[0m \u001b[1;33m**\u001b[0m\u001b[0mkwargs\u001b[0m\u001b[1;33m)\u001b[0m\u001b[1;33m\u001b[0m\u001b[1;33m\u001b[0m\u001b[0m\n\u001b[0m\u001b[0;32m    779\u001b[0m \u001b[1;33m\u001b[0m\u001b[0m\n\u001b[0;32m    780\u001b[0m             \u001b[0mindex\u001b[0m \u001b[1;33m=\u001b[0m \u001b[0mIndex\u001b[0m\u001b[1;33m(\u001b[0m\u001b[0msorted\u001b[0m\u001b[1;33m(\u001b[0m\u001b[0mresult\u001b[0m\u001b[1;33m)\u001b[0m\u001b[1;33m,\u001b[0m \u001b[0mname\u001b[0m\u001b[1;33m=\u001b[0m\u001b[0mself\u001b[0m\u001b[1;33m.\u001b[0m\u001b[0mgrouper\u001b[0m\u001b[1;33m.\u001b[0m\u001b[0mnames\u001b[0m\u001b[1;33m[\u001b[0m\u001b[1;36m0\u001b[0m\u001b[1;33m]\u001b[0m\u001b[1;33m)\u001b[0m\u001b[1;33m\u001b[0m\u001b[1;33m\u001b[0m\u001b[0m\n",
      "\u001b[1;32mc:\\users\\wb5888\\appdata\\local\\programs\\python\\python37-32\\lib\\site-packages\\pandas\\core\\groupby\\generic.py\u001b[0m in \u001b[0;36m_aggregate_named\u001b[1;34m(self, func, *args, **kwargs)\u001b[0m\n\u001b[0;32m    903\u001b[0m         \u001b[0mresult\u001b[0m \u001b[1;33m=\u001b[0m \u001b[1;33m{\u001b[0m\u001b[1;33m}\u001b[0m\u001b[1;33m\u001b[0m\u001b[1;33m\u001b[0m\u001b[0m\n\u001b[0;32m    904\u001b[0m \u001b[1;33m\u001b[0m\u001b[0m\n\u001b[1;32m--> 905\u001b[1;33m         \u001b[1;32mfor\u001b[0m \u001b[0mname\u001b[0m\u001b[1;33m,\u001b[0m \u001b[0mgroup\u001b[0m \u001b[1;32min\u001b[0m \u001b[0mself\u001b[0m\u001b[1;33m:\u001b[0m\u001b[1;33m\u001b[0m\u001b[1;33m\u001b[0m\u001b[0m\n\u001b[0m\u001b[0;32m    906\u001b[0m             \u001b[0mgroup\u001b[0m\u001b[1;33m.\u001b[0m\u001b[0mname\u001b[0m \u001b[1;33m=\u001b[0m \u001b[0mname\u001b[0m\u001b[1;33m\u001b[0m\u001b[1;33m\u001b[0m\u001b[0m\n\u001b[0;32m    907\u001b[0m             \u001b[0moutput\u001b[0m \u001b[1;33m=\u001b[0m \u001b[0mfunc\u001b[0m\u001b[1;33m(\u001b[0m\u001b[0mgroup\u001b[0m\u001b[1;33m,\u001b[0m \u001b[1;33m*\u001b[0m\u001b[0margs\u001b[0m\u001b[1;33m,\u001b[0m \u001b[1;33m**\u001b[0m\u001b[0mkwargs\u001b[0m\u001b[1;33m)\u001b[0m\u001b[1;33m\u001b[0m\u001b[1;33m\u001b[0m\u001b[0m\n",
      "\u001b[1;32mc:\\users\\wb5888\\appdata\\local\\programs\\python\\python37-32\\lib\\site-packages\\pandas\\core\\groupby\\ops.py\u001b[0m in \u001b[0;36mget_iterator\u001b[1;34m(self, data, axis)\u001b[0m\n\u001b[0;32m    141\u001b[0m         \u001b[1;32mfor\u001b[0m \u001b[0meach\u001b[0m \u001b[0mgroup\u001b[0m\u001b[1;33m\u001b[0m\u001b[1;33m\u001b[0m\u001b[0m\n\u001b[0;32m    142\u001b[0m         \"\"\"\n\u001b[1;32m--> 143\u001b[1;33m         \u001b[0msplitter\u001b[0m \u001b[1;33m=\u001b[0m \u001b[0mself\u001b[0m\u001b[1;33m.\u001b[0m\u001b[0m_get_splitter\u001b[0m\u001b[1;33m(\u001b[0m\u001b[0mdata\u001b[0m\u001b[1;33m,\u001b[0m \u001b[0maxis\u001b[0m\u001b[1;33m=\u001b[0m\u001b[0maxis\u001b[0m\u001b[1;33m)\u001b[0m\u001b[1;33m\u001b[0m\u001b[1;33m\u001b[0m\u001b[0m\n\u001b[0m\u001b[0;32m    144\u001b[0m         \u001b[0mkeys\u001b[0m \u001b[1;33m=\u001b[0m \u001b[0mself\u001b[0m\u001b[1;33m.\u001b[0m\u001b[0m_get_group_keys\u001b[0m\u001b[1;33m(\u001b[0m\u001b[1;33m)\u001b[0m\u001b[1;33m\u001b[0m\u001b[1;33m\u001b[0m\u001b[0m\n\u001b[0;32m    145\u001b[0m         \u001b[1;32mfor\u001b[0m \u001b[0mkey\u001b[0m\u001b[1;33m,\u001b[0m \u001b[1;33m(\u001b[0m\u001b[0mi\u001b[0m\u001b[1;33m,\u001b[0m \u001b[0mgroup\u001b[0m\u001b[1;33m)\u001b[0m \u001b[1;32min\u001b[0m \u001b[0mzip\u001b[0m\u001b[1;33m(\u001b[0m\u001b[0mkeys\u001b[0m\u001b[1;33m,\u001b[0m \u001b[0msplitter\u001b[0m\u001b[1;33m)\u001b[0m\u001b[1;33m:\u001b[0m\u001b[1;33m\u001b[0m\u001b[1;33m\u001b[0m\u001b[0m\n",
      "\u001b[1;32mc:\\users\\wb5888\\appdata\\local\\programs\\python\\python37-32\\lib\\site-packages\\pandas\\core\\groupby\\ops.py\u001b[0m in \u001b[0;36m_get_splitter\u001b[1;34m(self, data, axis)\u001b[0m\n\u001b[0;32m    147\u001b[0m \u001b[1;33m\u001b[0m\u001b[0m\n\u001b[0;32m    148\u001b[0m     \u001b[1;32mdef\u001b[0m \u001b[0m_get_splitter\u001b[0m\u001b[1;33m(\u001b[0m\u001b[0mself\u001b[0m\u001b[1;33m,\u001b[0m \u001b[0mdata\u001b[0m\u001b[1;33m,\u001b[0m \u001b[0maxis\u001b[0m\u001b[1;33m=\u001b[0m\u001b[1;36m0\u001b[0m\u001b[1;33m)\u001b[0m\u001b[1;33m:\u001b[0m\u001b[1;33m\u001b[0m\u001b[1;33m\u001b[0m\u001b[0m\n\u001b[1;32m--> 149\u001b[1;33m         \u001b[0mcomp_ids\u001b[0m\u001b[1;33m,\u001b[0m \u001b[0m_\u001b[0m\u001b[1;33m,\u001b[0m \u001b[0mngroups\u001b[0m \u001b[1;33m=\u001b[0m \u001b[0mself\u001b[0m\u001b[1;33m.\u001b[0m\u001b[0mgroup_info\u001b[0m\u001b[1;33m\u001b[0m\u001b[1;33m\u001b[0m\u001b[0m\n\u001b[0m\u001b[0;32m    150\u001b[0m         \u001b[1;32mreturn\u001b[0m \u001b[0mget_splitter\u001b[0m\u001b[1;33m(\u001b[0m\u001b[0mdata\u001b[0m\u001b[1;33m,\u001b[0m \u001b[0mcomp_ids\u001b[0m\u001b[1;33m,\u001b[0m \u001b[0mngroups\u001b[0m\u001b[1;33m,\u001b[0m \u001b[0maxis\u001b[0m\u001b[1;33m=\u001b[0m\u001b[0maxis\u001b[0m\u001b[1;33m)\u001b[0m\u001b[1;33m\u001b[0m\u001b[1;33m\u001b[0m\u001b[0m\n\u001b[0;32m    151\u001b[0m \u001b[1;33m\u001b[0m\u001b[0m\n",
      "\u001b[1;32mpandas\\_libs\\properties.pyx\u001b[0m in \u001b[0;36mpandas._libs.properties.CachedProperty.__get__\u001b[1;34m()\u001b[0m\n",
      "\u001b[1;32mc:\\users\\wb5888\\appdata\\local\\programs\\python\\python37-32\\lib\\site-packages\\pandas\\core\\groupby\\ops.py\u001b[0m in \u001b[0;36mgroup_info\u001b[1;34m(self)\u001b[0m\n\u001b[0;32m    250\u001b[0m     \u001b[1;33m@\u001b[0m\u001b[0mcache_readonly\u001b[0m\u001b[1;33m\u001b[0m\u001b[1;33m\u001b[0m\u001b[0m\n\u001b[0;32m    251\u001b[0m     \u001b[1;32mdef\u001b[0m \u001b[0mgroup_info\u001b[0m\u001b[1;33m(\u001b[0m\u001b[0mself\u001b[0m\u001b[1;33m)\u001b[0m\u001b[1;33m:\u001b[0m\u001b[1;33m\u001b[0m\u001b[1;33m\u001b[0m\u001b[0m\n\u001b[1;32m--> 252\u001b[1;33m         \u001b[0mcomp_ids\u001b[0m\u001b[1;33m,\u001b[0m \u001b[0mobs_group_ids\u001b[0m \u001b[1;33m=\u001b[0m \u001b[0mself\u001b[0m\u001b[1;33m.\u001b[0m\u001b[0m_get_compressed_labels\u001b[0m\u001b[1;33m(\u001b[0m\u001b[1;33m)\u001b[0m\u001b[1;33m\u001b[0m\u001b[1;33m\u001b[0m\u001b[0m\n\u001b[0m\u001b[0;32m    253\u001b[0m \u001b[1;33m\u001b[0m\u001b[0m\n\u001b[0;32m    254\u001b[0m         \u001b[0mngroups\u001b[0m \u001b[1;33m=\u001b[0m \u001b[0mlen\u001b[0m\u001b[1;33m(\u001b[0m\u001b[0mobs_group_ids\u001b[0m\u001b[1;33m)\u001b[0m\u001b[1;33m\u001b[0m\u001b[1;33m\u001b[0m\u001b[0m\n",
      "\u001b[1;32mc:\\users\\wb5888\\appdata\\local\\programs\\python\\python37-32\\lib\\site-packages\\pandas\\core\\groupby\\ops.py\u001b[0m in \u001b[0;36m_get_compressed_labels\u001b[1;34m(self)\u001b[0m\n\u001b[0;32m    266\u001b[0m \u001b[1;33m\u001b[0m\u001b[0m\n\u001b[0;32m    267\u001b[0m     \u001b[1;32mdef\u001b[0m \u001b[0m_get_compressed_labels\u001b[0m\u001b[1;33m(\u001b[0m\u001b[0mself\u001b[0m\u001b[1;33m)\u001b[0m\u001b[1;33m:\u001b[0m\u001b[1;33m\u001b[0m\u001b[1;33m\u001b[0m\u001b[0m\n\u001b[1;32m--> 268\u001b[1;33m         \u001b[0mall_labels\u001b[0m \u001b[1;33m=\u001b[0m \u001b[1;33m[\u001b[0m\u001b[0mping\u001b[0m\u001b[1;33m.\u001b[0m\u001b[0mlabels\u001b[0m \u001b[1;32mfor\u001b[0m \u001b[0mping\u001b[0m \u001b[1;32min\u001b[0m \u001b[0mself\u001b[0m\u001b[1;33m.\u001b[0m\u001b[0mgroupings\u001b[0m\u001b[1;33m]\u001b[0m\u001b[1;33m\u001b[0m\u001b[1;33m\u001b[0m\u001b[0m\n\u001b[0m\u001b[0;32m    269\u001b[0m         \u001b[1;32mif\u001b[0m \u001b[0mlen\u001b[0m\u001b[1;33m(\u001b[0m\u001b[0mall_labels\u001b[0m\u001b[1;33m)\u001b[0m \u001b[1;33m>\u001b[0m \u001b[1;36m1\u001b[0m\u001b[1;33m:\u001b[0m\u001b[1;33m\u001b[0m\u001b[1;33m\u001b[0m\u001b[0m\n\u001b[0;32m    270\u001b[0m             group_index = get_group_index(all_labels, self.shape,\n",
      "\u001b[1;32mc:\\users\\wb5888\\appdata\\local\\programs\\python\\python37-32\\lib\\site-packages\\pandas\\core\\groupby\\ops.py\u001b[0m in \u001b[0;36m<listcomp>\u001b[1;34m(.0)\u001b[0m\n\u001b[0;32m    266\u001b[0m \u001b[1;33m\u001b[0m\u001b[0m\n\u001b[0;32m    267\u001b[0m     \u001b[1;32mdef\u001b[0m \u001b[0m_get_compressed_labels\u001b[0m\u001b[1;33m(\u001b[0m\u001b[0mself\u001b[0m\u001b[1;33m)\u001b[0m\u001b[1;33m:\u001b[0m\u001b[1;33m\u001b[0m\u001b[1;33m\u001b[0m\u001b[0m\n\u001b[1;32m--> 268\u001b[1;33m         \u001b[0mall_labels\u001b[0m \u001b[1;33m=\u001b[0m \u001b[1;33m[\u001b[0m\u001b[0mping\u001b[0m\u001b[1;33m.\u001b[0m\u001b[0mlabels\u001b[0m \u001b[1;32mfor\u001b[0m \u001b[0mping\u001b[0m \u001b[1;32min\u001b[0m \u001b[0mself\u001b[0m\u001b[1;33m.\u001b[0m\u001b[0mgroupings\u001b[0m\u001b[1;33m]\u001b[0m\u001b[1;33m\u001b[0m\u001b[1;33m\u001b[0m\u001b[0m\n\u001b[0m\u001b[0;32m    269\u001b[0m         \u001b[1;32mif\u001b[0m \u001b[0mlen\u001b[0m\u001b[1;33m(\u001b[0m\u001b[0mall_labels\u001b[0m\u001b[1;33m)\u001b[0m \u001b[1;33m>\u001b[0m \u001b[1;36m1\u001b[0m\u001b[1;33m:\u001b[0m\u001b[1;33m\u001b[0m\u001b[1;33m\u001b[0m\u001b[0m\n\u001b[0;32m    270\u001b[0m             group_index = get_group_index(all_labels, self.shape,\n",
      "\u001b[1;32mc:\\users\\wb5888\\appdata\\local\\programs\\python\\python37-32\\lib\\site-packages\\pandas\\core\\groupby\\grouper.py\u001b[0m in \u001b[0;36mlabels\u001b[1;34m(self)\u001b[0m\n\u001b[0;32m    365\u001b[0m     \u001b[1;32mdef\u001b[0m \u001b[0mlabels\u001b[0m\u001b[1;33m(\u001b[0m\u001b[0mself\u001b[0m\u001b[1;33m)\u001b[0m\u001b[1;33m:\u001b[0m\u001b[1;33m\u001b[0m\u001b[1;33m\u001b[0m\u001b[0m\n\u001b[0;32m    366\u001b[0m         \u001b[1;32mif\u001b[0m \u001b[0mself\u001b[0m\u001b[1;33m.\u001b[0m\u001b[0m_labels\u001b[0m \u001b[1;32mis\u001b[0m \u001b[1;32mNone\u001b[0m\u001b[1;33m:\u001b[0m\u001b[1;33m\u001b[0m\u001b[1;33m\u001b[0m\u001b[0m\n\u001b[1;32m--> 367\u001b[1;33m             \u001b[0mself\u001b[0m\u001b[1;33m.\u001b[0m\u001b[0m_make_labels\u001b[0m\u001b[1;33m(\u001b[0m\u001b[1;33m)\u001b[0m\u001b[1;33m\u001b[0m\u001b[1;33m\u001b[0m\u001b[0m\n\u001b[0m\u001b[0;32m    368\u001b[0m         \u001b[1;32mreturn\u001b[0m \u001b[0mself\u001b[0m\u001b[1;33m.\u001b[0m\u001b[0m_labels\u001b[0m\u001b[1;33m\u001b[0m\u001b[1;33m\u001b[0m\u001b[0m\n\u001b[0;32m    369\u001b[0m \u001b[1;33m\u001b[0m\u001b[0m\n",
      "\u001b[1;32mc:\\users\\wb5888\\appdata\\local\\programs\\python\\python37-32\\lib\\site-packages\\pandas\\core\\groupby\\grouper.py\u001b[0m in \u001b[0;36m_make_labels\u001b[1;34m(self)\u001b[0m\n\u001b[0;32m    390\u001b[0m             \u001b[1;32melse\u001b[0m\u001b[1;33m:\u001b[0m\u001b[1;33m\u001b[0m\u001b[1;33m\u001b[0m\u001b[0m\n\u001b[0;32m    391\u001b[0m                 labels, uniques = algorithms.factorize(\n\u001b[1;32m--> 392\u001b[1;33m                     self.grouper, sort=self.sort)\n\u001b[0m\u001b[0;32m    393\u001b[0m                 \u001b[0muniques\u001b[0m \u001b[1;33m=\u001b[0m \u001b[0mIndex\u001b[0m\u001b[1;33m(\u001b[0m\u001b[0muniques\u001b[0m\u001b[1;33m,\u001b[0m \u001b[0mname\u001b[0m\u001b[1;33m=\u001b[0m\u001b[0mself\u001b[0m\u001b[1;33m.\u001b[0m\u001b[0mname\u001b[0m\u001b[1;33m)\u001b[0m\u001b[1;33m\u001b[0m\u001b[1;33m\u001b[0m\u001b[0m\n\u001b[0;32m    394\u001b[0m             \u001b[0mself\u001b[0m\u001b[1;33m.\u001b[0m\u001b[0m_labels\u001b[0m \u001b[1;33m=\u001b[0m \u001b[0mlabels\u001b[0m\u001b[1;33m\u001b[0m\u001b[1;33m\u001b[0m\u001b[0m\n",
      "\u001b[1;32mc:\\users\\wb5888\\appdata\\local\\programs\\python\\python37-32\\lib\\site-packages\\pandas\\util\\_decorators.py\u001b[0m in \u001b[0;36mwrapper\u001b[1;34m(*args, **kwargs)\u001b[0m\n\u001b[0;32m    186\u001b[0m                 \u001b[1;32melse\u001b[0m\u001b[1;33m:\u001b[0m\u001b[1;33m\u001b[0m\u001b[1;33m\u001b[0m\u001b[0m\n\u001b[0;32m    187\u001b[0m                     \u001b[0mkwargs\u001b[0m\u001b[1;33m[\u001b[0m\u001b[0mnew_arg_name\u001b[0m\u001b[1;33m]\u001b[0m \u001b[1;33m=\u001b[0m \u001b[0mnew_arg_value\u001b[0m\u001b[1;33m\u001b[0m\u001b[1;33m\u001b[0m\u001b[0m\n\u001b[1;32m--> 188\u001b[1;33m             \u001b[1;32mreturn\u001b[0m \u001b[0mfunc\u001b[0m\u001b[1;33m(\u001b[0m\u001b[1;33m*\u001b[0m\u001b[0margs\u001b[0m\u001b[1;33m,\u001b[0m \u001b[1;33m**\u001b[0m\u001b[0mkwargs\u001b[0m\u001b[1;33m)\u001b[0m\u001b[1;33m\u001b[0m\u001b[1;33m\u001b[0m\u001b[0m\n\u001b[0m\u001b[0;32m    189\u001b[0m         \u001b[1;32mreturn\u001b[0m \u001b[0mwrapper\u001b[0m\u001b[1;33m\u001b[0m\u001b[1;33m\u001b[0m\u001b[0m\n\u001b[0;32m    190\u001b[0m     \u001b[1;32mreturn\u001b[0m \u001b[0m_deprecate_kwarg\u001b[0m\u001b[1;33m\u001b[0m\u001b[1;33m\u001b[0m\u001b[0m\n",
      "\u001b[1;32mc:\\users\\wb5888\\appdata\\local\\programs\\python\\python37-32\\lib\\site-packages\\pandas\\core\\algorithms.py\u001b[0m in \u001b[0;36mfactorize\u001b[1;34m(values, sort, order, na_sentinel, size_hint)\u001b[0m\n\u001b[0;32m    626\u001b[0m                 uniques, labels = safe_sort(uniques, labels,\n\u001b[0;32m    627\u001b[0m                                             \u001b[0mna_sentinel\u001b[0m\u001b[1;33m=\u001b[0m\u001b[0mna_sentinel\u001b[0m\u001b[1;33m,\u001b[0m\u001b[1;33m\u001b[0m\u001b[1;33m\u001b[0m\u001b[0m\n\u001b[1;32m--> 628\u001b[1;33m                                             assume_unique=True)\n\u001b[0m\u001b[0;32m    629\u001b[0m         \u001b[1;32melse\u001b[0m\u001b[1;33m:\u001b[0m\u001b[1;33m\u001b[0m\u001b[1;33m\u001b[0m\u001b[0m\n\u001b[0;32m    630\u001b[0m             uniques, labels = safe_sort(uniques, labels,\n",
      "\u001b[1;32mc:\\users\\wb5888\\appdata\\local\\programs\\python\\python37-32\\lib\\site-packages\\pandas\\core\\sorting.py\u001b[0m in \u001b[0;36msafe_sort\u001b[1;34m(values, labels, na_sentinel, assume_unique)\u001b[0m\n\u001b[0;32m    464\u001b[0m     \u001b[1;32mif\u001b[0m \u001b[0mPY3\u001b[0m \u001b[1;32mand\u001b[0m \u001b[0mlib\u001b[0m\u001b[1;33m.\u001b[0m\u001b[0minfer_dtype\u001b[0m\u001b[1;33m(\u001b[0m\u001b[0mvalues\u001b[0m\u001b[1;33m,\u001b[0m \u001b[0mskipna\u001b[0m\u001b[1;33m=\u001b[0m\u001b[1;32mFalse\u001b[0m\u001b[1;33m)\u001b[0m \u001b[1;33m==\u001b[0m \u001b[1;34m'mixed-integer'\u001b[0m\u001b[1;33m:\u001b[0m\u001b[1;33m\u001b[0m\u001b[1;33m\u001b[0m\u001b[0m\n\u001b[0;32m    465\u001b[0m         \u001b[1;31m# unorderable in py3 if mixed str/int\u001b[0m\u001b[1;33m\u001b[0m\u001b[1;33m\u001b[0m\u001b[1;33m\u001b[0m\u001b[0m\n\u001b[1;32m--> 466\u001b[1;33m         \u001b[0mordered\u001b[0m \u001b[1;33m=\u001b[0m \u001b[0msort_mixed\u001b[0m\u001b[1;33m(\u001b[0m\u001b[0mvalues\u001b[0m\u001b[1;33m)\u001b[0m\u001b[1;33m\u001b[0m\u001b[1;33m\u001b[0m\u001b[0m\n\u001b[0m\u001b[0;32m    467\u001b[0m     \u001b[1;32melse\u001b[0m\u001b[1;33m:\u001b[0m\u001b[1;33m\u001b[0m\u001b[1;33m\u001b[0m\u001b[0m\n\u001b[0;32m    468\u001b[0m         \u001b[1;32mtry\u001b[0m\u001b[1;33m:\u001b[0m\u001b[1;33m\u001b[0m\u001b[1;33m\u001b[0m\u001b[0m\n",
      "\u001b[1;32mc:\\users\\wb5888\\appdata\\local\\programs\\python\\python37-32\\lib\\site-packages\\pandas\\core\\sorting.py\u001b[0m in \u001b[0;36msort_mixed\u001b[1;34m(values)\u001b[0m\n\u001b[0;32m    457\u001b[0m         str_pos = np.array([isinstance(x, string_types) for x in values],\n\u001b[0;32m    458\u001b[0m                            dtype=bool)\n\u001b[1;32m--> 459\u001b[1;33m         \u001b[0mnums\u001b[0m \u001b[1;33m=\u001b[0m \u001b[0mnp\u001b[0m\u001b[1;33m.\u001b[0m\u001b[0msort\u001b[0m\u001b[1;33m(\u001b[0m\u001b[0mvalues\u001b[0m\u001b[1;33m[\u001b[0m\u001b[1;33m~\u001b[0m\u001b[0mstr_pos\u001b[0m\u001b[1;33m]\u001b[0m\u001b[1;33m)\u001b[0m\u001b[1;33m\u001b[0m\u001b[1;33m\u001b[0m\u001b[0m\n\u001b[0m\u001b[0;32m    460\u001b[0m         \u001b[0mstrs\u001b[0m \u001b[1;33m=\u001b[0m \u001b[0mnp\u001b[0m\u001b[1;33m.\u001b[0m\u001b[0msort\u001b[0m\u001b[1;33m(\u001b[0m\u001b[0mvalues\u001b[0m\u001b[1;33m[\u001b[0m\u001b[0mstr_pos\u001b[0m\u001b[1;33m]\u001b[0m\u001b[1;33m)\u001b[0m\u001b[1;33m\u001b[0m\u001b[1;33m\u001b[0m\u001b[0m\n\u001b[0;32m    461\u001b[0m         \u001b[1;32mreturn\u001b[0m \u001b[0mnp\u001b[0m\u001b[1;33m.\u001b[0m\u001b[0mconcatenate\u001b[0m\u001b[1;33m(\u001b[0m\u001b[1;33m[\u001b[0m\u001b[0mnums\u001b[0m\u001b[1;33m,\u001b[0m \u001b[0mnp\u001b[0m\u001b[1;33m.\u001b[0m\u001b[0masarray\u001b[0m\u001b[1;33m(\u001b[0m\u001b[0mstrs\u001b[0m\u001b[1;33m,\u001b[0m \u001b[0mdtype\u001b[0m\u001b[1;33m=\u001b[0m\u001b[0mobject\u001b[0m\u001b[1;33m)\u001b[0m\u001b[1;33m]\u001b[0m\u001b[1;33m)\u001b[0m\u001b[1;33m\u001b[0m\u001b[1;33m\u001b[0m\u001b[0m\n",
      "\u001b[1;32mc:\\users\\wb5888\\appdata\\local\\programs\\python\\python37-32\\lib\\site-packages\\numpy\\core\\fromnumeric.py\u001b[0m in \u001b[0;36msort\u001b[1;34m(a, axis, kind, order)\u001b[0m\n\u001b[0;32m    932\u001b[0m     \u001b[1;32melse\u001b[0m\u001b[1;33m:\u001b[0m\u001b[1;33m\u001b[0m\u001b[1;33m\u001b[0m\u001b[0m\n\u001b[0;32m    933\u001b[0m         \u001b[0ma\u001b[0m \u001b[1;33m=\u001b[0m \u001b[0masanyarray\u001b[0m\u001b[1;33m(\u001b[0m\u001b[0ma\u001b[0m\u001b[1;33m)\u001b[0m\u001b[1;33m.\u001b[0m\u001b[0mcopy\u001b[0m\u001b[1;33m(\u001b[0m\u001b[0morder\u001b[0m\u001b[1;33m=\u001b[0m\u001b[1;34m\"K\"\u001b[0m\u001b[1;33m)\u001b[0m\u001b[1;33m\u001b[0m\u001b[1;33m\u001b[0m\u001b[0m\n\u001b[1;32m--> 934\u001b[1;33m     \u001b[0ma\u001b[0m\u001b[1;33m.\u001b[0m\u001b[0msort\u001b[0m\u001b[1;33m(\u001b[0m\u001b[0maxis\u001b[0m\u001b[1;33m=\u001b[0m\u001b[0maxis\u001b[0m\u001b[1;33m,\u001b[0m \u001b[0mkind\u001b[0m\u001b[1;33m=\u001b[0m\u001b[0mkind\u001b[0m\u001b[1;33m,\u001b[0m \u001b[0morder\u001b[0m\u001b[1;33m=\u001b[0m\u001b[0morder\u001b[0m\u001b[1;33m)\u001b[0m\u001b[1;33m\u001b[0m\u001b[1;33m\u001b[0m\u001b[0m\n\u001b[0m\u001b[0;32m    935\u001b[0m     \u001b[1;32mreturn\u001b[0m \u001b[0ma\u001b[0m\u001b[1;33m\u001b[0m\u001b[1;33m\u001b[0m\u001b[0m\n\u001b[0;32m    936\u001b[0m \u001b[1;33m\u001b[0m\u001b[0m\n",
      "\u001b[1;31mTypeError\u001b[0m: '<' not supported between instances of 'int' and 'tuple'"
     ]
    }
   ],
   "source": [
    "monthly = rec_mon.groupby(['month']).sum()\n",
    "monthly['ratio'] = [b/a for a, b in zip(monthly['idr'], monthly['sca'])]\n",
    "\n",
    "ratio = pd.DataFrame(monthly[['ratio']])\n",
    "mu_ratio = np.mean(ratio.ratio[ratio.ratio > 1])\n",
    "\n",
    "ratio.ratio[ratio.ratio < 1] = mu_ratio\n",
    "ratio"
   ]
  },
  {
   "cell_type": "code",
   "execution_count": 213,
   "metadata": {},
   "outputs": [
    {
     "name": "stderr",
     "output_type": "stream",
     "text": [
      "c:\\users\\wb5888\\appdata\\local\\programs\\python\\python37-32\\lib\\site-packages\\ipykernel_launcher.py:3: SettingWithCopyWarning: \n",
      "A value is trying to be set on a copy of a slice from a DataFrame.\n",
      "Try using .loc[row_indexer,col_indexer] = value instead\n",
      "\n",
      "See the caveats in the documentation: http://pandas.pydata.org/pandas-docs/stable/indexing.html#indexing-view-versus-copy\n",
      "  This is separate from the ipykernel package so we can avoid doing imports until\n",
      "c:\\users\\wb5888\\appdata\\local\\programs\\python\\python37-32\\lib\\site-packages\\ipykernel_launcher.py:4: SettingWithCopyWarning: \n",
      "A value is trying to be set on a copy of a slice from a DataFrame.\n",
      "Try using .loc[row_indexer,col_indexer] = value instead\n",
      "\n",
      "See the caveats in the documentation: http://pandas.pydata.org/pandas-docs/stable/indexing.html#indexing-view-versus-copy\n",
      "  after removing the cwd from sys.path.\n"
     ]
    }
   ],
   "source": [
    "merge_idr = idr.merge(ratio, right_on = ['month'], how = 'left', left_on = ['mon'], right_index = True)\n",
    "final_idr = merge_idr[['v', 'interp', 'ratio']]\n",
    "final_idr['adj_interp'] = [a*b for a, b in zip(final_idr['interp'], final_idr['ratio'])]\n",
    "final_idr['adj_v'] = [a*b for a, b in zip(final_idr['v'], final_idr['ratio'])]"
   ]
  },
  {
   "cell_type": "code",
   "execution_count": 214,
   "metadata": {},
   "outputs": [
    {
     "name": "stdout",
     "output_type": "stream",
     "text": [
      "                              v      interp     ratio  adj_interp       adj_v\n",
      "t                                                                            \n",
      "2019-01-01 00:00:00  121.282233  121.282233  1.806189  219.058594  219.058594\n",
      "2019-01-01 01:00:00  120.470981  120.470981  1.806189  217.593320  217.593320\n",
      "2019-01-01 02:00:00  122.228695  122.228695  1.806189  220.768082  220.768082\n",
      "2019-01-01 03:00:00  123.986408  123.986408  1.806189  223.942844  223.942844\n",
      "2019-01-01 04:00:00  124.121617  124.121617  1.806189  224.187057  224.187057\n",
      "...\n",
      "                              v      interp     ratio  adj_interp       adj_v\n",
      "t                                                                            \n",
      "2019-12-31 19:00:00  129.259548  129.259548  1.009198  130.448445  130.448445\n",
      "2019-12-31 20:00:00  128.042670  128.042670  1.009198  129.220375  129.220375\n",
      "2019-12-31 21:00:00  127.637044  127.637044  1.009198  128.811018  128.811018\n",
      "2019-12-31 22:00:00  126.149748  126.149748  1.009198  127.310042  127.310042\n",
      "2019-12-31 23:00:00  126.014539  126.014539  1.009198  127.173590  127.173590\n"
     ]
    }
   ],
   "source": [
    "print(final_idr.head())\n",
    "print('...')\n",
    "print(final_idr.tail())"
   ]
  },
  {
   "cell_type": "markdown",
   "metadata": {},
   "source": [
    "# Plot Adjusted Data"
   ]
  },
  {
   "cell_type": "code",
   "execution_count": 215,
   "metadata": {},
   "outputs": [
    {
     "data": {
      "text/plain": [
       "<matplotlib.axes._subplots.AxesSubplot at 0xf94c590>"
      ]
     },
     "execution_count": 215,
     "metadata": {},
     "output_type": "execute_result"
    },
    {
     "data": {
      "image/png": "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\n",
      "text/plain": [
       "<Figure size 432x288 with 1 Axes>"
      ]
     },
     "metadata": {
      "needs_background": "light"
     },
     "output_type": "display_data"
    }
   ],
   "source": [
    "final_idr.plot(y = 'adj_interp')"
   ]
  },
  {
   "cell_type": "code",
   "execution_count": 217,
   "metadata": {},
   "outputs": [
    {
     "data": {
      "text/plain": [
       "<matplotlib.axes._subplots.AxesSubplot at 0x117e0490>"
      ]
     },
     "execution_count": 217,
     "metadata": {},
     "output_type": "execute_result"
    },
    {
     "data": {
      "image/png": "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\n",
      "text/plain": [
       "<Figure size 432x288 with 1 Axes>"
      ]
     },
     "metadata": {
      "needs_background": "light"
     },
     "output_type": "display_data"
    }
   ],
   "source": [
    "final_idr.plot(y = 'adj_v', color = 'darkorange')"
   ]
  },
  {
   "cell_type": "code",
   "execution_count": 271,
   "metadata": {},
   "outputs": [],
   "source": [
    "mon_sum.reset_index(inplace = True)\n",
    "mon_sum.columns = ['y', 'mon', 'idr', 'sca']"
   ]
  },
  {
   "cell_type": "markdown",
   "metadata": {},
   "source": [
    "## Scalar Monthly"
   ]
  },
  {
   "cell_type": "code",
   "execution_count": 256,
   "metadata": {},
   "outputs": [],
   "source": [
    "months = pd.DataFrame()\n",
    "months['sca'] = mon_sum.groupby(['mon'])['sca'].mean()"
   ]
  },
  {
   "cell_type": "markdown",
   "metadata": {},
   "source": [
    "## IDR Monthly"
   ]
  },
  {
   "cell_type": "code",
   "execution_count": 298,
   "metadata": {},
   "outputs": [],
   "source": [
    "months['idr'] = mon_sum.groupby(['mon'])['idr'].mean()\n",
    "months['rm'] = idr.groupby(['mon'])['rm'].mean()\n",
    "months['diff'] = [abs(b - a)/3600 for a, b in zip(months['sca'], months['idr'])]\n",
    "months['adj'] = months['rm'] + months['diff']\n",
    "\n",
    "merge_idr = idr.merge(months['adj'], right_on = ['mon'], how = 'left', left_on = ['mon'], right_index = True)\n",
    "merge_idr['final'] = [a + b for a, b in zip(merge_idr['lin'], merge_idr['adj'])]"
   ]
  },
  {
   "cell_type": "code",
   "execution_count": 299,
   "metadata": {},
   "outputs": [],
   "source": [
    "merge_idr = pd.concat([merge_idr, final_idr['ratio']], axis = 1)\n",
    "merge_idr['final_adj'] = [a*(b + c) for a, b, c in zip(merge_idr['ratio'], merge_idr['final'], merge_idr['adj'])]"
   ]
  },
  {
   "cell_type": "code",
   "execution_count": 300,
   "metadata": {},
   "outputs": [
    {
     "data": {
      "text/plain": [
       "<matplotlib.axes._subplots.AxesSubplot at 0x12dc11f0>"
      ]
     },
     "execution_count": 300,
     "metadata": {},
     "output_type": "execute_result"
    },
    {
     "data": {
      "image/png": "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\n",
      "text/plain": [
       "<Figure size 432x288 with 1 Axes>"
      ]
     },
     "metadata": {
      "needs_background": "light"
     },
     "output_type": "display_data"
    }
   ],
   "source": [
    "merge_idr.plot(y = 'final_adj')"
   ]
  },
  {
   "cell_type": "code",
   "execution_count": null,
   "metadata": {},
   "outputs": [],
   "source": []
  },
  {
   "cell_type": "code",
   "execution_count": null,
   "metadata": {},
   "outputs": [],
   "source": []
  },
  {
   "cell_type": "markdown",
   "metadata": {},
   "source": [
    "# Write Validated Data"
   ]
  },
  {
   "cell_type": "code",
<<<<<<< HEAD
   "execution_count": 64,
   "metadata": {},
   "outputs": [
    {
     "name": "stdout",
     "output_type": "stream",
     "text": [
      "writing validated data to .csv...\n",
      "wrote NEPOOL_MECO_2629670017_adj_adj_val.csv to C:\\Users\\wb5888\\LA-tools\\EWX_Forecast\\csv.\n"
     ]
    }
   ],
=======
   "execution_count": null,
   "metadata": {},
   "outputs": [],
>>>>>>> ee13c270a4a50ad6ed27ce54e8c7a5ae2ac08154
   "source": [
    "#final validated data\n",
    "\n",
    "print('writing validated data to .csv...')\n",
    "final = tmp2.copy()\n",
    "val = myfile.split('.')[0]\n",
    "val_file = ''.join([val, '_val.csv'])\n",
    "final.to_csv(val_file, header = True, index = True)\n",
    "print('wrote {} to {}.'.format(val_file, os.getcwd()))"
   ]
  },
  {
   "cell_type": "markdown",
   "metadata": {},
   "source": [
    "# Timeshift/Forecast\n",
    "1. shift validated data *years* in the future"
   ]
  },
  {
   "cell_type": "code",
<<<<<<< HEAD
   "execution_count": 49,
   "metadata": {},
   "outputs": [
    {
     "name": "stdout",
     "output_type": "stream",
     "text": [
      "reading NEPOOL_MECO_2629670017_adj_adj.csv...\n"
     ]
    },
    {
     "data": {
      "text/html": [
       "<div>\n",
       "<style scoped>\n",
       "    .dataframe tbody tr th:only-of-type {\n",
       "        vertical-align: middle;\n",
       "    }\n",
       "\n",
       "    .dataframe tbody tr th {\n",
       "        vertical-align: top;\n",
       "    }\n",
       "\n",
       "    .dataframe thead th {\n",
       "        text-align: right;\n",
       "    }\n",
       "</style>\n",
       "<table border=\"1\" class=\"dataframe\">\n",
       "  <thead>\n",
       "    <tr style=\"text-align: right;\">\n",
       "      <th></th>\n",
       "      <th>lin</th>\n",
       "    </tr>\n",
       "    <tr>\n",
       "      <th>t</th>\n",
       "      <th></th>\n",
       "    </tr>\n",
       "  </thead>\n",
       "  <tbody>\n",
       "    <tr>\n",
       "      <th>2018-07-01 00:00:00</th>\n",
       "      <td>423.242702</td>\n",
       "    </tr>\n",
       "    <tr>\n",
       "      <th>2018-07-01 01:00:00</th>\n",
       "      <td>418.131122</td>\n",
       "    </tr>\n",
       "    <tr>\n",
       "      <th>2018-07-01 02:00:00</th>\n",
       "      <td>415.686453</td>\n",
       "    </tr>\n",
       "    <tr>\n",
       "      <th>2018-07-01 03:00:00</th>\n",
       "      <td>411.686086</td>\n",
       "    </tr>\n",
       "    <tr>\n",
       "      <th>2018-07-01 04:00:00</th>\n",
       "      <td>406.352263</td>\n",
       "    </tr>\n",
       "  </tbody>\n",
       "</table>\n",
       "</div>"
      ],
      "text/plain": [
       "                            lin\n",
       "t                              \n",
       "2018-07-01 00:00:00  423.242702\n",
       "2018-07-01 01:00:00  418.131122\n",
       "2018-07-01 02:00:00  415.686453\n",
       "2018-07-01 03:00:00  411.686086\n",
       "2018-07-01 04:00:00  406.352263"
      ]
     },
     "execution_count": 49,
     "metadata": {},
     "output_type": "execute_result"
    }
   ],
   "source": [
    "print('reading {}...'.format(myfile))\n",
    "final = pd.read_csv(myfile)\n",
    "final['t'] = pd.to_datetime(final['t'])\n",
    "final.set_index('t', drop = True, inplace = True)\n",
    "final.head()"
   ]
  },
  {
   "cell_type": "code",
   "execution_count": null,
   "metadata": {},
   "outputs": [],
   "source": []
  },
  {
   "cell_type": "code",
   "execution_count": null,
   "metadata": {},
   "outputs": [],
   "source": []
  },
  {
   "cell_type": "code",
   "execution_count": null,
   "metadata": {},
   "outputs": [],
   "source": []
  },
  {
   "cell_type": "code",
   "execution_count": 65,
   "metadata": {},
   "outputs": [
    {
     "name": "stderr",
     "output_type": "stream",
     "text": [
      "C:\\Users\\wb5888\\LA-tools\\EWX_Forecast\\EWX_forecast.py:422: FutureWarning: Sorting because non-concatenation axis is not aligned. A future version\n",
      "of pandas will change to not sort by default.\n",
      "\n",
      "To accept the future behavior, pass 'sort=False'.\n",
      "\n",
      "To retain the current behavior and silence the warning, pass 'sort=True'.\n",
      "\n",
      "  master = pd.concat([year_data, future], axis = 0)\n"
     ]
    },
    {
     "name": "stdout",
     "output_type": "stream",
     "text": [
      "forecasted year 0 of 10 with 8736 reads.\n"
     ]
    },
    {
     "name": "stderr",
     "output_type": "stream",
     "text": [
      "C:\\Users\\wb5888\\LA-tools\\EWX_Forecast\\EWX_forecast.py:434: FutureWarning: Sorting because non-concatenation axis is not aligned. A future version\n",
      "of pandas will change to not sort by default.\n",
      "\n",
      "To accept the future behavior, pass 'sort=False'.\n",
      "\n",
      "To retain the current behavior and silence the warning, pass 'sort=True'.\n",
      "\n",
      "  master = pd.concat([master, forecast], axis = 0)\n"
     ]
    },
    {
     "name": "stdout",
     "output_type": "stream",
     "text": [
      "forecasted year 1 of 10 with 8736 reads.\n",
      "forecasted year 2 of 10 with 8736 reads.\n",
      "forecasted year 3 of 10 with 8736 reads.\n",
      "forecasted year 4 of 10 with 8736 reads.\n",
      "forecasted year 5 of 10 with 8736 reads.\n",
      "forecasted year 6 of 10 with 8736 reads.\n",
      "forecasted year 7 of 10 with 8736 reads.\n",
      "forecasted year 8 of 10 with 8736 reads.\n",
      "forecasted year 9 of 10 with 8736 reads.\n",
      "forecasted year 10 of 10 with 8736 reads.\n"
     ]
    },
    {
     "data": {
      "text/html": [
       "<div>\n",
       "<style scoped>\n",
       "    .dataframe tbody tr th:only-of-type {\n",
       "        vertical-align: middle;\n",
       "    }\n",
       "\n",
       "    .dataframe tbody tr th {\n",
       "        vertical-align: top;\n",
       "    }\n",
       "\n",
       "    .dataframe thead th {\n",
       "        text-align: right;\n",
       "    }\n",
       "</style>\n",
       "<table border=\"1\" class=\"dataframe\">\n",
       "  <thead>\n",
       "    <tr style=\"text-align: right;\">\n",
       "      <th></th>\n",
       "      <th>v</th>\n",
       "    </tr>\n",
       "    <tr>\n",
       "      <th>t</th>\n",
       "      <th></th>\n",
       "    </tr>\n",
       "  </thead>\n",
       "  <tbody>\n",
       "    <tr>\n",
       "      <th>2019-01-01 00:00:00</th>\n",
       "      <td>362.213127</td>\n",
       "    </tr>\n",
       "    <tr>\n",
       "      <th>2019-01-01 01:00:00</th>\n",
       "      <td>368.247778</td>\n",
       "    </tr>\n",
       "    <tr>\n",
       "      <th>2019-01-01 02:00:00</th>\n",
       "      <td>364.010683</td>\n",
       "    </tr>\n",
       "    <tr>\n",
       "      <th>2019-01-01 03:00:00</th>\n",
       "      <td>365.166254</td>\n",
       "    </tr>\n",
       "    <tr>\n",
       "      <th>2019-01-01 04:00:00</th>\n",
       "      <td>364.010683</td>\n",
       "    </tr>\n",
       "  </tbody>\n",
       "</table>\n",
       "</div>"
      ],
      "text/plain": [
       "                              v\n",
       "t                              \n",
       "2019-01-01 00:00:00  362.213127\n",
       "2019-01-01 01:00:00  368.247778\n",
       "2019-01-01 02:00:00  364.010683\n",
       "2019-01-01 03:00:00  365.166254\n",
       "2019-01-01 04:00:00  364.010683"
      ]
     },
     "execution_count": 65,
     "metadata": {},
     "output_type": "execute_result"
    }
   ],
   "source": [
    "forecast = ewx.timeshift(final, 10)\n",
    "forecast.head()"
   ]
  },
  {
   "cell_type": "code",
   "execution_count": 68,
   "metadata": {},
   "outputs": [
    {
     "name": "stdout",
     "output_type": "stream",
     "text": [
      "writing forecasts to .csv...\n",
      "wrote NEPOOL_MECO_2629670017_adj_adj_timeshift.csv to C:\\Users\\wb5888\\LA-tools\\EWX_Forecast\\csv.\n"
     ]
    }
   ],
   "source": [
=======
   "execution_count": null,
   "metadata": {},
   "outputs": [],
   "source": [
    "forecast = ewx.timeshift(final, 10)\n",
    "    \n",
>>>>>>> ee13c270a4a50ad6ed27ce54e8c7a5ae2ac08154
    "print('writing forecasts to .csv...')\n",
    "name = myfile.split('.')[0]\n",
    "ts_name = '_'.join([name, 'timeshift'])\n",
    "ts_name = '.'.join([ts_name, 'csv'])\n",
    "forecast.to_csv(ts_name, header = False)\n",
<<<<<<< HEAD
    "print('wrote {} to {}.'.format(ts_name, os.getcwd()))"
=======
    "print('wrote {} to {}.'.format(ts_name, os.getcwd()))\n",
    "forecast.head()"
>>>>>>> ee13c270a4a50ad6ed27ce54e8c7a5ae2ac08154
   ]
  },
  {
   "cell_type": "code",
<<<<<<< HEAD
   "execution_count": 69,
   "metadata": {},
   "outputs": [
    {
     "data": {
      "text/plain": [
       "<matplotlib.axes._subplots.AxesSubplot at 0x1058a290>"
      ]
     },
     "execution_count": 69,
     "metadata": {},
     "output_type": "execute_result"
    },
    {
     "data": {
      "image/png": "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\n",
      "text/plain": [
       "<Figure size 432x288 with 1 Axes>"
      ]
     },
     "metadata": {
      "needs_background": "light"
     },
     "output_type": "display_data"
    }
   ],
=======
   "execution_count": null,
   "metadata": {},
   "outputs": [],
>>>>>>> ee13c270a4a50ad6ed27ce54e8c7a5ae2ac08154
   "source": [
    "forecast.plot(y = 'v', color = 'darkorange')"
   ]
  },
  {
   "cell_type": "code",
<<<<<<< HEAD
   "execution_count": 76,
   "metadata": {},
   "outputs": [
    {
     "data": {
      "text/plain": [
       "<matplotlib.axes._subplots.AxesSubplot at 0x13090910>"
      ]
     },
     "execution_count": 76,
     "metadata": {},
     "output_type": "execute_result"
    },
    {
     "data": {
      "image/png": "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\n",
      "text/plain": [
       "<Figure size 432x288 with 1 Axes>"
      ]
     },
     "metadata": {
      "needs_background": "light"
     },
     "output_type": "display_data"
    }
   ],
   "source": [
    "recent = [a.year < 2021 for a in forecast.index]\n",
    "forecast[recent].plot(y = 'v', color = 'darkorange')"
   ]
  },
  {
   "cell_type": "code",
=======
>>>>>>> ee13c270a4a50ad6ed27ce54e8c7a5ae2ac08154
   "execution_count": null,
   "metadata": {},
   "outputs": [],
   "source": []
  }
 ],
 "metadata": {
  "kernelspec": {
   "display_name": "Python 3",
   "language": "python",
   "name": "python3"
  },
  "language_info": {
   "codemirror_mode": {
    "name": "ipython",
    "version": 3
   },
   "file_extension": ".py",
   "mimetype": "text/x-python",
   "name": "python",
   "nbconvert_exporter": "python",
   "pygments_lexer": "ipython3",
   "version": "3.7.3"
  }
 },
 "nbformat": 4,
 "nbformat_minor": 2
}
