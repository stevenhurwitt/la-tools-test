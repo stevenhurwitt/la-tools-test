{
 "cells": [
  {
   "cell_type": "markdown",
   "metadata": {},
   "source": [
    "# ewx jr"
   ]
  },
  {
   "cell_type": "code",
   "execution_count": 1,
   "metadata": {},
   "outputs": [
    {
     "name": "stdout",
     "output_type": "stream",
     "text": [
      "imported modules.\n"
     ]
    }
   ],
   "source": [
    "import logging\n",
    "import socket\n",
    "import requests\n",
    "import time\n",
    "import json\n",
    "import os\n",
    "import sys\n",
    "import re\n",
    "import flask\n",
    "import urllib\n",
    "import flask\n",
    "import httplib2\n",
    "import hashlib\n",
    "import googleapiclient\n",
    "import oauth2client\n",
    "import energyworx_client\n",
    "import energyworx_public\n",
    "import google.oauth2.credentials\n",
    "\n",
    "from retrying import retry\n",
    "from datetime import datetime\n",
    "from energyworx_client import client\n",
    "from googleapiclient import discovery\n",
    "from google_auth_oauthlib import flow\n",
    "from requests.auth import HTTPBasicAuth\n",
    "from oauth2client import GOOGLE_TOKEN_URI\n",
    "from googleapiclient.errors import HttpError\n",
    "from requests_oauthlib import OAuth2Session\n",
    "from oauthlib.oauth2 import BackendApplicationClient\n",
    "from oauth2client.client import GoogleCredentials, OAuth2Credentials\n",
    "\n",
    "print('imported modules.')"
   ]
  },
  {
   "cell_type": "markdown",
   "metadata": {},
   "source": [
    "## read secret file from google api"
   ]
  },
  {
   "cell_type": "code",
   "execution_count": 2,
   "metadata": {},
   "outputs": [
    {
     "name": "stdout",
     "output_type": "stream",
     "text": [
      "read in super-secret google api credentials.\n"
     ]
    }
   ],
   "source": [
    "with open('F:\\\\client_secret_symbolic_bit.apps.googleusercontent.com.json', 'r') as f:\n",
    "    secret_file = json.load(f)\n",
    "    secret = secret_file['web']\n",
    "    \n",
    "print('read in super-secret google api credentials.')"
   ]
  },
  {
   "cell_type": "markdown",
   "metadata": {},
   "source": [
    "## run oauth consent"
   ]
  },
  {
   "cell_type": "code",
   "execution_count": 3,
   "metadata": {},
   "outputs": [
    {
     "name": "stdout",
     "output_type": "stream",
     "text": [
      "Please go to https://accounts.google.com/o/oauth2/auth?response_type=code&client_id=348739208671-qm0broa5bkddp3t85qibse6l4kqe58fe.apps.googleusercontent.com&redirect_uri=https%3A%2F%2Fstevenhurwitt.com%2Fhub%2Foauth_callback&scope=https%3A%2F%2Fwww.googleapis.com%2Fauth%2Fuserinfo.email+openid&state=OlFEH61UNCBqbEHGGBI0P09GSeHpyA&access_type=offline&prompt=consent and authorize access.\n"
     ]
    }
   ],
   "source": [
    "SCOPES = ['https://www.googleapis.com/auth/userinfo.email', 'openid']\n",
    "oauth = OAuth2Session(secret['client_id'], redirect_uri=secret['redirect_uris'][0], scope=SCOPES)\n",
    "authorization_url, state = oauth.authorization_url('https://accounts.google.com/o/oauth2/auth', access_type=\"offline\", prompt=\"consent\")\n",
    "\n",
    "print('Please go to %s and authorize access.' % authorization_url)"
   ]
  },
  {
   "cell_type": "code",
   "execution_count": 4,
   "metadata": {},
   "outputs": [
    {
     "name": "stdout",
     "output_type": "stream",
     "text": [
      "Enter the full callback URLhttps://stevenhurwitt.com/hub/oauth_callback?state=OlFEH61UNCBqbEHGGBI0P09GSeHpyA&code=4%2F2QGQEL-7MlCNrOZhs0ebgOzox4vMo8uWRj2IeT1js-3r2Xq35O6dvopBffrj3TWZgHlrKeYAQ0usLMD0DLcNJiM&scope=email+https%3A%2F%2Fwww.googleapis.com%2Fauth%2Fuserinfo.email+openid&authuser=1&prompt=consent#\n"
     ]
    }
   ],
   "source": [
    "authorization_response = input('Enter the full callback URL')"
   ]
  },
  {
   "cell_type": "markdown",
   "metadata": {},
   "source": [
    "## get token"
   ]
  },
  {
   "cell_type": "code",
   "execution_count": 5,
   "metadata": {},
   "outputs": [
    {
     "name": "stdout",
     "output_type": "stream",
     "text": [
      "fetched extra super-secret token.\n"
     ]
    }
   ],
   "source": [
    "token = oauth.fetch_token('https://accounts.google.com/o/oauth2/token', authorization_response=authorization_response, client_secret=secret['client_secret'])\n",
    "print('fetched extra super-secret token.')"
   ]
  },
  {
   "cell_type": "code",
   "execution_count": 6,
   "metadata": {},
   "outputs": [
    {
     "name": "stdout",
     "output_type": "stream",
     "text": [
      "Bearer token expires at: 07/28/2020 01:03:23.\n"
     ]
    }
   ],
   "source": [
    "token_exp = datetime.fromtimestamp(token['expires_at'])\n",
    "print('Bearer token expires at: {}.'.format(token_exp.strftime('%m/%d/%Y %H:%M:%S')))"
   ]
  },
  {
   "cell_type": "markdown",
   "metadata": {},
   "source": [
    "## write amended client secret"
   ]
  },
  {
   "cell_type": "code",
   "execution_count": 14,
   "metadata": {},
   "outputs": [
    {
     "name": "stdout",
     "output_type": "stream",
     "text": [
      "wrote new client secret to F:\\super-secret-google-shit.json\n"
     ]
    }
   ],
   "source": [
    "secret['type'] = 'authorized_user'\n",
    "secret['refresh_token'] = token['refresh_token']\n",
    "\n",
    "with open('F:\\\\super-secret-google-shit.json', 'w') as g:\n",
    "    json.dump(secret, g)\n",
    "    \n",
    "print('wrote new client secret to F:\\\\super-secret-google-shit.json')"
   ]
  },
  {
   "cell_type": "markdown",
   "metadata": {},
   "source": [
    "## test request"
   ]
  },
  {
   "cell_type": "code",
   "execution_count": 15,
   "metadata": {},
   "outputs": [
    {
     "data": {
      "text/plain": [
       "{'id': '116108006493438593342',\n",
       " 'email': 'steven.hurwitt@external.engie.com',\n",
       " 'verified_email': True,\n",
       " 'picture': 'https://lh4.googleusercontent.com/-11HvE0chTJs/AAAAAAAAAAI/AAAAAAAAAAA/7qsrZ7S5SPw/photo.jpg'}"
      ]
     },
     "execution_count": 15,
     "metadata": {},
     "output_type": "execute_result"
    }
   ],
   "source": [
    "r = oauth.get('https://www.googleapis.com/oauth2/v1/userinfo')\n",
    "r.json()"
   ]
  },
  {
   "cell_type": "markdown",
   "metadata": {},
   "source": [
    "## Set credentials for ewx api"
   ]
  },
  {
   "cell_type": "code",
   "execution_count": 16,
   "metadata": {},
   "outputs": [
    {
     "name": "stdout",
     "output_type": "stream",
     "text": [
      "set necessary os environment variables.\n"
     ]
    }
   ],
   "source": [
    "os.environ['JPY_USER'] = \"True\"\n",
    "os.environ['REFRESH_TOKEN'] = token['refresh_token']\n",
    "os.environ['CLIENT_ID'] = secret['client_id']\n",
    "os.environ['CLIENT_SECRET'] = secret['client_secret']\n",
    "os.environ['TOKEN_URI'] = secret['token_uri']\n",
    "os.environ['GOOGLE_APPLICATION_CREDENTIALS'] = 'F:\\\\super-secret-google-shit.json'\n",
    "print('set necessary os environment variables.')"
   ]
  },
  {
   "cell_type": "markdown",
   "metadata": {},
   "source": [
    "## EWX API credentials"
   ]
  },
  {
   "cell_type": "code",
   "execution_count": 17,
   "metadata": {},
   "outputs": [
    {
     "name": "stdout",
     "output_type": "stream",
     "text": [
      "Creating Externalservice client\n",
      "Discovering services using https://ewx-live.appspot.com/_ah/api/discovery/v1/apis/ewx/v1/rest.\n",
      "Client created\n"
     ]
    }
   ],
   "source": [
    "namespace = 'na.engie.com'\n",
    "test_namespace = 'na.engie_test.com'\n",
    "default_api_root = 'https://ewx-live.appspot.com'\n",
    "other = 'cloud.app.energyworx.com/_ah/api'\n",
    "\n",
    "creds = GoogleCredentials.get_application_default()\n",
    "\n",
    "#create ewx client\n",
    "ewx = client.EWX(namespace, default_api_root, creds)"
   ]
  },
  {
   "cell_type": "code",
   "execution_count": 18,
   "metadata": {},
   "outputs": [
    {
     "ename": "HttpError",
     "evalue": "<HttpError 401 when requesting https://ewx-live.appspot.com/_ah/api/ewx/v1/datasource/get/NEPOOL_BECO_25917091008?alt=json returned \"Unexpected error: Client ID is not allowed: 348739208671-qm0broa5bkddp3t85qibse6l4kqe58fe.apps.googleusercontent.com\">",
     "output_type": "error",
     "traceback": [
      "\u001b[1;31m---------------------------------------------------------------------------\u001b[0m",
      "\u001b[1;31mHttpError\u001b[0m                                 Traceback (most recent call last)",
      "\u001b[1;32m<ipython-input-18-d66aac4f80d7>\u001b[0m in \u001b[0;36m<module>\u001b[1;34m\u001b[0m\n\u001b[1;32m----> 1\u001b[1;33m \u001b[0mewx\u001b[0m\u001b[1;33m.\u001b[0m\u001b[0mget_datasource\u001b[0m\u001b[1;33m(\u001b[0m\u001b[1;34m'NEPOOL_BECO_25917091008'\u001b[0m\u001b[1;33m)\u001b[0m\u001b[1;33m\u001b[0m\u001b[1;33m\u001b[0m\u001b[0m\n\u001b[0m",
      "\u001b[1;32mF:\\la-tools-test\\ewx_client\\energyworx_client\\client.py\u001b[0m in \u001b[0;36mget_datasource\u001b[1;34m(self, id)\u001b[0m\n\u001b[0;32m    354\u001b[0m         \"\"\"\n\u001b[0;32m    355\u001b[0m         \u001b[0mrequest\u001b[0m \u001b[1;33m=\u001b[0m \u001b[0mself\u001b[0m\u001b[1;33m.\u001b[0m\u001b[0mclient\u001b[0m\u001b[1;33m.\u001b[0m\u001b[0mdatasource\u001b[0m\u001b[1;33m(\u001b[0m\u001b[1;33m)\u001b[0m\u001b[1;33m.\u001b[0m\u001b[0mdatasource\u001b[0m\u001b[1;33m(\u001b[0m\u001b[1;33m)\u001b[0m\u001b[1;33m.\u001b[0m\u001b[0mget\u001b[0m\u001b[1;33m(\u001b[0m\u001b[0mid\u001b[0m\u001b[1;33m=\u001b[0m\u001b[0mid\u001b[0m\u001b[1;33m)\u001b[0m\u001b[1;33m\u001b[0m\u001b[1;33m\u001b[0m\u001b[0m\n\u001b[1;32m--> 356\u001b[1;33m         \u001b[1;32mreturn\u001b[0m \u001b[0mself\u001b[0m\u001b[1;33m.\u001b[0m\u001b[0m__execute_and_handle_response\u001b[0m\u001b[1;33m(\u001b[0m\u001b[0mrequest\u001b[0m\u001b[1;33m)\u001b[0m\u001b[1;33m\u001b[0m\u001b[1;33m\u001b[0m\u001b[0m\n\u001b[0m\u001b[0;32m    357\u001b[0m \u001b[1;33m\u001b[0m\u001b[0m\n\u001b[0;32m    358\u001b[0m     \u001b[1;32mdef\u001b[0m \u001b[0mlist_datasources\u001b[0m\u001b[1;33m(\u001b[0m\u001b[0mself\u001b[0m\u001b[1;33m,\u001b[0m \u001b[0mlimit\u001b[0m\u001b[1;33m=\u001b[0m\u001b[1;36m20\u001b[0m\u001b[1;33m,\u001b[0m \u001b[0mpage_token\u001b[0m\u001b[1;33m=\u001b[0m\u001b[1;32mNone\u001b[0m\u001b[1;33m)\u001b[0m\u001b[1;33m:\u001b[0m\u001b[1;33m\u001b[0m\u001b[1;33m\u001b[0m\u001b[0m\n",
      "\u001b[1;32mF:\\la-tools-test\\ewx_client\\energyworx_client\\client.py\u001b[0m in \u001b[0;36m__execute_and_handle_response\u001b[1;34m(self, request, asynch)\u001b[0m\n\u001b[0;32m    904\u001b[0m         \u001b[1;32mfor\u001b[0m \u001b[0mcount\u001b[0m \u001b[1;32min\u001b[0m \u001b[0mrange\u001b[0m\u001b[1;33m(\u001b[0m\u001b[1;36m2\u001b[0m\u001b[1;33m)\u001b[0m\u001b[1;33m:\u001b[0m\u001b[1;33m\u001b[0m\u001b[1;33m\u001b[0m\u001b[0m\n\u001b[0;32m    905\u001b[0m             \u001b[1;32mtry\u001b[0m\u001b[1;33m:\u001b[0m\u001b[1;33m\u001b[0m\u001b[1;33m\u001b[0m\u001b[0m\n\u001b[1;32m--> 906\u001b[1;33m                 \u001b[1;32mreturn\u001b[0m \u001b[0mupdated_request\u001b[0m\u001b[1;33m.\u001b[0m\u001b[0mexecute\u001b[0m\u001b[1;33m(\u001b[0m\u001b[0mnum_retries\u001b[0m\u001b[1;33m=\u001b[0m\u001b[1;36m3\u001b[0m\u001b[1;33m)\u001b[0m\u001b[1;33m\u001b[0m\u001b[1;33m\u001b[0m\u001b[0m\n\u001b[0m\u001b[0;32m    907\u001b[0m             \u001b[1;32mexcept\u001b[0m \u001b[0msocket\u001b[0m\u001b[1;33m.\u001b[0m\u001b[0merror\u001b[0m \u001b[1;32mas\u001b[0m \u001b[0msocket_error\u001b[0m\u001b[1;33m:\u001b[0m\u001b[1;33m\u001b[0m\u001b[1;33m\u001b[0m\u001b[0m\n\u001b[0;32m    908\u001b[0m                 \u001b[1;32mif\u001b[0m \u001b[0msocket_error\u001b[0m\u001b[1;33m.\u001b[0m\u001b[0mstrerror\u001b[0m \u001b[1;33m==\u001b[0m \u001b[1;34m'Connection reset by peer'\u001b[0m\u001b[1;33m:\u001b[0m\u001b[1;33m\u001b[0m\u001b[1;33m\u001b[0m\u001b[0m\n",
      "\u001b[1;32mC:\\ProgramData\\Miniconda3\\lib\\site-packages\\googleapiclient\\_helpers.py\u001b[0m in \u001b[0;36mpositional_wrapper\u001b[1;34m(*args, **kwargs)\u001b[0m\n\u001b[0;32m    132\u001b[0m                 \u001b[1;32melif\u001b[0m \u001b[0mpositional_parameters_enforcement\u001b[0m \u001b[1;33m==\u001b[0m \u001b[0mPOSITIONAL_WARNING\u001b[0m\u001b[1;33m:\u001b[0m\u001b[1;33m\u001b[0m\u001b[1;33m\u001b[0m\u001b[0m\n\u001b[0;32m    133\u001b[0m                     \u001b[0mlogger\u001b[0m\u001b[1;33m.\u001b[0m\u001b[0mwarning\u001b[0m\u001b[1;33m(\u001b[0m\u001b[0mmessage\u001b[0m\u001b[1;33m)\u001b[0m\u001b[1;33m\u001b[0m\u001b[1;33m\u001b[0m\u001b[0m\n\u001b[1;32m--> 134\u001b[1;33m             \u001b[1;32mreturn\u001b[0m \u001b[0mwrapped\u001b[0m\u001b[1;33m(\u001b[0m\u001b[1;33m*\u001b[0m\u001b[0margs\u001b[0m\u001b[1;33m,\u001b[0m \u001b[1;33m**\u001b[0m\u001b[0mkwargs\u001b[0m\u001b[1;33m)\u001b[0m\u001b[1;33m\u001b[0m\u001b[1;33m\u001b[0m\u001b[0m\n\u001b[0m\u001b[0;32m    135\u001b[0m \u001b[1;33m\u001b[0m\u001b[0m\n\u001b[0;32m    136\u001b[0m         \u001b[1;32mreturn\u001b[0m \u001b[0mpositional_wrapper\u001b[0m\u001b[1;33m\u001b[0m\u001b[1;33m\u001b[0m\u001b[0m\n",
      "\u001b[1;32mC:\\ProgramData\\Miniconda3\\lib\\site-packages\\googleapiclient\\http.py\u001b[0m in \u001b[0;36mexecute\u001b[1;34m(self, http, num_retries)\u001b[0m\n\u001b[0;32m    905\u001b[0m             \u001b[0mcallback\u001b[0m\u001b[1;33m(\u001b[0m\u001b[0mresp\u001b[0m\u001b[1;33m)\u001b[0m\u001b[1;33m\u001b[0m\u001b[1;33m\u001b[0m\u001b[0m\n\u001b[0;32m    906\u001b[0m         \u001b[1;32mif\u001b[0m \u001b[0mresp\u001b[0m\u001b[1;33m.\u001b[0m\u001b[0mstatus\u001b[0m \u001b[1;33m>=\u001b[0m \u001b[1;36m300\u001b[0m\u001b[1;33m:\u001b[0m\u001b[1;33m\u001b[0m\u001b[1;33m\u001b[0m\u001b[0m\n\u001b[1;32m--> 907\u001b[1;33m             \u001b[1;32mraise\u001b[0m \u001b[0mHttpError\u001b[0m\u001b[1;33m(\u001b[0m\u001b[0mresp\u001b[0m\u001b[1;33m,\u001b[0m \u001b[0mcontent\u001b[0m\u001b[1;33m,\u001b[0m \u001b[0muri\u001b[0m\u001b[1;33m=\u001b[0m\u001b[0mself\u001b[0m\u001b[1;33m.\u001b[0m\u001b[0muri\u001b[0m\u001b[1;33m)\u001b[0m\u001b[1;33m\u001b[0m\u001b[1;33m\u001b[0m\u001b[0m\n\u001b[0m\u001b[0;32m    908\u001b[0m         \u001b[1;32mreturn\u001b[0m \u001b[0mself\u001b[0m\u001b[1;33m.\u001b[0m\u001b[0mpostproc\u001b[0m\u001b[1;33m(\u001b[0m\u001b[0mresp\u001b[0m\u001b[1;33m,\u001b[0m \u001b[0mcontent\u001b[0m\u001b[1;33m)\u001b[0m\u001b[1;33m\u001b[0m\u001b[1;33m\u001b[0m\u001b[0m\n\u001b[0;32m    909\u001b[0m \u001b[1;33m\u001b[0m\u001b[0m\n",
      "\u001b[1;31mHttpError\u001b[0m: <HttpError 401 when requesting https://ewx-live.appspot.com/_ah/api/ewx/v1/datasource/get/NEPOOL_BECO_25917091008?alt=json returned \"Unexpected error: Client ID is not allowed: 348739208671-qm0broa5bkddp3t85qibse6l4kqe58fe.apps.googleusercontent.com\">"
     ]
    }
   ],
   "source": [
    "ewx.get_datasource('NEPOOL_BECO_25917091008')"
   ]
  },
  {
   "cell_type": "code",
   "execution_count": null,
   "metadata": {},
   "outputs": [],
   "source": []
  },
  {
   "cell_type": "code",
   "execution_count": null,
   "metadata": {},
   "outputs": [],
   "source": []
  },
  {
   "cell_type": "markdown",
   "metadata": {},
   "source": [
    "## try api request"
   ]
  },
  {
   "cell_type": "code",
   "execution_count": 20,
   "metadata": {},
   "outputs": [],
   "source": [
    "X_API_KEY=\"626E2AA48CE14D5EA2B4DB8F2052B9FC\""
   ]
  },
  {
   "cell_type": "code",
   "execution_count": 21,
   "metadata": {},
   "outputs": [
    {
     "name": "stdout",
     "output_type": "stream",
     "text": [
      "{'Accept': 'application/json', 'x-namespace': 'na.engie.com'}\n"
     ]
    }
   ],
   "source": [
    "headers = {\"Accept\": \"application/json\", \"x-namespace\" : namespace}\n",
    "auth = HTTPBasicAuth(\"apikey\", X_API_KEY)\n",
    "print(headers)"
   ]
  },
  {
   "cell_type": "code",
   "execution_count": 22,
   "metadata": {},
   "outputs": [],
   "source": [
    "response = requests.get('https://ewx-live.appspot.com/_ah/api/ewx/v1/datasource/get/NEPOOL_BECO_25917091008', auth = auth, headers = headers)"
   ]
  },
  {
   "cell_type": "code",
   "execution_count": 23,
   "metadata": {},
   "outputs": [
    {
     "data": {
      "text/plain": [
       "{'error': {'code': 401,\n",
       "  'errors': [{'domain': 'global',\n",
       "    'message': 'Unexpected error: Could not retrieve token info with token YXBpa2V5OjYyNkUyQUE0OENFMTRENUVBMkI0REI4RjIwNTJCOUZD',\n",
       "    'reason': 'required'}],\n",
       "  'message': 'Unexpected error: Could not retrieve token info with token YXBpa2V5OjYyNkUyQUE0OENFMTRENUVBMkI0REI4RjIwNTJCOUZD'}}"
      ]
     },
     "execution_count": 23,
     "metadata": {},
     "output_type": "execute_result"
    }
   ],
   "source": [
    "response.json()"
   ]
  },
  {
   "cell_type": "code",
   "execution_count": null,
   "metadata": {},
   "outputs": [],
   "source": []
  }
 ],
 "metadata": {
  "kernelspec": {
   "display_name": "la-tools-test",
   "language": "python",
   "name": "la-tools-test"
  },
  "language_info": {
   "codemirror_mode": {
    "name": "ipython",
    "version": 3
   },
   "file_extension": ".py",
   "mimetype": "text/x-python",
   "name": "python",
   "nbconvert_exporter": "python",
   "pygments_lexer": "ipython3",
   "version": "3.7.6"
  }
 },
 "nbformat": 4,
 "nbformat_minor": 2
}
