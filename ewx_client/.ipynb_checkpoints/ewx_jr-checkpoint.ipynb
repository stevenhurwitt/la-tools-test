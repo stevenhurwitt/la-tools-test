{
 "cells": [
  {
   "cell_type": "markdown",
   "metadata": {},
   "source": [
    "# ewx_jr"
   ]
  },
  {
   "cell_type": "code",
   "execution_count": 1,
   "metadata": {},
   "outputs": [
    {
     "data": {
      "text/plain": [
       "'/media/steven/big_boi/la-tools-test/ewx_client'"
      ]
     },
     "execution_count": 1,
     "metadata": {},
     "output_type": "execute_result"
    }
   ],
   "source": [
    "import os\n",
    "os.getcwd()"
   ]
  },
  {
   "cell_type": "code",
   "execution_count": 2,
   "metadata": {},
   "outputs": [
    {
     "data": {
      "text/plain": [
       "environ{'CLUTTER_IM_MODULE': 'xim',\n",
       "        'CONDA_SHLVL': '1',\n",
       "        'LS_COLORS': 'rs=0:di=01;34:ln=01;36:mh=00:pi=40;33:so=01;35:do=01;35:bd=40;33;01:cd=40;33;01:or=40;31;01:mi=00:su=37;41:sg=30;43:ca=30;41:tw=30;42:ow=34;42:st=37;44:ex=01;32:*.tar=01;31:*.tgz=01;31:*.arc=01;31:*.arj=01;31:*.taz=01;31:*.lha=01;31:*.lz4=01;31:*.lzh=01;31:*.lzma=01;31:*.tlz=01;31:*.txz=01;31:*.tzo=01;31:*.t7z=01;31:*.zip=01;31:*.z=01;31:*.Z=01;31:*.dz=01;31:*.gz=01;31:*.lrz=01;31:*.lz=01;31:*.lzo=01;31:*.xz=01;31:*.zst=01;31:*.tzst=01;31:*.bz2=01;31:*.bz=01;31:*.tbz=01;31:*.tbz2=01;31:*.tz=01;31:*.deb=01;31:*.rpm=01;31:*.jar=01;31:*.war=01;31:*.ear=01;31:*.sar=01;31:*.rar=01;31:*.alz=01;31:*.ace=01;31:*.zoo=01;31:*.cpio=01;31:*.7z=01;31:*.rz=01;31:*.cab=01;31:*.wim=01;31:*.swm=01;31:*.dwm=01;31:*.esd=01;31:*.jpg=01;35:*.jpeg=01;35:*.mjpg=01;35:*.mjpeg=01;35:*.gif=01;35:*.bmp=01;35:*.pbm=01;35:*.pgm=01;35:*.ppm=01;35:*.tga=01;35:*.xbm=01;35:*.xpm=01;35:*.tif=01;35:*.tiff=01;35:*.png=01;35:*.svg=01;35:*.svgz=01;35:*.mng=01;35:*.pcx=01;35:*.mov=01;35:*.mpg=01;35:*.mpeg=01;35:*.m2v=01;35:*.mkv=01;35:*.webm=01;35:*.ogm=01;35:*.mp4=01;35:*.m4v=01;35:*.mp4v=01;35:*.vob=01;35:*.qt=01;35:*.nuv=01;35:*.wmv=01;35:*.asf=01;35:*.rm=01;35:*.rmvb=01;35:*.flc=01;35:*.avi=01;35:*.fli=01;35:*.flv=01;35:*.gl=01;35:*.dl=01;35:*.xcf=01;35:*.xwd=01;35:*.yuv=01;35:*.cgm=01;35:*.emf=01;35:*.ogv=01;35:*.ogx=01;35:*.aac=00;36:*.au=00;36:*.flac=00;36:*.m4a=00;36:*.mid=00;36:*.midi=00;36:*.mka=00;36:*.mp3=00;36:*.mpc=00;36:*.ogg=00;36:*.ra=00;36:*.wav=00;36:*.oga=00;36:*.opus=00;36:*.spx=00;36:*.xspf=00;36:',\n",
       "        'CONDA_EXE': '/home/steven/miniconda3/bin/conda',\n",
       "        'GDAL_DATA': '/home/steven/miniconda3/share/gdal',\n",
       "        'LESSCLOSE': '/usr/bin/lesspipe %s %s',\n",
       "        'GPROF': '/home/steven/miniconda3/bin/x86_64-conda_cos6-linux-gnu-gprof',\n",
       "        'XDG_MENU_PREFIX': 'gnome-',\n",
       "        'HADOOP_HOME': '/home/steven/Downloads/hadoop-3.2.1',\n",
       "        'YARN_HOME': '/home/steven/Downloads/hadoop-3.2.1',\n",
       "        'HADOOP_COMMON_HOME': '/home/steven/Downloads/hadoop-3.2.1',\n",
       "        'LANG': 'en_US.UTF-8',\n",
       "        'DISPLAY': ':1',\n",
       "        'GXX': '/home/steven/miniconda3/bin/x86_64-conda_cos6-linux-gnu-g++',\n",
       "        'LD_GOLD': '/home/steven/miniconda3/bin/x86_64-conda_cos6-linux-gnu-ld.gold',\n",
       "        'GNOME_SHELL_SESSION_MODE': 'ubuntu',\n",
       "        'DEBUG_CPPFLAGS': '-D_DEBUG -D_FORTIFY_SOURCE=2 -Og -isystem /home/steven/miniconda3/include',\n",
       "        'DEBUG_CFLAGS': '-march=nocona -mtune=haswell -ftree-vectorize -fPIC -fstack-protector-all -fno-plt -Og -g -Wall -Wextra -fvar-tracking-assignments -ffunction-sections -pipe -isystem /home/steven/miniconda3/include',\n",
       "        'COLORTERM': 'truecolor',\n",
       "        'GCC_NM': '/home/steven/miniconda3/bin/x86_64-conda_cos6-linux-gnu-gcc-nm',\n",
       "        'USERNAME': 'steven',\n",
       "        'CPL_ZIP_ENCODING': 'UTF-8',\n",
       "        'HADOOP_HDFS_HOME': '/home/steven/Downloads/hadoop-3.2.1',\n",
       "        'CONDA_PREFIX': '/home/steven/miniconda3',\n",
       "        'JAVA_HOME': '/usr/lib/jvm/jdk-14.0.1',\n",
       "        'GCC_RANLIB': '/home/steven/miniconda3/bin/x86_64-conda_cos6-linux-gnu-gcc-ranlib',\n",
       "        'CFLAGS': '-march=nocona -mtune=haswell -ftree-vectorize -fPIC -fstack-protector-strong -fno-plt -O2 -ffunction-sections -pipe -isystem /home/steven/miniconda3/include',\n",
       "        'GCC_AR': '/home/steven/miniconda3/bin/x86_64-conda_cos6-linux-gnu-gcc-ar',\n",
       "        'XDG_VTNR': '2',\n",
       "        'SSH_AUTH_SOCK': '/run/user/1000/keyring/ssh',\n",
       "        '_CE_M': '',\n",
       "        'CC': '/home/steven/miniconda3/bin/x86_64-conda_cos6-linux-gnu-cc',\n",
       "        'READELF': '/home/steven/miniconda3/bin/x86_64-conda_cos6-linux-gnu-readelf',\n",
       "        'PROJ_LIB': '/home/steven/miniconda3/share/proj',\n",
       "        'XDG_SESSION_ID': '3',\n",
       "        'USER': 'steven',\n",
       "        'CXXFLAGS': '-fvisibility-inlines-hidden -std=c++17 -fmessage-length=0 -march=nocona -mtune=haswell -ftree-vectorize -fPIC -fstack-protector-strong -fno-plt -O2 -ffunction-sections -pipe -isystem /home/steven/miniconda3/include',\n",
       "        'DESKTOP_SESSION': 'ubuntu',\n",
       "        'STRIP': '/home/steven/miniconda3/bin/x86_64-conda_cos6-linux-gnu-strip',\n",
       "        'CUDADIR': '/usr/local/cuda',\n",
       "        'OBJCOPY': '/home/steven/miniconda3/bin/x86_64-conda_cos6-linux-gnu-objcopy',\n",
       "        '_CONDA_PYTHON_SYSCONFIGDATA_NAME': '_sysconfigdata_x86_64_conda_cos6_linux_gnu',\n",
       "        'QT4_IM_MODULE': 'xim',\n",
       "        'TEXTDOMAINDIR': '/usr/share/locale/',\n",
       "        'GNOME_TERMINAL_SCREEN': '/org/gnome/Terminal/screen/2bd54e3a_018e_4fa1_8206_fae159ff8af2',\n",
       "        'PWD': '/media/steven/big_boi/la-tools-test',\n",
       "        'HOME': '/home/steven',\n",
       "        'ADDR2LINE': '/home/steven/miniconda3/bin/x86_64-conda_cos6-linux-gnu-addr2line',\n",
       "        'CONDA_PYTHON_EXE': '/home/steven/miniconda3/bin/python',\n",
       "        'TEXTDOMAIN': 'im-config',\n",
       "        'CMAKE_PREFIX_PATH': '/home/steven/miniconda3:/home/steven/miniconda3/x86_64-conda_cos6-linux-gnu/sysroot/usr',\n",
       "        'SSH_AGENT_PID': '4129',\n",
       "        'HOST': 'x86_64-conda_cos6-linux-gnu',\n",
       "        'QT_ACCESSIBILITY': '1',\n",
       "        'XDG_SESSION_TYPE': 'x11',\n",
       "        'HADOOP_MAPRED_HOME': '/home/steven/Downloads/hadoop-3.2.1',\n",
       "        'XDG_DATA_DIRS': '/usr/share/ubuntu:/usr/local/share/:/usr/share/:/var/lib/snapd/desktop',\n",
       "        'RANLIB': '/home/steven/miniconda3/bin/x86_64-conda_cos6-linux-gnu-ranlib',\n",
       "        'OBJDUMP': '/home/steven/miniconda3/bin/x86_64-conda_cos6-linux-gnu-objdump',\n",
       "        'AS': '/home/steven/miniconda3/bin/x86_64-conda_cos6-linux-gnu-as',\n",
       "        'AR': '/home/steven/miniconda3/bin/x86_64-conda_cos6-linux-gnu-ar',\n",
       "        'CONDA_BACKUP_HOST': 'x86_64-conda_cos6-linux-gnu',\n",
       "        'MKL_INTERFACE_LAYER': 'LP64,GNU',\n",
       "        '_CE_CONDA': '',\n",
       "        'CONDA_MKL_INTERFACE_LAYER_BACKUP': '',\n",
       "        'HADOOP_CONF_DIR': '/home/steven/Downloads/hadoop-3.2.1/etc/hadoop',\n",
       "        'XDG_SESSION_DESKTOP': 'ubuntu',\n",
       "        'SPARK_HOME': '/usr/spark/spark-3.0.0-preview2-bin-hadoop2.7',\n",
       "        'GJS_DEBUG_OUTPUT': 'stderr',\n",
       "        'NM': '/home/steven/miniconda3/bin/x86_64-conda_cos6-linux-gnu-nm',\n",
       "        'CONDA_PROMPT_MODIFIER': '(base) ',\n",
       "        'GTK_MODULES': 'gail:atk-bridge',\n",
       "        'CONDA_BUILD_SYSROOT': '/home/steven/miniconda3/x86_64-conda_cos6-linux-gnu/sysroot',\n",
       "        'DEBUG_CXXFLAGS': '-fvisibility-inlines-hidden -std=c++17 -fmessage-length=0 -march=nocona -mtune=haswell -ftree-vectorize -fPIC -fstack-protector-all -fno-plt -Og -g -Wall -Wextra -fvar-tracking-assignments -ffunction-sections -pipe -isystem /home/steven/miniconda3/include',\n",
       "        'CXX': '/home/steven/miniconda3/bin/x86_64-conda_cos6-linux-gnu-c++',\n",
       "        'WINDOWPATH': '2',\n",
       "        'TERM': 'xterm-color',\n",
       "        'SHELL': '/bin/bash',\n",
       "        'VTE_VERSION': '5202',\n",
       "        'CXXFILT': '/home/steven/miniconda3/bin/x86_64-conda_cos6-linux-gnu-c++filt',\n",
       "        'QT_IM_MODULE': 'ibus',\n",
       "        'XMODIFIERS': '@im=ibus',\n",
       "        'IM_CONFIG_PHASE': '2',\n",
       "        'XDG_CURRENT_DESKTOP': 'ubuntu:GNOME',\n",
       "        'GPG_AGENT_INFO': '/run/user/1000/gnupg/S.gpg-agent:0:1',\n",
       "        'GNOME_TERMINAL_SERVICE': ':1.96',\n",
       "        'ELFEDIT': '/home/steven/miniconda3/bin/x86_64-conda_cos6-linux-gnu-elfedit',\n",
       "        'XDG_SEAT': 'seat0',\n",
       "        'SHLVL': '1',\n",
       "        'CPPFLAGS': '-DNDEBUG -D_FORTIFY_SOURCE=2 -O2 -isystem /home/steven/miniconda3/include',\n",
       "        'STRINGS': '/home/steven/miniconda3/bin/x86_64-conda_cos6-linux-gnu-strings',\n",
       "        'GDMSESSION': 'ubuntu',\n",
       "        'GNOME_DESKTOP_SESSION_ID': 'this-is-deprecated',\n",
       "        'LOGNAME': 'steven',\n",
       "        'DBUS_SESSION_BUS_ADDRESS': 'unix:path=/run/user/1000/bus',\n",
       "        'XDG_RUNTIME_DIR': '/run/user/1000',\n",
       "        'XAUTHORITY': '/run/user/1000/gdm/Xauthority',\n",
       "        'LDFLAGS': '-Wl,-O2 -Wl,--sort-common -Wl,--as-needed -Wl,-z,relro -Wl,-z,now -Wl,--disable-new-dtags -Wl,--gc-sections -Wl,-rpath,/home/steven/miniconda3/lib -Wl,-rpath-link,/home/steven/miniconda3/lib -L/home/steven/miniconda3/lib',\n",
       "        'XDG_CONFIG_DIRS': '/etc/xdg/xdg-ubuntu:/etc/xdg',\n",
       "        'PATH': '/usr/spark/spark-3.0.0-preview2-bin-hadoop2.7/bin:/usr/lib/jvm/jdk-14.0.1/bin:/home/steven/miniconda3/bin:/home/steven/miniconda3/condabin:/home/steven/bin:/usr/local/sbin:/usr/local/bin:/usr/sbin:/usr/bin:/sbin:/bin:/usr/games:/usr/local/games:/snap/bin:/usr/local/cuda/bin:/home/steven/Downloads/hadoop-3.2.1/bin:/opt/mssql-tools/bin',\n",
       "        'GCC': '/home/steven/miniconda3/bin/x86_64-conda_cos6-linux-gnu-gcc',\n",
       "        'CONDA_DEFAULT_ENV': 'base',\n",
       "        'SIZE': '/home/steven/miniconda3/bin/x86_64-conda_cos6-linux-gnu-size',\n",
       "        'GJS_DEBUG_TOPICS': 'JS ERROR;JS LOG',\n",
       "        'SESSION_MANAGER': 'local/steven-omen:@/tmp/.ICE-unix/4034,unix/steven-omen:/tmp/.ICE-unix/4034',\n",
       "        'CPP': '/home/steven/miniconda3/bin/x86_64-conda_cos6-linux-gnu-cpp',\n",
       "        'LD': '/home/steven/miniconda3/bin/x86_64-conda_cos6-linux-gnu-ld',\n",
       "        'LESSOPEN': '| /usr/bin/lesspipe %s',\n",
       "        'GTK_IM_MODULE': 'ibus',\n",
       "        '_': '/home/steven/miniconda3/bin/jupyter',\n",
       "        'OLDPWD': '/media/steven/big_boi',\n",
       "        'KERNEL_LAUNCH_TIMEOUT': '40',\n",
       "        'JPY_PARENT_PID': '7072',\n",
       "        'CLICOLOR': '1',\n",
       "        'PAGER': 'cat',\n",
       "        'GIT_PAGER': 'cat',\n",
       "        'MPLBACKEND': 'module://ipykernel.pylab.backend_inline'}"
      ]
     },
     "execution_count": 2,
     "metadata": {},
     "output_type": "execute_result"
    }
   ],
   "source": [
    "os.environ"
   ]
  },
  {
   "cell_type": "markdown",
   "metadata": {},
   "source": [
    "## basic modules"
   ]
  },
  {
   "cell_type": "code",
   "execution_count": 5,
   "metadata": {},
   "outputs": [
    {
     "ename": "ModuleNotFoundError",
     "evalue": "No module named 'werkzeug.wrappers.json'; 'werkzeug.wrappers' is not a package",
     "output_type": "error",
     "traceback": [
      "\u001b[0;31m---------------------------------------------------------------------------\u001b[0m",
      "\u001b[0;31mModuleNotFoundError\u001b[0m                       Traceback (most recent call last)",
      "\u001b[0;32m<ipython-input-5-35f193830caa>\u001b[0m in \u001b[0;36m<module>\u001b[0;34m\u001b[0m\n\u001b[1;32m      8\u001b[0m \u001b[0;32mimport\u001b[0m \u001b[0mre\u001b[0m\u001b[0;34m\u001b[0m\u001b[0;34m\u001b[0m\u001b[0m\n\u001b[1;32m      9\u001b[0m \u001b[0;32mimport\u001b[0m \u001b[0murllib\u001b[0m\u001b[0;34m\u001b[0m\u001b[0;34m\u001b[0m\u001b[0m\n\u001b[0;32m---> 10\u001b[0;31m \u001b[0;32mimport\u001b[0m \u001b[0mflask\u001b[0m\u001b[0;34m\u001b[0m\u001b[0;34m\u001b[0m\u001b[0m\n\u001b[0m\u001b[1;32m     11\u001b[0m \u001b[0;32mimport\u001b[0m \u001b[0mhttplib2\u001b[0m\u001b[0;34m\u001b[0m\u001b[0;34m\u001b[0m\u001b[0m\n\u001b[1;32m     12\u001b[0m \u001b[0;32mfrom\u001b[0m \u001b[0mretrying\u001b[0m \u001b[0;32mimport\u001b[0m \u001b[0mretry\u001b[0m\u001b[0;34m\u001b[0m\u001b[0;34m\u001b[0m\u001b[0m\n",
      "\u001b[0;32m~/miniconda3/lib/python3.7/site-packages/flask/__init__.py\u001b[0m in \u001b[0;36m<module>\u001b[0;34m\u001b[0m\n\u001b[1;32m     19\u001b[0m \u001b[0;32mfrom\u001b[0m \u001b[0;34m.\u001b[0m \u001b[0;32mimport\u001b[0m \u001b[0mjson\u001b[0m\u001b[0;34m\u001b[0m\u001b[0;34m\u001b[0m\u001b[0m\n\u001b[1;32m     20\u001b[0m \u001b[0;32mfrom\u001b[0m \u001b[0;34m.\u001b[0m\u001b[0m_compat\u001b[0m \u001b[0;32mimport\u001b[0m \u001b[0mjson_available\u001b[0m\u001b[0;34m\u001b[0m\u001b[0;34m\u001b[0m\u001b[0m\n\u001b[0;32m---> 21\u001b[0;31m \u001b[0;32mfrom\u001b[0m \u001b[0;34m.\u001b[0m\u001b[0mapp\u001b[0m \u001b[0;32mimport\u001b[0m \u001b[0mFlask\u001b[0m\u001b[0;34m\u001b[0m\u001b[0;34m\u001b[0m\u001b[0m\n\u001b[0m\u001b[1;32m     22\u001b[0m \u001b[0;32mfrom\u001b[0m \u001b[0;34m.\u001b[0m\u001b[0mapp\u001b[0m \u001b[0;32mimport\u001b[0m \u001b[0mRequest\u001b[0m\u001b[0;34m\u001b[0m\u001b[0;34m\u001b[0m\u001b[0m\n\u001b[1;32m     23\u001b[0m \u001b[0;32mfrom\u001b[0m \u001b[0;34m.\u001b[0m\u001b[0mapp\u001b[0m \u001b[0;32mimport\u001b[0m \u001b[0mResponse\u001b[0m\u001b[0;34m\u001b[0m\u001b[0;34m\u001b[0m\u001b[0m\n",
      "\u001b[0;32m~/miniconda3/lib/python3.7/site-packages/flask/app.py\u001b[0m in \u001b[0;36m<module>\u001b[0;34m\u001b[0m\n\u001b[1;32m     67\u001b[0m \u001b[0;32mfrom\u001b[0m \u001b[0;34m.\u001b[0m\u001b[0mtemplating\u001b[0m \u001b[0;32mimport\u001b[0m \u001b[0mDispatchingJinjaLoader\u001b[0m\u001b[0;34m\u001b[0m\u001b[0;34m\u001b[0m\u001b[0m\n\u001b[1;32m     68\u001b[0m \u001b[0;32mfrom\u001b[0m \u001b[0;34m.\u001b[0m\u001b[0mtemplating\u001b[0m \u001b[0;32mimport\u001b[0m \u001b[0mEnvironment\u001b[0m\u001b[0;34m\u001b[0m\u001b[0;34m\u001b[0m\u001b[0m\n\u001b[0;32m---> 69\u001b[0;31m \u001b[0;32mfrom\u001b[0m \u001b[0;34m.\u001b[0m\u001b[0mwrappers\u001b[0m \u001b[0;32mimport\u001b[0m \u001b[0mRequest\u001b[0m\u001b[0;34m\u001b[0m\u001b[0;34m\u001b[0m\u001b[0m\n\u001b[0m\u001b[1;32m     70\u001b[0m \u001b[0;32mfrom\u001b[0m \u001b[0;34m.\u001b[0m\u001b[0mwrappers\u001b[0m \u001b[0;32mimport\u001b[0m \u001b[0mResponse\u001b[0m\u001b[0;34m\u001b[0m\u001b[0;34m\u001b[0m\u001b[0m\n\u001b[1;32m     71\u001b[0m \u001b[0;34m\u001b[0m\u001b[0m\n",
      "\u001b[0;32m~/miniconda3/lib/python3.7/site-packages/flask/wrappers.py\u001b[0m in \u001b[0;36m<module>\u001b[0;34m\u001b[0m\n\u001b[1;32m     12\u001b[0m \u001b[0;32mfrom\u001b[0m \u001b[0mwerkzeug\u001b[0m\u001b[0;34m.\u001b[0m\u001b[0mwrappers\u001b[0m \u001b[0;32mimport\u001b[0m \u001b[0mRequest\u001b[0m \u001b[0;32mas\u001b[0m \u001b[0mRequestBase\u001b[0m\u001b[0;34m\u001b[0m\u001b[0;34m\u001b[0m\u001b[0m\n\u001b[1;32m     13\u001b[0m \u001b[0;32mfrom\u001b[0m \u001b[0mwerkzeug\u001b[0m\u001b[0;34m.\u001b[0m\u001b[0mwrappers\u001b[0m \u001b[0;32mimport\u001b[0m \u001b[0mResponse\u001b[0m \u001b[0;32mas\u001b[0m \u001b[0mResponseBase\u001b[0m\u001b[0;34m\u001b[0m\u001b[0;34m\u001b[0m\u001b[0m\n\u001b[0;32m---> 14\u001b[0;31m \u001b[0;32mfrom\u001b[0m \u001b[0mwerkzeug\u001b[0m\u001b[0;34m.\u001b[0m\u001b[0mwrappers\u001b[0m\u001b[0;34m.\u001b[0m\u001b[0mjson\u001b[0m \u001b[0;32mimport\u001b[0m \u001b[0mJSONMixin\u001b[0m \u001b[0;32mas\u001b[0m \u001b[0m_JSONMixin\u001b[0m\u001b[0;34m\u001b[0m\u001b[0;34m\u001b[0m\u001b[0m\n\u001b[0m\u001b[1;32m     15\u001b[0m \u001b[0;34m\u001b[0m\u001b[0m\n\u001b[1;32m     16\u001b[0m \u001b[0;32mfrom\u001b[0m \u001b[0;34m.\u001b[0m \u001b[0;32mimport\u001b[0m \u001b[0mjson\u001b[0m\u001b[0;34m\u001b[0m\u001b[0;34m\u001b[0m\u001b[0m\n",
      "\u001b[0;31mModuleNotFoundError\u001b[0m: No module named 'werkzeug.wrappers.json'; 'werkzeug.wrappers' is not a package"
     ]
    }
   ],
   "source": [
    "import logging\n",
    "import socket\n",
    "import requests\n",
    "import time\n",
    "import json\n",
    "import os\n",
    "import sys\n",
    "import re\n",
    "import urllib\n",
    "import flask\n",
    "import httplib2\n",
    "from retrying import retry\n",
    "\n",
    "from googleapiclient import discovery\n",
    "from oauth2client import GOOGLE_TOKEN_URI\n",
    "from oauth2client.client import GoogleCredentials, OAuth2Credentials\n",
    "import google.oauth2.credentials\n",
    "import google_auth_oauthlib.flow\n",
    "\n",
    "from googleapiclient.errors import HttpError"
   ]
  },
  {
   "cell_type": "code",
   "execution_count": 7,
   "metadata": {},
   "outputs": [],
   "source": [
    "logger = logging.getLogger()\n",
    "client_store = dict()\n",
    "\n",
    "MS_TOKEN_URI = 'https://login.microsoftonline.com/common/oauth2/token'\n",
    "GOOGLE_API = 'googleapis'\n",
    "AZURE_API = 'microsoftonline'"
   ]
  },
  {
   "cell_type": "code",
   "execution_count": 8,
   "metadata": {},
   "outputs": [
    {
     "ename": "FileNotFoundError",
     "evalue": "[Errno 2] No such file or directory: 'client_secret_apps.googleusercontent.com.json'",
     "output_type": "error",
     "traceback": [
      "\u001b[0;31m---------------------------------------------------------------------------\u001b[0m",
      "\u001b[0;31mFileNotFoundError\u001b[0m                         Traceback (most recent call last)",
      "\u001b[0;32m<ipython-input-8-33f95a1af2d6>\u001b[0m in \u001b[0;36m<module>\u001b[0;34m\u001b[0m\n\u001b[0;32m----> 1\u001b[0;31m \u001b[0;32mwith\u001b[0m \u001b[0mopen\u001b[0m\u001b[0;34m(\u001b[0m\u001b[0;34m'client_secret_apps.googleusercontent.com.json'\u001b[0m\u001b[0;34m,\u001b[0m \u001b[0;34m'r'\u001b[0m\u001b[0;34m)\u001b[0m \u001b[0;32mas\u001b[0m \u001b[0mf\u001b[0m\u001b[0;34m:\u001b[0m\u001b[0;34m\u001b[0m\u001b[0;34m\u001b[0m\u001b[0m\n\u001b[0m\u001b[1;32m      2\u001b[0m     \u001b[0msecret\u001b[0m \u001b[0;34m=\u001b[0m \u001b[0mjson\u001b[0m\u001b[0;34m.\u001b[0m\u001b[0mload\u001b[0m\u001b[0;34m(\u001b[0m\u001b[0mf\u001b[0m\u001b[0;34m)\u001b[0m\u001b[0;34m\u001b[0m\u001b[0;34m\u001b[0m\u001b[0m\n\u001b[1;32m      3\u001b[0m     \u001b[0msecret\u001b[0m \u001b[0;34m=\u001b[0m \u001b[0msecret\u001b[0m\u001b[0;34m[\u001b[0m\u001b[0;34m'web'\u001b[0m\u001b[0;34m]\u001b[0m\u001b[0;34m\u001b[0m\u001b[0;34m\u001b[0m\u001b[0m\n",
      "\u001b[0;31mFileNotFoundError\u001b[0m: [Errno 2] No such file or directory: 'client_secret_apps.googleusercontent.com.json'"
     ]
    }
   ],
   "source": [
    "with open('client_secret_apps.googleusercontent.com.json', 'r') as f:\n",
    "    secret = json.load(f)\n",
    "    secret = secret['web']"
   ]
  },
  {
   "cell_type": "code",
   "execution_count": 13,
   "metadata": {},
   "outputs": [
    {
     "data": {
      "text/plain": [
       "{'client_id': '408216510584-h4tlr7orlgsde8iv1huclnnop93ijadb.apps.googleusercontent.com',\n",
       " 'project_id': 'la-tools-engie',\n",
       " 'auth_uri': 'https://accounts.google.com/o/oauth2/auth',\n",
       " 'token_uri': 'https://oauth2.googleapis.com/token',\n",
       " 'auth_provider_x509_cert_url': 'https://www.googleapis.com/oauth2/v1/certs',\n",
       " 'client_secret': 'q25GiCUco7Z-ipnKcm_qCIQz',\n",
       " 'redirect_uris': ['https://la-tools-engie.southcentralus.cloudapp.azure.com/hub/oauth_callback'],\n",
       " 'javascript_origins': ['https://la-tools-engie.southcentralus.cloudapp.azure.com']}"
      ]
     },
     "execution_count": 13,
     "metadata": {},
     "output_type": "execute_result"
    }
   ],
   "source": [
    "secret"
   ]
  },
  {
   "cell_type": "code",
   "execution_count": 14,
   "metadata": {},
   "outputs": [],
   "source": [
    "flow = google_auth_oauthlib.flow.Flow.from_client_secrets_file(\n",
    "    'client_secret_apps.googleusercontent.com.json',\n",
    "    ['openid'])"
   ]
  },
  {
   "cell_type": "code",
   "execution_count": 15,
   "metadata": {},
   "outputs": [],
   "source": [
    "flow.redirect_uri = secret['redirect_uris'][0]"
   ]
  },
  {
   "cell_type": "code",
   "execution_count": 16,
   "metadata": {},
   "outputs": [],
   "source": [
    "authorization_url, state = flow.authorization_url(access_type='offline', include_granted_scopes='true')"
   ]
  },
  {
   "cell_type": "code",
   "execution_count": 17,
   "metadata": {},
   "outputs": [],
   "source": [
    "response = requests.get(authorization_url)"
   ]
  },
  {
   "cell_type": "code",
   "execution_count": 18,
   "metadata": {},
   "outputs": [
    {
     "data": {
      "text/plain": [
       "200"
      ]
     },
     "execution_count": 18,
     "metadata": {},
     "output_type": "execute_result"
    }
   ],
   "source": [
    "response.status_code"
   ]
  },
  {
   "cell_type": "code",
   "execution_count": 19,
   "metadata": {},
   "outputs": [
    {
     "data": {
      "text/plain": [
       "'https://accounts.google.com/o/oauth2/auth?response_type=code&client_id=408216510584-h4tlr7orlgsde8iv1huclnnop93ijadb.apps.googleusercontent.com&redirect_uri=https%3A%2F%2Fla-tools-engie.southcentralus.cloudapp.azure.com%2Fhub%2Foauth_callback&scope=openid&state=IAwwtCTiwGKOWDzfF71GPXMY9YI8PG&access_type=offline&include_granted_scopes=true'"
      ]
     },
     "execution_count": 19,
     "metadata": {},
     "output_type": "execute_result"
    }
   ],
   "source": [
    "authorization_url"
   ]
  },
  {
   "cell_type": "code",
   "execution_count": 20,
   "metadata": {},
   "outputs": [
    {
     "data": {
      "text/plain": [
       "'IAwwtCTiwGKOWDzfF71GPXMY9YI8PG'"
      ]
     },
     "execution_count": 20,
     "metadata": {},
     "output_type": "execute_result"
    }
   ],
   "source": [
    "state"
   ]
  },
  {
   "cell_type": "code",
   "execution_count": 21,
   "metadata": {},
   "outputs": [],
   "source": [
    "code = '4%2FswFRV4oJjVCxHhOOUWJtCHjVXfOS601I8BlEtVAeCot_dc4Au9SJvkX9EifnEFARJjuTgkHy_olVb-PqDaE3Evs'"
   ]
  },
  {
   "cell_type": "code",
   "execution_count": 22,
   "metadata": {},
   "outputs": [],
   "source": [
    "rstate = 'W5vSSOQM9JjqEl9ql9iPshKpq7GIJx'"
   ]
  },
  {
   "cell_type": "code",
   "execution_count": 23,
   "metadata": {},
   "outputs": [
    {
     "data": {
      "text/plain": [
       "<bound method Response.json of <Response [200]>>"
      ]
     },
     "execution_count": 23,
     "metadata": {},
     "output_type": "execute_result"
    }
   ],
   "source": [
    "response.json"
   ]
  },
  {
   "cell_type": "code",
   "execution_count": 24,
   "metadata": {},
   "outputs": [
    {
     "ename": "AttributeError",
     "evalue": "'Response' object has no attribute 'lower'",
     "output_type": "error",
     "traceback": [
      "\u001b[1;31m---------------------------------------------------------------------------\u001b[0m",
      "\u001b[1;31mAttributeError\u001b[0m                            Traceback (most recent call last)",
      "\u001b[1;32m<ipython-input-24-6545c9833f05>\u001b[0m in \u001b[0;36m<module>\u001b[1;34m\u001b[0m\n\u001b[1;32m----> 1\u001b[1;33m \u001b[0mflow\u001b[0m\u001b[1;33m.\u001b[0m\u001b[0mfetch_token\u001b[0m\u001b[1;33m(\u001b[0m\u001b[0mauthorization_response\u001b[0m\u001b[1;33m=\u001b[0m\u001b[0mresponse\u001b[0m\u001b[1;33m)\u001b[0m\u001b[1;33m\u001b[0m\u001b[1;33m\u001b[0m\u001b[0m\n\u001b[0m",
      "\u001b[1;32m~\\AppData\\Local\\Continuum\\miniconda3\\envs\\la-tools-test\\lib\\site-packages\\google_auth_oauthlib\\flow.py\u001b[0m in \u001b[0;36mfetch_token\u001b[1;34m(self, **kwargs)\u001b[0m\n\u001b[0;32m    278\u001b[0m         \u001b[0mkwargs\u001b[0m\u001b[1;33m.\u001b[0m\u001b[0msetdefault\u001b[0m\u001b[1;33m(\u001b[0m\u001b[1;34m'client_secret'\u001b[0m\u001b[1;33m,\u001b[0m \u001b[0mself\u001b[0m\u001b[1;33m.\u001b[0m\u001b[0mclient_config\u001b[0m\u001b[1;33m[\u001b[0m\u001b[1;34m'client_secret'\u001b[0m\u001b[1;33m]\u001b[0m\u001b[1;33m)\u001b[0m\u001b[1;33m\u001b[0m\u001b[1;33m\u001b[0m\u001b[0m\n\u001b[0;32m    279\u001b[0m         \u001b[0mkwargs\u001b[0m\u001b[1;33m.\u001b[0m\u001b[0msetdefault\u001b[0m\u001b[1;33m(\u001b[0m\u001b[1;34m'code_verifier'\u001b[0m\u001b[1;33m,\u001b[0m \u001b[0mself\u001b[0m\u001b[1;33m.\u001b[0m\u001b[0mcode_verifier\u001b[0m\u001b[1;33m)\u001b[0m\u001b[1;33m\u001b[0m\u001b[1;33m\u001b[0m\u001b[0m\n\u001b[1;32m--> 280\u001b[1;33m         return self.oauth2session.fetch_token(\n\u001b[0m\u001b[0;32m    281\u001b[0m             self.client_config['token_uri'], **kwargs)\n\u001b[0;32m    282\u001b[0m \u001b[1;33m\u001b[0m\u001b[0m\n",
      "\u001b[1;32m~\\AppData\\Local\\Continuum\\miniconda3\\envs\\la-tools-test\\lib\\site-packages\\requests_oauthlib\\oauth2_session.py\u001b[0m in \u001b[0;36mfetch_token\u001b[1;34m(self, token_url, code, authorization_response, body, auth, username, password, method, timeout, headers, verify, proxies, include_client_id, client_secret, **kwargs)\u001b[0m\n\u001b[0;32m    205\u001b[0m \u001b[1;33m\u001b[0m\u001b[0m\n\u001b[0;32m    206\u001b[0m         \u001b[1;32mif\u001b[0m \u001b[1;32mnot\u001b[0m \u001b[0mcode\u001b[0m \u001b[1;32mand\u001b[0m \u001b[0mauthorization_response\u001b[0m\u001b[1;33m:\u001b[0m\u001b[1;33m\u001b[0m\u001b[1;33m\u001b[0m\u001b[0m\n\u001b[1;32m--> 207\u001b[1;33m             self._client.parse_request_uri_response(authorization_response,\n\u001b[0m\u001b[0;32m    208\u001b[0m                     state=self._state)\n\u001b[0;32m    209\u001b[0m             \u001b[0mcode\u001b[0m \u001b[1;33m=\u001b[0m \u001b[0mself\u001b[0m\u001b[1;33m.\u001b[0m\u001b[0m_client\u001b[0m\u001b[1;33m.\u001b[0m\u001b[0mcode\u001b[0m\u001b[1;33m\u001b[0m\u001b[1;33m\u001b[0m\u001b[0m\n",
      "\u001b[1;32m~\\AppData\\Local\\Continuum\\miniconda3\\envs\\la-tools-test\\lib\\site-packages\\oauthlib\\oauth2\\rfc6749\\clients\\web_application.py\u001b[0m in \u001b[0;36mparse_request_uri_response\u001b[1;34m(self, uri, state)\u001b[0m\n\u001b[0;32m    201\u001b[0m             \u001b[0moauthlib\u001b[0m\u001b[1;33m.\u001b[0m\u001b[0moauth2\u001b[0m\u001b[1;33m.\u001b[0m\u001b[0mrfc6749\u001b[0m\u001b[1;33m.\u001b[0m\u001b[0merrors\u001b[0m\u001b[1;33m.\u001b[0m\u001b[0mMismatchingStateError\u001b[0m\u001b[1;33m\u001b[0m\u001b[1;33m\u001b[0m\u001b[0m\n\u001b[0;32m    202\u001b[0m         \"\"\"\n\u001b[1;32m--> 203\u001b[1;33m         \u001b[0mresponse\u001b[0m \u001b[1;33m=\u001b[0m \u001b[0mparse_authorization_code_response\u001b[0m\u001b[1;33m(\u001b[0m\u001b[0muri\u001b[0m\u001b[1;33m,\u001b[0m \u001b[0mstate\u001b[0m\u001b[1;33m=\u001b[0m\u001b[0mstate\u001b[0m\u001b[1;33m)\u001b[0m\u001b[1;33m\u001b[0m\u001b[1;33m\u001b[0m\u001b[0m\n\u001b[0m\u001b[0;32m    204\u001b[0m         \u001b[0mself\u001b[0m\u001b[1;33m.\u001b[0m\u001b[0mpopulate_code_attributes\u001b[0m\u001b[1;33m(\u001b[0m\u001b[0mresponse\u001b[0m\u001b[1;33m)\u001b[0m\u001b[1;33m\u001b[0m\u001b[1;33m\u001b[0m\u001b[0m\n\u001b[0;32m    205\u001b[0m         \u001b[1;32mreturn\u001b[0m \u001b[0mresponse\u001b[0m\u001b[1;33m\u001b[0m\u001b[1;33m\u001b[0m\u001b[0m\n",
      "\u001b[1;32m~\\AppData\\Local\\Continuum\\miniconda3\\envs\\la-tools-test\\lib\\site-packages\\oauthlib\\oauth2\\rfc6749\\parameters.py\u001b[0m in \u001b[0;36mparse_authorization_code_response\u001b[1;34m(uri, state)\u001b[0m\n\u001b[0;32m    259\u001b[0m \u001b[1;33m\u001b[0m\u001b[0m\n\u001b[0;32m    260\u001b[0m     \"\"\"\n\u001b[1;32m--> 261\u001b[1;33m     \u001b[1;32mif\u001b[0m \u001b[1;32mnot\u001b[0m \u001b[0mis_secure_transport\u001b[0m\u001b[1;33m(\u001b[0m\u001b[0muri\u001b[0m\u001b[1;33m)\u001b[0m\u001b[1;33m:\u001b[0m\u001b[1;33m\u001b[0m\u001b[1;33m\u001b[0m\u001b[0m\n\u001b[0m\u001b[0;32m    262\u001b[0m         \u001b[1;32mraise\u001b[0m \u001b[0mInsecureTransportError\u001b[0m\u001b[1;33m(\u001b[0m\u001b[1;33m)\u001b[0m\u001b[1;33m\u001b[0m\u001b[1;33m\u001b[0m\u001b[0m\n\u001b[0;32m    263\u001b[0m \u001b[1;33m\u001b[0m\u001b[0m\n",
      "\u001b[1;32m~\\AppData\\Local\\Continuum\\miniconda3\\envs\\la-tools-test\\lib\\site-packages\\oauthlib\\oauth2\\rfc6749\\utils.py\u001b[0m in \u001b[0;36mis_secure_transport\u001b[1;34m(uri)\u001b[0m\n\u001b[0;32m     92\u001b[0m     \u001b[1;32mif\u001b[0m \u001b[0mos\u001b[0m\u001b[1;33m.\u001b[0m\u001b[0menviron\u001b[0m\u001b[1;33m.\u001b[0m\u001b[0mget\u001b[0m\u001b[1;33m(\u001b[0m\u001b[1;34m'OAUTHLIB_INSECURE_TRANSPORT'\u001b[0m\u001b[1;33m)\u001b[0m\u001b[1;33m:\u001b[0m\u001b[1;33m\u001b[0m\u001b[1;33m\u001b[0m\u001b[0m\n\u001b[0;32m     93\u001b[0m         \u001b[1;32mreturn\u001b[0m \u001b[1;32mTrue\u001b[0m\u001b[1;33m\u001b[0m\u001b[1;33m\u001b[0m\u001b[0m\n\u001b[1;32m---> 94\u001b[1;33m     \u001b[1;32mreturn\u001b[0m \u001b[0muri\u001b[0m\u001b[1;33m.\u001b[0m\u001b[0mlower\u001b[0m\u001b[1;33m(\u001b[0m\u001b[1;33m)\u001b[0m\u001b[1;33m.\u001b[0m\u001b[0mstartswith\u001b[0m\u001b[1;33m(\u001b[0m\u001b[1;34m'https://'\u001b[0m\u001b[1;33m)\u001b[0m\u001b[1;33m\u001b[0m\u001b[1;33m\u001b[0m\u001b[0m\n\u001b[0m",
      "\u001b[1;31mAttributeError\u001b[0m: 'Response' object has no attribute 'lower'"
     ]
    }
   ],
   "source": [
    "flow.fetch_token(authorization_response=response)"
   ]
  },
  {
   "cell_type": "code",
   "execution_count": null,
   "metadata": {},
   "outputs": [],
   "source": []
  },
  {
   "cell_type": "markdown",
   "metadata": {},
   "source": [
    "## EWX API credentials"
   ]
  },
  {
   "cell_type": "code",
   "execution_count": 9,
   "metadata": {},
   "outputs": [],
   "source": [
    "namespace = 'na.engie.com'\n",
    "default_api_root = 'https://ewx-live.appspot.com/_ah/api/'\n",
    "other = 'cloud.app.energyworx.com/_ah/api'\n",
    "\n",
    "creds = {}\n",
    "bearer_token = 'ya29.ImC9BwpFb2oW4mVLAB9D7CmhXUVlz0I4wU1Ocv93ZoofAf_hzdmSc_uYp6lZH5yADgwiUh0T_SjbfXeCvw9Hy1CeRxhpea0joCyywBEcsy7TpA0VIeOnNdHm4Mb3ko8FsU0'\n",
    "auth = {'Authorization' : ' '.join(['Bearer', bearer_token])}"
   ]
  },
  {
   "cell_type": "code",
   "execution_count": 11,
   "metadata": {},
   "outputs": [],
   "source": [
    "X_API_KEY=\"626E2AA48CE14D5EA2B4DB8F2052B9FC\""
   ]
  },
  {
   "cell_type": "code",
   "execution_count": 12,
   "metadata": {},
   "outputs": [
    {
     "name": "stdout",
     "output_type": "stream",
     "text": [
      "{'Authorization': 'X-API-KEY: 626E2AA48CE14D5EA2B4DB8F2052B9FC'}\n"
     ]
    }
   ],
   "source": [
    "auth = [(\"Authorization\", ''.join(['X-API-KEY: ', X_API_KEY]))]\n",
    "auth = dict(auth)\n",
    "print(auth)"
   ]
  },
  {
   "cell_type": "code",
   "execution_count": 13,
   "metadata": {},
   "outputs": [],
   "source": [
    "response = requests.get('https://ewx-live.appspot.com/_ah/api/ewx/v1/datasource/get/NEPOOL_BECO_26701281052?alt=json', params = auth)"
   ]
  },
  {
   "cell_type": "code",
   "execution_count": 14,
   "metadata": {},
   "outputs": [
    {
     "data": {
      "text/plain": [
       "{'error': {'code': 401,\n",
       "  'errors': [{'domain': 'global',\n",
       "    'message': 'Invalid token.',\n",
       "    'reason': 'required'}],\n",
       "  'message': 'Invalid token.'}}"
      ]
     },
     "execution_count": 14,
     "metadata": {},
     "output_type": "execute_result"
    }
   ],
   "source": [
    "response.json()"
   ]
  },
  {
   "cell_type": "markdown",
   "metadata": {},
   "source": [
    "## External Service Class"
   ]
  },
  {
   "cell_type": "code",
   "execution_count": null,
   "metadata": {},
   "outputs": [],
   "source": []
  },
  {
   "cell_type": "code",
   "execution_count": 15,
   "metadata": {},
   "outputs": [],
   "source": [
    "class ExternalService(object):\n",
    "    VERSION = 'v1'\n",
    "\n",
    "    def __init__(self):\n",
    "        pass\n",
    "\n",
    "    @staticmethod\n",
    "    def _get_token_uri(token_uri):\n",
    "        if GOOGLE_API in token_uri:\n",
    "            return GOOGLE_TOKEN_URI\n",
    "        elif AZURE_API in token_uri:\n",
    "            return MS_TOKEN_URI\n",
    "        else:\n",
    "            raise RuntimeError('Unsupported OAuth provider for %s', token_uri)\n",
    "\n",
    "    @staticmethod\n",
    "    def _get_credentials(credentials=None):\n",
    "        \"\"\"\n",
    "            Checks environment in order of precedence:\n",
    "            - Environment variable GOOGLE_APPLICATION_CREDENTIALS pointing to a file with stored credentials information.\n",
    "            - Google App Engine (production and testing)\n",
    "\n",
    "        Returns:\n",
    "            (OAuth2Credentials or GoogleCredentials)\n",
    "        \"\"\"\n",
    "        if not credentials:\n",
    "            if os.environ.get('JPY_USER'):\n",
    "                # we are running in datalab, so derive the user credentials from the environment\n",
    "                # This is required for datalab to work as the user credentials are only set in the environment\n",
    "                if not os.environ.get('REFRESH_TOKEN') or not os.environ.get(\"CLIENT_ID\") or not os.environ.get(\"CLIENT_SECRET\"):\n",
    "                    raise RuntimeError(\"Not all required environment variables are found: REFRESH_TOKEN, CLIENT_ID, CLIENT_SECRET\")\n",
    "                return OAuth2Credentials(\n",
    "                    access_token=None,\n",
    "                    client_id=os.environ['CLIENT_ID'],\n",
    "                    client_secret=os.environ['CLIENT_SECRET'],\n",
    "                    refresh_token=os.environ['REFRESH_TOKEN'],\n",
    "                    token_uri=ExternalService._get_token_uri(os.environ['TOKEN_URI']),\n",
    "                    token_expiry=None,\n",
    "                    user_agent='Python client library')\n",
    "            else:\n",
    "                credentials = GoogleCredentials.get_application_default()\n",
    "                if credentials.create_scoped_required():\n",
    "                    credentials = credentials.create_scoped(SCOPES)\n",
    "                return credentials\n",
    "        if not credentials:\n",
    "            raise RuntimeError(\"Could not find proper credentials!\")\n",
    "        return credentials\n",
    "\n",
    "    @classmethod\n",
    "    def get_client(cls, api_root=None, credentials=None, http_timeout=60):\n",
    "        \"\"\"\n",
    "\n",
    "        Args:\n",
    "            namespace:\n",
    "            api_root (str):\n",
    "            credentials (ServiceAccountCredentials):\n",
    "            namespace (str):\n",
    "            http_timeout (int):\n",
    "\n",
    "        Returns:\n",
    "\n",
    "        \"\"\"\n",
    "        logging.debug(\"Creating {service_name} client\".format(service_name=cls.__name__.title()))\n",
    "        credentials = ExternalService._get_credentials(credentials)\n",
    "        http = httplib2.Http(disable_ssl_certificate_validation=True, timeout=http_timeout)\n",
    "        credentials.authorize(http)\n",
    "        discovery_url = '%s/discovery/v1/apis/ewx/%s/rest' % (api_root+'/_ah/api',  cls.VERSION)\n",
    "        logging.info(\"Discovering services using %s\", discovery_url)\n",
    "        service = discovery.build(cls.__name__.lower(), cls.VERSION, discoveryServiceUrl=discovery_url, http=http)\n",
    "        logging.info(\"Client created\")\n",
    "        return service\n",
    "\n"
   ]
  },
  {
   "cell_type": "markdown",
   "metadata": {},
   "source": [
    "## EWX client class"
   ]
  },
  {
   "cell_type": "code",
   "execution_count": null,
   "metadata": {},
   "outputs": [],
   "source": []
  },
  {
   "cell_type": "code",
   "execution_count": 6,
   "metadata": {},
   "outputs": [],
   "source": [
    "class EWX(object):\n",
    "\n",
    "    def __init__(self, namespace_id=None, api_root=None, credentials=None):\n",
    "        super(EWX, self).__init__()\n",
    "        if not namespace_id:\n",
    "            namespace_id = os.environ.get('EWX_NAMESPACE')\n",
    "            logger.warning(\"No namespace parameter could be found, so we are using the primary namespace of the user\")\n",
    "        if not api_root:\n",
    "            api_root = DEFAULT_API_ROOT\n",
    "        self.namespace_id = namespace_id\n",
    "        self.api_root = api_root\n",
    "        logger.info('Using namespace = %s and api_root = %s', namespace_id, api_root)\n",
    "        #self.client = ExternalService.get_client(api_root=api_root, credentials=credentials)\n",
    "\n",
    "        \n",
    "    def __update_namespace(self, request, asynch=False):\n",
    "        request.headers.update({'x-namespace': self.namespace_id})\n",
    "        if asynch:\n",
    "            request.headers.update({'x-async-request': asynch})\n",
    "        return request\n",
    "\n",
    "    def __execute_and_handle_response(self, request, asynch=False):\n",
    "        try:\n",
    "            updated_request = self.__update_namespace(request, asynch)\n",
    "        except Exception as ex:\n",
    "            logger.error('Namespace could not be updated: %s', ex, exc_info=True)\n",
    "            raise Exception('Namespace could not be updated: {}'.format(ex))\n",
    "        for count in range(2):\n",
    "            try:\n",
    "                return updated_request.execute(num_retries=3)\n",
    "            except socket.error as socket_error:\n",
    "                if socket_error.strerror == 'Connection reset by peer':\n",
    "                    logger.info('%s -> retry', socket_error.strerror)\n",
    "                    continue\n",
    "            except HttpError:\n",
    "                raise\n",
    "            except Exception as ex:\n",
    "                logger.error('Request failed: %s', ex, exc_info=True)\n",
    "                raise Exception('Request failed: {}'.format(ex))\n",
    "\n",
    "    def upload_file(self, filename, file_content=None, tags=None, adapter_id=None, streaming=False):\n",
    "        \"\"\"It is important to use the exact same way of uploading data when developing, so this function\n",
    "        uploads files using the EDC way. First we get the upload url to blobstore via the API (using the\n",
    "        EWX client) and then we upload to blobstore API. The prepare process is then triggered by GAE\n",
    "        when a market adapter id is given.\n",
    "\n",
    "        Args:\n",
    "            filename (str): The filename to use when uploading\n",
    "            file_content (str): The file contents to upload\n",
    "            tags (list[str]): Tags that needs to be assigned to the file to be uploaded so it can be found in the filemanager\n",
    "            adapter_id (str): The adapter id, if given, after the upload an ingest will be triggered with this market adapter id\n",
    "            streaming (bool): When set to true, it will use the streaming pipeline\n",
    "\n",
    "        Returns:\n",
    "            object\n",
    "        \"\"\"\n",
    "        def _retry_if_exception(exception):\n",
    "            \"\"\" Specify an exception you need. or just True\"\"\"\n",
    "            return isinstance(exception, RuntimeError)\n",
    "            \n",
    "        STOP_MAX_DELAY = 600000\n",
    "        WAIT_EXPONENTIAL_MAX = 10000\n",
    "        WAIT_EXPONENTIAL_MULTIPLIER = 1000\n",
    "        @retry(retry_on_exception=_retry_if_exception, wait_exponential_multiplier=WAIT_EXPONENTIAL_MULTIPLIER, wait_exponential_max=WAIT_EXPONENTIAL_MAX, stop_max_delay=STOP_MAX_DELAY)\n",
    "        def _do_upload(upload_url, files, data):\n",
    "            logging.info(\"Using upload_url: %s\", upload_url)\n",
    "            response = requests.post(upload_url, files={filename: file_content},\n",
    "                                     data=dict(adapter_id=adapter_id, streaming=streaming),\n",
    "                                     headers={'X-NAMESPACE': self.namespace_id, 'Accept': 'application/json,application/vnd.ewx.v2'})\n",
    "            if 200 <= response.status_code < 300:\n",
    "                logging.info('File %s successfully uploaded', filename)\n",
    "                return response\n",
    "            else:    \n",
    "                logging.error('File %s could not be uploaded. Error: %s %s', filename, response.status_code, response.reason)\n",
    "                raise RuntimeError('File {} could not be uploaded. Error: {} {}'.format(filename, response.status_code, response.reason))\n",
    "                \n",
    "        if not file_content:\n",
    "            raise RuntimeError(\"File content is required!\")\n",
    "        if tags is None:\n",
    "            tags = []\n",
    "        logger.info(\"Uploading %s to blobstore with size %s\", filename, len(file_content))\n",
    "        res = self.get_upload_url(tags=tags, market_adapter_id=adapter_id, use_streaming=streaming)\n",
    "        if not res:\n",
    "            raise RuntimeError(\"Did not get a valid response for upload url\")\n",
    "        upload_url = res.get('uploadUrl')\n",
    "        if not upload_url:\n",
    "            raise RuntimeError(\"Could not create an uploadUrl with filename %s, and adapter_id %s\", filename, adapter_id)\n",
    "        return _do_upload(upload_url, files={filename: file_content}, data=dict(adapter_id=adapter_id, streaming=streaming))\n",
    "\n",
    "    def download_file(self, blob_key):\n",
    "        request_url = self.api_root + '/files/get/' + blob_key\n",
    "        credentials = ExternalService._get_credentials(None)\n",
    "        import httplib2\n",
    "        http = httplib2.Http(disable_ssl_certificate_validation=True, timeout=60)\n",
    "        credentials.authorize(http)\n",
    "        response, content = http.request(request_url, method='GET', headers={\n",
    "            'X-NAMESPACE': self.namespace_id,\n",
    "            'Accept': 'application/json,application/vnd.ewx.v2',\n",
    "        })\n",
    "\n",
    "        if 200 <= response.status < 300:\n",
    "            return content\n",
    "        else:\n",
    "            raise RuntimeError('File download error: {} {}'.format(response.status, response.reason))\n",
    "            \n",
    "            \n",
    "    def get_datasource(self, id):\n",
    "        \"\"\" Gets a datasource by identifier.\n",
    "\n",
    "        Args:\n",
    "            id (str): A datasource identifier as a string.\n",
    "\n",
    "        Returns:\n",
    "            dict: A datasource dictionary.\n",
    "        \"\"\"\n",
    "        request = self.client.datasource().datasource().get(id=id)\n",
    "        return self.__execute_and_handle_response(request)\n",
    "\n",
    "      # Query\n",
    "    def execute_query(self, query, job_id=None, limit=10, page_token=None, raw_result=False, priority='interactive'):\n",
    "        \"\"\" Execute an EQL query.\n",
    "\n",
    "        Args:\n",
    "            query (str): The query as a string.\n",
    "            job_id (str): if provided, it will try to fetch the result from this job id\n",
    "            limit (int):\n",
    "            page_token (str or None):\n",
    "            raw_result (bool): return raw JSON result from API or parse into dataframe\n",
    "\n",
    "        Returns:\n",
    "            str or dict or pd.DataFrame: Results of the query in a dataframe.\n",
    "        \"\"\"\n",
    "        job_complete = False\n",
    "        while not job_complete:\n",
    "            request = self.client.query().query().execute(query=query, jobId=job_id, limit=limit, pageToken=page_token, priority=priority)\n",
    "            result = self.__execute_and_handle_response(request)\n",
    "            job_complete = result['reference'].get('jobComplete', True)\n",
    "            job_id = result['reference'].get('jobId')\n",
    "            time.sleep(0.1)\n",
    "        if isinstance(result, str) or raw_result:\n",
    "            return result\n",
    "        try:\n",
    "            return parse_result_df(result=result)\n",
    "        except Exception:\n",
    "            pass\n",
    "        try:\n",
    "            return parse_nested_structure_result_df(result=result)\n",
    "        except Exception:\n",
    "            pass\n",
    "        try:\n",
    "            return parse_tags(result=result)\n",
    "        except Exception:\n",
    "            pass\n",
    "\n",
    "    def search_files(self, filename=None, tags=None, read_only=None, created_date=None, user_id=None, market_adapter_id=None, limit=None, page_token=None):\n",
    "        request = self.client.storage().storage().files().search(filename=filename, tags=tags,\n",
    "                                                                 readOnly=read_only, createdDate=created_date,\n",
    "                                                                 userId=user_id, marketAdapterId=market_adapter_id,\n",
    "                                                                 limit=limit, pageToken=page_token)\n",
    "        return self.__execute_and_handle_response(request)\n",
    "\n",
    "    def ingest_files(self, market_adapter_id=None, use_streaming=False, file_locations=None):\n",
    "        request = self.client.storage().storage().files().ingest(body=dict(marketAdapterId=market_adapter_id, useStreaming=use_streaming,\n",
    "                                                                 fileLocations=file_locations))\n",
    "        return self.__execute_and_handle_response(request)\n",
    "\n",
    "    "
   ]
  },
  {
   "cell_type": "code",
   "execution_count": null,
   "metadata": {},
   "outputs": [],
   "source": []
  }
 ],
 "metadata": {
  "kernelspec": {
   "display_name": "Python 3",
   "language": "python",
   "name": "python3"
  },
  "language_info": {
   "codemirror_mode": {
    "name": "ipython",
    "version": 3
   },
   "file_extension": ".py",
   "mimetype": "text/x-python",
   "name": "python",
   "nbconvert_exporter": "python",
   "pygments_lexer": "ipython3",
   "version": "3.7.7"
  }
 },
 "nbformat": 4,
 "nbformat_minor": 2
}
