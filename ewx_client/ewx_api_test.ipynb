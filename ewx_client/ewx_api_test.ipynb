{
 "cells": [
  {
   "cell_type": "markdown",
   "metadata": {},
   "source": [
    "# EWX API test"
   ]
  },
  {
   "cell_type": "code",
   "execution_count": 1,
   "metadata": {},
   "outputs": [
    {
     "name": "stdout",
     "output_type": "stream",
     "text": [
      "imported modules.\n"
     ]
    }
   ],
   "source": [
    "from matplotlib import pyplot as plt\n",
    "from datetime import datetime\n",
    "import numpy as np\n",
    "import pandas as pd\n",
    "import pprint\n",
    "import json\n",
    "import os\n",
    "print('imported modules.')\n",
    "\n",
    "os.getcwd()\n",
    "os.chdir('C:\\\\Users\\\\wb5888\\\\Documents\\\\la-tools-test\\\\ewx_client')"
   ]
  },
  {
   "cell_type": "code",
   "execution_count": 2,
   "metadata": {},
   "outputs": [
    {
     "data": {
      "text/plain": [
       "['.ipynb_checkpoints',\n",
       " 'client_secret_apps.googleusercontent.com.json',\n",
       " 'client_secret_key.json',\n",
       " 'data',\n",
       " 'datasource_docs.docx',\n",
       " 'datasource_docs.odt',\n",
       " 'energyworx_client',\n",
       " 'energyworx_client-0.1-py2.py3-none-any.whl',\n",
       " 'energyworx_client-0.1.dist-info',\n",
       " 'energyworx_public',\n",
       " 'ewx-client.code-workspace',\n",
       " 'ewxv1openapi.json',\n",
       " 'ewx_api_docs.xlsx',\n",
       " 'ewx_api_test.ipynb',\n",
       " 'ewx_jr.ipynb',\n",
       " 'ewx_jr_api.py',\n",
       " 'ewx_public.ipynb',\n",
       " '__init__.py',\n",
       " '~$tasource_docs.odt',\n",
       " '~WRL0522.tmp',\n",
       " '~WRL1417.tmp',\n",
       " '~WRL2044.tmp',\n",
       " '~WRL3436.tmp']"
      ]
     },
     "execution_count": 2,
     "metadata": {},
     "output_type": "execute_result"
    }
   ],
   "source": [
    "os.listdir(os.getcwd())"
   ]
  },
  {
   "cell_type": "code",
   "execution_count": 3,
   "metadata": {},
   "outputs": [
    {
     "data": {
      "text/plain": [
       "['auth',\n",
       " 'client.py',\n",
       " 'parser',\n",
       " 'rule_importer.py',\n",
       " 'storage.py',\n",
       " '__init__.py',\n",
       " '__pycache__']"
      ]
     },
     "execution_count": 3,
     "metadata": {},
     "output_type": "execute_result"
    }
   ],
   "source": [
    "ewx_client_dir = os.path.join(os.getcwd(), 'energyworx_client')\n",
    "os.chdir(ewx_client_dir)\n",
    "os.listdir(ewx_client_dir)"
   ]
  },
  {
   "cell_type": "code",
   "execution_count": 14,
   "metadata": {},
   "outputs": [
    {
     "ename": "NameError",
     "evalue": "name 'GoogleCredentials' is not defined",
     "output_type": "error",
     "traceback": [
      "\u001b[1;31m---------------------------------------------------------------------------\u001b[0m",
      "\u001b[1;31mNameError\u001b[0m                                 Traceback (most recent call last)",
      "\u001b[1;32m<ipython-input-14-622a1d0539e6>\u001b[0m in \u001b[0;36m<module>\u001b[1;34m\u001b[0m\n\u001b[0;32m      1\u001b[0m \u001b[1;32mfrom\u001b[0m \u001b[0mclient\u001b[0m \u001b[1;32mimport\u001b[0m \u001b[0mEWX\u001b[0m\u001b[1;33m\u001b[0m\u001b[1;33m\u001b[0m\u001b[0m\n\u001b[1;32m----> 2\u001b[1;33m \u001b[0mEWX\u001b[0m\u001b[1;33m(\u001b[0m\u001b[0mnamespace_id\u001b[0m \u001b[1;33m=\u001b[0m \u001b[1;34m'na.engie.com'\u001b[0m\u001b[1;33m,\u001b[0m \u001b[0mapi_root\u001b[0m \u001b[1;33m=\u001b[0m \u001b[1;34m'https://ewx-live.appspot.com/_ah/api/'\u001b[0m\u001b[1;33m,\u001b[0m \u001b[0mcredentials\u001b[0m \u001b[1;33m=\u001b[0m \u001b[1;33m[\u001b[0m\u001b[1;33m]\u001b[0m\u001b[1;33m)\u001b[0m\u001b[1;33m\u001b[0m\u001b[1;33m\u001b[0m\u001b[0m\n\u001b[0m",
      "\u001b[1;32m~\\Documents\\la-tools-test\\ewx_client\\energyworx_client\\client.py\u001b[0m in \u001b[0;36m__init__\u001b[1;34m(self, namespace_id, api_root, credentials)\u001b[0m\n\u001b[0;32m     30\u001b[0m         \u001b[0mself\u001b[0m\u001b[1;33m.\u001b[0m\u001b[0mapi_root\u001b[0m \u001b[1;33m=\u001b[0m \u001b[0mapi_root\u001b[0m\u001b[1;33m\u001b[0m\u001b[1;33m\u001b[0m\u001b[0m\n\u001b[0;32m     31\u001b[0m         \u001b[0mlogger\u001b[0m\u001b[1;33m.\u001b[0m\u001b[0minfo\u001b[0m\u001b[1;33m(\u001b[0m\u001b[1;34m'Using namespace = %s and api_root = %s'\u001b[0m\u001b[1;33m,\u001b[0m \u001b[0mnamespace_id\u001b[0m\u001b[1;33m,\u001b[0m \u001b[0mapi_root\u001b[0m\u001b[1;33m)\u001b[0m\u001b[1;33m\u001b[0m\u001b[1;33m\u001b[0m\u001b[0m\n\u001b[1;32m---> 32\u001b[1;33m         \u001b[0mself\u001b[0m\u001b[1;33m.\u001b[0m\u001b[0mclient\u001b[0m \u001b[1;33m=\u001b[0m \u001b[0mExternalService\u001b[0m\u001b[1;33m.\u001b[0m\u001b[0mget_client\u001b[0m\u001b[1;33m(\u001b[0m\u001b[0mapi_root\u001b[0m\u001b[1;33m=\u001b[0m\u001b[0mapi_root\u001b[0m\u001b[1;33m,\u001b[0m \u001b[0mcredentials\u001b[0m\u001b[1;33m=\u001b[0m\u001b[0mcredentials\u001b[0m\u001b[1;33m)\u001b[0m\u001b[1;33m\u001b[0m\u001b[1;33m\u001b[0m\u001b[0m\n\u001b[0m\u001b[0;32m     33\u001b[0m \u001b[1;33m\u001b[0m\u001b[0m\n\u001b[0;32m     34\u001b[0m     \u001b[1;31m# ChannelClassifier\u001b[0m\u001b[1;33m\u001b[0m\u001b[1;33m\u001b[0m\u001b[1;33m\u001b[0m\u001b[0m\n",
      "\u001b[1;32m~\\Documents\\la-tools-test\\ewx_client\\energyworx_client\\auth\\external_service.py\u001b[0m in \u001b[0;36mget_client\u001b[1;34m(cls, api_root, credentials, http_timeout)\u001b[0m\n\u001b[0;32m     81\u001b[0m         \"\"\"\n\u001b[0;32m     82\u001b[0m         \u001b[0mlogging\u001b[0m\u001b[1;33m.\u001b[0m\u001b[0mdebug\u001b[0m\u001b[1;33m(\u001b[0m\u001b[1;34m\"Creating {service_name} client\"\u001b[0m\u001b[1;33m.\u001b[0m\u001b[0mformat\u001b[0m\u001b[1;33m(\u001b[0m\u001b[0mservice_name\u001b[0m\u001b[1;33m=\u001b[0m\u001b[0mcls\u001b[0m\u001b[1;33m.\u001b[0m\u001b[0m__name__\u001b[0m\u001b[1;33m.\u001b[0m\u001b[0mtitle\u001b[0m\u001b[1;33m(\u001b[0m\u001b[1;33m)\u001b[0m\u001b[1;33m)\u001b[0m\u001b[1;33m)\u001b[0m\u001b[1;33m\u001b[0m\u001b[1;33m\u001b[0m\u001b[0m\n\u001b[1;32m---> 83\u001b[1;33m         \u001b[0mcredentials\u001b[0m \u001b[1;33m=\u001b[0m \u001b[0mExternalService\u001b[0m\u001b[1;33m.\u001b[0m\u001b[0m_get_credentials\u001b[0m\u001b[1;33m(\u001b[0m\u001b[0mcredentials\u001b[0m\u001b[1;33m)\u001b[0m\u001b[1;33m\u001b[0m\u001b[1;33m\u001b[0m\u001b[0m\n\u001b[0m\u001b[0;32m     84\u001b[0m         \u001b[0mhttp\u001b[0m \u001b[1;33m=\u001b[0m \u001b[0mhttplib2\u001b[0m\u001b[1;33m.\u001b[0m\u001b[0mHttp\u001b[0m\u001b[1;33m(\u001b[0m\u001b[0mdisable_ssl_certificate_validation\u001b[0m\u001b[1;33m=\u001b[0m\u001b[1;32mTrue\u001b[0m\u001b[1;33m,\u001b[0m \u001b[0mtimeout\u001b[0m\u001b[1;33m=\u001b[0m\u001b[0mhttp_timeout\u001b[0m\u001b[1;33m)\u001b[0m\u001b[1;33m\u001b[0m\u001b[1;33m\u001b[0m\u001b[0m\n\u001b[0;32m     85\u001b[0m         \u001b[0mcredentials\u001b[0m\u001b[1;33m.\u001b[0m\u001b[0mauthorize\u001b[0m\u001b[1;33m(\u001b[0m\u001b[0mhttp\u001b[0m\u001b[1;33m)\u001b[0m\u001b[1;33m\u001b[0m\u001b[1;33m\u001b[0m\u001b[0m\n",
      "\u001b[1;32m~\\Documents\\la-tools-test\\ewx_client\\energyworx_client\\auth\\external_service.py\u001b[0m in \u001b[0;36m_get_credentials\u001b[1;34m(credentials)\u001b[0m\n\u001b[0;32m     58\u001b[0m                     user_agent='Python client library')\n\u001b[0;32m     59\u001b[0m             \u001b[1;32melse\u001b[0m\u001b[1;33m:\u001b[0m\u001b[1;33m\u001b[0m\u001b[1;33m\u001b[0m\u001b[0m\n\u001b[1;32m---> 60\u001b[1;33m                 \u001b[0mcredentials\u001b[0m \u001b[1;33m=\u001b[0m \u001b[0mGoogleCredentials\u001b[0m\u001b[1;33m.\u001b[0m\u001b[0mget_application_default\u001b[0m\u001b[1;33m(\u001b[0m\u001b[1;33m)\u001b[0m\u001b[1;33m\u001b[0m\u001b[1;33m\u001b[0m\u001b[0m\n\u001b[0m\u001b[0;32m     61\u001b[0m                 \u001b[1;32mif\u001b[0m \u001b[0mcredentials\u001b[0m\u001b[1;33m.\u001b[0m\u001b[0mcreate_scoped_required\u001b[0m\u001b[1;33m(\u001b[0m\u001b[1;33m)\u001b[0m\u001b[1;33m:\u001b[0m\u001b[1;33m\u001b[0m\u001b[1;33m\u001b[0m\u001b[0m\n\u001b[0;32m     62\u001b[0m                     \u001b[0mcredentials\u001b[0m \u001b[1;33m=\u001b[0m \u001b[0mcredentials\u001b[0m\u001b[1;33m.\u001b[0m\u001b[0mcreate_scoped\u001b[0m\u001b[1;33m(\u001b[0m\u001b[0mSCOPES\u001b[0m\u001b[1;33m)\u001b[0m\u001b[1;33m\u001b[0m\u001b[1;33m\u001b[0m\u001b[0m\n",
      "\u001b[1;31mNameError\u001b[0m: name 'GoogleCredentials' is not defined"
     ]
    }
   ],
   "source": [
    "from client import EWX\n",
    "EWX(namespace_id = 'na.engie.com', api_root = 'https://ewx-live.appspot.com/_ah/api/', credentials = [])"
   ]
  },
  {
   "cell_type": "code",
   "execution_count": 13,
   "metadata": {},
   "outputs": [
    {
     "data": {
      "text/plain": [
       "['_EWX__execute_and_handle_response',\n",
       " '_EWX__update_namespace',\n",
       " '__class__',\n",
       " '__delattr__',\n",
       " '__dict__',\n",
       " '__dir__',\n",
       " '__doc__',\n",
       " '__eq__',\n",
       " '__format__',\n",
       " '__ge__',\n",
       " '__getattribute__',\n",
       " '__gt__',\n",
       " '__hash__',\n",
       " '__init__',\n",
       " '__init_subclass__',\n",
       " '__le__',\n",
       " '__lt__',\n",
       " '__module__',\n",
       " '__ne__',\n",
       " '__new__',\n",
       " '__reduce__',\n",
       " '__reduce_ex__',\n",
       " '__repr__',\n",
       " '__setattr__',\n",
       " '__sizeof__',\n",
       " '__str__',\n",
       " '__subclasshook__',\n",
       " '__weakref__',\n",
       " 'add_channel_classifier',\n",
       " 'add_channels',\n",
       " 'add_tags',\n",
       " 'add_transport_adapter_property',\n",
       " 'create_channel_classifier',\n",
       " 'create_datasource',\n",
       " 'create_datasources',\n",
       " 'create_flowconfig',\n",
       " 'create_iot_device',\n",
       " 'create_iot_register',\n",
       " 'create_rules',\n",
       " 'create_transport_adapter',\n",
       " 'delete_flowconfig',\n",
       " 'delete_transport_adapter',\n",
       " 'download_file',\n",
       " 'execute_query',\n",
       " 'get_channel_classifier',\n",
       " 'get_datasource',\n",
       " 'get_flow_metadata',\n",
       " 'get_flowconfig',\n",
       " 'get_rule',\n",
       " 'get_timeslice_group',\n",
       " 'get_transport_adapter',\n",
       " 'get_transport_adapter_property',\n",
       " 'get_upload_url',\n",
       " 'ingest_files',\n",
       " 'list_channel_classifiers',\n",
       " 'list_datasources',\n",
       " 'list_flow_classifiers',\n",
       " 'list_flowconfigs',\n",
       " 'list_flows',\n",
       " 'list_rules',\n",
       " 'list_ruletypes',\n",
       " 'list_tags',\n",
       " 'list_transport_adapters',\n",
       " 'patch_transport_adapter',\n",
       " 'prototype_rule',\n",
       " 'read_iot_buffer',\n",
       " 'release_rule',\n",
       " 'remove_channels',\n",
       " 'remove_rule',\n",
       " 'remove_tags',\n",
       " 'search_files',\n",
       " 'start_flow',\n",
       " 'trigger_transport_adapter',\n",
       " 'update_channel_classifier',\n",
       " 'update_flowconfig',\n",
       " 'update_rule',\n",
       " 'update_tags',\n",
       " 'update_transport_adapter',\n",
       " 'upload_file']"
      ]
     },
     "execution_count": 13,
     "metadata": {},
     "output_type": "execute_result"
    }
   ],
   "source": [
    "dir(EWX)"
   ]
  },
  {
   "cell_type": "code",
   "execution_count": null,
   "metadata": {},
   "outputs": [],
   "source": []
  }
 ],
 "metadata": {
  "kernelspec": {
   "display_name": "Python 3",
   "language": "python",
   "name": "python3"
  },
  "language_info": {
   "codemirror_mode": {
    "name": "ipython",
    "version": 3
   },
   "file_extension": ".py",
   "mimetype": "text/x-python",
   "name": "python",
   "nbconvert_exporter": "python",
   "pygments_lexer": "ipython3",
   "version": "3.8.1"
  }
 },
 "nbformat": 4,
 "nbformat_minor": 2
}
