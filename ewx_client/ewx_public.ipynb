{
 "cells": [
  {
   "cell_type": "markdown",
   "metadata": {},
   "source": [
    "# ewx_public"
   ]
  },
  {
   "cell_type": "code",
   "execution_count": 3,
   "metadata": {},
   "outputs": [],
   "source": [
    "#! pip3 install google.cloud"
   ]
  },
  {
   "cell_type": "code",
   "execution_count": 48,
   "metadata": {},
   "outputs": [],
   "source": [
    "from dateutil.parser import parse\n",
    "import dateutil\n",
    "import logging\n",
    "import os\n",
    "import json\n",
    "import socket\n",
    "import requests\n",
    "import time\n",
    "import re\n",
    "import urllib\n",
    "from retrying import retry\n",
    "import pprint\n",
    "\n",
    "from googleapiclient.errors import HttpError\n",
    "\n",
    "#from auth import DEFAULT_API_ROOT\n",
    "from energyworx_public import domain, rule\n",
    "from energyworx_public.base import EnergyworxDomain, StructuredProperty, Property, EnumProperty, DateTimeProperty, MappingStructuredProperty, MappingProperty, MappingEnumProperty\n",
    "from energyworx_public.enums import MappedFieldType, TransformationMapFunctionType, TagType, UnitType, VirtualDatasourceAggregationType, DatasourceType, DatapointType, TimeslicePeriodType\n",
    "from energyworx_client import client\n",
    "#from tags import parse_tags\n",
    "#from timeseries import parse_result_df, parse_nested_structure_result_df\n",
    "\n",
    "logger = logging.getLogger()\n",
    "pp = pprint.PrettyPrinter(1)"
   ]
  },
  {
   "cell_type": "markdown",
   "metadata": {},
   "source": [
    "# Load Datasource\n",
    "load datasource object from json of datasource"
   ]
  },
  {
   "cell_type": "code",
   "execution_count": 50,
   "metadata": {},
   "outputs": [],
   "source": [
    "ds_dict = json.loads('{\"description\": \"\", \"tags\": [{\"validFrom\": \"1900-01-01T00:00:00.000000\", \"description\": \"\", \"tagLinks\": [\"\"], \"version\": \"2019-12-03T19:16:17.000000\", \"tag\": \"premise\", \"createdBy\": \"System\", \"removed\": false, \"properties\": [{\"deleted\": false, \"value\": \"MARLBOROUGH\", \"readOnly\": false, \"value_type\": \"string\", \"key\": \"city\", \"type\": \"string\"}, {\"deleted\": false, \"value\": \"TIERPOINT-MA\", \"readOnly\": false, \"value_type\": \"string\", \"key\": \"name\", \"type\": \"string\"}, {\"deleted\": false, \"value\": \"01752\", \"readOnly\": false, \"value_type\": \"string\", \"key\": \"zip\", \"type\": \"string\"}, {\"deleted\": false, \"value\": \"USA\", \"readOnly\": false, \"value_type\": \"string\", \"key\": \"country\", \"type\": \"string\"}, {\"deleted\": false, \"value\": \"Unknown\", \"readOnly\": false, \"value_type\": \"string\", \"key\": \"county\", \"type\": \"string\"}, {\"deleted\": false, \"value\": \"MA\", \"readOnly\": false, \"value_type\": \"string\", \"key\": \"state\", \"type\": \"string\"}, {\"deleted\": false, \"value\": \"34 SAINT MARTIN DR UNIT 22 UNKNOWN\", \"readOnly\": false, \"value_type\": \"string\", \"key\": \"address\", \"type\": \"string\"}, {\"deleted\": false, \"value\": \"1-XWPK9R\", \"readOnly\": false, \"value_type\": \"string\", \"key\": \"customerid\", \"type\": \"string\"}]}, {\"validFrom\": \"1900-01-01T00:00:00.000000\", \"description\": \"icap\", \"tagLinks\": [\"\"], \"version\": \"2017-11-01T19:47:48.000000\", \"tag\": \"icap_utility_2018_06_01\", \"createdBy\": \"System\", \"removed\": false, \"properties\": [{\"deleted\": false, \"value\": \"False\", \"readOnly\": false, \"value_type\": \"String\", \"key\": \"calculated\", \"type\": \"String\"}, {\"deleted\": false, \"value\": \"True\", \"readOnly\": false, \"value_type\": \"String\", \"key\": \"default\", \"type\": \"String\"}, {\"deleted\": false, \"value\": \"False\", \"readOnly\": false, \"value_type\": \"String\", \"key\": \"estimated\", \"type\": \"String\"}, {\"deleted\": false, \"value\": \"False\", \"readOnly\": false, \"value_type\": \"String\", \"key\": \"passed\", \"type\": \"String\"}, {\"deleted\": false, \"value\": \"1830.78\", \"readOnly\": false, \"value_type\": \"String\", \"key\": \"peak\", \"type\": \"String\"}, {\"deleted\": false, \"value\": \"2017-09-01 00:00:00+00:00\", \"readOnly\": false, \"value_type\": \"String\", \"key\": \"peakindex\", \"type\": \"String\"}, {\"deleted\": false, \"value\": \"-93.8438261288\", \"readOnly\": false, \"value_type\": \"String\", \"key\": \"percentagediff\", \"type\": \"String\"}, {\"deleted\": false, \"value\": \"S\", \"readOnly\": false, \"value_type\": \"String\", \"key\": \"periodstatus\", \"type\": \"String\"}, {\"deleted\": false, \"value\": \"True\", \"readOnly\": false, \"value_type\": \"String\", \"key\": \"utilityprovided\", \"type\": \"String\"}, {\"deleted\": false, \"value\": \"112.706\", \"readOnly\": false, \"value_type\": \"String\", \"key\": \"value\", \"type\": \"String\"}, {\"deleted\": false, \"value\": \"2019-05-31 23:59:59\", \"readOnly\": false, \"value_type\": \"String\", \"key\": \"valid_till\", \"type\": \"String\"}]}, {\"validFrom\": \"2019-06-01T00:00:00.000000\", \"description\": \"No description\", \"tagLinks\": [\"\"], \"version\": \"2019-12-03T19:16:18.000000\", \"tag\": \"geopoint\", \"createdBy\": \"System\", \"removed\": false, \"properties\": [{\"deleted\": false, \"value\": \"42.3129021\", \"readOnly\": false, \"value_type\": \"String\", \"key\": \"latitude\", \"type\": \"String\"}, {\"deleted\": false, \"value\": \"-71.57925709999999\", \"readOnly\": false, \"value_type\": \"String\", \"key\": \"longitude\", \"type\": \"String\"}, {\"deleted\": false, \"value\": \"34 saint martin dr unit 22 , marlborough, usa, ma, 01752\", \"readOnly\": false, \"value_type\": \"String\", \"key\": \"address\", \"type\": \"String\"}]}, {\"validFrom\": \"1900-01-01T00:00:00.000000\", \"description\": \"icap\", \"tagLinks\": [\"\"], \"version\": \"2017-11-01T19:47:48.000000\", \"tag\": \"icap_utility_2017_06_01\", \"createdBy\": \"System\", \"removed\": false, \"properties\": [{\"deleted\": false, \"value\": \"False\", \"readOnly\": false, \"value_type\": \"String\", \"key\": \"calculated\", \"type\": \"String\"}, {\"deleted\": false, \"value\": \"True\", \"readOnly\": false, \"value_type\": \"String\", \"key\": \"default\", \"type\": \"String\"}, {\"deleted\": false, \"value\": \"False\", \"readOnly\": false, \"value_type\": \"String\", \"key\": \"estimated\", \"type\": \"String\"}, {\"deleted\": false, \"value\": \"False\", \"readOnly\": false, \"value_type\": \"String\", \"key\": \"passed\", \"type\": \"String\"}, {\"deleted\": false, \"value\": \"1746.675\", \"readOnly\": false, \"value_type\": \"String\", \"key\": \"peak\", \"type\": \"String\"}, {\"deleted\": false, \"value\": \"2017-05-18 16:00:00+00:00\", \"readOnly\": false, \"value_type\": \"String\", \"key\": \"peakindex\", \"type\": \"String\"}, {\"deleted\": false, \"value\": \"-93.5473971975\", \"readOnly\": false, \"value_type\": \"String\", \"key\": \"percentagediff\", \"type\": \"String\"}, {\"deleted\": false, \"value\": \"H\", \"readOnly\": false, \"value_type\": \"String\", \"key\": \"periodstatus\", \"type\": \"String\"}, {\"deleted\": false, \"value\": \"True\", \"readOnly\": false, \"value_type\": \"String\", \"key\": \"utilityprovided\", \"type\": \"String\"}, {\"deleted\": false, \"value\": \"112.706\", \"readOnly\": false, \"value_type\": \"String\", \"key\": \"value\", \"type\": \"String\"}, {\"deleted\": false, \"value\": \"2018-05-31 23:59:59\", \"readOnly\": false, \"value_type\": \"String\", \"key\": \"valid_till\", \"type\": \"String\"}]}, {\"validFrom\": \"1900-01-01T00:00:00.000000\", \"description\": \"icap\", \"tagLinks\": [\"\"], \"version\": \"2017-11-01T19:47:48.000000\", \"tag\": \"icap_utility_2019_06_01\", \"createdBy\": \"System\", \"removed\": false, \"properties\": [{\"deleted\": false, \"value\": \"False\", \"readOnly\": false, \"value_type\": \"String\", \"key\": \"calculated\", \"type\": \"String\"}, {\"deleted\": false, \"value\": \"True\", \"readOnly\": false, \"value_type\": \"String\", \"key\": \"default\", \"type\": \"String\"}, {\"deleted\": false, \"value\": \"False\", \"readOnly\": false, \"value_type\": \"String\", \"key\": \"estimated\", \"type\": \"String\"}, {\"deleted\": false, \"value\": \"S\", \"readOnly\": false, \"value_type\": \"String\", \"key\": \"periodstatus\", \"type\": \"String\"}, {\"deleted\": false, \"value\": \"True\", \"readOnly\": false, \"value_type\": \"String\", \"key\": \"utilityprovided\", \"type\": \"String\"}, {\"deleted\": false, \"value\": \"112.706\", \"readOnly\": false, \"value_type\": \"String\", \"key\": \"value\", \"type\": \"String\"}, {\"deleted\": false, \"value\": \"2029-05-31 23:59:59\", \"readOnly\": false, \"value_type\": \"String\", \"key\": \"valid_till\", \"type\": \"String\"}]}, {\"validFrom\": \"2018-06-01T00:00:00.000000\", \"description\": \"\", \"tagLinks\": [\"\"], \"version\": \"2019-12-03T19:16:17.000000\", \"tag\": \"transactioninfo\", \"createdBy\": \"System\", \"removed\": false, \"properties\": [{\"deleted\": false, \"value\": \"ENGIE\", \"readOnly\": false, \"value_type\": \"String\", \"key\": \"customername\", \"type\": \"String\"}, {\"deleted\": false, \"value\": \"predealveepayload\", \"readOnly\": false, \"value_type\": \"string\", \"key\": \"payloadtype\", \"type\": \"string\"}, {\"deleted\": false, \"value\": \"2019-12-03 13:11:00\", \"readOnly\": false, \"value_type\": \"string\", \"key\": \"creationdate\", \"type\": \"string\"}, {\"deleted\": false, \"value\": \"1-XWPK9R\", \"readOnly\": false, \"value_type\": \"string\", \"key\": \"customerid\", \"type\": \"string\"}, {\"deleted\": false, \"value\": \"20191203131100642000_NEPOOL_MECO_0219222018\", \"readOnly\": false, \"value_type\": \"string\", \"key\": \"referenceid\", \"type\": \"string\"}]}, {\"validFrom\": \"1900-01-01T00:00:00.000000\", \"description\": \"No description\", \"tagLinks\": [\"\"], \"version\": \"2017-10-26T13:45:18.000000\", \"tag\": \"run_config\", \"createdBy\": \"System\", \"removed\": false, \"properties\": [{\"deleted\": false, \"value\": \"5629499534213120\", \"readOnly\": false, \"value_type\": \"String\", \"key\": \"delivery_idr\", \"type\": \"String\"}, {\"deleted\": false, \"value\": \"5707702298738688\", \"readOnly\": false, \"value_type\": \"String\", \"key\": \"delivery_scalar\", \"type\": \"String\"}]}, {\"validFrom\": \"2018-06-01T00:00:00.000000\", \"description\": \"No description\", \"tagLinks\": [\"\"], \"version\": \"2017-11-10T18:32:08.000000\", \"tag\": \"datasourcegroup\", \"createdBy\": \"System\", \"removed\": false, \"properties\": [{\"deleted\": false, \"value\": \"1-FRWY3E_1\", \"readOnly\": false, \"value_type\": \"String\", \"key\": \"datasourcegroupid\", \"type\": \"String\"}]}, {\"validFrom\": \"2017-06-01T00:00:00.000000\", \"description\": \"No description\", \"tagLinks\": [\"\"], \"version\": \"2017-11-01T19:47:48.000000\", \"tag\": \"datasource\", \"createdBy\": \"System\", \"removed\": false, \"properties\": [{\"deleted\": false, \"value\": \"default\", \"readOnly\": false, \"value_type\": \"String\", \"key\": \"datasource_type\", \"type\": \"String\"}, {\"deleted\": false, \"value\": \"Automatic generated datasource\", \"readOnly\": false, \"value_type\": \"String\", \"key\": \"description\", \"type\": \"String\"}, {\"deleted\": false, \"value\": \"NEPOOL_MECO_0219222018\", \"readOnly\": false, \"value_type\": \"String\", \"key\": \"id\", \"type\": \"String\"}, {\"deleted\": false, \"value\": \"NEPOOL_MECO_0219222018\", \"readOnly\": false, \"value_type\": \"String\", \"key\": \"name\", \"type\": \"String\"}, {\"deleted\": false, \"value\": \"America/New_York\", \"readOnly\": false, \"value_type\": \"String\", \"key\": \"timezone\", \"type\": \"String\"}]}, {\"validFrom\": \"1900-01-01T00:00:00.000000\", \"description\": \"icap\", \"tagLinks\": [\"\"], \"version\": \"2017-11-01T22:21:16.000000\", \"tag\": \"icap_calculated_2019_06_01\", \"createdBy\": \"System\", \"removed\": false, \"properties\": [{\"deleted\": false, \"value\": \"True\", \"readOnly\": false, \"value_type\": \"String\", \"key\": \"calculated\", \"type\": \"String\"}, {\"deleted\": false, \"value\": \"False\", \"readOnly\": false, \"value_type\": \"String\", \"key\": \"default\", \"type\": \"String\"}, {\"deleted\": false, \"value\": \"True\", \"readOnly\": false, \"value_type\": \"String\", \"key\": \"estimated\", \"type\": \"String\"}, {\"deleted\": false, \"value\": \"E\", \"readOnly\": false, \"value_type\": \"String\", \"key\": \"periodstatus\", \"type\": \"String\"}, {\"deleted\": false, \"value\": \"False\", \"readOnly\": false, \"value_type\": \"String\", \"key\": \"utilityprovided\", \"type\": \"String\"}, {\"deleted\": false, \"value\": \"1793.8759986\", \"readOnly\": false, \"value_type\": \"String\", \"key\": \"value\", \"type\": \"String\"}, {\"deleted\": false, \"value\": \"2020-05-31 23:59:59\", \"readOnly\": false, \"value_type\": \"String\", \"key\": \"valid_till\", \"type\": \"String\"}]}, {\"validFrom\": \"2019-06-01T00:00:00.000000\", \"description\": \"icap\", \"tagLinks\": [\"\"], \"version\": \"2017-11-01T22:21:16.000000\", \"tag\": \"icap_calculated_2018_06_01\", \"createdBy\": \"System\", \"removed\": false, \"properties\": [{\"deleted\": false, \"value\": \"-2.01575292498\", \"readOnly\": false, \"value_type\": \"String\", \"key\": \"percentagediff\", \"type\": \"String\"}, {\"deleted\": false, \"value\": \"2017-09-01 00:00:00+00:00\", \"readOnly\": false, \"value_type\": \"String\", \"key\": \"peakindex\", \"type\": \"String\"}, {\"deleted\": false, \"value\": \"True\", \"readOnly\": false, \"value_type\": \"String\", \"key\": \"passed\", \"type\": \"String\"}, {\"deleted\": false, \"value\": \"1830.78\", \"readOnly\": false, \"value_type\": \"String\", \"key\": \"peak\", \"type\": \"String\"}, {\"deleted\": false, \"value\": \"True\", \"readOnly\": false, \"value_type\": \"String\", \"key\": \"calculated\", \"type\": \"String\"}, {\"deleted\": false, \"value\": \"False\", \"readOnly\": false, \"value_type\": \"String\", \"key\": \"default\", \"type\": \"String\"}, {\"deleted\": false, \"value\": \"True\", \"readOnly\": false, \"value_type\": \"String\", \"key\": \"estimated\", \"type\": \"String\"}, {\"deleted\": false, \"value\": \"E\", \"readOnly\": false, \"value_type\": \"String\", \"key\": \"periodstatus\", \"type\": \"String\"}, {\"deleted\": false, \"value\": \"False\", \"readOnly\": false, \"value_type\": \"String\", \"key\": \"utilityprovided\", \"type\": \"String\"}, {\"deleted\": false, \"value\": \"1793.8759986\", \"readOnly\": false, \"value_type\": \"String\", \"key\": \"value\", \"type\": \"String\"}, {\"deleted\": false, \"value\": \"2019-05-31 23:59:59\", \"readOnly\": false, \"value_type\": \"String\", \"key\": \"valid_till\", \"type\": \"String\"}]}, {\"validFrom\": \"1900-01-01T00:00:00.000000\", \"description\": \"\", \"tagLinks\": [\"\"], \"version\": \"2019-12-03T19:16:17.000000\", \"tag\": \"metadata\", \"createdBy\": \"System\", \"removed\": false, \"properties\": [{\"deleted\": false, \"value\": \"0219222018\", \"readOnly\": false, \"value_type\": \"string\", \"key\": \"ldc_account_number\", \"type\": \"string\"}, {\"deleted\": false, \"value\": \"MECO\", \"readOnly\": false, \"value_type\": \"string\", \"key\": \"discocode\", \"type\": \"string\"}, {\"deleted\": false, \"value\": \"NEPOOL\", \"readOnly\": false, \"value_type\": \"string\", \"key\": \"market\", \"type\": \"string\"}, {\"deleted\": false, \"value\": \"WCMASS\", \"readOnly\": false, \"value_type\": \"string\", \"key\": \"zone\", \"type\": \"string\"}, {\"deleted\": false, \"value\": \"NEPOOL_MECO_0219222018\", \"readOnly\": false, \"value_type\": \"string\", \"key\": \"accountnumber\", \"type\": \"string\"}, {\"deleted\": false, \"value\": \"KWH\", \"readOnly\": false, \"value_type\": \"string\", \"key\": \"unittype\", \"type\": \"string\"}, {\"deleted\": false, \"value\": \"PRIMARY\", \"readOnly\": false, \"value_type\": \"string\", \"key\": \"lossclass\", \"type\": \"string\"}, {\"deleted\": false, \"value\": \"IDR\", \"readOnly\": false, \"value_type\": \"string\", \"key\": \"profileclass\", \"type\": \"string\"}, {\"deleted\": false, \"value\": \"I\", \"readOnly\": false, \"value_type\": \"string\", \"key\": \"profilebuilder\", \"type\": \"string\"}, {\"deleted\": false, \"value\": \"IDR\", \"readOnly\": false, \"value_type\": \"string\", \"key\": \"metertype\", \"type\": \"string\"}, {\"deleted\": false, \"value\": \"PRE_DEAL\", \"readOnly\": false, \"value_type\": \"string\", \"key\": \"stageidentifier\", \"type\": \"string\"}, {\"deleted\": false, \"value\": \"1-XWPKA5\", \"readOnly\": false, \"value_type\": \"string\", \"key\": \"prnumber\", \"type\": \"string\"}, {\"deleted\": false, \"value\": \"KW\", \"readOnly\": false, \"value_type\": \"string\", \"key\": \"totaldemandunittype\", \"type\": \"string\"}, {\"deleted\": false, \"value\": \"Y\", \"readOnly\": false, \"value_type\": \"string\", \"key\": \"forecastflag\", \"type\": \"string\"}, {\"deleted\": false, \"value\": \"17\", \"readOnly\": false, \"value_type\": \"string\", \"key\": \"meterreadcycle\", \"type\": \"string\"}, {\"deleted\": false, \"value\": \"G3\", \"readOnly\": false, \"value_type\": \"string\", \"key\": \"rateclass\", \"type\": \"string\"}]}], \"id\": \"NEPOOL_MECO_0219222018\", \"channels\": [{\"description\": \"Automatic generated channel\", \"isSource\": true, \"classifier\": \"DELIVERY_IDR\", \"unitType\": \"kWh\", \"datapointType\": \"interval\", \"id\": \"DELIVERY_IDR\", \"name\": \"Delivery Idr\"}, {\"description\": \"Automatic generated channel\", \"isSource\": true, \"classifier\": \"DELIVERY_SCALAR\", \"unitType\": \"kWh\", \"datapointType\": \"gauge\", \"id\": \"DELIVERY_SCALAR\", \"name\": \"Delivery Scalar\"}, {\"description\": \"No description\", \"isSource\": false, \"classifier\": \"FORECAST\", \"unitType\": \"kWh\", \"datapointType\": \"interval\", \"id\": \"FORECAST\", \"name\": \"No name\"}, {\"description\": \"No description\", \"isSource\": false, \"classifier\": \"LINEAR_INTERPOLATION\", \"unitType\": \"kWh\", \"datapointType\": \"interval\", \"id\": \"LINEAR_INTERPOLATION\", \"name\": \"No name\"}, {\"description\": \"No description\", \"isSource\": false, \"classifier\": \"LIKE_DAY_SUBSTITUTION\", \"unitType\": \"kWh\", \"datapointType\": \"interval\", \"id\": \"LIKE_DAY_SUBSTITUTION\", \"name\": \"No name\"}, {\"description\": \"No description\", \"isSource\": false, \"classifier\": \"MERGED\", \"unitType\": \"kWh\", \"datapointType\": \"gauge\", \"id\": \"MERGED\", \"name\": \"No name\"}, {\"name\": \"DELIVERY_SCALAR_HEARTBEAT\", \"isSource\": false, \"classifier\": \"DELIVERY_SCALAR_HEARTBEAT\", \"unitType\": \"seconds\", \"datapointType\": \"gauge\", \"id\": \"DELIVERY_SCALAR_HEARTBEAT\"}, {\"description\": \"\", \"isSource\": true, \"classifier\": \"TOTAL_DEMAND\", \"unitType\": \"kWh\", \"datapointType\": \"gauge\", \"id\": \"TOTAL_DEMAND\", \"name\": \"TOTAL_DEMAND\"}, {\"name\": \"TOTAL_DEMAND_HEARTBEAT\", \"isSource\": false, \"classifier\": \"TOTAL_DEMAND_HEARTBEAT\", \"unitType\": \"seconds\", \"datapointType\": \"gauge\", \"id\": \"TOTAL_DEMAND_HEARTBEAT\"}, {\"name\": \"DELIVERY_IDR_HEARTBEAT\", \"isSource\": false, \"classifier\": \"DELIVERY_IDR_HEARTBEAT\", \"unitType\": \"seconds\", \"datapointType\": \"gauge\", \"id\": \"DELIVERY_IDR_HEARTBEAT\"}, {\"description\": \"\", \"isSource\": true, \"classifier\": \"ICAP\", \"unitType\": \"kWh\", \"datapointType\": \"gauge\", \"id\": \"ICAP\", \"name\": \"Installed Capacity\"}, {\"name\": \"Installed Capacity_HEARTBEAT\", \"isSource\": false, \"classifier\": \"ICAP_HEARTBEAT\", \"unitType\": \"seconds\", \"datapointType\": \"gauge\", \"id\": \"ICAP_HEARTBEAT\"}, {\"description\": \"\", \"isSource\": true, \"classifier\": \"NITS\", \"unitType\": \"kWh\", \"datapointType\": \"gauge\", \"id\": \"NITS\", \"name\": \"NITS\"}, {\"name\": \"NITS_HEARTBEAT\", \"isSource\": false, \"classifier\": \"NITS_HEARTBEAT\", \"unitType\": \"seconds\", \"datapointType\": \"gauge\", \"id\": \"NITS_HEARTBEAT\"}, {\"description\": \"Channel Vee Result with classifier VEE_RESULT\", \"isSource\": false, \"classifier\": \"VEE_RESULT\", \"unitType\": \"kWh\", \"datapointType\": \"interval\", \"id\": \"VEE_RESULT\", \"name\": \"Vee Result\"}], \"readOnly\": false, \"timezone\": \"America/New_York\", \"classifier\": \"ACCOUNT\", \"name\": \"NEPOOL_MECO_0219222018\"}')"
   ]
  },
  {
   "cell_type": "markdown",
   "metadata": {},
   "source": [
    "### KeyValues"
   ]
  },
  {
   "cell_type": "code",
   "execution_count": 51,
   "metadata": {},
   "outputs": [],
   "source": [
    "class KeyValue(EnergyworxDomain):\n",
    "    key = base.Property(name=\"key\", required=True)\n",
    "    value = base.Property(name=\"value\", required=True)\n",
    "    deleted = base.Property(name=\"deleted\", default=False)\n",
    "\n",
    "    def to_dict(self):\n",
    "        return dict(key=self.key,\n",
    "                    value=self.value,\n",
    "                    read_only=self.read_only)\n",
    "    @classmethod\n",
    "    def from_dict(cls, keyvalue_dict):\n",
    "        return KeyValue(key=keyvalue_dict.get('key'),\n",
    "                        value=keyvalue_dict.get('value'),\n",
    "                        read_only=keyvalue_dict.get('read_only'))\n",
    "\n",
    "\n",
    "class KeyValueType(KeyValue):\n",
    "    value_type = base.Property(name=\"type\", required=True, default=\"String\")"
   ]
  },
  {
   "cell_type": "markdown",
   "metadata": {},
   "source": [
    "### Tags"
   ]
  },
  {
   "cell_type": "code",
   "execution_count": 52,
   "metadata": {},
   "outputs": [],
   "source": [
    "class Tag(EnergyworxDomain):\n",
    "    tag = base.Property(name=\"tag\", required=True)\n",
    "    description = base.Property(name=\"description\", default='No description')\n",
    "    valid_from = base.DateTimeProperty(name=\"validFrom\")\n",
    "    properties = base.StructuredProperty(KeyValueType, name=\"properties\", repeated=True)\n",
    "    removed = base.Property(name=\"removed\", default=False)\n",
    "    version = base.DateTimeProperty(name=\"version\")\n",
    "    is_active_scd = base.Property(name=\"isActiveSCD\", required=False)\n",
    "    tag_links = base.Property(name=\"tagLinks\", default=False)\n",
    "    created_by = base.Property(name=\"createdBy\", default=None)\n",
    "\n",
    "    def __init__(self, *args, **kwargs):\n",
    "        super(Tag, self).__init__(*args, **kwargs)\n",
    "        if not self.valid_from:\n",
    "            self.valid_from = datetime(1900,1,1,0,0,0)\n",
    "        if not self.version:\n",
    "            self.version = datetime.utcnow()\n",
    "\n",
    "    def get_property(self, property_key):\n",
    "        return next((key_value.value for key_value in self.properties if key_value.key == property_key), None)\n",
    "\n",
    "    def __eq__(self, other):\n",
    "        if isinstance(other, Tag):\n",
    "            if self.tag != other.tag:\n",
    "                return False\n",
    "            if ((self.valid_from is None and other.valid_from is not None) or\n",
    "                    (self.valid_from is not None and other.valid_from is None)):\n",
    "                return False\n",
    "            if (self.valid_from is not None and other.valid_from is not None and\n",
    "                    self.valid_from.replace(tzinfo=None) != other.valid_from.replace(tzinfo=None)):\n",
    "                return False\n",
    "            if self.description != other.description:\n",
    "                return False\n",
    "            if self.removed != other.removed:\n",
    "                return False\n",
    "            self_property_dict = {kv.key: kv.value for kv in self.properties}\n",
    "            other_property_dict = {kv.key: kv.value for kv in other.properties}\n",
    "            # check whether the two dictionaries are equal\n",
    "            if self_property_dict != other_property_dict:\n",
    "                return False\n",
    "            return True\n",
    "        else:\n",
    "            return False\n",
    "\n",
    "    def to_dict(self):\n",
    "        return dict(tag=self.tag,\n",
    "                    tag_links=self.tag_links,\n",
    "                    description=self.description,\n",
    "                    validFrom=self.valid_from.strftime(DATETIME_STRING_FORMAT) if self.valid_from else None,\n",
    "                    properties=[property.to_dict() for property in self.properties],\n",
    "                    version=self.version.strftime(DATETIME_STRING_FORMAT) if self.version else None,\n",
    "                    removed=self.removed,\n",
    "                    read_only=self.read_only,\n",
    "                    created_by=self.created_by)\n",
    "\n",
    "    @classmethod\n",
    "    def from_dict(cls, tag_dict):\n",
    "        return Tag(tag=tag_dict.get('tag'),\n",
    "                   tag_links=tag_dict.get('tag_links', []),\n",
    "                   description=tag_dict.get('description'),\n",
    "                   valid_from=dateutil.parser.parse(tag_dict.get('validFrom')),\n",
    "                   properties=[KeyValue.from_dict(keyvalue_dict) for keyvalue_dict in tag_dict.get('properties')] if tag_dict.get('properties') else None,\n",
    "                   version=dateutil.parser.parse(tag_dict.get('version')),\n",
    "                   removed=tag_dict.get('removed'),\n",
    "                   read_only=tag_dict.get('read_only'),\n",
    "                   created_by=tag_dict.get('created_by'))"
   ]
  },
  {
   "cell_type": "markdown",
   "metadata": {},
   "source": [
    "### Channels"
   ]
  },
  {
   "cell_type": "code",
   "execution_count": 56,
   "metadata": {},
   "outputs": [],
   "source": [
    "class ChannelClassifier(EnergyworxDomain):\n",
    "    unit_type = EnumProperty(UnitType, name=\"unitType\", required=True)\n",
    "    datapoint_type = EnumProperty(DatapointType, name=\"datapointType\", required=True)\n",
    "    default_flow_configuration_id = Property(name=\"defaultFlowConfigurationId\", required=False)\n",
    "    aggregation_type = EnumProperty(VirtualDatasourceAggregationType, required=False)\n",
    "    timeslice_group_model_ids = Property(name='timesliceGroupIds', repeated=True)\n",
    "    default_timeslice_group_model = Property(name='defaultTimesliceId')\n",
    "\n",
    "\n",
    "class Channel(EnergyworxDomain):\n",
    "    id = Property(name=\"id\", required=True)\n",
    "    deleted = Property(name=\"deleted\")\n",
    "    name = Property(name=\"name\")\n",
    "    classifier = Property(name=\"classifier\", required=True)\n",
    "    description = Property(name=\"description\", default=\"No description\")\n",
    "    unit_type = EnumProperty(UnitType, name=\"unitType\")\n",
    "    datapoint_type = EnumProperty(DatapointType, name=\"datapointType\")\n",
    "    is_source = Property(name=\"isSource\")\n",
    "    flow_configuration_id = Property(name=\"flowConfigurationId\", required=False)\n",
    "    # the next property is only used by the VirtualDatasources\n",
    "    aggregation_type = EnumProperty(VirtualDatasourceAggregationType, required=False)\n",
    "\n",
    "    # TODO DELETE: This line can be removed once all clients are migrated\n",
    "    datasource_type = EnumProperty(DatasourceType, name=\"datasourceType\")"
   ]
  },
  {
   "cell_type": "markdown",
   "metadata": {},
   "source": [
    "## Set up tags, channels"
   ]
  },
  {
   "cell_type": "code",
   "execution_count": 67,
   "metadata": {},
   "outputs": [],
   "source": [
    "ds_tags = ds_dict['tags'][0]\n",
    "ds_tag_obj = Tag.from_dict(ds_tags)"
   ]
  },
  {
   "cell_type": "code",
   "execution_count": 68,
   "metadata": {},
   "outputs": [],
   "source": [
    "ds_channels = ds['channels']"
   ]
  },
  {
   "cell_type": "code",
   "execution_count": 77,
   "metadata": {},
   "outputs": [
    {
     "data": {
      "text/plain": [
       "'DELIVERY_IDR'"
      ]
     },
     "execution_count": 77,
     "metadata": {},
     "output_type": "execute_result"
    }
   ],
   "source": [
    "ds_channels[0]['id']"
   ]
  },
  {
   "cell_type": "code",
   "execution_count": 89,
   "metadata": {},
   "outputs": [],
   "source": [
    "ds_ch_obj = []\n",
    "\n",
    "for c in ds_channels:\n",
    "        new_ch = Channel()\n",
    "        try:\n",
    "            new_ch.description = c['description']\n",
    "        except:\n",
    "            new_ch.description = ''\n",
    "        new_ch.is_source = c['isSource']\n",
    "        new_ch.classifier = c['classifier']\n",
    "        new_ch.unit_type = c['unitType']\n",
    "        new_ch.datapoint_type = c['datapointType']\n",
    "        new_ch.id = c['id']\n",
    "        new_ch.name = c['name']\n",
    "        ds_ch_obj.append(new_ch)\n",
    "    "
   ]
  },
  {
   "cell_type": "markdown",
   "metadata": {},
   "source": [
    "## Set up Datasource"
   ]
  },
  {
   "cell_type": "code",
   "execution_count": 90,
   "metadata": {},
   "outputs": [
    {
     "data": {
      "text/plain": [
       "dict_keys(['description', 'tags', 'id', 'channels', 'readOnly', 'timezone', 'classifier', 'name'])"
      ]
     },
     "execution_count": 90,
     "metadata": {},
     "output_type": "execute_result"
    }
   ],
   "source": [
    "ds_dict.keys()"
   ]
  },
  {
   "cell_type": "code",
   "execution_count": 92,
   "metadata": {},
   "outputs": [],
   "source": [
    "datasource = Datasource()"
   ]
  },
  {
   "cell_type": "code",
   "execution_count": 108,
   "metadata": {},
   "outputs": [],
   "source": [
    "datasource.channels = ds_ch_obj\n",
    "datasource.tags = StructuredProperty(ds_tag_obj)\n",
    "datasource.name = Property(ds['name'])"
   ]
  },
  {
   "cell_type": "code",
   "execution_count": null,
   "metadata": {},
   "outputs": [],
   "source": []
  },
  {
   "cell_type": "code",
   "execution_count": 110,
   "metadata": {},
   "outputs": [
    {
     "ename": "AttributeError",
     "evalue": "type object 'Datasource' has no attribute 'attr_by_prop_name'",
     "output_type": "error",
     "traceback": [
      "\u001b[1;31m---------------------------------------------------------------------------\u001b[0m",
      "\u001b[1;31mAttributeError\u001b[0m                            Traceback (most recent call last)",
      "\u001b[1;32m<ipython-input-110-5e99bee575f7>\u001b[0m in \u001b[0;36m<module>\u001b[1;34m\u001b[0m\n\u001b[1;32m----> 1\u001b[1;33m \u001b[0mdatasource\u001b[0m\u001b[1;33m.\u001b[0m\u001b[0mfrom_message\u001b[0m\u001b[1;33m(\u001b[0m\u001b[0mds_dict\u001b[0m\u001b[1;33m)\u001b[0m\u001b[1;33m\u001b[0m\u001b[1;33m\u001b[0m\u001b[0m\n\u001b[0m",
      "\u001b[1;32m~\\la-tools-test\\ewx_client\\energyworx_public\\base.py\u001b[0m in \u001b[0;36mfrom_message\u001b[1;34m(cls, message)\u001b[0m\n\u001b[0;32m    126\u001b[0m         \u001b[1;32mfor\u001b[0m \u001b[0mprop_name\u001b[0m\u001b[1;33m,\u001b[0m \u001b[0mvalue\u001b[0m \u001b[1;32min\u001b[0m \u001b[0mmessage\u001b[0m\u001b[1;33m.\u001b[0m\u001b[0mitems\u001b[0m\u001b[1;33m(\u001b[0m\u001b[1;33m)\u001b[0m\u001b[1;33m:\u001b[0m\u001b[1;33m\u001b[0m\u001b[1;33m\u001b[0m\u001b[0m\n\u001b[0;32m    127\u001b[0m             \u001b[0mlogger\u001b[0m\u001b[1;33m.\u001b[0m\u001b[0mdebug\u001b[0m\u001b[1;33m(\u001b[0m\u001b[1;34m'property {prop_name}, value: {value}'\u001b[0m\u001b[1;33m.\u001b[0m\u001b[0mformat\u001b[0m\u001b[1;33m(\u001b[0m\u001b[0mprop_name\u001b[0m\u001b[1;33m=\u001b[0m\u001b[0mprop_name\u001b[0m\u001b[1;33m,\u001b[0m \u001b[0mvalue\u001b[0m\u001b[1;33m=\u001b[0m\u001b[0mvalue\u001b[0m\u001b[1;33m)\u001b[0m\u001b[1;33m)\u001b[0m\u001b[1;33m\u001b[0m\u001b[1;33m\u001b[0m\u001b[0m\n\u001b[1;32m--> 128\u001b[1;33m             \u001b[0mattr\u001b[0m \u001b[1;33m=\u001b[0m \u001b[0mcls\u001b[0m\u001b[1;33m.\u001b[0m\u001b[0mattr_by_prop_name\u001b[0m\u001b[1;33m.\u001b[0m\u001b[0mget\u001b[0m\u001b[1;33m(\u001b[0m\u001b[0mprop_name\u001b[0m\u001b[1;33m)\u001b[0m \u001b[1;32mor\u001b[0m \u001b[1;33m(\u001b[0m\u001b[0msuper\u001b[0m\u001b[1;33m(\u001b[0m\u001b[0mcls\u001b[0m\u001b[1;33m,\u001b[0m \u001b[0mcls\u001b[0m\u001b[1;33m)\u001b[0m\u001b[1;33m.\u001b[0m\u001b[0mattr_by_prop_name\u001b[0m\u001b[1;33m.\u001b[0m\u001b[0mget\u001b[0m\u001b[1;33m(\u001b[0m\u001b[0mprop_name\u001b[0m\u001b[1;33m)\u001b[0m\u001b[1;33m)\u001b[0m\u001b[1;33m\u001b[0m\u001b[1;33m\u001b[0m\u001b[0m\n\u001b[0m\u001b[0;32m    129\u001b[0m             \u001b[1;32mif\u001b[0m \u001b[1;32mnot\u001b[0m \u001b[0mattr\u001b[0m\u001b[1;33m:\u001b[0m\u001b[1;33m\u001b[0m\u001b[1;33m\u001b[0m\u001b[0m\n\u001b[0;32m    130\u001b[0m                 \u001b[1;32mraise\u001b[0m \u001b[0mAttributeError\u001b[0m\u001b[1;33m(\u001b[0m\u001b[1;34m'Property name {prop_name} can not be mapped to a domain attribute on domain class {class_name}'\u001b[0m\u001b[1;33m.\u001b[0m\u001b[0mformat\u001b[0m\u001b[1;33m(\u001b[0m\u001b[0mprop_name\u001b[0m\u001b[1;33m=\u001b[0m\u001b[0mprop_name\u001b[0m\u001b[1;33m,\u001b[0m \u001b[0mclass_name\u001b[0m\u001b[1;33m=\u001b[0m\u001b[0mcls\u001b[0m\u001b[1;33m.\u001b[0m\u001b[0m__name__\u001b[0m\u001b[1;33m)\u001b[0m\u001b[1;33m)\u001b[0m\u001b[1;33m\u001b[0m\u001b[1;33m\u001b[0m\u001b[0m\n",
      "\u001b[1;31mAttributeError\u001b[0m: type object 'Datasource' has no attribute 'attr_by_prop_name'"
     ]
    }
   ],
   "source": [
    "datasource.from_message(ds_dict)"
   ]
  },
  {
   "cell_type": "code",
   "execution_count": 104,
   "metadata": {},
   "outputs": [],
   "source": [
    "__meta__ = EnergyworxDomainMeta"
   ]
  },
  {
   "cell_type": "code",
   "execution_count": 9,
   "metadata": {},
   "outputs": [
    {
     "ename": "TypeError",
     "evalue": "__new__() missing 3 required positional arguments: 'name', 'bases', and 'dct'",
     "output_type": "error",
     "traceback": [
      "\u001b[1;31m---------------------------------------------------------------------------\u001b[0m",
      "\u001b[1;31mTypeError\u001b[0m                                 Traceback (most recent call last)",
      "\u001b[1;32m<ipython-input-9-79a2223c9496>\u001b[0m in \u001b[0;36m<module>\u001b[1;34m\u001b[0m\n\u001b[1;32m----> 1\u001b[1;33m \u001b[0mdom\u001b[0m \u001b[1;33m=\u001b[0m \u001b[0mEnergyworxDomainMeta\u001b[0m\u001b[1;33m(\u001b[0m\u001b[1;33m)\u001b[0m\u001b[1;33m\u001b[0m\u001b[1;33m\u001b[0m\u001b[0m\n\u001b[0m",
      "\u001b[1;31mTypeError\u001b[0m: __new__() missing 3 required positional arguments: 'name', 'bases', and 'dct'"
     ]
    }
   ],
   "source": [
    "dom = EnergyworxDomainMeta()"
   ]
  },
  {
   "cell_type": "code",
   "execution_count": null,
   "metadata": {},
   "outputs": [],
   "source": []
  },
  {
   "cell_type": "code",
   "execution_count": null,
   "metadata": {},
   "outputs": [],
   "source": []
  },
  {
   "cell_type": "markdown",
   "metadata": {},
   "source": [
    "### EWX Domain Classes"
   ]
  },
  {
   "cell_type": "code",
   "execution_count": 62,
   "metadata": {},
   "outputs": [],
   "source": [
    "class EnergyworxDomainMeta(type):\n",
    "    \"\"\"\n",
    "    A metaclass which is used to add extra attributes 'attr_by_prop_name' and 'prop_by_attr' to every domain class\n",
    "    \"\"\"\n",
    "    def __new__(mcs, name, bases, dct):\n",
    "        new_class = super(EnergyworxDomainMeta, mcs).__new__(mcs, name, bases, dct)\n",
    "        attr_by_prop_name = {}\n",
    "        prop_by_attr = {}\n",
    "        for attr, value in dct.items():\n",
    "            if isinstance(value, base.Property):\n",
    "                setattr(value, 'attr_name', attr)\n",
    "                attr_by_prop_name.update({value.name: attr})\n",
    "                prop_by_attr.update({attr: value})\n",
    "\n",
    "        if attr_by_prop_name:\n",
    "            new_class.attr_by_prop_name = attr_by_prop_name\n",
    "\n",
    "        if prop_by_attr:\n",
    "            new_class.prop_by_attr = prop_by_attr\n",
    "\n",
    "        return new_class\n",
    "\n",
    "class EnergyworxDomain(object):\n",
    "\n",
    "    \"\"\" Base class for every domain class \"\"\"\n",
    "\n",
    "    __metaclass__ = EnergyworxDomainMeta\n",
    "\n",
    "    id = base.Property(name=\"id\", required=True)\n",
    "    read_only = base.Property(name=\"readOnly\", default=False)\n",
    "\n",
    "    def __init__(self, **kwargs):\n",
    "        for attr, value in kwargs.items():\n",
    "            setattr(self, attr, value)\n",
    "\n",
    "    @classmethod\n",
    "    def from_message(cls, message):\n",
    "        \"\"\"\n",
    "        Create domain object from a protojson message\n",
    "        Args:\n",
    "            message(dict(str, str)): proto json\n",
    "\n",
    "        Returns:\n",
    "            (EnergyworxDomain): a domain object\n",
    "        \"\"\"\n",
    "        kwargs = {}\n",
    "        for prop_name, value in message.items():\n",
    "            logger.debug('property {prop_name}, value: {value}'.format(prop_name=prop_name, value=value))\n",
    "            attr = cls.attr_by_prop_name.get(prop_name) or (super(cls, cls).attr_by_prop_name.get(prop_name))\n",
    "            if not attr:\n",
    "                raise AttributeError('Property name {prop_name} can not be mapped to a domain attribute on domain class {class_name}'.format(prop_name=prop_name, class_name=cls.__name__))\n",
    "            prop = cls.prop_by_attr.get(attr) or (super(cls, cls).prop_by_attr.get(attr))\n",
    "            if not prop:\n",
    "                raise AttributeError('Attribute {attr_name} can not be mapped to a property instance on domain class {class_name}'.format(attr_name=attr, class_name=cls.__name__))\n",
    "\n",
    "            if isinstance(prop, StructuredProperty):\n",
    "                if prop.repeated:\n",
    "                    kwargs.update({attr: [prop.domain_class.from_message(v) for v in value]})\n",
    "                else:\n",
    "                    kwargs.update({attr: prop.domain_class.from_message(value)})\n",
    "            elif isinstance(prop, EnumProperty):\n",
    "                kwargs.update({attr: str_to_enum(prop.enum_type, value)})\n",
    "            elif isinstance(prop, DateTimeProperty):\n",
    "                kwargs.update({attr: parse(value)})\n",
    "            else:\n",
    "                kwargs.update({attr: value})\n",
    "        return cls(**kwargs)\n",
    "\n",
    "    def to_message(self):\n",
    "        \"\"\"\n",
    "        Create a dict based on property name and attribute\n",
    "        Returns:\n",
    "            (dict): a dict based on property name and attribute value\n",
    "        \"\"\"\n",
    "        prop_by_attr = {}\n",
    "        prop_by_attr.update(self.prop_by_attr.iteritems())\n",
    "        if not prop_by_attr.get('id') and EnergyworxDomain in self.__class__.__bases__:\n",
    "            prop_by_attr['id'] = super(self.__class__, self).prop_by_attr.get('id')\n",
    "\n",
    "        message = {}\n",
    "        for attr, prop in prop_by_attr.iteritems():\n",
    "            if isinstance(prop, StructuredProperty):\n",
    "                if prop.repeated:\n",
    "                    message.update({prop.name: [item.to_message() for item in getattr(self, attr)]})\n",
    "                else:\n",
    "                    message.update({prop.name: getattr(self, attr).to_message()})\n",
    "            elif isinstance(prop, EnumProperty):\n",
    "                message.update({prop.name: getattr(self, attr).name if getattr(self, attr) else None})\n",
    "            elif isinstance(prop, DateTimeProperty):\n",
    "                message.update({prop.name: getattr(self, attr).replace(tzinfo=None).strftime('%Y-%m-%dT%H:%M:%S.%f') if getattr(self, attr) else None})\n",
    "            elif getattr(self, attr):\n",
    "                message.update({prop.name: getattr(self, attr)})\n",
    "        return message"
   ]
  },
  {
   "cell_type": "code",
   "execution_count": 61,
   "metadata": {},
   "outputs": [],
   "source": [
    "class Datasource(EnergyworxDomain):\n",
    "    channels = StructuredProperty(Channel, name=\"channels\", repeated=True)\n",
    "    tags = StructuredProperty(Tag, name=\"tags\", repeated=True)\n",
    "    name = Property(name=\"name\", required=True)\n",
    "    description = Property(name=\"description\", required=False, default=\"No description\")\n",
    "    timezone = Property(name=\"timezone\", required=False)\n",
    "    filter = Property(name=\"filter\", required=False)\n",
    "    limit = Property(name=\"limit\")\n",
    "    more = Property(name=\"more\")\n",
    "    updated_datetime = Property(name=\"updatedDatetime\")\n",
    "    created_datetime = Property(name=\"createdDatetime\")\n",
    "    classifier = Property(name=\"classifier\", required=False)\n",
    "\n",
    "    def get_channel_by_id(self, channel_id):\n",
    "        for channel in self.channels:\n",
    "            if channel.id == channel_id:\n",
    "                return channel\n",
    "\n",
    "    def get_channel_by_classifier(self, channel_classifier):\n",
    "        for channel in self.channels:\n",
    "            if channel.classifier == channel_classifier:\n",
    "\n",
    "                return channel\n",
    "\n",
    "    def get_source_channels(self):\n",
    "        for channel in self.channels:\n",
    "            if channel.is_source:\n",
    "                yield channel\n",
    "\n",
    "    def get_tag(self, tag_name, latest_version=False, active_versions=False, all_versions=False):\n",
    "        \"\"\" Get the tag with name tag_id. You have the option to select\n",
    "        the latest version, the active versions and/or all versions. A\n",
    "        tuple with three values will always be returned, however, only\n",
    "        the parameters with value True will actually return the wanted\n",
    "        tags. The order of the return values in the returned tuple is:\n",
    "        latest_version, active_versions, all_versions.\n",
    "\n",
    "        Args:\n",
    "            tag_name (str): Name of the tag to be retrieved\n",
    "            latest_version (bool):\n",
    "            active_versions (bool):\n",
    "            all_versions (bool):\n",
    "\n",
    "        Returns:\n",
    "\n",
    "            tuple[Tag, list[Tag], list[Tag]]: if a list of tags is returned,\n",
    "                the list is sorted in asceding order based on tag.version\n",
    "        \"\"\"\n",
    "        corresponding_tags = filter(lambda tag: tag.tag == tag_name, self.tags)  # type: Union[str, unicode, Tuple[Any, ...], List[Any]]\n",
    "        if not corresponding_tags:\n",
    "            # no tags found for tag_name\n",
    "            logger.warn(\"No tag found for name: %s\", tag_name)\n",
    "            return None, [], []\n",
    "        # sort the tags based on the version attribute in ascending order\n",
    "        corresponding_tags = sorted(corresponding_tags, key=operator.attrgetter('version'), reverse=False)\n",
    "        # prepare latest version response\n",
    "        latest_version_result = None\n",
    "        if latest_version:\n",
    "            latest_version_result = corresponding_tags[-1]\n",
    "        # prepare active versions response\n",
    "        active_versions_result = []\n",
    "        if active_versions:\n",
    "            # filters out any tag versions that are overruled in the SCD timeline\n",
    "            valid_froms = [t.valid_from for t in corresponding_tags]\n",
    "            active_versions_result = []\n",
    "            latest_active_valid_from = datetime(3000, 1, 1, 1, tzinfo=pytz.UTC)\n",
    "            for idx in range(-1, -(len(valid_froms) + 1), -1):\n",
    "                valid_from = valid_froms[idx]\n",
    "                if valid_from < latest_active_valid_from:\n",
    "                    # prepend the tag to get a list of tags in ascending order (based on version)\n",
    "                    active_versions_result.insert(0, corresponding_tags[idx])\n",
    "                    latest_active_valid_from = valid_from\n",
    "        # prepare all versions response\n",
    "        all_versions_result = []\n",
    "        if all_versions:\n",
    "            all_versions_result = corresponding_tags\n",
    "        return latest_version_result, active_versions_result, all_versions_result\n",
    "\n",
    "    def cache_compare(self, cache_datasource):\n",
    "        \"\"\"\n",
    "        Only compare the available channels and tags against cached datasource ignore channels that are available\n",
    "        in cached datasource that are not available in this instance\n",
    "        \"\"\"\n",
    "        return cache_datasource is not None and all([cache_datasource is not None,\n",
    "                                                     self.id == cache_datasource.id,\n",
    "                                                     self.name == cache_datasource.name,\n",
    "                                                     self.description == cache_datasource.description,\n",
    "                                                     self.classifier == cache_datasource.classifier,\n",
    "                                                     self.timezone == cache_datasource.timezone,\n",
    "                                                     self.filter == cache_datasource.filter,\n",
    "                                                     all([channel == cache_datasource.get_channel_by_id(channel.id) for channel in self.channels]),\n",
    "                                                     all([any([tag == version for version in cache_datasource.get_tag(tag.tag, all_versions=True)[2]]) for tag in self.tags])])\n",
    "\n",
    "    def __eq__(self, other):\n",
    "        if isinstance(other, Datasource):\n",
    "            if (self.id != other.id or\n",
    "                    self.name != other.name or\n",
    "                    self.description != other.description or\n",
    "                    self.classifier != other.classifier or\n",
    "                    self.timezone != other.timezone):\n",
    "                return False\n",
    "            if len(self.tags) != len(other.tags):\n",
    "                return False\n",
    "            for _tag in self.tags:\n",
    "                if _tag not in other.tags:\n",
    "                    return False\n",
    "            if len(self.channels) != len(other.channels):\n",
    "                return False\n",
    "            for _channel in self.channels:\n",
    "                if _channel not in other.channels:\n",
    "                    return False\n",
    "            return True\n",
    "        else:\n",
    "            return False"
   ]
  },
  {
   "cell_type": "code",
   "execution_count": null,
   "metadata": {},
   "outputs": [],
   "source": []
  },
  {
   "cell_type": "code",
   "execution_count": null,
   "metadata": {},
   "outputs": [],
   "source": []
  },
  {
   "cell_type": "code",
   "execution_count": null,
   "metadata": {},
   "outputs": [],
   "source": []
  }
 ],
 "metadata": {
  "kernelspec": {
   "display_name": "Python 3",
   "language": "python",
   "name": "python3"
  },
  "language_info": {
   "codemirror_mode": {
    "name": "ipython",
    "version": 3
   },
   "file_extension": ".py",
   "mimetype": "text/x-python",
   "name": "python",
   "nbconvert_exporter": "python",
   "pygments_lexer": "ipython3",
   "version": "3.7.4"
  }
 },
 "nbformat": 4,
 "nbformat_minor": 2
}
