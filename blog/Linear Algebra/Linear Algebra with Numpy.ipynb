{
 "cells": [
  {
   "cell_type": "markdown",
   "metadata": {},
   "source": [
    "# Linear Algebra with Numpy"
   ]
  },
  {
   "cell_type": "markdown",
   "metadata": {},
   "source": [
    "Numpy is a powerful, open source library in Python that can be used for a variety of linear algebra tasks. It can be installed via the command line with the following command:"
   ]
  },
  {
   "cell_type": "markdown",
   "metadata": {},
   "source": [
    "```sh\n",
    "pip install numpy\n",
    "```"
   ]
  },
  {
   "cell_type": "markdown",
   "metadata": {},
   "source": [
    "Once Numpy is installed, it can be imported in Python as follows. To make a matrix or *numpy array*, we can create it from lists representing rows. Other data structures can be turned into numpy arrays using this command as well. Some attributes of the array are shown. These include the rows and columns (*shape*), number of dimensions (*ndim*), transpose (*T*) along with the matrix itself."
   ]
  },
  {
   "cell_type": "code",
   "execution_count": 20,
   "metadata": {},
   "outputs": [
    {
     "name": "stdout",
     "output_type": "stream",
     "text": [
      "[[1 3 2 5]\n",
      " [4 2 2 1]\n",
      " [6 5 1 3]]\n",
      "(3, 4)\n",
      "2\n",
      "[[1 4 6]\n",
      " [3 2 5]\n",
      " [2 2 1]\n",
      " [5 1 3]]\n"
     ]
    }
   ],
   "source": [
    "import numpy as np\n",
    "\n",
    "X = np.array([[1, 3, 2, 5], [4, 2, 2, 1], [6, 5, 1, 3]])\n",
    "\n",
    "print(X)\n",
    "print(X.shape)\n",
    "print(X.ndim)\n",
    "print(X.T)"
   ]
  },
  {
   "cell_type": "code",
   "execution_count": 2,
   "metadata": {},
   "outputs": [
    {
     "name": "stdout",
     "output_type": "stream",
     "text": [
      "[0.   0.25 0.5  0.75 1.  ]\n"
     ]
    }
   ],
   "source": [
    "#linspace makes equal divisions from a start to end point\n",
    "A = np.linspace(0, 1, 5)\n",
    "print(A)"
   ]
  },
  {
   "cell_type": "code",
   "execution_count": 3,
   "metadata": {},
   "outputs": [
    {
     "name": "stdout",
     "output_type": "stream",
     "text": [
      "[[1 0 0 0]\n",
      " [0 2 0 0]\n",
      " [0 0 3 0]\n",
      " [0 0 0 4]]\n"
     ]
    }
   ],
   "source": [
    "#makes diagonal matrices\n",
    "B = np.diag(np.array([1,2,3,4]))\n",
    "print(B)"
   ]
  },
  {
   "cell_type": "code",
   "execution_count": 4,
   "metadata": {},
   "outputs": [
    {
     "name": "stdout",
     "output_type": "stream",
     "text": [
      "[0.60805265 0.06967698 0.79379412 0.31224288]\n"
     ]
    }
   ],
   "source": [
    "#random numbers from uniform dist\n",
    "C = np.random.rand(4)\n",
    "print(C)"
   ]
  },
  {
   "cell_type": "code",
   "execution_count": 5,
   "metadata": {},
   "outputs": [
    {
     "name": "stdout",
     "output_type": "stream",
     "text": [
      "[ 0.00622999 -0.44102127 -3.04464332 -0.22858529]\n"
     ]
    }
   ],
   "source": [
    "#random numbers from normal dist\n",
    "D = np.random.randn(4)\n",
    "print(D)"
   ]
  },
  {
   "cell_type": "code",
   "execution_count": 7,
   "metadata": {},
   "outputs": [
    {
     "name": "stdout",
     "output_type": "stream",
     "text": [
      "[[  8.02409067   7.99588299   2.46041829   6.74205228]\n",
      " [ -7.55420173  -5.55617296  -1.71932086  -3.02253319]\n",
      " [-10.81817209  -3.23573173  -4.4072639    1.2076308 ]\n",
      " [ 12.34396642  11.2679453    2.32499263   7.80566145]]\n"
     ]
    }
   ],
   "source": [
    "E = np.random.randn(4)\n",
    "Y = np.array([C, D, E])\n",
    "\n",
    "print(Y.T.dot(X)) #matrix multiplication"
   ]
  },
  {
   "cell_type": "code",
   "execution_count": 8,
   "metadata": {},
   "outputs": [
    {
     "name": "stdout",
     "output_type": "stream",
     "text": [
      "[11 10  5  9]\n",
      "[11  9 15]\n",
      "35\n"
     ]
    }
   ],
   "source": [
    "print(X.sum(axis=0)) #col sums\n",
    "print(X.sum(axis=1)) #row sums\n",
    "print(X.sum()) #total sum"
   ]
  },
  {
   "cell_type": "code",
   "execution_count": 18,
   "metadata": {},
   "outputs": [
    {
     "name": "stdout",
     "output_type": "stream",
     "text": [
      "[1 2 1 1]\n",
      "[6 5 2 5]\n",
      "[0 1 2 1]\n",
      "[2 2 0 0]\n",
      "[3.66666667 3.33333333 1.66666667 3.        ]\n",
      "[2.05480467 1.24721913 0.47140452 1.63299316]\n"
     ]
    }
   ],
   "source": [
    "print(np.amin(X, axis = 0))\n",
    "print(np.amax(X, axis = 0))\n",
    "print(np.argmin(X, axis = 0))\n",
    "print(np.argmax(X, axis = 0))\n",
    "print(np.mean(X, axis = 0))\n",
    "print(np.std(X, axis = 0))"
   ]
  },
  {
   "cell_type": "code",
   "execution_count": null,
   "metadata": {},
   "outputs": [],
   "source": []
  }
 ],
 "metadata": {
  "kernelspec": {
   "display_name": "Python 3",
   "language": "python",
   "name": "python3"
  },
  "language_info": {
   "codemirror_mode": {
    "name": "ipython",
    "version": 3
   },
   "file_extension": ".py",
   "mimetype": "text/x-python",
   "name": "python",
   "nbconvert_exporter": "python",
   "pygments_lexer": "ipython3",
   "version": "3.6.4"
  }
 },
 "nbformat": 4,
 "nbformat_minor": 2
}
