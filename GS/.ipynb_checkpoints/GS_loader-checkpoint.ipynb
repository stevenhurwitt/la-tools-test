{
 "cells": [
  {
   "cell_type": "markdown",
   "metadata": {},
   "source": [
    "# GS Loader"
   ]
  },
  {
   "cell_type": "code",
   "execution_count": 15,
   "metadata": {},
   "outputs": [
    {
     "data": {
      "text/plain": [
       "'C:\\\\Users\\\\wb5888\\\\Documents\\\\la-tools-test\\\\GS'"
      ]
     },
     "execution_count": 15,
     "metadata": {},
     "output_type": "execute_result"
    }
   ],
   "source": [
    "import pandas as pd\n",
    "import numpy as np\n",
    "import matplotlib as plt\n",
    "import datetime as dt\n",
    "import xlrd\n",
    "import os\n",
    "import json\n",
    "os.getcwd()"
   ]
  },
  {
   "cell_type": "code",
   "execution_count": 16,
   "metadata": {},
   "outputs": [
    {
     "data": {
      "text/html": [
       "<div>\n",
       "<style scoped>\n",
       "    .dataframe tbody tr th:only-of-type {\n",
       "        vertical-align: middle;\n",
       "    }\n",
       "\n",
       "    .dataframe tbody tr th {\n",
       "        vertical-align: top;\n",
       "    }\n",
       "\n",
       "    .dataframe thead th {\n",
       "        text-align: right;\n",
       "    }\n",
       "</style>\n",
       "<table border=\"1\" class=\"dataframe\">\n",
       "  <thead>\n",
       "    <tr style=\"text-align: right;\">\n",
       "      <th></th>\n",
       "      <th>MARKET</th>\n",
       "      <th>DISCO_CODE</th>\n",
       "      <th>LDC_ACCOUNT_NUMBER</th>\n",
       "      <th>IDR_SCALAR</th>\n",
       "      <th>RATE_CLASS</th>\n",
       "      <th>RATE_SUBCLASS</th>\n",
       "      <th>LOSS_CLASS</th>\n",
       "      <th>ZONE</th>\n",
       "      <th>BUS</th>\n",
       "      <th>STRATA_VARIABLE</th>\n",
       "      <th>...</th>\n",
       "      <th>INTERMEDIATE USAGE</th>\n",
       "      <th>TOTAL USAGE_KWH</th>\n",
       "      <th>USAGE UOM</th>\n",
       "      <th>METER READ TYPE</th>\n",
       "      <th>ON-PEAK DEMAND</th>\n",
       "      <th>OFF-PEAK DEMAND</th>\n",
       "      <th>INTERMEDIATE DEMAND</th>\n",
       "      <th>TOTAL DEMAND_KW</th>\n",
       "      <th>DEMAND UOM</th>\n",
       "      <th>CURRENT_RATE_OPTION</th>\n",
       "    </tr>\n",
       "  </thead>\n",
       "  <tbody>\n",
       "    <tr>\n",
       "      <th>0</th>\n",
       "      <td>NaN</td>\n",
       "      <td>NaN</td>\n",
       "      <td>NaN</td>\n",
       "      <td>SCALAR</td>\n",
       "      <td>NaN</td>\n",
       "      <td>NaN</td>\n",
       "      <td>NaN</td>\n",
       "      <td>SEMA</td>\n",
       "      <td>NaN</td>\n",
       "      <td>NaN</td>\n",
       "      <td>...</td>\n",
       "      <td>NaN</td>\n",
       "      <td>NaN</td>\n",
       "      <td>KWH\\n</td>\n",
       "      <td>H</td>\n",
       "      <td>NaN</td>\n",
       "      <td>NaN</td>\n",
       "      <td>NaN</td>\n",
       "      <td>0</td>\n",
       "      <td>KW\\n</td>\n",
       "      <td>NaN</td>\n",
       "    </tr>\n",
       "    <tr>\n",
       "      <th>1</th>\n",
       "      <td>NaN</td>\n",
       "      <td>NaN</td>\n",
       "      <td>NaN</td>\n",
       "      <td>SCALAR</td>\n",
       "      <td>NaN</td>\n",
       "      <td>NaN</td>\n",
       "      <td>NaN</td>\n",
       "      <td>SEMA</td>\n",
       "      <td>NaN</td>\n",
       "      <td>NaN</td>\n",
       "      <td>...</td>\n",
       "      <td>NaN</td>\n",
       "      <td>NaN</td>\n",
       "      <td>KWH\\n</td>\n",
       "      <td>H</td>\n",
       "      <td>NaN</td>\n",
       "      <td>NaN</td>\n",
       "      <td>NaN</td>\n",
       "      <td>0</td>\n",
       "      <td>KW\\n</td>\n",
       "      <td>NaN</td>\n",
       "    </tr>\n",
       "    <tr>\n",
       "      <th>2</th>\n",
       "      <td>NaN</td>\n",
       "      <td>NaN</td>\n",
       "      <td>NaN</td>\n",
       "      <td>SCALAR</td>\n",
       "      <td>NaN</td>\n",
       "      <td>NaN</td>\n",
       "      <td>NaN</td>\n",
       "      <td>SEMA</td>\n",
       "      <td>NaN</td>\n",
       "      <td>NaN</td>\n",
       "      <td>...</td>\n",
       "      <td>NaN</td>\n",
       "      <td>NaN</td>\n",
       "      <td>KWH\\n</td>\n",
       "      <td>H</td>\n",
       "      <td>NaN</td>\n",
       "      <td>NaN</td>\n",
       "      <td>NaN</td>\n",
       "      <td>0</td>\n",
       "      <td>KW\\n</td>\n",
       "      <td>NaN</td>\n",
       "    </tr>\n",
       "    <tr>\n",
       "      <th>3</th>\n",
       "      <td>NaN</td>\n",
       "      <td>NaN</td>\n",
       "      <td>NaN</td>\n",
       "      <td>SCALAR</td>\n",
       "      <td>NaN</td>\n",
       "      <td>NaN</td>\n",
       "      <td>NaN</td>\n",
       "      <td>SEMA</td>\n",
       "      <td>NaN</td>\n",
       "      <td>NaN</td>\n",
       "      <td>...</td>\n",
       "      <td>NaN</td>\n",
       "      <td>NaN</td>\n",
       "      <td>KWH\\n</td>\n",
       "      <td>H</td>\n",
       "      <td>NaN</td>\n",
       "      <td>NaN</td>\n",
       "      <td>NaN</td>\n",
       "      <td>0</td>\n",
       "      <td>KW\\n</td>\n",
       "      <td>NaN</td>\n",
       "    </tr>\n",
       "    <tr>\n",
       "      <th>4</th>\n",
       "      <td>NaN</td>\n",
       "      <td>NaN</td>\n",
       "      <td>NaN</td>\n",
       "      <td>SCALAR</td>\n",
       "      <td>NaN</td>\n",
       "      <td>NaN</td>\n",
       "      <td>NaN</td>\n",
       "      <td>SEMA</td>\n",
       "      <td>NaN</td>\n",
       "      <td>NaN</td>\n",
       "      <td>...</td>\n",
       "      <td>NaN</td>\n",
       "      <td>NaN</td>\n",
       "      <td>KWH\\n</td>\n",
       "      <td>H</td>\n",
       "      <td>NaN</td>\n",
       "      <td>NaN</td>\n",
       "      <td>NaN</td>\n",
       "      <td>0</td>\n",
       "      <td>KW\\n</td>\n",
       "      <td>NaN</td>\n",
       "    </tr>\n",
       "  </tbody>\n",
       "</table>\n",
       "<p>5 rows × 38 columns</p>\n",
       "</div>"
      ],
      "text/plain": [
       "   MARKET  DISCO_CODE  LDC_ACCOUNT_NUMBER IDR_SCALAR  RATE_CLASS  \\\n",
       "0     NaN         NaN                 NaN     SCALAR         NaN   \n",
       "1     NaN         NaN                 NaN     SCALAR         NaN   \n",
       "2     NaN         NaN                 NaN     SCALAR         NaN   \n",
       "3     NaN         NaN                 NaN     SCALAR         NaN   \n",
       "4     NaN         NaN                 NaN     SCALAR         NaN   \n",
       "\n",
       "   RATE_SUBCLASS  LOSS_CLASS  ZONE  BUS  STRATA_VARIABLE  ...  \\\n",
       "0            NaN         NaN  SEMA  NaN              NaN  ...   \n",
       "1            NaN         NaN  SEMA  NaN              NaN  ...   \n",
       "2            NaN         NaN  SEMA  NaN              NaN  ...   \n",
       "3            NaN         NaN  SEMA  NaN              NaN  ...   \n",
       "4            NaN         NaN  SEMA  NaN              NaN  ...   \n",
       "\n",
       "   INTERMEDIATE USAGE  TOTAL USAGE_KWH USAGE UOM METER READ TYPE  \\\n",
       "0                 NaN              NaN     KWH\\n               H   \n",
       "1                 NaN              NaN     KWH\\n               H   \n",
       "2                 NaN              NaN     KWH\\n               H   \n",
       "3                 NaN              NaN     KWH\\n               H   \n",
       "4                 NaN              NaN     KWH\\n               H   \n",
       "\n",
       "  ON-PEAK DEMAND OFF-PEAK DEMAND  INTERMEDIATE DEMAND  TOTAL DEMAND_KW  \\\n",
       "0            NaN             NaN                  NaN                0   \n",
       "1            NaN             NaN                  NaN                0   \n",
       "2            NaN             NaN                  NaN                0   \n",
       "3            NaN             NaN                  NaN                0   \n",
       "4            NaN             NaN                  NaN                0   \n",
       "\n",
       "  DEMAND UOM CURRENT_RATE_OPTION  \n",
       "0       KW\\n                 NaN  \n",
       "1       KW\\n                 NaN  \n",
       "2       KW\\n                 NaN  \n",
       "3       KW\\n                 NaN  \n",
       "4       KW\\n                 NaN  \n",
       "\n",
       "[5 rows x 38 columns]"
      ]
     },
     "execution_count": 16,
     "metadata": {},
     "output_type": "execute_result"
    }
   ],
   "source": [
    "gs_template = pd.read_excel('GS_template.xls')\n",
    "gs_template.head()"
   ]
  },
  {
   "cell_type": "code",
   "execution_count": 17,
   "metadata": {},
   "outputs": [],
   "source": [
    "n = gs_template.shape[0]\n",
    "market = 'NEPOOL'\n",
    "disco = 'MECO'\n",
    "ldc = 123456789\n",
    "idr = False\n",
    "rate = 'G2'\n",
    "loss = 'G2'\n",
    "profile = 'G2'\n",
    "mrc = 10\n",
    "cap_tag = 15.87\n",
    "tpt = 0\n",
    "\n",
    "fname = ''.join(['GS_', market, '_', disco, '_', str(ldc), '.xls'])"
   ]
  },
  {
   "cell_type": "code",
   "execution_count": 18,
   "metadata": {},
   "outputs": [
    {
     "data": {
      "text/plain": [
       "'GS_NEPOOL_MECO_123456789.xls'"
      ]
     },
     "execution_count": 18,
     "metadata": {},
     "output_type": "execute_result"
    }
   ],
   "source": [
    "fname"
   ]
  },
  {
   "cell_type": "code",
   "execution_count": 28,
   "metadata": {},
   "outputs": [
    {
     "data": {
      "text/plain": [
       "datetime.datetime(2019, 12, 23, 14, 41, 8, 516430)"
      ]
     },
     "execution_count": 28,
     "metadata": {},
     "output_type": "execute_result"
    }
   ],
   "source": [
    "today = dt.datetime.today()\n",
    "stop_dates = []\n",
    "\n",
    "if today.day >= mrc:\n",
    "    \n",
    "\n",
    "for i in range(n):\n",
    "    stop_date = stop_dates[i-1] - dt.timedelta(days = 30)"
   ]
  },
  {
   "cell_type": "code",
   "execution_count": null,
   "metadata": {},
   "outputs": [],
   "source": [
    "if today.day >= mrc:\n",
    "    last_date = \n",
    "    \n",
    "for i in range(n):\n",
    "    stop_date = stop_dates[i-1] - dt.timedelta(days = 30)"
   ]
  },
  {
   "cell_type": "code",
   "execution_count": null,
   "metadata": {},
   "outputs": [],
   "source": []
  },
  {
   "cell_type": "code",
   "execution_count": null,
   "metadata": {},
   "outputs": [],
   "source": []
  }
 ],
 "metadata": {
  "kernelspec": {
   "display_name": "Python 3",
   "language": "python",
   "name": "python3"
  },
  "language_info": {
   "codemirror_mode": {
    "name": "ipython",
    "version": 3
   },
   "file_extension": ".py",
   "mimetype": "text/x-python",
   "name": "python",
   "nbconvert_exporter": "python",
   "pygments_lexer": "ipython3",
   "version": "3.7.6"
  }
 },
 "nbformat": 4,
 "nbformat_minor": 2
}
